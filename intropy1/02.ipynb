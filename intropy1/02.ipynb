{
 "cells": [
  {
   "cell_type": "markdown",
   "metadata": {},
   "source": [
    "# Comprehending Comprehensions"
   ]
  },
  {
   "cell_type": "markdown",
   "metadata": {},
   "source": [
    "By now, we'vge written a few `for` loops. Broadly speaking, these loops: \n",
    "\n",
    "1. Using each object in a collection of objects,\n",
    "2. Do something with the item, either changing its value, or using its value to change other things\n",
    "3. Output a final data structure or object\n",
    "\n",
    "When you program, this is the kind of stuff that you do a LOT. Because programmers are lazy, we get frustrated when we have to type the same stuff over and over again, especially if this *design pattern* is used a lot. "
   ]
  },
  {
   "cell_type": "code",
   "execution_count": 1,
   "metadata": {
    "collapsed": false
   },
   "outputs": [
    {
     "name": "stdout",
     "output_type": "stream",
     "text": [
      "0\n",
      "1\n",
      "2\n",
      "3\n",
      "4\n",
      "5\n",
      "6\n",
      "7\n",
      "8\n",
      "9\n",
      "[(0, '0'), (1, '1'), (4, '2'), (9, '3'), (16, '4'), (25, '5'), (36, '6'), (49, '7'), (64, '8'), (81, '9')]\n"
     ]
    }
   ],
   "source": [
    "collection = range(10)\n",
    "results = []\n",
    "for item in collection:\n",
    "    results.append((item **2, str(item)))\n",
    "    print item\n",
    "print results"
   ]
  },
  {
   "cell_type": "markdown",
   "metadata": {},
   "source": [
    "To save space and be a bit more readable, python programmers developed the *comprehension* syntax. This is just a shortening of the regular `for` loop structure we discuss above. We can make the same results list using a list comprehension:"
   ]
  },
  {
   "cell_type": "code",
   "execution_count": 4,
   "metadata": {
    "collapsed": false
   },
   "outputs": [
    {
     "data": {
      "text/plain": [
       "[(0, '0'),\n",
       " (1, '1'),\n",
       " (4, '2'),\n",
       " (9, '3'),\n",
       " (16, '4'),\n",
       " (25, '5'),\n",
       " (36, '6'),\n",
       " (49, '7'),\n",
       " (64, '8'),\n",
       " (81, '9')]"
      ]
     },
     "execution_count": 4,
     "metadata": {},
     "output_type": "execute_result"
    }
   ],
   "source": [
    "[(item**2, str(item)) for item in range(10)]"
   ]
  },
  {
   "cell_type": "markdown",
   "metadata": {},
   "source": [
    "Let's break this down:"
   ]
  },
  {
   "cell_type": "code",
   "execution_count": 5,
   "metadata": {
    "collapsed": false
   },
   "outputs": [
    {
     "data": {
      "image/png": "[encoded data removed]",
      "text/plain": [
       "<IPython.core.display.Image object>"
      ]
     },
     "execution_count": 5,
     "metadata": {},
     "output_type": "execute_result"
    }
   ],
   "source": [
    "from IPython.display import Image\n",
    "Image(filename='blank_list_comp.png')"
   ]
  },
  {
   "cell_type": "markdown",
   "metadata": {},
   "source": [
    "### Problem: Self Improvement I"
   ]
  },
  {
   "cell_type": "markdown",
   "metadata": {},
   "source": [
    "Below is a `for` loop we wrote before. Rewrite it as a list comprehension."
   ]
  },
  {
   "cell_type": "code",
   "execution_count": 19,
   "metadata": {
    "collapsed": false
   },
   "outputs": [],
   "source": [
    "#not this cell, the next cell\n",
    "f_counties = open('counties.txt')\n",
    "import csv\n",
    "cty = csv.reader(f_counties)\n",
    "cty.next();"
   ]
  },
  {
   "cell_type": "code",
   "execution_count": 20,
   "metadata": {
    "collapsed": false
   },
   "outputs": [],
   "source": [
    "counties = []\n",
    "for line in cty:\n",
    "    counties.append(line[4])"
   ]
  },
  {
   "cell_type": "code",
   "execution_count": 21,
   "metadata": {
    "collapsed": true
   },
   "outputs": [],
   "source": [
    "#not this cell, the next cell\n",
    "f_counties = open('counties.txt')\n",
    "import csv\n",
    "cty = csv.reader(f_counties)\n",
    "cty.next();"
   ]
  },
  {
   "cell_type": "code",
   "execution_count": 22,
   "metadata": {
    "collapsed": true
   },
   "outputs": [],
   "source": [
    "counties2 = [line[4] for line in cty]"
   ]
  },
  {
   "cell_type": "code",
   "execution_count": 23,
   "metadata": {
    "collapsed": false
   },
   "outputs": [
    {
     "data": {
      "text/plain": [
       "True"
      ]
     },
     "execution_count": 23,
     "metadata": {},
     "output_type": "execute_result"
    }
   ],
   "source": [
    "counties == counties2"
   ]
  },
  {
   "cell_type": "markdown",
   "metadata": {},
   "source": [
    "The important thing to note with comprehension syntax is that it's really able to construct *any* data structure from a constructor. That is:"
   ]
  },
  {
   "cell_type": "code",
   "execution_count": 15,
   "metadata": {
    "collapsed": false
   },
   "outputs": [
    {
     "data": {
      "text/plain": [
       "True"
      ]
     },
     "execution_count": 15,
     "metadata": {},
     "output_type": "execute_result"
    }
   ],
   "source": [
    "[(item**2, str(item)) for item in range(10)] == list( (item**2, str(item)) for item in range(10) )"
   ]
  },
  {
   "cell_type": "markdown",
   "metadata": {},
   "source": [
    "The only catch is that lists and dictionaries are the only datatypes that benefit from having clear, unambiguous symbols for their \"bracketing,\" or `[]` and `{}`. "
   ]
  },
  {
   "cell_type": "markdown",
   "metadata": {},
   "source": [
    "### Example: Self Improvement II"
   ]
  },
  {
   "cell_type": "markdown",
   "metadata": {},
   "source": [
    "Before, we made a dictionary using a collection of elements by iterating over the elements. Now, let's try and use a dict comprehension!"
   ]
  },
  {
   "cell_type": "markdown",
   "metadata": {},
   "source": [
    "First off, recall the counting dictionary we built last time:"
   ]
  },
  {
   "cell_type": "code",
   "execution_count": 20,
   "metadata": {
    "collapsed": false
   },
   "outputs": [],
   "source": [
    "d = {}\n",
    "for county in counties:\n",
    "    #if we've havent seen it before:\n",
    "    if county not in d:\n",
    "        d.update({county: 1})\n",
    "    #if we HAVE seen it before:\n",
    "    else:\n",
    "        d[county] += 1"
   ]
  },
  {
   "cell_type": "markdown",
   "metadata": {},
   "source": [
    "In essence, what this does is:\n",
    "\n",
    "1. pick a county name from the list\n",
    "2. determine if we've seen this county name before\n",
    "4. if we haven't seen it before, add it to the dictionary and start its count at 1\n",
    "3. if we have seen it before, add 1 to its count\n",
    "\n",
    "There is a list method we could *also* have used to do this: \n",
    "\n",
    "        counties.count('Monroe County')\n",
    "        \n",
    "This method will tell you the number of times a key occurs in the list. Using this method, we can construct a *dictionary comprehension* to do this in one step, in one line."
   ]
  },
  {
   "cell_type": "code",
   "execution_count": 26,
   "metadata": {
    "collapsed": true
   },
   "outputs": [],
   "source": [
    "l = [3,3,3,3,4,5,2,2,2]"
   ]
  },
  {
   "cell_type": "code",
   "execution_count": 27,
   "metadata": {
    "collapsed": false
   },
   "outputs": [
    {
     "data": {
      "text/plain": [
       "3"
      ]
     },
     "execution_count": 27,
     "metadata": {},
     "output_type": "execute_result"
    }
   ],
   "source": [
    "l.count(2)"
   ]
  },
  {
   "cell_type": "code",
   "execution_count": 28,
   "metadata": {
    "collapsed": false
   },
   "outputs": [
    {
     "data": {
      "text/plain": [
       "1"
      ]
     },
     "execution_count": 28,
     "metadata": {},
     "output_type": "execute_result"
    }
   ],
   "source": [
    "l.count(5)"
   ]
  },
  {
   "cell_type": "code",
   "execution_count": 33,
   "metadata": {
    "collapsed": false
   },
   "outputs": [
    {
     "data": {
      "text/plain": [
       "{'Monroe County': 17}"
      ]
     },
     "execution_count": 33,
     "metadata": {},
     "output_type": "execute_result"
    }
   ],
   "source": [
    "{ 'Monroe County': counties.count('Monroe County') }"
   ]
  },
  {
   "cell_type": "code",
   "execution_count": 31,
   "metadata": {
    "collapsed": false
   },
   "outputs": [],
   "source": [
    "results = { name:counties.count(name) for name in set(counties)}"
   ]
  },
  {
   "cell_type": "code",
   "execution_count": 32,
   "metadata": {
    "collapsed": false
   },
   "outputs": [
    {
     "data": {
      "text/plain": [
       "{'Yancey County': 1,\n",
       " 'Carson County': 1,\n",
       " 'Monroe County': 17,\n",
       " 'Hood River County': 1,\n",
       " 'Doniphan County': 1,\n",
       " 'Minidoka County': 1,\n",
       " 'Pasquotank County': 1,\n",
       " 'Bolivar County': 1,\n",
       " 'Pittsburg County': 1,\n",
       " 'Dukes County': 1,\n",
       " 'Macoupin County': 1,\n",
       " 'Chemung County': 1,\n",
       " 'Alpena County': 1,\n",
       " 'Barber County': 1,\n",
       " 'Herkimer County': 1,\n",
       " 'Chicot County': 1,\n",
       " 'Monmouth County': 1,\n",
       " 'San Saba County': 1,\n",
       " 'Stephens County': 3,\n",
       " 'Kalkaska County': 1,\n",
       " 'Defiance County': 1,\n",
       " 'Iredell County': 1,\n",
       " 'Clinton County': 9,\n",
       " 'Ross County': 1,\n",
       " 'Holmes County': 3,\n",
       " 'Macon County': 6,\n",
       " 'Van Buren County': 4,\n",
       " 'Rapides Parish': 1,\n",
       " 'Delta County': 3,\n",
       " 'Christian County': 3,\n",
       " 'Heard County': 1,\n",
       " 'Pecos County': 1,\n",
       " 'Hunterdon County': 1,\n",
       " 'Laclede County': 1,\n",
       " 'Deuel County': 2,\n",
       " 'Moultrie County': 1,\n",
       " 'Yolo County': 1,\n",
       " 'Cecil County': 1,\n",
       " 'McCook County': 1,\n",
       " 'Broomfield County': 1,\n",
       " 'Sedgwick County': 2,\n",
       " 'Rabun County': 1,\n",
       " 'Grayson County': 3,\n",
       " 'Pope County': 3,\n",
       " 'Marengo County': 1,\n",
       " 'Spokane County': 1,\n",
       " 'Cape Girardeau County': 1,\n",
       " 'Hopkins County': 2,\n",
       " 'Ritchie County': 1,\n",
       " 'Edgefield County': 1,\n",
       " 'Belmont County': 1,\n",
       " 'Brantley County': 1,\n",
       " 'Inyo County': 1,\n",
       " 'Bailey County': 1,\n",
       " 'Vieques Municipio': 1,\n",
       " 'Swift County': 1,\n",
       " 'Kinney County': 1,\n",
       " 'Trigg County': 1,\n",
       " 'Dundy County': 1,\n",
       " 'Nuckolls County': 1,\n",
       " 'Gregg County': 1,\n",
       " 'Iberia Parish': 1,\n",
       " 'Navarro County': 1,\n",
       " 'Lenawee County': 1,\n",
       " 'Powell County': 2,\n",
       " 'Waseca County': 1,\n",
       " 'Ceiba Municipio': 1,\n",
       " 'Dickenson County': 1,\n",
       " 'DeKalb County': 6,\n",
       " 'Pontotoc County': 2,\n",
       " 'Banner County': 1,\n",
       " 'Gonzales County': 1,\n",
       " 'Pinellas County': 1,\n",
       " 'Vance County': 1,\n",
       " 'Jeff Davis County': 2,\n",
       " 'Dorado Municipio': 1,\n",
       " 'San Juan County': 4,\n",
       " 'Candler County': 1,\n",
       " 'Petersburg city': 1,\n",
       " 'Freeborn County': 1,\n",
       " 'Rutherford County': 2,\n",
       " 'Muscatine County': 1,\n",
       " 'Ray County': 1,\n",
       " 'Chattooga County': 1,\n",
       " 'Marlboro County': 1,\n",
       " 'Bartow County': 1,\n",
       " 'Dutchess County': 1,\n",
       " 'Little River County': 1,\n",
       " 'Cochran County': 1,\n",
       " 'Beauregard Parish': 1,\n",
       " 'Pennington County': 2,\n",
       " 'Southampton County': 1,\n",
       " 'Amite County': 1,\n",
       " 'Kidder County': 1,\n",
       " 'Stanly County': 1,\n",
       " 'Issaquena County': 1,\n",
       " 'Philadelphia County': 1,\n",
       " 'Vega Baja Municipio': 1,\n",
       " 'Nez Perce County': 1,\n",
       " 'Clallam County': 1,\n",
       " 'Santa Clara County': 1,\n",
       " 'Barren County': 1,\n",
       " 'Bannock County': 1,\n",
       " 'Sumter County': 4,\n",
       " 'Bowie County': 1,\n",
       " 'West Carroll Parish': 1,\n",
       " 'Sargent County': 1,\n",
       " 'Fannin County': 2,\n",
       " 'Jersey County': 1,\n",
       " 'Fentress County': 1,\n",
       " 'Oswego County': 1,\n",
       " 'Jones County': 6,\n",
       " 'Buckingham County': 1,\n",
       " 'Saginaw County': 1,\n",
       " 'Berks County': 1,\n",
       " 'Oregon County': 1,\n",
       " 'Frederick County': 2,\n",
       " 'Cannon County': 1,\n",
       " 'Atchison County': 2,\n",
       " 'Dent County': 1,\n",
       " 'Greene County': 14,\n",
       " 'Franklin Parish': 1,\n",
       " 'Bell County': 2,\n",
       " 'Taos County': 1,\n",
       " 'Ste. Genevieve County': 1,\n",
       " 'Rincon Municipio': 1,\n",
       " 'Geary County': 1,\n",
       " 'Sanilac County': 1,\n",
       " 'Harvey County': 1,\n",
       " 'Evans County': 1,\n",
       " 'Gilliam County': 1,\n",
       " 'Juab County': 1,\n",
       " 'Bladen County': 1,\n",
       " 'Walton County': 2,\n",
       " 'New York County': 1,\n",
       " 'Bergen County': 1,\n",
       " 'St. Tammany Parish': 1,\n",
       " 'St. Croix County': 1,\n",
       " 'Somerset County': 4,\n",
       " 'Pueblo County': 1,\n",
       " 'Colbert County': 1,\n",
       " 'Josephine County': 1,\n",
       " 'Anne Arundel County': 1,\n",
       " 'Colquitt County': 1,\n",
       " 'Talbot County': 2,\n",
       " 'Dearborn County': 1,\n",
       " 'Gila County': 1,\n",
       " 'Pasco County': 1,\n",
       " 'Vigo County': 1,\n",
       " 'Berrien County': 2,\n",
       " 'Wilkin County': 1,\n",
       " 'Attala County': 1,\n",
       " 'McMullen County': 1,\n",
       " 'Lynchburg city': 1,\n",
       " 'Yuma County': 2,\n",
       " 'Tishomingo County': 1,\n",
       " 'Dauphin County': 1,\n",
       " 'Oldham County': 2,\n",
       " 'Amador County': 1,\n",
       " 'Latimer County': 1,\n",
       " 'Leelanau County': 1,\n",
       " 'Antrim County': 1,\n",
       " 'Multnomah County': 1,\n",
       " 'Kenai Peninsula Borough': 1,\n",
       " 'Beadle County': 1,\n",
       " 'Kanabec County': 1,\n",
       " 'Des Moines County': 1,\n",
       " 'Alger County': 1,\n",
       " 'Aibonito Municipio': 1,\n",
       " 'Susquehanna County': 1,\n",
       " 'Leon County': 2,\n",
       " 'Appanoose County': 1,\n",
       " 'Gray County': 2,\n",
       " 'Richland Parish': 1,\n",
       " 'Phelps County': 2,\n",
       " 'Barrow County': 1,\n",
       " 'La Salle County': 1,\n",
       " 'Hayes County': 1,\n",
       " 'Petersburg Census Area': 1,\n",
       " 'Lake County': 12,\n",
       " 'Covington County': 2,\n",
       " 'Kemper County': 1,\n",
       " 'Dunn County': 2,\n",
       " 'Staunton city': 1,\n",
       " 'Osage County': 3,\n",
       " 'Monterey County': 1,\n",
       " 'Valley County': 3,\n",
       " 'Bedford County': 3,\n",
       " 'Waushara County': 1,\n",
       " 'Swains Island': 1,\n",
       " 'Labette County': 1,\n",
       " 'Republic County': 1,\n",
       " 'Lee County': 12,\n",
       " 'Merrick County': 1,\n",
       " 'Leavenworth County': 1,\n",
       " \"O'Brien County\": 1,\n",
       " 'Gentry County': 1,\n",
       " 'Burnett County': 1,\n",
       " 'Carteret County': 1,\n",
       " 'Ballard County': 1,\n",
       " 'Kingfisher County': 1,\n",
       " 'Arecibo Municipio': 1,\n",
       " 'Sierra County': 2,\n",
       " 'Glades County': 1,\n",
       " 'St. Charles County': 1,\n",
       " 'Walworth County': 2,\n",
       " 'Hughes County': 2,\n",
       " 'Manistee County': 1,\n",
       " 'Telfair County': 1,\n",
       " 'Plymouth County': 2,\n",
       " 'Rio Arriba County': 1,\n",
       " 'Floyd County': 6,\n",
       " 'Winona County': 1,\n",
       " 'Brazos County': 1,\n",
       " 'Stillwater County': 1,\n",
       " 'Bennington County': 1,\n",
       " 'Kossuth County': 1,\n",
       " 'La Salle Parish': 1,\n",
       " 'Talladega County': 1,\n",
       " 'Panola County': 2,\n",
       " 'Jerome County': 1,\n",
       " 'Cooke County': 1,\n",
       " 'Calhoun County': 11,\n",
       " 'Orocovis Municipio': 1,\n",
       " 'Schuyler County': 3,\n",
       " 'Tuscola County': 1,\n",
       " 'Hopewell city': 1,\n",
       " 'New London County': 1,\n",
       " 'Humacao Municipio': 1,\n",
       " 'Ogle County': 1,\n",
       " 'Mecosta County': 1,\n",
       " 'Ector County': 1,\n",
       " 'Lajas Municipio': 1,\n",
       " 'Cumberland County': 8,\n",
       " 'Cook County': 3,\n",
       " 'Poinsett County': 1,\n",
       " 'Wilcox County': 2,\n",
       " 'Dubuque County': 1,\n",
       " 'Fleming County': 1,\n",
       " 'Anasco Municipio': 1,\n",
       " 'Dale County': 1,\n",
       " 'Ada County': 1,\n",
       " 'Kay County': 1,\n",
       " 'Wade Hampton Census Area': 1,\n",
       " 'Cayuga County': 1,\n",
       " 'Los Angeles County': 1,\n",
       " 'Riley County': 1,\n",
       " 'Toa Alta Municipio': 1,\n",
       " 'Lake and Peninsula Borough': 1,\n",
       " 'Norfolk County': 1,\n",
       " 'Reeves County': 1,\n",
       " 'Ashtabula County': 1,\n",
       " 'Routt County': 1,\n",
       " 'Shannon County': 2,\n",
       " 'LaMoure County': 1,\n",
       " 'Sequoyah County': 1,\n",
       " 'Sawyer County': 1,\n",
       " 'McDuffie County': 1,\n",
       " 'Durham County': 1,\n",
       " 'Terrebonne Parish': 1,\n",
       " 'Hansford County': 1,\n",
       " 'Contra Costa County': 1,\n",
       " 'Tillamook County': 1,\n",
       " 'Stewart County': 2,\n",
       " 'McCurtain County': 1,\n",
       " 'Merced County': 1,\n",
       " 'Jefferson Davis County': 1,\n",
       " 'Norton city': 1,\n",
       " 'Lincoln County': 23,\n",
       " 'Chase County': 2,\n",
       " 'Rockingham County': 3,\n",
       " 'Isabella County': 1,\n",
       " 'Avoyelles Parish': 1,\n",
       " 'Berkeley County': 2,\n",
       " 'Catawba County': 1,\n",
       " 'Coweta County': 1,\n",
       " 'Matagorda County': 1,\n",
       " 'Rooks County': 1,\n",
       " 'Costilla County': 1,\n",
       " 'Chesterfield County': 2,\n",
       " 'St. Martin Parish': 1,\n",
       " 'Gulf County': 1,\n",
       " 'Maverick County': 1,\n",
       " 'Prowers County': 1,\n",
       " 'McDonald County': 1,\n",
       " 'Wharton County': 1,\n",
       " 'Robeson County': 1,\n",
       " 'Olmsted County': 1,\n",
       " 'Dougherty County': 1,\n",
       " 'Burnet County': 1,\n",
       " 'Beaver County': 3,\n",
       " 'Towner County': 1,\n",
       " 'Pulaski County': 7,\n",
       " 'Hamlin County': 1,\n",
       " 'Wapello County': 1,\n",
       " 'Casey County': 1,\n",
       " 'Prentiss County': 1,\n",
       " 'Vernon County': 2,\n",
       " 'Sac County': 1,\n",
       " 'Ozaukee County': 1,\n",
       " 'Antelope County': 1,\n",
       " 'Clermont County': 1,\n",
       " 'Perry County': 10,\n",
       " 'Geneva County': 1,\n",
       " 'Pottawattamie County': 1,\n",
       " 'Citrus County': 1,\n",
       " 'Woodruff County': 1,\n",
       " 'Coamo Municipio': 1,\n",
       " 'Shenandoah County': 1,\n",
       " 'Alameda County': 1,\n",
       " 'Barnes County': 1,\n",
       " 'Childress County': 1,\n",
       " 'Richmond County': 4,\n",
       " 'Deschutes County': 1,\n",
       " 'Walsh County': 1,\n",
       " 'King and Queen County': 1,\n",
       " 'Bertie County': 1,\n",
       " 'Coleman County': 1,\n",
       " 'Atlantic County': 1,\n",
       " 'Bristol city': 1,\n",
       " 'Newberry County': 1,\n",
       " 'Guadalupe County': 2,\n",
       " 'Arthur County': 1,\n",
       " 'Hot Spring County': 1,\n",
       " 'Santa Rosa County': 1,\n",
       " 'Gaston County': 1,\n",
       " 'Goodhue County': 1,\n",
       " 'Bent County': 1,\n",
       " 'Meeker County': 1,\n",
       " 'Bowman County': 1,\n",
       " 'Sebastian County': 1,\n",
       " 'Gallia County': 1,\n",
       " 'Somervell County': 1,\n",
       " 'Franklin County': 24,\n",
       " 'Troup County': 1,\n",
       " 'Acadia Parish': 1,\n",
       " 'Harnett County': 1,\n",
       " 'Loudon County': 1,\n",
       " 'Becker County': 1,\n",
       " 'Bosque County': 1,\n",
       " 'Skamania County': 1,\n",
       " 'Barbour County': 2,\n",
       " 'Snyder County': 1,\n",
       " 'Bonneville County': 1,\n",
       " 'Yuba County': 1,\n",
       " 'Haralson County': 1,\n",
       " 'Tensas Parish': 1,\n",
       " 'Montgomery County': 18,\n",
       " 'Humphreys County': 2,\n",
       " 'Owsley County': 1,\n",
       " 'Northwest Arctic Borough': 1,\n",
       " 'Tripp County': 1,\n",
       " 'Mayaguez Municipio': 1,\n",
       " 'Tom Green County': 1,\n",
       " 'Treasure County': 1,\n",
       " 'Elliott County': 1,\n",
       " 'Barnstable County': 1,\n",
       " 'Prince of Wales-Hyder Census Area': 1,\n",
       " 'Schoharie County': 1,\n",
       " 'Tooele County': 1,\n",
       " 'Carlton County': 1,\n",
       " 'Miami-Dade County': 1,\n",
       " 'Lunenburg County': 1,\n",
       " 'Upson County': 1,\n",
       " 'Oliver County': 1,\n",
       " 'Mora County': 1,\n",
       " 'Penobscot County': 1,\n",
       " 'Cheyenne County': 3,\n",
       " 'Ripley County': 2,\n",
       " 'Southeast Fairbanks Census Area': 1,\n",
       " 'Tippah County': 1,\n",
       " 'Androscoggin County': 1,\n",
       " 'Boulder County': 1,\n",
       " 'La Paz County': 1,\n",
       " 'Morovis Municipio': 1,\n",
       " 'Coles County': 1,\n",
       " 'Bethel Census Area': 1,\n",
       " 'Gosper County': 1,\n",
       " 'Furnas County': 1,\n",
       " 'Cowley County': 1,\n",
       " 'Churchill County': 1,\n",
       " 'Skagway Municipality': 1,\n",
       " 'Yabucoa Municipio': 1,\n",
       " 'Benton County': 9,\n",
       " 'Dickens County': 1,\n",
       " 'Accomack County': 1,\n",
       " 'Smith County': 4,\n",
       " \"Queen Anne's County\": 1,\n",
       " 'Maui County': 1,\n",
       " 'Gibson County': 2,\n",
       " 'Lipscomb County': 1,\n",
       " 'Lumpkin County': 1,\n",
       " 'Gunnison County': 1,\n",
       " 'Utuado Municipio': 1,\n",
       " 'Surry County': 2,\n",
       " 'Stafford County': 2,\n",
       " 'Petroleum County': 1,\n",
       " 'Vernon Parish': 1,\n",
       " 'DeSoto County': 2,\n",
       " 'Pitkin County': 1,\n",
       " 'Breathitt County': 1,\n",
       " 'McKean County': 1,\n",
       " 'Pipestone County': 1,\n",
       " 'Dickey County': 1,\n",
       " 'Switzerland County': 1,\n",
       " 'Fredericksburg city': 1,\n",
       " 'Nowata County': 1,\n",
       " 'Cameron Parish': 1,\n",
       " 'Mountrail County': 1,\n",
       " 'Bryan County': 2,\n",
       " 'Litchfield County': 1,\n",
       " 'Neshoba County': 1,\n",
       " 'East Carroll Parish': 1,\n",
       " 'Pender County': 1,\n",
       " 'Colfax County': 2,\n",
       " 'San Augustine County': 1,\n",
       " 'Muskegon County': 1,\n",
       " 'Nassau County': 2,\n",
       " 'Roberts County': 2,\n",
       " 'Pittsylvania County': 1,\n",
       " 'Nolan County': 1,\n",
       " 'Meigs County': 2,\n",
       " 'Harney County': 1,\n",
       " 'Racine County': 1,\n",
       " 'Angelina County': 1,\n",
       " 'McDowell County': 2,\n",
       " 'Alexandria city': 1,\n",
       " 'Parke County': 1,\n",
       " 'Sequatchie County': 1,\n",
       " 'Bedford city': 1,\n",
       " 'Sullivan County': 6,\n",
       " 'Prince Edward County': 1,\n",
       " 'Tate County': 1,\n",
       " 'Perquimans County': 1,\n",
       " 'Stone County': 3,\n",
       " 'McDonough County': 1,\n",
       " 'Hampton County': 1,\n",
       " 'Randall County': 1,\n",
       " 'Dawes County': 1,\n",
       " 'Yates County': 1,\n",
       " 'Butt County': 1,\n",
       " 'Jefferson County': 25,\n",
       " 'Hardy County': 1,\n",
       " 'Martin County': 6,\n",
       " 'Roger Mills County': 1,\n",
       " 'St. Mary Parish': 1,\n",
       " 'Rockland County': 1,\n",
       " 'Gooding County': 1,\n",
       " 'James City County': 1,\n",
       " 'Grays Harbor County': 1,\n",
       " 'Clarendon County': 1,\n",
       " 'Waupaca County': 1,\n",
       " 'Butts County': 1,\n",
       " 'Chaves County': 1,\n",
       " 'Dallam County': 1,\n",
       " 'Nantucket County': 1,\n",
       " 'St. Bernard Parish': 1,\n",
       " 'Fairbanks North Star Borough': 1,\n",
       " 'Searcy County': 1,\n",
       " 'Western District': 1,\n",
       " 'Luzerne County': 1,\n",
       " 'Sonoma County': 1,\n",
       " 'Emmons County': 1,\n",
       " 'Malheur County': 1,\n",
       " 'Clear Creek County': 1,\n",
       " 'Noxubee County': 1,\n",
       " 'Canadian County': 1,\n",
       " 'Titus County': 1,\n",
       " 'Hancock County': 10,\n",
       " 'Charles County': 1,\n",
       " 'Carroll County': 13,\n",
       " 'Pawnee County': 3,\n",
       " 'Culebra Municipio': 1,\n",
       " 'Los Alamos County': 1,\n",
       " 'McHenry County': 2,\n",
       " 'Guaynabo Municipio': 1,\n",
       " 'Grand Traverse County': 1,\n",
       " 'Van Wert County': 1,\n",
       " 'Irion County': 1,\n",
       " 'McCulloch County': 1,\n",
       " 'Le Sueur County': 1,\n",
       " 'Weber County': 1,\n",
       " 'Green Lake County': 1,\n",
       " 'Phillips County': 4,\n",
       " 'Spartanburg County': 1,\n",
       " 'Volusia County': 1,\n",
       " 'Rankin County': 1,\n",
       " 'La Crosse County': 1,\n",
       " 'Wallowa County': 1,\n",
       " 'Audubon County': 1,\n",
       " 'Butte County': 3,\n",
       " 'Morris County': 3,\n",
       " 'Quebradillas Municipio': 1,\n",
       " 'Mohave County': 1,\n",
       " 'Edmunds County': 1,\n",
       " 'Onslow County': 1,\n",
       " 'Wyandotte County': 1,\n",
       " 'Knott County': 1,\n",
       " 'Manitowoc County': 1,\n",
       " 'Briscoe County': 1,\n",
       " 'Manatee County': 1,\n",
       " 'Shoshone County': 1,\n",
       " 'Allamakee County': 1,\n",
       " 'Silver Bow County': 1,\n",
       " 'Limestone County': 2,\n",
       " 'Westchester County': 1,\n",
       " 'Boone County': 8,\n",
       " 'Scotts Bluff County': 1,\n",
       " 'Charlton County': 1,\n",
       " 'Wabaunsee County': 1,\n",
       " 'Aguadilla Municipio': 1,\n",
       " 'Jennings County': 1,\n",
       " 'Kenton County': 1,\n",
       " 'Buena Vista County': 1,\n",
       " 'Oneida County': 3,\n",
       " 'Colusa County': 1,\n",
       " 'Powder River County': 1,\n",
       " 'Wilkinson County': 2,\n",
       " 'Independence County': 1,\n",
       " 'Northampton County': 3,\n",
       " 'Ouachita County': 1,\n",
       " 'Dixon County': 1,\n",
       " 'White County': 5,\n",
       " 'Ben Hill County': 1,\n",
       " 'St. Louis County': 2,\n",
       " 'Kingman County': 1,\n",
       " 'Guernsey County': 1,\n",
       " 'Cortland County': 1,\n",
       " 'Fauquier County': 1,\n",
       " 'Long County': 1,\n",
       " 'Mahoning County': 1,\n",
       " 'Barry County': 2,\n",
       " 'Dimmit County': 1,\n",
       " 'Bonner County': 1,\n",
       " 'Buena Vista city': 1,\n",
       " 'Sharkey County': 1,\n",
       " 'Deer Lodge County': 1,\n",
       " 'Anchorage Municipality': 1,\n",
       " 'Gadsden County': 1,\n",
       " 'Frio County': 1,\n",
       " 'Sioux County': 3,\n",
       " 'Leslie County': 1,\n",
       " 'Itasca County': 1,\n",
       " 'Fergus County': 1,\n",
       " 'Swain County': 1,\n",
       " 'Richardson County': 1,\n",
       " 'Rolette County': 1,\n",
       " 'San Francisco County': 1,\n",
       " 'Wheatland County': 1,\n",
       " 'Missoula County': 1,\n",
       " 'Mahaska County': 1,\n",
       " 'Gillespie County': 1,\n",
       " 'Siskiyou County': 1,\n",
       " 'Chippewa County': 3,\n",
       " 'San Mateo County': 1,\n",
       " 'Kiowa County': 3,\n",
       " 'Escambia County': 2,\n",
       " 'Juneau County': 1,\n",
       " 'Salinas Municipio': 1,\n",
       " 'Cuyahoga County': 1,\n",
       " 'Millard County': 1,\n",
       " 'Oconto County': 1,\n",
       " 'Caroline County': 2,\n",
       " 'Lubbock County': 1,\n",
       " 'St. James Parish': 1,\n",
       " 'Kalamazoo County': 1,\n",
       " 'Otter Tail County': 1,\n",
       " 'Platte County': 3,\n",
       " 'Darke County': 1,\n",
       " 'Westmoreland County': 2,\n",
       " 'Meriwether County': 1,\n",
       " 'Chelan County': 1,\n",
       " 'Tolland County': 1,\n",
       " 'Hooker County': 1,\n",
       " 'Menard County': 2,\n",
       " 'Burleigh County': 1,\n",
       " 'Maury County': 1,\n",
       " 'Schley County': 1,\n",
       " 'Yauco Municipio': 1,\n",
       " 'Rock County': 3,\n",
       " 'Cattaraugus County': 1,\n",
       " 'Lea County': 1,\n",
       " 'Redwood County': 1,\n",
       " 'Ida County': 1,\n",
       " 'Goshen County': 1,\n",
       " 'Barranquitas Municipio': 1,\n",
       " 'Gem County': 1,\n",
       " 'Huntingdon County': 1,\n",
       " 'Kit Carson County': 1,\n",
       " 'Shasta County': 1,\n",
       " 'Braxton County': 1,\n",
       " 'Palm Beach County': 1,\n",
       " 'Humboldt County': 3,\n",
       " 'Parmer County': 1,\n",
       " 'Barceloneta Municipio': 1,\n",
       " 'Calloway County': 1,\n",
       " 'Esmeralda County': 1,\n",
       " 'Pointe Coupee Parish': 1,\n",
       " 'Calvert County': 1,\n",
       " 'Calumet County': 1,\n",
       " 'Dillingham Census Area': 1,\n",
       " 'Henderson County': 5,\n",
       " 'Wise County': 2,\n",
       " 'Grundy County': 4,\n",
       " 'Del Norte County': 1,\n",
       " 'Bath County': 2,\n",
       " 'Dickinson County': 3,\n",
       " 'Lebanon County': 1,\n",
       " 'Arenac County': 1,\n",
       " 'Hardee County': 1,\n",
       " 'Trimble County': 1,\n",
       " 'Crisp County': 1,\n",
       " 'DuPage County': 1,\n",
       " 'Kauai County': 1,\n",
       " 'Crane County': 1,\n",
       " 'Craven County': 1,\n",
       " 'Aitkin County': 1,\n",
       " 'Cottle County': 1,\n",
       " 'Jessamine County': 1,\n",
       " 'Sanborn County': 1,\n",
       " 'Laramie County': 1,\n",
       " 'Suffolk city': 1,\n",
       " 'Williamsburg city': 1,\n",
       " 'Appling County': 1,\n",
       " 'St. Landry Parish': 1,\n",
       " 'Kershaw County': 1,\n",
       " 'Elk County': 2,\n",
       " 'Lenoir County': 1,\n",
       " 'New Hanover County': 1,\n",
       " 'Plumas County': 1,\n",
       " 'Claiborne Parish': 1,\n",
       " 'Cocke County': 1,\n",
       " 'Taylor County': 7,\n",
       " 'Red River Parish': 1,\n",
       " 'McLeod County': 1,\n",
       " 'Grant Parish': 1,\n",
       " 'Bremer County': 1,\n",
       " 'Broome County': 1,\n",
       " 'Lynn County': 1,\n",
       " 'Mower County': 1,\n",
       " 'Bristol Bay Borough': 1,\n",
       " 'Maricao Municipio': 1,\n",
       " 'Natrona County': 1,\n",
       " 'McKinley County': 1,\n",
       " 'Seminole County': 3,\n",
       " 'Chenango County': 1,\n",
       " 'Harlan County': 2,\n",
       " 'Augusta County': 1,\n",
       " 'Bandera County': 1,\n",
       " 'Hall County': 3,\n",
       " 'Lackawanna County': 1,\n",
       " 'Deaf Smith County': 1,\n",
       " 'Harper County': 2,\n",
       " 'Starke County': 1,\n",
       " 'Colonial Heights city': 1,\n",
       " 'Raleigh County': 1,\n",
       " 'Yadkin County': 1,\n",
       " 'Nottoway County': 1,\n",
       " 'Judith Basin County': 1,\n",
       " 'Greeley County': 2,\n",
       " 'Mason County': 6,\n",
       " 'Eaton County': 1,\n",
       " 'Wyandot County': 1,\n",
       " 'Parker County': 1,\n",
       " 'Griggs County': 1,\n",
       " 'Sublette County': 1,\n",
       " 'St. Thomas Island': 1,\n",
       " 'Stoddard County': 1,\n",
       " 'Charleston County': 1,\n",
       " 'Honolulu County': 1,\n",
       " 'Hempstead County': 1,\n",
       " 'Kewaunee County': 1,\n",
       " 'Walla Walla County': 1,\n",
       " 'Sherburne County': 1,\n",
       " 'Adjuntas Municipio': 1,\n",
       " 'Elkhart County': 1,\n",
       " 'Sunflower County': 1,\n",
       " 'Comerio Municipio': 1,\n",
       " 'Fayette County': 11,\n",
       " 'Ontario County': 1,\n",
       " 'Assumption Parish': 1,\n",
       " 'San Joaquin County': 1,\n",
       " 'Waldo County': 1,\n",
       " 'District of Columbia': 1,\n",
       " 'Hartford County': 1,\n",
       " 'Dane County': 1,\n",
       " 'Hennepin County': 1,\n",
       " 'Clare County': 1,\n",
       " 'Menominee County': 2,\n",
       " 'Schenectady County': 1,\n",
       " 'Bristol County': 2,\n",
       " 'Hemphill County': 1,\n",
       " 'Glynn County': 1,\n",
       " 'Allegheny County': 1,\n",
       " 'Washoe County': 1,\n",
       " 'Lassen County': 1,\n",
       " 'Roanoke city': 1,\n",
       " 'Fulton County': 8,\n",
       " 'Oglethorpe County': 1,\n",
       " 'Lanier County': 1,\n",
       " 'Carlisle County': 1,\n",
       " 'Hood County': 1,\n",
       " 'Johnson County': 12,\n",
       " 'Muscogee County': 1,\n",
       " 'Granite County': 1,\n",
       " 'McKenzie County': 1,\n",
       " 'Vilas County': 1,\n",
       " 'Botetourt County': 1,\n",
       " 'Arlington County': 1,\n",
       " 'Tucker County': 1,\n",
       " 'Hoonah-Angoon Census Area': 1,\n",
       " 'Galax city': 1,\n",
       " 'Dona Ana County': 1,\n",
       " 'Rains County': 1,\n",
       " 'Suwannee County': 1,\n",
       " 'Guthrie County': 1,\n",
       " 'Saunders County': 1,\n",
       " 'Pondera County': 1,\n",
       " 'Fort Bend County': 1,\n",
       " 'Morrow County': 2,\n",
       " 'Sutter County': 1,\n",
       " 'Washita County': 1,\n",
       " 'Klamath County': 1,\n",
       " 'Kearney County': 1,\n",
       " 'Williamsburg County': 1,\n",
       " 'Potter County': 3,\n",
       " 'Dillon County': 1,\n",
       " 'Ashley County': 1,\n",
       " 'Bradley County': 2,\n",
       " 'Woodbury County': 1,\n",
       " 'Geauga County': 1,\n",
       " 'Culberson County': 1,\n",
       " 'Lyman County': 1,\n",
       " 'Yankton County': 1,\n",
       " 'Mills County': 2,\n",
       " 'Liberty County': 4,\n",
       " 'Jefferson Parish': 1,\n",
       " 'Neosho County': 1,\n",
       " 'Woodson County': 1,\n",
       " 'Sanpete County': 1,\n",
       " 'Hand County': 1,\n",
       " 'Richland County': 6,\n",
       " 'Dorchester County': 2,\n",
       " 'Pratt County': 1,\n",
       " 'Leake County': 1,\n",
       " 'Sagadahoc County': 1,\n",
       " 'Napa County': 1,\n",
       " 'Love County': 1,\n",
       " 'Cleburne County': 2,\n",
       " 'Torrance County': 1,\n",
       " 'Gilchrist County': 1,\n",
       " 'Breckinridge County': 1,\n",
       " 'Cochise County': 1,\n",
       " 'Rawlins County': 1,\n",
       " 'Wibaux County': 1,\n",
       " 'San Miguel County': 2,\n",
       " 'Nance County': 1,\n",
       " 'Refugio County': 1,\n",
       " 'Blaine County': 4,\n",
       " 'York County': 5,\n",
       " 'Gallatin County': 3,\n",
       " 'Granville County': 1,\n",
       " 'Fillmore County': 2,\n",
       " 'Dickson County': 1,\n",
       " 'Allegany County': 2,\n",
       " 'Muskingum County': 1,\n",
       " 'Hardin County': 6,\n",
       " 'Saipan Municipality': 1,\n",
       " 'Columbiana County': 1,\n",
       " 'Custer County': 6,\n",
       " 'Bee County': 1,\n",
       " 'Richmond city': 1,\n",
       " 'Haywood County': 2,\n",
       " 'Broward County': 1,\n",
       " 'Burke County': 3,\n",
       " 'Hendricks County': 1,\n",
       " 'Stanley County': 1,\n",
       " 'El Paso County': 2,\n",
       " 'Falls County': 1,\n",
       " 'Hawkins County': 1,\n",
       " 'Jackson Parish': 1,\n",
       " 'Rockbridge County': 1,\n",
       " 'Moody County': 1,\n",
       " 'De Baca County': 1,\n",
       " 'King William County': 1,\n",
       " 'Rockwall County': 1,\n",
       " 'Hart County': 2,\n",
       " 'St. Francois County': 1,\n",
       " 'Marshall County': 12,\n",
       " 'Wood County': 4,\n",
       " 'Payne County': 1,\n",
       " 'Cabell County': 1,\n",
       " 'Presque Isle County': 1,\n",
       " 'St. John Island': 1,\n",
       " 'Hays County': 1,\n",
       " 'Box Elder County': 1,\n",
       " 'Emporia city': 1,\n",
       " 'Huerfano County': 1,\n",
       " 'Cassia County': 1,\n",
       " 'Meade County': 3,\n",
       " 'Cottonwood County': 1,\n",
       " 'Miner County': 1,\n",
       " 'Chowan County': 1,\n",
       " 'Castro County': 1,\n",
       " 'Red Willow County': 1,\n",
       " 'Boyle County': 1,\n",
       " 'Sitka City and Borough': 1,\n",
       " 'Webster County': 7,\n",
       " 'Kimble County': 1,\n",
       " 'Clayton County': 2,\n",
       " 'Catahoula Parish': 1,\n",
       " 'St. Charles Parish': 1,\n",
       " 'Mayes County': 1,\n",
       " 'Preble County': 1,\n",
       " 'Manati Municipio': 1,\n",
       " 'Bamberg County': 1,\n",
       " 'Luce County': 1,\n",
       " 'Clinch County': 1,\n",
       " 'Sweetwater County': 1,\n",
       " 'St. Francis County': 1,\n",
       " 'Ravalli County': 1,\n",
       " 'Denver County': 1,\n",
       " 'Snohomish County': 1,\n",
       " 'Daniels County': 1,\n",
       " 'Wahkiakum County': 1,\n",
       " 'Stonewall County': 1,\n",
       " 'Ciales Municipio': 1,\n",
       " 'Bulloch County': 1,\n",
       " 'Belknap County': 1,\n",
       " 'Cheatham County': 1,\n",
       " 'Montmorency County': 1,\n",
       " 'Fluvanna County': 1,\n",
       " 'Sarasota County': 1,\n",
       " 'Hot Springs County': 1,\n",
       " 'Corson County': 1,\n",
       " 'Towns County': 1,\n",
       " 'Wetzel County': 1,\n",
       " 'Big Stone County': 1,\n",
       " 'Cibola County': 1,\n",
       " 'Habersham County': 1,\n",
       " 'Butler County': 8,\n",
       " 'Highlands County': 1,\n",
       " 'Naguabo Municipio': 1,\n",
       " 'Smyth County': 1,\n",
       " 'Hampshire County': 2,\n",
       " 'Kendall County': 2,\n",
       " 'Aguada Municipio': 1,\n",
       " 'Elbert County': 2,\n",
       " 'Jerauld County': 1,\n",
       " 'Starr County': 1,\n",
       " 'Mingo County': 1,\n",
       " 'Benzie County': 1,\n",
       " 'Nye County': 1,\n",
       " 'Conway County': 1,\n",
       " 'Upshur County': 2,\n",
       " 'Atoka County': 1,\n",
       " 'Lexington County': 1,\n",
       " 'Wicomico County': 1,\n",
       " 'Ohio County': 3,\n",
       " 'Thurston County': 2,\n",
       " 'Schuylkill County': 1,\n",
       " 'Ouray County': 1,\n",
       " 'El Dorado County': 1,\n",
       " 'Live Oak County': 1,\n",
       " 'Ware County': 1,\n",
       " 'Houston County': 5,\n",
       " 'Trempealeau County': 1,\n",
       " 'Twin Falls County': 1,\n",
       " 'Isabela Municipio': 1,\n",
       " 'Wilkes County': 2,\n",
       " 'Beaufort County': 2,\n",
       " 'Hocking County': 1,\n",
       " 'Cooper County': 1,\n",
       " 'Uvalde County': 1,\n",
       " 'Grand Forks County': 1,\n",
       " 'Yellow Medicine County': 1,\n",
       " 'Tuolumne County': 1,\n",
       " 'Kern County': 1,\n",
       " 'Caguas Municipio': 1,\n",
       " 'Wilbarger County': 1,\n",
       " 'Taliaferro County': 1,\n",
       " 'Forsyth County': 2,\n",
       " 'Pleasants County': 1,\n",
       " 'Brazoria County': 1,\n",
       " 'Fountain County': 1,\n",
       " 'Todd County': 3,\n",
       " 'Doddridge County': 1,\n",
       " 'Tarrant County': 1,\n",
       " 'Covington city': 1,\n",
       " 'Murray County': 3,\n",
       " 'De Witt County': 1,\n",
       " 'Whitfield County': 1,\n",
       " 'Franklin city': 1,\n",
       " 'Jim Hogg County': 1,\n",
       " 'Traill County': 1,\n",
       " 'Okfuskee County': 1,\n",
       " 'Sheridan County': 5,\n",
       " 'Otoe County': 1,\n",
       " 'Tioga County': 2,\n",
       " 'Larue County': 1,\n",
       " 'Chesapeake city': 1,\n",
       " 'Monona County': 1,\n",
       " 'Spencer County': 2,\n",
       " 'Licking County': 1,\n",
       " 'Loving County': 1,\n",
       " 'Faribault County': 1,\n",
       " 'Cass County': 9,\n",
       " 'Screven County': 1,\n",
       " 'Trujillo Alto Municipio': 1,\n",
       " 'Graves County': 1,\n",
       " 'Forrest County': 1,\n",
       " 'Walker County': 3,\n",
       " \"Manu'a District\": 1,\n",
       " 'Colorado County': 1,\n",
       " 'Nueces County': 1,\n",
       " 'Spalding County': 1,\n",
       " 'Morton County': 2,\n",
       " 'Swisher County': 1,\n",
       " 'Henrico County': 1,\n",
       " 'Tinian Municipality': 1,\n",
       " 'Red River County': 1,\n",
       " 'Larimer County': 1,\n",
       " 'Lamar County': 4,\n",
       " 'St. Joseph County': 2,\n",
       " 'Iberville Parish': 1,\n",
       " 'Blair County': 1,\n",
       " 'Amelia County': 1,\n",
       " 'Ferry County': 1,\n",
       " 'Haskell County': 3,\n",
       " 'Niobrara County': 1,\n",
       " 'Indian River County': 1,\n",
       " 'Lafourche Parish': 1,\n",
       " 'Fremont County': 4,\n",
       " 'Nobles County': 1,\n",
       " 'Russell County': 4,\n",
       " 'Gilpin County': 1,\n",
       " 'Edmonson County': 1,\n",
       " 'Stark County': 3,\n",
       " 'Wagoner County': 1,\n",
       " 'Effingham County': 2,\n",
       " 'Buffalo County': 3,\n",
       " 'Shiawassee County': 1,\n",
       " 'Huntington County': 1,\n",
       " 'Toombs County': 1,\n",
       " 'Callaway County': 1,\n",
       " 'Rose Island': 1,\n",
       " 'Chattahoochee County': 1,\n",
       " 'Dubois County': 1,\n",
       " 'Genesee County': 2,\n",
       " 'Missaukee County': 1,\n",
       " 'Hillsborough County': 2,\n",
       " 'Arroyo Municipio': 1,\n",
       " 'Imperial County': 1,\n",
       " 'Gove County': 1,\n",
       " 'Caddo County': 1,\n",
       " 'Mecklenburg County': 2,\n",
       " 'Koochiching County': 1,\n",
       " 'Las Marias Municipio': 1,\n",
       " 'Modoc County': 1,\n",
       " 'Crook County': 2,\n",
       " 'Coosa County': 1,\n",
       " 'Charlottesville city': 1,\n",
       " 'Tulare County': 1,\n",
       " 'Daviess County': 3,\n",
       " 'Pinal County': 1,\n",
       " 'Bienville Parish': 1,\n",
       " 'Minnehaha County': 1,\n",
       " 'Obion County': 1,\n",
       " 'Pepin County': 1,\n",
       " 'Lemhi County': 1,\n",
       " 'Aroostook County': 1,\n",
       " 'Le Flore County': 1,\n",
       " 'Weston County': 1,\n",
       " 'Hinsdale County': 1,\n",
       " 'Stephenson County': 1,\n",
       " 'Suffolk County': 2,\n",
       " 'Mineral County': 4,\n",
       " 'Pushmataha County': 1,\n",
       " 'Providence County': 1,\n",
       " 'Washburn County': 1,\n",
       " 'Guilford County': 1,\n",
       " 'Person County': 1,\n",
       " 'Centre County': 1,\n",
       " 'Danville city': 1,\n",
       " 'Trinity County': 2,\n",
       " 'Drew County': 1,\n",
       " 'Kearny County': 1,\n",
       " 'Rio Blanco County': 1,\n",
       " 'Yakima County': 1,\n",
       " 'Bacon County': 1,\n",
       " 'Wilson County': 4,\n",
       " 'Ottawa County': 4,\n",
       " 'Dallas County': 5,\n",
       " 'Sheboygan County': 1,\n",
       " 'Iosco County': 1,\n",
       " 'Manassas Park city': 1,\n",
       " 'Sweet Grass County': 1,\n",
       " 'Arkansas County': 1,\n",
       " 'Milwaukee County': 1,\n",
       " 'Blue Earth County': 1,\n",
       " ...}"
      ]
     },
     "execution_count": 32,
     "metadata": {},
     "output_type": "execute_result"
    }
   ],
   "source": [
    "results"
   ]
  },
  {
   "cell_type": "code",
   "execution_count": 24,
   "metadata": {
    "collapsed": false
   },
   "outputs": [
    {
     "data": {
      "text/plain": [
       "True"
      ]
     },
     "execution_count": 24,
     "metadata": {},
     "output_type": "execute_result"
    }
   ],
   "source": [
    "d == results"
   ]
  },
  {
   "cell_type": "markdown",
   "metadata": {},
   "source": [
    "Comprehensions allow you to do more, faster, in a way that's much easier to understand."
   ]
  },
  {
   "cell_type": "markdown",
   "metadata": {},
   "source": [
    "Remember how Pandas lets us index dataframes using a series full of `True` or `False`?"
   ]
  },
  {
   "cell_type": "code",
   "execution_count": 35,
   "metadata": {
    "collapsed": true
   },
   "outputs": [],
   "source": [
    "import pandas"
   ]
  },
  {
   "cell_type": "code",
   "execution_count": 36,
   "metadata": {
    "collapsed": true
   },
   "outputs": [],
   "source": [
    "persons = pandas.read_csv('people.csv')"
   ]
  },
  {
   "cell_type": "code",
   "execution_count": 37,
   "metadata": {
    "collapsed": false
   },
   "outputs": [
    {
     "data": {
      "text/html": [
       "<div style=\"max-height:1000px;max-width:1500px;overflow:auto;\">\n",
       "<table border=\"1\" class=\"dataframe\">\n",
       "  <thead>\n",
       "    <tr style=\"text-align: right;\">\n",
       "      <th></th>\n",
       "      <th>name</th>\n",
       "      <th>age</th>\n",
       "      <th>city</th>\n",
       "      <th>nickname</th>\n",
       "      <th>job</th>\n",
       "    </tr>\n",
       "  </thead>\n",
       "  <tbody>\n",
       "    <tr>\n",
       "      <th>0</th>\n",
       "      <td> Zachary</td>\n",
       "      <td> 25</td>\n",
       "      <td>    Tucson</td>\n",
       "      <td> Zach</td>\n",
       "      <td> Teacher</td>\n",
       "    </tr>\n",
       "    <tr>\n",
       "      <th>1</th>\n",
       "      <td>    Levi</td>\n",
       "      <td> 23</td>\n",
       "      <td>   Phoenix</td>\n",
       "      <td>  NaN</td>\n",
       "      <td> Student</td>\n",
       "    </tr>\n",
       "    <tr>\n",
       "      <th>2</th>\n",
       "      <td> Atticus</td>\n",
       "      <td> 19</td>\n",
       "      <td> Flagstaff</td>\n",
       "      <td> Atti</td>\n",
       "      <td> Student</td>\n",
       "    </tr>\n",
       "  </tbody>\n",
       "</table>\n",
       "</div>"
      ],
      "text/plain": [
       "      name  age       city nickname      job\n",
       "0  Zachary   25     Tucson     Zach  Teacher\n",
       "1     Levi   23    Phoenix      NaN  Student\n",
       "2  Atticus   19  Flagstaff     Atti  Student"
      ]
     },
     "execution_count": 37,
     "metadata": {},
     "output_type": "execute_result"
    }
   ],
   "source": [
    "persons"
   ]
  },
  {
   "cell_type": "code",
   "execution_count": 43,
   "metadata": {
    "collapsed": true
   },
   "outputs": [],
   "source": [
    "filt = [True, True, False]"
   ]
  },
  {
   "cell_type": "code",
   "execution_count": 44,
   "metadata": {
    "collapsed": false
   },
   "outputs": [
    {
     "data": {
      "text/html": [
       "<div style=\"max-height:1000px;max-width:1500px;overflow:auto;\">\n",
       "<table border=\"1\" class=\"dataframe\">\n",
       "  <thead>\n",
       "    <tr style=\"text-align: right;\">\n",
       "      <th></th>\n",
       "      <th>name</th>\n",
       "      <th>age</th>\n",
       "      <th>city</th>\n",
       "      <th>nickname</th>\n",
       "      <th>job</th>\n",
       "    </tr>\n",
       "  </thead>\n",
       "  <tbody>\n",
       "    <tr>\n",
       "      <th>0</th>\n",
       "      <td> Zachary</td>\n",
       "      <td> 25</td>\n",
       "      <td>  Tucson</td>\n",
       "      <td> Zach</td>\n",
       "      <td> Teacher</td>\n",
       "    </tr>\n",
       "    <tr>\n",
       "      <th>1</th>\n",
       "      <td>    Levi</td>\n",
       "      <td> 23</td>\n",
       "      <td> Phoenix</td>\n",
       "      <td>  NaN</td>\n",
       "      <td> Student</td>\n",
       "    </tr>\n",
       "  </tbody>\n",
       "</table>\n",
       "</div>"
      ],
      "text/plain": [
       "      name  age     city nickname      job\n",
       "0  Zachary   25   Tucson     Zach  Teacher\n",
       "1     Levi   23  Phoenix      NaN  Student"
      ]
     },
     "execution_count": 44,
     "metadata": {},
     "output_type": "execute_result"
    }
   ],
   "source": [
    "persons[filt]"
   ]
  },
  {
   "cell_type": "markdown",
   "metadata": {},
   "source": [
    "### Example: Mixing Pandas Dataframes & Comprehensions"
   ]
  },
  {
   "cell_type": "markdown",
   "metadata": {},
   "source": [
    "Say we want to find only the list of counties that have 'Island' in their name. A reasonable attempt at this would be:"
   ]
  },
  {
   "cell_type": "code",
   "execution_count": 38,
   "metadata": {
    "collapsed": true
   },
   "outputs": [],
   "source": [
    "data = pandas.read_csv('counties.txt')"
   ]
  },
  {
   "cell_type": "code",
   "execution_count": 74,
   "metadata": {
    "collapsed": false
   },
   "outputs": [
    {
     "data": {
      "text/plain": [
       "0     False\n",
       "1     False\n",
       "2     False\n",
       "3     False\n",
       "4      True\n",
       "5      True\n",
       "6     False\n",
       "7      True\n",
       "8     False\n",
       "9     False\n",
       "10     True\n",
       "11    False\n",
       "12    False\n",
       "13    False\n",
       "14    False\n",
       "...\n",
       "3220     True\n",
       "3221     True\n",
       "3222    False\n",
       "3223    False\n",
       "3224     True\n",
       "3225    False\n",
       "3226     True\n",
       "3227     True\n",
       "3228     True\n",
       "3229    False\n",
       "3230    False\n",
       "3231     True\n",
       "3232    False\n",
       "3233    False\n",
       "3234     True\n",
       "Name: rv, Length: 3235, dtype: bool"
      ]
     },
     "execution_count": 74,
     "metadata": {},
     "output_type": "execute_result"
    }
   ],
   "source": [
    "data['rv'] > 4"
   ]
  },
  {
   "cell_type": "code",
   "execution_count": 42,
   "metadata": {
    "collapsed": false,
    "scrolled": false
   },
   "outputs": [
    {
     "ename": "KeyError",
     "evalue": "False",
     "output_type": "error",
     "traceback": [
      "\u001b[1;31m---------------------------------------------------------------------------\u001b[0m",
      "\u001b[1;31mKeyError\u001b[0m                                  Traceback (most recent call last)",
      "\u001b[1;32m<ipython-input-42-c72c416538a4>\u001b[0m in \u001b[0;36m<module>\u001b[1;34m()\u001b[0m\n\u001b[1;32m----> 1\u001b[1;33m \u001b[0mdata\u001b[0m\u001b[1;33m[\u001b[0m\u001b[1;34m'Island'\u001b[0m \u001b[1;32min\u001b[0m \u001b[0mdata\u001b[0m\u001b[1;33m[\u001b[0m\u001b[1;34m'name'\u001b[0m\u001b[1;33m]\u001b[0m\u001b[1;33m]\u001b[0m\u001b[1;33m\u001b[0m\u001b[0m\n\u001b[0m",
      "\u001b[1;32m/usr/local/lib/python2.7/dist-packages/pandas/core/frame.pyc\u001b[0m in \u001b[0;36m__getitem__\u001b[1;34m(self, key)\u001b[0m\n\u001b[0;32m   1778\u001b[0m             \u001b[1;32mreturn\u001b[0m \u001b[0mself\u001b[0m\u001b[1;33m.\u001b[0m\u001b[0m_getitem_multilevel\u001b[0m\u001b[1;33m(\u001b[0m\u001b[0mkey\u001b[0m\u001b[1;33m)\u001b[0m\u001b[1;33m\u001b[0m\u001b[0m\n\u001b[0;32m   1779\u001b[0m         \u001b[1;32melse\u001b[0m\u001b[1;33m:\u001b[0m\u001b[1;33m\u001b[0m\u001b[0m\n\u001b[1;32m-> 1780\u001b[1;33m             \u001b[1;32mreturn\u001b[0m \u001b[0mself\u001b[0m\u001b[1;33m.\u001b[0m\u001b[0m_getitem_column\u001b[0m\u001b[1;33m(\u001b[0m\u001b[0mkey\u001b[0m\u001b[1;33m)\u001b[0m\u001b[1;33m\u001b[0m\u001b[0m\n\u001b[0m\u001b[0;32m   1781\u001b[0m \u001b[1;33m\u001b[0m\u001b[0m\n\u001b[0;32m   1782\u001b[0m     \u001b[1;32mdef\u001b[0m \u001b[0m_getitem_column\u001b[0m\u001b[1;33m(\u001b[0m\u001b[0mself\u001b[0m\u001b[1;33m,\u001b[0m \u001b[0mkey\u001b[0m\u001b[1;33m)\u001b[0m\u001b[1;33m:\u001b[0m\u001b[1;33m\u001b[0m\u001b[0m\n",
      "\u001b[1;32m/usr/local/lib/python2.7/dist-packages/pandas/core/frame.pyc\u001b[0m in \u001b[0;36m_getitem_column\u001b[1;34m(self, key)\u001b[0m\n\u001b[0;32m   1785\u001b[0m         \u001b[1;31m# get column\u001b[0m\u001b[1;33m\u001b[0m\u001b[1;33m\u001b[0m\u001b[0m\n\u001b[0;32m   1786\u001b[0m         \u001b[1;32mif\u001b[0m \u001b[0mself\u001b[0m\u001b[1;33m.\u001b[0m\u001b[0mcolumns\u001b[0m\u001b[1;33m.\u001b[0m\u001b[0mis_unique\u001b[0m\u001b[1;33m:\u001b[0m\u001b[1;33m\u001b[0m\u001b[0m\n\u001b[1;32m-> 1787\u001b[1;33m             \u001b[1;32mreturn\u001b[0m \u001b[0mself\u001b[0m\u001b[1;33m.\u001b[0m\u001b[0m_get_item_cache\u001b[0m\u001b[1;33m(\u001b[0m\u001b[0mkey\u001b[0m\u001b[1;33m)\u001b[0m\u001b[1;33m\u001b[0m\u001b[0m\n\u001b[0m\u001b[0;32m   1788\u001b[0m \u001b[1;33m\u001b[0m\u001b[0m\n\u001b[0;32m   1789\u001b[0m         \u001b[1;31m# duplicate columns & possible reduce dimensionaility\u001b[0m\u001b[1;33m\u001b[0m\u001b[1;33m\u001b[0m\u001b[0m\n",
      "\u001b[1;32m/usr/local/lib/python2.7/dist-packages/pandas/core/generic.pyc\u001b[0m in \u001b[0;36m_get_item_cache\u001b[1;34m(self, item)\u001b[0m\n\u001b[0;32m   1066\u001b[0m         \u001b[0mres\u001b[0m \u001b[1;33m=\u001b[0m \u001b[0mcache\u001b[0m\u001b[1;33m.\u001b[0m\u001b[0mget\u001b[0m\u001b[1;33m(\u001b[0m\u001b[0mitem\u001b[0m\u001b[1;33m)\u001b[0m\u001b[1;33m\u001b[0m\u001b[0m\n\u001b[0;32m   1067\u001b[0m         \u001b[1;32mif\u001b[0m \u001b[0mres\u001b[0m \u001b[1;32mis\u001b[0m \u001b[0mNone\u001b[0m\u001b[1;33m:\u001b[0m\u001b[1;33m\u001b[0m\u001b[0m\n\u001b[1;32m-> 1068\u001b[1;33m             \u001b[0mvalues\u001b[0m \u001b[1;33m=\u001b[0m \u001b[0mself\u001b[0m\u001b[1;33m.\u001b[0m\u001b[0m_data\u001b[0m\u001b[1;33m.\u001b[0m\u001b[0mget\u001b[0m\u001b[1;33m(\u001b[0m\u001b[0mitem\u001b[0m\u001b[1;33m)\u001b[0m\u001b[1;33m\u001b[0m\u001b[0m\n\u001b[0m\u001b[0;32m   1069\u001b[0m             \u001b[0mres\u001b[0m \u001b[1;33m=\u001b[0m \u001b[0mself\u001b[0m\u001b[1;33m.\u001b[0m\u001b[0m_box_item_values\u001b[0m\u001b[1;33m(\u001b[0m\u001b[0mitem\u001b[0m\u001b[1;33m,\u001b[0m \u001b[0mvalues\u001b[0m\u001b[1;33m)\u001b[0m\u001b[1;33m\u001b[0m\u001b[0m\n\u001b[0;32m   1070\u001b[0m             \u001b[0mcache\u001b[0m\u001b[1;33m[\u001b[0m\u001b[0mitem\u001b[0m\u001b[1;33m]\u001b[0m \u001b[1;33m=\u001b[0m \u001b[0mres\u001b[0m\u001b[1;33m\u001b[0m\u001b[0m\n",
      "\u001b[1;32m/usr/local/lib/python2.7/dist-packages/pandas/core/internals.pyc\u001b[0m in \u001b[0;36mget\u001b[1;34m(self, item, fastpath)\u001b[0m\n\u001b[0;32m   2847\u001b[0m \u001b[1;33m\u001b[0m\u001b[0m\n\u001b[0;32m   2848\u001b[0m             \u001b[1;32mif\u001b[0m \u001b[1;32mnot\u001b[0m \u001b[0misnull\u001b[0m\u001b[1;33m(\u001b[0m\u001b[0mitem\u001b[0m\u001b[1;33m)\u001b[0m\u001b[1;33m:\u001b[0m\u001b[1;33m\u001b[0m\u001b[0m\n\u001b[1;32m-> 2849\u001b[1;33m                 \u001b[0mloc\u001b[0m \u001b[1;33m=\u001b[0m \u001b[0mself\u001b[0m\u001b[1;33m.\u001b[0m\u001b[0mitems\u001b[0m\u001b[1;33m.\u001b[0m\u001b[0mget_loc\u001b[0m\u001b[1;33m(\u001b[0m\u001b[0mitem\u001b[0m\u001b[1;33m)\u001b[0m\u001b[1;33m\u001b[0m\u001b[0m\n\u001b[0m\u001b[0;32m   2850\u001b[0m             \u001b[1;32melse\u001b[0m\u001b[1;33m:\u001b[0m\u001b[1;33m\u001b[0m\u001b[0m\n\u001b[0;32m   2851\u001b[0m                 \u001b[0mindexer\u001b[0m \u001b[1;33m=\u001b[0m \u001b[0mnp\u001b[0m\u001b[1;33m.\u001b[0m\u001b[0marange\u001b[0m\u001b[1;33m(\u001b[0m\u001b[0mlen\u001b[0m\u001b[1;33m(\u001b[0m\u001b[0mself\u001b[0m\u001b[1;33m.\u001b[0m\u001b[0mitems\u001b[0m\u001b[1;33m)\u001b[0m\u001b[1;33m)\u001b[0m\u001b[1;33m[\u001b[0m\u001b[0misnull\u001b[0m\u001b[1;33m(\u001b[0m\u001b[0mself\u001b[0m\u001b[1;33m.\u001b[0m\u001b[0mitems\u001b[0m\u001b[1;33m)\u001b[0m\u001b[1;33m]\u001b[0m\u001b[1;33m\u001b[0m\u001b[0m\n",
      "\u001b[1;32m/usr/local/lib/python2.7/dist-packages/pandas/core/index.pyc\u001b[0m in \u001b[0;36mget_loc\u001b[1;34m(self, key)\u001b[0m\n\u001b[0;32m   1400\u001b[0m         \u001b[0mloc\u001b[0m \u001b[1;33m:\u001b[0m \u001b[0mint\u001b[0m \u001b[1;32mif\u001b[0m \u001b[0munique\u001b[0m \u001b[0mindex\u001b[0m\u001b[1;33m,\u001b[0m \u001b[0mpossibly\u001b[0m \u001b[0mslice\u001b[0m \u001b[1;32mor\u001b[0m \u001b[0mmask\u001b[0m \u001b[1;32mif\u001b[0m \u001b[1;32mnot\u001b[0m\u001b[1;33m\u001b[0m\u001b[0m\n\u001b[0;32m   1401\u001b[0m         \"\"\"\n\u001b[1;32m-> 1402\u001b[1;33m         \u001b[1;32mreturn\u001b[0m \u001b[0mself\u001b[0m\u001b[1;33m.\u001b[0m\u001b[0m_engine\u001b[0m\u001b[1;33m.\u001b[0m\u001b[0mget_loc\u001b[0m\u001b[1;33m(\u001b[0m\u001b[0m_values_from_object\u001b[0m\u001b[1;33m(\u001b[0m\u001b[0mkey\u001b[0m\u001b[1;33m)\u001b[0m\u001b[1;33m)\u001b[0m\u001b[1;33m\u001b[0m\u001b[0m\n\u001b[0m\u001b[0;32m   1403\u001b[0m \u001b[1;33m\u001b[0m\u001b[0m\n\u001b[0;32m   1404\u001b[0m     \u001b[1;32mdef\u001b[0m \u001b[0mget_value\u001b[0m\u001b[1;33m(\u001b[0m\u001b[0mself\u001b[0m\u001b[1;33m,\u001b[0m \u001b[0mseries\u001b[0m\u001b[1;33m,\u001b[0m \u001b[0mkey\u001b[0m\u001b[1;33m)\u001b[0m\u001b[1;33m:\u001b[0m\u001b[1;33m\u001b[0m\u001b[0m\n",
      "\u001b[1;32mpandas/index.pyx\u001b[0m in \u001b[0;36mpandas.index.IndexEngine.get_loc (pandas/index.c:3812)\u001b[1;34m()\u001b[0m\n",
      "\u001b[1;32mpandas/index.pyx\u001b[0m in \u001b[0;36mpandas.index.IndexEngine.get_loc (pandas/index.c:3692)\u001b[1;34m()\u001b[0m\n",
      "\u001b[1;32mpandas/hashtable.pyx\u001b[0m in \u001b[0;36mpandas.hashtable.PyObjectHashTable.get_item (pandas/hashtable.c:12299)\u001b[1;34m()\u001b[0m\n",
      "\u001b[1;32mpandas/hashtable.pyx\u001b[0m in \u001b[0;36mpandas.hashtable.PyObjectHashTable.get_item (pandas/hashtable.c:12250)\u001b[1;34m()\u001b[0m\n",
      "\u001b[1;31mKeyError\u001b[0m: False"
     ]
    }
   ],
   "source": [
    "data['Island' in data['name']]"
   ]
  },
  {
   "cell_type": "markdown",
   "metadata": {},
   "source": [
    "Why does this not work? Try pulling out `counties['name']` by itself and playing around:"
   ]
  },
  {
   "cell_type": "code",
   "execution_count": 43,
   "metadata": {
    "collapsed": true
   },
   "outputs": [],
   "source": [
    "test = data['name']"
   ]
  },
  {
   "cell_type": "code",
   "execution_count": 45,
   "metadata": {
    "collapsed": false
   },
   "outputs": [
    {
     "data": {
      "text/plain": [
       "False"
      ]
     },
     "execution_count": 45,
     "metadata": {},
     "output_type": "execute_result"
    }
   ],
   "source": [
    "'Island' in test"
   ]
  },
  {
   "cell_type": "code",
   "execution_count": 50,
   "metadata": {
    "collapsed": false,
    "scrolled": false
   },
   "outputs": [
    {
     "data": {
      "text/plain": [
       "0    Autauga County\n",
       "1    Baldwin County\n",
       "2    Barbour County\n",
       "3       Bibb County\n",
       "4     Blount County\n",
       "Name: name, dtype: object"
      ]
     },
     "execution_count": 50,
     "metadata": {},
     "output_type": "execute_result"
    }
   ],
   "source": [
    "test.head()"
   ]
  },
  {
   "cell_type": "code",
   "execution_count": 46,
   "metadata": {
    "collapsed": false
   },
   "outputs": [],
   "source": [
    "test.isin?"
   ]
  },
  {
   "cell_type": "code",
   "execution_count": 47,
   "metadata": {
    "collapsed": false
   },
   "outputs": [
    {
     "data": {
      "text/html": [
       "<div style=\"max-height:1000px;max-width:1500px;overflow:auto;\">\n",
       "<table border=\"1\" class=\"dataframe\">\n",
       "  <thead>\n",
       "    <tr style=\"text-align: right;\">\n",
       "      <th></th>\n",
       "      <th>Unnamed: 0</th>\n",
       "      <th>state</th>\n",
       "      <th>stfips</th>\n",
       "      <th>fips</th>\n",
       "      <th>name</th>\n",
       "      <th>class</th>\n",
       "      <th>rv</th>\n",
       "      <th>fullfips</th>\n",
       "    </tr>\n",
       "  </thead>\n",
       "  <tbody>\n",
       "  </tbody>\n",
       "</table>\n",
       "</div>"
      ],
      "text/plain": [
       "Empty DataFrame\n",
       "Columns: [Unnamed: 0, state, stfips, fips, name, class, rv, fullfips]\n",
       "Index: []"
      ]
     },
     "execution_count": 47,
     "metadata": {},
     "output_type": "execute_result"
    }
   ],
   "source": [
    "data[data['name'].isin(['Island'])]"
   ]
  },
  {
   "cell_type": "markdown",
   "metadata": {},
   "source": [
    "Hmm... this seems tricky. Let's do it using list comprehensions. First, let's build a filter that contains the true and false values we need. To do this, we'll need a list of True and False, depending on some condition. In a for loop, this might look like:"
   ]
  },
  {
   "cell_type": "code",
   "execution_count": null,
   "metadata": {
    "collapsed": true
   },
   "outputs": [],
   "source": [
    "nocompfilter = []\n",
    "for cname in data['name']:\n",
    "    if 'Island' in cname:\n",
    "        nocompfilter.append(True)\n",
    "    else:\n",
    "        nocompfilter.append(False)\n",
    "filter2 = pandas.Series(nocompfilter)"
   ]
  },
  {
   "cell_type": "markdown",
   "metadata": {},
   "source": [
    "But, using the same concepts in a comprehension-style statement, we can make a list comprehension that follows these `if-else` statements perfectly!"
   ]
  },
  {
   "cell_type": "code",
   "execution_count": 51,
   "metadata": {
    "collapsed": false
   },
   "outputs": [
    {
     "data": {
      "text/plain": [
       "[0, 1, 2, 3, 4, 5, 6, 7, 8, 9]"
      ]
     },
     "execution_count": 51,
     "metadata": {},
     "output_type": "execute_result"
    }
   ],
   "source": [
    "range(10)"
   ]
  },
  {
   "cell_type": "code",
   "execution_count": 55,
   "metadata": {
    "collapsed": false
   },
   "outputs": [
    {
     "data": {
      "text/plain": [
       "[7]"
      ]
     },
     "execution_count": 55,
     "metadata": {},
     "output_type": "execute_result"
    }
   ],
   "source": [
    "[x+2 for x in range(10) if x == 5 ]"
   ]
  },
  {
   "cell_type": "code",
   "execution_count": null,
   "metadata": {
    "collapsed": true
   },
   "outputs": [],
   "source": []
  },
  {
   "cell_type": "code",
   "execution_count": 56,
   "metadata": {
    "collapsed": false
   },
   "outputs": [],
   "source": [
    "filt = [ True if 'Island' in cname else False for cname in data['name']]"
   ]
  },
  {
   "cell_type": "markdown",
   "metadata": {},
   "source": [
    "Then, converting `filt` to a pandas dataframe will allow us to grab elements from the data that fit that filter"
   ]
  },
  {
   "cell_type": "code",
   "execution_count": 57,
   "metadata": {
    "collapsed": true
   },
   "outputs": [],
   "source": [
    "filt = pandas.Series(filt)"
   ]
  },
  {
   "cell_type": "markdown",
   "metadata": {},
   "source": [
    "If it helps you to think of this as one-line stuff, the following would do this in one line:"
   ]
  },
  {
   "cell_type": "code",
   "execution_count": 59,
   "metadata": {
    "collapsed": true
   },
   "outputs": [],
   "source": [
    "filt = pandas.Series(True if 'Island' in x else False for x in data['name'])"
   ]
  },
  {
   "cell_type": "code",
   "execution_count": null,
   "metadata": {
    "collapsed": true
   },
   "outputs": [],
   "source": []
  },
  {
   "cell_type": "markdown",
   "metadata": {},
   "source": [
    "This is the breakdown like above:"
   ]
  },
  {
   "cell_type": "code",
   "execution_count": 76,
   "metadata": {
    "collapsed": false
   },
   "outputs": [
    {
     "data": {
      "image/png": "[encoded data removed]",
      "text/plain": [
       "<IPython.core.display.Image object>"
      ]
     },
     "execution_count": 76,
     "metadata": {},
     "output_type": "execute_result"
    }
   ],
   "source": [
    "Image(filename='pandas_comp.png')"
   ]
  },
  {
   "cell_type": "code",
   "execution_count": 60,
   "metadata": {
    "collapsed": false
   },
   "outputs": [
    {
     "data": {
      "text/html": [
       "<div style=\"max-height:1000px;max-width:1500px;overflow:auto;\">\n",
       "<table border=\"1\" class=\"dataframe\">\n",
       "  <thead>\n",
       "    <tr style=\"text-align: right;\">\n",
       "      <th></th>\n",
       "      <th>Unnamed: 0</th>\n",
       "      <th>state</th>\n",
       "      <th>stfips</th>\n",
       "      <th>fips</th>\n",
       "      <th>name</th>\n",
       "      <th>class</th>\n",
       "      <th>rv</th>\n",
       "      <th>fullfips</th>\n",
       "    </tr>\n",
       "  </thead>\n",
       "  <tbody>\n",
       "    <tr>\n",
       "      <th>80  </th>\n",
       "      <td>   80</td>\n",
       "      <td> AK</td>\n",
       "      <td>  2</td>\n",
       "      <td> 150</td>\n",
       "      <td>         Kodiak Island Borough</td>\n",
       "      <td> H1</td>\n",
       "      <td> 3.375346</td>\n",
       "      <td>  2150</td>\n",
       "    </tr>\n",
       "    <tr>\n",
       "      <th>675 </th>\n",
       "      <td>  675</td>\n",
       "      <td> IL</td>\n",
       "      <td> 17</td>\n",
       "      <td> 161</td>\n",
       "      <td>            Rock Island County</td>\n",
       "      <td> H1</td>\n",
       "      <td> 3.164235</td>\n",
       "      <td> 17161</td>\n",
       "    </tr>\n",
       "    <tr>\n",
       "      <th>2968</th>\n",
       "      <td> 2968</td>\n",
       "      <td> WA</td>\n",
       "      <td> 53</td>\n",
       "      <td>  29</td>\n",
       "      <td>                 Island County</td>\n",
       "      <td> H1</td>\n",
       "      <td> 5.481493</td>\n",
       "      <td> 53029</td>\n",
       "    </tr>\n",
       "    <tr>\n",
       "      <th>3145</th>\n",
       "      <td> 3145</td>\n",
       "      <td> AS</td>\n",
       "      <td> 60</td>\n",
       "      <td>  30</td>\n",
       "      <td>                   Rose Island</td>\n",
       "      <td> H4</td>\n",
       "      <td> 4.644470</td>\n",
       "      <td> 60030</td>\n",
       "    </tr>\n",
       "    <tr>\n",
       "      <th>3146</th>\n",
       "      <td> 3146</td>\n",
       "      <td> AS</td>\n",
       "      <td> 60</td>\n",
       "      <td>  40</td>\n",
       "      <td>                 Swains Island</td>\n",
       "      <td> H4</td>\n",
       "      <td> 2.616759</td>\n",
       "      <td> 60040</td>\n",
       "    </tr>\n",
       "    <tr>\n",
       "      <th>3149</th>\n",
       "      <td> 3149</td>\n",
       "      <td> MP</td>\n",
       "      <td> 69</td>\n",
       "      <td>  85</td>\n",
       "      <td> Northern Islands Municipality</td>\n",
       "      <td> H1</td>\n",
       "      <td> 4.101695</td>\n",
       "      <td> 69085</td>\n",
       "    </tr>\n",
       "    <tr>\n",
       "      <th>3231</th>\n",
       "      <td> 3231</td>\n",
       "      <td> UM</td>\n",
       "      <td> 74</td>\n",
       "      <td> 300</td>\n",
       "      <td>                Midway Islands</td>\n",
       "      <td> H4</td>\n",
       "      <td> 4.867270</td>\n",
       "      <td> 74300</td>\n",
       "    </tr>\n",
       "    <tr>\n",
       "      <th>3232</th>\n",
       "      <td> 3232</td>\n",
       "      <td> VI</td>\n",
       "      <td> 78</td>\n",
       "      <td>  10</td>\n",
       "      <td>              St. Croix Island</td>\n",
       "      <td> H4</td>\n",
       "      <td> 3.932335</td>\n",
       "      <td> 78010</td>\n",
       "    </tr>\n",
       "    <tr>\n",
       "      <th>3233</th>\n",
       "      <td> 3233</td>\n",
       "      <td> VI</td>\n",
       "      <td> 78</td>\n",
       "      <td>  20</td>\n",
       "      <td>               St. John Island</td>\n",
       "      <td> H4</td>\n",
       "      <td> 3.819584</td>\n",
       "      <td> 78020</td>\n",
       "    </tr>\n",
       "    <tr>\n",
       "      <th>3234</th>\n",
       "      <td> 3234</td>\n",
       "      <td> VI</td>\n",
       "      <td> 78</td>\n",
       "      <td>  30</td>\n",
       "      <td>             St. Thomas Island</td>\n",
       "      <td> H4</td>\n",
       "      <td> 4.911567</td>\n",
       "      <td> 78030</td>\n",
       "    </tr>\n",
       "  </tbody>\n",
       "</table>\n",
       "</div>"
      ],
      "text/plain": [
       "      Unnamed: 0 state  stfips  fips                           name class  \\\n",
       "80            80    AK       2   150          Kodiak Island Borough    H1   \n",
       "675          675    IL      17   161             Rock Island County    H1   \n",
       "2968        2968    WA      53    29                  Island County    H1   \n",
       "3145        3145    AS      60    30                    Rose Island    H4   \n",
       "3146        3146    AS      60    40                  Swains Island    H4   \n",
       "3149        3149    MP      69    85  Northern Islands Municipality    H1   \n",
       "3231        3231    UM      74   300                 Midway Islands    H4   \n",
       "3232        3232    VI      78    10               St. Croix Island    H4   \n",
       "3233        3233    VI      78    20                St. John Island    H4   \n",
       "3234        3234    VI      78    30              St. Thomas Island    H4   \n",
       "\n",
       "            rv  fullfips  \n",
       "80    3.375346      2150  \n",
       "675   3.164235     17161  \n",
       "2968  5.481493     53029  \n",
       "3145  4.644470     60030  \n",
       "3146  2.616759     60040  \n",
       "3149  4.101695     69085  \n",
       "3231  4.867270     74300  \n",
       "3232  3.932335     78010  \n",
       "3233  3.819584     78020  \n",
       "3234  4.911567     78030  "
      ]
     },
     "execution_count": 60,
     "metadata": {},
     "output_type": "execute_result"
    }
   ],
   "source": [
    "data[filt]"
   ]
  },
  {
   "cell_type": "markdown",
   "metadata": {},
   "source": [
    "And there're all the counties with islands for their names. "
   ]
  },
  {
   "cell_type": "markdown",
   "metadata": {},
   "source": [
    "### Problem: Cities >> Islands"
   ]
  },
  {
   "cell_type": "markdown",
   "metadata": {},
   "source": [
    "1. Using comprehensions, construct a filter that, when used on data, provides only counties with 'city' in their name. Store your result to a new dataframe. *hint: this is very similar to what we did above*\n",
    "2. From this, select only cities with an `rv` above 4."
   ]
  },
  {
   "cell_type": "code",
   "execution_count": 80,
   "metadata": {
    "collapsed": true
   },
   "outputs": [],
   "source": [
    "filt = pandas.Series(True if 'City' in cname else False for cname in data['name'])"
   ]
  },
  {
   "cell_type": "code",
   "execution_count": 81,
   "metadata": {
    "collapsed": false
   },
   "outputs": [
    {
     "data": {
      "text/html": [
       "<div style=\"max-height:1000px;max-width:1500px;overflow:auto;\">\n",
       "<table border=\"1\" class=\"dataframe\">\n",
       "  <thead>\n",
       "    <tr style=\"text-align: right;\">\n",
       "      <th></th>\n",
       "      <th>Unnamed: 0</th>\n",
       "      <th>state</th>\n",
       "      <th>stfips</th>\n",
       "      <th>fips</th>\n",
       "      <th>name</th>\n",
       "      <th>class</th>\n",
       "      <th>rv</th>\n",
       "      <th>fullfips</th>\n",
       "    </tr>\n",
       "  </thead>\n",
       "  <tbody>\n",
       "    <tr>\n",
       "      <th>77  </th>\n",
       "      <td>   77</td>\n",
       "      <td> AK</td>\n",
       "      <td>  2</td>\n",
       "      <td> 110</td>\n",
       "      <td>   Juneau City and Borough</td>\n",
       "      <td> H6</td>\n",
       "      <td> 3.901668</td>\n",
       "      <td>  2110</td>\n",
       "    </tr>\n",
       "    <tr>\n",
       "      <th>88  </th>\n",
       "      <td>   88</td>\n",
       "      <td> AK</td>\n",
       "      <td>  2</td>\n",
       "      <td> 220</td>\n",
       "      <td>    Sitka City and Borough</td>\n",
       "      <td> H6</td>\n",
       "      <td> 4.744370</td>\n",
       "      <td>  2220</td>\n",
       "    </tr>\n",
       "    <tr>\n",
       "      <th>93  </th>\n",
       "      <td>   93</td>\n",
       "      <td> AK</td>\n",
       "      <td>  2</td>\n",
       "      <td> 275</td>\n",
       "      <td> Wrangell City and Borough</td>\n",
       "      <td> H1</td>\n",
       "      <td> 2.113645</td>\n",
       "      <td>  2275</td>\n",
       "    </tr>\n",
       "    <tr>\n",
       "      <th>94  </th>\n",
       "      <td>   94</td>\n",
       "      <td> AK</td>\n",
       "      <td>  2</td>\n",
       "      <td> 282</td>\n",
       "      <td>  Yakutat City and Borough</td>\n",
       "      <td> H1</td>\n",
       "      <td> 2.021157</td>\n",
       "      <td>  2282</td>\n",
       "    </tr>\n",
       "    <tr>\n",
       "      <th>1763</th>\n",
       "      <td> 1763</td>\n",
       "      <td> NV</td>\n",
       "      <td> 32</td>\n",
       "      <td> 510</td>\n",
       "      <td>               Carson City</td>\n",
       "      <td> C7</td>\n",
       "      <td> 3.143931</td>\n",
       "      <td> 32510</td>\n",
       "    </tr>\n",
       "    <tr>\n",
       "      <th>2838</th>\n",
       "      <td> 2838</td>\n",
       "      <td> VA</td>\n",
       "      <td> 51</td>\n",
       "      <td>  36</td>\n",
       "      <td>       Charles City County</td>\n",
       "      <td> H1</td>\n",
       "      <td> 1.942106</td>\n",
       "      <td> 51036</td>\n",
       "    </tr>\n",
       "    <tr>\n",
       "      <th>2866</th>\n",
       "      <td> 2866</td>\n",
       "      <td> VA</td>\n",
       "      <td> 51</td>\n",
       "      <td>  95</td>\n",
       "      <td>         James City County</td>\n",
       "      <td> H1</td>\n",
       "      <td> 1.811697</td>\n",
       "      <td> 51095</td>\n",
       "    </tr>\n",
       "  </tbody>\n",
       "</table>\n",
       "</div>"
      ],
      "text/plain": [
       "      Unnamed: 0 state  stfips  fips                       name class  \\\n",
       "77            77    AK       2   110    Juneau City and Borough    H6   \n",
       "88            88    AK       2   220     Sitka City and Borough    H6   \n",
       "93            93    AK       2   275  Wrangell City and Borough    H1   \n",
       "94            94    AK       2   282   Yakutat City and Borough    H1   \n",
       "1763        1763    NV      32   510                Carson City    C7   \n",
       "2838        2838    VA      51    36        Charles City County    H1   \n",
       "2866        2866    VA      51    95          James City County    H1   \n",
       "\n",
       "            rv  fullfips  \n",
       "77    3.901668      2110  \n",
       "88    4.744370      2220  \n",
       "93    2.113645      2275  \n",
       "94    2.021157      2282  \n",
       "1763  3.143931     32510  \n",
       "2838  1.942106     51036  \n",
       "2866  1.811697     51095  "
      ]
     },
     "execution_count": 81,
     "metadata": {},
     "output_type": "execute_result"
    }
   ],
   "source": [
    "data[filt]"
   ]
  },
  {
   "cell_type": "code",
   "execution_count": 79,
   "metadata": {
    "collapsed": false
   },
   "outputs": [
    {
     "data": {
      "text/html": [
       "<div style=\"max-height:1000px;max-width:1500px;overflow:auto;\">\n",
       "<table border=\"1\" class=\"dataframe\">\n",
       "  <thead>\n",
       "    <tr style=\"text-align: right;\">\n",
       "      <th></th>\n",
       "      <th>Unnamed: 0</th>\n",
       "      <th>state</th>\n",
       "      <th>stfips</th>\n",
       "      <th>fips</th>\n",
       "      <th>name</th>\n",
       "      <th>class</th>\n",
       "      <th>rv</th>\n",
       "      <th>fullfips</th>\n",
       "    </tr>\n",
       "  </thead>\n",
       "  <tbody>\n",
       "    <tr>\n",
       "      <th>88</th>\n",
       "      <td> 88</td>\n",
       "      <td> AK</td>\n",
       "      <td> 2</td>\n",
       "      <td> 220</td>\n",
       "      <td> Sitka City and Borough</td>\n",
       "      <td> H6</td>\n",
       "      <td> 4.74437</td>\n",
       "      <td> 2220</td>\n",
       "    </tr>\n",
       "  </tbody>\n",
       "</table>\n",
       "</div>"
      ],
      "text/plain": [
       "    Unnamed: 0 state  stfips  fips                    name class       rv  \\\n",
       "88          88    AK       2   220  Sitka City and Borough    H6  4.74437   \n",
       "\n",
       "    fullfips  \n",
       "88      2220  "
      ]
     },
     "execution_count": 79,
     "metadata": {},
     "output_type": "execute_result"
    }
   ],
   "source": [
    "newdata[newdata['rv'] > 4]"
   ]
  },
  {
   "cell_type": "markdown",
   "metadata": {},
   "source": [
    "## Iterators and `enumerate`"
   ]
  },
  {
   "cell_type": "markdown",
   "metadata": {},
   "source": [
    "Sometimes it's useful to look closely at the way python stores values. "
   ]
  },
  {
   "cell_type": "code",
   "execution_count": 82,
   "metadata": {
    "collapsed": true
   },
   "outputs": [],
   "source": [
    "a = 7"
   ]
  },
  {
   "cell_type": "code",
   "execution_count": 83,
   "metadata": {
    "collapsed": true
   },
   "outputs": [],
   "source": [
    "b = a"
   ]
  },
  {
   "cell_type": "code",
   "execution_count": 84,
   "metadata": {
    "collapsed": true
   },
   "outputs": [],
   "source": [
    "a = 9"
   ]
  },
  {
   "cell_type": "markdown",
   "metadata": {},
   "source": [
    "Now, what is the value of `b`?"
   ]
  },
  {
   "cell_type": "code",
   "execution_count": null,
   "metadata": {
    "collapsed": true
   },
   "outputs": [],
   "source": [
    "b"
   ]
  },
  {
   "cell_type": "markdown",
   "metadata": {},
   "source": [
    "Ok, reasonable. Now, let's look at doing this for lists:"
   ]
  },
  {
   "cell_type": "code",
   "execution_count": 86,
   "metadata": {
    "collapsed": true
   },
   "outputs": [],
   "source": [
    "lst = [1,2,3,4,5]"
   ]
  },
  {
   "cell_type": "code",
   "execution_count": 87,
   "metadata": {
    "collapsed": true
   },
   "outputs": [],
   "source": [
    "c = lst[0]"
   ]
  },
  {
   "cell_type": "code",
   "execution_count": 88,
   "metadata": {
    "collapsed": true
   },
   "outputs": [],
   "source": [
    "lst[0] = 9"
   ]
  },
  {
   "cell_type": "markdown",
   "metadata": {},
   "source": [
    "So, what is the value of `c`?"
   ]
  },
  {
   "cell_type": "code",
   "execution_count": 89,
   "metadata": {
    "collapsed": false
   },
   "outputs": [
    {
     "data": {
      "text/plain": [
       "1"
      ]
     },
     "execution_count": 89,
     "metadata": {},
     "output_type": "execute_result"
    }
   ],
   "source": [
    "c"
   ]
  },
  {
   "cell_type": "markdown",
   "metadata": {},
   "source": [
    "### Example: Value vs. Reference"
   ]
  },
  {
   "cell_type": "markdown",
   "metadata": {},
   "source": [
    "a classic difference in programming is the question of an object's reference vs. an object's value. In a way, you can think of this as a conflict between the \"name\" of an object and the actual value the object takes on."
   ]
  },
  {
   "cell_type": "code",
   "execution_count": 90,
   "metadata": {
    "collapsed": true
   },
   "outputs": [],
   "source": [
    "names = ['bob', 'sue', 'cindy']"
   ]
  },
  {
   "cell_type": "code",
   "execution_count": 91,
   "metadata": {
    "collapsed": false
   },
   "outputs": [
    {
     "name": "stdout",
     "output_type": "stream",
     "text": [
      "bob\n",
      "sue\n",
      "cindy\n"
     ]
    }
   ],
   "source": [
    "for n in names:\n",
    "    print n"
   ]
  },
  {
   "cell_type": "markdown",
   "metadata": {},
   "source": [
    "Say we wanted to capitalize these names:"
   ]
  },
  {
   "cell_type": "code",
   "execution_count": 93,
   "metadata": {
    "collapsed": false
   },
   "outputs": [
    {
     "name": "stdout",
     "output_type": "stream",
     "text": [
      "BOB\n",
      "SUE\n",
      "CINDY\n"
     ]
    }
   ],
   "source": [
    "for n in names:\n",
    "    n = n.upper()\n",
    "    print n"
   ]
  },
  {
   "cell_type": "markdown",
   "metadata": {},
   "source": [
    "So, how's our names doing?"
   ]
  },
  {
   "cell_type": "code",
   "execution_count": 101,
   "metadata": {
    "collapsed": false
   },
   "outputs": [
    {
     "data": {
      "text/plain": [
       "['bob', 'sue', 'cindy']"
      ]
     },
     "execution_count": 101,
     "metadata": {},
     "output_type": "execute_result"
    }
   ],
   "source": [
    "names"
   ]
  },
  {
   "cell_type": "markdown",
   "metadata": {},
   "source": [
    ":("
   ]
  },
  {
   "cell_type": "markdown",
   "metadata": {},
   "source": [
    "This is an example of a case where we have confused the *value* of `n` in each iteration with the *reference* that `n` makes to a position in a list. \n",
    "\n",
    "To resolve this ambiguity, we can use `enumerate` as a way to get around this:"
   ]
  },
  {
   "cell_type": "code",
   "execution_count": 94,
   "metadata": {
    "collapsed": false
   },
   "outputs": [
    {
     "name": "stdout",
     "output_type": "stream",
     "text": [
      "BOB\n",
      "SUE\n",
      "CINDY\n"
     ]
    }
   ],
   "source": [
    "for i, n in enumerate(names):\n",
    "    names[i] = n.upper()\n",
    "    print n.upper()"
   ]
  },
  {
   "cell_type": "code",
   "execution_count": 105,
   "metadata": {
    "collapsed": false
   },
   "outputs": [
    {
     "data": {
      "text/plain": [
       "['BOB', 'SUE', 'CINDY']"
      ]
     },
     "execution_count": 105,
     "metadata": {},
     "output_type": "execute_result"
    }
   ],
   "source": [
    "names"
   ]
  },
  {
   "cell_type": "markdown",
   "metadata": {},
   "source": [
    "to show, when we use enumerate, this is what happens:"
   ]
  },
  {
   "cell_type": "code",
   "execution_count": null,
   "metadata": {
    "collapsed": true
   },
   "outputs": [],
   "source": [
    "for idx, value in enumerate(l):"
   ]
  },
  {
   "cell_type": "code",
   "execution_count": null,
   "metadata": {
    "collapsed": true
   },
   "outputs": [],
   "source": []
  },
  {
   "cell_type": "code",
   "execution_count": 95,
   "metadata": {
    "collapsed": false
   },
   "outputs": [
    {
     "name": "stdout",
     "output_type": "stream",
     "text": [
      "(0, 'BOB')\n",
      "(1, 'SUE')\n",
      "(2, 'CINDY')\n"
     ]
    }
   ],
   "source": [
    "for what_does_enumerate_return in enumerate(names):\n",
    "    print what_does_enumerate_return"
   ]
  },
  {
   "cell_type": "markdown",
   "metadata": {},
   "source": [
    "So, enumerate returns a tuple, with the first element being an *index* (i.e. *reference*) and the secone element being a *value*. Since python does automatic tuple unpacking:"
   ]
  },
  {
   "cell_type": "code",
   "execution_count": 97,
   "metadata": {
    "collapsed": false
   },
   "outputs": [
    {
     "name": "stdout",
     "output_type": "stream",
     "text": [
      "i is 0 but n is BOB\n"
     ]
    }
   ],
   "source": [
    "i, n = (0, 'BOB')\n",
    "print 'i is', i, 'but n is', n"
   ]
  },
  {
   "cell_type": "markdown",
   "metadata": {},
   "source": [
    "we can split that up in the iterator like `for i, n in enumerate(names)`, and `i` takes on the first value and `n` the second. "
   ]
  },
  {
   "cell_type": "markdown",
   "metadata": {},
   "source": [
    "### Example: Zip is your friend"
   ]
  },
  {
   "cell_type": "markdown",
   "metadata": {},
   "source": [
    "Another useful tool is the `zip` function"
   ]
  },
  {
   "cell_type": "code",
   "execution_count": 98,
   "metadata": {
    "collapsed": true
   },
   "outputs": [],
   "source": [
    "?zip"
   ]
  },
  {
   "cell_type": "markdown",
   "metadata": {},
   "source": [
    "So, say we had two lists. Maybe a list of names and grades:"
   ]
  },
  {
   "cell_type": "code",
   "execution_count": 99,
   "metadata": {
    "collapsed": false
   },
   "outputs": [],
   "source": [
    "grades = [93, 96, 99]"
   ]
  },
  {
   "cell_type": "code",
   "execution_count": 100,
   "metadata": {
    "collapsed": false
   },
   "outputs": [
    {
     "data": {
      "text/plain": [
       "[('BOB', 93), ('SUE', 96), ('CINDY', 99)]"
      ]
     },
     "execution_count": 100,
     "metadata": {},
     "output_type": "execute_result"
    }
   ],
   "source": [
    "zip(names, grades)"
   ]
  },
  {
   "cell_type": "markdown",
   "metadata": {},
   "source": [
    "So, if we wanted to do a loop (or comprehension!!) that worked on the tuples that we get from zip, we could treat them just like the tuples we got from `enumerate` above: "
   ]
  },
  {
   "cell_type": "code",
   "execution_count": 101,
   "metadata": {
    "collapsed": false
   },
   "outputs": [
    {
     "name": "stdout",
     "output_type": "stream",
     "text": [
      "BOB 93\n",
      "SUE 96\n",
      "CINDY 99\n"
     ]
    }
   ],
   "source": [
    "for name, grade in zip(names, grades):\n",
    "    print name, grade"
   ]
  },
  {
   "cell_type": "markdown",
   "metadata": {},
   "source": [
    "Pretty nifty, huh? We can do this out to a large number of tuple indices:"
   ]
  },
  {
   "cell_type": "code",
   "execution_count": 107,
   "metadata": {
    "collapsed": true
   },
   "outputs": [],
   "source": [
    "capstones = ['Finished', 'In Progress', 'Never Started']\n",
    "letters = ['A-', 'A', 'A+', 'I']"
   ]
  },
  {
   "cell_type": "code",
   "execution_count": 108,
   "metadata": {
    "collapsed": false
   },
   "outputs": [
    {
     "data": {
      "text/plain": [
       "[('BOB', 93, 'Finished'),\n",
       " ('SUE', 96, 'In Progress'),\n",
       " ('CINDY', 99, 'Never Started')]"
      ]
     },
     "execution_count": 108,
     "metadata": {},
     "output_type": "execute_result"
    }
   ],
   "source": [
    "zip(names, grades, capstones)"
   ]
  },
  {
   "cell_type": "code",
   "execution_count": 109,
   "metadata": {
    "collapsed": false
   },
   "outputs": [
    {
     "name": "stdout",
     "output_type": "stream",
     "text": [
      "BOB 93 Finished\n",
      "SUE 96 In Progress\n",
      "CINDY 99 Never Started\n"
     ]
    }
   ],
   "source": [
    "for name, grade, progress in zip(names, grades, capstones):\n",
    "    print name, grade, progress"
   ]
  },
  {
   "cell_type": "markdown",
   "metadata": {},
   "source": [
    "Zip also can take in iterables of different length, but it only outputs a zipped tuple as long as there are elements in each list. So, the shortest list governs the zip length:"
   ]
  },
  {
   "cell_type": "code",
   "execution_count": 110,
   "metadata": {
    "collapsed": false
   },
   "outputs": [
    {
     "data": {
      "text/plain": [
       "[('BOB', 93, 'Finished', 'A-'),\n",
       " ('SUE', 96, 'In Progress', 'A'),\n",
       " ('CINDY', 99, 'Never Started', 'A+')]"
      ]
     },
     "execution_count": 110,
     "metadata": {},
     "output_type": "execute_result"
    }
   ],
   "source": [
    "zip(names, grades, capstones, letters)"
   ]
  },
  {
   "cell_type": "code",
   "execution_count": 125,
   "metadata": {
    "collapsed": true
   },
   "outputs": [],
   "source": [
    "spoiler = []"
   ]
  },
  {
   "cell_type": "code",
   "execution_count": 126,
   "metadata": {
    "collapsed": false
   },
   "outputs": [
    {
     "data": {
      "text/plain": [
       "[]"
      ]
     },
     "execution_count": 126,
     "metadata": {},
     "output_type": "execute_result"
    }
   ],
   "source": [
    "zip(names, spoiler)"
   ]
  },
  {
   "cell_type": "code",
   "execution_count": 111,
   "metadata": {
    "collapsed": false
   },
   "outputs": [
    {
     "ename": "NameError",
     "evalue": "name 'progresses' is not defined",
     "output_type": "error",
     "traceback": [
      "\u001b[1;31m---------------------------------------------------------------------------\u001b[0m",
      "\u001b[1;31mNameError\u001b[0m                                 Traceback (most recent call last)",
      "\u001b[1;32m<ipython-input-111-3331e08cfc77>\u001b[0m in \u001b[0;36m<module>\u001b[1;34m()\u001b[0m\n\u001b[0;32m      1\u001b[0m {name:{'grade':grade, 'letter':letter, 'progress':progress} for\n\u001b[1;32m----> 2\u001b[1;33m     name, grade, letter, progress in zip(names, grades, letters, progresses)}\n\u001b[0m",
      "\u001b[1;31mNameError\u001b[0m: name 'progresses' is not defined"
     ]
    }
   ],
   "source": [
    "{name:{'grade':grade, 'letter':letter, 'progress':progress} for\n",
    "    name, grade, letter, progress in zip(names, grades, letters, progresses)}"
   ]
  },
  {
   "cell_type": "code",
   "execution_count": null,
   "metadata": {
    "collapsed": true
   },
   "outputs": [],
   "source": []
  }
 ],
 "metadata": {
  "kernelspec": {
   "display_name": "Python 2",
   "language": "python",
   "name": "python2"
  },
  "language_info": {
   "codemirror_mode": {
    "name": "ipython",
    "version": 2
   },
   "file_extension": ".py",
   "mimetype": "text/x-python",
   "name": "python",
   "nbconvert_exporter": "python",
   "pygments_lexer": "ipython2",
   "version": "2.7.9"
  }
 },
 "nbformat": 4,
 "nbformat_minor": 0
}
