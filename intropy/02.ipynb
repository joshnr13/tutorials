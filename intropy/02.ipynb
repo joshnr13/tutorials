{
 "cells": [
  {
   "cell_type": "markdown",
   "metadata": {},
   "source": [
    "# Comprehending Comprehensions"
   ]
  },
  {
   "cell_type": "markdown",
   "metadata": {},
   "source": [
    "By now, we'vge written a few `for` loops. Broadly speaking, these loops: \n",
    "\n",
    "1. Using each object in a collection of objects,\n",
    "2. Do something with the item, either changing its value, or using its value to change other things\n",
    "3. Output a final data structure or object\n",
    "\n",
    "When you program, this is the kind of stuff that you do a LOT. Because programmers are lazy, we get frustrated when we have to type the same stuff over and over again, especially if this *design pattern* is used a lot. "
   ]
  },
  {
   "cell_type": "code",
   "execution_count": 1,
   "metadata": {
    "collapsed": false
   },
   "outputs": [
    {
     "name": "stdout",
     "output_type": "stream",
     "text": [
      "0\n",
      "1\n",
      "2\n",
      "3\n",
      "4\n",
      "5\n",
      "6\n",
      "7\n",
      "8\n",
      "9\n",
      "[(0, '0'), (1, '1'), (4, '2'), (9, '3'), (16, '4'), (25, '5'), (36, '6'), (49, '7'), (64, '8'), (81, '9')]\n"
     ]
    }
   ],
   "source": [
    "collection = range(10)\n",
    "results = []\n",
    "for item in collection:\n",
    "    results.append((item **2, str(item)))\n",
    "    print item\n",
    "print results"
   ]
  },
  {
   "cell_type": "markdown",
   "metadata": {},
   "source": [
    "To save space and be a bit more readable, python programmers developed the *comprehension* syntax. This is just a shortening of the regular `for` loop structure we discuss above. We can make the same results list using a list comprehension:"
   ]
  },
  {
   "cell_type": "code",
   "execution_count": 4,
   "metadata": {
    "collapsed": false
   },
   "outputs": [
    {
     "data": {
      "text/plain": [
       "[(0, '0'),\n",
       " (1, '1'),\n",
       " (4, '2'),\n",
       " (9, '3'),\n",
       " (16, '4'),\n",
       " (25, '5'),\n",
       " (36, '6'),\n",
       " (49, '7'),\n",
       " (64, '8'),\n",
       " (81, '9')]"
      ]
     },
     "execution_count": 4,
     "metadata": {},
     "output_type": "execute_result"
    }
   ],
   "source": [
    "[(item**2, str(item)) for item in range(10)]"
   ]
  },
  {
   "cell_type": "markdown",
   "metadata": {},
   "source": [
    "Let's break this down:"
   ]
  },
  {
   "cell_type": "code",
   "execution_count": 5,
   "metadata": {
    "collapsed": false
   },
   "outputs": [
    {
     "data": {
      "image/png": "[encoded data removed]",
      "text/plain": [
       "<IPython.core.display.Image object>"
      ]
     },
     "execution_count": 5,
     "metadata": {},
     "output_type": "execute_result"
    }
   ],
   "source": [
    "from IPython.display import Image\n",
    "Image(filename='blank_list_comp.png')"
   ]
  },
  {
   "cell_type": "markdown",
   "metadata": {},
   "source": [
    "### Problem: Self Improvement I"
   ]
  },
  {
   "cell_type": "markdown",
   "metadata": {},
   "source": [
    "Below is a `for` loop we wrote before. Rewrite it as a list comprehension."
   ]
  },
  {
   "cell_type": "code",
   "execution_count": 19,
   "metadata": {
    "collapsed": false
   },
   "outputs": [],
   "source": [
    "#not this cell, the next cell\n",
    "f_counties = open('counties.txt')\n",
    "import csv\n",
    "cty = csv.reader(f_counties)\n",
    "cty.next();"
   ]
  },
  {
   "cell_type": "code",
   "execution_count": 20,
   "metadata": {
    "collapsed": false
   },
   "outputs": [],
   "source": [
    "counties = []\n",
    "for line in cty:\n",
    "    counties.append(line[4])"
   ]
  },
  {
   "cell_type": "code",
   "execution_count": 21,
   "metadata": {
    "collapsed": true
   },
   "outputs": [],
   "source": [
    "#not this cell, the next cell\n",
    "f_counties = open('counties.txt')\n",
    "import csv\n",
    "cty = csv.reader(f_counties)\n",
    "cty.next();"
   ]
  },
  {
   "cell_type": "code",
   "execution_count": 22,
   "metadata": {
    "collapsed": true
   },
   "outputs": [],
   "source": [
    "counties2 = [line[4] for line in cty]"
   ]
  },
  {
   "cell_type": "code",
   "execution_count": 23,
   "metadata": {
    "collapsed": false
   },
   "outputs": [
    {
     "data": {
      "text/plain": [
       "True"
      ]
     },
     "execution_count": 23,
     "metadata": {},
     "output_type": "execute_result"
    }
   ],
   "source": [
    "counties == counties2"
   ]
  },
  {
   "cell_type": "markdown",
   "metadata": {},
   "source": [
    "The important thing to note with comprehension syntax is that it's really able to construct *any* data structure from a constructor. That is:"
   ]
  },
  {
   "cell_type": "code",
   "execution_count": 15,
   "metadata": {
    "collapsed": false
   },
   "outputs": [
    {
     "data": {
      "text/plain": [
       "True"
      ]
     },
     "execution_count": 15,
     "metadata": {},
     "output_type": "execute_result"
    }
   ],
   "source": [
    "[(item**2, str(item)) for item in range(10)] == list( (item**2, str(item)) for item in range(10) )"
   ]
  },
  {
   "cell_type": "markdown",
   "metadata": {},
   "source": [
    "The only catch is that lists and dictionaries are the only datatypes that benefit from having clear, unambiguous symbols for their \"bracketing,\" or `[]` and `{}`. "
   ]
  },
  {
   "cell_type": "markdown",
   "metadata": {},
   "source": [
    "### Example: Self Improvement II"
   ]
  },
  {
   "cell_type": "markdown",
   "metadata": {},
   "source": [
    "Before, we made a dictionary using a collection of elements by iterating over the elements. Now, let's try and use a dict comprehension!"
   ]
  },
  {
   "cell_type": "markdown",
   "metadata": {},
   "source": [
    "First off, recall the counting dictionary we built last time:"
   ]
  },
  {
   "cell_type": "code",
   "execution_count": 20,
   "metadata": {
    "collapsed": false
   },
   "outputs": [],
   "source": [
    "d = {}\n",
    "for county in counties:\n",
    "    #if we've havent seen it before:\n",
    "    if county not in d:\n",
    "        d.update({county: 1})\n",
    "    #if we HAVE seen it before:\n",
    "    else:\n",
    "        d[county] += 1"
   ]
  },
  {
   "cell_type": "markdown",
   "metadata": {},
   "source": [
    "In essence, what this does is:\n",
    "\n",
    "1. pick a county name from the list\n",
    "2. determine if we've seen this county name before\n",
    "4. if we haven't seen it before, add it to the dictionary and start its count at 1\n",
    "3. if we have seen it before, add 1 to its count\n",
    "\n",
    "There is a list method we could *also* have used to do this: \n",
    "\n",
    "        counties.count('Monroe County')\n",
    "        \n",
    "This method will tell you the number of times a key occurs in the list. Using this method, we can construct a *dictionary comprehension* to do this in one step, in one line."
   ]
  },
  {
   "cell_type": "code",
   "execution_count": 26,
   "metadata": {
    "collapsed": true
   },
   "outputs": [],
   "source": [
    "l = [3,3,3,3,4,5,2,2,2]"
   ]
  },
  {
   "cell_type": "code",
   "execution_count": 27,
   "metadata": {
    "collapsed": false
   },
   "outputs": [
    {
     "data": {
      "text/plain": [
       "3"
      ]
     },
     "execution_count": 27,
     "metadata": {},
     "output_type": "execute_result"
    }
   ],
   "source": [
    "l.count(2)"
   ]
  },
  {
   "cell_type": "code",
   "execution_count": 28,
   "metadata": {
    "collapsed": false
   },
   "outputs": [
    {
     "data": {
      "text/plain": [
       "1"
      ]
     },
     "execution_count": 28,
     "metadata": {},
     "output_type": "execute_result"
    }
   ],
   "source": [
    "l.count(5)"
   ]
  },
  {
   "cell_type": "code",
   "execution_count": 33,
   "metadata": {
    "collapsed": false
   },
   "outputs": [
    {
     "data": {
      "text/plain": [
       "{'Monroe County': 17}"
      ]
     },
     "execution_count": 33,
     "metadata": {},
     "output_type": "execute_result"
    }
   ],
   "source": [
    "{ 'Monroe County': counties.count('Monroe County') }"
   ]
  },
  {
   "cell_type": "code",
   "execution_count": 31,
   "metadata": {
    "collapsed": false
   },
   "outputs": [],
   "source": [
    "results = { name:counties.count(name) for name in set(counties)}"
   ]
  },
  {
   "cell_type": "code",
   "execution_count": 32,
   "metadata": {
    "collapsed": false
   },
   "outputs": [
    {
     "data": {
      "text/plain": [
       "{'Yancey County': 1,\n",
       " 'Carson County': 1,\n",
       " 'Monroe County': 17,\n",
       " 'Hood River County': 1,\n",
       " 'Doniphan County': 1,\n",
       " 'Minidoka County': 1,\n",
       " 'Pasquotank County': 1,\n",
       " 'Bolivar County': 1,\n",
       " 'Pittsburg County': 1,\n",
       " 'Dukes County': 1,\n",
       " 'Macoupin County': 1,\n",
       " 'Chemung County': 1,\n",
       " 'Alpena County': 1,\n",
       " 'Barber County': 1,\n",
       " 'Herkimer County': 1,\n",
       " 'Chicot County': 1,\n",
       " 'Monmouth County': 1,\n",
       " 'San Saba County': 1,\n",
       " 'Stephens County': 3,\n",
       " 'Kalkaska County': 1,\n",
       " 'Defiance County': 1,\n",
       " 'Iredell County': 1,\n",
       " 'Clinton County': 9,\n",
       " 'Ross County': 1,\n",
       " 'Holmes County': 3,\n",
       " 'Macon County': 6,\n",
       " 'Van Buren County': 4,\n",
       " 'Rapides Parish': 1,\n",
       " 'Delta County': 3,\n",
       " 'Christian County': 3,\n",
       " 'Heard County': 1,\n",
       " 'Pecos County': 1,\n",
       " 'Hunterdon County': 1,\n",
       " 'Laclede County': 1,\n",
       " 'Deuel County': 2,\n",
       " 'Moultrie County': 1,\n",
       " 'Yolo County': 1,\n",
       " 'Cecil County': 1,\n",
       " 'McCook County': 1,\n",
       " 'Broomfield County': 1,\n",
       " 'Sedgwick County': 2,\n",
       " 'Rabun County': 1,\n",
       " 'Grayson County': 3,\n",
       " 'Pope County': 3,\n",
       " 'Marengo County': 1,\n",
       " 'Spokane County': 1,\n",
       " 'Cape Girardeau County': 1,\n",
       " 'Hopkins County': 2,\n",
       " 'Ritchie County': 1,\n",
       " 'Edgefield County': 1,\n",
       " 'Belmont County': 1,\n",
       " 'Brantley County': 1,\n",
       " 'Inyo County': 1,\n",
       " 'Bailey County': 1,\n",
       " 'Vieques Municipio': 1,\n",
       " 'Swift County': 1,\n",
       " 'Kinney County': 1,\n",
       " 'Trigg County': 1,\n",
       " 'Dundy County': 1,\n",
       " 'Nuckolls County': 1,\n",
       " 'Gregg County': 1,\n",
       " 'Iberia Parish': 1,\n",
       " 'Navarro County': 1,\n",
       " 'Lenawee County': 1,\n",
       " 'Powell County': 2,\n",
       " 'Waseca County': 1,\n",
       " 'Ceiba Municipio': 1,\n",
       " 'Dickenson County': 1,\n",
       " 'DeKalb County': 6,\n",
       " 'Pontotoc County': 2,\n",
       " 'Banner County': 1,\n",
       " 'Gonzales County': 1,\n",
       " 'Pinellas County': 1,\n",
       " 'Vance County': 1,\n",
       " 'Jeff Davis County': 2,\n",
       " 'Dorado Municipio': 1,\n",
       " 'San Juan County': 4,\n",
       " 'Candler County': 1,\n",
       " 'Petersburg city': 1,\n",
       " 'Freeborn County': 1,\n",
       " 'Rutherford County': 2,\n",
       " 'Muscatine County': 1,\n",
       " 'Ray County': 1,\n",
       " 'Chattooga County': 1,\n",
       " 'Marlboro County': 1,\n",
       " 'Bartow County': 1,\n",
       " 'Dutchess County': 1,\n",
       " 'Little River County': 1,\n",
       " 'Cochran County': 1,\n",
       " 'Beauregard Parish': 1,\n",
       " 'Pennington County': 2,\n",
       " 'Southampton County': 1,\n",
       " 'Amite County': 1,\n",
       " 'Kidder County': 1,\n",
       " 'Stanly County': 1,\n",
       " 'Issaquena County': 1,\n",
       " 'Philadelphia County': 1,\n",
       " 'Vega Baja Municipio': 1,\n",
       " 'Nez Perce County': 1,\n",
       " 'Clallam County': 1,\n",
       " 'Santa Clara County': 1,\n",
       " 'Barren County': 1,\n",
       " 'Bannock County': 1,\n",
       " 'Sumter County': 4,\n",
       " 'Bowie County': 1,\n",
       " 'West Carroll Parish': 1,\n",
       " 'Sargent County': 1,\n",
       " 'Fannin County': 2,\n",
       " 'Jersey County': 1,\n",
       " 'Fentress County': 1,\n",
       " 'Oswego County': 1,\n",
       " 'Jones County': 6,\n",
       " 'Buckingham County': 1,\n",
       " 'Saginaw County': 1,\n",
       " 'Berks County': 1,\n",
       " 'Oregon County': 1,\n",
       " 'Frederick County': 2,\n",
       " 'Cannon County': 1,\n",
       " 'Atchison County': 2,\n",
       " 'Dent County': 1,\n",
       " 'Greene County': 14,\n",
       " 'Franklin Parish': 1,\n",
       " 'Bell County': 2,\n",
       " 'Taos County': 1,\n",
       " 'Ste. Genevieve County': 1,\n",
       " 'Rincon Municipio': 1,\n",
       " 'Geary County': 1,\n",
       " 'Sanilac County': 1,\n",
       " 'Harvey County': 1,\n",
       " 'Evans County': 1,\n",
       " 'Gilliam County': 1,\n",
       " 'Juab County': 1,\n",
       " 'Bladen County': 1,\n",
       " 'Walton County': 2,\n",
       " 'New York County': 1,\n",
       " 'Bergen County': 1,\n",
       " 'St. Tammany Parish': 1,\n",
       " 'St. Croix County': 1,\n",
       " 'Somerset County': 4,\n",
       " 'Pueblo County': 1,\n",
       " 'Colbert County': 1,\n",
       " 'Josephine County': 1,\n",
       " 'Anne Arundel County': 1,\n",
       " 'Colquitt County': 1,\n",
       " 'Talbot County': 2,\n",
       " 'Dearborn County': 1,\n",
       " 'Gila County': 1,\n",
       " 'Pasco County': 1,\n",
       " 'Vigo County': 1,\n",
       " 'Berrien County': 2,\n",
       " 'Wilkin County': 1,\n",
       " 'Attala County': 1,\n",
       " 'McMullen County': 1,\n",
       " 'Lynchburg city': 1,\n",
       " 'Yuma County': 2,\n",
       " 'Tishomingo County': 1,\n",
       " 'Dauphin County': 1,\n",
       " 'Oldham County': 2,\n",
       " 'Amador County': 1,\n",
       " 'Latimer County': 1,\n",
       " 'Leelanau County': 1,\n",
       " 'Antrim County': 1,\n",
       " 'Multnomah County': 1,\n",
       " 'Kenai Peninsula Borough': 1,\n",
       " 'Beadle County': 1,\n",
       " 'Kanabec County': 1,\n",
       " 'Des Moines County': 1,\n",
       " 'Alger County': 1,\n",
       " 'Aibonito Municipio': 1,\n",
       " 'Susquehanna County': 1,\n",
       " 'Leon County': 2,\n",
       " 'Appanoose County': 1,\n",
       " 'Gray County': 2,\n",
       " 'Richland Parish': 1,\n",
       " 'Phelps County': 2,\n",
       " 'Barrow County': 1,\n",
       " 'La Salle County': 1,\n",
       " 'Hayes County': 1,\n",
       " 'Petersburg Census Area': 1,\n",
       " 'Lake County': 12,\n",
       " 'Covington County': 2,\n",
       " 'Kemper County': 1,\n",
       " 'Dunn County': 2,\n",
       " 'Staunton city': 1,\n",
       " 'Osage County': 3,\n",
       " 'Monterey County': 1,\n",
       " 'Valley County': 3,\n",
       " 'Bedford County': 3,\n",
       " 'Waushara County': 1,\n",
       " 'Swains Island': 1,\n",
       " 'Labette County': 1,\n",
       " 'Republic County': 1,\n",
       " 'Lee County': 12,\n",
       " 'Merrick County': 1,\n",
       " 'Leavenworth County': 1,\n",
       " \"O'Brien County\": 1,\n",
       " 'Gentry County': 1,\n",
       " 'Burnett County': 1,\n",
       " 'Carteret County': 1,\n",
       " 'Ballard County': 1,\n",
       " 'Kingfisher County': 1,\n",
       " 'Arecibo Municipio': 1,\n",
       " 'Sierra County': 2,\n",
       " 'Glades County': 1,\n",
       " 'St. Charles County': 1,\n",
       " 'Walworth County': 2,\n",
       " 'Hughes County': 2,\n",
       " 'Manistee County': 1,\n",
       " 'Telfair County': 1,\n",
       " 'Plymouth County': 2,\n",
       " 'Rio Arriba County': 1,\n",
       " 'Floyd County': 6,\n",
       " 'Winona County': 1,\n",
       " 'Brazos County': 1,\n",
       " 'Stillwater County': 1,\n",
       " 'Bennington County': 1,\n",
       " 'Kossuth County': 1,\n",
       " 'La Salle Parish': 1,\n",
       " 'Talladega County': 1,\n",
       " 'Panola County': 2,\n",
       " 'Jerome County': 1,\n",
       " 'Cooke County': 1,\n",
       " 'Calhoun County': 11,\n",
       " 'Orocovis Municipio': 1,\n",
       " 'Schuyler County': 3,\n",
       " 'Tuscola County': 1,\n",
       " 'Hopewell city': 1,\n",
       " 'New London County': 1,\n",
       " 'Humacao Municipio': 1,\n",
       " 'Ogle County': 1,\n",
       " 'Mecosta County': 1,\n",
       " 'Ector County': 1,\n",
       " 'Lajas Municipio': 1,\n",
       " 'Cumberland County': 8,\n",
       " 'Cook County': 3,\n",
       " 'Poinsett County': 1,\n",
       " 'Wilcox County': 2,\n",
       " 'Dubuque County': 1,\n",
       " 'Fleming County': 1,\n",
       " 'Anasco Municipio': 1,\n",
       " 'Dale County': 1,\n",
       " 'Ada County': 1,\n",
       " 'Kay County': 1,\n",
       " 'Wade Hampton Census Area': 1,\n",
       " 'Cayuga County': 1,\n",
       " 'Los Angeles County': 1,\n",
       " 'Riley County': 1,\n",
       " 'Toa Alta Municipio': 1,\n",
       " 'Lake and Peninsula Borough': 1,\n",
       " 'Norfolk County': 1,\n",
       " 'Reeves County': 1,\n",
       " 'Ashtabula County': 1,\n",
       " 'Routt County': 1,\n",
       " 'Shannon County': 2,\n",
       " 'LaMoure County': 1,\n",
       " 'Sequoyah County': 1,\n",
       " 'Sawyer County': 1,\n",
       " 'McDuffie County': 1,\n",
       " 'Durham County': 1,\n",
       " 'Terrebonne Parish': 1,\n",
       " 'Hansford County': 1,\n",
       " 'Contra Costa County': 1,\n",
       " 'Tillamook County': 1,\n",
       " 'Stewart County': 2,\n",
       " 'McCurtain County': 1,\n",
       " 'Merced County': 1,\n",
       " 'Jefferson Davis County': 1,\n",
       " 'Norton city': 1,\n",
       " 'Lincoln County': 23,\n",
       " 'Chase County': 2,\n",
       " 'Rockingham County': 3,\n",
       " 'Isabella County': 1,\n",
       " 'Avoyelles Parish': 1,\n",
       " 'Berkeley County': 2,\n",
       " 'Catawba County': 1,\n",
       " 'Coweta County': 1,\n",
       " 'Matagorda County': 1,\n",
       " 'Rooks County': 1,\n",
       " 'Costilla County': 1,\n",
       " 'Chesterfield County': 2,\n",
       " 'St. Martin Parish': 1,\n",
       " 'Gulf County': 1,\n",
       " 'Maverick County': 1,\n",
       " 'Prowers County': 1,\n",
       " 'McDonald County': 1,\n",
       " 'Wharton County': 1,\n",
       " 'Robeson County': 1,\n",
       " 'Olmsted County': 1,\n",
       " 'Dougherty County': 1,\n",
       " 'Burnet County': 1,\n",
       " 'Beaver County': 3,\n",
       " 'Towner County': 1,\n",
       " 'Pulaski County': 7,\n",
       " 'Hamlin County': 1,\n",
       " 'Wapello County': 1,\n",
       " 'Casey County': 1,\n",
       " 'Prentiss County': 1,\n",
       " 'Vernon County': 2,\n",
       " 'Sac County': 1,\n",
       " 'Ozaukee County': 1,\n",
       " 'Antelope County': 1,\n",
       " 'Clermont County': 1,\n",
       " 'Perry County': 10,\n",
       " 'Geneva County': 1,\n",
       " 'Pottawattamie County': 1,\n",
       " 'Citrus County': 1,\n",
       " 'Woodruff County': 1,\n",
       " 'Coamo Municipio': 1,\n",
       " 'Shenandoah County': 1,\n",
       " 'Alameda County': 1,\n",
       " 'Barnes County': 1,\n",
       " 'Childress County': 1,\n",
       " 'Richmond County': 4,\n",
       " 'Deschutes County': 1,\n",
       " 'Walsh County': 1,\n",
       " 'King and Queen County': 1,\n",
       " 'Bertie County': 1,\n",
       " 'Coleman County': 1,\n",
       " 'Atlantic County': 1,\n",
       " 'Bristol city': 1,\n",
       " 'Newberry County': 1,\n",
       " 'Guadalupe County': 2,\n",
       " 'Arthur County': 1,\n",
       " 'Hot Spring County': 1,\n",
       " 'Santa Rosa County': 1,\n",
       " 'Gaston County': 1,\n",
       " 'Goodhue County': 1,\n",
       " 'Bent County': 1,\n",
       " 'Meeker County': 1,\n",
       " 'Bowman County': 1,\n",
       " 'Sebastian County': 1,\n",
       " 'Gallia County': 1,\n",
       " 'Somervell County': 1,\n",
       " 'Franklin County': 24,\n",
       " 'Troup County': 1,\n",
       " 'Acadia Parish': 1,\n",
       " 'Harnett County': 1,\n",
       " 'Loudon County': 1,\n",
       " 'Becker County': 1,\n",
       " 'Bosque County': 1,\n",
       " 'Skamania County': 1,\n",
       " 'Barbour County': 2,\n",
       " 'Snyder County': 1,\n",
       " 'Bonneville County': 1,\n",
       " 'Yuba County': 1,\n",
       " 'Haralson County': 1,\n",
       " 'Tensas Parish': 1,\n",
       " 'Montgomery County': 18,\n",
       " 'Humphreys County': 2,\n",
       " 'Owsley County': 1,\n",
       " 'Northwest Arctic Borough': 1,\n",
       " 'Tripp County': 1,\n",
       " 'Mayaguez Municipio': 1,\n",
       " 'Tom Green County': 1,\n",
       " 'Treasure County': 1,\n",
       " 'Elliott County': 1,\n",
       " 'Barnstable County': 1,\n",
       " 'Prince of Wales-Hyder Census Area': 1,\n",
       " 'Schoharie County': 1,\n",
       " 'Tooele County': 1,\n",
       " 'Carlton County': 1,\n",
       " 'Miami-Dade County': 1,\n",
       " 'Lunenburg County': 1,\n",
       " 'Upson County': 1,\n",
       " 'Oliver County': 1,\n",
       " 'Mora County': 1,\n",
       " 'Penobscot County': 1,\n",
       " 'Cheyenne County': 3,\n",
       " 'Ripley County': 2,\n",
       " 'Southeast Fairbanks Census Area': 1,\n",
       " 'Tippah County': 1,\n",
       " 'Androscoggin County': 1,\n",
       " 'Boulder County': 1,\n",
       " 'La Paz County': 1,\n",
       " 'Morovis Municipio': 1,\n",
       " 'Coles County': 1,\n",
       " 'Bethel Census Area': 1,\n",
       " 'Gosper County': 1,\n",
       " 'Furnas County': 1,\n",
       " 'Cowley County': 1,\n",
       " 'Churchill County': 1,\n",
       " 'Skagway Municipality': 1,\n",
       " 'Yabucoa Municipio': 1,\n",
       " 'Benton County': 9,\n",
       " 'Dickens County': 1,\n",
       " 'Accomack County': 1,\n",
       " 'Smith County': 4,\n",
       " \"Queen Anne's County\": 1,\n",
       " 'Maui County': 1,\n",
       " 'Gibson County': 2,\n",
       " 'Lipscomb County': 1,\n",
       " 'Lumpkin County': 1,\n",
       " 'Gunnison County': 1,\n",
       " 'Utuado Municipio': 1,\n",
       " 'Surry County': 2,\n",
       " 'Stafford County': 2,\n",
       " 'Petroleum County': 1,\n",
       " 'Vernon Parish': 1,\n",
       " 'DeSoto County': 2,\n",
       " 'Pitkin County': 1,\n",
       " 'Breathitt County': 1,\n",
       " 'McKean County': 1,\n",
       " 'Pipestone County': 1,\n",
       " 'Dickey County': 1,\n",
       " 'Switzerland County': 1,\n",
       " 'Fredericksburg city': 1,\n",
       " 'Nowata County': 1,\n",
       " 'Cameron Parish': 1,\n",
       " 'Mountrail County': 1,\n",
       " 'Bryan County': 2,\n",
       " 'Litchfield County': 1,\n",
       " 'Neshoba County': 1,\n",
       " 'East Carroll Parish': 1,\n",
       " 'Pender County': 1,\n",
       " 'Colfax County': 2,\n",
       " 'San Augustine County': 1,\n",
       " 'Muskegon County': 1,\n",
       " 'Nassau County': 2,\n",
       " 'Roberts County': 2,\n",
       " 'Pittsylvania County': 1,\n",
       " 'Nolan County': 1,\n",
       " 'Meigs County': 2,\n",
       " 'Harney County': 1,\n",
       " 'Racine County': 1,\n",
       " 'Angelina County': 1,\n",
       " 'McDowell County': 2,\n",
       " 'Alexandria city': 1,\n",
       " 'Parke County': 1,\n",
       " 'Sequatchie County': 1,\n",
       " 'Bedford city': 1,\n",
       " 'Sullivan County': 6,\n",
       " 'Prince Edward County': 1,\n",
       " 'Tate County': 1,\n",
       " 'Perquimans County': 1,\n",
       " 'Stone County': 3,\n",
       " 'McDonough County': 1,\n",
       " 'Hampton County': 1,\n",
       " 'Randall County': 1,\n",
       " 'Dawes County': 1,\n",
       " 'Yates County': 1,\n",
       " 'Butt County': 1,\n",
       " 'Jefferson County': 25,\n",
       " 'Hardy County': 1,\n",
       " 'Martin County': 6,\n",
       " 'Roger Mills County': 1,\n",
       " 'St. Mary Parish': 1,\n",
       " 'Rockland County': 1,\n",
       " 'Gooding County': 1,\n",
       " 'James City County': 1,\n",
       " 'Grays Harbor County': 1,\n",
       " 'Clarendon County': 1,\n",
       " 'Waupaca County': 1,\n",
       " 'Butts County': 1,\n",
       " 'Chaves County': 1,\n",
       " 'Dallam County': 1,\n",
       " 'Nantucket County': 1,\n",
       " 'St. Bernard Parish': 1,\n",
       " 'Fairbanks North Star Borough': 1,\n",
       " 'Searcy County': 1,\n",
       " 'Western District': 1,\n",
       " 'Luzerne County': 1,\n",
       " 'Sonoma County': 1,\n",
       " 'Emmons County': 1,\n",
       " 'Malheur County': 1,\n",
       " 'Clear Creek County': 1,\n",
       " 'Noxubee County': 1,\n",
       " 'Canadian County': 1,\n",
       " 'Titus County': 1,\n",
       " 'Hancock County': 10,\n",
       " 'Charles County': 1,\n",
       " 'Carroll County': 13,\n",
       " 'Pawnee County': 3,\n",
       " 'Culebra Municipio': 1,\n",
       " 'Los Alamos County': 1,\n",
       " 'McHenry County': 2,\n",
       " 'Guaynabo Municipio': 1,\n",
       " 'Grand Traverse County': 1,\n",
       " 'Van Wert County': 1,\n",
       " 'Irion County': 1,\n",
       " 'McCulloch County': 1,\n",
       " 'Le Sueur County': 1,\n",
       " 'Weber County': 1,\n",
       " 'Green Lake County': 1,\n",
       " 'Phillips County': 4,\n",
       " 'Spartanburg County': 1,\n",
       " 'Volusia County': 1,\n",
       " 'Rankin County': 1,\n",
       " 'La Crosse County': 1,\n",
       " 'Wallowa County': 1,\n",
       " 'Audubon County': 1,\n",
       " 'Butte County': 3,\n",
       " 'Morris County': 3,\n",
       " 'Quebradillas Municipio': 1,\n",
       " 'Mohave County': 1,\n",
       " 'Edmunds County': 1,\n",
       " 'Onslow County': 1,\n",
       " 'Wyandotte County': 1,\n",
       " 'Knott County': 1,\n",
       " 'Manitowoc County': 1,\n",
       " 'Briscoe County': 1,\n",
       " 'Manatee County': 1,\n",
       " 'Shoshone County': 1,\n",
       " 'Allamakee County': 1,\n",
       " 'Silver Bow County': 1,\n",
       " 'Limestone County': 2,\n",
       " 'Westchester County': 1,\n",
       " 'Boone County': 8,\n",
       " 'Scotts Bluff County': 1,\n",
       " 'Charlton County': 1,\n",
       " 'Wabaunsee County': 1,\n",
       " 'Aguadilla Municipio': 1,\n",
       " 'Jennings County': 1,\n",
       " 'Kenton County': 1,\n",
       " 'Buena Vista County': 1,\n",
       " 'Oneida County': 3,\n",
       " 'Colusa County': 1,\n",
       " 'Powder River County': 1,\n",
       " 'Wilkinson County': 2,\n",
       " 'Independence County': 1,\n",
       " 'Northampton County': 3,\n",
       " 'Ouachita County': 1,\n",
       " 'Dixon County': 1,\n",
       " 'White County': 5,\n",
       " 'Ben Hill County': 1,\n",
       " 'St. Louis County': 2,\n",
       " 'Kingman County': 1,\n",
       " 'Guernsey County': 1,\n",
       " 'Cortland County': 1,\n",
       " 'Fauquier County': 1,\n",
       " 'Long County': 1,\n",
       " 'Mahoning County': 1,\n",
       " 'Barry County': 2,\n",
       " 'Dimmit County': 1,\n",
       " 'Bonner County': 1,\n",
       " 'Buena Vista city': 1,\n",
       " 'Sharkey County': 1,\n",
       " 'Deer Lodge County': 1,\n",
       " 'Anchorage Municipality': 1,\n",
       " 'Gadsden County': 1,\n",
       " 'Frio County': 1,\n",
       " 'Sioux County': 3,\n",
       " 'Leslie County': 1,\n",
       " 'Itasca County': 1,\n",
       " 'Fergus County': 1,\n",
       " 'Swain County': 1,\n",
       " 'Richardson County': 1,\n",
       " 'Rolette County': 1,\n",
       " 'San Francisco County': 1,\n",
       " 'Wheatland County': 1,\n",
       " 'Missoula County': 1,\n",
       " 'Mahaska County': 1,\n",
       " 'Gillespie County': 1,\n",
       " 'Siskiyou County': 1,\n",
       " 'Chippewa County': 3,\n",
       " 'San Mateo County': 1,\n",
       " 'Kiowa County': 3,\n",
       " 'Escambia County': 2,\n",
       " 'Juneau County': 1,\n",
       " 'Salinas Municipio': 1,\n",
       " 'Cuyahoga County': 1,\n",
       " 'Millard County': 1,\n",
       " 'Oconto County': 1,\n",
       " 'Caroline County': 2,\n",
       " 'Lubbock County': 1,\n",
       " 'St. James Parish': 1,\n",
       " 'Kalamazoo County': 1,\n",
       " 'Otter Tail County': 1,\n",
       " 'Platte County': 3,\n",
       " 'Darke County': 1,\n",
       " 'Westmoreland County': 2,\n",
       " 'Meriwether County': 1,\n",
       " 'Chelan County': 1,\n",
       " 'Tolland County': 1,\n",
       " 'Hooker County': 1,\n",
       " 'Menard County': 2,\n",
       " 'Burleigh County': 1,\n",
       " 'Maury County': 1,\n",
       " 'Schley County': 1,\n",
       " 'Yauco Municipio': 1,\n",
       " 'Rock County': 3,\n",
       " 'Cattaraugus County': 1,\n",
       " 'Lea County': 1,\n",
       " 'Redwood County': 1,\n",
       " 'Ida County': 1,\n",
       " 'Goshen County': 1,\n",
       " 'Barranquitas Municipio': 1,\n",
       " 'Gem County': 1,\n",
       " 'Huntingdon County': 1,\n",
       " 'Kit Carson County': 1,\n",
       " 'Shasta County': 1,\n",
       " 'Braxton County': 1,\n",
       " 'Palm Beach County': 1,\n",
       " 'Humboldt County': 3,\n",
       " 'Parmer County': 1,\n",
       " 'Barceloneta Municipio': 1,\n",
       " 'Calloway County': 1,\n",
       " 'Esmeralda County': 1,\n",
       " 'Pointe Coupee Parish': 1,\n",
       " 'Calvert County': 1,\n",
       " 'Calumet County': 1,\n",
       " 'Dillingham Census Area': 1,\n",
       " 'Henderson County': 5,\n",
       " 'Wise County': 2,\n",
       " 'Grundy County': 4,\n",
       " 'Del Norte County': 1,\n",
       " 'Bath County': 2,\n",
       " 'Dickinson County': 3,\n",
       " 'Lebanon County': 1,\n",
       " 'Arenac County': 1,\n",
       " 'Hardee County': 1,\n",
       " 'Trimble County': 1,\n",
       " 'Crisp County': 1,\n",
       " 'DuPage County': 1,\n",
       " 'Kauai County': 1,\n",
       " 'Crane County': 1,\n",
       " 'Craven County': 1,\n",
       " 'Aitkin County': 1,\n",
       " 'Cottle County': 1,\n",
       " 'Jessamine County': 1,\n",
       " 'Sanborn County': 1,\n",
       " 'Laramie County': 1,\n",
       " 'Suffolk city': 1,\n",
       " 'Williamsburg city': 1,\n",
       " 'Appling County': 1,\n",
       " 'St. Landry Parish': 1,\n",
       " 'Kershaw County': 1,\n",
       " 'Elk County': 2,\n",
       " 'Lenoir County': 1,\n",
       " 'New Hanover County': 1,\n",
       " 'Plumas County': 1,\n",
       " 'Claiborne Parish': 1,\n",
       " 'Cocke County': 1,\n",
       " 'Taylor County': 7,\n",
       " 'Red River Parish': 1,\n",
       " 'McLeod County': 1,\n",
       " 'Grant Parish': 1,\n",
       " 'Bremer County': 1,\n",
       " 'Broome County': 1,\n",
       " 'Lynn County': 1,\n",
       " 'Mower County': 1,\n",
       " 'Bristol Bay Borough': 1,\n",
       " 'Maricao Municipio': 1,\n",
       " 'Natrona County': 1,\n",
       " 'McKinley County': 1,\n",
       " 'Seminole County': 3,\n",
       " 'Chenango County': 1,\n",
       " 'Harlan County': 2,\n",
       " 'Augusta County': 1,\n",
       " 'Bandera County': 1,\n",
       " 'Hall County': 3,\n",
       " 'Lackawanna County': 1,\n",
       " 'Deaf Smith County': 1,\n",
       " 'Harper County': 2,\n",
       " 'Starke County': 1,\n",
       " 'Colonial Heights city': 1,\n",
       " 'Raleigh County': 1,\n",
       " 'Yadkin County': 1,\n",
       " 'Nottoway County': 1,\n",
       " 'Judith Basin County': 1,\n",
       " 'Greeley County': 2,\n",
       " 'Mason County': 6,\n",
       " 'Eaton County': 1,\n",
       " 'Wyandot County': 1,\n",
       " 'Parker County': 1,\n",
       " 'Griggs County': 1,\n",
       " 'Sublette County': 1,\n",
       " 'St. Thomas Island': 1,\n",
       " 'Stoddard County': 1,\n",
       " 'Charleston County': 1,\n",
       " 'Honolulu County': 1,\n",
       " 'Hempstead County': 1,\n",
       " 'Kewaunee County': 1,\n",
       " 'Walla Walla County': 1,\n",
       " 'Sherburne County': 1,\n",
       " 'Adjuntas Municipio': 1,\n",
       " 'Elkhart County': 1,\n",
       " 'Sunflower County': 1,\n",
       " 'Comerio Municipio': 1,\n",
       " 'Fayette County': 11,\n",
       " 'Ontario County': 1,\n",
       " 'Assumption Parish': 1,\n",
       " 'San Joaquin County': 1,\n",
       " 'Waldo County': 1,\n",
       " 'District of Columbia': 1,\n",
       " 'Hartford County': 1,\n",
       " 'Dane County': 1,\n",
       " 'Hennepin County': 1,\n",
       " 'Clare County': 1,\n",
       " 'Menominee County': 2,\n",
       " 'Schenectady County': 1,\n",
       " 'Bristol County': 2,\n",
       " 'Hemphill County': 1,\n",
       " 'Glynn County': 1,\n",
       " 'Allegheny County': 1,\n",
       " 'Washoe County': 1,\n",
       " 'Lassen County': 1,\n",
       " 'Roanoke city': 1,\n",
       " 'Fulton County': 8,\n",
       " 'Oglethorpe County': 1,\n",
       " 'Lanier County': 1,\n",
       " 'Carlisle County': 1,\n",
       " 'Hood County': 1,\n",
       " 'Johnson County': 12,\n",
       " 'Muscogee County': 1,\n",
       " 'Granite County': 1,\n",
       " 'McKenzie County': 1,\n",
       " 'Vilas County': 1,\n",
       " 'Botetourt County': 1,\n",
       " 'Arlington County': 1,\n",
       " 'Tucker County': 1,\n",
       " 'Hoonah-Angoon Census Area': 1,\n",
       " 'Galax city': 1,\n",
       " 'Dona Ana County': 1,\n",
       " 'Rains County': 1,\n",
       " 'Suwannee County': 1,\n",
       " 'Guthrie County': 1,\n",
       " 'Saunders County': 1,\n",
       " 'Pondera County': 1,\n",
       " 'Fort Bend County': 1,\n",
       " 'Morrow County': 2,\n",
       " 'Sutter County': 1,\n",
       " 'Washita County': 1,\n",
       " 'Klamath County': 1,\n",
       " 'Kearney County': 1,\n",
       " 'Williamsburg County': 1,\n",
       " 'Potter County': 3,\n",
       " 'Dillon County': 1,\n",
       " 'Ashley County': 1,\n",
       " 'Bradley County': 2,\n",
       " 'Woodbury County': 1,\n",
       " 'Geauga County': 1,\n",
       " 'Culberson County': 1,\n",
       " 'Lyman County': 1,\n",
       " 'Yankton County': 1,\n",
       " 'Mills County': 2,\n",
       " 'Liberty County': 4,\n",
       " 'Jefferson Parish': 1,\n",
       " 'Neosho County': 1,\n",
       " 'Woodson County': 1,\n",
       " 'Sanpete County': 1,\n",
       " 'Hand County': 1,\n",
       " 'Richland County': 6,\n",
       " 'Dorchester County': 2,\n",
       " 'Pratt County': 1,\n",
       " 'Leake County': 1,\n",
       " 'Sagadahoc County': 1,\n",
       " 'Napa County': 1,\n",
       " 'Love County': 1,\n",
       " 'Cleburne County': 2,\n",
       " 'Torrance County': 1,\n",
       " 'Gilchrist County': 1,\n",
       " 'Breckinridge County': 1,\n",
       " 'Cochise County': 1,\n",
       " 'Rawlins County': 1,\n",
       " 'Wibaux County': 1,\n",
       " 'San Miguel County': 2,\n",
       " 'Nance County': 1,\n",
       " 'Refugio County': 1,\n",
       " 'Blaine County': 4,\n",
       " 'York County': 5,\n",
       " 'Gallatin County': 3,\n",
       " 'Granville County': 1,\n",
       " 'Fillmore County': 2,\n",
       " 'Dickson County': 1,\n",
       " 'Allegany County': 2,\n",
       " 'Muskingum County': 1,\n",
       " 'Hardin County': 6,\n",
       " 'Saipan Municipality': 1,\n",
       " 'Columbiana County': 1,\n",
       " 'Custer County': 6,\n",
       " 'Bee County': 1,\n",
       " 'Richmond city': 1,\n",
       " 'Haywood County': 2,\n",
       " 'Broward County': 1,\n",
       " 'Burke County': 3,\n",
       " 'Hendricks County': 1,\n",
       " 'Stanley County': 1,\n",
       " 'El Paso County': 2,\n",
       " 'Falls County': 1,\n",
       " 'Hawkins County': 1,\n",
       " 'Jackson Parish': 1,\n",
       " 'Rockbridge County': 1,\n",
       " 'Moody County': 1,\n",
       " 'De Baca County': 1,\n",
       " 'King William County': 1,\n",
       " 'Rockwall County': 1,\n",
       " 'Hart County': 2,\n",
       " 'St. Francois County': 1,\n",
       " 'Marshall County': 12,\n",
       " 'Wood County': 4,\n",
       " 'Payne County': 1,\n",
       " 'Cabell County': 1,\n",
       " 'Presque Isle County': 1,\n",
       " 'St. John Island': 1,\n",
       " 'Hays County': 1,\n",
       " 'Box Elder County': 1,\n",
       " 'Emporia city': 1,\n",
       " 'Huerfano County': 1,\n",
       " 'Cassia County': 1,\n",
       " 'Meade County': 3,\n",
       " 'Cottonwood County': 1,\n",
       " 'Miner County': 1,\n",
       " 'Chowan County': 1,\n",
       " 'Castro County': 1,\n",
       " 'Red Willow County': 1,\n",
       " 'Boyle County': 1,\n",
       " 'Sitka City and Borough': 1,\n",
       " 'Webster County': 7,\n",
       " 'Kimble County': 1,\n",
       " 'Clayton County': 2,\n",
       " 'Catahoula Parish': 1,\n",
       " 'St. Charles Parish': 1,\n",
       " 'Mayes County': 1,\n",
       " 'Preble County': 1,\n",
       " 'Manati Municipio': 1,\n",
       " 'Bamberg County': 1,\n",
       " 'Luce County': 1,\n",
       " 'Clinch County': 1,\n",
       " 'Sweetwater County': 1,\n",
       " 'St. Francis County': 1,\n",
       " 'Ravalli County': 1,\n",
       " 'Denver County': 1,\n",
       " 'Snohomish County': 1,\n",
       " 'Daniels County': 1,\n",
       " 'Wahkiakum County': 1,\n",
       " 'Stonewall County': 1,\n",
       " 'Ciales Municipio': 1,\n",
       " 'Bulloch County': 1,\n",
       " 'Belknap County': 1,\n",
       " 'Cheatham County': 1,\n",
       " 'Montmorency County': 1,\n",
       " 'Fluvanna County': 1,\n",
       " 'Sarasota County': 1,\n",
       " 'Hot Springs County': 1,\n",
       " 'Corson County': 1,\n",
       " 'Towns County': 1,\n",
       " 'Wetzel County': 1,\n",
       " 'Big Stone County': 1,\n",
       " 'Cibola County': 1,\n",
       " 'Habersham County': 1,\n",
       " 'Butler County': 8,\n",
       " 'Highlands County': 1,\n",
       " 'Naguabo Municipio': 1,\n",
       " 'Smyth County': 1,\n",
       " 'Hampshire County': 2,\n",
       " 'Kendall County': 2,\n",
       " 'Aguada Municipio': 1,\n",
       " 'Elbert County': 2,\n",
       " 'Jerauld County': 1,\n",
       " 'Starr County': 1,\n",
       " 'Mingo County': 1,\n",
       " 'Benzie County': 1,\n",
       " 'Nye County': 1,\n",
       " 'Conway County': 1,\n",
       " 'Upshur County': 2,\n",
       " 'Atoka County': 1,\n",
       " 'Lexington County': 1,\n",
       " 'Wicomico County': 1,\n",
       " 'Ohio County': 3,\n",
       " 'Thurston County': 2,\n",
       " 'Schuylkill County': 1,\n",
       " 'Ouray County': 1,\n",
       " 'El Dorado County': 1,\n",
       " 'Live Oak County': 1,\n",
       " 'Ware County': 1,\n",
       " 'Houston County': 5,\n",
       " 'Trempealeau County': 1,\n",
       " 'Twin Falls County': 1,\n",
       " 'Isabela Municipio': 1,\n",
       " 'Wilkes County': 2,\n",
       " 'Beaufort County': 2,\n",
       " 'Hocking County': 1,\n",
       " 'Cooper County': 1,\n",
       " 'Uvalde County': 1,\n",
       " 'Grand Forks County': 1,\n",
       " 'Yellow Medicine County': 1,\n",
       " 'Tuolumne County': 1,\n",
       " 'Kern County': 1,\n",
       " 'Caguas Municipio': 1,\n",
       " 'Wilbarger County': 1,\n",
       " 'Taliaferro County': 1,\n",
       " 'Forsyth County': 2,\n",
       " 'Pleasants County': 1,\n",
       " 'Brazoria County': 1,\n",
       " 'Fountain County': 1,\n",
       " 'Todd County': 3,\n",
       " 'Doddridge County': 1,\n",
       " 'Tarrant County': 1,\n",
       " 'Covington city': 1,\n",
       " 'Murray County': 3,\n",
       " 'De Witt County': 1,\n",
       " 'Whitfield County': 1,\n",
       " 'Franklin city': 1,\n",
       " 'Jim Hogg County': 1,\n",
       " 'Traill County': 1,\n",
       " 'Okfuskee County': 1,\n",
       " 'Sheridan County': 5,\n",
       " 'Otoe County': 1,\n",
       " 'Tioga County': 2,\n",
       " 'Larue County': 1,\n",
       " 'Chesapeake city': 1,\n",
       " 'Monona County': 1,\n",
       " 'Spencer County': 2,\n",
       " 'Licking County': 1,\n",
       " 'Loving County': 1,\n",
       " 'Faribault County': 1,\n",
       " 'Cass County': 9,\n",
       " 'Screven County': 1,\n",
       " 'Trujillo Alto Municipio': 1,\n",
       " 'Graves County': 1,\n",
       " 'Forrest County': 1,\n",
       " 'Walker County': 3,\n",
       " \"Manu'a District\": 1,\n",
       " 'Colorado County': 1,\n",
       " 'Nueces County': 1,\n",
       " 'Spalding County': 1,\n",
       " 'Morton County': 2,\n",
       " 'Swisher County': 1,\n",
       " 'Henrico County': 1,\n",
       " 'Tinian Municipality': 1,\n",
       " 'Red River County': 1,\n",
       " 'Larimer County': 1,\n",
       " 'Lamar County': 4,\n",
       " 'St. Joseph County': 2,\n",
       " 'Iberville Parish': 1,\n",
       " 'Blair County': 1,\n",
       " 'Amelia County': 1,\n",
       " 'Ferry County': 1,\n",
       " 'Haskell County': 3,\n",
       " 'Niobrara County': 1,\n",
       " 'Indian River County': 1,\n",
       " 'Lafourche Parish': 1,\n",
       " 'Fremont County': 4,\n",
       " 'Nobles County': 1,\n",
       " 'Russell County': 4,\n",
       " 'Gilpin County': 1,\n",
       " 'Edmonson County': 1,\n",
       " 'Stark County': 3,\n",
       " 'Wagoner County': 1,\n",
       " 'Effingham County': 2,\n",
       " 'Buffalo County': 3,\n",
       " 'Shiawassee County': 1,\n",
       " 'Huntington County': 1,\n",
       " 'Toombs County': 1,\n",
       " 'Callaway County': 1,\n",
       " 'Rose Island': 1,\n",
       " 'Chattahoochee County': 1,\n",
       " 'Dubois County': 1,\n",
       " 'Genesee County': 2,\n",
       " 'Missaukee County': 1,\n",
       " 'Hillsborough County': 2,\n",
       " 'Arroyo Municipio': 1,\n",
       " 'Imperial County': 1,\n",
       " 'Gove County': 1,\n",
       " 'Caddo County': 1,\n",
       " 'Mecklenburg County': 2,\n",
       " 'Koochiching County': 1,\n",
       " 'Las Marias Municipio': 1,\n",
       " 'Modoc County': 1,\n",
       " 'Crook County': 2,\n",
       " 'Coosa County': 1,\n",
       " 'Charlottesville city': 1,\n",
       " 'Tulare County': 1,\n",
       " 'Daviess County': 3,\n",
       " 'Pinal County': 1,\n",
       " 'Bienville Parish': 1,\n",
       " 'Minnehaha County': 1,\n",
       " 'Obion County': 1,\n",
       " 'Pepin County': 1,\n",
       " 'Lemhi County': 1,\n",
       " 'Aroostook County': 1,\n",
       " 'Le Flore County': 1,\n",
       " 'Weston County': 1,\n",
       " 'Hinsdale County': 1,\n",
       " 'Stephenson County': 1,\n",
       " 'Suffolk County': 2,\n",
       " 'Mineral County': 4,\n",
       " 'Pushmataha County': 1,\n",
       " 'Providence County': 1,\n",
       " 'Washburn County': 1,\n",
       " 'Guilford County': 1,\n",
       " 'Person County': 1,\n",
       " 'Centre County': 1,\n",
       " 'Danville city': 1,\n",
       " 'Trinity County': 2,\n",
       " 'Drew County': 1,\n",
       " 'Kearny County': 1,\n",
       " 'Rio Blanco County': 1,\n",
       " 'Yakima County': 1,\n",
       " 'Bacon County': 1,\n",
       " 'Wilson County': 4,\n",
       " 'Ottawa County': 4,\n",
       " 'Dallas County': 5,\n",
       " 'Sheboygan County': 1,\n",
       " 'Iosco County': 1,\n",
       " 'Manassas Park city': 1,\n",
       " 'Sweet Grass County': 1,\n",
       " 'Arkansas County': 1,\n",
       " 'Milwaukee County': 1,\n",
       " 'Blue Earth County': 1,\n",
       " ...}"
      ]
     },
     "execution_count": 32,
     "metadata": {},
     "output_type": "execute_result"
    }
   ],
   "source": [
    "results"
   ]
  },
  {
   "cell_type": "code",
   "execution_count": 24,
   "metadata": {
    "collapsed": false
   },
   "outputs": [
    {
     "data": {
      "text/plain": [
       "True"
      ]
     },
     "execution_count": 24,
     "metadata": {},
     "output_type": "execute_result"
    }
   ],
   "source": [
    "d == results"
   ]
  },
  {
   "cell_type": "markdown",
   "metadata": {},
   "source": [
    "Comprehensions allow you to do more, faster, in a way that's much easier to understand."
   ]
  },
  {
   "cell_type": "markdown",
   "metadata": {},
   "source": [
    "Remember how Pandas lets us index dataframes using a series full of `True` or `False`?"
   ]
  },
  {
   "cell_type": "code",
   "execution_count": 35,
   "metadata": {
    "collapsed": true
   },
   "outputs": [],
   "source": [
    "import pandas"
   ]
  },
  {
   "cell_type": "code",
   "execution_count": 36,
   "metadata": {
    "collapsed": true
   },
   "outputs": [],
   "source": [
    "persons = pandas.read_csv('people.csv')"
   ]
  },
  {
   "cell_type": "code",
   "execution_count": 37,
   "metadata": {
    "collapsed": false
   },
   "outputs": [
    {
     "data": {
      "text/html": [
       "<div style=\"max-height:1000px;max-width:1500px;overflow:auto;\">\n",
       "<table border=\"1\" class=\"dataframe\">\n",
       "  <thead>\n",
       "    <tr style=\"text-align: right;\">\n",
       "      <th></th>\n",
       "      <th>name</th>\n",
       "      <th>age</th>\n",
       "      <th>city</th>\n",
       "      <th>nickname</th>\n",
       "      <th>job</th>\n",
       "    </tr>\n",
       "  </thead>\n",
       "  <tbody>\n",
       "    <tr>\n",
       "      <th>0</th>\n",
       "      <td> Zachary</td>\n",
       "      <td> 25</td>\n",
       "      <td>    Tucson</td>\n",
       "      <td> Zach</td>\n",
       "      <td> Teacher</td>\n",
       "    </tr>\n",
       "    <tr>\n",
       "      <th>1</th>\n",
       "      <td>    Levi</td>\n",
       "      <td> 23</td>\n",
       "      <td>   Phoenix</td>\n",
       "      <td>  NaN</td>\n",
       "      <td> Student</td>\n",
       "    </tr>\n",
       "    <tr>\n",
       "      <th>2</th>\n",
       "      <td> Atticus</td>\n",
       "      <td> 19</td>\n",
       "      <td> Flagstaff</td>\n",
       "      <td> Atti</td>\n",
       "      <td> Student</td>\n",
       "    </tr>\n",
       "  </tbody>\n",
       "</table>\n",
       "</div>"
      ],
      "text/plain": [
       "      name  age       city nickname      job\n",
       "0  Zachary   25     Tucson     Zach  Teacher\n",
       "1     Levi   23    Phoenix      NaN  Student\n",
       "2  Atticus   19  Flagstaff     Atti  Student"
      ]
     },
     "execution_count": 37,
     "metadata": {},
     "output_type": "execute_result"
    }
   ],
   "source": [
    "persons"
   ]
  },
  {
   "cell_type": "code",
   "execution_count": 43,
   "metadata": {
    "collapsed": true
   },
   "outputs": [],
   "source": [
    "filt = [True, True, False]"
   ]
  },
  {
   "cell_type": "code",
   "execution_count": 44,
   "metadata": {
    "collapsed": false
   },
   "outputs": [
    {
     "data": {
      "text/html": [
       "<div style=\"max-height:1000px;max-width:1500px;overflow:auto;\">\n",
       "<table border=\"1\" class=\"dataframe\">\n",
       "  <thead>\n",
       "    <tr style=\"text-align: right;\">\n",
       "      <th></th>\n",
       "      <th>name</th>\n",
       "      <th>age</th>\n",
       "      <th>city</th>\n",
       "      <th>nickname</th>\n",
       "      <th>job</th>\n",
       "    </tr>\n",
       "  </thead>\n",
       "  <tbody>\n",
       "    <tr>\n",
       "      <th>0</th>\n",
       "      <td> Zachary</td>\n",
       "      <td> 25</td>\n",
       "      <td>  Tucson</td>\n",
       "      <td> Zach</td>\n",
       "      <td> Teacher</td>\n",
       "    </tr>\n",
       "    <tr>\n",
       "      <th>1</th>\n",
       "      <td>    Levi</td>\n",
       "      <td> 23</td>\n",
       "      <td> Phoenix</td>\n",
       "      <td>  NaN</td>\n",
       "      <td> Student</td>\n",
       "    </tr>\n",
       "  </tbody>\n",
       "</table>\n",
       "</div>"
      ],
      "text/plain": [
       "      name  age     city nickname      job\n",
       "0  Zachary   25   Tucson     Zach  Teacher\n",
       "1     Levi   23  Phoenix      NaN  Student"
      ]
     },
     "execution_count": 44,
     "metadata": {},
     "output_type": "execute_result"
    }
   ],
   "source": [
    "persons[filt]"
   ]
  },
  {
   "cell_type": "markdown",
   "metadata": {},
   "source": [
    "### Example: Mixing Pandas Dataframes & Comprehensions"
   ]
  },
  {
   "cell_type": "markdown",
   "metadata": {},
   "source": [
    "Say we want to find only the list of counties that have 'Island' in their name. A reasonable attempt at this would be:"
   ]
  },
  {
   "cell_type": "code",
   "execution_count": 38,
   "metadata": {
    "collapsed": true
   },
   "outputs": [],
   "source": [
    "data = pandas.read_csv('counties.txt')"
   ]
  },
  {
   "cell_type": "code",
   "execution_count": 74,
   "metadata": {
    "collapsed": false
   },
   "outputs": [
    {
     "data": {
      "text/plain": [
       "0     False\n",
       "1     False\n",
       "2     False\n",
       "3     False\n",
       "4      True\n",
       "5      True\n",
       "6     False\n",
       "7      True\n",
       "8     False\n",
       "9     False\n",
       "10     True\n",
       "11    False\n",
       "12    False\n",
       "13    False\n",
       "14    False\n",
       "...\n",
       "3220     True\n",
       "3221     True\n",
       "3222    False\n",
       "3223    False\n",
       "3224     True\n",
       "3225    False\n",
       "3226     True\n",
       "3227     True\n",
       "3228     True\n",
       "3229    False\n",
       "3230    False\n",
       "3231     True\n",
       "3232    False\n",
       "3233    False\n",
       "3234     True\n",
       "Name: rv, Length: 3235, dtype: bool"
      ]
     },
     "execution_count": 74,
     "metadata": {},
     "output_type": "execute_result"
    }
   ],
   "source": [
    "data['rv'] > 4"
   ]
  },
  {
   "cell_type": "code",
   "execution_count": 42,
   "metadata": {
    "collapsed": false,
    "scrolled": false
   },
   "outputs": [
    {
     "ename": "KeyError",
     "evalue": "False",
     "output_type": "error",
     "traceback": [
      "\u001b[1;31m---------------------------------------------------------------------------\u001b[0m",
      "\u001b[1;31mKeyError\u001b[0m                                  Traceback (most recent call last)",
      "\u001b[1;32m<ipython-input-42-c72c416538a4>\u001b[0m in \u001b[0;36m<module>\u001b[1;34m()\u001b[0m\n\u001b[1;32m----> 1\u001b[1;33m \u001b[0mdata\u001b[0m\u001b[1;33m[\u001b[0m\u001b[1;34m'Island'\u001b[0m \u001b[1;32min\u001b[0m \u001b[0mdata\u001b[0m\u001b[1;33m[\u001b[0m\u001b[1;34m'name'\u001b[0m\u001b[1;33m]\u001b[0m\u001b[1;33m]\u001b[0m\u001b[1;33m\u001b[0m\u001b[0m\n\u001b[0m",
      "\u001b[1;32m/usr/local/lib/python2.7/dist-packages/pandas/core/frame.pyc\u001b[0m in \u001b[0;36m__getitem__\u001b[1;34m(self, key)\u001b[0m\n\u001b[0;32m   1778\u001b[0m             \u001b[1;32mreturn\u001b[0m \u001b[0mself\u001b[0m\u001b[1;33m.\u001b[0m\u001b[0m_getitem_multilevel\u001b[0m\u001b[1;33m(\u001b[0m\u001b[0mkey\u001b[0m\u001b[1;33m)\u001b[0m\u001b[1;33m\u001b[0m\u001b[0m\n\u001b[0;32m   1779\u001b[0m         \u001b[1;32melse\u001b[0m\u001b[1;33m:\u001b[0m\u001b[1;33m\u001b[0m\u001b[0m\n\u001b[1;32m-> 1780\u001b[1;33m             \u001b[1;32mreturn\u001b[0m \u001b[0mself\u001b[0m\u001b[1;33m.\u001b[0m\u001b[0m_getitem_column\u001b[0m\u001b[1;33m(\u001b[0m\u001b[0mkey\u001b[0m\u001b[1;33m)\u001b[0m\u001b[1;33m\u001b[0m\u001b[0m\n\u001b[0m\u001b[0;32m   1781\u001b[0m \u001b[1;33m\u001b[0m\u001b[0m\n\u001b[0;32m   1782\u001b[0m     \u001b[1;32mdef\u001b[0m \u001b[0m_getitem_column\u001b[0m\u001b[1;33m(\u001b[0m\u001b[0mself\u001b[0m\u001b[1;33m,\u001b[0m \u001b[0mkey\u001b[0m\u001b[1;33m)\u001b[0m\u001b[1;33m:\u001b[0m\u001b[1;33m\u001b[0m\u001b[0m\n",
      "\u001b[1;32m/usr/local/lib/python2.7/dist-packages/pandas/core/frame.pyc\u001b[0m in \u001b[0;36m_getitem_column\u001b[1;34m(self, key)\u001b[0m\n\u001b[0;32m   1785\u001b[0m         \u001b[1;31m# get column\u001b[0m\u001b[1;33m\u001b[0m\u001b[1;33m\u001b[0m\u001b[0m\n\u001b[0;32m   1786\u001b[0m         \u001b[1;32mif\u001b[0m \u001b[0mself\u001b[0m\u001b[1;33m.\u001b[0m\u001b[0mcolumns\u001b[0m\u001b[1;33m.\u001b[0m\u001b[0mis_unique\u001b[0m\u001b[1;33m:\u001b[0m\u001b[1;33m\u001b[0m\u001b[0m\n\u001b[1;32m-> 1787\u001b[1;33m             \u001b[1;32mreturn\u001b[0m \u001b[0mself\u001b[0m\u001b[1;33m.\u001b[0m\u001b[0m_get_item_cache\u001b[0m\u001b[1;33m(\u001b[0m\u001b[0mkey\u001b[0m\u001b[1;33m)\u001b[0m\u001b[1;33m\u001b[0m\u001b[0m\n\u001b[0m\u001b[0;32m   1788\u001b[0m \u001b[1;33m\u001b[0m\u001b[0m\n\u001b[0;32m   1789\u001b[0m         \u001b[1;31m# duplicate columns & possible reduce dimensionaility\u001b[0m\u001b[1;33m\u001b[0m\u001b[1;33m\u001b[0m\u001b[0m\n",
      "\u001b[1;32m/usr/local/lib/python2.7/dist-packages/pandas/core/generic.pyc\u001b[0m in \u001b[0;36m_get_item_cache\u001b[1;34m(self, item)\u001b[0m\n\u001b[0;32m   1066\u001b[0m         \u001b[0mres\u001b[0m \u001b[1;33m=\u001b[0m \u001b[0mcache\u001b[0m\u001b[1;33m.\u001b[0m\u001b[0mget\u001b[0m\u001b[1;33m(\u001b[0m\u001b[0mitem\u001b[0m\u001b[1;33m)\u001b[0m\u001b[1;33m\u001b[0m\u001b[0m\n\u001b[0;32m   1067\u001b[0m         \u001b[1;32mif\u001b[0m \u001b[0mres\u001b[0m \u001b[1;32mis\u001b[0m \u001b[0mNone\u001b[0m\u001b[1;33m:\u001b[0m\u001b[1;33m\u001b[0m\u001b[0m\n\u001b[1;32m-> 1068\u001b[1;33m             \u001b[0mvalues\u001b[0m \u001b[1;33m=\u001b[0m \u001b[0mself\u001b[0m\u001b[1;33m.\u001b[0m\u001b[0m_data\u001b[0m\u001b[1;33m.\u001b[0m\u001b[0mget\u001b[0m\u001b[1;33m(\u001b[0m\u001b[0mitem\u001b[0m\u001b[1;33m)\u001b[0m\u001b[1;33m\u001b[0m\u001b[0m\n\u001b[0m\u001b[0;32m   1069\u001b[0m             \u001b[0mres\u001b[0m \u001b[1;33m=\u001b[0m \u001b[0mself\u001b[0m\u001b[1;33m.\u001b[0m\u001b[0m_box_item_values\u001b[0m\u001b[1;33m(\u001b[0m\u001b[0mitem\u001b[0m\u001b[1;33m,\u001b[0m \u001b[0mvalues\u001b[0m\u001b[1;33m)\u001b[0m\u001b[1;33m\u001b[0m\u001b[0m\n\u001b[0;32m   1070\u001b[0m             \u001b[0mcache\u001b[0m\u001b[1;33m[\u001b[0m\u001b[0mitem\u001b[0m\u001b[1;33m]\u001b[0m \u001b[1;33m=\u001b[0m \u001b[0mres\u001b[0m\u001b[1;33m\u001b[0m\u001b[0m\n",
      "\u001b[1;32m/usr/local/lib/python2.7/dist-packages/pandas/core/internals.pyc\u001b[0m in \u001b[0;36mget\u001b[1;34m(self, item, fastpath)\u001b[0m\n\u001b[0;32m   2847\u001b[0m \u001b[1;33m\u001b[0m\u001b[0m\n\u001b[0;32m   2848\u001b[0m             \u001b[1;32mif\u001b[0m \u001b[1;32mnot\u001b[0m \u001b[0misnull\u001b[0m\u001b[1;33m(\u001b[0m\u001b[0mitem\u001b[0m\u001b[1;33m)\u001b[0m\u001b[1;33m:\u001b[0m\u001b[1;33m\u001b[0m\u001b[0m\n\u001b[1;32m-> 2849\u001b[1;33m                 \u001b[0mloc\u001b[0m \u001b[1;33m=\u001b[0m \u001b[0mself\u001b[0m\u001b[1;33m.\u001b[0m\u001b[0mitems\u001b[0m\u001b[1;33m.\u001b[0m\u001b[0mget_loc\u001b[0m\u001b[1;33m(\u001b[0m\u001b[0mitem\u001b[0m\u001b[1;33m)\u001b[0m\u001b[1;33m\u001b[0m\u001b[0m\n\u001b[0m\u001b[0;32m   2850\u001b[0m             \u001b[1;32melse\u001b[0m\u001b[1;33m:\u001b[0m\u001b[1;33m\u001b[0m\u001b[0m\n\u001b[0;32m   2851\u001b[0m                 \u001b[0mindexer\u001b[0m \u001b[1;33m=\u001b[0m \u001b[0mnp\u001b[0m\u001b[1;33m.\u001b[0m\u001b[0marange\u001b[0m\u001b[1;33m(\u001b[0m\u001b[0mlen\u001b[0m\u001b[1;33m(\u001b[0m\u001b[0mself\u001b[0m\u001b[1;33m.\u001b[0m\u001b[0mitems\u001b[0m\u001b[1;33m)\u001b[0m\u001b[1;33m)\u001b[0m\u001b[1;33m[\u001b[0m\u001b[0misnull\u001b[0m\u001b[1;33m(\u001b[0m\u001b[0mself\u001b[0m\u001b[1;33m.\u001b[0m\u001b[0mitems\u001b[0m\u001b[1;33m)\u001b[0m\u001b[1;33m]\u001b[0m\u001b[1;33m\u001b[0m\u001b[0m\n",
      "\u001b[1;32m/usr/local/lib/python2.7/dist-packages/pandas/core/index.pyc\u001b[0m in \u001b[0;36mget_loc\u001b[1;34m(self, key)\u001b[0m\n\u001b[0;32m   1400\u001b[0m         \u001b[0mloc\u001b[0m \u001b[1;33m:\u001b[0m \u001b[0mint\u001b[0m \u001b[1;32mif\u001b[0m \u001b[0munique\u001b[0m \u001b[0mindex\u001b[0m\u001b[1;33m,\u001b[0m \u001b[0mpossibly\u001b[0m \u001b[0mslice\u001b[0m \u001b[1;32mor\u001b[0m \u001b[0mmask\u001b[0m \u001b[1;32mif\u001b[0m \u001b[1;32mnot\u001b[0m\u001b[1;33m\u001b[0m\u001b[0m\n\u001b[0;32m   1401\u001b[0m         \"\"\"\n\u001b[1;32m-> 1402\u001b[1;33m         \u001b[1;32mreturn\u001b[0m \u001b[0mself\u001b[0m\u001b[1;33m.\u001b[0m\u001b[0m_engine\u001b[0m\u001b[1;33m.\u001b[0m\u001b[0mget_loc\u001b[0m\u001b[1;33m(\u001b[0m\u001b[0m_values_from_object\u001b[0m\u001b[1;33m(\u001b[0m\u001b[0mkey\u001b[0m\u001b[1;33m)\u001b[0m\u001b[1;33m)\u001b[0m\u001b[1;33m\u001b[0m\u001b[0m\n\u001b[0m\u001b[0;32m   1403\u001b[0m \u001b[1;33m\u001b[0m\u001b[0m\n\u001b[0;32m   1404\u001b[0m     \u001b[1;32mdef\u001b[0m \u001b[0mget_value\u001b[0m\u001b[1;33m(\u001b[0m\u001b[0mself\u001b[0m\u001b[1;33m,\u001b[0m \u001b[0mseries\u001b[0m\u001b[1;33m,\u001b[0m \u001b[0mkey\u001b[0m\u001b[1;33m)\u001b[0m\u001b[1;33m:\u001b[0m\u001b[1;33m\u001b[0m\u001b[0m\n",
      "\u001b[1;32mpandas/index.pyx\u001b[0m in \u001b[0;36mpandas.index.IndexEngine.get_loc (pandas/index.c:3812)\u001b[1;34m()\u001b[0m\n",
      "\u001b[1;32mpandas/index.pyx\u001b[0m in \u001b[0;36mpandas.index.IndexEngine.get_loc (pandas/index.c:3692)\u001b[1;34m()\u001b[0m\n",
      "\u001b[1;32mpandas/hashtable.pyx\u001b[0m in \u001b[0;36mpandas.hashtable.PyObjectHashTable.get_item (pandas/hashtable.c:12299)\u001b[1;34m()\u001b[0m\n",
      "\u001b[1;32mpandas/hashtable.pyx\u001b[0m in \u001b[0;36mpandas.hashtable.PyObjectHashTable.get_item (pandas/hashtable.c:12250)\u001b[1;34m()\u001b[0m\n",
      "\u001b[1;31mKeyError\u001b[0m: False"
     ]
    }
   ],
   "source": [
    "data['Island' in data['name']]"
   ]
  },
  {
   "cell_type": "markdown",
   "metadata": {},
   "source": [
    "Why does this not work? Try pulling out `counties['name']` by itself and playing around:"
   ]
  },
  {
   "cell_type": "code",
   "execution_count": 43,
   "metadata": {
    "collapsed": true
   },
   "outputs": [],
   "source": [
    "test = data['name']"
   ]
  },
  {
   "cell_type": "code",
   "execution_count": 45,
   "metadata": {
    "collapsed": false
   },
   "outputs": [
    {
     "data": {
      "text/plain": [
       "False"
      ]
     },
     "execution_count": 45,
     "metadata": {},
     "output_type": "execute_result"
    }
   ],
   "source": [
    "'Island' in test"
   ]
  },
  {
   "cell_type": "code",
   "execution_count": 50,
   "metadata": {
    "collapsed": false,
    "scrolled": false
   },
   "outputs": [
    {
     "data": {
      "text/plain": [
       "0    Autauga County\n",
       "1    Baldwin County\n",
       "2    Barbour County\n",
       "3       Bibb County\n",
       "4     Blount County\n",
       "Name: name, dtype: object"
      ]
     },
     "execution_count": 50,
     "metadata": {},
     "output_type": "execute_result"
    }
   ],
   "source": [
    "test.head()"
   ]
  },
  {
   "cell_type": "code",
   "execution_count": 46,
   "metadata": {
    "collapsed": false
   },
   "outputs": [],
   "source": [
    "test.isin?"
   ]
  },
  {
   "cell_type": "code",
   "execution_count": 47,
   "metadata": {
    "collapsed": false
   },
   "outputs": [
    {
     "data": {
      "text/html": [
       "<div style=\"max-height:1000px;max-width:1500px;overflow:auto;\">\n",
       "<table border=\"1\" class=\"dataframe\">\n",
       "  <thead>\n",
       "    <tr style=\"text-align: right;\">\n",
       "      <th></th>\n",
       "      <th>Unnamed: 0</th>\n",
       "      <th>state</th>\n",
       "      <th>stfips</th>\n",
       "      <th>fips</th>\n",
       "      <th>name</th>\n",
       "      <th>class</th>\n",
       "      <th>rv</th>\n",
       "      <th>fullfips</th>\n",
       "    </tr>\n",
       "  </thead>\n",
       "  <tbody>\n",
       "  </tbody>\n",
       "</table>\n",
       "</div>"
      ],
      "text/plain": [
       "Empty DataFrame\n",
       "Columns: [Unnamed: 0, state, stfips, fips, name, class, rv, fullfips]\n",
       "Index: []"
      ]
     },
     "execution_count": 47,
     "metadata": {},
     "output_type": "execute_result"
    }
   ],
   "source": [
    "data[data['name'].isin(['Island'])]"
   ]
  },
  {
   "cell_type": "markdown",
   "metadata": {},
   "source": [
    "Hmm... this seems tricky. Let's do it using list comprehensions. First, let's build a filter that contains the true and false values we need. To do this, we'll need a list of True and False, depending on some condition. In a for loop, this might look like:"
   ]
  },
  {
   "cell_type": "code",
   "execution_count": null,
   "metadata": {
    "collapsed": true
   },
   "outputs": [],
   "source": [
    "nocompfilter = []\n",
    "for cname in data['name']:\n",
    "    if 'Island' in cname:\n",
    "        nocompfilter.append(True)\n",
    "    else:\n",
    "        nocompfilter.append(False)\n",
    "filter2 = pandas.Series(nocompfilter)"
   ]
  },
  {
   "cell_type": "markdown",
   "metadata": {},
   "source": [
    "But, using the same concepts in a comprehension-style statement, we can make a list comprehension that follows these `if-else` statements perfectly!"
   ]
  },
  {
   "cell_type": "code",
   "execution_count": 51,
   "metadata": {
    "collapsed": false
   },
   "outputs": [
    {
     "data": {
      "text/plain": [
       "[0, 1, 2, 3, 4, 5, 6, 7, 8, 9]"
      ]
     },
     "execution_count": 51,
     "metadata": {},
     "output_type": "execute_result"
    }
   ],
   "source": [
    "range(10)"
   ]
  },
  {
   "cell_type": "code",
   "execution_count": 55,
   "metadata": {
    "collapsed": false
   },
   "outputs": [
    {
     "data": {
      "text/plain": [
       "[7]"
      ]
     },
     "execution_count": 55,
     "metadata": {},
     "output_type": "execute_result"
    }
   ],
   "source": [
    "[x+2 for x in range(10) if x == 5 ]"
   ]
  },
  {
   "cell_type": "code",
   "execution_count": null,
   "metadata": {
    "collapsed": true
   },
   "outputs": [],
   "source": []
  },
  {
   "cell_type": "code",
   "execution_count": 56,
   "metadata": {
    "collapsed": false
   },
   "outputs": [],
   "source": [
    "filt = [ True if 'Island' in cname else False for cname in data['name']]"
   ]
  },
  {
   "cell_type": "markdown",
   "metadata": {},
   "source": [
    "Then, converting `filt` to a pandas dataframe will allow us to grab elements from the data that fit that filter"
   ]
  },
  {
   "cell_type": "code",
   "execution_count": 57,
   "metadata": {
    "collapsed": true
   },
   "outputs": [],
   "source": [
    "filt = pandas.Series(filt)"
   ]
  },
  {
   "cell_type": "markdown",
   "metadata": {},
   "source": [
    "If it helps you to think of this as one-line stuff, the following would do this in one line:"
   ]
  },
  {
   "cell_type": "code",
   "execution_count": 59,
   "metadata": {
    "collapsed": true
   },
   "outputs": [],
   "source": [
    "filt = pandas.Series(True if 'Island' in x else False for x in data['name'])"
   ]
  },
  {
   "cell_type": "code",
   "execution_count": null,
   "metadata": {
    "collapsed": true
   },
   "outputs": [],
   "source": []
  },
  {
   "cell_type": "markdown",
   "metadata": {},
   "source": [
    "This is the breakdown like above:"
   ]
  },
  {
   "cell_type": "code",
   "execution_count": 76,
   "metadata": {
    "collapsed": false
   },
   "outputs": [
    {
     "data": {
      "image/png": "[encoded data removed]",
      "text/plain": [
       "<IPython.core.display.Image object>"
      ]
     },
     "execution_count": 76,
     "metadata": {},
     "output_type": "execute_result"
    }
   ],
   "source": [
    "Image(filename='pandas_comp.png')"
   ]
  },
  {
   "cell_type": "code",
   "execution_count": 60,
   "metadata": {
    "collapsed": false
   },
   "outputs": [
    {
     "data": {
      "text/html": [
       "<div style=\"max-height:1000px;max-width:1500px;overflow:auto;\">\n",
       "<table border=\"1\" class=\"dataframe\">\n",
       "  <thead>\n",
       "    <tr style=\"text-align: right;\">\n",
       "      <th></th>\n",
       "      <th>Unnamed: 0</th>\n",
       "      <th>state</th>\n",
       "      <th>stfips</th>\n",
       "      <th>fips</th>\n",
       "      <th>name</th>\n",
       "      <th>class</th>\n",
       "      <th>rv</th>\n",
       "      <th>fullfips</th>\n",
       "    </tr>\n",
       "  </thead>\n",
       "  <tbody>\n",
       "    <tr>\n",
       "      <th>80  </th>\n",
       "      <td>   80</td>\n",
       "      <td> AK</td>\n",
       "      <td>  2</td>\n",
       "      <td> 150</td>\n",
       "      <td>         Kodiak Island Borough</td>\n",
       "      <td> H1</td>\n",
       "      <td> 3.375346</td>\n",
       "      <td>  2150</td>\n",
       "    </tr>\n",
       "    <tr>\n",
       "      <th>675 </th>\n",
       "      <td>  675</td>\n",
       "      <td> IL</td>\n",
       "      <td> 17</td>\n",
       "      <td> 161</td>\n",
       "      <td>            Rock Island County</td>\n",
       "      <td> H1</td>\n",
       "      <td> 3.164235</td>\n",
       "      <td> 17161</td>\n",
       "    </tr>\n",
       "    <tr>\n",
       "      <th>2968</th>\n",
       "      <td> 2968</td>\n",
       "      <td> WA</td>\n",
       "      <td> 53</td>\n",
       "      <td>  29</td>\n",
       "      <td>                 Island County</td>\n",
       "      <td> H1</td>\n",
       "      <td> 5.481493</td>\n",
       "      <td> 53029</td>\n",
       "    </tr>\n",
       "    <tr>\n",
       "      <th>3145</th>\n",
       "      <td> 3145</td>\n",
       "      <td> AS</td>\n",
       "      <td> 60</td>\n",
       "      <td>  30</td>\n",
       "      <td>                   Rose Island</td>\n",
       "      <td> H4</td>\n",
       "      <td> 4.644470</td>\n",
       "      <td> 60030</td>\n",
       "    </tr>\n",
       "    <tr>\n",
       "      <th>3146</th>\n",
       "      <td> 3146</td>\n",
       "      <td> AS</td>\n",
       "      <td> 60</td>\n",
       "      <td>  40</td>\n",
       "      <td>                 Swains Island</td>\n",
       "      <td> H4</td>\n",
       "      <td> 2.616759</td>\n",
       "      <td> 60040</td>\n",
       "    </tr>\n",
       "    <tr>\n",
       "      <th>3149</th>\n",
       "      <td> 3149</td>\n",
       "      <td> MP</td>\n",
       "      <td> 69</td>\n",
       "      <td>  85</td>\n",
       "      <td> Northern Islands Municipality</td>\n",
       "      <td> H1</td>\n",
       "      <td> 4.101695</td>\n",
       "      <td> 69085</td>\n",
       "    </tr>\n",
       "    <tr>\n",
       "      <th>3231</th>\n",
       "      <td> 3231</td>\n",
       "      <td> UM</td>\n",
       "      <td> 74</td>\n",
       "      <td> 300</td>\n",
       "      <td>                Midway Islands</td>\n",
       "      <td> H4</td>\n",
       "      <td> 4.867270</td>\n",
       "      <td> 74300</td>\n",
       "    </tr>\n",
       "    <tr>\n",
       "      <th>3232</th>\n",
       "      <td> 3232</td>\n",
       "      <td> VI</td>\n",
       "      <td> 78</td>\n",
       "      <td>  10</td>\n",
       "      <td>              St. Croix Island</td>\n",
       "      <td> H4</td>\n",
       "      <td> 3.932335</td>\n",
       "      <td> 78010</td>\n",
       "    </tr>\n",
       "    <tr>\n",
       "      <th>3233</th>\n",
       "      <td> 3233</td>\n",
       "      <td> VI</td>\n",
       "      <td> 78</td>\n",
       "      <td>  20</td>\n",
       "      <td>               St. John Island</td>\n",
       "      <td> H4</td>\n",
       "      <td> 3.819584</td>\n",
       "      <td> 78020</td>\n",
       "    </tr>\n",
       "    <tr>\n",
       "      <th>3234</th>\n",
       "      <td> 3234</td>\n",
       "      <td> VI</td>\n",
       "      <td> 78</td>\n",
       "      <td>  30</td>\n",
       "      <td>             St. Thomas Island</td>\n",
       "      <td> H4</td>\n",
       "      <td> 4.911567</td>\n",
       "      <td> 78030</td>\n",
       "    </tr>\n",
       "  </tbody>\n",
       "</table>\n",
       "</div>"
      ],
      "text/plain": [
       "      Unnamed: 0 state  stfips  fips                           name class  \\\n",
       "80            80    AK       2   150          Kodiak Island Borough    H1   \n",
       "675          675    IL      17   161             Rock Island County    H1   \n",
       "2968        2968    WA      53    29                  Island County    H1   \n",
       "3145        3145    AS      60    30                    Rose Island    H4   \n",
       "3146        3146    AS      60    40                  Swains Island    H4   \n",
       "3149        3149    MP      69    85  Northern Islands Municipality    H1   \n",
       "3231        3231    UM      74   300                 Midway Islands    H4   \n",
       "3232        3232    VI      78    10               St. Croix Island    H4   \n",
       "3233        3233    VI      78    20                St. John Island    H4   \n",
       "3234        3234    VI      78    30              St. Thomas Island    H4   \n",
       "\n",
       "            rv  fullfips  \n",
       "80    3.375346      2150  \n",
       "675   3.164235     17161  \n",
       "2968  5.481493     53029  \n",
       "3145  4.644470     60030  \n",
       "3146  2.616759     60040  \n",
       "3149  4.101695     69085  \n",
       "3231  4.867270     74300  \n",
       "3232  3.932335     78010  \n",
       "3233  3.819584     78020  \n",
       "3234  4.911567     78030  "
      ]
     },
     "execution_count": 60,
     "metadata": {},
     "output_type": "execute_result"
    }
   ],
   "source": [
    "data[filt]"
   ]
  },
  {
   "cell_type": "markdown",
   "metadata": {},
   "source": [
    "And there're all the counties with islands for their names. "
   ]
  },
  {
   "cell_type": "markdown",
   "metadata": {},
   "source": [
    "### Problem: Cities >> Islands"
   ]
  },
  {
   "cell_type": "markdown",
   "metadata": {},
   "source": [
    "1. Using comprehensions, construct a filter that, when used on data, provides only counties with 'city' in their name. Store your result to a new dataframe. *hint: this is very similar to what we did above*\n",
    "2. From this, select only cities with an `rv` above 4."
   ]
  },
  {
   "cell_type": "code",
   "execution_count": 80,
   "metadata": {
    "collapsed": true
   },
   "outputs": [],
   "source": [
    "filt = pandas.Series(True if 'City' in cname else False for cname in data['name'])"
   ]
  },
  {
   "cell_type": "code",
   "execution_count": 81,
   "metadata": {
    "collapsed": false
   },
   "outputs": [
    {
     "data": {
      "text/html": [
       "<div style=\"max-height:1000px;max-width:1500px;overflow:auto;\">\n",
       "<table border=\"1\" class=\"dataframe\">\n",
       "  <thead>\n",
       "    <tr style=\"text-align: right;\">\n",
       "      <th></th>\n",
       "      <th>Unnamed: 0</th>\n",
       "      <th>state</th>\n",
       "      <th>stfips</th>\n",
       "      <th>fips</th>\n",
       "      <th>name</th>\n",
       "      <th>class</th>\n",
       "      <th>rv</th>\n",
       "      <th>fullfips</th>\n",
       "    </tr>\n",
       "  </thead>\n",
       "  <tbody>\n",
       "    <tr>\n",
       "      <th>77  </th>\n",
       "      <td>   77</td>\n",
       "      <td> AK</td>\n",
       "      <td>  2</td>\n",
       "      <td> 110</td>\n",
       "      <td>   Juneau City and Borough</td>\n",
       "      <td> H6</td>\n",
       "      <td> 3.901668</td>\n",
       "      <td>  2110</td>\n",
       "    </tr>\n",
       "    <tr>\n",
       "      <th>88  </th>\n",
       "      <td>   88</td>\n",
       "      <td> AK</td>\n",
       "      <td>  2</td>\n",
       "      <td> 220</td>\n",
       "      <td>    Sitka City and Borough</td>\n",
       "      <td> H6</td>\n",
       "      <td> 4.744370</td>\n",
       "      <td>  2220</td>\n",
       "    </tr>\n",
       "    <tr>\n",
       "      <th>93  </th>\n",
       "      <td>   93</td>\n",
       "      <td> AK</td>\n",
       "      <td>  2</td>\n",
       "      <td> 275</td>\n",
       "      <td> Wrangell City and Borough</td>\n",
       "      <td> H1</td>\n",
       "      <td> 2.113645</td>\n",
       "      <td>  2275</td>\n",
       "    </tr>\n",
       "    <tr>\n",
       "      <th>94  </th>\n",
       "      <td>   94</td>\n",
       "      <td> AK</td>\n",
       "      <td>  2</td>\n",
       "      <td> 282</td>\n",
       "      <td>  Yakutat City and Borough</td>\n",
       "      <td> H1</td>\n",
       "      <td> 2.021157</td>\n",
       "      <td>  2282</td>\n",
       "    </tr>\n",
       "    <tr>\n",
       "      <th>1763</th>\n",
       "      <td> 1763</td>\n",
       "      <td> NV</td>\n",
       "      <td> 32</td>\n",
       "      <td> 510</td>\n",
       "      <td>               Carson City</td>\n",
       "      <td> C7</td>\n",
       "      <td> 3.143931</td>\n",
       "      <td> 32510</td>\n",
       "    </tr>\n",
       "    <tr>\n",
       "      <th>2838</th>\n",
       "      <td> 2838</td>\n",
       "      <td> VA</td>\n",
       "      <td> 51</td>\n",
       "      <td>  36</td>\n",
       "      <td>       Charles City County</td>\n",
       "      <td> H1</td>\n",
       "      <td> 1.942106</td>\n",
       "      <td> 51036</td>\n",
       "    </tr>\n",
       "    <tr>\n",
       "      <th>2866</th>\n",
       "      <td> 2866</td>\n",
       "      <td> VA</td>\n",
       "      <td> 51</td>\n",
       "      <td>  95</td>\n",
       "      <td>         James City County</td>\n",
       "      <td> H1</td>\n",
       "      <td> 1.811697</td>\n",
       "      <td> 51095</td>\n",
       "    </tr>\n",
       "  </tbody>\n",
       "</table>\n",
       "</div>"
      ],
      "text/plain": [
       "      Unnamed: 0 state  stfips  fips                       name class  \\\n",
       "77            77    AK       2   110    Juneau City and Borough    H6   \n",
       "88            88    AK       2   220     Sitka City and Borough    H6   \n",
       "93            93    AK       2   275  Wrangell City and Borough    H1   \n",
       "94            94    AK       2   282   Yakutat City and Borough    H1   \n",
       "1763        1763    NV      32   510                Carson City    C7   \n",
       "2838        2838    VA      51    36        Charles City County    H1   \n",
       "2866        2866    VA      51    95          James City County    H1   \n",
       "\n",
       "            rv  fullfips  \n",
       "77    3.901668      2110  \n",
       "88    4.744370      2220  \n",
       "93    2.113645      2275  \n",
       "94    2.021157      2282  \n",
       "1763  3.143931     32510  \n",
       "2838  1.942106     51036  \n",
       "2866  1.811697     51095  "
      ]
     },
     "execution_count": 81,
     "metadata": {},
     "output_type": "execute_result"
    }
   ],
   "source": [
    "data[filt]"
   ]
  },
  {
   "cell_type": "code",
   "execution_count": 79,
   "metadata": {
    "collapsed": false
   },
   "outputs": [
    {
     "data": {
      "text/html": [
       "<div style=\"max-height:1000px;max-width:1500px;overflow:auto;\">\n",
       "<table border=\"1\" class=\"dataframe\">\n",
       "  <thead>\n",
       "    <tr style=\"text-align: right;\">\n",
       "      <th></th>\n",
       "      <th>Unnamed: 0</th>\n",
       "      <th>state</th>\n",
       "      <th>stfips</th>\n",
       "      <th>fips</th>\n",
       "      <th>name</th>\n",
       "      <th>class</th>\n",
       "      <th>rv</th>\n",
       "      <th>fullfips</th>\n",
       "    </tr>\n",
       "  </thead>\n",
       "  <tbody>\n",
       "    <tr>\n",
       "      <th>88</th>\n",
       "      <td> 88</td>\n",
       "      <td> AK</td>\n",
       "      <td> 2</td>\n",
       "      <td> 220</td>\n",
       "      <td> Sitka City and Borough</td>\n",
       "      <td> H6</td>\n",
       "      <td> 4.74437</td>\n",
       "      <td> 2220</td>\n",
       "    </tr>\n",
       "  </tbody>\n",
       "</table>\n",
       "</div>"
      ],
      "text/plain": [
       "    Unnamed: 0 state  stfips  fips                    name class       rv  \\\n",
       "88          88    AK       2   220  Sitka City and Borough    H6  4.74437   \n",
       "\n",
       "    fullfips  \n",
       "88      2220  "
      ]
     },
     "execution_count": 79,
     "metadata": {},
     "output_type": "execute_result"
    }
   ],
   "source": [
    "newdata[newdata['rv'] > 4]"
   ]
  },
  {
   "cell_type": "markdown",
   "metadata": {},
   "source": [
    "## Iterators and `enumerate`"
   ]
  },
  {
   "cell_type": "markdown",
   "metadata": {},
   "source": [
    "Sometimes it's useful to look closely at the way python stores values. "
   ]
  },
  {
   "cell_type": "code",
   "execution_count": 82,
   "metadata": {
    "collapsed": true
   },
   "outputs": [],
   "source": [
    "a = 7"
   ]
  },
  {
   "cell_type": "code",
   "execution_count": 83,
   "metadata": {
    "collapsed": true
   },
   "outputs": [],
   "source": [
    "b = a"
   ]
  },
  {
   "cell_type": "code",
   "execution_count": 84,
   "metadata": {
    "collapsed": true
   },
   "outputs": [],
   "source": [
    "a = 9"
   ]
  },
  {
   "cell_type": "markdown",
   "metadata": {},
   "source": [
    "Now, what is the value of `b`?"
   ]
  },
  {
   "cell_type": "code",
   "execution_count": null,
   "metadata": {
    "collapsed": true
   },
   "outputs": [],
   "source": [
    "b"
   ]
  },
  {
   "cell_type": "markdown",
   "metadata": {},
   "source": [
    "Ok, reasonable. Now, let's look at doing this for lists:"
   ]
  },
  {
   "cell_type": "code",
   "execution_count": 86,
   "metadata": {
    "collapsed": true
   },
   "outputs": [],
   "source": [
    "lst = [1,2,3,4,5]"
   ]
  },
  {
   "cell_type": "code",
   "execution_count": 87,
   "metadata": {
    "collapsed": true
   },
   "outputs": [],
   "source": [
    "c = lst[0]"
   ]
  },
  {
   "cell_type": "code",
   "execution_count": 88,
   "metadata": {
    "collapsed": true
   },
   "outputs": [],
   "source": [
    "lst[0] = 9"
   ]
  },
  {
   "cell_type": "markdown",
   "metadata": {},
   "source": [
    "So, what is the value of `c`?"
   ]
  },
  {
   "cell_type": "code",
   "execution_count": 89,
   "metadata": {
    "collapsed": false
   },
   "outputs": [
    {
     "data": {
      "text/plain": [
       "1"
      ]
     },
     "execution_count": 89,
     "metadata": {},
     "output_type": "execute_result"
    }
   ],
   "source": [
    "c"
   ]
  },
  {
   "cell_type": "markdown",
   "metadata": {},
   "source": [
    "### Example: Value vs. Reference"
   ]
  },
  {
   "cell_type": "markdown",
   "metadata": {},
   "source": [
    "a classic difference in programming is the question of an object's reference vs. an object's value. In a way, you can think of this as a conflict between the \"name\" of an object and the actual value the object takes on."
   ]
  },
  {
   "cell_type": "code",
   "execution_count": 90,
   "metadata": {
    "collapsed": true
   },
   "outputs": [],
   "source": [
    "names = ['bob', 'sue', 'cindy']"
   ]
  },
  {
   "cell_type": "code",
   "execution_count": 91,
   "metadata": {
    "collapsed": false
   },
   "outputs": [
    {
     "name": "stdout",
     "output_type": "stream",
     "text": [
      "bob\n",
      "sue\n",
      "cindy\n"
     ]
    }
   ],
   "source": [
    "for n in names:\n",
    "    print n"
   ]
  },
  {
   "cell_type": "markdown",
   "metadata": {},
   "source": [
    "Say we wanted to capitalize these names:"
   ]
  },
  {
   "cell_type": "code",
   "execution_count": 93,
   "metadata": {
    "collapsed": false
   },
   "outputs": [
    {
     "name": "stdout",
     "output_type": "stream",
     "text": [
      "BOB\n",
      "SUE\n",
      "CINDY\n"
     ]
    }
   ],
   "source": [
    "for n in names:\n",
    "    n = n.upper()\n",
    "    print n"
   ]
  },
  {
   "cell_type": "markdown",
   "metadata": {},
   "source": [
    "So, how's our names doing?"
   ]
  },
  {
   "cell_type": "code",
   "execution_count": 101,
   "metadata": {
    "collapsed": false
   },
   "outputs": [
    {
     "data": {
      "text/plain": [
       "['bob', 'sue', 'cindy']"
      ]
     },
     "execution_count": 101,
     "metadata": {},
     "output_type": "execute_result"
    }
   ],
   "source": [
    "names"
   ]
  },
  {
   "cell_type": "markdown",
   "metadata": {},
   "source": [
    ":("
   ]
  },
  {
   "cell_type": "markdown",
   "metadata": {},
   "source": [
    "This is an example of a case where we have confused the *value* of `n` in each iteration with the *reference* that `n` makes to a position in a list. \n",
    "\n",
    "To resolve this ambiguity, we can use `enumerate` as a way to get around this:"
   ]
  },
  {
   "cell_type": "code",
   "execution_count": 94,
   "metadata": {
    "collapsed": false
   },
   "outputs": [
    {
     "name": "stdout",
     "output_type": "stream",
     "text": [
      "BOB\n",
      "SUE\n",
      "CINDY\n"
     ]
    }
   ],
   "source": [
    "for i, n in enumerate(names):\n",
    "    names[i] = n.upper()\n",
    "    print n.upper()"
   ]
  },
  {
   "cell_type": "code",
   "execution_count": 105,
   "metadata": {
    "collapsed": false
   },
   "outputs": [
    {
     "data": {
      "text/plain": [
       "['BOB', 'SUE', 'CINDY']"
      ]
     },
     "execution_count": 105,
     "metadata": {},
     "output_type": "execute_result"
    }
   ],
   "source": [
    "names"
   ]
  },
  {
   "cell_type": "markdown",
   "metadata": {},
   "source": [
    "to show, when we use enumerate, this is what happens:"
   ]
  },
  {
   "cell_type": "code",
   "execution_count": null,
   "metadata": {
    "collapsed": true
   },
   "outputs": [],
   "source": [
    "for idx, value in enumerate(l):"
   ]
  },
  {
   "cell_type": "code",
   "execution_count": null,
   "metadata": {
    "collapsed": true
   },
   "outputs": [],
   "source": []
  },
  {
   "cell_type": "code",
   "execution_count": 95,
   "metadata": {
    "collapsed": false
   },
   "outputs": [
    {
     "name": "stdout",
     "output_type": "stream",
     "text": [
      "(0, 'BOB')\n",
      "(1, 'SUE')\n",
      "(2, 'CINDY')\n"
     ]
    }
   ],
   "source": [
    "for what_does_enumerate_return in enumerate(names):\n",
    "    print what_does_enumerate_return"
   ]
  },
  {
   "cell_type": "markdown",
   "metadata": {},
   "source": [
    "So, enumerate returns a tuple, with the first element being an *index* (i.e. *reference*) and the secone element being a *value*. Since python does automatic tuple unpacking:"
   ]
  },
  {
   "cell_type": "code",
   "execution_count": 97,
   "metadata": {
    "collapsed": false
   },
   "outputs": [
    {
     "name": "stdout",
     "output_type": "stream",
     "text": [
      "i is 0 but n is BOB\n"
     ]
    }
   ],
   "source": [
    "i, n = (0, 'BOB')\n",
    "print 'i is', i, 'but n is', n"
   ]
  },
  {
   "cell_type": "markdown",
   "metadata": {},
   "source": [
    "we can split that up in the iterator like `for i, n in enumerate(names)`, and `i` takes on the first value and `n` the second. "
   ]
  },
  {
   "cell_type": "markdown",
   "metadata": {},
   "source": [
    "### Example: Zip is your friend"
   ]
  },
  {
   "cell_type": "markdown",
   "metadata": {},
   "source": [
    "Another useful tool is the `zip` function"
   ]
  },
  {
   "cell_type": "code",
   "execution_count": 98,
   "metadata": {
    "collapsed": true
   },
   "outputs": [],
   "source": [
    "?zip"
   ]
  },
  {
   "cell_type": "markdown",
   "metadata": {},
   "source": [
    "So, say we had two lists. Maybe a list of names and grades:"
   ]
  },
  {
   "cell_type": "code",
   "execution_count": 114,
   "metadata": {
    "collapsed": false
   },
   "outputs": [],
   "source": [
    "names = ['bob', 'sue', 'cindy']\n",
    "grades = [93, 96, 99]"
   ]
  },
  {
   "cell_type": "code",
   "execution_count": 115,
   "metadata": {
    "collapsed": false
   },
   "outputs": [
    {
     "data": {
      "text/plain": [
       "['bob', 'sue', 'cindy']"
      ]
     },
     "execution_count": 115,
     "metadata": {},
     "output_type": "execute_result"
    }
   ],
   "source": [
    "names"
   ]
  },
  {
   "cell_type": "code",
   "execution_count": 116,
   "metadata": {
    "collapsed": false
   },
   "outputs": [
    {
     "data": {
      "text/plain": [
       "[93, 96, 99]"
      ]
     },
     "execution_count": 116,
     "metadata": {},
     "output_type": "execute_result"
    }
   ],
   "source": [
    "grades"
   ]
  },
  {
   "cell_type": "code",
   "execution_count": 117,
   "metadata": {
    "collapsed": false
   },
   "outputs": [
    {
     "data": {
      "text/plain": [
       "[('bob', 93), ('sue', 96), ('cindy', 99)]"
      ]
     },
     "execution_count": 117,
     "metadata": {},
     "output_type": "execute_result"
    }
   ],
   "source": [
    "zip(names, grades)"
   ]
  },
  {
   "cell_type": "markdown",
   "metadata": {},
   "source": [
    "So, if we wanted to do a loop (or comprehension!!) that worked on the tuples that we get from zip, we could treat them just like the tuples we got from `enumerate` above: "
   ]
  },
  {
   "cell_type": "code",
   "execution_count": 101,
   "metadata": {
    "collapsed": false
   },
   "outputs": [
    {
     "name": "stdout",
     "output_type": "stream",
     "text": [
      "BOB 93\n",
      "SUE 96\n",
      "CINDY 99\n"
     ]
    }
   ],
   "source": [
    "for name, grade in zip(names, grades):\n",
    "    print name, grade"
   ]
  },
  {
   "cell_type": "markdown",
   "metadata": {},
   "source": [
    "Pretty nifty, huh? We can do this out to a large number of tuple indices:"
   ]
  },
  {
   "cell_type": "code",
   "execution_count": 120,
   "metadata": {
    "collapsed": true
   },
   "outputs": [],
   "source": [
    "capstones = ['Finished', 'In Progress', 'Never Started']\n",
    "letters = ['A-', 'A', 'A+', 'I', 'a', 't', 'a' ,'f']"
   ]
  },
  {
   "cell_type": "code",
   "execution_count": 121,
   "metadata": {
    "collapsed": false
   },
   "outputs": [
    {
     "data": {
      "text/plain": [
       "8"
      ]
     },
     "execution_count": 121,
     "metadata": {},
     "output_type": "execute_result"
    }
   ],
   "source": [
    "len(letters)"
   ]
  },
  {
   "cell_type": "code",
   "execution_count": 122,
   "metadata": {
    "collapsed": false
   },
   "outputs": [
    {
     "data": {
      "text/plain": [
       "3"
      ]
     },
     "execution_count": 122,
     "metadata": {},
     "output_type": "execute_result"
    }
   ],
   "source": [
    "len(names)"
   ]
  },
  {
   "cell_type": "code",
   "execution_count": 124,
   "metadata": {
    "collapsed": false
   },
   "outputs": [
    {
     "data": {
      "text/plain": [
       "[('bob', 'A-'), ('sue', 'A'), ('cindy', 'A+')]"
      ]
     },
     "execution_count": 124,
     "metadata": {},
     "output_type": "execute_result"
    }
   ],
   "source": [
    "zip(names, letters)"
   ]
  },
  {
   "cell_type": "code",
   "execution_count": 125,
   "metadata": {
    "collapsed": true
   },
   "outputs": [],
   "source": [
    "empty = []"
   ]
  },
  {
   "cell_type": "code",
   "execution_count": 126,
   "metadata": {
    "collapsed": false
   },
   "outputs": [
    {
     "data": {
      "text/plain": [
       "[]"
      ]
     },
     "execution_count": 126,
     "metadata": {},
     "output_type": "execute_result"
    }
   ],
   "source": [
    "zip(names, empty)"
   ]
  },
  {
   "cell_type": "code",
   "execution_count": 127,
   "metadata": {
    "collapsed": true
   },
   "outputs": [],
   "source": [
    "n, l = ('robert', 'c+')"
   ]
  },
  {
   "cell_type": "code",
   "execution_count": 128,
   "metadata": {
    "collapsed": false
   },
   "outputs": [
    {
     "data": {
      "text/plain": [
       "'robert'"
      ]
     },
     "execution_count": 128,
     "metadata": {},
     "output_type": "execute_result"
    }
   ],
   "source": [
    "n"
   ]
  },
  {
   "cell_type": "code",
   "execution_count": 129,
   "metadata": {
    "collapsed": false
   },
   "outputs": [
    {
     "data": {
      "text/plain": [
       "'c+'"
      ]
     },
     "execution_count": 129,
     "metadata": {},
     "output_type": "execute_result"
    }
   ],
   "source": [
    "l"
   ]
  },
  {
   "cell_type": "code",
   "execution_count": 134,
   "metadata": {
    "collapsed": false
   },
   "outputs": [
    {
     "name": "stdout",
     "output_type": "stream",
     "text": [
      "bob 93 Finished\n",
      "sue 96 In Progress\n",
      "cindy 99 Never Started\n"
     ]
    }
   ],
   "source": [
    "for idx in range(len(names)):\n",
    "    name = names[idx]\n",
    "    grade = grades[idx]\n",
    "    status = capstones[idx]\n",
    "    print name, grade, status"
   ]
  },
  {
   "cell_type": "code",
   "execution_count": 136,
   "metadata": {
    "collapsed": false
   },
   "outputs": [
    {
     "data": {
      "text/plain": [
       "[93, 96, 99]"
      ]
     },
     "execution_count": 136,
     "metadata": {},
     "output_type": "execute_result"
    }
   ],
   "source": [
    "grades"
   ]
  },
  {
   "cell_type": "code",
   "execution_count": 138,
   "metadata": {
    "collapsed": false
   },
   "outputs": [
    {
     "data": {
      "text/plain": [
       "93"
      ]
     },
     "execution_count": 138,
     "metadata": {},
     "output_type": "execute_result"
    }
   ],
   "source": [
    "="
   ]
  },
  {
   "cell_type": "code",
   "execution_count": 139,
   "metadata": {
    "collapsed": false
   },
   "outputs": [],
   "source": [
    "z = zip(names, grades, capstones)"
   ]
  },
  {
   "cell_type": "markdown",
   "metadata": {},
   "source": [
    "Zip also can take in iterables of different length, but it only outputs a zipped tuple as long as there are elements in each list. So, the shortest list governs the zip length:"
   ]
  },
  {
   "cell_type": "code",
   "execution_count": 142,
   "metadata": {
    "collapsed": false
   },
   "outputs": [
    {
     "name": "stdout",
     "output_type": "stream",
     "text": [
      "['bob', 'sue', 'cindy'] [93, 96, 99] ['Finished', 'In Progress', 'Never Started']\n"
     ]
    }
   ],
   "source": [
    "print names, grades, capstones"
   ]
  },
  {
   "cell_type": "code",
   "execution_count": 110,
   "metadata": {
    "collapsed": false
   },
   "outputs": [
    {
     "data": {
      "text/plain": [
       "[('BOB', 93, 'Finished', 'A-'),\n",
       " ('SUE', 96, 'In Progress', 'A'),\n",
       " ('CINDY', 99, 'Never Started', 'A+')]"
      ]
     },
     "execution_count": 110,
     "metadata": {},
     "output_type": "execute_result"
    }
   ],
   "source": [
    "zip(names, grades, capstones, letters)"
   ]
  },
  {
   "cell_type": "code",
   "execution_count": 125,
   "metadata": {
    "collapsed": true
   },
   "outputs": [],
   "source": [
    "spoiler = []"
   ]
  },
  {
   "cell_type": "code",
   "execution_count": 126,
   "metadata": {
    "collapsed": false
   },
   "outputs": [
    {
     "data": {
      "text/plain": [
       "[]"
      ]
     },
     "execution_count": 126,
     "metadata": {},
     "output_type": "execute_result"
    }
   ],
   "source": [
    "zip(names, spoiler)"
   ]
  },
  {
   "cell_type": "code",
   "execution_count": 111,
   "metadata": {
    "collapsed": false
   },
   "outputs": [
    {
     "ename": "NameError",
     "evalue": "name 'progresses' is not defined",
     "output_type": "error",
     "traceback": [
      "\u001b[1;31m---------------------------------------------------------------------------\u001b[0m",
      "\u001b[1;31mNameError\u001b[0m                                 Traceback (most recent call last)",
      "\u001b[1;32m<ipython-input-111-3331e08cfc77>\u001b[0m in \u001b[0;36m<module>\u001b[1;34m()\u001b[0m\n\u001b[0;32m      1\u001b[0m {name:{'grade':grade, 'letter':letter, 'progress':progress} for\n\u001b[1;32m----> 2\u001b[1;33m     name, grade, letter, progress in zip(names, grades, letters, progresses)}\n\u001b[0m",
      "\u001b[1;31mNameError\u001b[0m: name 'progresses' is not defined"
     ]
    }
   ],
   "source": [
    "{name:{'grade':grade, 'letter':letter, 'progress':progress} for\n",
    "    name, grade, letter, progress in zip(names, grades, letters, progresses)}"
   ]
  },
  {
   "cell_type": "code",
   "execution_count": 147,
   "metadata": {
    "collapsed": true
   },
   "outputs": [],
   "source": [
    "import pickle"
   ]
  },
  {
   "cell_type": "code",
   "execution_count": 152,
   "metadata": {
    "collapsed": false
   },
   "outputs": [],
   "source": [
    "?pickle.dump"
   ]
  },
  {
   "cell_type": "code",
   "execution_count": 153,
   "metadata": {
    "collapsed": true
   },
   "outputs": [],
   "source": [
    "import pandas"
   ]
  },
  {
   "cell_type": "code",
   "execution_count": 154,
   "metadata": {
    "collapsed": true
   },
   "outputs": [],
   "source": [
    "q = pandas.DataFrame()"
   ]
  },
  {
   "cell_type": "code",
   "execution_count": 156,
   "metadata": {
    "collapsed": false
   },
   "outputs": [
    {
     "data": {
      "text/plain": [
       "'{}'"
      ]
     },
     "execution_count": 156,
     "metadata": {},
     "output_type": "execute_result"
    }
   ],
   "source": [
    "q.to_json()"
   ]
  },
  {
   "cell_type": "code",
   "execution_count": 157,
   "metadata": {
    "collapsed": true
   },
   "outputs": [],
   "source": [
    "q = pandas.read_csv('counties.txt')"
   ]
  },
  {
   "cell_type": "code",
   "execution_count": 158,
   "metadata": {
    "collapsed": false
   },
   "outputs": [
    {
     "data": {
      "text/plain": [
       "'{\"Unnamed: 0\":{\"0\":0,\"1\":1,\"2\":2,\"3\":3,\"4\":4,\"5\":5,\"6\":6,\"7\":7,\"8\":8,\"9\":9,\"10\":10,\"11\":11,\"12\":12,\"13\":13,\"14\":14,\"15\":15,\"16\":16,\"17\":17,\"18\":18,\"19\":19,\"20\":20,\"21\":21,\"22\":22,\"23\":23,\"24\":24,\"25\":25,\"26\":26,\"27\":27,\"28\":28,\"29\":29,\"30\":30,\"31\":31,\"32\":32,\"33\":33,\"34\":34,\"35\":35,\"36\":36,\"37\":37,\"38\":38,\"39\":39,\"40\":40,\"41\":41,\"42\":42,\"43\":43,\"44\":44,\"45\":45,\"46\":46,\"47\":47,\"48\":48,\"49\":49,\"50\":50,\"51\":51,\"52\":52,\"53\":53,\"54\":54,\"55\":55,\"56\":56,\"57\":57,\"58\":58,\"59\":59,\"60\":60,\"61\":61,\"62\":62,\"63\":63,\"64\":64,\"65\":65,\"66\":66,\"67\":67,\"68\":68,\"69\":69,\"70\":70,\"71\":71,\"72\":72,\"73\":73,\"74\":74,\"75\":75,\"76\":76,\"77\":77,\"78\":78,\"79\":79,\"80\":80,\"81\":81,\"82\":82,\"83\":83,\"84\":84,\"85\":85,\"86\":86,\"87\":87,\"88\":88,\"89\":89,\"90\":90,\"91\":91,\"92\":92,\"93\":93,\"94\":94,\"95\":95,\"96\":96,\"97\":97,\"98\":98,\"99\":99,\"100\":100,\"101\":101,\"102\":102,\"103\":103,\"104\":104,\"105\":105,\"106\":106,\"107\":107,\"108\":108,\"109\":109,\"110\":110,\"111\":111,\"112\":112,\"113\":113,\"114\":114,\"115\":115,\"116\":116,\"117\":117,\"118\":118,\"119\":119,\"120\":120,\"121\":121,\"122\":122,\"123\":123,\"124\":124,\"125\":125,\"126\":126,\"127\":127,\"128\":128,\"129\":129,\"130\":130,\"131\":131,\"132\":132,\"133\":133,\"134\":134,\"135\":135,\"136\":136,\"137\":137,\"138\":138,\"139\":139,\"140\":140,\"141\":141,\"142\":142,\"143\":143,\"144\":144,\"145\":145,\"146\":146,\"147\":147,\"148\":148,\"149\":149,\"150\":150,\"151\":151,\"152\":152,\"153\":153,\"154\":154,\"155\":155,\"156\":156,\"157\":157,\"158\":158,\"159\":159,\"160\":160,\"161\":161,\"162\":162,\"163\":163,\"164\":164,\"165\":165,\"166\":166,\"167\":167,\"168\":168,\"169\":169,\"170\":170,\"171\":171,\"172\":172,\"173\":173,\"174\":174,\"175\":175,\"176\":176,\"177\":177,\"178\":178,\"179\":179,\"180\":180,\"181\":181,\"182\":182,\"183\":183,\"184\":184,\"185\":185,\"186\":186,\"187\":187,\"188\":188,\"189\":189,\"190\":190,\"191\":191,\"192\":192,\"193\":193,\"194\":194,\"195\":195,\"196\":196,\"197\":197,\"198\":198,\"199\":199,\"200\":200,\"201\":201,\"202\":202,\"203\":203,\"204\":204,\"205\":205,\"206\":206,\"207\":207,\"208\":208,\"209\":209,\"210\":210,\"211\":211,\"212\":212,\"213\":213,\"214\":214,\"215\":215,\"216\":216,\"217\":217,\"218\":218,\"219\":219,\"220\":220,\"221\":221,\"222\":222,\"223\":223,\"224\":224,\"225\":225,\"226\":226,\"227\":227,\"228\":228,\"229\":229,\"230\":230,\"231\":231,\"232\":232,\"233\":233,\"234\":234,\"235\":235,\"236\":236,\"237\":237,\"238\":238,\"239\":239,\"240\":240,\"241\":241,\"242\":242,\"243\":243,\"244\":244,\"245\":245,\"246\":246,\"247\":247,\"248\":248,\"249\":249,\"250\":250,\"251\":251,\"252\":252,\"253\":253,\"254\":254,\"255\":255,\"256\":256,\"257\":257,\"258\":258,\"259\":259,\"260\":260,\"261\":261,\"262\":262,\"263\":263,\"264\":264,\"265\":265,\"266\":266,\"267\":267,\"268\":268,\"269\":269,\"270\":270,\"271\":271,\"272\":272,\"273\":273,\"274\":274,\"275\":275,\"276\":276,\"277\":277,\"278\":278,\"279\":279,\"280\":280,\"281\":281,\"282\":282,\"283\":283,\"284\":284,\"285\":285,\"286\":286,\"287\":287,\"288\":288,\"289\":289,\"290\":290,\"291\":291,\"292\":292,\"293\":293,\"294\":294,\"295\":295,\"296\":296,\"297\":297,\"298\":298,\"299\":299,\"300\":300,\"301\":301,\"302\":302,\"303\":303,\"304\":304,\"305\":305,\"306\":306,\"307\":307,\"308\":308,\"309\":309,\"310\":310,\"311\":311,\"312\":312,\"313\":313,\"314\":314,\"315\":315,\"316\":316,\"317\":317,\"318\":318,\"319\":319,\"320\":320,\"321\":321,\"322\":322,\"323\":323,\"324\":324,\"325\":325,\"326\":326,\"327\":327,\"328\":328,\"329\":329,\"330\":330,\"331\":331,\"332\":332,\"333\":333,\"334\":334,\"335\":335,\"336\":336,\"337\":337,\"338\":338,\"339\":339,\"340\":340,\"341\":341,\"342\":342,\"343\":343,\"344\":344,\"345\":345,\"346\":346,\"347\":347,\"348\":348,\"349\":349,\"350\":350,\"351\":351,\"352\":352,\"353\":353,\"354\":354,\"355\":355,\"356\":356,\"357\":357,\"358\":358,\"359\":359,\"360\":360,\"361\":361,\"362\":362,\"363\":363,\"364\":364,\"365\":365,\"366\":366,\"367\":367,\"368\":368,\"369\":369,\"370\":370,\"371\":371,\"372\":372,\"373\":373,\"374\":374,\"375\":375,\"376\":376,\"377\":377,\"378\":378,\"379\":379,\"380\":380,\"381\":381,\"382\":382,\"383\":383,\"384\":384,\"385\":385,\"386\":386,\"387\":387,\"388\":388,\"389\":389,\"390\":390,\"391\":391,\"392\":392,\"393\":393,\"394\":394,\"395\":395,\"396\":396,\"397\":397,\"398\":398,\"399\":399,\"400\":400,\"401\":401,\"402\":402,\"403\":403,\"404\":404,\"405\":405,\"406\":406,\"407\":407,\"408\":408,\"409\":409,\"410\":410,\"411\":411,\"412\":412,\"413\":413,\"414\":414,\"415\":415,\"416\":416,\"417\":417,\"418\":418,\"419\":419,\"420\":420,\"421\":421,\"422\":422,\"423\":423,\"424\":424,\"425\":425,\"426\":426,\"427\":427,\"428\":428,\"429\":429,\"430\":430,\"431\":431,\"432\":432,\"433\":433,\"434\":434,\"435\":435,\"436\":436,\"437\":437,\"438\":438,\"439\":439,\"440\":440,\"441\":441,\"442\":442,\"443\":443,\"444\":444,\"445\":445,\"446\":446,\"447\":447,\"448\":448,\"449\":449,\"450\":450,\"451\":451,\"452\":452,\"453\":453,\"454\":454,\"455\":455,\"456\":456,\"457\":457,\"458\":458,\"459\":459,\"460\":460,\"461\":461,\"462\":462,\"463\":463,\"464\":464,\"465\":465,\"466\":466,\"467\":467,\"468\":468,\"469\":469,\"470\":470,\"471\":471,\"472\":472,\"473\":473,\"474\":474,\"475\":475,\"476\":476,\"477\":477,\"478\":478,\"479\":479,\"480\":480,\"481\":481,\"482\":482,\"483\":483,\"484\":484,\"485\":485,\"486\":486,\"487\":487,\"488\":488,\"489\":489,\"490\":490,\"491\":491,\"492\":492,\"493\":493,\"494\":494,\"495\":495,\"496\":496,\"497\":497,\"498\":498,\"499\":499,\"500\":500,\"501\":501,\"502\":502,\"503\":503,\"504\":504,\"505\":505,\"506\":506,\"507\":507,\"508\":508,\"509\":509,\"510\":510,\"511\":511,\"512\":512,\"513\":513,\"514\":514,\"515\":515,\"516\":516,\"517\":517,\"518\":518,\"519\":519,\"520\":520,\"521\":521,\"522\":522,\"523\":523,\"524\":524,\"525\":525,\"526\":526,\"527\":527,\"528\":528,\"529\":529,\"530\":530,\"531\":531,\"532\":532,\"533\":533,\"534\":534,\"535\":535,\"536\":536,\"537\":537,\"538\":538,\"539\":539,\"540\":540,\"541\":541,\"542\":542,\"543\":543,\"544\":544,\"545\":545,\"546\":546,\"547\":547,\"548\":548,\"549\":549,\"550\":550,\"551\":551,\"552\":552,\"553\":553,\"554\":554,\"555\":555,\"556\":556,\"557\":557,\"558\":558,\"559\":559,\"560\":560,\"561\":561,\"562\":562,\"563\":563,\"564\":564,\"565\":565,\"566\":566,\"567\":567,\"568\":568,\"569\":569,\"570\":570,\"571\":571,\"572\":572,\"573\":573,\"574\":574,\"575\":575,\"576\":576,\"577\":577,\"578\":578,\"579\":579,\"580\":580,\"581\":581,\"582\":582,\"583\":583,\"584\":584,\"585\":585,\"586\":586,\"587\":587,\"588\":588,\"589\":589,\"590\":590,\"591\":591,\"592\":592,\"593\":593,\"594\":594,\"595\":595,\"596\":596,\"597\":597,\"598\":598,\"599\":599,\"600\":600,\"601\":601,\"602\":602,\"603\":603,\"604\":604,\"605\":605,\"606\":606,\"607\":607,\"608\":608,\"609\":609,\"610\":610,\"611\":611,\"612\":612,\"613\":613,\"614\":614,\"615\":615,\"616\":616,\"617\":617,\"618\":618,\"619\":619,\"620\":620,\"621\":621,\"622\":622,\"623\":623,\"624\":624,\"625\":625,\"626\":626,\"627\":627,\"628\":628,\"629\":629,\"630\":630,\"631\":631,\"632\":632,\"633\":633,\"634\":634,\"635\":635,\"636\":636,\"637\":637,\"638\":638,\"639\":639,\"640\":640,\"641\":641,\"642\":642,\"643\":643,\"644\":644,\"645\":645,\"646\":646,\"647\":647,\"648\":648,\"649\":649,\"650\":650,\"651\":651,\"652\":652,\"653\":653,\"654\":654,\"655\":655,\"656\":656,\"657\":657,\"658\":658,\"659\":659,\"660\":660,\"661\":661,\"662\":662,\"663\":663,\"664\":664,\"665\":665,\"666\":666,\"667\":667,\"668\":668,\"669\":669,\"670\":670,\"671\":671,\"672\":672,\"673\":673,\"674\":674,\"675\":675,\"676\":676,\"677\":677,\"678\":678,\"679\":679,\"680\":680,\"681\":681,\"682\":682,\"683\":683,\"684\":684,\"685\":685,\"686\":686,\"687\":687,\"688\":688,\"689\":689,\"690\":690,\"691\":691,\"692\":692,\"693\":693,\"694\":694,\"695\":695,\"696\":696,\"697\":697,\"698\":698,\"699\":699,\"700\":700,\"701\":701,\"702\":702,\"703\":703,\"704\":704,\"705\":705,\"706\":706,\"707\":707,\"708\":708,\"709\":709,\"710\":710,\"711\":711,\"712\":712,\"713\":713,\"714\":714,\"715\":715,\"716\":716,\"717\":717,\"718\":718,\"719\":719,\"720\":720,\"721\":721,\"722\":722,\"723\":723,\"724\":724,\"725\":725,\"726\":726,\"727\":727,\"728\":728,\"729\":729,\"730\":730,\"731\":731,\"732\":732,\"733\":733,\"734\":734,\"735\":735,\"736\":736,\"737\":737,\"738\":738,\"739\":739,\"740\":740,\"741\":741,\"742\":742,\"743\":743,\"744\":744,\"745\":745,\"746\":746,\"747\":747,\"748\":748,\"749\":749,\"750\":750,\"751\":751,\"752\":752,\"753\":753,\"754\":754,\"755\":755,\"756\":756,\"757\":757,\"758\":758,\"759\":759,\"760\":760,\"761\":761,\"762\":762,\"763\":763,\"764\":764,\"765\":765,\"766\":766,\"767\":767,\"768\":768,\"769\":769,\"770\":770,\"771\":771,\"772\":772,\"773\":773,\"774\":774,\"775\":775,\"776\":776,\"777\":777,\"778\":778,\"779\":779,\"780\":780,\"781\":781,\"782\":782,\"783\":783,\"784\":784,\"785\":785,\"786\":786,\"787\":787,\"788\":788,\"789\":789,\"790\":790,\"791\":791,\"792\":792,\"793\":793,\"794\":794,\"795\":795,\"796\":796,\"797\":797,\"798\":798,\"799\":799,\"800\":800,\"801\":801,\"802\":802,\"803\":803,\"804\":804,\"805\":805,\"806\":806,\"807\":807,\"808\":808,\"809\":809,\"810\":810,\"811\":811,\"812\":812,\"813\":813,\"814\":814,\"815\":815,\"816\":816,\"817\":817,\"818\":818,\"819\":819,\"820\":820,\"821\":821,\"822\":822,\"823\":823,\"824\":824,\"825\":825,\"826\":826,\"827\":827,\"828\":828,\"829\":829,\"830\":830,\"831\":831,\"832\":832,\"833\":833,\"834\":834,\"835\":835,\"836\":836,\"837\":837,\"838\":838,\"839\":839,\"840\":840,\"841\":841,\"842\":842,\"843\":843,\"844\":844,\"845\":845,\"846\":846,\"847\":847,\"848\":848,\"849\":849,\"850\":850,\"851\":851,\"852\":852,\"853\":853,\"854\":854,\"855\":855,\"856\":856,\"857\":857,\"858\":858,\"859\":859,\"860\":860,\"861\":861,\"862\":862,\"863\":863,\"864\":864,\"865\":865,\"866\":866,\"867\":867,\"868\":868,\"869\":869,\"870\":870,\"871\":871,\"872\":872,\"873\":873,\"874\":874,\"875\":875,\"876\":876,\"877\":877,\"878\":878,\"879\":879,\"880\":880,\"881\":881,\"882\":882,\"883\":883,\"884\":884,\"885\":885,\"886\":886,\"887\":887,\"888\":888,\"889\":889,\"890\":890,\"891\":891,\"892\":892,\"893\":893,\"894\":894,\"895\":895,\"896\":896,\"897\":897,\"898\":898,\"899\":899,\"900\":900,\"901\":901,\"902\":902,\"903\":903,\"904\":904,\"905\":905,\"906\":906,\"907\":907,\"908\":908,\"909\":909,\"910\":910,\"911\":911,\"912\":912,\"913\":913,\"914\":914,\"915\":915,\"916\":916,\"917\":917,\"918\":918,\"919\":919,\"920\":920,\"921\":921,\"922\":922,\"923\":923,\"924\":924,\"925\":925,\"926\":926,\"927\":927,\"928\":928,\"929\":929,\"930\":930,\"931\":931,\"932\":932,\"933\":933,\"934\":934,\"935\":935,\"936\":936,\"937\":937,\"938\":938,\"939\":939,\"940\":940,\"941\":941,\"942\":942,\"943\":943,\"944\":944,\"945\":945,\"946\":946,\"947\":947,\"948\":948,\"949\":949,\"950\":950,\"951\":951,\"952\":952,\"953\":953,\"954\":954,\"955\":955,\"956\":956,\"957\":957,\"958\":958,\"959\":959,\"960\":960,\"961\":961,\"962\":962,\"963\":963,\"964\":964,\"965\":965,\"966\":966,\"967\":967,\"968\":968,\"969\":969,\"970\":970,\"971\":971,\"972\":972,\"973\":973,\"974\":974,\"975\":975,\"976\":976,\"977\":977,\"978\":978,\"979\":979,\"980\":980,\"981\":981,\"982\":982,\"983\":983,\"984\":984,\"985\":985,\"986\":986,\"987\":987,\"988\":988,\"989\":989,\"990\":990,\"991\":991,\"992\":992,\"993\":993,\"994\":994,\"995\":995,\"996\":996,\"997\":997,\"998\":998,\"999\":999,\"1000\":1000,\"1001\":1001,\"1002\":1002,\"1003\":1003,\"1004\":1004,\"1005\":1005,\"1006\":1006,\"1007\":1007,\"1008\":1008,\"1009\":1009,\"1010\":1010,\"1011\":1011,\"1012\":1012,\"1013\":1013,\"1014\":1014,\"1015\":1015,\"1016\":1016,\"1017\":1017,\"1018\":1018,\"1019\":1019,\"1020\":1020,\"1021\":1021,\"1022\":1022,\"1023\":1023,\"1024\":1024,\"1025\":1025,\"1026\":1026,\"1027\":1027,\"1028\":1028,\"1029\":1029,\"1030\":1030,\"1031\":1031,\"1032\":1032,\"1033\":1033,\"1034\":1034,\"1035\":1035,\"1036\":1036,\"1037\":1037,\"1038\":1038,\"1039\":1039,\"1040\":1040,\"1041\":1041,\"1042\":1042,\"1043\":1043,\"1044\":1044,\"1045\":1045,\"1046\":1046,\"1047\":1047,\"1048\":1048,\"1049\":1049,\"1050\":1050,\"1051\":1051,\"1052\":1052,\"1053\":1053,\"1054\":1054,\"1055\":1055,\"1056\":1056,\"1057\":1057,\"1058\":1058,\"1059\":1059,\"1060\":1060,\"1061\":1061,\"1062\":1062,\"1063\":1063,\"1064\":1064,\"1065\":1065,\"1066\":1066,\"1067\":1067,\"1068\":1068,\"1069\":1069,\"1070\":1070,\"1071\":1071,\"1072\":1072,\"1073\":1073,\"1074\":1074,\"1075\":1075,\"1076\":1076,\"1077\":1077,\"1078\":1078,\"1079\":1079,\"1080\":1080,\"1081\":1081,\"1082\":1082,\"1083\":1083,\"1084\":1084,\"1085\":1085,\"1086\":1086,\"1087\":1087,\"1088\":1088,\"1089\":1089,\"1090\":1090,\"1091\":1091,\"1092\":1092,\"1093\":1093,\"1094\":1094,\"1095\":1095,\"1096\":1096,\"1097\":1097,\"1098\":1098,\"1099\":1099,\"1100\":1100,\"1101\":1101,\"1102\":1102,\"1103\":1103,\"1104\":1104,\"1105\":1105,\"1106\":1106,\"1107\":1107,\"1108\":1108,\"1109\":1109,\"1110\":1110,\"1111\":1111,\"1112\":1112,\"1113\":1113,\"1114\":1114,\"1115\":1115,\"1116\":1116,\"1117\":1117,\"1118\":1118,\"1119\":1119,\"1120\":1120,\"1121\":1121,\"1122\":1122,\"1123\":1123,\"1124\":1124,\"1125\":1125,\"1126\":1126,\"1127\":1127,\"1128\":1128,\"1129\":1129,\"1130\":1130,\"1131\":1131,\"1132\":1132,\"1133\":1133,\"1134\":1134,\"1135\":1135,\"1136\":1136,\"1137\":1137,\"1138\":1138,\"1139\":1139,\"1140\":1140,\"1141\":1141,\"1142\":1142,\"1143\":1143,\"1144\":1144,\"1145\":1145,\"1146\":1146,\"1147\":1147,\"1148\":1148,\"1149\":1149,\"1150\":1150,\"1151\":1151,\"1152\":1152,\"1153\":1153,\"1154\":1154,\"1155\":1155,\"1156\":1156,\"1157\":1157,\"1158\":1158,\"1159\":1159,\"1160\":1160,\"1161\":1161,\"1162\":1162,\"1163\":1163,\"1164\":1164,\"1165\":1165,\"1166\":1166,\"1167\":1167,\"1168\":1168,\"1169\":1169,\"1170\":1170,\"1171\":1171,\"1172\":1172,\"1173\":1173,\"1174\":1174,\"1175\":1175,\"1176\":1176,\"1177\":1177,\"1178\":1178,\"1179\":1179,\"1180\":1180,\"1181\":1181,\"1182\":1182,\"1183\":1183,\"1184\":1184,\"1185\":1185,\"1186\":1186,\"1187\":1187,\"1188\":1188,\"1189\":1189,\"1190\":1190,\"1191\":1191,\"1192\":1192,\"1193\":1193,\"1194\":1194,\"1195\":1195,\"1196\":1196,\"1197\":1197,\"1198\":1198,\"1199\":1199,\"1200\":1200,\"1201\":1201,\"1202\":1202,\"1203\":1203,\"1204\":1204,\"1205\":1205,\"1206\":1206,\"1207\":1207,\"1208\":1208,\"1209\":1209,\"1210\":1210,\"1211\":1211,\"1212\":1212,\"1213\":1213,\"1214\":1214,\"1215\":1215,\"1216\":1216,\"1217\":1217,\"1218\":1218,\"1219\":1219,\"1220\":1220,\"1221\":1221,\"1222\":1222,\"1223\":1223,\"1224\":1224,\"1225\":1225,\"1226\":1226,\"1227\":1227,\"1228\":1228,\"1229\":1229,\"1230\":1230,\"1231\":1231,\"1232\":1232,\"1233\":1233,\"1234\":1234,\"1235\":1235,\"1236\":1236,\"1237\":1237,\"1238\":1238,\"1239\":1239,\"1240\":1240,\"1241\":1241,\"1242\":1242,\"1243\":1243,\"1244\":1244,\"1245\":1245,\"1246\":1246,\"1247\":1247,\"1248\":1248,\"1249\":1249,\"1250\":1250,\"1251\":1251,\"1252\":1252,\"1253\":1253,\"1254\":1254,\"1255\":1255,\"1256\":1256,\"1257\":1257,\"1258\":1258,\"1259\":1259,\"1260\":1260,\"1261\":1261,\"1262\":1262,\"1263\":1263,\"1264\":1264,\"1265\":1265,\"1266\":1266,\"1267\":1267,\"1268\":1268,\"1269\":1269,\"1270\":1270,\"1271\":1271,\"1272\":1272,\"1273\":1273,\"1274\":1274,\"1275\":1275,\"1276\":1276,\"1277\":1277,\"1278\":1278,\"1279\":1279,\"1280\":1280,\"1281\":1281,\"1282\":1282,\"1283\":1283,\"1284\":1284,\"1285\":1285,\"1286\":1286,\"1287\":1287,\"1288\":1288,\"1289\":1289,\"1290\":1290,\"1291\":1291,\"1292\":1292,\"1293\":1293,\"1294\":1294,\"1295\":1295,\"1296\":1296,\"1297\":1297,\"1298\":1298,\"1299\":1299,\"1300\":1300,\"1301\":1301,\"1302\":1302,\"1303\":1303,\"1304\":1304,\"1305\":1305,\"1306\":1306,\"1307\":1307,\"1308\":1308,\"1309\":1309,\"1310\":1310,\"1311\":1311,\"1312\":1312,\"1313\":1313,\"1314\":1314,\"1315\":1315,\"1316\":1316,\"1317\":1317,\"1318\":1318,\"1319\":1319,\"1320\":1320,\"1321\":1321,\"1322\":1322,\"1323\":1323,\"1324\":1324,\"1325\":1325,\"1326\":1326,\"1327\":1327,\"1328\":1328,\"1329\":1329,\"1330\":1330,\"1331\":1331,\"1332\":1332,\"1333\":1333,\"1334\":1334,\"1335\":1335,\"1336\":1336,\"1337\":1337,\"1338\":1338,\"1339\":1339,\"1340\":1340,\"1341\":1341,\"1342\":1342,\"1343\":1343,\"1344\":1344,\"1345\":1345,\"1346\":1346,\"1347\":1347,\"1348\":1348,\"1349\":1349,\"1350\":1350,\"1351\":1351,\"1352\":1352,\"1353\":1353,\"1354\":1354,\"1355\":1355,\"1356\":1356,\"1357\":1357,\"1358\":1358,\"1359\":1359,\"1360\":1360,\"1361\":1361,\"1362\":1362,\"1363\":1363,\"1364\":1364,\"1365\":1365,\"1366\":1366,\"1367\":1367,\"1368\":1368,\"1369\":1369,\"1370\":1370,\"1371\":1371,\"1372\":1372,\"1373\":1373,\"1374\":1374,\"1375\":1375,\"1376\":1376,\"1377\":1377,\"1378\":1378,\"1379\":1379,\"1380\":1380,\"1381\":1381,\"1382\":1382,\"1383\":1383,\"1384\":1384,\"1385\":1385,\"1386\":1386,\"1387\":1387,\"1388\":1388,\"1389\":1389,\"1390\":1390,\"1391\":1391,\"1392\":1392,\"1393\":1393,\"1394\":1394,\"1395\":1395,\"1396\":1396,\"1397\":1397,\"1398\":1398,\"1399\":1399,\"1400\":1400,\"1401\":1401,\"1402\":1402,\"1403\":1403,\"1404\":1404,\"1405\":1405,\"1406\":1406,\"1407\":1407,\"1408\":1408,\"1409\":1409,\"1410\":1410,\"1411\":1411,\"1412\":1412,\"1413\":1413,\"1414\":1414,\"1415\":1415,\"1416\":1416,\"1417\":1417,\"1418\":1418,\"1419\":1419,\"1420\":1420,\"1421\":1421,\"1422\":1422,\"1423\":1423,\"1424\":1424,\"1425\":1425,\"1426\":1426,\"1427\":1427,\"1428\":1428,\"1429\":1429,\"1430\":1430,\"1431\":1431,\"1432\":1432,\"1433\":1433,\"1434\":1434,\"1435\":1435,\"1436\":1436,\"1437\":1437,\"1438\":1438,\"1439\":1439,\"1440\":1440,\"1441\":1441,\"1442\":1442,\"1443\":1443,\"1444\":1444,\"1445\":1445,\"1446\":1446,\"1447\":1447,\"1448\":1448,\"1449\":1449,\"1450\":1450,\"1451\":1451,\"1452\":1452,\"1453\":1453,\"1454\":1454,\"1455\":1455,\"1456\":1456,\"1457\":1457,\"1458\":1458,\"1459\":1459,\"1460\":1460,\"1461\":1461,\"1462\":1462,\"1463\":1463,\"1464\":1464,\"1465\":1465,\"1466\":1466,\"1467\":1467,\"1468\":1468,\"1469\":1469,\"1470\":1470,\"1471\":1471,\"1472\":1472,\"1473\":1473,\"1474\":1474,\"1475\":1475,\"1476\":1476,\"1477\":1477,\"1478\":1478,\"1479\":1479,\"1480\":1480,\"1481\":1481,\"1482\":1482,\"1483\":1483,\"1484\":1484,\"1485\":1485,\"1486\":1486,\"1487\":1487,\"1488\":1488,\"1489\":1489,\"1490\":1490,\"1491\":1491,\"1492\":1492,\"1493\":1493,\"1494\":1494,\"1495\":1495,\"1496\":1496,\"1497\":1497,\"1498\":1498,\"1499\":1499,\"1500\":1500,\"1501\":1501,\"1502\":1502,\"1503\":1503,\"1504\":1504,\"1505\":1505,\"1506\":1506,\"1507\":1507,\"1508\":1508,\"1509\":1509,\"1510\":1510,\"1511\":1511,\"1512\":1512,\"1513\":1513,\"1514\":1514,\"1515\":1515,\"1516\":1516,\"1517\":1517,\"1518\":1518,\"1519\":1519,\"1520\":1520,\"1521\":1521,\"1522\":1522,\"1523\":1523,\"1524\":1524,\"1525\":1525,\"1526\":1526,\"1527\":1527,\"1528\":1528,\"1529\":1529,\"1530\":1530,\"1531\":1531,\"1532\":1532,\"1533\":1533,\"1534\":1534,\"1535\":1535,\"1536\":1536,\"1537\":1537,\"1538\":1538,\"1539\":1539,\"1540\":1540,\"1541\":1541,\"1542\":1542,\"1543\":1543,\"1544\":1544,\"1545\":1545,\"1546\":1546,\"1547\":1547,\"1548\":1548,\"1549\":1549,\"1550\":1550,\"1551\":1551,\"1552\":1552,\"1553\":1553,\"1554\":1554,\"1555\":1555,\"1556\":1556,\"1557\":1557,\"1558\":1558,\"1559\":1559,\"1560\":1560,\"1561\":1561,\"1562\":1562,\"1563\":1563,\"1564\":1564,\"1565\":1565,\"1566\":1566,\"1567\":1567,\"1568\":1568,\"1569\":1569,\"1570\":1570,\"1571\":1571,\"1572\":1572,\"1573\":1573,\"1574\":1574,\"1575\":1575,\"1576\":1576,\"1577\":1577,\"1578\":1578,\"1579\":1579,\"1580\":1580,\"1581\":1581,\"1582\":1582,\"1583\":1583,\"1584\":1584,\"1585\":1585,\"1586\":1586,\"1587\":1587,\"1588\":1588,\"1589\":1589,\"1590\":1590,\"1591\":1591,\"1592\":1592,\"1593\":1593,\"1594\":1594,\"1595\":1595,\"1596\":1596,\"1597\":1597,\"1598\":1598,\"1599\":1599,\"1600\":1600,\"1601\":1601,\"1602\":1602,\"1603\":1603,\"1604\":1604,\"1605\":1605,\"1606\":1606,\"1607\":1607,\"1608\":1608,\"1609\":1609,\"1610\":1610,\"1611\":1611,\"1612\":1612,\"1613\":1613,\"1614\":1614,\"1615\":1615,\"1616\":1616,\"1617\":1617,\"1618\":1618,\"1619\":1619,\"1620\":1620,\"1621\":1621,\"1622\":1622,\"1623\":1623,\"1624\":1624,\"1625\":1625,\"1626\":1626,\"1627\":1627,\"1628\":1628,\"1629\":1629,\"1630\":1630,\"1631\":1631,\"1632\":1632,\"1633\":1633,\"1634\":1634,\"1635\":1635,\"1636\":1636,\"1637\":1637,\"1638\":1638,\"1639\":1639,\"1640\":1640,\"1641\":1641,\"1642\":1642,\"1643\":1643,\"1644\":1644,\"1645\":1645,\"1646\":1646,\"1647\":1647,\"1648\":1648,\"1649\":1649,\"1650\":1650,\"1651\":1651,\"1652\":1652,\"1653\":1653,\"1654\":1654,\"1655\":1655,\"1656\":1656,\"1657\":1657,\"1658\":1658,\"1659\":1659,\"1660\":1660,\"1661\":1661,\"1662\":1662,\"1663\":1663,\"1664\":1664,\"1665\":1665,\"1666\":1666,\"1667\":1667,\"1668\":1668,\"1669\":1669,\"1670\":1670,\"1671\":1671,\"1672\":1672,\"1673\":1673,\"1674\":1674,\"1675\":1675,\"1676\":1676,\"1677\":1677,\"1678\":1678,\"1679\":1679,\"1680\":1680,\"1681\":1681,\"1682\":1682,\"1683\":1683,\"1684\":1684,\"1685\":1685,\"1686\":1686,\"1687\":1687,\"1688\":1688,\"1689\":1689,\"1690\":1690,\"1691\":1691,\"1692\":1692,\"1693\":1693,\"1694\":1694,\"1695\":1695,\"1696\":1696,\"1697\":1697,\"1698\":1698,\"1699\":1699,\"1700\":1700,\"1701\":1701,\"1702\":1702,\"1703\":1703,\"1704\":1704,\"1705\":1705,\"1706\":1706,\"1707\":1707,\"1708\":1708,\"1709\":1709,\"1710\":1710,\"1711\":1711,\"1712\":1712,\"1713\":1713,\"1714\":1714,\"1715\":1715,\"1716\":1716,\"1717\":1717,\"1718\":1718,\"1719\":1719,\"1720\":1720,\"1721\":1721,\"1722\":1722,\"1723\":1723,\"1724\":1724,\"1725\":1725,\"1726\":1726,\"1727\":1727,\"1728\":1728,\"1729\":1729,\"1730\":1730,\"1731\":1731,\"1732\":1732,\"1733\":1733,\"1734\":1734,\"1735\":1735,\"1736\":1736,\"1737\":1737,\"1738\":1738,\"1739\":1739,\"1740\":1740,\"1741\":1741,\"1742\":1742,\"1743\":1743,\"1744\":1744,\"1745\":1745,\"1746\":1746,\"1747\":1747,\"1748\":1748,\"1749\":1749,\"1750\":1750,\"1751\":1751,\"1752\":1752,\"1753\":1753,\"1754\":1754,\"1755\":1755,\"1756\":1756,\"1757\":1757,\"1758\":1758,\"1759\":1759,\"1760\":1760,\"1761\":1761,\"1762\":1762,\"1763\":1763,\"1764\":1764,\"1765\":1765,\"1766\":1766,\"1767\":1767,\"1768\":1768,\"1769\":1769,\"1770\":1770,\"1771\":1771,\"1772\":1772,\"1773\":1773,\"1774\":1774,\"1775\":1775,\"1776\":1776,\"1777\":1777,\"1778\":1778,\"1779\":1779,\"1780\":1780,\"1781\":1781,\"1782\":1782,\"1783\":1783,\"1784\":1784,\"1785\":1785,\"1786\":1786,\"1787\":1787,\"1788\":1788,\"1789\":1789,\"1790\":1790,\"1791\":1791,\"1792\":1792,\"1793\":1793,\"1794\":1794,\"1795\":1795,\"1796\":1796,\"1797\":1797,\"1798\":1798,\"1799\":1799,\"1800\":1800,\"1801\":1801,\"1802\":1802,\"1803\":1803,\"1804\":1804,\"1805\":1805,\"1806\":1806,\"1807\":1807,\"1808\":1808,\"1809\":1809,\"1810\":1810,\"1811\":1811,\"1812\":1812,\"1813\":1813,\"1814\":1814,\"1815\":1815,\"1816\":1816,\"1817\":1817,\"1818\":1818,\"1819\":1819,\"1820\":1820,\"1821\":1821,\"1822\":1822,\"1823\":1823,\"1824\":1824,\"1825\":1825,\"1826\":1826,\"1827\":1827,\"1828\":1828,\"1829\":1829,\"1830\":1830,\"1831\":1831,\"1832\":1832,\"1833\":1833,\"1834\":1834,\"1835\":1835,\"1836\":1836,\"1837\":1837,\"1838\":1838,\"1839\":1839,\"1840\":1840,\"1841\":1841,\"1842\":1842,\"1843\":1843,\"1844\":1844,\"1845\":1845,\"1846\":1846,\"1847\":1847,\"1848\":1848,\"1849\":1849,\"1850\":1850,\"1851\":1851,\"1852\":1852,\"1853\":1853,\"1854\":1854,\"1855\":1855,\"1856\":1856,\"1857\":1857,\"1858\":1858,\"1859\":1859,\"1860\":1860,\"1861\":1861,\"1862\":1862,\"1863\":1863,\"1864\":1864,\"1865\":1865,\"1866\":1866,\"1867\":1867,\"1868\":1868,\"1869\":1869,\"1870\":1870,\"1871\":1871,\"1872\":1872,\"1873\":1873,\"1874\":1874,\"1875\":1875,\"1876\":1876,\"1877\":1877,\"1878\":1878,\"1879\":1879,\"1880\":1880,\"1881\":1881,\"1882\":1882,\"1883\":1883,\"1884\":1884,\"1885\":1885,\"1886\":1886,\"1887\":1887,\"1888\":1888,\"1889\":1889,\"1890\":1890,\"1891\":1891,\"1892\":1892,\"1893\":1893,\"1894\":1894,\"1895\":1895,\"1896\":1896,\"1897\":1897,\"1898\":1898,\"1899\":1899,\"1900\":1900,\"1901\":1901,\"1902\":1902,\"1903\":1903,\"1904\":1904,\"1905\":1905,\"1906\":1906,\"1907\":1907,\"1908\":1908,\"1909\":1909,\"1910\":1910,\"1911\":1911,\"1912\":1912,\"1913\":1913,\"1914\":1914,\"1915\":1915,\"1916\":1916,\"1917\":1917,\"1918\":1918,\"1919\":1919,\"1920\":1920,\"1921\":1921,\"1922\":1922,\"1923\":1923,\"1924\":1924,\"1925\":1925,\"1926\":1926,\"1927\":1927,\"1928\":1928,\"1929\":1929,\"1930\":1930,\"1931\":1931,\"1932\":1932,\"1933\":1933,\"1934\":1934,\"1935\":1935,\"1936\":1936,\"1937\":1937,\"1938\":1938,\"1939\":1939,\"1940\":1940,\"1941\":1941,\"1942\":1942,\"1943\":1943,\"1944\":1944,\"1945\":1945,\"1946\":1946,\"1947\":1947,\"1948\":1948,\"1949\":1949,\"1950\":1950,\"1951\":1951,\"1952\":1952,\"1953\":1953,\"1954\":1954,\"1955\":1955,\"1956\":1956,\"1957\":1957,\"1958\":1958,\"1959\":1959,\"1960\":1960,\"1961\":1961,\"1962\":1962,\"1963\":1963,\"1964\":1964,\"1965\":1965,\"1966\":1966,\"1967\":1967,\"1968\":1968,\"1969\":1969,\"1970\":1970,\"1971\":1971,\"1972\":1972,\"1973\":1973,\"1974\":1974,\"1975\":1975,\"1976\":1976,\"1977\":1977,\"1978\":1978,\"1979\":1979,\"1980\":1980,\"1981\":1981,\"1982\":1982,\"1983\":1983,\"1984\":1984,\"1985\":1985,\"1986\":1986,\"1987\":1987,\"1988\":1988,\"1989\":1989,\"1990\":1990,\"1991\":1991,\"1992\":1992,\"1993\":1993,\"1994\":1994,\"1995\":1995,\"1996\":1996,\"1997\":1997,\"1998\":1998,\"1999\":1999,\"2000\":2000,\"2001\":2001,\"2002\":2002,\"2003\":2003,\"2004\":2004,\"2005\":2005,\"2006\":2006,\"2007\":2007,\"2008\":2008,\"2009\":2009,\"2010\":2010,\"2011\":2011,\"2012\":2012,\"2013\":2013,\"2014\":2014,\"2015\":2015,\"2016\":2016,\"2017\":2017,\"2018\":2018,\"2019\":2019,\"2020\":2020,\"2021\":2021,\"2022\":2022,\"2023\":2023,\"2024\":2024,\"2025\":2025,\"2026\":2026,\"2027\":2027,\"2028\":2028,\"2029\":2029,\"2030\":2030,\"2031\":2031,\"2032\":2032,\"2033\":2033,\"2034\":2034,\"2035\":2035,\"2036\":2036,\"2037\":2037,\"2038\":2038,\"2039\":2039,\"2040\":2040,\"2041\":2041,\"2042\":2042,\"2043\":2043,\"2044\":2044,\"2045\":2045,\"2046\":2046,\"2047\":2047,\"2048\":2048,\"2049\":2049,\"2050\":2050,\"2051\":2051,\"2052\":2052,\"2053\":2053,\"2054\":2054,\"2055\":2055,\"2056\":2056,\"2057\":2057,\"2058\":2058,\"2059\":2059,\"2060\":2060,\"2061\":2061,\"2062\":2062,\"2063\":2063,\"2064\":2064,\"2065\":2065,\"2066\":2066,\"2067\":2067,\"2068\":2068,\"2069\":2069,\"2070\":2070,\"2071\":2071,\"2072\":2072,\"2073\":2073,\"2074\":2074,\"2075\":2075,\"2076\":2076,\"2077\":2077,\"2078\":2078,\"2079\":2079,\"2080\":2080,\"2081\":2081,\"2082\":2082,\"2083\":2083,\"2084\":2084,\"2085\":2085,\"2086\":2086,\"2087\":2087,\"2088\":2088,\"2089\":2089,\"2090\":2090,\"2091\":2091,\"2092\":2092,\"2093\":2093,\"2094\":2094,\"2095\":2095,\"2096\":2096,\"2097\":2097,\"2098\":2098,\"2099\":2099,\"2100\":2100,\"2101\":2101,\"2102\":2102,\"2103\":2103,\"2104\":2104,\"2105\":2105,\"2106\":2106,\"2107\":2107,\"2108\":2108,\"2109\":2109,\"2110\":2110,\"2111\":2111,\"2112\":2112,\"2113\":2113,\"2114\":2114,\"2115\":2115,\"2116\":2116,\"2117\":2117,\"2118\":2118,\"2119\":2119,\"2120\":2120,\"2121\":2121,\"2122\":2122,\"2123\":2123,\"2124\":2124,\"2125\":2125,\"2126\":2126,\"2127\":2127,\"2128\":2128,\"2129\":2129,\"2130\":2130,\"2131\":2131,\"2132\":2132,\"2133\":2133,\"2134\":2134,\"2135\":2135,\"2136\":2136,\"2137\":2137,\"2138\":2138,\"2139\":2139,\"2140\":2140,\"2141\":2141,\"2142\":2142,\"2143\":2143,\"2144\":2144,\"2145\":2145,\"2146\":2146,\"2147\":2147,\"2148\":2148,\"2149\":2149,\"2150\":2150,\"2151\":2151,\"2152\":2152,\"2153\":2153,\"2154\":2154,\"2155\":2155,\"2156\":2156,\"2157\":2157,\"2158\":2158,\"2159\":2159,\"2160\":2160,\"2161\":2161,\"2162\":2162,\"2163\":2163,\"2164\":2164,\"2165\":2165,\"2166\":2166,\"2167\":2167,\"2168\":2168,\"2169\":2169,\"2170\":2170,\"2171\":2171,\"2172\":2172,\"2173\":2173,\"2174\":2174,\"2175\":2175,\"2176\":2176,\"2177\":2177,\"2178\":2178,\"2179\":2179,\"2180\":2180,\"2181\":2181,\"2182\":2182,\"2183\":2183,\"2184\":2184,\"2185\":2185,\"2186\":2186,\"2187\":2187,\"2188\":2188,\"2189\":2189,\"2190\":2190,\"2191\":2191,\"2192\":2192,\"2193\":2193,\"2194\":2194,\"2195\":2195,\"2196\":2196,\"2197\":2197,\"2198\":2198,\"2199\":2199,\"2200\":2200,\"2201\":2201,\"2202\":2202,\"2203\":2203,\"2204\":2204,\"2205\":2205,\"2206\":2206,\"2207\":2207,\"2208\":2208,\"2209\":2209,\"2210\":2210,\"2211\":2211,\"2212\":2212,\"2213\":2213,\"2214\":2214,\"2215\":2215,\"2216\":2216,\"2217\":2217,\"2218\":2218,\"2219\":2219,\"2220\":2220,\"2221\":2221,\"2222\":2222,\"2223\":2223,\"2224\":2224,\"2225\":2225,\"2226\":2226,\"2227\":2227,\"2228\":2228,\"2229\":2229,\"2230\":2230,\"2231\":2231,\"2232\":2232,\"2233\":2233,\"2234\":2234,\"2235\":2235,\"2236\":2236,\"2237\":2237,\"2238\":2238,\"2239\":2239,\"2240\":2240,\"2241\":2241,\"2242\":2242,\"2243\":2243,\"2244\":2244,\"2245\":2245,\"2246\":2246,\"2247\":2247,\"2248\":2248,\"2249\":2249,\"2250\":2250,\"2251\":2251,\"2252\":2252,\"2253\":2253,\"2254\":2254,\"2255\":2255,\"2256\":2256,\"2257\":2257,\"2258\":2258,\"2259\":2259,\"2260\":2260,\"2261\":2261,\"2262\":2262,\"2263\":2263,\"2264\":2264,\"2265\":2265,\"2266\":2266,\"2267\":2267,\"2268\":2268,\"2269\":2269,\"2270\":2270,\"2271\":2271,\"2272\":2272,\"2273\":2273,\"2274\":2274,\"2275\":2275,\"2276\":2276,\"2277\":2277,\"2278\":2278,\"2279\":2279,\"2280\":2280,\"2281\":2281,\"2282\":2282,\"2283\":2283,\"2284\":2284,\"2285\":2285,\"2286\":2286,\"2287\":2287,\"2288\":2288,\"2289\":2289,\"2290\":2290,\"2291\":2291,\"2292\":2292,\"2293\":2293,\"2294\":2294,\"2295\":2295,\"2296\":2296,\"2297\":2297,\"2298\":2298,\"2299\":2299,\"2300\":2300,\"2301\":2301,\"2302\":2302,\"2303\":2303,\"2304\":2304,\"2305\":2305,\"2306\":2306,\"2307\":2307,\"2308\":2308,\"2309\":2309,\"2310\":2310,\"2311\":2311,\"2312\":2312,\"2313\":2313,\"2314\":2314,\"2315\":2315,\"2316\":2316,\"2317\":2317,\"2318\":2318,\"2319\":2319,\"2320\":2320,\"2321\":2321,\"2322\":2322,\"2323\":2323,\"2324\":2324,\"2325\":2325,\"2326\":2326,\"2327\":2327,\"2328\":2328,\"2329\":2329,\"2330\":2330,\"2331\":2331,\"2332\":2332,\"2333\":2333,\"2334\":2334,\"2335\":2335,\"2336\":2336,\"2337\":2337,\"2338\":2338,\"2339\":2339,\"2340\":2340,\"2341\":2341,\"2342\":2342,\"2343\":2343,\"2344\":2344,\"2345\":2345,\"2346\":2346,\"2347\":2347,\"2348\":2348,\"2349\":2349,\"2350\":2350,\"2351\":2351,\"2352\":2352,\"2353\":2353,\"2354\":2354,\"2355\":2355,\"2356\":2356,\"2357\":2357,\"2358\":2358,\"2359\":2359,\"2360\":2360,\"2361\":2361,\"2362\":2362,\"2363\":2363,\"2364\":2364,\"2365\":2365,\"2366\":2366,\"2367\":2367,\"2368\":2368,\"2369\":2369,\"2370\":2370,\"2371\":2371,\"2372\":2372,\"2373\":2373,\"2374\":2374,\"2375\":2375,\"2376\":2376,\"2377\":2377,\"2378\":2378,\"2379\":2379,\"2380\":2380,\"2381\":2381,\"2382\":2382,\"2383\":2383,\"2384\":2384,\"2385\":2385,\"2386\":2386,\"2387\":2387,\"2388\":2388,\"2389\":2389,\"2390\":2390,\"2391\":2391,\"2392\":2392,\"2393\":2393,\"2394\":2394,\"2395\":2395,\"2396\":2396,\"2397\":2397,\"2398\":2398,\"2399\":2399,\"2400\":2400,\"2401\":2401,\"2402\":2402,\"2403\":2403,\"2404\":2404,\"2405\":2405,\"2406\":2406,\"2407\":2407,\"2408\":2408,\"2409\":2409,\"2410\":2410,\"2411\":2411,\"2412\":2412,\"2413\":2413,\"2414\":2414,\"2415\":2415,\"2416\":2416,\"2417\":2417,\"2418\":2418,\"2419\":2419,\"2420\":2420,\"2421\":2421,\"2422\":2422,\"2423\":2423,\"2424\":2424,\"2425\":2425,\"2426\":2426,\"2427\":2427,\"2428\":2428,\"2429\":2429,\"2430\":2430,\"2431\":2431,\"2432\":2432,\"2433\":2433,\"2434\":2434,\"2435\":2435,\"2436\":2436,\"2437\":2437,\"2438\":2438,\"2439\":2439,\"2440\":2440,\"2441\":2441,\"2442\":2442,\"2443\":2443,\"2444\":2444,\"2445\":2445,\"2446\":2446,\"2447\":2447,\"2448\":2448,\"2449\":2449,\"2450\":2450,\"2451\":2451,\"2452\":2452,\"2453\":2453,\"2454\":2454,\"2455\":2455,\"2456\":2456,\"2457\":2457,\"2458\":2458,\"2459\":2459,\"2460\":2460,\"2461\":2461,\"2462\":2462,\"2463\":2463,\"2464\":2464,\"2465\":2465,\"2466\":2466,\"2467\":2467,\"2468\":2468,\"2469\":2469,\"2470\":2470,\"2471\":2471,\"2472\":2472,\"2473\":2473,\"2474\":2474,\"2475\":2475,\"2476\":2476,\"2477\":2477,\"2478\":2478,\"2479\":2479,\"2480\":2480,\"2481\":2481,\"2482\":2482,\"2483\":2483,\"2484\":2484,\"2485\":2485,\"2486\":2486,\"2487\":2487,\"2488\":2488,\"2489\":2489,\"2490\":2490,\"2491\":2491,\"2492\":2492,\"2493\":2493,\"2494\":2494,\"2495\":2495,\"2496\":2496,\"2497\":2497,\"2498\":2498,\"2499\":2499,\"2500\":2500,\"2501\":2501,\"2502\":2502,\"2503\":2503,\"2504\":2504,\"2505\":2505,\"2506\":2506,\"2507\":2507,\"2508\":2508,\"2509\":2509,\"2510\":2510,\"2511\":2511,\"2512\":2512,\"2513\":2513,\"2514\":2514,\"2515\":2515,\"2516\":2516,\"2517\":2517,\"2518\":2518,\"2519\":2519,\"2520\":2520,\"2521\":2521,\"2522\":2522,\"2523\":2523,\"2524\":2524,\"2525\":2525,\"2526\":2526,\"2527\":2527,\"2528\":2528,\"2529\":2529,\"2530\":2530,\"2531\":2531,\"2532\":2532,\"2533\":2533,\"2534\":2534,\"2535\":2535,\"2536\":2536,\"2537\":2537,\"2538\":2538,\"2539\":2539,\"2540\":2540,\"2541\":2541,\"2542\":2542,\"2543\":2543,\"2544\":2544,\"2545\":2545,\"2546\":2546,\"2547\":2547,\"2548\":2548,\"2549\":2549,\"2550\":2550,\"2551\":2551,\"2552\":2552,\"2553\":2553,\"2554\":2554,\"2555\":2555,\"2556\":2556,\"2557\":2557,\"2558\":2558,\"2559\":2559,\"2560\":2560,\"2561\":2561,\"2562\":2562,\"2563\":2563,\"2564\":2564,\"2565\":2565,\"2566\":2566,\"2567\":2567,\"2568\":2568,\"2569\":2569,\"2570\":2570,\"2571\":2571,\"2572\":2572,\"2573\":2573,\"2574\":2574,\"2575\":2575,\"2576\":2576,\"2577\":2577,\"2578\":2578,\"2579\":2579,\"2580\":2580,\"2581\":2581,\"2582\":2582,\"2583\":2583,\"2584\":2584,\"2585\":2585,\"2586\":2586,\"2587\":2587,\"2588\":2588,\"2589\":2589,\"2590\":2590,\"2591\":2591,\"2592\":2592,\"2593\":2593,\"2594\":2594,\"2595\":2595,\"2596\":2596,\"2597\":2597,\"2598\":2598,\"2599\":2599,\"2600\":2600,\"2601\":2601,\"2602\":2602,\"2603\":2603,\"2604\":2604,\"2605\":2605,\"2606\":2606,\"2607\":2607,\"2608\":2608,\"2609\":2609,\"2610\":2610,\"2611\":2611,\"2612\":2612,\"2613\":2613,\"2614\":2614,\"2615\":2615,\"2616\":2616,\"2617\":2617,\"2618\":2618,\"2619\":2619,\"2620\":2620,\"2621\":2621,\"2622\":2622,\"2623\":2623,\"2624\":2624,\"2625\":2625,\"2626\":2626,\"2627\":2627,\"2628\":2628,\"2629\":2629,\"2630\":2630,\"2631\":2631,\"2632\":2632,\"2633\":2633,\"2634\":2634,\"2635\":2635,\"2636\":2636,\"2637\":2637,\"2638\":2638,\"2639\":2639,\"2640\":2640,\"2641\":2641,\"2642\":2642,\"2643\":2643,\"2644\":2644,\"2645\":2645,\"2646\":2646,\"2647\":2647,\"2648\":2648,\"2649\":2649,\"2650\":2650,\"2651\":2651,\"2652\":2652,\"2653\":2653,\"2654\":2654,\"2655\":2655,\"2656\":2656,\"2657\":2657,\"2658\":2658,\"2659\":2659,\"2660\":2660,\"2661\":2661,\"2662\":2662,\"2663\":2663,\"2664\":2664,\"2665\":2665,\"2666\":2666,\"2667\":2667,\"2668\":2668,\"2669\":2669,\"2670\":2670,\"2671\":2671,\"2672\":2672,\"2673\":2673,\"2674\":2674,\"2675\":2675,\"2676\":2676,\"2677\":2677,\"2678\":2678,\"2679\":2679,\"2680\":2680,\"2681\":2681,\"2682\":2682,\"2683\":2683,\"2684\":2684,\"2685\":2685,\"2686\":2686,\"2687\":2687,\"2688\":2688,\"2689\":2689,\"2690\":2690,\"2691\":2691,\"2692\":2692,\"2693\":2693,\"2694\":2694,\"2695\":2695,\"2696\":2696,\"2697\":2697,\"2698\":2698,\"2699\":2699,\"2700\":2700,\"2701\":2701,\"2702\":2702,\"2703\":2703,\"2704\":2704,\"2705\":2705,\"2706\":2706,\"2707\":2707,\"2708\":2708,\"2709\":2709,\"2710\":2710,\"2711\":2711,\"2712\":2712,\"2713\":2713,\"2714\":2714,\"2715\":2715,\"2716\":2716,\"2717\":2717,\"2718\":2718,\"2719\":2719,\"2720\":2720,\"2721\":2721,\"2722\":2722,\"2723\":2723,\"2724\":2724,\"2725\":2725,\"2726\":2726,\"2727\":2727,\"2728\":2728,\"2729\":2729,\"2730\":2730,\"2731\":2731,\"2732\":2732,\"2733\":2733,\"2734\":2734,\"2735\":2735,\"2736\":2736,\"2737\":2737,\"2738\":2738,\"2739\":2739,\"2740\":2740,\"2741\":2741,\"2742\":2742,\"2743\":2743,\"2744\":2744,\"2745\":2745,\"2746\":2746,\"2747\":2747,\"2748\":2748,\"2749\":2749,\"2750\":2750,\"2751\":2751,\"2752\":2752,\"2753\":2753,\"2754\":2754,\"2755\":2755,\"2756\":2756,\"2757\":2757,\"2758\":2758,\"2759\":2759,\"2760\":2760,\"2761\":2761,\"2762\":2762,\"2763\":2763,\"2764\":2764,\"2765\":2765,\"2766\":2766,\"2767\":2767,\"2768\":2768,\"2769\":2769,\"2770\":2770,\"2771\":2771,\"2772\":2772,\"2773\":2773,\"2774\":2774,\"2775\":2775,\"2776\":2776,\"2777\":2777,\"2778\":2778,\"2779\":2779,\"2780\":2780,\"2781\":2781,\"2782\":2782,\"2783\":2783,\"2784\":2784,\"2785\":2785,\"2786\":2786,\"2787\":2787,\"2788\":2788,\"2789\":2789,\"2790\":2790,\"2791\":2791,\"2792\":2792,\"2793\":2793,\"2794\":2794,\"2795\":2795,\"2796\":2796,\"2797\":2797,\"2798\":2798,\"2799\":2799,\"2800\":2800,\"2801\":2801,\"2802\":2802,\"2803\":2803,\"2804\":2804,\"2805\":2805,\"2806\":2806,\"2807\":2807,\"2808\":2808,\"2809\":2809,\"2810\":2810,\"2811\":2811,\"2812\":2812,\"2813\":2813,\"2814\":2814,\"2815\":2815,\"2816\":2816,\"2817\":2817,\"2818\":2818,\"2819\":2819,\"2820\":2820,\"2821\":2821,\"2822\":2822,\"2823\":2823,\"2824\":2824,\"2825\":2825,\"2826\":2826,\"2827\":2827,\"2828\":2828,\"2829\":2829,\"2830\":2830,\"2831\":2831,\"2832\":2832,\"2833\":2833,\"2834\":2834,\"2835\":2835,\"2836\":2836,\"2837\":2837,\"2838\":2838,\"2839\":2839,\"2840\":2840,\"2841\":2841,\"2842\":2842,\"2843\":2843,\"2844\":2844,\"2845\":2845,\"2846\":2846,\"2847\":2847,\"2848\":2848,\"2849\":2849,\"2850\":2850,\"2851\":2851,\"2852\":2852,\"2853\":2853,\"2854\":2854,\"2855\":2855,\"2856\":2856,\"2857\":2857,\"2858\":2858,\"2859\":2859,\"2860\":2860,\"2861\":2861,\"2862\":2862,\"2863\":2863,\"2864\":2864,\"2865\":2865,\"2866\":2866,\"2867\":2867,\"2868\":2868,\"2869\":2869,\"2870\":2870,\"2871\":2871,\"2872\":2872,\"2873\":2873,\"2874\":2874,\"2875\":2875,\"2876\":2876,\"2877\":2877,\"2878\":2878,\"2879\":2879,\"2880\":2880,\"2881\":2881,\"2882\":2882,\"2883\":2883,\"2884\":2884,\"2885\":2885,\"2886\":2886,\"2887\":2887,\"2888\":2888,\"2889\":2889,\"2890\":2890,\"2891\":2891,\"2892\":2892,\"2893\":2893,\"2894\":2894,\"2895\":2895,\"2896\":2896,\"2897\":2897,\"2898\":2898,\"2899\":2899,\"2900\":2900,\"2901\":2901,\"2902\":2902,\"2903\":2903,\"2904\":2904,\"2905\":2905,\"2906\":2906,\"2907\":2907,\"2908\":2908,\"2909\":2909,\"2910\":2910,\"2911\":2911,\"2912\":2912,\"2913\":2913,\"2914\":2914,\"2915\":2915,\"2916\":2916,\"2917\":2917,\"2918\":2918,\"2919\":2919,\"2920\":2920,\"2921\":2921,\"2922\":2922,\"2923\":2923,\"2924\":2924,\"2925\":2925,\"2926\":2926,\"2927\":2927,\"2928\":2928,\"2929\":2929,\"2930\":2930,\"2931\":2931,\"2932\":2932,\"2933\":2933,\"2934\":2934,\"2935\":2935,\"2936\":2936,\"2937\":2937,\"2938\":2938,\"2939\":2939,\"2940\":2940,\"2941\":2941,\"2942\":2942,\"2943\":2943,\"2944\":2944,\"2945\":2945,\"2946\":2946,\"2947\":2947,\"2948\":2948,\"2949\":2949,\"2950\":2950,\"2951\":2951,\"2952\":2952,\"2953\":2953,\"2954\":2954,\"2955\":2955,\"2956\":2956,\"2957\":2957,\"2958\":2958,\"2959\":2959,\"2960\":2960,\"2961\":2961,\"2962\":2962,\"2963\":2963,\"2964\":2964,\"2965\":2965,\"2966\":2966,\"2967\":2967,\"2968\":2968,\"2969\":2969,\"2970\":2970,\"2971\":2971,\"2972\":2972,\"2973\":2973,\"2974\":2974,\"2975\":2975,\"2976\":2976,\"2977\":2977,\"2978\":2978,\"2979\":2979,\"2980\":2980,\"2981\":2981,\"2982\":2982,\"2983\":2983,\"2984\":2984,\"2985\":2985,\"2986\":2986,\"2987\":2987,\"2988\":2988,\"2989\":2989,\"2990\":2990,\"2991\":2991,\"2992\":2992,\"2993\":2993,\"2994\":2994,\"2995\":2995,\"2996\":2996,\"2997\":2997,\"2998\":2998,\"2999\":2999,\"3000\":3000,\"3001\":3001,\"3002\":3002,\"3003\":3003,\"3004\":3004,\"3005\":3005,\"3006\":3006,\"3007\":3007,\"3008\":3008,\"3009\":3009,\"3010\":3010,\"3011\":3011,\"3012\":3012,\"3013\":3013,\"3014\":3014,\"3015\":3015,\"3016\":3016,\"3017\":3017,\"3018\":3018,\"3019\":3019,\"3020\":3020,\"3021\":3021,\"3022\":3022,\"3023\":3023,\"3024\":3024,\"3025\":3025,\"3026\":3026,\"3027\":3027,\"3028\":3028,\"3029\":3029,\"3030\":3030,\"3031\":3031,\"3032\":3032,\"3033\":3033,\"3034\":3034,\"3035\":3035,\"3036\":3036,\"3037\":3037,\"3038\":3038,\"3039\":3039,\"3040\":3040,\"3041\":3041,\"3042\":3042,\"3043\":3043,\"3044\":3044,\"3045\":3045,\"3046\":3046,\"3047\":3047,\"3048\":3048,\"3049\":3049,\"3050\":3050,\"3051\":3051,\"3052\":3052,\"3053\":3053,\"3054\":3054,\"3055\":3055,\"3056\":3056,\"3057\":3057,\"3058\":3058,\"3059\":3059,\"3060\":3060,\"3061\":3061,\"3062\":3062,\"3063\":3063,\"3064\":3064,\"3065\":3065,\"3066\":3066,\"3067\":3067,\"3068\":3068,\"3069\":3069,\"3070\":3070,\"3071\":3071,\"3072\":3072,\"3073\":3073,\"3074\":3074,\"3075\":3075,\"3076\":3076,\"3077\":3077,\"3078\":3078,\"3079\":3079,\"3080\":3080,\"3081\":3081,\"3082\":3082,\"3083\":3083,\"3084\":3084,\"3085\":3085,\"3086\":3086,\"3087\":3087,\"3088\":3088,\"3089\":3089,\"3090\":3090,\"3091\":3091,\"3092\":3092,\"3093\":3093,\"3094\":3094,\"3095\":3095,\"3096\":3096,\"3097\":3097,\"3098\":3098,\"3099\":3099,\"3100\":3100,\"3101\":3101,\"3102\":3102,\"3103\":3103,\"3104\":3104,\"3105\":3105,\"3106\":3106,\"3107\":3107,\"3108\":3108,\"3109\":3109,\"3110\":3110,\"3111\":3111,\"3112\":3112,\"3113\":3113,\"3114\":3114,\"3115\":3115,\"3116\":3116,\"3117\":3117,\"3118\":3118,\"3119\":3119,\"3120\":3120,\"3121\":3121,\"3122\":3122,\"3123\":3123,\"3124\":3124,\"3125\":3125,\"3126\":3126,\"3127\":3127,\"3128\":3128,\"3129\":3129,\"3130\":3130,\"3131\":3131,\"3132\":3132,\"3133\":3133,\"3134\":3134,\"3135\":3135,\"3136\":3136,\"3137\":3137,\"3138\":3138,\"3139\":3139,\"3140\":3140,\"3141\":3141,\"3142\":3142,\"3143\":3143,\"3144\":3144,\"3145\":3145,\"3146\":3146,\"3147\":3147,\"3148\":3148,\"3149\":3149,\"3150\":3150,\"3151\":3151,\"3152\":3152,\"3153\":3153,\"3154\":3154,\"3155\":3155,\"3156\":3156,\"3157\":3157,\"3158\":3158,\"3159\":3159,\"3160\":3160,\"3161\":3161,\"3162\":3162,\"3163\":3163,\"3164\":3164,\"3165\":3165,\"3166\":3166,\"3167\":3167,\"3168\":3168,\"3169\":3169,\"3170\":3170,\"3171\":3171,\"3172\":3172,\"3173\":3173,\"3174\":3174,\"3175\":3175,\"3176\":3176,\"3177\":3177,\"3178\":3178,\"3179\":3179,\"3180\":3180,\"3181\":3181,\"3182\":3182,\"3183\":3183,\"3184\":3184,\"3185\":3185,\"3186\":3186,\"3187\":3187,\"3188\":3188,\"3189\":3189,\"3190\":3190,\"3191\":3191,\"3192\":3192,\"3193\":3193,\"3194\":3194,\"3195\":3195,\"3196\":3196,\"3197\":3197,\"3198\":3198,\"3199\":3199,\"3200\":3200,\"3201\":3201,\"3202\":3202,\"3203\":3203,\"3204\":3204,\"3205\":3205,\"3206\":3206,\"3207\":3207,\"3208\":3208,\"3209\":3209,\"3210\":3210,\"3211\":3211,\"3212\":3212,\"3213\":3213,\"3214\":3214,\"3215\":3215,\"3216\":3216,\"3217\":3217,\"3218\":3218,\"3219\":3219,\"3220\":3220,\"3221\":3221,\"3222\":3222,\"3223\":3223,\"3224\":3224,\"3225\":3225,\"3226\":3226,\"3227\":3227,\"3228\":3228,\"3229\":3229,\"3230\":3230,\"3231\":3231,\"3232\":3232,\"3233\":3233,\"3234\":3234},\"state\":{\"0\":\"AL\",\"1\":\"AL\",\"2\":\"AL\",\"3\":\"AL\",\"4\":\"AL\",\"5\":\"AL\",\"6\":\"AL\",\"7\":\"AL\",\"8\":\"AL\",\"9\":\"AL\",\"10\":\"AL\",\"11\":\"AL\",\"12\":\"AL\",\"13\":\"AL\",\"14\":\"AL\",\"15\":\"AL\",\"16\":\"AL\",\"17\":\"AL\",\"18\":\"AL\",\"19\":\"AL\",\"20\":\"AL\",\"21\":\"AL\",\"22\":\"AL\",\"23\":\"AL\",\"24\":\"AL\",\"25\":\"AL\",\"26\":\"AL\",\"27\":\"AL\",\"28\":\"AL\",\"29\":\"AL\",\"30\":\"AL\",\"31\":\"AL\",\"32\":\"AL\",\"33\":\"AL\",\"34\":\"AL\",\"35\":\"AL\",\"36\":\"AL\",\"37\":\"AL\",\"38\":\"AL\",\"39\":\"AL\",\"40\":\"AL\",\"41\":\"AL\",\"42\":\"AL\",\"43\":\"AL\",\"44\":\"AL\",\"45\":\"AL\",\"46\":\"AL\",\"47\":\"AL\",\"48\":\"AL\",\"49\":\"AL\",\"50\":\"AL\",\"51\":\"AL\",\"52\":\"AL\",\"53\":\"AL\",\"54\":\"AL\",\"55\":\"AL\",\"56\":\"AL\",\"57\":\"AL\",\"58\":\"AL\",\"59\":\"AL\",\"60\":\"AL\",\"61\":\"AL\",\"62\":\"AL\",\"63\":\"AL\",\"64\":\"AL\",\"65\":\"AL\",\"66\":\"AL\",\"67\":\"AK\",\"68\":\"AK\",\"69\":\"AK\",\"70\":\"AK\",\"71\":\"AK\",\"72\":\"AK\",\"73\":\"AK\",\"74\":\"AK\",\"75\":\"AK\",\"76\":\"AK\",\"77\":\"AK\",\"78\":\"AK\",\"79\":\"AK\",\"80\":\"AK\",\"81\":\"AK\",\"82\":\"AK\",\"83\":\"AK\",\"84\":\"AK\",\"85\":\"AK\",\"86\":\"AK\",\"87\":\"AK\",\"88\":\"AK\",\"89\":\"AK\",\"90\":\"AK\",\"91\":\"AK\",\"92\":\"AK\",\"93\":\"AK\",\"94\":\"AK\",\"95\":\"AK\",\"96\":\"AZ\",\"97\":\"AZ\",\"98\":\"AZ\",\"99\":\"AZ\",\"100\":\"AZ\",\"101\":\"AZ\",\"102\":\"AZ\",\"103\":\"AZ\",\"104\":\"AZ\",\"105\":\"AZ\",\"106\":\"AZ\",\"107\":\"AZ\",\"108\":\"AZ\",\"109\":\"AZ\",\"110\":\"AZ\",\"111\":\"AR\",\"112\":\"AR\",\"113\":\"AR\",\"114\":\"AR\",\"115\":\"AR\",\"116\":\"AR\",\"117\":\"AR\",\"118\":\"AR\",\"119\":\"AR\",\"120\":\"AR\",\"121\":\"AR\",\"122\":\"AR\",\"123\":\"AR\",\"124\":\"AR\",\"125\":\"AR\",\"126\":\"AR\",\"127\":\"AR\",\"128\":\"AR\",\"129\":\"AR\",\"130\":\"AR\",\"131\":\"AR\",\"132\":\"AR\",\"133\":\"AR\",\"134\":\"AR\",\"135\":\"AR\",\"136\":\"AR\",\"137\":\"AR\",\"138\":\"AR\",\"139\":\"AR\",\"140\":\"AR\",\"141\":\"AR\",\"142\":\"AR\",\"143\":\"AR\",\"144\":\"AR\",\"145\":\"AR\",\"146\":\"AR\",\"147\":\"AR\",\"148\":\"AR\",\"149\":\"AR\",\"150\":\"AR\",\"151\":\"AR\",\"152\":\"AR\",\"153\":\"AR\",\"154\":\"AR\",\"155\":\"AR\",\"156\":\"AR\",\"157\":\"AR\",\"158\":\"AR\",\"159\":\"AR\",\"160\":\"AR\",\"161\":\"AR\",\"162\":\"AR\",\"163\":\"AR\",\"164\":\"AR\",\"165\":\"AR\",\"166\":\"AR\",\"167\":\"AR\",\"168\":\"AR\",\"169\":\"AR\",\"170\":\"AR\",\"171\":\"AR\",\"172\":\"AR\",\"173\":\"AR\",\"174\":\"AR\",\"175\":\"AR\",\"176\":\"AR\",\"177\":\"AR\",\"178\":\"AR\",\"179\":\"AR\",\"180\":\"AR\",\"181\":\"AR\",\"182\":\"AR\",\"183\":\"AR\",\"184\":\"AR\",\"185\":\"AR\",\"186\":\"CA\",\"187\":\"CA\",\"188\":\"CA\",\"189\":\"CA\",\"190\":\"CA\",\"191\":\"CA\",\"192\":\"CA\",\"193\":\"CA\",\"194\":\"CA\",\"195\":\"CA\",\"196\":\"CA\",\"197\":\"CA\",\"198\":\"CA\",\"199\":\"CA\",\"200\":\"CA\",\"201\":\"CA\",\"202\":\"CA\",\"203\":\"CA\",\"204\":\"CA\",\"205\":\"CA\",\"206\":\"CA\",\"207\":\"CA\",\"208\":\"CA\",\"209\":\"CA\",\"210\":\"CA\",\"211\":\"CA\",\"212\":\"CA\",\"213\":\"CA\",\"214\":\"CA\",\"215\":\"CA\",\"216\":\"CA\",\"217\":\"CA\",\"218\":\"CA\",\"219\":\"CA\",\"220\":\"CA\",\"221\":\"CA\",\"222\":\"CA\",\"223\":\"CA\",\"224\":\"CA\",\"225\":\"CA\",\"226\":\"CA\",\"227\":\"CA\",\"228\":\"CA\",\"229\":\"CA\",\"230\":\"CA\",\"231\":\"CA\",\"232\":\"CA\",\"233\":\"CA\",\"234\":\"CA\",\"235\":\"CA\",\"236\":\"CA\",\"237\":\"CA\",\"238\":\"CA\",\"239\":\"CA\",\"240\":\"CA\",\"241\":\"CA\",\"242\":\"CA\",\"243\":\"CA\",\"244\":\"CO\",\"245\":\"CO\",\"246\":\"CO\",\"247\":\"CO\",\"248\":\"CO\",\"249\":\"CO\",\"250\":\"CO\",\"251\":\"CO\",\"252\":\"CO\",\"253\":\"CO\",\"254\":\"CO\",\"255\":\"CO\",\"256\":\"CO\",\"257\":\"CO\",\"258\":\"CO\",\"259\":\"CO\",\"260\":\"CO\",\"261\":\"CO\",\"262\":\"CO\",\"263\":\"CO\",\"264\":\"CO\",\"265\":\"CO\",\"266\":\"CO\",\"267\":\"CO\",\"268\":\"CO\",\"269\":\"CO\",\"270\":\"CO\",\"271\":\"CO\",\"272\":\"CO\",\"273\":\"CO\",\"274\":\"CO\",\"275\":\"CO\",\"276\":\"CO\",\"277\":\"CO\",\"278\":\"CO\",\"279\":\"CO\",\"280\":\"CO\",\"281\":\"CO\",\"282\":\"CO\",\"283\":\"CO\",\"284\":\"CO\",\"285\":\"CO\",\"286\":\"CO\",\"287\":\"CO\",\"288\":\"CO\",\"289\":\"CO\",\"290\":\"CO\",\"291\":\"CO\",\"292\":\"CO\",\"293\":\"CO\",\"294\":\"CO\",\"295\":\"CO\",\"296\":\"CO\",\"297\":\"CO\",\"298\":\"CO\",\"299\":\"CO\",\"300\":\"CO\",\"301\":\"CO\",\"302\":\"CO\",\"303\":\"CO\",\"304\":\"CO\",\"305\":\"CO\",\"306\":\"CO\",\"307\":\"CO\",\"308\":\"CT\",\"309\":\"CT\",\"310\":\"CT\",\"311\":\"CT\",\"312\":\"CT\",\"313\":\"CT\",\"314\":\"CT\",\"315\":\"CT\",\"316\":\"DE\",\"317\":\"DE\",\"318\":\"DE\",\"319\":\"DC\",\"320\":\"FL\",\"321\":\"FL\",\"322\":\"FL\",\"323\":\"FL\",\"324\":\"FL\",\"325\":\"FL\",\"326\":\"FL\",\"327\":\"FL\",\"328\":\"FL\",\"329\":\"FL\",\"330\":\"FL\",\"331\":\"FL\",\"332\":\"FL\",\"333\":\"FL\",\"334\":\"FL\",\"335\":\"FL\",\"336\":\"FL\",\"337\":\"FL\",\"338\":\"FL\",\"339\":\"FL\",\"340\":\"FL\",\"341\":\"FL\",\"342\":\"FL\",\"343\":\"FL\",\"344\":\"FL\",\"345\":\"FL\",\"346\":\"FL\",\"347\":\"FL\",\"348\":\"FL\",\"349\":\"FL\",\"350\":\"FL\",\"351\":\"FL\",\"352\":\"FL\",\"353\":\"FL\",\"354\":\"FL\",\"355\":\"FL\",\"356\":\"FL\",\"357\":\"FL\",\"358\":\"FL\",\"359\":\"FL\",\"360\":\"FL\",\"361\":\"FL\",\"362\":\"FL\",\"363\":\"FL\",\"364\":\"FL\",\"365\":\"FL\",\"366\":\"FL\",\"367\":\"FL\",\"368\":\"FL\",\"369\":\"FL\",\"370\":\"FL\",\"371\":\"FL\",\"372\":\"FL\",\"373\":\"FL\",\"374\":\"FL\",\"375\":\"FL\",\"376\":\"FL\",\"377\":\"FL\",\"378\":\"FL\",\"379\":\"FL\",\"380\":\"FL\",\"381\":\"FL\",\"382\":\"FL\",\"383\":\"FL\",\"384\":\"FL\",\"385\":\"FL\",\"386\":\"FL\",\"387\":\"GA\",\"388\":\"GA\",\"389\":\"GA\",\"390\":\"GA\",\"391\":\"GA\",\"392\":\"GA\",\"393\":\"GA\",\"394\":\"GA\",\"395\":\"GA\",\"396\":\"GA\",\"397\":\"GA\",\"398\":\"GA\",\"399\":\"GA\",\"400\":\"GA\",\"401\":\"GA\",\"402\":\"GA\",\"403\":\"GA\",\"404\":\"GA\",\"405\":\"GA\",\"406\":\"GA\",\"407\":\"GA\",\"408\":\"GA\",\"409\":\"GA\",\"410\":\"GA\",\"411\":\"GA\",\"412\":\"GA\",\"413\":\"GA\",\"414\":\"GA\",\"415\":\"GA\",\"416\":\"GA\",\"417\":\"GA\",\"418\":\"GA\",\"419\":\"GA\",\"420\":\"GA\",\"421\":\"GA\",\"422\":\"GA\",\"423\":\"GA\",\"424\":\"GA\",\"425\":\"GA\",\"426\":\"GA\",\"427\":\"GA\",\"428\":\"GA\",\"429\":\"GA\",\"430\":\"GA\",\"431\":\"GA\",\"432\":\"GA\",\"433\":\"GA\",\"434\":\"GA\",\"435\":\"GA\",\"436\":\"GA\",\"437\":\"GA\",\"438\":\"GA\",\"439\":\"GA\",\"440\":\"GA\",\"441\":\"GA\",\"442\":\"GA\",\"443\":\"GA\",\"444\":\"GA\",\"445\":\"GA\",\"446\":\"GA\",\"447\":\"GA\",\"448\":\"GA\",\"449\":\"GA\",\"450\":\"GA\",\"451\":\"GA\",\"452\":\"GA\",\"453\":\"GA\",\"454\":\"GA\",\"455\":\"GA\",\"456\":\"GA\",\"457\":\"GA\",\"458\":\"GA\",\"459\":\"GA\",\"460\":\"GA\",\"461\":\"GA\",\"462\":\"GA\",\"463\":\"GA\",\"464\":\"GA\",\"465\":\"GA\",\"466\":\"GA\",\"467\":\"GA\",\"468\":\"GA\",\"469\":\"GA\",\"470\":\"GA\",\"471\":\"GA\",\"472\":\"GA\",\"473\":\"GA\",\"474\":\"GA\",\"475\":\"GA\",\"476\":\"GA\",\"477\":\"GA\",\"478\":\"GA\",\"479\":\"GA\",\"480\":\"GA\",\"481\":\"GA\",\"482\":\"GA\",\"483\":\"GA\",\"484\":\"GA\",\"485\":\"GA\",\"486\":\"GA\",\"487\":\"GA\",\"488\":\"GA\",\"489\":\"GA\",\"490\":\"GA\",\"491\":\"GA\",\"492\":\"GA\",\"493\":\"GA\",\"494\":\"GA\",\"495\":\"GA\",\"496\":\"GA\",\"497\":\"GA\",\"498\":\"GA\",\"499\":\"GA\",\"500\":\"GA\",\"501\":\"GA\",\"502\":\"GA\",\"503\":\"GA\",\"504\":\"GA\",\"505\":\"GA\",\"506\":\"GA\",\"507\":\"GA\",\"508\":\"GA\",\"509\":\"GA\",\"510\":\"GA\",\"511\":\"GA\",\"512\":\"GA\",\"513\":\"GA\",\"514\":\"GA\",\"515\":\"GA\",\"516\":\"GA\",\"517\":\"GA\",\"518\":\"GA\",\"519\":\"GA\",\"520\":\"GA\",\"521\":\"GA\",\"522\":\"GA\",\"523\":\"GA\",\"524\":\"GA\",\"525\":\"GA\",\"526\":\"GA\",\"527\":\"GA\",\"528\":\"GA\",\"529\":\"GA\",\"530\":\"GA\",\"531\":\"GA\",\"532\":\"GA\",\"533\":\"GA\",\"534\":\"GA\",\"535\":\"GA\",\"536\":\"GA\",\"537\":\"GA\",\"538\":\"GA\",\"539\":\"GA\",\"540\":\"GA\",\"541\":\"GA\",\"542\":\"GA\",\"543\":\"GA\",\"544\":\"GA\",\"545\":\"GA\",\"546\":\"HI\",\"547\":\"HI\",\"548\":\"HI\",\"549\":\"HI\",\"550\":\"HI\",\"551\":\"ID\",\"552\":\"ID\",\"553\":\"ID\",\"554\":\"ID\",\"555\":\"ID\",\"556\":\"ID\",\"557\":\"ID\",\"558\":\"ID\",\"559\":\"ID\",\"560\":\"ID\",\"561\":\"ID\",\"562\":\"ID\",\"563\":\"ID\",\"564\":\"ID\",\"565\":\"ID\",\"566\":\"ID\",\"567\":\"ID\",\"568\":\"ID\",\"569\":\"ID\",\"570\":\"ID\",\"571\":\"ID\",\"572\":\"ID\",\"573\":\"ID\",\"574\":\"ID\",\"575\":\"ID\",\"576\":\"ID\",\"577\":\"ID\",\"578\":\"ID\",\"579\":\"ID\",\"580\":\"ID\",\"581\":\"ID\",\"582\":\"ID\",\"583\":\"ID\",\"584\":\"ID\",\"585\":\"ID\",\"586\":\"ID\",\"587\":\"ID\",\"588\":\"ID\",\"589\":\"ID\",\"590\":\"ID\",\"591\":\"ID\",\"592\":\"ID\",\"593\":\"ID\",\"594\":\"ID\",\"595\":\"IL\",\"596\":\"IL\",\"597\":\"IL\",\"598\":\"IL\",\"599\":\"IL\",\"600\":\"IL\",\"601\":\"IL\",\"602\":\"IL\",\"603\":\"IL\",\"604\":\"IL\",\"605\":\"IL\",\"606\":\"IL\",\"607\":\"IL\",\"608\":\"IL\",\"609\":\"IL\",\"610\":\"IL\",\"611\":\"IL\",\"612\":\"IL\",\"613\":\"IL\",\"614\":\"IL\",\"615\":\"IL\",\"616\":\"IL\",\"617\":\"IL\",\"618\":\"IL\",\"619\":\"IL\",\"620\":\"IL\",\"621\":\"IL\",\"622\":\"IL\",\"623\":\"IL\",\"624\":\"IL\",\"625\":\"IL\",\"626\":\"IL\",\"627\":\"IL\",\"628\":\"IL\",\"629\":\"IL\",\"630\":\"IL\",\"631\":\"IL\",\"632\":\"IL\",\"633\":\"IL\",\"634\":\"IL\",\"635\":\"IL\",\"636\":\"IL\",\"637\":\"IL\",\"638\":\"IL\",\"639\":\"IL\",\"640\":\"IL\",\"641\":\"IL\",\"642\":\"IL\",\"643\":\"IL\",\"644\":\"IL\",\"645\":\"IL\",\"646\":\"IL\",\"647\":\"IL\",\"648\":\"IL\",\"649\":\"IL\",\"650\":\"IL\",\"651\":\"IL\",\"652\":\"IL\",\"653\":\"IL\",\"654\":\"IL\",\"655\":\"IL\",\"656\":\"IL\",\"657\":\"IL\",\"658\":\"IL\",\"659\":\"IL\",\"660\":\"IL\",\"661\":\"IL\",\"662\":\"IL\",\"663\":\"IL\",\"664\":\"IL\",\"665\":\"IL\",\"666\":\"IL\",\"667\":\"IL\",\"668\":\"IL\",\"669\":\"IL\",\"670\":\"IL\",\"671\":\"IL\",\"672\":\"IL\",\"673\":\"IL\",\"674\":\"IL\",\"675\":\"IL\",\"676\":\"IL\",\"677\":\"IL\",\"678\":\"IL\",\"679\":\"IL\",\"680\":\"IL\",\"681\":\"IL\",\"682\":\"IL\",\"683\":\"IL\",\"684\":\"IL\",\"685\":\"IL\",\"686\":\"IL\",\"687\":\"IL\",\"688\":\"IL\",\"689\":\"IL\",\"690\":\"IL\",\"691\":\"IL\",\"692\":\"IL\",\"693\":\"IL\",\"694\":\"IL\",\"695\":\"IL\",\"696\":\"IL\",\"697\":\"IN\",\"698\":\"IN\",\"699\":\"IN\",\"700\":\"IN\",\"701\":\"IN\",\"702\":\"IN\",\"703\":\"IN\",\"704\":\"IN\",\"705\":\"IN\",\"706\":\"IN\",\"707\":\"IN\",\"708\":\"IN\",\"709\":\"IN\",\"710\":\"IN\",\"711\":\"IN\",\"712\":\"IN\",\"713\":\"IN\",\"714\":\"IN\",\"715\":\"IN\",\"716\":\"IN\",\"717\":\"IN\",\"718\":\"IN\",\"719\":\"IN\",\"720\":\"IN\",\"721\":\"IN\",\"722\":\"IN\",\"723\":\"IN\",\"724\":\"IN\",\"725\":\"IN\",\"726\":\"IN\",\"727\":\"IN\",\"728\":\"IN\",\"729\":\"IN\",\"730\":\"IN\",\"731\":\"IN\",\"732\":\"IN\",\"733\":\"IN\",\"734\":\"IN\",\"735\":\"IN\",\"736\":\"IN\",\"737\":\"IN\",\"738\":\"IN\",\"739\":\"IN\",\"740\":\"IN\",\"741\":\"IN\",\"742\":\"IN\",\"743\":\"IN\",\"744\":\"IN\",\"745\":\"IN\",\"746\":\"IN\",\"747\":\"IN\",\"748\":\"IN\",\"749\":\"IN\",\"750\":\"IN\",\"751\":\"IN\",\"752\":\"IN\",\"753\":\"IN\",\"754\":\"IN\",\"755\":\"IN\",\"756\":\"IN\",\"757\":\"IN\",\"758\":\"IN\",\"759\":\"IN\",\"760\":\"IN\",\"761\":\"IN\",\"762\":\"IN\",\"763\":\"IN\",\"764\":\"IN\",\"765\":\"IN\",\"766\":\"IN\",\"767\":\"IN\",\"768\":\"IN\",\"769\":\"IN\",\"770\":\"IN\",\"771\":\"IN\",\"772\":\"IN\",\"773\":\"IN\",\"774\":\"IN\",\"775\":\"IN\",\"776\":\"IN\",\"777\":\"IN\",\"778\":\"IN\",\"779\":\"IN\",\"780\":\"IN\",\"781\":\"IN\",\"782\":\"IN\",\"783\":\"IN\",\"784\":\"IN\",\"785\":\"IN\",\"786\":\"IN\",\"787\":\"IN\",\"788\":\"IN\",\"789\":\"IA\",\"790\":\"IA\",\"791\":\"IA\",\"792\":\"IA\",\"793\":\"IA\",\"794\":\"IA\",\"795\":\"IA\",\"796\":\"IA\",\"797\":\"IA\",\"798\":\"IA\",\"799\":\"IA\",\"800\":\"IA\",\"801\":\"IA\",\"802\":\"IA\",\"803\":\"IA\",\"804\":\"IA\",\"805\":\"IA\",\"806\":\"IA\",\"807\":\"IA\",\"808\":\"IA\",\"809\":\"IA\",\"810\":\"IA\",\"811\":\"IA\",\"812\":\"IA\",\"813\":\"IA\",\"814\":\"IA\",\"815\":\"IA\",\"816\":\"IA\",\"817\":\"IA\",\"818\":\"IA\",\"819\":\"IA\",\"820\":\"IA\",\"821\":\"IA\",\"822\":\"IA\",\"823\":\"IA\",\"824\":\"IA\",\"825\":\"IA\",\"826\":\"IA\",\"827\":\"IA\",\"828\":\"IA\",\"829\":\"IA\",\"830\":\"IA\",\"831\":\"IA\",\"832\":\"IA\",\"833\":\"IA\",\"834\":\"IA\",\"835\":\"IA\",\"836\":\"IA\",\"837\":\"IA\",\"838\":\"IA\",\"839\":\"IA\",\"840\":\"IA\",\"841\":\"IA\",\"842\":\"IA\",\"843\":\"IA\",\"844\":\"IA\",\"845\":\"IA\",\"846\":\"IA\",\"847\":\"IA\",\"848\":\"IA\",\"849\":\"IA\",\"850\":\"IA\",\"851\":\"IA\",\"852\":\"IA\",\"853\":\"IA\",\"854\":\"IA\",\"855\":\"IA\",\"856\":\"IA\",\"857\":\"IA\",\"858\":\"IA\",\"859\":\"IA\",\"860\":\"IA\",\"861\":\"IA\",\"862\":\"IA\",\"863\":\"IA\",\"864\":\"IA\",\"865\":\"IA\",\"866\":\"IA\",\"867\":\"IA\",\"868\":\"IA\",\"869\":\"IA\",\"870\":\"IA\",\"871\":\"IA\",\"872\":\"IA\",\"873\":\"IA\",\"874\":\"IA\",\"875\":\"IA\",\"876\":\"IA\",\"877\":\"IA\",\"878\":\"IA\",\"879\":\"IA\",\"880\":\"IA\",\"881\":\"IA\",\"882\":\"IA\",\"883\":\"IA\",\"884\":\"IA\",\"885\":\"IA\",\"886\":\"IA\",\"887\":\"IA\",\"888\":\"KS\",\"889\":\"KS\",\"890\":\"KS\",\"891\":\"KS\",\"892\":\"KS\",\"893\":\"KS\",\"894\":\"KS\",\"895\":\"KS\",\"896\":\"KS\",\"897\":\"KS\",\"898\":\"KS\",\"899\":\"KS\",\"900\":\"KS\",\"901\":\"KS\",\"902\":\"KS\",\"903\":\"KS\",\"904\":\"KS\",\"905\":\"KS\",\"906\":\"KS\",\"907\":\"KS\",\"908\":\"KS\",\"909\":\"KS\",\"910\":\"KS\",\"911\":\"KS\",\"912\":\"KS\",\"913\":\"KS\",\"914\":\"KS\",\"915\":\"KS\",\"916\":\"KS\",\"917\":\"KS\",\"918\":\"KS\",\"919\":\"KS\",\"920\":\"KS\",\"921\":\"KS\",\"922\":\"KS\",\"923\":\"KS\",\"924\":\"KS\",\"925\":\"KS\",\"926\":\"KS\",\"927\":\"KS\",\"928\":\"KS\",\"929\":\"KS\",\"930\":\"KS\",\"931\":\"KS\",\"932\":\"KS\",\"933\":\"KS\",\"934\":\"KS\",\"935\":\"KS\",\"936\":\"KS\",\"937\":\"KS\",\"938\":\"KS\",\"939\":\"KS\",\"940\":\"KS\",\"941\":\"KS\",\"942\":\"KS\",\"943\":\"KS\",\"944\":\"KS\",\"945\":\"KS\",\"946\":\"KS\",\"947\":\"KS\",\"948\":\"KS\",\"949\":\"KS\",\"950\":\"KS\",\"951\":\"KS\",\"952\":\"KS\",\"953\":\"KS\",\"954\":\"KS\",\"955\":\"KS\",\"956\":\"KS\",\"957\":\"KS\",\"958\":\"KS\",\"959\":\"KS\",\"960\":\"KS\",\"961\":\"KS\",\"962\":\"KS\",\"963\":\"KS\",\"964\":\"KS\",\"965\":\"KS\",\"966\":\"KS\",\"967\":\"KS\",\"968\":\"KS\",\"969\":\"KS\",\"970\":\"KS\",\"971\":\"KS\",\"972\":\"KS\",\"973\":\"KS\",\"974\":\"KS\",\"975\":\"KS\",\"976\":\"KS\",\"977\":\"KS\",\"978\":\"KS\",\"979\":\"KS\",\"980\":\"KS\",\"981\":\"KS\",\"982\":\"KS\",\"983\":\"KS\",\"984\":\"KS\",\"985\":\"KS\",\"986\":\"KS\",\"987\":\"KS\",\"988\":\"KS\",\"989\":\"KS\",\"990\":\"KS\",\"991\":\"KS\",\"992\":\"KS\",\"993\":\"KY\",\"994\":\"KY\",\"995\":\"KY\",\"996\":\"KY\",\"997\":\"KY\",\"998\":\"KY\",\"999\":\"KY\",\"1000\":\"KY\",\"1001\":\"KY\",\"1002\":\"KY\",\"1003\":\"KY\",\"1004\":\"KY\",\"1005\":\"KY\",\"1006\":\"KY\",\"1007\":\"KY\",\"1008\":\"KY\",\"1009\":\"KY\",\"1010\":\"KY\",\"1011\":\"KY\",\"1012\":\"KY\",\"1013\":\"KY\",\"1014\":\"KY\",\"1015\":\"KY\",\"1016\":\"KY\",\"1017\":\"KY\",\"1018\":\"KY\",\"1019\":\"KY\",\"1020\":\"KY\",\"1021\":\"KY\",\"1022\":\"KY\",\"1023\":\"KY\",\"1024\":\"KY\",\"1025\":\"KY\",\"1026\":\"KY\",\"1027\":\"KY\",\"1028\":\"KY\",\"1029\":\"KY\",\"1030\":\"KY\",\"1031\":\"KY\",\"1032\":\"KY\",\"1033\":\"KY\",\"1034\":\"KY\",\"1035\":\"KY\",\"1036\":\"KY\",\"1037\":\"KY\",\"1038\":\"KY\",\"1039\":\"KY\",\"1040\":\"KY\",\"1041\":\"KY\",\"1042\":\"KY\",\"1043\":\"KY\",\"1044\":\"KY\",\"1045\":\"KY\",\"1046\":\"KY\",\"1047\":\"KY\",\"1048\":\"KY\",\"1049\":\"KY\",\"1050\":\"KY\",\"1051\":\"KY\",\"1052\":\"KY\",\"1053\":\"KY\",\"1054\":\"KY\",\"1055\":\"KY\",\"1056\":\"KY\",\"1057\":\"KY\",\"1058\":\"KY\",\"1059\":\"KY\",\"1060\":\"KY\",\"1061\":\"KY\",\"1062\":\"KY\",\"1063\":\"KY\",\"1064\":\"KY\",\"1065\":\"KY\",\"1066\":\"KY\",\"1067\":\"KY\",\"1068\":\"KY\",\"1069\":\"KY\",\"1070\":\"KY\",\"1071\":\"KY\",\"1072\":\"KY\",\"1073\":\"KY\",\"1074\":\"KY\",\"1075\":\"KY\",\"1076\":\"KY\",\"1077\":\"KY\",\"1078\":\"KY\",\"1079\":\"KY\",\"1080\":\"KY\",\"1081\":\"KY\",\"1082\":\"KY\",\"1083\":\"KY\",\"1084\":\"KY\",\"1085\":\"KY\",\"1086\":\"KY\",\"1087\":\"KY\",\"1088\":\"KY\",\"1089\":\"KY\",\"1090\":\"KY\",\"1091\":\"KY\",\"1092\":\"KY\",\"1093\":\"KY\",\"1094\":\"KY\",\"1095\":\"KY\",\"1096\":\"KY\",\"1097\":\"KY\",\"1098\":\"KY\",\"1099\":\"KY\",\"1100\":\"KY\",\"1101\":\"KY\",\"1102\":\"KY\",\"1103\":\"KY\",\"1104\":\"KY\",\"1105\":\"KY\",\"1106\":\"KY\",\"1107\":\"KY\",\"1108\":\"KY\",\"1109\":\"KY\",\"1110\":\"KY\",\"1111\":\"KY\",\"1112\":\"KY\",\"1113\":\"LA\",\"1114\":\"LA\",\"1115\":\"LA\",\"1116\":\"LA\",\"1117\":\"LA\",\"1118\":\"LA\",\"1119\":\"LA\",\"1120\":\"LA\",\"1121\":\"LA\",\"1122\":\"LA\",\"1123\":\"LA\",\"1124\":\"LA\",\"1125\":\"LA\",\"1126\":\"LA\",\"1127\":\"LA\",\"1128\":\"LA\",\"1129\":\"LA\",\"1130\":\"LA\",\"1131\":\"LA\",\"1132\":\"LA\",\"1133\":\"LA\",\"1134\":\"LA\",\"1135\":\"LA\",\"1136\":\"LA\",\"1137\":\"LA\",\"1138\":\"LA\",\"1139\":\"LA\",\"1140\":\"LA\",\"1141\":\"LA\",\"1142\":\"LA\",\"1143\":\"LA\",\"1144\":\"LA\",\"1145\":\"LA\",\"1146\":\"LA\",\"1147\":\"LA\",\"1148\":\"LA\",\"1149\":\"LA\",\"1150\":\"LA\",\"1151\":\"LA\",\"1152\":\"LA\",\"1153\":\"LA\",\"1154\":\"LA\",\"1155\":\"LA\",\"1156\":\"LA\",\"1157\":\"LA\",\"1158\":\"LA\",\"1159\":\"LA\",\"1160\":\"LA\",\"1161\":\"LA\",\"1162\":\"LA\",\"1163\":\"LA\",\"1164\":\"LA\",\"1165\":\"LA\",\"1166\":\"LA\",\"1167\":\"LA\",\"1168\":\"LA\",\"1169\":\"LA\",\"1170\":\"LA\",\"1171\":\"LA\",\"1172\":\"LA\",\"1173\":\"LA\",\"1174\":\"LA\",\"1175\":\"LA\",\"1176\":\"LA\",\"1177\":\"ME\",\"1178\":\"ME\",\"1179\":\"ME\",\"1180\":\"ME\",\"1181\":\"ME\",\"1182\":\"ME\",\"1183\":\"ME\",\"1184\":\"ME\",\"1185\":\"ME\",\"1186\":\"ME\",\"1187\":\"ME\",\"1188\":\"ME\",\"1189\":\"ME\",\"1190\":\"ME\",\"1191\":\"ME\",\"1192\":\"ME\",\"1193\":\"MD\",\"1194\":\"MD\",\"1195\":\"MD\",\"1196\":\"MD\",\"1197\":\"MD\",\"1198\":\"MD\",\"1199\":\"MD\",\"1200\":\"MD\",\"1201\":\"MD\",\"1202\":\"MD\",\"1203\":\"MD\",\"1204\":\"MD\",\"1205\":\"MD\",\"1206\":\"MD\",\"1207\":\"MD\",\"1208\":\"MD\",\"1209\":\"MD\",\"1210\":\"MD\",\"1211\":\"MD\",\"1212\":\"MD\",\"1213\":\"MD\",\"1214\":\"MD\",\"1215\":\"MD\",\"1216\":\"MD\",\"1217\":\"MA\",\"1218\":\"MA\",\"1219\":\"MA\",\"1220\":\"MA\",\"1221\":\"MA\",\"1222\":\"MA\",\"1223\":\"MA\",\"1224\":\"MA\",\"1225\":\"MA\",\"1226\":\"MA\",\"1227\":\"MA\",\"1228\":\"MA\",\"1229\":\"MA\",\"1230\":\"MA\",\"1231\":\"MI\",\"1232\":\"MI\",\"1233\":\"MI\",\"1234\":\"MI\",\"1235\":\"MI\",\"1236\":\"MI\",\"1237\":\"MI\",\"1238\":\"MI\",\"1239\":\"MI\",\"1240\":\"MI\",\"1241\":\"MI\",\"1242\":\"MI\",\"1243\":\"MI\",\"1244\":\"MI\",\"1245\":\"MI\",\"1246\":\"MI\",\"1247\":\"MI\",\"1248\":\"MI\",\"1249\":\"MI\",\"1250\":\"MI\",\"1251\":\"MI\",\"1252\":\"MI\",\"1253\":\"MI\",\"1254\":\"MI\",\"1255\":\"MI\",\"1256\":\"MI\",\"1257\":\"MI\",\"1258\":\"MI\",\"1259\":\"MI\",\"1260\":\"MI\",\"1261\":\"MI\",\"1262\":\"MI\",\"1263\":\"MI\",\"1264\":\"MI\",\"1265\":\"MI\",\"1266\":\"MI\",\"1267\":\"MI\",\"1268\":\"MI\",\"1269\":\"MI\",\"1270\":\"MI\",\"1271\":\"MI\",\"1272\":\"MI\",\"1273\":\"MI\",\"1274\":\"MI\",\"1275\":\"MI\",\"1276\":\"MI\",\"1277\":\"MI\",\"1278\":\"MI\",\"1279\":\"MI\",\"1280\":\"MI\",\"1281\":\"MI\",\"1282\":\"MI\",\"1283\":\"MI\",\"1284\":\"MI\",\"1285\":\"MI\",\"1286\":\"MI\",\"1287\":\"MI\",\"1288\":\"MI\",\"1289\":\"MI\",\"1290\":\"MI\",\"1291\":\"MI\",\"1292\":\"MI\",\"1293\":\"MI\",\"1294\":\"MI\",\"1295\":\"MI\",\"1296\":\"MI\",\"1297\":\"MI\",\"1298\":\"MI\",\"1299\":\"MI\",\"1300\":\"MI\",\"1301\":\"MI\",\"1302\":\"MI\",\"1303\":\"MI\",\"1304\":\"MI\",\"1305\":\"MI\",\"1306\":\"MI\",\"1307\":\"MI\",\"1308\":\"MI\",\"1309\":\"MI\",\"1310\":\"MI\",\"1311\":\"MI\",\"1312\":\"MI\",\"1313\":\"MI\",\"1314\":\"MN\",\"1315\":\"MN\",\"1316\":\"MN\",\"1317\":\"MN\",\"1318\":\"MN\",\"1319\":\"MN\",\"1320\":\"MN\",\"1321\":\"MN\",\"1322\":\"MN\",\"1323\":\"MN\",\"1324\":\"MN\",\"1325\":\"MN\",\"1326\":\"MN\",\"1327\":\"MN\",\"1328\":\"MN\",\"1329\":\"MN\",\"1330\":\"MN\",\"1331\":\"MN\",\"1332\":\"MN\",\"1333\":\"MN\",\"1334\":\"MN\",\"1335\":\"MN\",\"1336\":\"MN\",\"1337\":\"MN\",\"1338\":\"MN\",\"1339\":\"MN\",\"1340\":\"MN\",\"1341\":\"MN\",\"1342\":\"MN\",\"1343\":\"MN\",\"1344\":\"MN\",\"1345\":\"MN\",\"1346\":\"MN\",\"1347\":\"MN\",\"1348\":\"MN\",\"1349\":\"MN\",\"1350\":\"MN\",\"1351\":\"MN\",\"1352\":\"MN\",\"1353\":\"MN\",\"1354\":\"MN\",\"1355\":\"MN\",\"1356\":\"MN\",\"1357\":\"MN\",\"1358\":\"MN\",\"1359\":\"MN\",\"1360\":\"MN\",\"1361\":\"MN\",\"1362\":\"MN\",\"1363\":\"MN\",\"1364\":\"MN\",\"1365\":\"MN\",\"1366\":\"MN\",\"1367\":\"MN\",\"1368\":\"MN\",\"1369\":\"MN\",\"1370\":\"MN\",\"1371\":\"MN\",\"1372\":\"MN\",\"1373\":\"MN\",\"1374\":\"MN\",\"1375\":\"MN\",\"1376\":\"MN\",\"1377\":\"MN\",\"1378\":\"MN\",\"1379\":\"MN\",\"1380\":\"MN\",\"1381\":\"MN\",\"1382\":\"MN\",\"1383\":\"MN\",\"1384\":\"MN\",\"1385\":\"MN\",\"1386\":\"MN\",\"1387\":\"MN\",\"1388\":\"MN\",\"1389\":\"MN\",\"1390\":\"MN\",\"1391\":\"MN\",\"1392\":\"MN\",\"1393\":\"MN\",\"1394\":\"MN\",\"1395\":\"MN\",\"1396\":\"MN\",\"1397\":\"MN\",\"1398\":\"MN\",\"1399\":\"MN\",\"1400\":\"MN\",\"1401\":\"MS\",\"1402\":\"MS\",\"1403\":\"MS\",\"1404\":\"MS\",\"1405\":\"MS\",\"1406\":\"MS\",\"1407\":\"MS\",\"1408\":\"MS\",\"1409\":\"MS\",\"1410\":\"MS\",\"1411\":\"MS\",\"1412\":\"MS\",\"1413\":\"MS\",\"1414\":\"MS\",\"1415\":\"MS\",\"1416\":\"MS\",\"1417\":\"MS\",\"1418\":\"MS\",\"1419\":\"MS\",\"1420\":\"MS\",\"1421\":\"MS\",\"1422\":\"MS\",\"1423\":\"MS\",\"1424\":\"MS\",\"1425\":\"MS\",\"1426\":\"MS\",\"1427\":\"MS\",\"1428\":\"MS\",\"1429\":\"MS\",\"1430\":\"MS\",\"1431\":\"MS\",\"1432\":\"MS\",\"1433\":\"MS\",\"1434\":\"MS\",\"1435\":\"MS\",\"1436\":\"MS\",\"1437\":\"MS\",\"1438\":\"MS\",\"1439\":\"MS\",\"1440\":\"MS\",\"1441\":\"MS\",\"1442\":\"MS\",\"1443\":\"MS\",\"1444\":\"MS\",\"1445\":\"MS\",\"1446\":\"MS\",\"1447\":\"MS\",\"1448\":\"MS\",\"1449\":\"MS\",\"1450\":\"MS\",\"1451\":\"MS\",\"1452\":\"MS\",\"1453\":\"MS\",\"1454\":\"MS\",\"1455\":\"MS\",\"1456\":\"MS\",\"1457\":\"MS\",\"1458\":\"MS\",\"1459\":\"MS\",\"1460\":\"MS\",\"1461\":\"MS\",\"1462\":\"MS\",\"1463\":\"MS\",\"1464\":\"MS\",\"1465\":\"MS\",\"1466\":\"MS\",\"1467\":\"MS\",\"1468\":\"MS\",\"1469\":\"MS\",\"1470\":\"MS\",\"1471\":\"MS\",\"1472\":\"MS\",\"1473\":\"MS\",\"1474\":\"MS\",\"1475\":\"MS\",\"1476\":\"MS\",\"1477\":\"MS\",\"1478\":\"MS\",\"1479\":\"MS\",\"1480\":\"MS\",\"1481\":\"MS\",\"1482\":\"MS\",\"1483\":\"MO\",\"1484\":\"MO\",\"1485\":\"MO\",\"1486\":\"MO\",\"1487\":\"MO\",\"1488\":\"MO\",\"1489\":\"MO\",\"1490\":\"MO\",\"1491\":\"MO\",\"1492\":\"MO\",\"1493\":\"MO\",\"1494\":\"MO\",\"1495\":\"MO\",\"1496\":\"MO\",\"1497\":\"MO\",\"1498\":\"MO\",\"1499\":\"MO\",\"1500\":\"MO\",\"1501\":\"MO\",\"1502\":\"MO\",\"1503\":\"MO\",\"1504\":\"MO\",\"1505\":\"MO\",\"1506\":\"MO\",\"1507\":\"MO\",\"1508\":\"MO\",\"1509\":\"MO\",\"1510\":\"MO\",\"1511\":\"MO\",\"1512\":\"MO\",\"1513\":\"MO\",\"1514\":\"MO\",\"1515\":\"MO\",\"1516\":\"MO\",\"1517\":\"MO\",\"1518\":\"MO\",\"1519\":\"MO\",\"1520\":\"MO\",\"1521\":\"MO\",\"1522\":\"MO\",\"1523\":\"MO\",\"1524\":\"MO\",\"1525\":\"MO\",\"1526\":\"MO\",\"1527\":\"MO\",\"1528\":\"MO\",\"1529\":\"MO\",\"1530\":\"MO\",\"1531\":\"MO\",\"1532\":\"MO\",\"1533\":\"MO\",\"1534\":\"MO\",\"1535\":\"MO\",\"1536\":\"MO\",\"1537\":\"MO\",\"1538\":\"MO\",\"1539\":\"MO\",\"1540\":\"MO\",\"1541\":\"MO\",\"1542\":\"MO\",\"1543\":\"MO\",\"1544\":\"MO\",\"1545\":\"MO\",\"1546\":\"MO\",\"1547\":\"MO\",\"1548\":\"MO\",\"1549\":\"MO\",\"1550\":\"MO\",\"1551\":\"MO\",\"1552\":\"MO\",\"1553\":\"MO\",\"1554\":\"MO\",\"1555\":\"MO\",\"1556\":\"MO\",\"1557\":\"MO\",\"1558\":\"MO\",\"1559\":\"MO\",\"1560\":\"MO\",\"1561\":\"MO\",\"1562\":\"MO\",\"1563\":\"MO\",\"1564\":\"MO\",\"1565\":\"MO\",\"1566\":\"MO\",\"1567\":\"MO\",\"1568\":\"MO\",\"1569\":\"MO\",\"1570\":\"MO\",\"1571\":\"MO\",\"1572\":\"MO\",\"1573\":\"MO\",\"1574\":\"MO\",\"1575\":\"MO\",\"1576\":\"MO\",\"1577\":\"MO\",\"1578\":\"MO\",\"1579\":\"MO\",\"1580\":\"MO\",\"1581\":\"MO\",\"1582\":\"MO\",\"1583\":\"MO\",\"1584\":\"MO\",\"1585\":\"MO\",\"1586\":\"MO\",\"1587\":\"MO\",\"1588\":\"MO\",\"1589\":\"MO\",\"1590\":\"MO\",\"1591\":\"MO\",\"1592\":\"MO\",\"1593\":\"MO\",\"1594\":\"MO\",\"1595\":\"MO\",\"1596\":\"MO\",\"1597\":\"MO\",\"1598\":\"MT\",\"1599\":\"MT\",\"1600\":\"MT\",\"1601\":\"MT\",\"1602\":\"MT\",\"1603\":\"MT\",\"1604\":\"MT\",\"1605\":\"MT\",\"1606\":\"MT\",\"1607\":\"MT\",\"1608\":\"MT\",\"1609\":\"MT\",\"1610\":\"MT\",\"1611\":\"MT\",\"1612\":\"MT\",\"1613\":\"MT\",\"1614\":\"MT\",\"1615\":\"MT\",\"1616\":\"MT\",\"1617\":\"MT\",\"1618\":\"MT\",\"1619\":\"MT\",\"1620\":\"MT\",\"1621\":\"MT\",\"1622\":\"MT\",\"1623\":\"MT\",\"1624\":\"MT\",\"1625\":\"MT\",\"1626\":\"MT\",\"1627\":\"MT\",\"1628\":\"MT\",\"1629\":\"MT\",\"1630\":\"MT\",\"1631\":\"MT\",\"1632\":\"MT\",\"1633\":\"MT\",\"1634\":\"MT\",\"1635\":\"MT\",\"1636\":\"MT\",\"1637\":\"MT\",\"1638\":\"MT\",\"1639\":\"MT\",\"1640\":\"MT\",\"1641\":\"MT\",\"1642\":\"MT\",\"1643\":\"MT\",\"1644\":\"MT\",\"1645\":\"MT\",\"1646\":\"MT\",\"1647\":\"MT\",\"1648\":\"MT\",\"1649\":\"MT\",\"1650\":\"MT\",\"1651\":\"MT\",\"1652\":\"MT\",\"1653\":\"MT\",\"1654\":\"NE\",\"1655\":\"NE\",\"1656\":\"NE\",\"1657\":\"NE\",\"1658\":\"NE\",\"1659\":\"NE\",\"1660\":\"NE\",\"1661\":\"NE\",\"1662\":\"NE\",\"1663\":\"NE\",\"1664\":\"NE\",\"1665\":\"NE\",\"1666\":\"NE\",\"1667\":\"NE\",\"1668\":\"NE\",\"1669\":\"NE\",\"1670\":\"NE\",\"1671\":\"NE\",\"1672\":\"NE\",\"1673\":\"NE\",\"1674\":\"NE\",\"1675\":\"NE\",\"1676\":\"NE\",\"1677\":\"NE\",\"1678\":\"NE\",\"1679\":\"NE\",\"1680\":\"NE\",\"1681\":\"NE\",\"1682\":\"NE\",\"1683\":\"NE\",\"1684\":\"NE\",\"1685\":\"NE\",\"1686\":\"NE\",\"1687\":\"NE\",\"1688\":\"NE\",\"1689\":\"NE\",\"1690\":\"NE\",\"1691\":\"NE\",\"1692\":\"NE\",\"1693\":\"NE\",\"1694\":\"NE\",\"1695\":\"NE\",\"1696\":\"NE\",\"1697\":\"NE\",\"1698\":\"NE\",\"1699\":\"NE\",\"1700\":\"NE\",\"1701\":\"NE\",\"1702\":\"NE\",\"1703\":\"NE\",\"1704\":\"NE\",\"1705\":\"NE\",\"1706\":\"NE\",\"1707\":\"NE\",\"1708\":\"NE\",\"1709\":\"NE\",\"1710\":\"NE\",\"1711\":\"NE\",\"1712\":\"NE\",\"1713\":\"NE\",\"1714\":\"NE\",\"1715\":\"NE\",\"1716\":\"NE\",\"1717\":\"NE\",\"1718\":\"NE\",\"1719\":\"NE\",\"1720\":\"NE\",\"1721\":\"NE\",\"1722\":\"NE\",\"1723\":\"NE\",\"1724\":\"NE\",\"1725\":\"NE\",\"1726\":\"NE\",\"1727\":\"NE\",\"1728\":\"NE\",\"1729\":\"NE\",\"1730\":\"NE\",\"1731\":\"NE\",\"1732\":\"NE\",\"1733\":\"NE\",\"1734\":\"NE\",\"1735\":\"NE\",\"1736\":\"NE\",\"1737\":\"NE\",\"1738\":\"NE\",\"1739\":\"NE\",\"1740\":\"NE\",\"1741\":\"NE\",\"1742\":\"NE\",\"1743\":\"NE\",\"1744\":\"NE\",\"1745\":\"NE\",\"1746\":\"NE\",\"1747\":\"NV\",\"1748\":\"NV\",\"1749\":\"NV\",\"1750\":\"NV\",\"1751\":\"NV\",\"1752\":\"NV\",\"1753\":\"NV\",\"1754\":\"NV\",\"1755\":\"NV\",\"1756\":\"NV\",\"1757\":\"NV\",\"1758\":\"NV\",\"1759\":\"NV\",\"1760\":\"NV\",\"1761\":\"NV\",\"1762\":\"NV\",\"1763\":\"NV\",\"1764\":\"NH\",\"1765\":\"NH\",\"1766\":\"NH\",\"1767\":\"NH\",\"1768\":\"NH\",\"1769\":\"NH\",\"1770\":\"NH\",\"1771\":\"NH\",\"1772\":\"NH\",\"1773\":\"NH\",\"1774\":\"NJ\",\"1775\":\"NJ\",\"1776\":\"NJ\",\"1777\":\"NJ\",\"1778\":\"NJ\",\"1779\":\"NJ\",\"1780\":\"NJ\",\"1781\":\"NJ\",\"1782\":\"NJ\",\"1783\":\"NJ\",\"1784\":\"NJ\",\"1785\":\"NJ\",\"1786\":\"NJ\",\"1787\":\"NJ\",\"1788\":\"NJ\",\"1789\":\"NJ\",\"1790\":\"NJ\",\"1791\":\"NJ\",\"1792\":\"NJ\",\"1793\":\"NJ\",\"1794\":\"NJ\",\"1795\":\"NM\",\"1796\":\"NM\",\"1797\":\"NM\",\"1798\":\"NM\",\"1799\":\"NM\",\"1800\":\"NM\",\"1801\":\"NM\",\"1802\":\"NM\",\"1803\":\"NM\",\"1804\":\"NM\",\"1805\":\"NM\",\"1806\":\"NM\",\"1807\":\"NM\",\"1808\":\"NM\",\"1809\":\"NM\",\"1810\":\"NM\",\"1811\":\"NM\",\"1812\":\"NM\",\"1813\":\"NM\",\"1814\":\"NM\",\"1815\":\"NM\",\"1816\":\"NM\",\"1817\":\"NM\",\"1818\":\"NM\",\"1819\":\"NM\",\"1820\":\"NM\",\"1821\":\"NM\",\"1822\":\"NM\",\"1823\":\"NM\",\"1824\":\"NM\",\"1825\":\"NM\",\"1826\":\"NM\",\"1827\":\"NM\",\"1828\":\"NY\",\"1829\":\"NY\",\"1830\":\"NY\",\"1831\":\"NY\",\"1832\":\"NY\",\"1833\":\"NY\",\"1834\":\"NY\",\"1835\":\"NY\",\"1836\":\"NY\",\"1837\":\"NY\",\"1838\":\"NY\",\"1839\":\"NY\",\"1840\":\"NY\",\"1841\":\"NY\",\"1842\":\"NY\",\"1843\":\"NY\",\"1844\":\"NY\",\"1845\":\"NY\",\"1846\":\"NY\",\"1847\":\"NY\",\"1848\":\"NY\",\"1849\":\"NY\",\"1850\":\"NY\",\"1851\":\"NY\",\"1852\":\"NY\",\"1853\":\"NY\",\"1854\":\"NY\",\"1855\":\"NY\",\"1856\":\"NY\",\"1857\":\"NY\",\"1858\":\"NY\",\"1859\":\"NY\",\"1860\":\"NY\",\"1861\":\"NY\",\"1862\":\"NY\",\"1863\":\"NY\",\"1864\":\"NY\",\"1865\":\"NY\",\"1866\":\"NY\",\"1867\":\"NY\",\"1868\":\"NY\",\"1869\":\"NY\",\"1870\":\"NY\",\"1871\":\"NY\",\"1872\":\"NY\",\"1873\":\"NY\",\"1874\":\"NY\",\"1875\":\"NY\",\"1876\":\"NY\",\"1877\":\"NY\",\"1878\":\"NY\",\"1879\":\"NY\",\"1880\":\"NY\",\"1881\":\"NY\",\"1882\":\"NY\",\"1883\":\"NY\",\"1884\":\"NY\",\"1885\":\"NY\",\"1886\":\"NY\",\"1887\":\"NY\",\"1888\":\"NY\",\"1889\":\"NY\",\"1890\":\"NC\",\"1891\":\"NC\",\"1892\":\"NC\",\"1893\":\"NC\",\"1894\":\"NC\",\"1895\":\"NC\",\"1896\":\"NC\",\"1897\":\"NC\",\"1898\":\"NC\",\"1899\":\"NC\",\"1900\":\"NC\",\"1901\":\"NC\",\"1902\":\"NC\",\"1903\":\"NC\",\"1904\":\"NC\",\"1905\":\"NC\",\"1906\":\"NC\",\"1907\":\"NC\",\"1908\":\"NC\",\"1909\":\"NC\",\"1910\":\"NC\",\"1911\":\"NC\",\"1912\":\"NC\",\"1913\":\"NC\",\"1914\":\"NC\",\"1915\":\"NC\",\"1916\":\"NC\",\"1917\":\"NC\",\"1918\":\"NC\",\"1919\":\"NC\",\"1920\":\"NC\",\"1921\":\"NC\",\"1922\":\"NC\",\"1923\":\"NC\",\"1924\":\"NC\",\"1925\":\"NC\",\"1926\":\"NC\",\"1927\":\"NC\",\"1928\":\"NC\",\"1929\":\"NC\",\"1930\":\"NC\",\"1931\":\"NC\",\"1932\":\"NC\",\"1933\":\"NC\",\"1934\":\"NC\",\"1935\":\"NC\",\"1936\":\"NC\",\"1937\":\"NC\",\"1938\":\"NC\",\"1939\":\"NC\",\"1940\":\"NC\",\"1941\":\"NC\",\"1942\":\"NC\",\"1943\":\"NC\",\"1944\":\"NC\",\"1945\":\"NC\",\"1946\":\"NC\",\"1947\":\"NC\",\"1948\":\"NC\",\"1949\":\"NC\",\"1950\":\"NC\",\"1951\":\"NC\",\"1952\":\"NC\",\"1953\":\"NC\",\"1954\":\"NC\",\"1955\":\"NC\",\"1956\":\"NC\",\"1957\":\"NC\",\"1958\":\"NC\",\"1959\":\"NC\",\"1960\":\"NC\",\"1961\":\"NC\",\"1962\":\"NC\",\"1963\":\"NC\",\"1964\":\"NC\",\"1965\":\"NC\",\"1966\":\"NC\",\"1967\":\"NC\",\"1968\":\"NC\",\"1969\":\"NC\",\"1970\":\"NC\",\"1971\":\"NC\",\"1972\":\"NC\",\"1973\":\"NC\",\"1974\":\"NC\",\"1975\":\"NC\",\"1976\":\"NC\",\"1977\":\"NC\",\"1978\":\"NC\",\"1979\":\"NC\",\"1980\":\"NC\",\"1981\":\"NC\",\"1982\":\"NC\",\"1983\":\"NC\",\"1984\":\"NC\",\"1985\":\"NC\",\"1986\":\"NC\",\"1987\":\"NC\",\"1988\":\"NC\",\"1989\":\"NC\",\"1990\":\"ND\",\"1991\":\"ND\",\"1992\":\"ND\",\"1993\":\"ND\",\"1994\":\"ND\",\"1995\":\"ND\",\"1996\":\"ND\",\"1997\":\"ND\",\"1998\":\"ND\",\"1999\":\"ND\",\"2000\":\"ND\",\"2001\":\"ND\",\"2002\":\"ND\",\"2003\":\"ND\",\"2004\":\"ND\",\"2005\":\"ND\",\"2006\":\"ND\",\"2007\":\"ND\",\"2008\":\"ND\",\"2009\":\"ND\",\"2010\":\"ND\",\"2011\":\"ND\",\"2012\":\"ND\",\"2013\":\"ND\",\"2014\":\"ND\",\"2015\":\"ND\",\"2016\":\"ND\",\"2017\":\"ND\",\"2018\":\"ND\",\"2019\":\"ND\",\"2020\":\"ND\",\"2021\":\"ND\",\"2022\":\"ND\",\"2023\":\"ND\",\"2024\":\"ND\",\"2025\":\"ND\",\"2026\":\"ND\",\"2027\":\"ND\",\"2028\":\"ND\",\"2029\":\"ND\",\"2030\":\"ND\",\"2031\":\"ND\",\"2032\":\"ND\",\"2033\":\"ND\",\"2034\":\"ND\",\"2035\":\"ND\",\"2036\":\"ND\",\"2037\":\"ND\",\"2038\":\"ND\",\"2039\":\"ND\",\"2040\":\"ND\",\"2041\":\"ND\",\"2042\":\"ND\",\"2043\":\"OH\",\"2044\":\"OH\",\"2045\":\"OH\",\"2046\":\"OH\",\"2047\":\"OH\",\"2048\":\"OH\",\"2049\":\"OH\",\"2050\":\"OH\",\"2051\":\"OH\",\"2052\":\"OH\",\"2053\":\"OH\",\"2054\":\"OH\",\"2055\":\"OH\",\"2056\":\"OH\",\"2057\":\"OH\",\"2058\":\"OH\",\"2059\":\"OH\",\"2060\":\"OH\",\"2061\":\"OH\",\"2062\":\"OH\",\"2063\":\"OH\",\"2064\":\"OH\",\"2065\":\"OH\",\"2066\":\"OH\",\"2067\":\"OH\",\"2068\":\"OH\",\"2069\":\"OH\",\"2070\":\"OH\",\"2071\":\"OH\",\"2072\":\"OH\",\"2073\":\"OH\",\"2074\":\"OH\",\"2075\":\"OH\",\"2076\":\"OH\",\"2077\":\"OH\",\"2078\":\"OH\",\"2079\":\"OH\",\"2080\":\"OH\",\"2081\":\"OH\",\"2082\":\"OH\",\"2083\":\"OH\",\"2084\":\"OH\",\"2085\":\"OH\",\"2086\":\"OH\",\"2087\":\"OH\",\"2088\":\"OH\",\"2089\":\"OH\",\"2090\":\"OH\",\"2091\":\"OH\",\"2092\":\"OH\",\"2093\":\"OH\",\"2094\":\"OH\",\"2095\":\"OH\",\"2096\":\"OH\",\"2097\":\"OH\",\"2098\":\"OH\",\"2099\":\"OH\",\"2100\":\"OH\",\"2101\":\"OH\",\"2102\":\"OH\",\"2103\":\"OH\",\"2104\":\"OH\",\"2105\":\"OH\",\"2106\":\"OH\",\"2107\":\"OH\",\"2108\":\"OH\",\"2109\":\"OH\",\"2110\":\"OH\",\"2111\":\"OH\",\"2112\":\"OH\",\"2113\":\"OH\",\"2114\":\"OH\",\"2115\":\"OH\",\"2116\":\"OH\",\"2117\":\"OH\",\"2118\":\"OH\",\"2119\":\"OH\",\"2120\":\"OH\",\"2121\":\"OH\",\"2122\":\"OH\",\"2123\":\"OH\",\"2124\":\"OH\",\"2125\":\"OH\",\"2126\":\"OH\",\"2127\":\"OH\",\"2128\":\"OH\",\"2129\":\"OH\",\"2130\":\"OH\",\"2131\":\"OK\",\"2132\":\"OK\",\"2133\":\"OK\",\"2134\":\"OK\",\"2135\":\"OK\",\"2136\":\"OK\",\"2137\":\"OK\",\"2138\":\"OK\",\"2139\":\"OK\",\"2140\":\"OK\",\"2141\":\"OK\",\"2142\":\"OK\",\"2143\":\"OK\",\"2144\":\"OK\",\"2145\":\"OK\",\"2146\":\"OK\",\"2147\":\"OK\",\"2148\":\"OK\",\"2149\":\"OK\",\"2150\":\"OK\",\"2151\":\"OK\",\"2152\":\"OK\",\"2153\":\"OK\",\"2154\":\"OK\",\"2155\":\"OK\",\"2156\":\"OK\",\"2157\":\"OK\",\"2158\":\"OK\",\"2159\":\"OK\",\"2160\":\"OK\",\"2161\":\"OK\",\"2162\":\"OK\",\"2163\":\"OK\",\"2164\":\"OK\",\"2165\":\"OK\",\"2166\":\"OK\",\"2167\":\"OK\",\"2168\":\"OK\",\"2169\":\"OK\",\"2170\":\"OK\",\"2171\":\"OK\",\"2172\":\"OK\",\"2173\":\"OK\",\"2174\":\"OK\",\"2175\":\"OK\",\"2176\":\"OK\",\"2177\":\"OK\",\"2178\":\"OK\",\"2179\":\"OK\",\"2180\":\"OK\",\"2181\":\"OK\",\"2182\":\"OK\",\"2183\":\"OK\",\"2184\":\"OK\",\"2185\":\"OK\",\"2186\":\"OK\",\"2187\":\"OK\",\"2188\":\"OK\",\"2189\":\"OK\",\"2190\":\"OK\",\"2191\":\"OK\",\"2192\":\"OK\",\"2193\":\"OK\",\"2194\":\"OK\",\"2195\":\"OK\",\"2196\":\"OK\",\"2197\":\"OK\",\"2198\":\"OK\",\"2199\":\"OK\",\"2200\":\"OK\",\"2201\":\"OK\",\"2202\":\"OK\",\"2203\":\"OK\",\"2204\":\"OK\",\"2205\":\"OK\",\"2206\":\"OK\",\"2207\":\"OK\",\"2208\":\"OR\",\"2209\":\"OR\",\"2210\":\"OR\",\"2211\":\"OR\",\"2212\":\"OR\",\"2213\":\"OR\",\"2214\":\"OR\",\"2215\":\"OR\",\"2216\":\"OR\",\"2217\":\"OR\",\"2218\":\"OR\",\"2219\":\"OR\",\"2220\":\"OR\",\"2221\":\"OR\",\"2222\":\"OR\",\"2223\":\"OR\",\"2224\":\"OR\",\"2225\":\"OR\",\"2226\":\"OR\",\"2227\":\"OR\",\"2228\":\"OR\",\"2229\":\"OR\",\"2230\":\"OR\",\"2231\":\"OR\",\"2232\":\"OR\",\"2233\":\"OR\",\"2234\":\"OR\",\"2235\":\"OR\",\"2236\":\"OR\",\"2237\":\"OR\",\"2238\":\"OR\",\"2239\":\"OR\",\"2240\":\"OR\",\"2241\":\"OR\",\"2242\":\"OR\",\"2243\":\"OR\",\"2244\":\"PA\",\"2245\":\"PA\",\"2246\":\"PA\",\"2247\":\"PA\",\"2248\":\"PA\",\"2249\":\"PA\",\"2250\":\"PA\",\"2251\":\"PA\",\"2252\":\"PA\",\"2253\":\"PA\",\"2254\":\"PA\",\"2255\":\"PA\",\"2256\":\"PA\",\"2257\":\"PA\",\"2258\":\"PA\",\"2259\":\"PA\",\"2260\":\"PA\",\"2261\":\"PA\",\"2262\":\"PA\",\"2263\":\"PA\",\"2264\":\"PA\",\"2265\":\"PA\",\"2266\":\"PA\",\"2267\":\"PA\",\"2268\":\"PA\",\"2269\":\"PA\",\"2270\":\"PA\",\"2271\":\"PA\",\"2272\":\"PA\",\"2273\":\"PA\",\"2274\":\"PA\",\"2275\":\"PA\",\"2276\":\"PA\",\"2277\":\"PA\",\"2278\":\"PA\",\"2279\":\"PA\",\"2280\":\"PA\",\"2281\":\"PA\",\"2282\":\"PA\",\"2283\":\"PA\",\"2284\":\"PA\",\"2285\":\"PA\",\"2286\":\"PA\",\"2287\":\"PA\",\"2288\":\"PA\",\"2289\":\"PA\",\"2290\":\"PA\",\"2291\":\"PA\",\"2292\":\"PA\",\"2293\":\"PA\",\"2294\":\"PA\",\"2295\":\"PA\",\"2296\":\"PA\",\"2297\":\"PA\",\"2298\":\"PA\",\"2299\":\"PA\",\"2300\":\"PA\",\"2301\":\"PA\",\"2302\":\"PA\",\"2303\":\"PA\",\"2304\":\"PA\",\"2305\":\"PA\",\"2306\":\"PA\",\"2307\":\"PA\",\"2308\":\"PA\",\"2309\":\"PA\",\"2310\":\"PA\",\"2311\":\"RI\",\"2312\":\"RI\",\"2313\":\"RI\",\"2314\":\"RI\",\"2315\":\"RI\",\"2316\":\"SC\",\"2317\":\"SC\",\"2318\":\"SC\",\"2319\":\"SC\",\"2320\":\"SC\",\"2321\":\"SC\",\"2322\":\"SC\",\"2323\":\"SC\",\"2324\":\"SC\",\"2325\":\"SC\",\"2326\":\"SC\",\"2327\":\"SC\",\"2328\":\"SC\",\"2329\":\"SC\",\"2330\":\"SC\",\"2331\":\"SC\",\"2332\":\"SC\",\"2333\":\"SC\",\"2334\":\"SC\",\"2335\":\"SC\",\"2336\":\"SC\",\"2337\":\"SC\",\"2338\":\"SC\",\"2339\":\"SC\",\"2340\":\"SC\",\"2341\":\"SC\",\"2342\":\"SC\",\"2343\":\"SC\",\"2344\":\"SC\",\"2345\":\"SC\",\"2346\":\"SC\",\"2347\":\"SC\",\"2348\":\"SC\",\"2349\":\"SC\",\"2350\":\"SC\",\"2351\":\"SC\",\"2352\":\"SC\",\"2353\":\"SC\",\"2354\":\"SC\",\"2355\":\"SC\",\"2356\":\"SC\",\"2357\":\"SC\",\"2358\":\"SC\",\"2359\":\"SC\",\"2360\":\"SC\",\"2361\":\"SC\",\"2362\":\"SD\",\"2363\":\"SD\",\"2364\":\"SD\",\"2365\":\"SD\",\"2366\":\"SD\",\"2367\":\"SD\",\"2368\":\"SD\",\"2369\":\"SD\",\"2370\":\"SD\",\"2371\":\"SD\",\"2372\":\"SD\",\"2373\":\"SD\",\"2374\":\"SD\",\"2375\":\"SD\",\"2376\":\"SD\",\"2377\":\"SD\",\"2378\":\"SD\",\"2379\":\"SD\",\"2380\":\"SD\",\"2381\":\"SD\",\"2382\":\"SD\",\"2383\":\"SD\",\"2384\":\"SD\",\"2385\":\"SD\",\"2386\":\"SD\",\"2387\":\"SD\",\"2388\":\"SD\",\"2389\":\"SD\",\"2390\":\"SD\",\"2391\":\"SD\",\"2392\":\"SD\",\"2393\":\"SD\",\"2394\":\"SD\",\"2395\":\"SD\",\"2396\":\"SD\",\"2397\":\"SD\",\"2398\":\"SD\",\"2399\":\"SD\",\"2400\":\"SD\",\"2401\":\"SD\",\"2402\":\"SD\",\"2403\":\"SD\",\"2404\":\"SD\",\"2405\":\"SD\",\"2406\":\"SD\",\"2407\":\"SD\",\"2408\":\"SD\",\"2409\":\"SD\",\"2410\":\"SD\",\"2411\":\"SD\",\"2412\":\"SD\",\"2413\":\"SD\",\"2414\":\"SD\",\"2415\":\"SD\",\"2416\":\"SD\",\"2417\":\"SD\",\"2418\":\"SD\",\"2419\":\"SD\",\"2420\":\"SD\",\"2421\":\"SD\",\"2422\":\"SD\",\"2423\":\"SD\",\"2424\":\"SD\",\"2425\":\"SD\",\"2426\":\"SD\",\"2427\":\"SD\",\"2428\":\"TN\",\"2429\":\"TN\",\"2430\":\"TN\",\"2431\":\"TN\",\"2432\":\"TN\",\"2433\":\"TN\",\"2434\":\"TN\",\"2435\":\"TN\",\"2436\":\"TN\",\"2437\":\"TN\",\"2438\":\"TN\",\"2439\":\"TN\",\"2440\":\"TN\",\"2441\":\"TN\",\"2442\":\"TN\",\"2443\":\"TN\",\"2444\":\"TN\",\"2445\":\"TN\",\"2446\":\"TN\",\"2447\":\"TN\",\"2448\":\"TN\",\"2449\":\"TN\",\"2450\":\"TN\",\"2451\":\"TN\",\"2452\":\"TN\",\"2453\":\"TN\",\"2454\":\"TN\",\"2455\":\"TN\",\"2456\":\"TN\",\"2457\":\"TN\",\"2458\":\"TN\",\"2459\":\"TN\",\"2460\":\"TN\",\"2461\":\"TN\",\"2462\":\"TN\",\"2463\":\"TN\",\"2464\":\"TN\",\"2465\":\"TN\",\"2466\":\"TN\",\"2467\":\"TN\",\"2468\":\"TN\",\"2469\":\"TN\",\"2470\":\"TN\",\"2471\":\"TN\",\"2472\":\"TN\",\"2473\":\"TN\",\"2474\":\"TN\",\"2475\":\"TN\",\"2476\":\"TN\",\"2477\":\"TN\",\"2478\":\"TN\",\"2479\":\"TN\",\"2480\":\"TN\",\"2481\":\"TN\",\"2482\":\"TN\",\"2483\":\"TN\",\"2484\":\"TN\",\"2485\":\"TN\",\"2486\":\"TN\",\"2487\":\"TN\",\"2488\":\"TN\",\"2489\":\"TN\",\"2490\":\"TN\",\"2491\":\"TN\",\"2492\":\"TN\",\"2493\":\"TN\",\"2494\":\"TN\",\"2495\":\"TN\",\"2496\":\"TN\",\"2497\":\"TN\",\"2498\":\"TN\",\"2499\":\"TN\",\"2500\":\"TN\",\"2501\":\"TN\",\"2502\":\"TN\",\"2503\":\"TN\",\"2504\":\"TN\",\"2505\":\"TN\",\"2506\":\"TN\",\"2507\":\"TN\",\"2508\":\"TN\",\"2509\":\"TN\",\"2510\":\"TN\",\"2511\":\"TN\",\"2512\":\"TN\",\"2513\":\"TN\",\"2514\":\"TN\",\"2515\":\"TN\",\"2516\":\"TN\",\"2517\":\"TN\",\"2518\":\"TN\",\"2519\":\"TN\",\"2520\":\"TN\",\"2521\":\"TN\",\"2522\":\"TN\",\"2523\":\"TX\",\"2524\":\"TX\",\"2525\":\"TX\",\"2526\":\"TX\",\"2527\":\"TX\",\"2528\":\"TX\",\"2529\":\"TX\",\"2530\":\"TX\",\"2531\":\"TX\",\"2532\":\"TX\",\"2533\":\"TX\",\"2534\":\"TX\",\"2535\":\"TX\",\"2536\":\"TX\",\"2537\":\"TX\",\"2538\":\"TX\",\"2539\":\"TX\",\"2540\":\"TX\",\"2541\":\"TX\",\"2542\":\"TX\",\"2543\":\"TX\",\"2544\":\"TX\",\"2545\":\"TX\",\"2546\":\"TX\",\"2547\":\"TX\",\"2548\":\"TX\",\"2549\":\"TX\",\"2550\":\"TX\",\"2551\":\"TX\",\"2552\":\"TX\",\"2553\":\"TX\",\"2554\":\"TX\",\"2555\":\"TX\",\"2556\":\"TX\",\"2557\":\"TX\",\"2558\":\"TX\",\"2559\":\"TX\",\"2560\":\"TX\",\"2561\":\"TX\",\"2562\":\"TX\",\"2563\":\"TX\",\"2564\":\"TX\",\"2565\":\"TX\",\"2566\":\"TX\",\"2567\":\"TX\",\"2568\":\"TX\",\"2569\":\"TX\",\"2570\":\"TX\",\"2571\":\"TX\",\"2572\":\"TX\",\"2573\":\"TX\",\"2574\":\"TX\",\"2575\":\"TX\",\"2576\":\"TX\",\"2577\":\"TX\",\"2578\":\"TX\",\"2579\":\"TX\",\"2580\":\"TX\",\"2581\":\"TX\",\"2582\":\"TX\",\"2583\":\"TX\",\"2584\":\"TX\",\"2585\":\"TX\",\"2586\":\"TX\",\"2587\":\"TX\",\"2588\":\"TX\",\"2589\":\"TX\",\"2590\":\"TX\",\"2591\":\"TX\",\"2592\":\"TX\",\"2593\":\"TX\",\"2594\":\"TX\",\"2595\":\"TX\",\"2596\":\"TX\",\"2597\":\"TX\",\"2598\":\"TX\",\"2599\":\"TX\",\"2600\":\"TX\",\"2601\":\"TX\",\"2602\":\"TX\",\"2603\":\"TX\",\"2604\":\"TX\",\"2605\":\"TX\",\"2606\":\"TX\",\"2607\":\"TX\",\"2608\":\"TX\",\"2609\":\"TX\",\"2610\":\"TX\",\"2611\":\"TX\",\"2612\":\"TX\",\"2613\":\"TX\",\"2614\":\"TX\",\"2615\":\"TX\",\"2616\":\"TX\",\"2617\":\"TX\",\"2618\":\"TX\",\"2619\":\"TX\",\"2620\":\"TX\",\"2621\":\"TX\",\"2622\":\"TX\",\"2623\":\"TX\",\"2624\":\"TX\",\"2625\":\"TX\",\"2626\":\"TX\",\"2627\":\"TX\",\"2628\":\"TX\",\"2629\":\"TX\",\"2630\":\"TX\",\"2631\":\"TX\",\"2632\":\"TX\",\"2633\":\"TX\",\"2634\":\"TX\",\"2635\":\"TX\",\"2636\":\"TX\",\"2637\":\"TX\",\"2638\":\"TX\",\"2639\":\"TX\",\"2640\":\"TX\",\"2641\":\"TX\",\"2642\":\"TX\",\"2643\":\"TX\",\"2644\":\"TX\",\"2645\":\"TX\",\"2646\":\"TX\",\"2647\":\"TX\",\"2648\":\"TX\",\"2649\":\"TX\",\"2650\":\"TX\",\"2651\":\"TX\",\"2652\":\"TX\",\"2653\":\"TX\",\"2654\":\"TX\",\"2655\":\"TX\",\"2656\":\"TX\",\"2657\":\"TX\",\"2658\":\"TX\",\"2659\":\"TX\",\"2660\":\"TX\",\"2661\":\"TX\",\"2662\":\"TX\",\"2663\":\"TX\",\"2664\":\"TX\",\"2665\":\"TX\",\"2666\":\"TX\",\"2667\":\"TX\",\"2668\":\"TX\",\"2669\":\"TX\",\"2670\":\"TX\",\"2671\":\"TX\",\"2672\":\"TX\",\"2673\":\"TX\",\"2674\":\"TX\",\"2675\":\"TX\",\"2676\":\"TX\",\"2677\":\"TX\",\"2678\":\"TX\",\"2679\":\"TX\",\"2680\":\"TX\",\"2681\":\"TX\",\"2682\":\"TX\",\"2683\":\"TX\",\"2684\":\"TX\",\"2685\":\"TX\",\"2686\":\"TX\",\"2687\":\"TX\",\"2688\":\"TX\",\"2689\":\"TX\",\"2690\":\"TX\",\"2691\":\"TX\",\"2692\":\"TX\",\"2693\":\"TX\",\"2694\":\"TX\",\"2695\":\"TX\",\"2696\":\"TX\",\"2697\":\"TX\",\"2698\":\"TX\",\"2699\":\"TX\",\"2700\":\"TX\",\"2701\":\"TX\",\"2702\":\"TX\",\"2703\":\"TX\",\"2704\":\"TX\",\"2705\":\"TX\",\"2706\":\"TX\",\"2707\":\"TX\",\"2708\":\"TX\",\"2709\":\"TX\",\"2710\":\"TX\",\"2711\":\"TX\",\"2712\":\"TX\",\"2713\":\"TX\",\"2714\":\"TX\",\"2715\":\"TX\",\"2716\":\"TX\",\"2717\":\"TX\",\"2718\":\"TX\",\"2719\":\"TX\",\"2720\":\"TX\",\"2721\":\"TX\",\"2722\":\"TX\",\"2723\":\"TX\",\"2724\":\"TX\",\"2725\":\"TX\",\"2726\":\"TX\",\"2727\":\"TX\",\"2728\":\"TX\",\"2729\":\"TX\",\"2730\":\"TX\",\"2731\":\"TX\",\"2732\":\"TX\",\"2733\":\"TX\",\"2734\":\"TX\",\"2735\":\"TX\",\"2736\":\"TX\",\"2737\":\"TX\",\"2738\":\"TX\",\"2739\":\"TX\",\"2740\":\"TX\",\"2741\":\"TX\",\"2742\":\"TX\",\"2743\":\"TX\",\"2744\":\"TX\",\"2745\":\"TX\",\"2746\":\"TX\",\"2747\":\"TX\",\"2748\":\"TX\",\"2749\":\"TX\",\"2750\":\"TX\",\"2751\":\"TX\",\"2752\":\"TX\",\"2753\":\"TX\",\"2754\":\"TX\",\"2755\":\"TX\",\"2756\":\"TX\",\"2757\":\"TX\",\"2758\":\"TX\",\"2759\":\"TX\",\"2760\":\"TX\",\"2761\":\"TX\",\"2762\":\"TX\",\"2763\":\"TX\",\"2764\":\"TX\",\"2765\":\"TX\",\"2766\":\"TX\",\"2767\":\"TX\",\"2768\":\"TX\",\"2769\":\"TX\",\"2770\":\"TX\",\"2771\":\"TX\",\"2772\":\"TX\",\"2773\":\"TX\",\"2774\":\"TX\",\"2775\":\"TX\",\"2776\":\"TX\",\"2777\":\"UT\",\"2778\":\"UT\",\"2779\":\"UT\",\"2780\":\"UT\",\"2781\":\"UT\",\"2782\":\"UT\",\"2783\":\"UT\",\"2784\":\"UT\",\"2785\":\"UT\",\"2786\":\"UT\",\"2787\":\"UT\",\"2788\":\"UT\",\"2789\":\"UT\",\"2790\":\"UT\",\"2791\":\"UT\",\"2792\":\"UT\",\"2793\":\"UT\",\"2794\":\"UT\",\"2795\":\"UT\",\"2796\":\"UT\",\"2797\":\"UT\",\"2798\":\"UT\",\"2799\":\"UT\",\"2800\":\"UT\",\"2801\":\"UT\",\"2802\":\"UT\",\"2803\":\"UT\",\"2804\":\"UT\",\"2805\":\"UT\",\"2806\":\"VT\",\"2807\":\"VT\",\"2808\":\"VT\",\"2809\":\"VT\",\"2810\":\"VT\",\"2811\":\"VT\",\"2812\":\"VT\",\"2813\":\"VT\",\"2814\":\"VT\",\"2815\":\"VT\",\"2816\":\"VT\",\"2817\":\"VT\",\"2818\":\"VT\",\"2819\":\"VT\",\"2820\":\"VA\",\"2821\":\"VA\",\"2822\":\"VA\",\"2823\":\"VA\",\"2824\":\"VA\",\"2825\":\"VA\",\"2826\":\"VA\",\"2827\":\"VA\",\"2828\":\"VA\",\"2829\":\"VA\",\"2830\":\"VA\",\"2831\":\"VA\",\"2832\":\"VA\",\"2833\":\"VA\",\"2834\":\"VA\",\"2835\":\"VA\",\"2836\":\"VA\",\"2837\":\"VA\",\"2838\":\"VA\",\"2839\":\"VA\",\"2840\":\"VA\",\"2841\":\"VA\",\"2842\":\"VA\",\"2843\":\"VA\",\"2844\":\"VA\",\"2845\":\"VA\",\"2846\":\"VA\",\"2847\":\"VA\",\"2848\":\"VA\",\"2849\":\"VA\",\"2850\":\"VA\",\"2851\":\"VA\",\"2852\":\"VA\",\"2853\":\"VA\",\"2854\":\"VA\",\"2855\":\"VA\",\"2856\":\"VA\",\"2857\":\"VA\",\"2858\":\"VA\",\"2859\":\"VA\",\"2860\":\"VA\",\"2861\":\"VA\",\"2862\":\"VA\",\"2863\":\"VA\",\"2864\":\"VA\",\"2865\":\"VA\",\"2866\":\"VA\",\"2867\":\"VA\",\"2868\":\"VA\",\"2869\":\"VA\",\"2870\":\"VA\",\"2871\":\"VA\",\"2872\":\"VA\",\"2873\":\"VA\",\"2874\":\"VA\",\"2875\":\"VA\",\"2876\":\"VA\",\"2877\":\"VA\",\"2878\":\"VA\",\"2879\":\"VA\",\"2880\":\"VA\",\"2881\":\"VA\",\"2882\":\"VA\",\"2883\":\"VA\",\"2884\":\"VA\",\"2885\":\"VA\",\"2886\":\"VA\",\"2887\":\"VA\",\"2888\":\"VA\",\"2889\":\"VA\",\"2890\":\"VA\",\"2891\":\"VA\",\"2892\":\"VA\",\"2893\":\"VA\",\"2894\":\"VA\",\"2895\":\"VA\",\"2896\":\"VA\",\"2897\":\"VA\",\"2898\":\"VA\",\"2899\":\"VA\",\"2900\":\"VA\",\"2901\":\"VA\",\"2902\":\"VA\",\"2903\":\"VA\",\"2904\":\"VA\",\"2905\":\"VA\",\"2906\":\"VA\",\"2907\":\"VA\",\"2908\":\"VA\",\"2909\":\"VA\",\"2910\":\"VA\",\"2911\":\"VA\",\"2912\":\"VA\",\"2913\":\"VA\",\"2914\":\"VA\",\"2915\":\"VA\",\"2916\":\"VA\",\"2917\":\"VA\",\"2918\":\"VA\",\"2919\":\"VA\",\"2920\":\"VA\",\"2921\":\"VA\",\"2922\":\"VA\",\"2923\":\"VA\",\"2924\":\"VA\",\"2925\":\"VA\",\"2926\":\"VA\",\"2927\":\"VA\",\"2928\":\"VA\",\"2929\":\"VA\",\"2930\":\"VA\",\"2931\":\"VA\",\"2932\":\"VA\",\"2933\":\"VA\",\"2934\":\"VA\",\"2935\":\"VA\",\"2936\":\"VA\",\"2937\":\"VA\",\"2938\":\"VA\",\"2939\":\"VA\",\"2940\":\"VA\",\"2941\":\"VA\",\"2942\":\"VA\",\"2943\":\"VA\",\"2944\":\"VA\",\"2945\":\"VA\",\"2946\":\"VA\",\"2947\":\"VA\",\"2948\":\"VA\",\"2949\":\"VA\",\"2950\":\"VA\",\"2951\":\"VA\",\"2952\":\"VA\",\"2953\":\"VA\",\"2954\":\"WA\",\"2955\":\"WA\",\"2956\":\"WA\",\"2957\":\"WA\",\"2958\":\"WA\",\"2959\":\"WA\",\"2960\":\"WA\",\"2961\":\"WA\",\"2962\":\"WA\",\"2963\":\"WA\",\"2964\":\"WA\",\"2965\":\"WA\",\"2966\":\"WA\",\"2967\":\"WA\",\"2968\":\"WA\",\"2969\":\"WA\",\"2970\":\"WA\",\"2971\":\"WA\",\"2972\":\"WA\",\"2973\":\"WA\",\"2974\":\"WA\",\"2975\":\"WA\",\"2976\":\"WA\",\"2977\":\"WA\",\"2978\":\"WA\",\"2979\":\"WA\",\"2980\":\"WA\",\"2981\":\"WA\",\"2982\":\"WA\",\"2983\":\"WA\",\"2984\":\"WA\",\"2985\":\"WA\",\"2986\":\"WA\",\"2987\":\"WA\",\"2988\":\"WA\",\"2989\":\"WA\",\"2990\":\"WA\",\"2991\":\"WA\",\"2992\":\"WA\",\"2993\":\"WV\",\"2994\":\"WV\",\"2995\":\"WV\",\"2996\":\"WV\",\"2997\":\"WV\",\"2998\":\"WV\",\"2999\":\"WV\",\"3000\":\"WV\",\"3001\":\"WV\",\"3002\":\"WV\",\"3003\":\"WV\",\"3004\":\"WV\",\"3005\":\"WV\",\"3006\":\"WV\",\"3007\":\"WV\",\"3008\":\"WV\",\"3009\":\"WV\",\"3010\":\"WV\",\"3011\":\"WV\",\"3012\":\"WV\",\"3013\":\"WV\",\"3014\":\"WV\",\"3015\":\"WV\",\"3016\":\"WV\",\"3017\":\"WV\",\"3018\":\"WV\",\"3019\":\"WV\",\"3020\":\"WV\",\"3021\":\"WV\",\"3022\":\"WV\",\"3023\":\"WV\",\"3024\":\"WV\",\"3025\":\"WV\",\"3026\":\"WV\",\"3027\":\"WV\",\"3028\":\"WV\",\"3029\":\"WV\",\"3030\":\"WV\",\"3031\":\"WV\",\"3032\":\"WV\",\"3033\":\"WV\",\"3034\":\"WV\",\"3035\":\"WV\",\"3036\":\"WV\",\"3037\":\"WV\",\"3038\":\"WV\",\"3039\":\"WV\",\"3040\":\"WV\",\"3041\":\"WV\",\"3042\":\"WV\",\"3043\":\"WV\",\"3044\":\"WV\",\"3045\":\"WV\",\"3046\":\"WV\",\"3047\":\"WV\",\"3048\":\"WI\",\"3049\":\"WI\",\"3050\":\"WI\",\"3051\":\"WI\",\"3052\":\"WI\",\"3053\":\"WI\",\"3054\":\"WI\",\"3055\":\"WI\",\"3056\":\"WI\",\"3057\":\"WI\",\"3058\":\"WI\",\"3059\":\"WI\",\"3060\":\"WI\",\"3061\":\"WI\",\"3062\":\"WI\",\"3063\":\"WI\",\"3064\":\"WI\",\"3065\":\"WI\",\"3066\":\"WI\",\"3067\":\"WI\",\"3068\":\"WI\",\"3069\":\"WI\",\"3070\":\"WI\",\"3071\":\"WI\",\"3072\":\"WI\",\"3073\":\"WI\",\"3074\":\"WI\",\"3075\":\"WI\",\"3076\":\"WI\",\"3077\":\"WI\",\"3078\":\"WI\",\"3079\":\"WI\",\"3080\":\"WI\",\"3081\":\"WI\",\"3082\":\"WI\",\"3083\":\"WI\",\"3084\":\"WI\",\"3085\":\"WI\",\"3086\":\"WI\",\"3087\":\"WI\",\"3088\":\"WI\",\"3089\":\"WI\",\"3090\":\"WI\",\"3091\":\"WI\",\"3092\":\"WI\",\"3093\":\"WI\",\"3094\":\"WI\",\"3095\":\"WI\",\"3096\":\"WI\",\"3097\":\"WI\",\"3098\":\"WI\",\"3099\":\"WI\",\"3100\":\"WI\",\"3101\":\"WI\",\"3102\":\"WI\",\"3103\":\"WI\",\"3104\":\"WI\",\"3105\":\"WI\",\"3106\":\"WI\",\"3107\":\"WI\",\"3108\":\"WI\",\"3109\":\"WI\",\"3110\":\"WI\",\"3111\":\"WI\",\"3112\":\"WI\",\"3113\":\"WI\",\"3114\":\"WI\",\"3115\":\"WI\",\"3116\":\"WI\",\"3117\":\"WI\",\"3118\":\"WI\",\"3119\":\"WI\",\"3120\":\"WY\",\"3121\":\"WY\",\"3122\":\"WY\",\"3123\":\"WY\",\"3124\":\"WY\",\"3125\":\"WY\",\"3126\":\"WY\",\"3127\":\"WY\",\"3128\":\"WY\",\"3129\":\"WY\",\"3130\":\"WY\",\"3131\":\"WY\",\"3132\":\"WY\",\"3133\":\"WY\",\"3134\":\"WY\",\"3135\":\"WY\",\"3136\":\"WY\",\"3137\":\"WY\",\"3138\":\"WY\",\"3139\":\"WY\",\"3140\":\"WY\",\"3141\":\"WY\",\"3142\":\"WY\",\"3143\":\"AS\",\"3144\":\"AS\",\"3145\":\"AS\",\"3146\":\"AS\",\"3147\":\"AS\",\"3148\":\"GU\",\"3149\":\"MP\",\"3150\":\"MP\",\"3151\":\"MP\",\"3152\":\"MP\",\"3153\":\"PR\",\"3154\":\"PR\",\"3155\":\"PR\",\"3156\":\"PR\",\"3157\":\"PR\",\"3158\":\"PR\",\"3159\":\"PR\",\"3160\":\"PR\",\"3161\":\"PR\",\"3162\":\"PR\",\"3163\":\"PR\",\"3164\":\"PR\",\"3165\":\"PR\",\"3166\":\"PR\",\"3167\":\"PR\",\"3168\":\"PR\",\"3169\":\"PR\",\"3170\":\"PR\",\"3171\":\"PR\",\"3172\":\"PR\",\"3173\":\"PR\",\"3174\":\"PR\",\"3175\":\"PR\",\"3176\":\"PR\",\"3177\":\"PR\",\"3178\":\"PR\",\"3179\":\"PR\",\"3180\":\"PR\",\"3181\":\"PR\",\"3182\":\"PR\",\"3183\":\"PR\",\"3184\":\"PR\",\"3185\":\"PR\",\"3186\":\"PR\",\"3187\":\"PR\",\"3188\":\"PR\",\"3189\":\"PR\",\"3190\":\"PR\",\"3191\":\"PR\",\"3192\":\"PR\",\"3193\":\"PR\",\"3194\":\"PR\",\"3195\":\"PR\",\"3196\":\"PR\",\"3197\":\"PR\",\"3198\":\"PR\",\"3199\":\"PR\",\"3200\":\"PR\",\"3201\":\"PR\",\"3202\":\"PR\",\"3203\":\"PR\",\"3204\":\"PR\",\"3205\":\"PR\",\"3206\":\"PR\",\"3207\":\"PR\",\"3208\":\"PR\",\"3209\":\"PR\",\"3210\":\"PR\",\"3211\":\"PR\",\"3212\":\"PR\",\"3213\":\"PR\",\"3214\":\"PR\",\"3215\":\"PR\",\"3216\":\"PR\",\"3217\":\"PR\",\"3218\":\"PR\",\"3219\":\"PR\",\"3220\":\"PR\",\"3221\":\"PR\",\"3222\":\"PR\",\"3223\":\"PR\",\"3224\":\"PR\",\"3225\":\"PR\",\"3226\":\"PR\",\"3227\":\"PR\",\"3228\":\"PR\",\"3229\":\"PR\",\"3230\":\"PR\",\"3231\":\"UM\",\"3232\":\"VI\",\"3233\":\"VI\",\"3234\":\"VI\"},\"stfips\":{\"0\":1,\"1\":1,\"2\":1,\"3\":1,\"4\":1,\"5\":1,\"6\":1,\"7\":1,\"8\":1,\"9\":1,\"10\":1,\"11\":1,\"12\":1,\"13\":1,\"14\":1,\"15\":1,\"16\":1,\"17\":1,\"18\":1,\"19\":1,\"20\":1,\"21\":1,\"22\":1,\"23\":1,\"24\":1,\"25\":1,\"26\":1,\"27\":1,\"28\":1,\"29\":1,\"30\":1,\"31\":1,\"32\":1,\"33\":1,\"34\":1,\"35\":1,\"36\":1,\"37\":1,\"38\":1,\"39\":1,\"40\":1,\"41\":1,\"42\":1,\"43\":1,\"44\":1,\"45\":1,\"46\":1,\"47\":1,\"48\":1,\"49\":1,\"50\":1,\"51\":1,\"52\":1,\"53\":1,\"54\":1,\"55\":1,\"56\":1,\"57\":1,\"58\":1,\"59\":1,\"60\":1,\"61\":1,\"62\":1,\"63\":1,\"64\":1,\"65\":1,\"66\":1,\"67\":2,\"68\":2,\"69\":2,\"70\":2,\"71\":2,\"72\":2,\"73\":2,\"74\":2,\"75\":2,\"76\":2,\"77\":2,\"78\":2,\"79\":2,\"80\":2,\"81\":2,\"82\":2,\"83\":2,\"84\":2,\"85\":2,\"86\":2,\"87\":2,\"88\":2,\"89\":2,\"90\":2,\"91\":2,\"92\":2,\"93\":2,\"94\":2,\"95\":2,\"96\":4,\"97\":4,\"98\":4,\"99\":4,\"100\":4,\"101\":4,\"102\":4,\"103\":4,\"104\":4,\"105\":4,\"106\":4,\"107\":4,\"108\":4,\"109\":4,\"110\":4,\"111\":5,\"112\":5,\"113\":5,\"114\":5,\"115\":5,\"116\":5,\"117\":5,\"118\":5,\"119\":5,\"120\":5,\"121\":5,\"122\":5,\"123\":5,\"124\":5,\"125\":5,\"126\":5,\"127\":5,\"128\":5,\"129\":5,\"130\":5,\"131\":5,\"132\":5,\"133\":5,\"134\":5,\"135\":5,\"136\":5,\"137\":5,\"138\":5,\"139\":5,\"140\":5,\"141\":5,\"142\":5,\"143\":5,\"144\":5,\"145\":5,\"146\":5,\"147\":5,\"148\":5,\"149\":5,\"150\":5,\"151\":5,\"152\":5,\"153\":5,\"154\":5,\"155\":5,\"156\":5,\"157\":5,\"158\":5,\"159\":5,\"160\":5,\"161\":5,\"162\":5,\"163\":5,\"164\":5,\"165\":5,\"166\":5,\"167\":5,\"168\":5,\"169\":5,\"170\":5,\"171\":5,\"172\":5,\"173\":5,\"174\":5,\"175\":5,\"176\":5,\"177\":5,\"178\":5,\"179\":5,\"180\":5,\"181\":5,\"182\":5,\"183\":5,\"184\":5,\"185\":5,\"186\":6,\"187\":6,\"188\":6,\"189\":6,\"190\":6,\"191\":6,\"192\":6,\"193\":6,\"194\":6,\"195\":6,\"196\":6,\"197\":6,\"198\":6,\"199\":6,\"200\":6,\"201\":6,\"202\":6,\"203\":6,\"204\":6,\"205\":6,\"206\":6,\"207\":6,\"208\":6,\"209\":6,\"210\":6,\"211\":6,\"212\":6,\"213\":6,\"214\":6,\"215\":6,\"216\":6,\"217\":6,\"218\":6,\"219\":6,\"220\":6,\"221\":6,\"222\":6,\"223\":6,\"224\":6,\"225\":6,\"226\":6,\"227\":6,\"228\":6,\"229\":6,\"230\":6,\"231\":6,\"232\":6,\"233\":6,\"234\":6,\"235\":6,\"236\":6,\"237\":6,\"238\":6,\"239\":6,\"240\":6,\"241\":6,\"242\":6,\"243\":6,\"244\":8,\"245\":8,\"246\":8,\"247\":8,\"248\":8,\"249\":8,\"250\":8,\"251\":8,\"252\":8,\"253\":8,\"254\":8,\"255\":8,\"256\":8,\"257\":8,\"258\":8,\"259\":8,\"260\":8,\"261\":8,\"262\":8,\"263\":8,\"264\":8,\"265\":8,\"266\":8,\"267\":8,\"268\":8,\"269\":8,\"270\":8,\"271\":8,\"272\":8,\"273\":8,\"274\":8,\"275\":8,\"276\":8,\"277\":8,\"278\":8,\"279\":8,\"280\":8,\"281\":8,\"282\":8,\"283\":8,\"284\":8,\"285\":8,\"286\":8,\"287\":8,\"288\":8,\"289\":8,\"290\":8,\"291\":8,\"292\":8,\"293\":8,\"294\":8,\"295\":8,\"296\":8,\"297\":8,\"298\":8,\"299\":8,\"300\":8,\"301\":8,\"302\":8,\"303\":8,\"304\":8,\"305\":8,\"306\":8,\"307\":8,\"308\":9,\"309\":9,\"310\":9,\"311\":9,\"312\":9,\"313\":9,\"314\":9,\"315\":9,\"316\":10,\"317\":10,\"318\":10,\"319\":11,\"320\":12,\"321\":12,\"322\":12,\"323\":12,\"324\":12,\"325\":12,\"326\":12,\"327\":12,\"328\":12,\"329\":12,\"330\":12,\"331\":12,\"332\":12,\"333\":12,\"334\":12,\"335\":12,\"336\":12,\"337\":12,\"338\":12,\"339\":12,\"340\":12,\"341\":12,\"342\":12,\"343\":12,\"344\":12,\"345\":12,\"346\":12,\"347\":12,\"348\":12,\"349\":12,\"350\":12,\"351\":12,\"352\":12,\"353\":12,\"354\":12,\"355\":12,\"356\":12,\"357\":12,\"358\":12,\"359\":12,\"360\":12,\"361\":12,\"362\":12,\"363\":12,\"364\":12,\"365\":12,\"366\":12,\"367\":12,\"368\":12,\"369\":12,\"370\":12,\"371\":12,\"372\":12,\"373\":12,\"374\":12,\"375\":12,\"376\":12,\"377\":12,\"378\":12,\"379\":12,\"380\":12,\"381\":12,\"382\":12,\"383\":12,\"384\":12,\"385\":12,\"386\":12,\"387\":13,\"388\":13,\"389\":13,\"390\":13,\"391\":13,\"392\":13,\"393\":13,\"394\":13,\"395\":13,\"396\":13,\"397\":13,\"398\":13,\"399\":13,\"400\":13,\"401\":13,\"402\":13,\"403\":13,\"404\":13,\"405\":13,\"406\":13,\"407\":13,\"408\":13,\"409\":13,\"410\":13,\"411\":13,\"412\":13,\"413\":13,\"414\":13,\"415\":13,\"416\":13,\"417\":13,\"418\":13,\"419\":13,\"420\":13,\"421\":13,\"422\":13,\"423\":13,\"424\":13,\"425\":13,\"426\":13,\"427\":13,\"428\":13,\"429\":13,\"430\":13,\"431\":13,\"432\":13,\"433\":13,\"434\":13,\"435\":13,\"436\":13,\"437\":13,\"438\":13,\"439\":13,\"440\":13,\"441\":13,\"442\":13,\"443\":13,\"444\":13,\"445\":13,\"446\":13,\"447\":13,\"448\":13,\"449\":13,\"450\":13,\"451\":13,\"452\":13,\"453\":13,\"454\":13,\"455\":13,\"456\":13,\"457\":13,\"458\":13,\"459\":13,\"460\":13,\"461\":13,\"462\":13,\"463\":13,\"464\":13,\"465\":13,\"466\":13,\"467\":13,\"468\":13,\"469\":13,\"470\":13,\"471\":13,\"472\":13,\"473\":13,\"474\":13,\"475\":13,\"476\":13,\"477\":13,\"478\":13,\"479\":13,\"480\":13,\"481\":13,\"482\":13,\"483\":13,\"484\":13,\"485\":13,\"486\":13,\"487\":13,\"488\":13,\"489\":13,\"490\":13,\"491\":13,\"492\":13,\"493\":13,\"494\":13,\"495\":13,\"496\":13,\"497\":13,\"498\":13,\"499\":13,\"500\":13,\"501\":13,\"502\":13,\"503\":13,\"504\":13,\"505\":13,\"506\":13,\"507\":13,\"508\":13,\"509\":13,\"510\":13,\"511\":13,\"512\":13,\"513\":13,\"514\":13,\"515\":13,\"516\":13,\"517\":13,\"518\":13,\"519\":13,\"520\":13,\"521\":13,\"522\":13,\"523\":13,\"524\":13,\"525\":13,\"526\":13,\"527\":13,\"528\":13,\"529\":13,\"530\":13,\"531\":13,\"532\":13,\"533\":13,\"534\":13,\"535\":13,\"536\":13,\"537\":13,\"538\":13,\"539\":13,\"540\":13,\"541\":13,\"542\":13,\"543\":13,\"544\":13,\"545\":13,\"546\":15,\"547\":15,\"548\":15,\"549\":15,\"550\":15,\"551\":16,\"552\":16,\"553\":16,\"554\":16,\"555\":16,\"556\":16,\"557\":16,\"558\":16,\"559\":16,\"560\":16,\"561\":16,\"562\":16,\"563\":16,\"564\":16,\"565\":16,\"566\":16,\"567\":16,\"568\":16,\"569\":16,\"570\":16,\"571\":16,\"572\":16,\"573\":16,\"574\":16,\"575\":16,\"576\":16,\"577\":16,\"578\":16,\"579\":16,\"580\":16,\"581\":16,\"582\":16,\"583\":16,\"584\":16,\"585\":16,\"586\":16,\"587\":16,\"588\":16,\"589\":16,\"590\":16,\"591\":16,\"592\":16,\"593\":16,\"594\":16,\"595\":17,\"596\":17,\"597\":17,\"598\":17,\"599\":17,\"600\":17,\"601\":17,\"602\":17,\"603\":17,\"604\":17,\"605\":17,\"606\":17,\"607\":17,\"608\":17,\"609\":17,\"610\":17,\"611\":17,\"612\":17,\"613\":17,\"614\":17,\"615\":17,\"616\":17,\"617\":17,\"618\":17,\"619\":17,\"620\":17,\"621\":17,\"622\":17,\"623\":17,\"624\":17,\"625\":17,\"626\":17,\"627\":17,\"628\":17,\"629\":17,\"630\":17,\"631\":17,\"632\":17,\"633\":17,\"634\":17,\"635\":17,\"636\":17,\"637\":17,\"638\":17,\"639\":17,\"640\":17,\"641\":17,\"642\":17,\"643\":17,\"644\":17,\"645\":17,\"646\":17,\"647\":17,\"648\":17,\"649\":17,\"650\":17,\"651\":17,\"652\":17,\"653\":17,\"654\":17,\"655\":17,\"656\":17,\"657\":17,\"658\":17,\"659\":17,\"660\":17,\"661\":17,\"662\":17,\"663\":17,\"664\":17,\"665\":17,\"666\":17,\"667\":17,\"668\":17,\"669\":17,\"670\":17,\"671\":17,\"672\":17,\"673\":17,\"674\":17,\"675\":17,\"676\":17,\"677\":17,\"678\":17,\"679\":17,\"680\":17,\"681\":17,\"682\":17,\"683\":17,\"684\":17,\"685\":17,\"686\":17,\"687\":17,\"688\":17,\"689\":17,\"690\":17,\"691\":17,\"692\":17,\"693\":17,\"694\":17,\"695\":17,\"696\":17,\"697\":18,\"698\":18,\"699\":18,\"700\":18,\"701\":18,\"702\":18,\"703\":18,\"704\":18,\"705\":18,\"706\":18,\"707\":18,\"708\":18,\"709\":18,\"710\":18,\"711\":18,\"712\":18,\"713\":18,\"714\":18,\"715\":18,\"716\":18,\"717\":18,\"718\":18,\"719\":18,\"720\":18,\"721\":18,\"722\":18,\"723\":18,\"724\":18,\"725\":18,\"726\":18,\"727\":18,\"728\":18,\"729\":18,\"730\":18,\"731\":18,\"732\":18,\"733\":18,\"734\":18,\"735\":18,\"736\":18,\"737\":18,\"738\":18,\"739\":18,\"740\":18,\"741\":18,\"742\":18,\"743\":18,\"744\":18,\"745\":18,\"746\":18,\"747\":18,\"748\":18,\"749\":18,\"750\":18,\"751\":18,\"752\":18,\"753\":18,\"754\":18,\"755\":18,\"756\":18,\"757\":18,\"758\":18,\"759\":18,\"760\":18,\"761\":18,\"762\":18,\"763\":18,\"764\":18,\"765\":18,\"766\":18,\"767\":18,\"768\":18,\"769\":18,\"770\":18,\"771\":18,\"772\":18,\"773\":18,\"774\":18,\"775\":18,\"776\":18,\"777\":18,\"778\":18,\"779\":18,\"780\":18,\"781\":18,\"782\":18,\"783\":18,\"784\":18,\"785\":18,\"786\":18,\"787\":18,\"788\":18,\"789\":19,\"790\":19,\"791\":19,\"792\":19,\"793\":19,\"794\":19,\"795\":19,\"796\":19,\"797\":19,\"798\":19,\"799\":19,\"800\":19,\"801\":19,\"802\":19,\"803\":19,\"804\":19,\"805\":19,\"806\":19,\"807\":19,\"808\":19,\"809\":19,\"810\":19,\"811\":19,\"812\":19,\"813\":19,\"814\":19,\"815\":19,\"816\":19,\"817\":19,\"818\":19,\"819\":19,\"820\":19,\"821\":19,\"822\":19,\"823\":19,\"824\":19,\"825\":19,\"826\":19,\"827\":19,\"828\":19,\"829\":19,\"830\":19,\"831\":19,\"832\":19,\"833\":19,\"834\":19,\"835\":19,\"836\":19,\"837\":19,\"838\":19,\"839\":19,\"840\":19,\"841\":19,\"842\":19,\"843\":19,\"844\":19,\"845\":19,\"846\":19,\"847\":19,\"848\":19,\"849\":19,\"850\":19,\"851\":19,\"852\":19,\"853\":19,\"854\":19,\"855\":19,\"856\":19,\"857\":19,\"858\":19,\"859\":19,\"860\":19,\"861\":19,\"862\":19,\"863\":19,\"864\":19,\"865\":19,\"866\":19,\"867\":19,\"868\":19,\"869\":19,\"870\":19,\"871\":19,\"872\":19,\"873\":19,\"874\":19,\"875\":19,\"876\":19,\"877\":19,\"878\":19,\"879\":19,\"880\":19,\"881\":19,\"882\":19,\"883\":19,\"884\":19,\"885\":19,\"886\":19,\"887\":19,\"888\":20,\"889\":20,\"890\":20,\"891\":20,\"892\":20,\"893\":20,\"894\":20,\"895\":20,\"896\":20,\"897\":20,\"898\":20,\"899\":20,\"900\":20,\"901\":20,\"902\":20,\"903\":20,\"904\":20,\"905\":20,\"906\":20,\"907\":20,\"908\":20,\"909\":20,\"910\":20,\"911\":20,\"912\":20,\"913\":20,\"914\":20,\"915\":20,\"916\":20,\"917\":20,\"918\":20,\"919\":20,\"920\":20,\"921\":20,\"922\":20,\"923\":20,\"924\":20,\"925\":20,\"926\":20,\"927\":20,\"928\":20,\"929\":20,\"930\":20,\"931\":20,\"932\":20,\"933\":20,\"934\":20,\"935\":20,\"936\":20,\"937\":20,\"938\":20,\"939\":20,\"940\":20,\"941\":20,\"942\":20,\"943\":20,\"944\":20,\"945\":20,\"946\":20,\"947\":20,\"948\":20,\"949\":20,\"950\":20,\"951\":20,\"952\":20,\"953\":20,\"954\":20,\"955\":20,\"956\":20,\"957\":20,\"958\":20,\"959\":20,\"960\":20,\"961\":20,\"962\":20,\"963\":20,\"964\":20,\"965\":20,\"966\":20,\"967\":20,\"968\":20,\"969\":20,\"970\":20,\"971\":20,\"972\":20,\"973\":20,\"974\":20,\"975\":20,\"976\":20,\"977\":20,\"978\":20,\"979\":20,\"980\":20,\"981\":20,\"982\":20,\"983\":20,\"984\":20,\"985\":20,\"986\":20,\"987\":20,\"988\":20,\"989\":20,\"990\":20,\"991\":20,\"992\":20,\"993\":21,\"994\":21,\"995\":21,\"996\":21,\"997\":21,\"998\":21,\"999\":21,\"1000\":21,\"1001\":21,\"1002\":21,\"1003\":21,\"1004\":21,\"1005\":21,\"1006\":21,\"1007\":21,\"1008\":21,\"1009\":21,\"1010\":21,\"1011\":21,\"1012\":21,\"1013\":21,\"1014\":21,\"1015\":21,\"1016\":21,\"1017\":21,\"1018\":21,\"1019\":21,\"1020\":21,\"1021\":21,\"1022\":21,\"1023\":21,\"1024\":21,\"1025\":21,\"1026\":21,\"1027\":21,\"1028\":21,\"1029\":21,\"1030\":21,\"1031\":21,\"1032\":21,\"1033\":21,\"1034\":21,\"1035\":21,\"1036\":21,\"1037\":21,\"1038\":21,\"1039\":21,\"1040\":21,\"1041\":21,\"1042\":21,\"1043\":21,\"1044\":21,\"1045\":21,\"1046\":21,\"1047\":21,\"1048\":21,\"1049\":21,\"1050\":21,\"1051\":21,\"1052\":21,\"1053\":21,\"1054\":21,\"1055\":21,\"1056\":21,\"1057\":21,\"1058\":21,\"1059\":21,\"1060\":21,\"1061\":21,\"1062\":21,\"1063\":21,\"1064\":21,\"1065\":21,\"1066\":21,\"1067\":21,\"1068\":21,\"1069\":21,\"1070\":21,\"1071\":21,\"1072\":21,\"1073\":21,\"1074\":21,\"1075\":21,\"1076\":21,\"1077\":21,\"1078\":21,\"1079\":21,\"1080\":21,\"1081\":21,\"1082\":21,\"1083\":21,\"1084\":21,\"1085\":21,\"1086\":21,\"1087\":21,\"1088\":21,\"1089\":21,\"1090\":21,\"1091\":21,\"1092\":21,\"1093\":21,\"1094\":21,\"1095\":21,\"1096\":21,\"1097\":21,\"1098\":21,\"1099\":21,\"1100\":21,\"1101\":21,\"1102\":21,\"1103\":21,\"1104\":21,\"1105\":21,\"1106\":21,\"1107\":21,\"1108\":21,\"1109\":21,\"1110\":21,\"1111\":21,\"1112\":21,\"1113\":22,\"1114\":22,\"1115\":22,\"1116\":22,\"1117\":22,\"1118\":22,\"1119\":22,\"1120\":22,\"1121\":22,\"1122\":22,\"1123\":22,\"1124\":22,\"1125\":22,\"1126\":22,\"1127\":22,\"1128\":22,\"1129\":22,\"1130\":22,\"1131\":22,\"1132\":22,\"1133\":22,\"1134\":22,\"1135\":22,\"1136\":22,\"1137\":22,\"1138\":22,\"1139\":22,\"1140\":22,\"1141\":22,\"1142\":22,\"1143\":22,\"1144\":22,\"1145\":22,\"1146\":22,\"1147\":22,\"1148\":22,\"1149\":22,\"1150\":22,\"1151\":22,\"1152\":22,\"1153\":22,\"1154\":22,\"1155\":22,\"1156\":22,\"1157\":22,\"1158\":22,\"1159\":22,\"1160\":22,\"1161\":22,\"1162\":22,\"1163\":22,\"1164\":22,\"1165\":22,\"1166\":22,\"1167\":22,\"1168\":22,\"1169\":22,\"1170\":22,\"1171\":22,\"1172\":22,\"1173\":22,\"1174\":22,\"1175\":22,\"1176\":22,\"1177\":23,\"1178\":23,\"1179\":23,\"1180\":23,\"1181\":23,\"1182\":23,\"1183\":23,\"1184\":23,\"1185\":23,\"1186\":23,\"1187\":23,\"1188\":23,\"1189\":23,\"1190\":23,\"1191\":23,\"1192\":23,\"1193\":24,\"1194\":24,\"1195\":24,\"1196\":24,\"1197\":24,\"1198\":24,\"1199\":24,\"1200\":24,\"1201\":24,\"1202\":24,\"1203\":24,\"1204\":24,\"1205\":24,\"1206\":24,\"1207\":24,\"1208\":24,\"1209\":24,\"1210\":24,\"1211\":24,\"1212\":24,\"1213\":24,\"1214\":24,\"1215\":24,\"1216\":24,\"1217\":25,\"1218\":25,\"1219\":25,\"1220\":25,\"1221\":25,\"1222\":25,\"1223\":25,\"1224\":25,\"1225\":25,\"1226\":25,\"1227\":25,\"1228\":25,\"1229\":25,\"1230\":25,\"1231\":26,\"1232\":26,\"1233\":26,\"1234\":26,\"1235\":26,\"1236\":26,\"1237\":26,\"1238\":26,\"1239\":26,\"1240\":26,\"1241\":26,\"1242\":26,\"1243\":26,\"1244\":26,\"1245\":26,\"1246\":26,\"1247\":26,\"1248\":26,\"1249\":26,\"1250\":26,\"1251\":26,\"1252\":26,\"1253\":26,\"1254\":26,\"1255\":26,\"1256\":26,\"1257\":26,\"1258\":26,\"1259\":26,\"1260\":26,\"1261\":26,\"1262\":26,\"1263\":26,\"1264\":26,\"1265\":26,\"1266\":26,\"1267\":26,\"1268\":26,\"1269\":26,\"1270\":26,\"1271\":26,\"1272\":26,\"1273\":26,\"1274\":26,\"1275\":26,\"1276\":26,\"1277\":26,\"1278\":26,\"1279\":26,\"1280\":26,\"1281\":26,\"1282\":26,\"1283\":26,\"1284\":26,\"1285\":26,\"1286\":26,\"1287\":26,\"1288\":26,\"1289\":26,\"1290\":26,\"1291\":26,\"1292\":26,\"1293\":26,\"1294\":26,\"1295\":26,\"1296\":26,\"1297\":26,\"1298\":26,\"1299\":26,\"1300\":26,\"1301\":26,\"1302\":26,\"1303\":26,\"1304\":26,\"1305\":26,\"1306\":26,\"1307\":26,\"1308\":26,\"1309\":26,\"1310\":26,\"1311\":26,\"1312\":26,\"1313\":26,\"1314\":27,\"1315\":27,\"1316\":27,\"1317\":27,\"1318\":27,\"1319\":27,\"1320\":27,\"1321\":27,\"1322\":27,\"1323\":27,\"1324\":27,\"1325\":27,\"1326\":27,\"1327\":27,\"1328\":27,\"1329\":27,\"1330\":27,\"1331\":27,\"1332\":27,\"1333\":27,\"1334\":27,\"1335\":27,\"1336\":27,\"1337\":27,\"1338\":27,\"1339\":27,\"1340\":27,\"1341\":27,\"1342\":27,\"1343\":27,\"1344\":27,\"1345\":27,\"1346\":27,\"1347\":27,\"1348\":27,\"1349\":27,\"1350\":27,\"1351\":27,\"1352\":27,\"1353\":27,\"1354\":27,\"1355\":27,\"1356\":27,\"1357\":27,\"1358\":27,\"1359\":27,\"1360\":27,\"1361\":27,\"1362\":27,\"1363\":27,\"1364\":27,\"1365\":27,\"1366\":27,\"1367\":27,\"1368\":27,\"1369\":27,\"1370\":27,\"1371\":27,\"1372\":27,\"1373\":27,\"1374\":27,\"1375\":27,\"1376\":27,\"1377\":27,\"1378\":27,\"1379\":27,\"1380\":27,\"1381\":27,\"1382\":27,\"1383\":27,\"1384\":27,\"1385\":27,\"1386\":27,\"1387\":27,\"1388\":27,\"1389\":27,\"1390\":27,\"1391\":27,\"1392\":27,\"1393\":27,\"1394\":27,\"1395\":27,\"1396\":27,\"1397\":27,\"1398\":27,\"1399\":27,\"1400\":27,\"1401\":28,\"1402\":28,\"1403\":28,\"1404\":28,\"1405\":28,\"1406\":28,\"1407\":28,\"1408\":28,\"1409\":28,\"1410\":28,\"1411\":28,\"1412\":28,\"1413\":28,\"1414\":28,\"1415\":28,\"1416\":28,\"1417\":28,\"1418\":28,\"1419\":28,\"1420\":28,\"1421\":28,\"1422\":28,\"1423\":28,\"1424\":28,\"1425\":28,\"1426\":28,\"1427\":28,\"1428\":28,\"1429\":28,\"1430\":28,\"1431\":28,\"1432\":28,\"1433\":28,\"1434\":28,\"1435\":28,\"1436\":28,\"1437\":28,\"1438\":28,\"1439\":28,\"1440\":28,\"1441\":28,\"1442\":28,\"1443\":28,\"1444\":28,\"1445\":28,\"1446\":28,\"1447\":28,\"1448\":28,\"1449\":28,\"1450\":28,\"1451\":28,\"1452\":28,\"1453\":28,\"1454\":28,\"1455\":28,\"1456\":28,\"1457\":28,\"1458\":28,\"1459\":28,\"1460\":28,\"1461\":28,\"1462\":28,\"1463\":28,\"1464\":28,\"1465\":28,\"1466\":28,\"1467\":28,\"1468\":28,\"1469\":28,\"1470\":28,\"1471\":28,\"1472\":28,\"1473\":28,\"1474\":28,\"1475\":28,\"1476\":28,\"1477\":28,\"1478\":28,\"1479\":28,\"1480\":28,\"1481\":28,\"1482\":28,\"1483\":29,\"1484\":29,\"1485\":29,\"1486\":29,\"1487\":29,\"1488\":29,\"1489\":29,\"1490\":29,\"1491\":29,\"1492\":29,\"1493\":29,\"1494\":29,\"1495\":29,\"1496\":29,\"1497\":29,\"1498\":29,\"1499\":29,\"1500\":29,\"1501\":29,\"1502\":29,\"1503\":29,\"1504\":29,\"1505\":29,\"1506\":29,\"1507\":29,\"1508\":29,\"1509\":29,\"1510\":29,\"1511\":29,\"1512\":29,\"1513\":29,\"1514\":29,\"1515\":29,\"1516\":29,\"1517\":29,\"1518\":29,\"1519\":29,\"1520\":29,\"1521\":29,\"1522\":29,\"1523\":29,\"1524\":29,\"1525\":29,\"1526\":29,\"1527\":29,\"1528\":29,\"1529\":29,\"1530\":29,\"1531\":29,\"1532\":29,\"1533\":29,\"1534\":29,\"1535\":29,\"1536\":29,\"1537\":29,\"1538\":29,\"1539\":29,\"1540\":29,\"1541\":29,\"1542\":29,\"1543\":29,\"1544\":29,\"1545\":29,\"1546\":29,\"1547\":29,\"1548\":29,\"1549\":29,\"1550\":29,\"1551\":29,\"1552\":29,\"1553\":29,\"1554\":29,\"1555\":29,\"1556\":29,\"1557\":29,\"1558\":29,\"1559\":29,\"1560\":29,\"1561\":29,\"1562\":29,\"1563\":29,\"1564\":29,\"1565\":29,\"1566\":29,\"1567\":29,\"1568\":29,\"1569\":29,\"1570\":29,\"1571\":29,\"1572\":29,\"1573\":29,\"1574\":29,\"1575\":29,\"1576\":29,\"1577\":29,\"1578\":29,\"1579\":29,\"1580\":29,\"1581\":29,\"1582\":29,\"1583\":29,\"1584\":29,\"1585\":29,\"1586\":29,\"1587\":29,\"1588\":29,\"1589\":29,\"1590\":29,\"1591\":29,\"1592\":29,\"1593\":29,\"1594\":29,\"1595\":29,\"1596\":29,\"1597\":29,\"1598\":30,\"1599\":30,\"1600\":30,\"1601\":30,\"1602\":30,\"1603\":30,\"1604\":30,\"1605\":30,\"1606\":30,\"1607\":30,\"1608\":30,\"1609\":30,\"1610\":30,\"1611\":30,\"1612\":30,\"1613\":30,\"1614\":30,\"1615\":30,\"1616\":30,\"1617\":30,\"1618\":30,\"1619\":30,\"1620\":30,\"1621\":30,\"1622\":30,\"1623\":30,\"1624\":30,\"1625\":30,\"1626\":30,\"1627\":30,\"1628\":30,\"1629\":30,\"1630\":30,\"1631\":30,\"1632\":30,\"1633\":30,\"1634\":30,\"1635\":30,\"1636\":30,\"1637\":30,\"1638\":30,\"1639\":30,\"1640\":30,\"1641\":30,\"1642\":30,\"1643\":30,\"1644\":30,\"1645\":30,\"1646\":30,\"1647\":30,\"1648\":30,\"1649\":30,\"1650\":30,\"1651\":30,\"1652\":30,\"1653\":30,\"1654\":31,\"1655\":31,\"1656\":31,\"1657\":31,\"1658\":31,\"1659\":31,\"1660\":31,\"1661\":31,\"1662\":31,\"1663\":31,\"1664\":31,\"1665\":31,\"1666\":31,\"1667\":31,\"1668\":31,\"1669\":31,\"1670\":31,\"1671\":31,\"1672\":31,\"1673\":31,\"1674\":31,\"1675\":31,\"1676\":31,\"1677\":31,\"1678\":31,\"1679\":31,\"1680\":31,\"1681\":31,\"1682\":31,\"1683\":31,\"1684\":31,\"1685\":31,\"1686\":31,\"1687\":31,\"1688\":31,\"1689\":31,\"1690\":31,\"1691\":31,\"1692\":31,\"1693\":31,\"1694\":31,\"1695\":31,\"1696\":31,\"1697\":31,\"1698\":31,\"1699\":31,\"1700\":31,\"1701\":31,\"1702\":31,\"1703\":31,\"1704\":31,\"1705\":31,\"1706\":31,\"1707\":31,\"1708\":31,\"1709\":31,\"1710\":31,\"1711\":31,\"1712\":31,\"1713\":31,\"1714\":31,\"1715\":31,\"1716\":31,\"1717\":31,\"1718\":31,\"1719\":31,\"1720\":31,\"1721\":31,\"1722\":31,\"1723\":31,\"1724\":31,\"1725\":31,\"1726\":31,\"1727\":31,\"1728\":31,\"1729\":31,\"1730\":31,\"1731\":31,\"1732\":31,\"1733\":31,\"1734\":31,\"1735\":31,\"1736\":31,\"1737\":31,\"1738\":31,\"1739\":31,\"1740\":31,\"1741\":31,\"1742\":31,\"1743\":31,\"1744\":31,\"1745\":31,\"1746\":31,\"1747\":32,\"1748\":32,\"1749\":32,\"1750\":32,\"1751\":32,\"1752\":32,\"1753\":32,\"1754\":32,\"1755\":32,\"1756\":32,\"1757\":32,\"1758\":32,\"1759\":32,\"1760\":32,\"1761\":32,\"1762\":32,\"1763\":32,\"1764\":33,\"1765\":33,\"1766\":33,\"1767\":33,\"1768\":33,\"1769\":33,\"1770\":33,\"1771\":33,\"1772\":33,\"1773\":33,\"1774\":34,\"1775\":34,\"1776\":34,\"1777\":34,\"1778\":34,\"1779\":34,\"1780\":34,\"1781\":34,\"1782\":34,\"1783\":34,\"1784\":34,\"1785\":34,\"1786\":34,\"1787\":34,\"1788\":34,\"1789\":34,\"1790\":34,\"1791\":34,\"1792\":34,\"1793\":34,\"1794\":34,\"1795\":35,\"1796\":35,\"1797\":35,\"1798\":35,\"1799\":35,\"1800\":35,\"1801\":35,\"1802\":35,\"1803\":35,\"1804\":35,\"1805\":35,\"1806\":35,\"1807\":35,\"1808\":35,\"1809\":35,\"1810\":35,\"1811\":35,\"1812\":35,\"1813\":35,\"1814\":35,\"1815\":35,\"1816\":35,\"1817\":35,\"1818\":35,\"1819\":35,\"1820\":35,\"1821\":35,\"1822\":35,\"1823\":35,\"1824\":35,\"1825\":35,\"1826\":35,\"1827\":35,\"1828\":36,\"1829\":36,\"1830\":36,\"1831\":36,\"1832\":36,\"1833\":36,\"1834\":36,\"1835\":36,\"1836\":36,\"1837\":36,\"1838\":36,\"1839\":36,\"1840\":36,\"1841\":36,\"1842\":36,\"1843\":36,\"1844\":36,\"1845\":36,\"1846\":36,\"1847\":36,\"1848\":36,\"1849\":36,\"1850\":36,\"1851\":36,\"1852\":36,\"1853\":36,\"1854\":36,\"1855\":36,\"1856\":36,\"1857\":36,\"1858\":36,\"1859\":36,\"1860\":36,\"1861\":36,\"1862\":36,\"1863\":36,\"1864\":36,\"1865\":36,\"1866\":36,\"1867\":36,\"1868\":36,\"1869\":36,\"1870\":36,\"1871\":36,\"1872\":36,\"1873\":36,\"1874\":36,\"1875\":36,\"1876\":36,\"1877\":36,\"1878\":36,\"1879\":36,\"1880\":36,\"1881\":36,\"1882\":36,\"1883\":36,\"1884\":36,\"1885\":36,\"1886\":36,\"1887\":36,\"1888\":36,\"1889\":36,\"1890\":37,\"1891\":37,\"1892\":37,\"1893\":37,\"1894\":37,\"1895\":37,\"1896\":37,\"1897\":37,\"1898\":37,\"1899\":37,\"1900\":37,\"1901\":37,\"1902\":37,\"1903\":37,\"1904\":37,\"1905\":37,\"1906\":37,\"1907\":37,\"1908\":37,\"1909\":37,\"1910\":37,\"1911\":37,\"1912\":37,\"1913\":37,\"1914\":37,\"1915\":37,\"1916\":37,\"1917\":37,\"1918\":37,\"1919\":37,\"1920\":37,\"1921\":37,\"1922\":37,\"1923\":37,\"1924\":37,\"1925\":37,\"1926\":37,\"1927\":37,\"1928\":37,\"1929\":37,\"1930\":37,\"1931\":37,\"1932\":37,\"1933\":37,\"1934\":37,\"1935\":37,\"1936\":37,\"1937\":37,\"1938\":37,\"1939\":37,\"1940\":37,\"1941\":37,\"1942\":37,\"1943\":37,\"1944\":37,\"1945\":37,\"1946\":37,\"1947\":37,\"1948\":37,\"1949\":37,\"1950\":37,\"1951\":37,\"1952\":37,\"1953\":37,\"1954\":37,\"1955\":37,\"1956\":37,\"1957\":37,\"1958\":37,\"1959\":37,\"1960\":37,\"1961\":37,\"1962\":37,\"1963\":37,\"1964\":37,\"1965\":37,\"1966\":37,\"1967\":37,\"1968\":37,\"1969\":37,\"1970\":37,\"1971\":37,\"1972\":37,\"1973\":37,\"1974\":37,\"1975\":37,\"1976\":37,\"1977\":37,\"1978\":37,\"1979\":37,\"1980\":37,\"1981\":37,\"1982\":37,\"1983\":37,\"1984\":37,\"1985\":37,\"1986\":37,\"1987\":37,\"1988\":37,\"1989\":37,\"1990\":38,\"1991\":38,\"1992\":38,\"1993\":38,\"1994\":38,\"1995\":38,\"1996\":38,\"1997\":38,\"1998\":38,\"1999\":38,\"2000\":38,\"2001\":38,\"2002\":38,\"2003\":38,\"2004\":38,\"2005\":38,\"2006\":38,\"2007\":38,\"2008\":38,\"2009\":38,\"2010\":38,\"2011\":38,\"2012\":38,\"2013\":38,\"2014\":38,\"2015\":38,\"2016\":38,\"2017\":38,\"2018\":38,\"2019\":38,\"2020\":38,\"2021\":38,\"2022\":38,\"2023\":38,\"2024\":38,\"2025\":38,\"2026\":38,\"2027\":38,\"2028\":38,\"2029\":38,\"2030\":38,\"2031\":38,\"2032\":38,\"2033\":38,\"2034\":38,\"2035\":38,\"2036\":38,\"2037\":38,\"2038\":38,\"2039\":38,\"2040\":38,\"2041\":38,\"2042\":38,\"2043\":39,\"2044\":39,\"2045\":39,\"2046\":39,\"2047\":39,\"2048\":39,\"2049\":39,\"2050\":39,\"2051\":39,\"2052\":39,\"2053\":39,\"2054\":39,\"2055\":39,\"2056\":39,\"2057\":39,\"2058\":39,\"2059\":39,\"2060\":39,\"2061\":39,\"2062\":39,\"2063\":39,\"2064\":39,\"2065\":39,\"2066\":39,\"2067\":39,\"2068\":39,\"2069\":39,\"2070\":39,\"2071\":39,\"2072\":39,\"2073\":39,\"2074\":39,\"2075\":39,\"2076\":39,\"2077\":39,\"2078\":39,\"2079\":39,\"2080\":39,\"2081\":39,\"2082\":39,\"2083\":39,\"2084\":39,\"2085\":39,\"2086\":39,\"2087\":39,\"2088\":39,\"2089\":39,\"2090\":39,\"2091\":39,\"2092\":39,\"2093\":39,\"2094\":39,\"2095\":39,\"2096\":39,\"2097\":39,\"2098\":39,\"2099\":39,\"2100\":39,\"2101\":39,\"2102\":39,\"2103\":39,\"2104\":39,\"2105\":39,\"2106\":39,\"2107\":39,\"2108\":39,\"2109\":39,\"2110\":39,\"2111\":39,\"2112\":39,\"2113\":39,\"2114\":39,\"2115\":39,\"2116\":39,\"2117\":39,\"2118\":39,\"2119\":39,\"2120\":39,\"2121\":39,\"2122\":39,\"2123\":39,\"2124\":39,\"2125\":39,\"2126\":39,\"2127\":39,\"2128\":39,\"2129\":39,\"2130\":39,\"2131\":40,\"2132\":40,\"2133\":40,\"2134\":40,\"2135\":40,\"2136\":40,\"2137\":40,\"2138\":40,\"2139\":40,\"2140\":40,\"2141\":40,\"2142\":40,\"2143\":40,\"2144\":40,\"2145\":40,\"2146\":40,\"2147\":40,\"2148\":40,\"2149\":40,\"2150\":40,\"2151\":40,\"2152\":40,\"2153\":40,\"2154\":40,\"2155\":40,\"2156\":40,\"2157\":40,\"2158\":40,\"2159\":40,\"2160\":40,\"2161\":40,\"2162\":40,\"2163\":40,\"2164\":40,\"2165\":40,\"2166\":40,\"2167\":40,\"2168\":40,\"2169\":40,\"2170\":40,\"2171\":40,\"2172\":40,\"2173\":40,\"2174\":40,\"2175\":40,\"2176\":40,\"2177\":40,\"2178\":40,\"2179\":40,\"2180\":40,\"2181\":40,\"2182\":40,\"2183\":40,\"2184\":40,\"2185\":40,\"2186\":40,\"2187\":40,\"2188\":40,\"2189\":40,\"2190\":40,\"2191\":40,\"2192\":40,\"2193\":40,\"2194\":40,\"2195\":40,\"2196\":40,\"2197\":40,\"2198\":40,\"2199\":40,\"2200\":40,\"2201\":40,\"2202\":40,\"2203\":40,\"2204\":40,\"2205\":40,\"2206\":40,\"2207\":40,\"2208\":41,\"2209\":41,\"2210\":41,\"2211\":41,\"2212\":41,\"2213\":41,\"2214\":41,\"2215\":41,\"2216\":41,\"2217\":41,\"2218\":41,\"2219\":41,\"2220\":41,\"2221\":41,\"2222\":41,\"2223\":41,\"2224\":41,\"2225\":41,\"2226\":41,\"2227\":41,\"2228\":41,\"2229\":41,\"2230\":41,\"2231\":41,\"2232\":41,\"2233\":41,\"2234\":41,\"2235\":41,\"2236\":41,\"2237\":41,\"2238\":41,\"2239\":41,\"2240\":41,\"2241\":41,\"2242\":41,\"2243\":41,\"2244\":42,\"2245\":42,\"2246\":42,\"2247\":42,\"2248\":42,\"2249\":42,\"2250\":42,\"2251\":42,\"2252\":42,\"2253\":42,\"2254\":42,\"2255\":42,\"2256\":42,\"2257\":42,\"2258\":42,\"2259\":42,\"2260\":42,\"2261\":42,\"2262\":42,\"2263\":42,\"2264\":42,\"2265\":42,\"2266\":42,\"2267\":42,\"2268\":42,\"2269\":42,\"2270\":42,\"2271\":42,\"2272\":42,\"2273\":42,\"2274\":42,\"2275\":42,\"2276\":42,\"2277\":42,\"2278\":42,\"2279\":42,\"2280\":42,\"2281\":42,\"2282\":42,\"2283\":42,\"2284\":42,\"2285\":42,\"2286\":42,\"2287\":42,\"2288\":42,\"2289\":42,\"2290\":42,\"2291\":42,\"2292\":42,\"2293\":42,\"2294\":42,\"2295\":42,\"2296\":42,\"2297\":42,\"2298\":42,\"2299\":42,\"2300\":42,\"2301\":42,\"2302\":42,\"2303\":42,\"2304\":42,\"2305\":42,\"2306\":42,\"2307\":42,\"2308\":42,\"2309\":42,\"2310\":42,\"2311\":44,\"2312\":44,\"2313\":44,\"2314\":44,\"2315\":44,\"2316\":45,\"2317\":45,\"2318\":45,\"2319\":45,\"2320\":45,\"2321\":45,\"2322\":45,\"2323\":45,\"2324\":45,\"2325\":45,\"2326\":45,\"2327\":45,\"2328\":45,\"2329\":45,\"2330\":45,\"2331\":45,\"2332\":45,\"2333\":45,\"2334\":45,\"2335\":45,\"2336\":45,\"2337\":45,\"2338\":45,\"2339\":45,\"2340\":45,\"2341\":45,\"2342\":45,\"2343\":45,\"2344\":45,\"2345\":45,\"2346\":45,\"2347\":45,\"2348\":45,\"2349\":45,\"2350\":45,\"2351\":45,\"2352\":45,\"2353\":45,\"2354\":45,\"2355\":45,\"2356\":45,\"2357\":45,\"2358\":45,\"2359\":45,\"2360\":45,\"2361\":45,\"2362\":46,\"2363\":46,\"2364\":46,\"2365\":46,\"2366\":46,\"2367\":46,\"2368\":46,\"2369\":46,\"2370\":46,\"2371\":46,\"2372\":46,\"2373\":46,\"2374\":46,\"2375\":46,\"2376\":46,\"2377\":46,\"2378\":46,\"2379\":46,\"2380\":46,\"2381\":46,\"2382\":46,\"2383\":46,\"2384\":46,\"2385\":46,\"2386\":46,\"2387\":46,\"2388\":46,\"2389\":46,\"2390\":46,\"2391\":46,\"2392\":46,\"2393\":46,\"2394\":46,\"2395\":46,\"2396\":46,\"2397\":46,\"2398\":46,\"2399\":46,\"2400\":46,\"2401\":46,\"2402\":46,\"2403\":46,\"2404\":46,\"2405\":46,\"2406\":46,\"2407\":46,\"2408\":46,\"2409\":46,\"2410\":46,\"2411\":46,\"2412\":46,\"2413\":46,\"2414\":46,\"2415\":46,\"2416\":46,\"2417\":46,\"2418\":46,\"2419\":46,\"2420\":46,\"2421\":46,\"2422\":46,\"2423\":46,\"2424\":46,\"2425\":46,\"2426\":46,\"2427\":46,\"2428\":47,\"2429\":47,\"2430\":47,\"2431\":47,\"2432\":47,\"2433\":47,\"2434\":47,\"2435\":47,\"2436\":47,\"2437\":47,\"2438\":47,\"2439\":47,\"2440\":47,\"2441\":47,\"2442\":47,\"2443\":47,\"2444\":47,\"2445\":47,\"2446\":47,\"2447\":47,\"2448\":47,\"2449\":47,\"2450\":47,\"2451\":47,\"2452\":47,\"2453\":47,\"2454\":47,\"2455\":47,\"2456\":47,\"2457\":47,\"2458\":47,\"2459\":47,\"2460\":47,\"2461\":47,\"2462\":47,\"2463\":47,\"2464\":47,\"2465\":47,\"2466\":47,\"2467\":47,\"2468\":47,\"2469\":47,\"2470\":47,\"2471\":47,\"2472\":47,\"2473\":47,\"2474\":47,\"2475\":47,\"2476\":47,\"2477\":47,\"2478\":47,\"2479\":47,\"2480\":47,\"2481\":47,\"2482\":47,\"2483\":47,\"2484\":47,\"2485\":47,\"2486\":47,\"2487\":47,\"2488\":47,\"2489\":47,\"2490\":47,\"2491\":47,\"2492\":47,\"2493\":47,\"2494\":47,\"2495\":47,\"2496\":47,\"2497\":47,\"2498\":47,\"2499\":47,\"2500\":47,\"2501\":47,\"2502\":47,\"2503\":47,\"2504\":47,\"2505\":47,\"2506\":47,\"2507\":47,\"2508\":47,\"2509\":47,\"2510\":47,\"2511\":47,\"2512\":47,\"2513\":47,\"2514\":47,\"2515\":47,\"2516\":47,\"2517\":47,\"2518\":47,\"2519\":47,\"2520\":47,\"2521\":47,\"2522\":47,\"2523\":48,\"2524\":48,\"2525\":48,\"2526\":48,\"2527\":48,\"2528\":48,\"2529\":48,\"2530\":48,\"2531\":48,\"2532\":48,\"2533\":48,\"2534\":48,\"2535\":48,\"2536\":48,\"2537\":48,\"2538\":48,\"2539\":48,\"2540\":48,\"2541\":48,\"2542\":48,\"2543\":48,\"2544\":48,\"2545\":48,\"2546\":48,\"2547\":48,\"2548\":48,\"2549\":48,\"2550\":48,\"2551\":48,\"2552\":48,\"2553\":48,\"2554\":48,\"2555\":48,\"2556\":48,\"2557\":48,\"2558\":48,\"2559\":48,\"2560\":48,\"2561\":48,\"2562\":48,\"2563\":48,\"2564\":48,\"2565\":48,\"2566\":48,\"2567\":48,\"2568\":48,\"2569\":48,\"2570\":48,\"2571\":48,\"2572\":48,\"2573\":48,\"2574\":48,\"2575\":48,\"2576\":48,\"2577\":48,\"2578\":48,\"2579\":48,\"2580\":48,\"2581\":48,\"2582\":48,\"2583\":48,\"2584\":48,\"2585\":48,\"2586\":48,\"2587\":48,\"2588\":48,\"2589\":48,\"2590\":48,\"2591\":48,\"2592\":48,\"2593\":48,\"2594\":48,\"2595\":48,\"2596\":48,\"2597\":48,\"2598\":48,\"2599\":48,\"2600\":48,\"2601\":48,\"2602\":48,\"2603\":48,\"2604\":48,\"2605\":48,\"2606\":48,\"2607\":48,\"2608\":48,\"2609\":48,\"2610\":48,\"2611\":48,\"2612\":48,\"2613\":48,\"2614\":48,\"2615\":48,\"2616\":48,\"2617\":48,\"2618\":48,\"2619\":48,\"2620\":48,\"2621\":48,\"2622\":48,\"2623\":48,\"2624\":48,\"2625\":48,\"2626\":48,\"2627\":48,\"2628\":48,\"2629\":48,\"2630\":48,\"2631\":48,\"2632\":48,\"2633\":48,\"2634\":48,\"2635\":48,\"2636\":48,\"2637\":48,\"2638\":48,\"2639\":48,\"2640\":48,\"2641\":48,\"2642\":48,\"2643\":48,\"2644\":48,\"2645\":48,\"2646\":48,\"2647\":48,\"2648\":48,\"2649\":48,\"2650\":48,\"2651\":48,\"2652\":48,\"2653\":48,\"2654\":48,\"2655\":48,\"2656\":48,\"2657\":48,\"2658\":48,\"2659\":48,\"2660\":48,\"2661\":48,\"2662\":48,\"2663\":48,\"2664\":48,\"2665\":48,\"2666\":48,\"2667\":48,\"2668\":48,\"2669\":48,\"2670\":48,\"2671\":48,\"2672\":48,\"2673\":48,\"2674\":48,\"2675\":48,\"2676\":48,\"2677\":48,\"2678\":48,\"2679\":48,\"2680\":48,\"2681\":48,\"2682\":48,\"2683\":48,\"2684\":48,\"2685\":48,\"2686\":48,\"2687\":48,\"2688\":48,\"2689\":48,\"2690\":48,\"2691\":48,\"2692\":48,\"2693\":48,\"2694\":48,\"2695\":48,\"2696\":48,\"2697\":48,\"2698\":48,\"2699\":48,\"2700\":48,\"2701\":48,\"2702\":48,\"2703\":48,\"2704\":48,\"2705\":48,\"2706\":48,\"2707\":48,\"2708\":48,\"2709\":48,\"2710\":48,\"2711\":48,\"2712\":48,\"2713\":48,\"2714\":48,\"2715\":48,\"2716\":48,\"2717\":48,\"2718\":48,\"2719\":48,\"2720\":48,\"2721\":48,\"2722\":48,\"2723\":48,\"2724\":48,\"2725\":48,\"2726\":48,\"2727\":48,\"2728\":48,\"2729\":48,\"2730\":48,\"2731\":48,\"2732\":48,\"2733\":48,\"2734\":48,\"2735\":48,\"2736\":48,\"2737\":48,\"2738\":48,\"2739\":48,\"2740\":48,\"2741\":48,\"2742\":48,\"2743\":48,\"2744\":48,\"2745\":48,\"2746\":48,\"2747\":48,\"2748\":48,\"2749\":48,\"2750\":48,\"2751\":48,\"2752\":48,\"2753\":48,\"2754\":48,\"2755\":48,\"2756\":48,\"2757\":48,\"2758\":48,\"2759\":48,\"2760\":48,\"2761\":48,\"2762\":48,\"2763\":48,\"2764\":48,\"2765\":48,\"2766\":48,\"2767\":48,\"2768\":48,\"2769\":48,\"2770\":48,\"2771\":48,\"2772\":48,\"2773\":48,\"2774\":48,\"2775\":48,\"2776\":48,\"2777\":49,\"2778\":49,\"2779\":49,\"2780\":49,\"2781\":49,\"2782\":49,\"2783\":49,\"2784\":49,\"2785\":49,\"2786\":49,\"2787\":49,\"2788\":49,\"2789\":49,\"2790\":49,\"2791\":49,\"2792\":49,\"2793\":49,\"2794\":49,\"2795\":49,\"2796\":49,\"2797\":49,\"2798\":49,\"2799\":49,\"2800\":49,\"2801\":49,\"2802\":49,\"2803\":49,\"2804\":49,\"2805\":49,\"2806\":50,\"2807\":50,\"2808\":50,\"2809\":50,\"2810\":50,\"2811\":50,\"2812\":50,\"2813\":50,\"2814\":50,\"2815\":50,\"2816\":50,\"2817\":50,\"2818\":50,\"2819\":50,\"2820\":51,\"2821\":51,\"2822\":51,\"2823\":51,\"2824\":51,\"2825\":51,\"2826\":51,\"2827\":51,\"2828\":51,\"2829\":51,\"2830\":51,\"2831\":51,\"2832\":51,\"2833\":51,\"2834\":51,\"2835\":51,\"2836\":51,\"2837\":51,\"2838\":51,\"2839\":51,\"2840\":51,\"2841\":51,\"2842\":51,\"2843\":51,\"2844\":51,\"2845\":51,\"2846\":51,\"2847\":51,\"2848\":51,\"2849\":51,\"2850\":51,\"2851\":51,\"2852\":51,\"2853\":51,\"2854\":51,\"2855\":51,\"2856\":51,\"2857\":51,\"2858\":51,\"2859\":51,\"2860\":51,\"2861\":51,\"2862\":51,\"2863\":51,\"2864\":51,\"2865\":51,\"2866\":51,\"2867\":51,\"2868\":51,\"2869\":51,\"2870\":51,\"2871\":51,\"2872\":51,\"2873\":51,\"2874\":51,\"2875\":51,\"2876\":51,\"2877\":51,\"2878\":51,\"2879\":51,\"2880\":51,\"2881\":51,\"2882\":51,\"2883\":51,\"2884\":51,\"2885\":51,\"2886\":51,\"2887\":51,\"2888\":51,\"2889\":51,\"2890\":51,\"2891\":51,\"2892\":51,\"2893\":51,\"2894\":51,\"2895\":51,\"2896\":51,\"2897\":51,\"2898\":51,\"2899\":51,\"2900\":51,\"2901\":51,\"2902\":51,\"2903\":51,\"2904\":51,\"2905\":51,\"2906\":51,\"2907\":51,\"2908\":51,\"2909\":51,\"2910\":51,\"2911\":51,\"2912\":51,\"2913\":51,\"2914\":51,\"2915\":51,\"2916\":51,\"2917\":51,\"2918\":51,\"2919\":51,\"2920\":51,\"2921\":51,\"2922\":51,\"2923\":51,\"2924\":51,\"2925\":51,\"2926\":51,\"2927\":51,\"2928\":51,\"2929\":51,\"2930\":51,\"2931\":51,\"2932\":51,\"2933\":51,\"2934\":51,\"2935\":51,\"2936\":51,\"2937\":51,\"2938\":51,\"2939\":51,\"2940\":51,\"2941\":51,\"2942\":51,\"2943\":51,\"2944\":51,\"2945\":51,\"2946\":51,\"2947\":51,\"2948\":51,\"2949\":51,\"2950\":51,\"2951\":51,\"2952\":51,\"2953\":51,\"2954\":53,\"2955\":53,\"2956\":53,\"2957\":53,\"2958\":53,\"2959\":53,\"2960\":53,\"2961\":53,\"2962\":53,\"2963\":53,\"2964\":53,\"2965\":53,\"2966\":53,\"2967\":53,\"2968\":53,\"2969\":53,\"2970\":53,\"2971\":53,\"2972\":53,\"2973\":53,\"2974\":53,\"2975\":53,\"2976\":53,\"2977\":53,\"2978\":53,\"2979\":53,\"2980\":53,\"2981\":53,\"2982\":53,\"2983\":53,\"2984\":53,\"2985\":53,\"2986\":53,\"2987\":53,\"2988\":53,\"2989\":53,\"2990\":53,\"2991\":53,\"2992\":53,\"2993\":54,\"2994\":54,\"2995\":54,\"2996\":54,\"2997\":54,\"2998\":54,\"2999\":54,\"3000\":54,\"3001\":54,\"3002\":54,\"3003\":54,\"3004\":54,\"3005\":54,\"3006\":54,\"3007\":54,\"3008\":54,\"3009\":54,\"3010\":54,\"3011\":54,\"3012\":54,\"3013\":54,\"3014\":54,\"3015\":54,\"3016\":54,\"3017\":54,\"3018\":54,\"3019\":54,\"3020\":54,\"3021\":54,\"3022\":54,\"3023\":54,\"3024\":54,\"3025\":54,\"3026\":54,\"3027\":54,\"3028\":54,\"3029\":54,\"3030\":54,\"3031\":54,\"3032\":54,\"3033\":54,\"3034\":54,\"3035\":54,\"3036\":54,\"3037\":54,\"3038\":54,\"3039\":54,\"3040\":54,\"3041\":54,\"3042\":54,\"3043\":54,\"3044\":54,\"3045\":54,\"3046\":54,\"3047\":54,\"3048\":55,\"3049\":55,\"3050\":55,\"3051\":55,\"3052\":55,\"3053\":55,\"3054\":55,\"3055\":55,\"3056\":55,\"3057\":55,\"3058\":55,\"3059\":55,\"3060\":55,\"3061\":55,\"3062\":55,\"3063\":55,\"3064\":55,\"3065\":55,\"3066\":55,\"3067\":55,\"3068\":55,\"3069\":55,\"3070\":55,\"3071\":55,\"3072\":55,\"3073\":55,\"3074\":55,\"3075\":55,\"3076\":55,\"3077\":55,\"3078\":55,\"3079\":55,\"3080\":55,\"3081\":55,\"3082\":55,\"3083\":55,\"3084\":55,\"3085\":55,\"3086\":55,\"3087\":55,\"3088\":55,\"3089\":55,\"3090\":55,\"3091\":55,\"3092\":55,\"3093\":55,\"3094\":55,\"3095\":55,\"3096\":55,\"3097\":55,\"3098\":55,\"3099\":55,\"3100\":55,\"3101\":55,\"3102\":55,\"3103\":55,\"3104\":55,\"3105\":55,\"3106\":55,\"3107\":55,\"3108\":55,\"3109\":55,\"3110\":55,\"3111\":55,\"3112\":55,\"3113\":55,\"3114\":55,\"3115\":55,\"3116\":55,\"3117\":55,\"3118\":55,\"3119\":55,\"3120\":56,\"3121\":56,\"3122\":56,\"3123\":56,\"3124\":56,\"3125\":56,\"3126\":56,\"3127\":56,\"3128\":56,\"3129\":56,\"3130\":56,\"3131\":56,\"3132\":56,\"3133\":56,\"3134\":56,\"3135\":56,\"3136\":56,\"3137\":56,\"3138\":56,\"3139\":56,\"3140\":56,\"3141\":56,\"3142\":56,\"3143\":60,\"3144\":60,\"3145\":60,\"3146\":60,\"3147\":60,\"3148\":66,\"3149\":69,\"3150\":69,\"3151\":69,\"3152\":69,\"3153\":72,\"3154\":72,\"3155\":72,\"3156\":72,\"3157\":72,\"3158\":72,\"3159\":72,\"3160\":72,\"3161\":72,\"3162\":72,\"3163\":72,\"3164\":72,\"3165\":72,\"3166\":72,\"3167\":72,\"3168\":72,\"3169\":72,\"3170\":72,\"3171\":72,\"3172\":72,\"3173\":72,\"3174\":72,\"3175\":72,\"3176\":72,\"3177\":72,\"3178\":72,\"3179\":72,\"3180\":72,\"3181\":72,\"3182\":72,\"3183\":72,\"3184\":72,\"3185\":72,\"3186\":72,\"3187\":72,\"3188\":72,\"3189\":72,\"3190\":72,\"3191\":72,\"3192\":72,\"3193\":72,\"3194\":72,\"3195\":72,\"3196\":72,\"3197\":72,\"3198\":72,\"3199\":72,\"3200\":72,\"3201\":72,\"3202\":72,\"3203\":72,\"3204\":72,\"3205\":72,\"3206\":72,\"3207\":72,\"3208\":72,\"3209\":72,\"3210\":72,\"3211\":72,\"3212\":72,\"3213\":72,\"3214\":72,\"3215\":72,\"3216\":72,\"3217\":72,\"3218\":72,\"3219\":72,\"3220\":72,\"3221\":72,\"3222\":72,\"3223\":72,\"3224\":72,\"3225\":72,\"3226\":72,\"3227\":72,\"3228\":72,\"3229\":72,\"3230\":72,\"3231\":74,\"3232\":78,\"3233\":78,\"3234\":78},\"fips\":{\"0\":1,\"1\":3,\"2\":5,\"3\":7,\"4\":9,\"5\":11,\"6\":13,\"7\":15,\"8\":17,\"9\":19,\"10\":21,\"11\":23,\"12\":25,\"13\":27,\"14\":29,\"15\":31,\"16\":33,\"17\":35,\"18\":37,\"19\":39,\"20\":41,\"21\":43,\"22\":45,\"23\":47,\"24\":49,\"25\":51,\"26\":53,\"27\":55,\"28\":57,\"29\":59,\"30\":61,\"31\":63,\"32\":65,\"33\":67,\"34\":69,\"35\":71,\"36\":73,\"37\":75,\"38\":77,\"39\":79,\"40\":81,\"41\":83,\"42\":85,\"43\":87,\"44\":89,\"45\":91,\"46\":93,\"47\":95,\"48\":97,\"49\":99,\"50\":101,\"51\":103,\"52\":105,\"53\":107,\"54\":109,\"55\":111,\"56\":113,\"57\":115,\"58\":117,\"59\":119,\"60\":121,\"61\":123,\"62\":125,\"63\":127,\"64\":129,\"65\":131,\"66\":133,\"67\":13,\"68\":16,\"69\":20,\"70\":50,\"71\":60,\"72\":68,\"73\":70,\"74\":90,\"75\":100,\"76\":105,\"77\":110,\"78\":122,\"79\":130,\"80\":150,\"81\":164,\"82\":170,\"83\":180,\"84\":185,\"85\":188,\"86\":195,\"87\":198,\"88\":220,\"89\":230,\"90\":240,\"91\":261,\"92\":270,\"93\":275,\"94\":282,\"95\":290,\"96\":1,\"97\":3,\"98\":5,\"99\":7,\"100\":9,\"101\":11,\"102\":12,\"103\":13,\"104\":15,\"105\":17,\"106\":19,\"107\":21,\"108\":23,\"109\":25,\"110\":27,\"111\":1,\"112\":3,\"113\":5,\"114\":7,\"115\":9,\"116\":11,\"117\":13,\"118\":15,\"119\":17,\"120\":19,\"121\":21,\"122\":23,\"123\":25,\"124\":27,\"125\":29,\"126\":31,\"127\":33,\"128\":35,\"129\":37,\"130\":39,\"131\":41,\"132\":43,\"133\":45,\"134\":47,\"135\":49,\"136\":51,\"137\":53,\"138\":55,\"139\":57,\"140\":59,\"141\":61,\"142\":63,\"143\":65,\"144\":67,\"145\":69,\"146\":71,\"147\":73,\"148\":75,\"149\":77,\"150\":79,\"151\":81,\"152\":83,\"153\":85,\"154\":87,\"155\":89,\"156\":91,\"157\":93,\"158\":95,\"159\":97,\"160\":99,\"161\":101,\"162\":103,\"163\":105,\"164\":107,\"165\":109,\"166\":111,\"167\":113,\"168\":115,\"169\":117,\"170\":119,\"171\":121,\"172\":123,\"173\":125,\"174\":127,\"175\":129,\"176\":131,\"177\":133,\"178\":135,\"179\":137,\"180\":139,\"181\":141,\"182\":143,\"183\":145,\"184\":147,\"185\":149,\"186\":1,\"187\":3,\"188\":5,\"189\":7,\"190\":9,\"191\":11,\"192\":13,\"193\":15,\"194\":17,\"195\":19,\"196\":21,\"197\":23,\"198\":25,\"199\":27,\"200\":29,\"201\":31,\"202\":33,\"203\":35,\"204\":37,\"205\":39,\"206\":41,\"207\":43,\"208\":45,\"209\":47,\"210\":49,\"211\":51,\"212\":53,\"213\":55,\"214\":57,\"215\":59,\"216\":61,\"217\":63,\"218\":65,\"219\":67,\"220\":69,\"221\":71,\"222\":73,\"223\":75,\"224\":77,\"225\":79,\"226\":81,\"227\":83,\"228\":85,\"229\":87,\"230\":89,\"231\":91,\"232\":93,\"233\":95,\"234\":97,\"235\":99,\"236\":101,\"237\":103,\"238\":105,\"239\":107,\"240\":109,\"241\":111,\"242\":113,\"243\":115,\"244\":1,\"245\":3,\"246\":5,\"247\":7,\"248\":9,\"249\":11,\"250\":13,\"251\":14,\"252\":15,\"253\":17,\"254\":19,\"255\":21,\"256\":23,\"257\":25,\"258\":27,\"259\":29,\"260\":31,\"261\":33,\"262\":35,\"263\":37,\"264\":39,\"265\":41,\"266\":43,\"267\":45,\"268\":47,\"269\":49,\"270\":51,\"271\":53,\"272\":55,\"273\":57,\"274\":59,\"275\":61,\"276\":63,\"277\":65,\"278\":67,\"279\":69,\"280\":71,\"281\":73,\"282\":75,\"283\":77,\"284\":79,\"285\":81,\"286\":83,\"287\":85,\"288\":87,\"289\":89,\"290\":91,\"291\":93,\"292\":95,\"293\":97,\"294\":99,\"295\":101,\"296\":103,\"297\":105,\"298\":107,\"299\":109,\"300\":111,\"301\":113,\"302\":115,\"303\":117,\"304\":119,\"305\":121,\"306\":123,\"307\":125,\"308\":1,\"309\":3,\"310\":5,\"311\":7,\"312\":9,\"313\":11,\"314\":13,\"315\":15,\"316\":1,\"317\":3,\"318\":5,\"319\":1,\"320\":1,\"321\":3,\"322\":5,\"323\":7,\"324\":9,\"325\":11,\"326\":13,\"327\":15,\"328\":17,\"329\":19,\"330\":21,\"331\":23,\"332\":27,\"333\":29,\"334\":31,\"335\":33,\"336\":35,\"337\":37,\"338\":39,\"339\":41,\"340\":43,\"341\":45,\"342\":47,\"343\":49,\"344\":51,\"345\":53,\"346\":55,\"347\":57,\"348\":59,\"349\":61,\"350\":63,\"351\":65,\"352\":67,\"353\":69,\"354\":71,\"355\":73,\"356\":75,\"357\":77,\"358\":79,\"359\":81,\"360\":83,\"361\":85,\"362\":86,\"363\":87,\"364\":89,\"365\":91,\"366\":93,\"367\":95,\"368\":97,\"369\":99,\"370\":101,\"371\":103,\"372\":105,\"373\":107,\"374\":109,\"375\":111,\"376\":113,\"377\":115,\"378\":117,\"379\":119,\"380\":121,\"381\":123,\"382\":125,\"383\":127,\"384\":129,\"385\":131,\"386\":133,\"387\":1,\"388\":3,\"389\":5,\"390\":7,\"391\":9,\"392\":11,\"393\":13,\"394\":15,\"395\":17,\"396\":19,\"397\":21,\"398\":23,\"399\":25,\"400\":27,\"401\":29,\"402\":31,\"403\":33,\"404\":35,\"405\":37,\"406\":39,\"407\":43,\"408\":45,\"409\":47,\"410\":49,\"411\":51,\"412\":53,\"413\":55,\"414\":57,\"415\":59,\"416\":61,\"417\":63,\"418\":65,\"419\":67,\"420\":69,\"421\":71,\"422\":73,\"423\":75,\"424\":77,\"425\":79,\"426\":81,\"427\":83,\"428\":85,\"429\":87,\"430\":89,\"431\":91,\"432\":93,\"433\":95,\"434\":97,\"435\":99,\"436\":101,\"437\":103,\"438\":105,\"439\":107,\"440\":109,\"441\":111,\"442\":113,\"443\":115,\"444\":117,\"445\":119,\"446\":121,\"447\":123,\"448\":125,\"449\":127,\"450\":129,\"451\":131,\"452\":133,\"453\":135,\"454\":137,\"455\":139,\"456\":141,\"457\":143,\"458\":145,\"459\":147,\"460\":149,\"461\":151,\"462\":153,\"463\":155,\"464\":157,\"465\":159,\"466\":161,\"467\":163,\"468\":165,\"469\":167,\"470\":169,\"471\":171,\"472\":173,\"473\":175,\"474\":177,\"475\":179,\"476\":181,\"477\":183,\"478\":185,\"479\":187,\"480\":189,\"481\":191,\"482\":193,\"483\":195,\"484\":197,\"485\":199,\"486\":201,\"487\":205,\"488\":207,\"489\":209,\"490\":211,\"491\":213,\"492\":215,\"493\":217,\"494\":219,\"495\":221,\"496\":223,\"497\":225,\"498\":227,\"499\":229,\"500\":231,\"501\":233,\"502\":235,\"503\":237,\"504\":239,\"505\":241,\"506\":243,\"507\":245,\"508\":247,\"509\":249,\"510\":251,\"511\":253,\"512\":255,\"513\":257,\"514\":259,\"515\":261,\"516\":263,\"517\":265,\"518\":267,\"519\":269,\"520\":271,\"521\":273,\"522\":275,\"523\":277,\"524\":279,\"525\":281,\"526\":283,\"527\":285,\"528\":287,\"529\":289,\"530\":291,\"531\":293,\"532\":295,\"533\":297,\"534\":299,\"535\":301,\"536\":303,\"537\":305,\"538\":307,\"539\":309,\"540\":311,\"541\":313,\"542\":315,\"543\":317,\"544\":319,\"545\":321,\"546\":1,\"547\":3,\"548\":5,\"549\":7,\"550\":9,\"551\":1,\"552\":3,\"553\":5,\"554\":7,\"555\":9,\"556\":11,\"557\":13,\"558\":15,\"559\":17,\"560\":19,\"561\":21,\"562\":23,\"563\":25,\"564\":27,\"565\":29,\"566\":31,\"567\":33,\"568\":35,\"569\":37,\"570\":39,\"571\":41,\"572\":43,\"573\":45,\"574\":47,\"575\":49,\"576\":51,\"577\":53,\"578\":55,\"579\":57,\"580\":59,\"581\":61,\"582\":63,\"583\":65,\"584\":67,\"585\":69,\"586\":71,\"587\":73,\"588\":75,\"589\":77,\"590\":79,\"591\":81,\"592\":83,\"593\":85,\"594\":87,\"595\":1,\"596\":3,\"597\":5,\"598\":7,\"599\":9,\"600\":11,\"601\":13,\"602\":15,\"603\":17,\"604\":19,\"605\":21,\"606\":23,\"607\":25,\"608\":27,\"609\":29,\"610\":31,\"611\":33,\"612\":35,\"613\":37,\"614\":39,\"615\":41,\"616\":43,\"617\":45,\"618\":47,\"619\":49,\"620\":51,\"621\":53,\"622\":55,\"623\":57,\"624\":59,\"625\":61,\"626\":63,\"627\":65,\"628\":67,\"629\":69,\"630\":71,\"631\":73,\"632\":75,\"633\":77,\"634\":79,\"635\":81,\"636\":83,\"637\":85,\"638\":87,\"639\":89,\"640\":91,\"641\":93,\"642\":95,\"643\":97,\"644\":99,\"645\":101,\"646\":103,\"647\":105,\"648\":107,\"649\":109,\"650\":111,\"651\":113,\"652\":115,\"653\":117,\"654\":119,\"655\":121,\"656\":123,\"657\":125,\"658\":127,\"659\":129,\"660\":131,\"661\":133,\"662\":135,\"663\":137,\"664\":139,\"665\":141,\"666\":143,\"667\":145,\"668\":147,\"669\":149,\"670\":151,\"671\":153,\"672\":155,\"673\":157,\"674\":159,\"675\":161,\"676\":163,\"677\":165,\"678\":167,\"679\":169,\"680\":171,\"681\":173,\"682\":175,\"683\":177,\"684\":179,\"685\":181,\"686\":183,\"687\":185,\"688\":187,\"689\":189,\"690\":191,\"691\":193,\"692\":195,\"693\":197,\"694\":199,\"695\":201,\"696\":203,\"697\":1,\"698\":3,\"699\":5,\"700\":7,\"701\":9,\"702\":11,\"703\":13,\"704\":15,\"705\":17,\"706\":19,\"707\":21,\"708\":23,\"709\":25,\"710\":27,\"711\":29,\"712\":31,\"713\":33,\"714\":35,\"715\":37,\"716\":39,\"717\":41,\"718\":43,\"719\":45,\"720\":47,\"721\":49,\"722\":51,\"723\":53,\"724\":55,\"725\":57,\"726\":59,\"727\":61,\"728\":63,\"729\":65,\"730\":67,\"731\":69,\"732\":71,\"733\":73,\"734\":75,\"735\":77,\"736\":79,\"737\":81,\"738\":83,\"739\":85,\"740\":87,\"741\":89,\"742\":91,\"743\":93,\"744\":95,\"745\":97,\"746\":99,\"747\":101,\"748\":103,\"749\":105,\"750\":107,\"751\":109,\"752\":111,\"753\":113,\"754\":115,\"755\":117,\"756\":119,\"757\":121,\"758\":123,\"759\":125,\"760\":127,\"761\":129,\"762\":131,\"763\":133,\"764\":135,\"765\":137,\"766\":139,\"767\":141,\"768\":143,\"769\":145,\"770\":147,\"771\":149,\"772\":151,\"773\":153,\"774\":155,\"775\":157,\"776\":159,\"777\":161,\"778\":163,\"779\":165,\"780\":167,\"781\":169,\"782\":171,\"783\":173,\"784\":175,\"785\":177,\"786\":179,\"787\":181,\"788\":183,\"789\":1,\"790\":3,\"791\":5,\"792\":7,\"793\":9,\"794\":11,\"795\":13,\"796\":15,\"797\":17,\"798\":19,\"799\":21,\"800\":23,\"801\":25,\"802\":27,\"803\":29,\"804\":31,\"805\":33,\"806\":35,\"807\":37,\"808\":39,\"809\":41,\"810\":43,\"811\":45,\"812\":47,\"813\":49,\"814\":51,\"815\":53,\"816\":55,\"817\":57,\"818\":59,\"819\":61,\"820\":63,\"821\":65,\"822\":67,\"823\":69,\"824\":71,\"825\":73,\"826\":75,\"827\":77,\"828\":79,\"829\":81,\"830\":83,\"831\":85,\"832\":87,\"833\":89,\"834\":91,\"835\":93,\"836\":95,\"837\":97,\"838\":99,\"839\":101,\"840\":103,\"841\":105,\"842\":107,\"843\":109,\"844\":111,\"845\":113,\"846\":115,\"847\":117,\"848\":119,\"849\":121,\"850\":123,\"851\":125,\"852\":127,\"853\":129,\"854\":131,\"855\":133,\"856\":135,\"857\":137,\"858\":139,\"859\":141,\"860\":143,\"861\":145,\"862\":147,\"863\":149,\"864\":151,\"865\":153,\"866\":155,\"867\":157,\"868\":159,\"869\":161,\"870\":163,\"871\":165,\"872\":167,\"873\":169,\"874\":171,\"875\":173,\"876\":175,\"877\":177,\"878\":179,\"879\":181,\"880\":183,\"881\":185,\"882\":187,\"883\":189,\"884\":191,\"885\":193,\"886\":195,\"887\":197,\"888\":1,\"889\":3,\"890\":5,\"891\":7,\"892\":9,\"893\":11,\"894\":13,\"895\":15,\"896\":17,\"897\":19,\"898\":21,\"899\":23,\"900\":25,\"901\":27,\"902\":29,\"903\":31,\"904\":33,\"905\":35,\"906\":37,\"907\":39,\"908\":41,\"909\":43,\"910\":45,\"911\":47,\"912\":49,\"913\":51,\"914\":53,\"915\":55,\"916\":57,\"917\":59,\"918\":61,\"919\":63,\"920\":65,\"921\":67,\"922\":69,\"923\":71,\"924\":73,\"925\":75,\"926\":77,\"927\":79,\"928\":81,\"929\":83,\"930\":85,\"931\":87,\"932\":89,\"933\":91,\"934\":93,\"935\":95,\"936\":97,\"937\":99,\"938\":101,\"939\":103,\"940\":105,\"941\":107,\"942\":109,\"943\":111,\"944\":113,\"945\":115,\"946\":117,\"947\":119,\"948\":121,\"949\":123,\"950\":125,\"951\":127,\"952\":129,\"953\":131,\"954\":133,\"955\":135,\"956\":137,\"957\":139,\"958\":141,\"959\":143,\"960\":145,\"961\":147,\"962\":149,\"963\":151,\"964\":153,\"965\":155,\"966\":157,\"967\":159,\"968\":161,\"969\":163,\"970\":165,\"971\":167,\"972\":169,\"973\":171,\"974\":173,\"975\":175,\"976\":177,\"977\":179,\"978\":181,\"979\":183,\"980\":185,\"981\":187,\"982\":189,\"983\":191,\"984\":193,\"985\":195,\"986\":197,\"987\":199,\"988\":201,\"989\":203,\"990\":205,\"991\":207,\"992\":209,\"993\":1,\"994\":3,\"995\":5,\"996\":7,\"997\":9,\"998\":11,\"999\":13,\"1000\":15,\"1001\":17,\"1002\":19,\"1003\":21,\"1004\":23,\"1005\":25,\"1006\":27,\"1007\":29,\"1008\":31,\"1009\":33,\"1010\":35,\"1011\":37,\"1012\":39,\"1013\":41,\"1014\":43,\"1015\":45,\"1016\":47,\"1017\":49,\"1018\":51,\"1019\":53,\"1020\":55,\"1021\":57,\"1022\":59,\"1023\":61,\"1024\":63,\"1025\":65,\"1026\":67,\"1027\":69,\"1028\":71,\"1029\":73,\"1030\":75,\"1031\":77,\"1032\":79,\"1033\":81,\"1034\":83,\"1035\":85,\"1036\":87,\"1037\":89,\"1038\":91,\"1039\":93,\"1040\":95,\"1041\":97,\"1042\":99,\"1043\":101,\"1044\":103,\"1045\":105,\"1046\":107,\"1047\":109,\"1048\":111,\"1049\":113,\"1050\":115,\"1051\":117,\"1052\":119,\"1053\":121,\"1054\":123,\"1055\":125,\"1056\":127,\"1057\":129,\"1058\":131,\"1059\":133,\"1060\":135,\"1061\":137,\"1062\":139,\"1063\":141,\"1064\":143,\"1065\":145,\"1066\":147,\"1067\":149,\"1068\":151,\"1069\":153,\"1070\":155,\"1071\":157,\"1072\":159,\"1073\":161,\"1074\":163,\"1075\":165,\"1076\":167,\"1077\":169,\"1078\":171,\"1079\":173,\"1080\":175,\"1081\":177,\"1082\":179,\"1083\":181,\"1084\":183,\"1085\":185,\"1086\":187,\"1087\":189,\"1088\":191,\"1089\":193,\"1090\":195,\"1091\":197,\"1092\":199,\"1093\":201,\"1094\":203,\"1095\":205,\"1096\":207,\"1097\":209,\"1098\":211,\"1099\":213,\"1100\":215,\"1101\":217,\"1102\":219,\"1103\":221,\"1104\":223,\"1105\":225,\"1106\":227,\"1107\":229,\"1108\":231,\"1109\":233,\"1110\":235,\"1111\":237,\"1112\":239,\"1113\":1,\"1114\":3,\"1115\":5,\"1116\":7,\"1117\":9,\"1118\":11,\"1119\":13,\"1120\":15,\"1121\":17,\"1122\":19,\"1123\":21,\"1124\":23,\"1125\":25,\"1126\":27,\"1127\":29,\"1128\":31,\"1129\":33,\"1130\":35,\"1131\":37,\"1132\":39,\"1133\":41,\"1134\":43,\"1135\":45,\"1136\":47,\"1137\":49,\"1138\":51,\"1139\":53,\"1140\":55,\"1141\":57,\"1142\":59,\"1143\":61,\"1144\":63,\"1145\":65,\"1146\":67,\"1147\":69,\"1148\":71,\"1149\":73,\"1150\":75,\"1151\":77,\"1152\":79,\"1153\":81,\"1154\":83,\"1155\":85,\"1156\":87,\"1157\":89,\"1158\":91,\"1159\":93,\"1160\":95,\"1161\":97,\"1162\":99,\"1163\":101,\"1164\":103,\"1165\":105,\"1166\":107,\"1167\":109,\"1168\":111,\"1169\":113,\"1170\":115,\"1171\":117,\"1172\":119,\"1173\":121,\"1174\":123,\"1175\":125,\"1176\":127,\"1177\":1,\"1178\":3,\"1179\":5,\"1180\":7,\"1181\":9,\"1182\":11,\"1183\":13,\"1184\":15,\"1185\":17,\"1186\":19,\"1187\":21,\"1188\":23,\"1189\":25,\"1190\":27,\"1191\":29,\"1192\":31,\"1193\":1,\"1194\":3,\"1195\":5,\"1196\":9,\"1197\":11,\"1198\":13,\"1199\":15,\"1200\":17,\"1201\":19,\"1202\":21,\"1203\":23,\"1204\":25,\"1205\":27,\"1206\":29,\"1207\":31,\"1208\":33,\"1209\":35,\"1210\":37,\"1211\":39,\"1212\":41,\"1213\":43,\"1214\":45,\"1215\":47,\"1216\":510,\"1217\":1,\"1218\":3,\"1219\":5,\"1220\":7,\"1221\":9,\"1222\":11,\"1223\":13,\"1224\":15,\"1225\":17,\"1226\":19,\"1227\":21,\"1228\":23,\"1229\":25,\"1230\":27,\"1231\":1,\"1232\":3,\"1233\":5,\"1234\":7,\"1235\":9,\"1236\":11,\"1237\":13,\"1238\":15,\"1239\":17,\"1240\":19,\"1241\":21,\"1242\":23,\"1243\":25,\"1244\":27,\"1245\":29,\"1246\":31,\"1247\":33,\"1248\":35,\"1249\":37,\"1250\":39,\"1251\":41,\"1252\":43,\"1253\":45,\"1254\":47,\"1255\":49,\"1256\":51,\"1257\":53,\"1258\":55,\"1259\":57,\"1260\":59,\"1261\":61,\"1262\":63,\"1263\":65,\"1264\":67,\"1265\":69,\"1266\":71,\"1267\":73,\"1268\":75,\"1269\":77,\"1270\":79,\"1271\":81,\"1272\":83,\"1273\":85,\"1274\":87,\"1275\":89,\"1276\":91,\"1277\":93,\"1278\":95,\"1279\":97,\"1280\":99,\"1281\":101,\"1282\":103,\"1283\":105,\"1284\":107,\"1285\":109,\"1286\":111,\"1287\":113,\"1288\":115,\"1289\":117,\"1290\":119,\"1291\":121,\"1292\":123,\"1293\":125,\"1294\":127,\"1295\":129,\"1296\":131,\"1297\":133,\"1298\":135,\"1299\":137,\"1300\":139,\"1301\":141,\"1302\":143,\"1303\":145,\"1304\":147,\"1305\":149,\"1306\":151,\"1307\":153,\"1308\":155,\"1309\":157,\"1310\":159,\"1311\":161,\"1312\":163,\"1313\":165,\"1314\":1,\"1315\":3,\"1316\":5,\"1317\":7,\"1318\":9,\"1319\":11,\"1320\":13,\"1321\":15,\"1322\":17,\"1323\":19,\"1324\":21,\"1325\":23,\"1326\":25,\"1327\":27,\"1328\":29,\"1329\":31,\"1330\":33,\"1331\":35,\"1332\":37,\"1333\":39,\"1334\":41,\"1335\":43,\"1336\":45,\"1337\":47,\"1338\":49,\"1339\":51,\"1340\":53,\"1341\":55,\"1342\":57,\"1343\":59,\"1344\":61,\"1345\":63,\"1346\":65,\"1347\":67,\"1348\":69,\"1349\":71,\"1350\":73,\"1351\":75,\"1352\":77,\"1353\":79,\"1354\":81,\"1355\":83,\"1356\":85,\"1357\":87,\"1358\":89,\"1359\":91,\"1360\":93,\"1361\":95,\"1362\":97,\"1363\":99,\"1364\":101,\"1365\":103,\"1366\":105,\"1367\":107,\"1368\":109,\"1369\":111,\"1370\":113,\"1371\":115,\"1372\":117,\"1373\":119,\"1374\":121,\"1375\":123,\"1376\":125,\"1377\":127,\"1378\":129,\"1379\":131,\"1380\":133,\"1381\":135,\"1382\":137,\"1383\":139,\"1384\":141,\"1385\":143,\"1386\":145,\"1387\":147,\"1388\":149,\"1389\":151,\"1390\":153,\"1391\":155,\"1392\":157,\"1393\":159,\"1394\":161,\"1395\":163,\"1396\":165,\"1397\":167,\"1398\":169,\"1399\":171,\"1400\":173,\"1401\":1,\"1402\":3,\"1403\":5,\"1404\":7,\"1405\":9,\"1406\":11,\"1407\":13,\"1408\":15,\"1409\":17,\"1410\":19,\"1411\":21,\"1412\":23,\"1413\":25,\"1414\":27,\"1415\":29,\"1416\":31,\"1417\":33,\"1418\":35,\"1419\":37,\"1420\":39,\"1421\":41,\"1422\":43,\"1423\":45,\"1424\":47,\"1425\":49,\"1426\":51,\"1427\":53,\"1428\":55,\"1429\":57,\"1430\":59,\"1431\":61,\"1432\":63,\"1433\":65,\"1434\":67,\"1435\":69,\"1436\":71,\"1437\":73,\"1438\":75,\"1439\":77,\"1440\":79,\"1441\":81,\"1442\":83,\"1443\":85,\"1444\":87,\"1445\":89,\"1446\":91,\"1447\":93,\"1448\":95,\"1449\":97,\"1450\":99,\"1451\":101,\"1452\":103,\"1453\":105,\"1454\":107,\"1455\":109,\"1456\":111,\"1457\":113,\"1458\":115,\"1459\":117,\"1460\":119,\"1461\":121,\"1462\":123,\"1463\":125,\"1464\":127,\"1465\":129,\"1466\":131,\"1467\":133,\"1468\":135,\"1469\":137,\"1470\":139,\"1471\":141,\"1472\":143,\"1473\":145,\"1474\":147,\"1475\":149,\"1476\":151,\"1477\":153,\"1478\":155,\"1479\":157,\"1480\":159,\"1481\":161,\"1482\":163,\"1483\":1,\"1484\":3,\"1485\":5,\"1486\":7,\"1487\":9,\"1488\":11,\"1489\":13,\"1490\":15,\"1491\":17,\"1492\":19,\"1493\":21,\"1494\":23,\"1495\":25,\"1496\":27,\"1497\":29,\"1498\":31,\"1499\":33,\"1500\":35,\"1501\":37,\"1502\":39,\"1503\":41,\"1504\":43,\"1505\":45,\"1506\":47,\"1507\":49,\"1508\":51,\"1509\":53,\"1510\":55,\"1511\":57,\"1512\":59,\"1513\":61,\"1514\":63,\"1515\":65,\"1516\":67,\"1517\":69,\"1518\":71,\"1519\":73,\"1520\":75,\"1521\":77,\"1522\":79,\"1523\":81,\"1524\":83,\"1525\":85,\"1526\":87,\"1527\":89,\"1528\":91,\"1529\":93,\"1530\":95,\"1531\":97,\"1532\":99,\"1533\":101,\"1534\":103,\"1535\":105,\"1536\":107,\"1537\":109,\"1538\":111,\"1539\":113,\"1540\":115,\"1541\":117,\"1542\":119,\"1543\":121,\"1544\":123,\"1545\":125,\"1546\":127,\"1547\":129,\"1548\":131,\"1549\":133,\"1550\":135,\"1551\":137,\"1552\":139,\"1553\":141,\"1554\":143,\"1555\":145,\"1556\":147,\"1557\":149,\"1558\":151,\"1559\":153,\"1560\":155,\"1561\":157,\"1562\":159,\"1563\":161,\"1564\":163,\"1565\":165,\"1566\":167,\"1567\":169,\"1568\":171,\"1569\":173,\"1570\":175,\"1571\":177,\"1572\":179,\"1573\":181,\"1574\":183,\"1575\":185,\"1576\":186,\"1577\":187,\"1578\":189,\"1579\":195,\"1580\":197,\"1581\":199,\"1582\":201,\"1583\":203,\"1584\":205,\"1585\":207,\"1586\":209,\"1587\":211,\"1588\":213,\"1589\":215,\"1590\":217,\"1591\":219,\"1592\":221,\"1593\":223,\"1594\":225,\"1595\":227,\"1596\":229,\"1597\":510,\"1598\":1,\"1599\":3,\"1600\":5,\"1601\":7,\"1602\":9,\"1603\":11,\"1604\":13,\"1605\":15,\"1606\":17,\"1607\":19,\"1608\":21,\"1609\":23,\"1610\":25,\"1611\":27,\"1612\":29,\"1613\":31,\"1614\":33,\"1615\":35,\"1616\":37,\"1617\":39,\"1618\":41,\"1619\":43,\"1620\":45,\"1621\":47,\"1622\":49,\"1623\":51,\"1624\":53,\"1625\":55,\"1626\":57,\"1627\":59,\"1628\":61,\"1629\":63,\"1630\":65,\"1631\":67,\"1632\":69,\"1633\":71,\"1634\":73,\"1635\":75,\"1636\":77,\"1637\":79,\"1638\":81,\"1639\":83,\"1640\":85,\"1641\":87,\"1642\":89,\"1643\":91,\"1644\":93,\"1645\":95,\"1646\":97,\"1647\":99,\"1648\":101,\"1649\":103,\"1650\":105,\"1651\":107,\"1652\":109,\"1653\":111,\"1654\":1,\"1655\":3,\"1656\":5,\"1657\":7,\"1658\":9,\"1659\":11,\"1660\":13,\"1661\":15,\"1662\":17,\"1663\":19,\"1664\":21,\"1665\":23,\"1666\":25,\"1667\":27,\"1668\":29,\"1669\":31,\"1670\":33,\"1671\":35,\"1672\":37,\"1673\":39,\"1674\":41,\"1675\":43,\"1676\":45,\"1677\":47,\"1678\":49,\"1679\":51,\"1680\":53,\"1681\":55,\"1682\":57,\"1683\":59,\"1684\":61,\"1685\":63,\"1686\":65,\"1687\":67,\"1688\":69,\"1689\":71,\"1690\":73,\"1691\":75,\"1692\":77,\"1693\":79,\"1694\":81,\"1695\":83,\"1696\":85,\"1697\":87,\"1698\":89,\"1699\":91,\"1700\":93,\"1701\":95,\"1702\":97,\"1703\":99,\"1704\":101,\"1705\":103,\"1706\":105,\"1707\":107,\"1708\":109,\"1709\":111,\"1710\":113,\"1711\":115,\"1712\":117,\"1713\":119,\"1714\":121,\"1715\":123,\"1716\":125,\"1717\":127,\"1718\":129,\"1719\":131,\"1720\":133,\"1721\":135,\"1722\":137,\"1723\":139,\"1724\":141,\"1725\":143,\"1726\":145,\"1727\":147,\"1728\":149,\"1729\":151,\"1730\":153,\"1731\":155,\"1732\":157,\"1733\":159,\"1734\":161,\"1735\":163,\"1736\":165,\"1737\":167,\"1738\":169,\"1739\":171,\"1740\":173,\"1741\":175,\"1742\":177,\"1743\":179,\"1744\":181,\"1745\":183,\"1746\":185,\"1747\":1,\"1748\":3,\"1749\":5,\"1750\":7,\"1751\":9,\"1752\":11,\"1753\":13,\"1754\":15,\"1755\":17,\"1756\":19,\"1757\":21,\"1758\":23,\"1759\":27,\"1760\":29,\"1761\":31,\"1762\":33,\"1763\":510,\"1764\":1,\"1765\":3,\"1766\":5,\"1767\":7,\"1768\":9,\"1769\":11,\"1770\":13,\"1771\":15,\"1772\":17,\"1773\":19,\"1774\":1,\"1775\":3,\"1776\":5,\"1777\":7,\"1778\":9,\"1779\":11,\"1780\":13,\"1781\":15,\"1782\":17,\"1783\":19,\"1784\":21,\"1785\":23,\"1786\":25,\"1787\":27,\"1788\":29,\"1789\":31,\"1790\":33,\"1791\":35,\"1792\":37,\"1793\":39,\"1794\":41,\"1795\":1,\"1796\":3,\"1797\":5,\"1798\":6,\"1799\":7,\"1800\":9,\"1801\":11,\"1802\":13,\"1803\":15,\"1804\":17,\"1805\":19,\"1806\":21,\"1807\":23,\"1808\":25,\"1809\":27,\"1810\":28,\"1811\":29,\"1812\":31,\"1813\":33,\"1814\":35,\"1815\":37,\"1816\":39,\"1817\":41,\"1818\":43,\"1819\":45,\"1820\":47,\"1821\":49,\"1822\":51,\"1823\":53,\"1824\":55,\"1825\":57,\"1826\":59,\"1827\":61,\"1828\":1,\"1829\":3,\"1830\":5,\"1831\":7,\"1832\":9,\"1833\":11,\"1834\":13,\"1835\":15,\"1836\":17,\"1837\":19,\"1838\":21,\"1839\":23,\"1840\":25,\"1841\":27,\"1842\":29,\"1843\":31,\"1844\":33,\"1845\":35,\"1846\":37,\"1847\":39,\"1848\":41,\"1849\":43,\"1850\":45,\"1851\":47,\"1852\":49,\"1853\":51,\"1854\":53,\"1855\":55,\"1856\":57,\"1857\":59,\"1858\":61,\"1859\":63,\"1860\":65,\"1861\":67,\"1862\":69,\"1863\":71,\"1864\":73,\"1865\":75,\"1866\":77,\"1867\":79,\"1868\":81,\"1869\":83,\"1870\":85,\"1871\":87,\"1872\":89,\"1873\":91,\"1874\":93,\"1875\":95,\"1876\":97,\"1877\":99,\"1878\":101,\"1879\":103,\"1880\":105,\"1881\":107,\"1882\":109,\"1883\":111,\"1884\":113,\"1885\":115,\"1886\":117,\"1887\":119,\"1888\":121,\"1889\":123,\"1890\":1,\"1891\":3,\"1892\":5,\"1893\":7,\"1894\":9,\"1895\":11,\"1896\":13,\"1897\":15,\"1898\":17,\"1899\":19,\"1900\":21,\"1901\":23,\"1902\":25,\"1903\":27,\"1904\":29,\"1905\":31,\"1906\":33,\"1907\":35,\"1908\":37,\"1909\":39,\"1910\":41,\"1911\":43,\"1912\":45,\"1913\":47,\"1914\":49,\"1915\":51,\"1916\":53,\"1917\":55,\"1918\":57,\"1919\":59,\"1920\":61,\"1921\":63,\"1922\":65,\"1923\":67,\"1924\":69,\"1925\":71,\"1926\":73,\"1927\":75,\"1928\":77,\"1929\":79,\"1930\":81,\"1931\":83,\"1932\":85,\"1933\":87,\"1934\":89,\"1935\":91,\"1936\":93,\"1937\":95,\"1938\":97,\"1939\":99,\"1940\":101,\"1941\":103,\"1942\":105,\"1943\":107,\"1944\":109,\"1945\":111,\"1946\":113,\"1947\":115,\"1948\":117,\"1949\":119,\"1950\":121,\"1951\":123,\"1952\":125,\"1953\":127,\"1954\":129,\"1955\":131,\"1956\":133,\"1957\":135,\"1958\":137,\"1959\":139,\"1960\":141,\"1961\":143,\"1962\":145,\"1963\":147,\"1964\":149,\"1965\":151,\"1966\":153,\"1967\":155,\"1968\":157,\"1969\":159,\"1970\":161,\"1971\":163,\"1972\":165,\"1973\":167,\"1974\":169,\"1975\":171,\"1976\":173,\"1977\":175,\"1978\":177,\"1979\":179,\"1980\":181,\"1981\":183,\"1982\":185,\"1983\":187,\"1984\":189,\"1985\":191,\"1986\":193,\"1987\":195,\"1988\":197,\"1989\":199,\"1990\":1,\"1991\":3,\"1992\":5,\"1993\":7,\"1994\":9,\"1995\":11,\"1996\":13,\"1997\":15,\"1998\":17,\"1999\":19,\"2000\":21,\"2001\":23,\"2002\":25,\"2003\":27,\"2004\":29,\"2005\":31,\"2006\":33,\"2007\":35,\"2008\":37,\"2009\":39,\"2010\":41,\"2011\":43,\"2012\":45,\"2013\":47,\"2014\":49,\"2015\":51,\"2016\":53,\"2017\":55,\"2018\":57,\"2019\":59,\"2020\":61,\"2021\":63,\"2022\":65,\"2023\":67,\"2024\":69,\"2025\":71,\"2026\":73,\"2027\":75,\"2028\":77,\"2029\":79,\"2030\":81,\"2031\":83,\"2032\":85,\"2033\":87,\"2034\":89,\"2035\":91,\"2036\":93,\"2037\":95,\"2038\":97,\"2039\":99,\"2040\":101,\"2041\":103,\"2042\":105,\"2043\":1,\"2044\":3,\"2045\":5,\"2046\":7,\"2047\":9,\"2048\":11,\"2049\":13,\"2050\":15,\"2051\":17,\"2052\":19,\"2053\":21,\"2054\":23,\"2055\":25,\"2056\":27,\"2057\":29,\"2058\":31,\"2059\":33,\"2060\":35,\"2061\":37,\"2062\":39,\"2063\":41,\"2064\":43,\"2065\":45,\"2066\":47,\"2067\":49,\"2068\":51,\"2069\":53,\"2070\":55,\"2071\":57,\"2072\":59,\"2073\":61,\"2074\":63,\"2075\":65,\"2076\":67,\"2077\":69,\"2078\":71,\"2079\":73,\"2080\":75,\"2081\":77,\"2082\":79,\"2083\":81,\"2084\":83,\"2085\":85,\"2086\":87,\"2087\":89,\"2088\":91,\"2089\":93,\"2090\":95,\"2091\":97,\"2092\":99,\"2093\":101,\"2094\":103,\"2095\":105,\"2096\":107,\"2097\":109,\"2098\":111,\"2099\":113,\"2100\":115,\"2101\":117,\"2102\":119,\"2103\":121,\"2104\":123,\"2105\":125,\"2106\":127,\"2107\":129,\"2108\":131,\"2109\":133,\"2110\":135,\"2111\":137,\"2112\":139,\"2113\":141,\"2114\":143,\"2115\":145,\"2116\":147,\"2117\":149,\"2118\":151,\"2119\":153,\"2120\":155,\"2121\":157,\"2122\":159,\"2123\":161,\"2124\":163,\"2125\":165,\"2126\":167,\"2127\":169,\"2128\":171,\"2129\":173,\"2130\":175,\"2131\":1,\"2132\":3,\"2133\":5,\"2134\":7,\"2135\":9,\"2136\":11,\"2137\":13,\"2138\":15,\"2139\":17,\"2140\":19,\"2141\":21,\"2142\":23,\"2143\":25,\"2144\":27,\"2145\":29,\"2146\":31,\"2147\":33,\"2148\":35,\"2149\":37,\"2150\":39,\"2151\":41,\"2152\":43,\"2153\":45,\"2154\":47,\"2155\":49,\"2156\":51,\"2157\":53,\"2158\":55,\"2159\":57,\"2160\":59,\"2161\":61,\"2162\":63,\"2163\":65,\"2164\":67,\"2165\":69,\"2166\":71,\"2167\":73,\"2168\":75,\"2169\":77,\"2170\":79,\"2171\":81,\"2172\":83,\"2173\":85,\"2174\":87,\"2175\":89,\"2176\":91,\"2177\":93,\"2178\":95,\"2179\":97,\"2180\":99,\"2181\":101,\"2182\":103,\"2183\":105,\"2184\":107,\"2185\":109,\"2186\":111,\"2187\":113,\"2188\":115,\"2189\":117,\"2190\":119,\"2191\":121,\"2192\":123,\"2193\":125,\"2194\":127,\"2195\":129,\"2196\":131,\"2197\":133,\"2198\":135,\"2199\":137,\"2200\":139,\"2201\":141,\"2202\":143,\"2203\":145,\"2204\":147,\"2205\":149,\"2206\":151,\"2207\":153,\"2208\":1,\"2209\":3,\"2210\":5,\"2211\":7,\"2212\":9,\"2213\":11,\"2214\":13,\"2215\":15,\"2216\":17,\"2217\":19,\"2218\":21,\"2219\":23,\"2220\":25,\"2221\":27,\"2222\":29,\"2223\":31,\"2224\":33,\"2225\":35,\"2226\":37,\"2227\":39,\"2228\":41,\"2229\":43,\"2230\":45,\"2231\":47,\"2232\":49,\"2233\":51,\"2234\":53,\"2235\":55,\"2236\":57,\"2237\":59,\"2238\":61,\"2239\":63,\"2240\":65,\"2241\":67,\"2242\":69,\"2243\":71,\"2244\":1,\"2245\":3,\"2246\":5,\"2247\":7,\"2248\":9,\"2249\":11,\"2250\":13,\"2251\":15,\"2252\":17,\"2253\":19,\"2254\":21,\"2255\":23,\"2256\":25,\"2257\":27,\"2258\":29,\"2259\":31,\"2260\":33,\"2261\":35,\"2262\":37,\"2263\":39,\"2264\":41,\"2265\":43,\"2266\":45,\"2267\":47,\"2268\":49,\"2269\":51,\"2270\":53,\"2271\":55,\"2272\":57,\"2273\":59,\"2274\":61,\"2275\":63,\"2276\":65,\"2277\":67,\"2278\":69,\"2279\":71,\"2280\":73,\"2281\":75,\"2282\":77,\"2283\":79,\"2284\":81,\"2285\":83,\"2286\":85,\"2287\":87,\"2288\":89,\"2289\":91,\"2290\":93,\"2291\":95,\"2292\":97,\"2293\":99,\"2294\":101,\"2295\":103,\"2296\":105,\"2297\":107,\"2298\":109,\"2299\":111,\"2300\":113,\"2301\":115,\"2302\":117,\"2303\":119,\"2304\":121,\"2305\":123,\"2306\":125,\"2307\":127,\"2308\":129,\"2309\":131,\"2310\":133,\"2311\":1,\"2312\":3,\"2313\":5,\"2314\":7,\"2315\":9,\"2316\":1,\"2317\":3,\"2318\":5,\"2319\":7,\"2320\":9,\"2321\":11,\"2322\":13,\"2323\":15,\"2324\":17,\"2325\":19,\"2326\":21,\"2327\":23,\"2328\":25,\"2329\":27,\"2330\":29,\"2331\":31,\"2332\":33,\"2333\":35,\"2334\":37,\"2335\":39,\"2336\":41,\"2337\":43,\"2338\":45,\"2339\":47,\"2340\":49,\"2341\":51,\"2342\":53,\"2343\":55,\"2344\":57,\"2345\":59,\"2346\":61,\"2347\":63,\"2348\":65,\"2349\":67,\"2350\":69,\"2351\":71,\"2352\":73,\"2353\":75,\"2354\":77,\"2355\":79,\"2356\":81,\"2357\":83,\"2358\":85,\"2359\":87,\"2360\":89,\"2361\":91,\"2362\":3,\"2363\":5,\"2364\":7,\"2365\":9,\"2366\":11,\"2367\":13,\"2368\":15,\"2369\":17,\"2370\":19,\"2371\":21,\"2372\":23,\"2373\":25,\"2374\":27,\"2375\":29,\"2376\":31,\"2377\":33,\"2378\":35,\"2379\":37,\"2380\":39,\"2381\":41,\"2382\":43,\"2383\":45,\"2384\":47,\"2385\":49,\"2386\":51,\"2387\":53,\"2388\":55,\"2389\":57,\"2390\":59,\"2391\":61,\"2392\":63,\"2393\":65,\"2394\":67,\"2395\":69,\"2396\":71,\"2397\":73,\"2398\":75,\"2399\":77,\"2400\":79,\"2401\":81,\"2402\":83,\"2403\":85,\"2404\":87,\"2405\":89,\"2406\":91,\"2407\":93,\"2408\":95,\"2409\":97,\"2410\":99,\"2411\":101,\"2412\":103,\"2413\":105,\"2414\":107,\"2415\":109,\"2416\":111,\"2417\":113,\"2418\":115,\"2419\":117,\"2420\":119,\"2421\":121,\"2422\":123,\"2423\":125,\"2424\":127,\"2425\":129,\"2426\":135,\"2427\":137,\"2428\":1,\"2429\":3,\"2430\":5,\"2431\":7,\"2432\":9,\"2433\":11,\"2434\":13,\"2435\":15,\"2436\":17,\"2437\":19,\"2438\":21,\"2439\":23,\"2440\":25,\"2441\":27,\"2442\":29,\"2443\":31,\"2444\":33,\"2445\":35,\"2446\":37,\"2447\":39,\"2448\":41,\"2449\":43,\"2450\":45,\"2451\":47,\"2452\":49,\"2453\":51,\"2454\":53,\"2455\":55,\"2456\":57,\"2457\":59,\"2458\":61,\"2459\":63,\"2460\":65,\"2461\":67,\"2462\":69,\"2463\":71,\"2464\":73,\"2465\":75,\"2466\":77,\"2467\":79,\"2468\":81,\"2469\":83,\"2470\":85,\"2471\":87,\"2472\":89,\"2473\":91,\"2474\":93,\"2475\":95,\"2476\":97,\"2477\":99,\"2478\":101,\"2479\":103,\"2480\":105,\"2481\":107,\"2482\":109,\"2483\":111,\"2484\":113,\"2485\":115,\"2486\":117,\"2487\":119,\"2488\":121,\"2489\":123,\"2490\":125,\"2491\":127,\"2492\":129,\"2493\":131,\"2494\":133,\"2495\":135,\"2496\":137,\"2497\":139,\"2498\":141,\"2499\":143,\"2500\":145,\"2501\":147,\"2502\":149,\"2503\":151,\"2504\":153,\"2505\":155,\"2506\":157,\"2507\":159,\"2508\":161,\"2509\":163,\"2510\":165,\"2511\":167,\"2512\":169,\"2513\":171,\"2514\":173,\"2515\":175,\"2516\":177,\"2517\":179,\"2518\":181,\"2519\":183,\"2520\":185,\"2521\":187,\"2522\":189,\"2523\":1,\"2524\":3,\"2525\":5,\"2526\":7,\"2527\":9,\"2528\":11,\"2529\":13,\"2530\":15,\"2531\":17,\"2532\":19,\"2533\":21,\"2534\":23,\"2535\":25,\"2536\":27,\"2537\":29,\"2538\":31,\"2539\":33,\"2540\":35,\"2541\":37,\"2542\":39,\"2543\":41,\"2544\":43,\"2545\":45,\"2546\":47,\"2547\":49,\"2548\":51,\"2549\":53,\"2550\":55,\"2551\":57,\"2552\":59,\"2553\":61,\"2554\":63,\"2555\":65,\"2556\":67,\"2557\":69,\"2558\":71,\"2559\":73,\"2560\":75,\"2561\":77,\"2562\":79,\"2563\":81,\"2564\":83,\"2565\":85,\"2566\":87,\"2567\":89,\"2568\":91,\"2569\":93,\"2570\":95,\"2571\":97,\"2572\":99,\"2573\":101,\"2574\":103,\"2575\":105,\"2576\":107,\"2577\":109,\"2578\":111,\"2579\":113,\"2580\":115,\"2581\":117,\"2582\":119,\"2583\":121,\"2584\":123,\"2585\":125,\"2586\":127,\"2587\":129,\"2588\":131,\"2589\":133,\"2590\":135,\"2591\":137,\"2592\":139,\"2593\":141,\"2594\":143,\"2595\":145,\"2596\":147,\"2597\":149,\"2598\":151,\"2599\":153,\"2600\":155,\"2601\":157,\"2602\":159,\"2603\":161,\"2604\":163,\"2605\":165,\"2606\":167,\"2607\":169,\"2608\":171,\"2609\":173,\"2610\":175,\"2611\":177,\"2612\":179,\"2613\":181,\"2614\":183,\"2615\":185,\"2616\":187,\"2617\":189,\"2618\":191,\"2619\":193,\"2620\":195,\"2621\":197,\"2622\":199,\"2623\":201,\"2624\":203,\"2625\":205,\"2626\":207,\"2627\":209,\"2628\":211,\"2629\":213,\"2630\":215,\"2631\":217,\"2632\":219,\"2633\":221,\"2634\":223,\"2635\":225,\"2636\":227,\"2637\":229,\"2638\":231,\"2639\":233,\"2640\":235,\"2641\":237,\"2642\":239,\"2643\":241,\"2644\":243,\"2645\":245,\"2646\":247,\"2647\":249,\"2648\":251,\"2649\":253,\"2650\":255,\"2651\":257,\"2652\":259,\"2653\":261,\"2654\":263,\"2655\":265,\"2656\":267,\"2657\":269,\"2658\":271,\"2659\":273,\"2660\":275,\"2661\":277,\"2662\":279,\"2663\":281,\"2664\":283,\"2665\":285,\"2666\":287,\"2667\":289,\"2668\":291,\"2669\":293,\"2670\":295,\"2671\":297,\"2672\":299,\"2673\":301,\"2674\":303,\"2675\":305,\"2676\":307,\"2677\":309,\"2678\":311,\"2679\":313,\"2680\":315,\"2681\":317,\"2682\":319,\"2683\":321,\"2684\":323,\"2685\":325,\"2686\":327,\"2687\":329,\"2688\":331,\"2689\":333,\"2690\":335,\"2691\":337,\"2692\":339,\"2693\":341,\"2694\":343,\"2695\":345,\"2696\":347,\"2697\":349,\"2698\":351,\"2699\":353,\"2700\":355,\"2701\":357,\"2702\":359,\"2703\":361,\"2704\":363,\"2705\":365,\"2706\":367,\"2707\":369,\"2708\":371,\"2709\":373,\"2710\":375,\"2711\":377,\"2712\":379,\"2713\":381,\"2714\":383,\"2715\":385,\"2716\":387,\"2717\":389,\"2718\":391,\"2719\":393,\"2720\":395,\"2721\":397,\"2722\":399,\"2723\":401,\"2724\":403,\"2725\":405,\"2726\":407,\"2727\":409,\"2728\":411,\"2729\":413,\"2730\":415,\"2731\":417,\"2732\":419,\"2733\":421,\"2734\":423,\"2735\":425,\"2736\":427,\"2737\":429,\"2738\":431,\"2739\":433,\"2740\":435,\"2741\":437,\"2742\":439,\"2743\":441,\"2744\":443,\"2745\":445,\"2746\":447,\"2747\":449,\"2748\":451,\"2749\":453,\"2750\":455,\"2751\":457,\"2752\":459,\"2753\":461,\"2754\":463,\"2755\":465,\"2756\":467,\"2757\":469,\"2758\":471,\"2759\":473,\"2760\":475,\"2761\":477,\"2762\":479,\"2763\":481,\"2764\":483,\"2765\":485,\"2766\":487,\"2767\":489,\"2768\":491,\"2769\":493,\"2770\":495,\"2771\":497,\"2772\":499,\"2773\":501,\"2774\":503,\"2775\":505,\"2776\":507,\"2777\":1,\"2778\":3,\"2779\":5,\"2780\":7,\"2781\":9,\"2782\":11,\"2783\":13,\"2784\":15,\"2785\":17,\"2786\":19,\"2787\":21,\"2788\":23,\"2789\":25,\"2790\":27,\"2791\":29,\"2792\":31,\"2793\":33,\"2794\":35,\"2795\":37,\"2796\":39,\"2797\":41,\"2798\":43,\"2799\":45,\"2800\":47,\"2801\":49,\"2802\":51,\"2803\":53,\"2804\":55,\"2805\":57,\"2806\":1,\"2807\":3,\"2808\":5,\"2809\":7,\"2810\":9,\"2811\":11,\"2812\":13,\"2813\":15,\"2814\":17,\"2815\":19,\"2816\":21,\"2817\":23,\"2818\":25,\"2819\":27,\"2820\":1,\"2821\":3,\"2822\":5,\"2823\":7,\"2824\":9,\"2825\":11,\"2826\":13,\"2827\":15,\"2828\":17,\"2829\":19,\"2830\":21,\"2831\":23,\"2832\":25,\"2833\":27,\"2834\":29,\"2835\":31,\"2836\":33,\"2837\":35,\"2838\":36,\"2839\":37,\"2840\":41,\"2841\":43,\"2842\":45,\"2843\":47,\"2844\":49,\"2845\":51,\"2846\":53,\"2847\":57,\"2848\":59,\"2849\":61,\"2850\":63,\"2851\":65,\"2852\":67,\"2853\":69,\"2854\":71,\"2855\":73,\"2856\":75,\"2857\":77,\"2858\":79,\"2859\":81,\"2860\":83,\"2861\":85,\"2862\":87,\"2863\":89,\"2864\":91,\"2865\":93,\"2866\":95,\"2867\":97,\"2868\":99,\"2869\":101,\"2870\":103,\"2871\":105,\"2872\":107,\"2873\":109,\"2874\":111,\"2875\":113,\"2876\":115,\"2877\":117,\"2878\":119,\"2879\":121,\"2880\":125,\"2881\":127,\"2882\":131,\"2883\":133,\"2884\":135,\"2885\":137,\"2886\":139,\"2887\":141,\"2888\":143,\"2889\":145,\"2890\":147,\"2891\":149,\"2892\":153,\"2893\":155,\"2894\":157,\"2895\":159,\"2896\":161,\"2897\":163,\"2898\":165,\"2899\":167,\"2900\":169,\"2901\":171,\"2902\":173,\"2903\":175,\"2904\":177,\"2905\":179,\"2906\":181,\"2907\":183,\"2908\":185,\"2909\":187,\"2910\":191,\"2911\":193,\"2912\":195,\"2913\":197,\"2914\":199,\"2915\":510,\"2916\":515,\"2917\":520,\"2918\":530,\"2919\":540,\"2920\":550,\"2921\":570,\"2922\":580,\"2923\":590,\"2924\":595,\"2925\":600,\"2926\":610,\"2927\":620,\"2928\":630,\"2929\":640,\"2930\":650,\"2931\":660,\"2932\":670,\"2933\":678,\"2934\":680,\"2935\":683,\"2936\":685,\"2937\":690,\"2938\":700,\"2939\":710,\"2940\":720,\"2941\":730,\"2942\":735,\"2943\":740,\"2944\":750,\"2945\":760,\"2946\":770,\"2947\":775,\"2948\":790,\"2949\":800,\"2950\":810,\"2951\":820,\"2952\":830,\"2953\":840,\"2954\":1,\"2955\":3,\"2956\":5,\"2957\":7,\"2958\":9,\"2959\":11,\"2960\":13,\"2961\":15,\"2962\":17,\"2963\":19,\"2964\":21,\"2965\":23,\"2966\":25,\"2967\":27,\"2968\":29,\"2969\":31,\"2970\":33,\"2971\":35,\"2972\":37,\"2973\":39,\"2974\":41,\"2975\":43,\"2976\":45,\"2977\":47,\"2978\":49,\"2979\":51,\"2980\":53,\"2981\":55,\"2982\":57,\"2983\":59,\"2984\":61,\"2985\":63,\"2986\":65,\"2987\":67,\"2988\":69,\"2989\":71,\"2990\":73,\"2991\":75,\"2992\":77,\"2993\":1,\"2994\":3,\"2995\":5,\"2996\":7,\"2997\":9,\"2998\":11,\"2999\":13,\"3000\":15,\"3001\":17,\"3002\":19,\"3003\":21,\"3004\":23,\"3005\":25,\"3006\":27,\"3007\":29,\"3008\":31,\"3009\":33,\"3010\":35,\"3011\":37,\"3012\":39,\"3013\":41,\"3014\":43,\"3015\":45,\"3016\":47,\"3017\":49,\"3018\":51,\"3019\":53,\"3020\":55,\"3021\":57,\"3022\":59,\"3023\":61,\"3024\":63,\"3025\":65,\"3026\":67,\"3027\":69,\"3028\":71,\"3029\":73,\"3030\":75,\"3031\":77,\"3032\":79,\"3033\":81,\"3034\":83,\"3035\":85,\"3036\":87,\"3037\":89,\"3038\":91,\"3039\":93,\"3040\":95,\"3041\":97,\"3042\":99,\"3043\":101,\"3044\":103,\"3045\":105,\"3046\":107,\"3047\":109,\"3048\":1,\"3049\":3,\"3050\":5,\"3051\":7,\"3052\":9,\"3053\":11,\"3054\":13,\"3055\":15,\"3056\":17,\"3057\":19,\"3058\":21,\"3059\":23,\"3060\":25,\"3061\":27,\"3062\":29,\"3063\":31,\"3064\":33,\"3065\":35,\"3066\":37,\"3067\":39,\"3068\":41,\"3069\":43,\"3070\":45,\"3071\":47,\"3072\":49,\"3073\":51,\"3074\":53,\"3075\":55,\"3076\":57,\"3077\":59,\"3078\":61,\"3079\":63,\"3080\":65,\"3081\":67,\"3082\":69,\"3083\":71,\"3084\":73,\"3085\":75,\"3086\":77,\"3087\":78,\"3088\":79,\"3089\":81,\"3090\":83,\"3091\":85,\"3092\":87,\"3093\":89,\"3094\":91,\"3095\":93,\"3096\":95,\"3097\":97,\"3098\":99,\"3099\":101,\"3100\":103,\"3101\":105,\"3102\":107,\"3103\":109,\"3104\":111,\"3105\":113,\"3106\":115,\"3107\":117,\"3108\":119,\"3109\":121,\"3110\":123,\"3111\":125,\"3112\":127,\"3113\":129,\"3114\":131,\"3115\":133,\"3116\":135,\"3117\":137,\"3118\":139,\"3119\":141,\"3120\":1,\"3121\":3,\"3122\":5,\"3123\":7,\"3124\":9,\"3125\":11,\"3126\":13,\"3127\":15,\"3128\":17,\"3129\":19,\"3130\":21,\"3131\":23,\"3132\":25,\"3133\":27,\"3134\":29,\"3135\":31,\"3136\":33,\"3137\":35,\"3138\":37,\"3139\":39,\"3140\":41,\"3141\":43,\"3142\":45,\"3143\":10,\"3144\":20,\"3145\":30,\"3146\":40,\"3147\":50,\"3148\":10,\"3149\":85,\"3150\":100,\"3151\":110,\"3152\":120,\"3153\":1,\"3154\":3,\"3155\":5,\"3156\":7,\"3157\":9,\"3158\":11,\"3159\":13,\"3160\":15,\"3161\":17,\"3162\":19,\"3163\":21,\"3164\":23,\"3165\":25,\"3166\":27,\"3167\":29,\"3168\":31,\"3169\":33,\"3170\":35,\"3171\":37,\"3172\":39,\"3173\":41,\"3174\":43,\"3175\":45,\"3176\":47,\"3177\":49,\"3178\":51,\"3179\":53,\"3180\":54,\"3181\":55,\"3182\":57,\"3183\":59,\"3184\":61,\"3185\":63,\"3186\":65,\"3187\":67,\"3188\":69,\"3189\":71,\"3190\":73,\"3191\":75,\"3192\":77,\"3193\":79,\"3194\":81,\"3195\":83,\"3196\":85,\"3197\":87,\"3198\":89,\"3199\":91,\"3200\":93,\"3201\":95,\"3202\":97,\"3203\":99,\"3204\":101,\"3205\":103,\"3206\":105,\"3207\":107,\"3208\":109,\"3209\":111,\"3210\":113,\"3211\":115,\"3212\":117,\"3213\":119,\"3214\":121,\"3215\":123,\"3216\":125,\"3217\":127,\"3218\":129,\"3219\":131,\"3220\":133,\"3221\":135,\"3222\":137,\"3223\":139,\"3224\":141,\"3225\":143,\"3226\":145,\"3227\":147,\"3228\":149,\"3229\":151,\"3230\":153,\"3231\":300,\"3232\":10,\"3233\":20,\"3234\":30},\"name\":{\"0\":\"Autauga County\",\"1\":\"Baldwin County\",\"2\":\"Barbour County\",\"3\":\"Bibb County\",\"4\":\"Blount County\",\"5\":\"Bullock County\",\"6\":\"Butler County\",\"7\":\"Calhoun County\",\"8\":\"Chambers County\",\"9\":\"Cherokee County\",\"10\":\"Chilton County\",\"11\":\"Choctaw County\",\"12\":\"Clarke County\",\"13\":\"Clay County\",\"14\":\"Cleburne County\",\"15\":\"Coffee County\",\"16\":\"Colbert County\",\"17\":\"Conecuh County\",\"18\":\"Coosa County\",\"19\":\"Covington County\",\"20\":\"Crenshaw County\",\"21\":\"Cullman County\",\"22\":\"Dale County\",\"23\":\"Dallas County\",\"24\":\"DeKalb County\",\"25\":\"Elmore County\",\"26\":\"Escambia County\",\"27\":\"Etowah County\",\"28\":\"Fayette County\",\"29\":\"Franklin County\",\"30\":\"Geneva County\",\"31\":\"Greene County\",\"32\":\"Hale County\",\"33\":\"Henry County\",\"34\":\"Houston County\",\"35\":\"Jackson County\",\"36\":\"Jefferson County\",\"37\":\"Lamar County\",\"38\":\"Lauderdale County\",\"39\":\"Lawrence County\",\"40\":\"Lee County\",\"41\":\"Limestone County\",\"42\":\"Lowndes County\",\"43\":\"Macon County\",\"44\":\"Madison County\",\"45\":\"Marengo County\",\"46\":\"Marion County\",\"47\":\"Marshall County\",\"48\":\"Mobile County\",\"49\":\"Monroe County\",\"50\":\"Montgomery County\",\"51\":\"Morgan County\",\"52\":\"Perry County\",\"53\":\"Pickens County\",\"54\":\"Pike County\",\"55\":\"Randolph County\",\"56\":\"Russell County\",\"57\":\"St. Clair County\",\"58\":\"Shelby County\",\"59\":\"Sumter County\",\"60\":\"Talladega County\",\"61\":\"Tallapoosa County\",\"62\":\"Tuscaloosa County\",\"63\":\"Walker County\",\"64\":\"Washington County\",\"65\":\"Wilcox County\",\"66\":\"Winston County\",\"67\":\"Aleutians East Borough\",\"68\":\"Aleutians West Census Area\",\"69\":\"Anchorage Municipality\",\"70\":\"Bethel Census Area\",\"71\":\"Bristol Bay Borough\",\"72\":\"Denali Borough\",\"73\":\"Dillingham Census Area\",\"74\":\"Fairbanks North Star Borough\",\"75\":\"Haines Borough\",\"76\":\"Hoonah-Angoon Census Area\",\"77\":\"Juneau City and Borough\",\"78\":\"Kenai Peninsula Borough\",\"79\":\"Ketchikan Gateway Borough\",\"80\":\"Kodiak Island Borough\",\"81\":\"Lake and Peninsula Borough\",\"82\":\"Matanuska-Susitna Borough\",\"83\":\"Nome Census Area\",\"84\":\"North Slope Borough\",\"85\":\"Northwest Arctic Borough\",\"86\":\"Petersburg Census Area\",\"87\":\"Prince of Wales-Hyder Census Area\",\"88\":\"Sitka City and Borough\",\"89\":\"Skagway Municipality\",\"90\":\"Southeast Fairbanks Census Area\",\"91\":\"Valdez-Cordova Census Area\",\"92\":\"Wade Hampton Census Area\",\"93\":\"Wrangell City and Borough\",\"94\":\"Yakutat City and Borough\",\"95\":\"Yukon-Koyukuk Census Area\",\"96\":\"Apache County\",\"97\":\"Cochise County\",\"98\":\"Coconino County\",\"99\":\"Gila County\",\"100\":\"Graham County\",\"101\":\"Greenlee County\",\"102\":\"La Paz County\",\"103\":\"Maricopa County\",\"104\":\"Mohave County\",\"105\":\"Navajo County\",\"106\":\"Pima County\",\"107\":\"Pinal County\",\"108\":\"Santa Cruz County\",\"109\":\"Yavapai County\",\"110\":\"Yuma County\",\"111\":\"Arkansas County\",\"112\":\"Ashley County\",\"113\":\"Baxter County\",\"114\":\"Benton County\",\"115\":\"Boone County\",\"116\":\"Bradley County\",\"117\":\"Calhoun County\",\"118\":\"Carroll County\",\"119\":\"Chicot County\",\"120\":\"Clark County\",\"121\":\"Clay County\",\"122\":\"Cleburne County\",\"123\":\"Cleveland County\",\"124\":\"Columbia County\",\"125\":\"Conway County\",\"126\":\"Craighead County\",\"127\":\"Crawford County\",\"128\":\"Crittenden County\",\"129\":\"Cross County\",\"130\":\"Dallas County\",\"131\":\"Desha County\",\"132\":\"Drew County\",\"133\":\"Faulkner County\",\"134\":\"Franklin County\",\"135\":\"Fulton County\",\"136\":\"Garland County\",\"137\":\"Grant County\",\"138\":\"Greene County\",\"139\":\"Hempstead County\",\"140\":\"Hot Spring County\",\"141\":\"Howard County\",\"142\":\"Independence County\",\"143\":\"Izard County\",\"144\":\"Jackson County\",\"145\":\"Jefferson County\",\"146\":\"Johnson County\",\"147\":\"Lafayette County\",\"148\":\"Lawrence County\",\"149\":\"Lee County\",\"150\":\"Lincoln County\",\"151\":\"Little River County\",\"152\":\"Logan County\",\"153\":\"Lonoke County\",\"154\":\"Madison County\",\"155\":\"Marion County\",\"156\":\"Miller County\",\"157\":\"Mississippi County\",\"158\":\"Monroe County\",\"159\":\"Montgomery County\",\"160\":\"Nevada County\",\"161\":\"Newton County\",\"162\":\"Ouachita County\",\"163\":\"Perry County\",\"164\":\"Phillips County\",\"165\":\"Pike County\",\"166\":\"Poinsett County\",\"167\":\"Polk County\",\"168\":\"Pope County\",\"169\":\"Prairie County\",\"170\":\"Pulaski County\",\"171\":\"Randolph County\",\"172\":\"St. Francis County\",\"173\":\"Saline County\",\"174\":\"Scott County\",\"175\":\"Searcy County\",\"176\":\"Sebastian County\",\"177\":\"Sevier County\",\"178\":\"Sharp County\",\"179\":\"Stone County\",\"180\":\"Union County\",\"181\":\"Van Buren County\",\"182\":\"Washington County\",\"183\":\"White County\",\"184\":\"Woodruff County\",\"185\":\"Yell County\",\"186\":\"Alameda County\",\"187\":\"Alpine County\",\"188\":\"Amador County\",\"189\":\"Butte County\",\"190\":\"Calaveras County\",\"191\":\"Colusa County\",\"192\":\"Contra Costa County\",\"193\":\"Del Norte County\",\"194\":\"El Dorado County\",\"195\":\"Fresno County\",\"196\":\"Glenn County\",\"197\":\"Humboldt County\",\"198\":\"Imperial County\",\"199\":\"Inyo County\",\"200\":\"Kern County\",\"201\":\"Kings County\",\"202\":\"Lake County\",\"203\":\"Lassen County\",\"204\":\"Los Angeles County\",\"205\":\"Madera County\",\"206\":\"Marin County\",\"207\":\"Mariposa County\",\"208\":\"Mendocino County\",\"209\":\"Merced County\",\"210\":\"Modoc County\",\"211\":\"Mono County\",\"212\":\"Monterey County\",\"213\":\"Napa County\",\"214\":\"Nevada County\",\"215\":\"Orange County\",\"216\":\"Placer County\",\"217\":\"Plumas County\",\"218\":\"Riverside County\",\"219\":\"Sacramento County\",\"220\":\"San Benito County\",\"221\":\"San Bernardino County\",\"222\":\"San Diego County\",\"223\":\"San Francisco County\",\"224\":\"San Joaquin County\",\"225\":\"San Luis Obispo County\",\"226\":\"San Mateo County\",\"227\":\"Santa Barbara County\",\"228\":\"Santa Clara County\",\"229\":\"Santa Cruz County\",\"230\":\"Shasta County\",\"231\":\"Sierra County\",\"232\":\"Siskiyou County\",\"233\":\"Solano County\",\"234\":\"Sonoma County\",\"235\":\"Stanislaus County\",\"236\":\"Sutter County\",\"237\":\"Tehama County\",\"238\":\"Trinity County\",\"239\":\"Tulare County\",\"240\":\"Tuolumne County\",\"241\":\"Ventura County\",\"242\":\"Yolo County\",\"243\":\"Yuba County\",\"244\":\"Adams County\",\"245\":\"Alamosa County\",\"246\":\"Arapahoe County\",\"247\":\"Archuleta County\",\"248\":\"Baca County\",\"249\":\"Bent County\",\"250\":\"Boulder County\",\"251\":\"Broomfield County\",\"252\":\"Chaffee County\",\"253\":\"Cheyenne County\",\"254\":\"Clear Creek County\",\"255\":\"Conejos County\",\"256\":\"Costilla County\",\"257\":\"Crowley County\",\"258\":\"Custer County\",\"259\":\"Delta County\",\"260\":\"Denver County\",\"261\":\"Dolores County\",\"262\":\"Douglas County\",\"263\":\"Eagle County\",\"264\":\"Elbert County\",\"265\":\"El Paso County\",\"266\":\"Fremont County\",\"267\":\"Garfield County\",\"268\":\"Gilpin County\",\"269\":\"Grand County\",\"270\":\"Gunnison County\",\"271\":\"Hinsdale County\",\"272\":\"Huerfano County\",\"273\":\"Jackson County\",\"274\":\"Jefferson County\",\"275\":\"Kiowa County\",\"276\":\"Kit Carson County\",\"277\":\"Lake County\",\"278\":\"La Plata County\",\"279\":\"Larimer County\",\"280\":\"Las Animas County\",\"281\":\"Lincoln County\",\"282\":\"Logan County\",\"283\":\"Mesa County\",\"284\":\"Mineral County\",\"285\":\"Moffat County\",\"286\":\"Montezuma County\",\"287\":\"Montrose County\",\"288\":\"Morgan County\",\"289\":\"Otero County\",\"290\":\"Ouray County\",\"291\":\"Park County\",\"292\":\"Phillips County\",\"293\":\"Pitkin County\",\"294\":\"Prowers County\",\"295\":\"Pueblo County\",\"296\":\"Rio Blanco County\",\"297\":\"Rio Grande County\",\"298\":\"Routt County\",\"299\":\"Saguache County\",\"300\":\"San Juan County\",\"301\":\"San Miguel County\",\"302\":\"Sedgwick County\",\"303\":\"Summit County\",\"304\":\"Teller County\",\"305\":\"Washington County\",\"306\":\"Weld County\",\"307\":\"Yuma County\",\"308\":\"Fairfield County\",\"309\":\"Hartford County\",\"310\":\"Litchfield County\",\"311\":\"Middlesex County\",\"312\":\"New Haven County\",\"313\":\"New London County\",\"314\":\"Tolland County\",\"315\":\"Windham County\",\"316\":\"Kent County\",\"317\":\"New Castle County\",\"318\":\"Sussex County\",\"319\":\"District of Columbia\",\"320\":\"Alachua County\",\"321\":\"Baker County\",\"322\":\"Bay County\",\"323\":\"Bradford County\",\"324\":\"Brevard County\",\"325\":\"Broward County\",\"326\":\"Calhoun County\",\"327\":\"Charlotte County\",\"328\":\"Citrus County\",\"329\":\"Clay County\",\"330\":\"Collier County\",\"331\":\"Columbia County\",\"332\":\"DeSoto County\",\"333\":\"Dixie County\",\"334\":\"Duval County\",\"335\":\"Escambia County\",\"336\":\"Flagler County\",\"337\":\"Franklin County\",\"338\":\"Gadsden County\",\"339\":\"Gilchrist County\",\"340\":\"Glades County\",\"341\":\"Gulf County\",\"342\":\"Hamilton County\",\"343\":\"Hardee County\",\"344\":\"Hendry County\",\"345\":\"Hernando County\",\"346\":\"Highlands County\",\"347\":\"Hillsborough County\",\"348\":\"Holmes County\",\"349\":\"Indian River County\",\"350\":\"Jackson County\",\"351\":\"Jefferson County\",\"352\":\"Lafayette County\",\"353\":\"Lake County\",\"354\":\"Lee County\",\"355\":\"Leon County\",\"356\":\"Levy County\",\"357\":\"Liberty County\",\"358\":\"Madison County\",\"359\":\"Manatee County\",\"360\":\"Marion County\",\"361\":\"Martin County\",\"362\":\"Miami-Dade County\",\"363\":\"Monroe County\",\"364\":\"Nassau County\",\"365\":\"Okaloosa County\",\"366\":\"Okeechobee County\",\"367\":\"Orange County\",\"368\":\"Osceola County\",\"369\":\"Palm Beach County\",\"370\":\"Pasco County\",\"371\":\"Pinellas County\",\"372\":\"Polk County\",\"373\":\"Putnam County\",\"374\":\"St. Johns County\",\"375\":\"St. Lucie County\",\"376\":\"Santa Rosa County\",\"377\":\"Sarasota County\",\"378\":\"Seminole County\",\"379\":\"Sumter County\",\"380\":\"Suwannee County\",\"381\":\"Taylor County\",\"382\":\"Union County\",\"383\":\"Volusia County\",\"384\":\"Wakulla County\",\"385\":\"Walton County\",\"386\":\"Washington County\",\"387\":\"Appling County\",\"388\":\"Atkinson County\",\"389\":\"Bacon County\",\"390\":\"Baker County\",\"391\":\"Baldwin County\",\"392\":\"Banks County\",\"393\":\"Barrow County\",\"394\":\"Bartow County\",\"395\":\"Ben Hill County\",\"396\":\"Berrien County\",\"397\":\"Bibb County\",\"398\":\"Bleckley County\",\"399\":\"Brantley County\",\"400\":\"Brooks County\",\"401\":\"Bryan County\",\"402\":\"Bulloch County\",\"403\":\"Burke County\",\"404\":\"Butts County\",\"405\":\"Calhoun County\",\"406\":\"Camden County\",\"407\":\"Candler County\",\"408\":\"Carroll County\",\"409\":\"Catoosa County\",\"410\":\"Charlton County\",\"411\":\"Chatham County\",\"412\":\"Chattahoochee County\",\"413\":\"Chattooga County\",\"414\":\"Cherokee County\",\"415\":\"Clarke County\",\"416\":\"Clay County\",\"417\":\"Clayton County\",\"418\":\"Clinch County\",\"419\":\"Cobb County\",\"420\":\"Coffee County\",\"421\":\"Colquitt County\",\"422\":\"Columbia County\",\"423\":\"Cook County\",\"424\":\"Coweta County\",\"425\":\"Crawford County\",\"426\":\"Crisp County\",\"427\":\"Dade County\",\"428\":\"Dawson County\",\"429\":\"Decatur County\",\"430\":\"DeKalb County\",\"431\":\"Dodge County\",\"432\":\"Dooly County\",\"433\":\"Dougherty County\",\"434\":\"Douglas County\",\"435\":\"Early County\",\"436\":\"Echols County\",\"437\":\"Effingham County\",\"438\":\"Elbert County\",\"439\":\"Emanuel County\",\"440\":\"Evans County\",\"441\":\"Fannin County\",\"442\":\"Fayette County\",\"443\":\"Floyd County\",\"444\":\"Forsyth County\",\"445\":\"Franklin County\",\"446\":\"Fulton County\",\"447\":\"Gilmer County\",\"448\":\"Glascock County\",\"449\":\"Glynn County\",\"450\":\"Gordon County\",\"451\":\"Grady County\",\"452\":\"Greene County\",\"453\":\"Gwinnett County\",\"454\":\"Habersham County\",\"455\":\"Hall County\",\"456\":\"Hancock County\",\"457\":\"Haralson County\",\"458\":\"Harris County\",\"459\":\"Hart County\",\"460\":\"Heard County\",\"461\":\"Henry County\",\"462\":\"Houston County\",\"463\":\"Irwin County\",\"464\":\"Jackson County\",\"465\":\"Jasper County\",\"466\":\"Jeff Davis County\",\"467\":\"Jefferson County\",\"468\":\"Jenkins County\",\"469\":\"Johnson County\",\"470\":\"Jones County\",\"471\":\"Lamar County\",\"472\":\"Lanier County\",\"473\":\"Laurens County\",\"474\":\"Lee County\",\"475\":\"Liberty County\",\"476\":\"Lincoln County\",\"477\":\"Long County\",\"478\":\"Lowndes County\",\"479\":\"Lumpkin County\",\"480\":\"McDuffie County\",\"481\":\"McIntosh County\",\"482\":\"Macon County\",\"483\":\"Madison County\",\"484\":\"Marion County\",\"485\":\"Meriwether County\",\"486\":\"Miller County\",\"487\":\"Mitchell County\",\"488\":\"Monroe County\",\"489\":\"Montgomery County\",\"490\":\"Morgan County\",\"491\":\"Murray County\",\"492\":\"Muscogee County\",\"493\":\"Newton County\",\"494\":\"Oconee County\",\"495\":\"Oglethorpe County\",\"496\":\"Paulding County\",\"497\":\"Peach County\",\"498\":\"Pickens County\",\"499\":\"Pierce County\",\"500\":\"Pike County\",\"501\":\"Polk County\",\"502\":\"Pulaski County\",\"503\":\"Putnam County\",\"504\":\"Quitman County\",\"505\":\"Rabun County\",\"506\":\"Randolph County\",\"507\":\"Richmond County\",\"508\":\"Rockdale County\",\"509\":\"Schley County\",\"510\":\"Screven County\",\"511\":\"Seminole County\",\"512\":\"Spalding County\",\"513\":\"Stephens County\",\"514\":\"Stewart County\",\"515\":\"Sumter County\",\"516\":\"Talbot County\",\"517\":\"Taliaferro County\",\"518\":\"Tattnall County\",\"519\":\"Taylor County\",\"520\":\"Telfair County\",\"521\":\"Terrell County\",\"522\":\"Thomas County\",\"523\":\"Tift County\",\"524\":\"Toombs County\",\"525\":\"Towns County\",\"526\":\"Treutlen County\",\"527\":\"Troup County\",\"528\":\"Turner County\",\"529\":\"Twiggs County\",\"530\":\"Union County\",\"531\":\"Upson County\",\"532\":\"Walker County\",\"533\":\"Walton County\",\"534\":\"Ware County\",\"535\":\"Warren County\",\"536\":\"Washington County\",\"537\":\"Wayne County\",\"538\":\"Webster County\",\"539\":\"Wheeler County\",\"540\":\"White County\",\"541\":\"Whitfield County\",\"542\":\"Wilcox County\",\"543\":\"Wilkes County\",\"544\":\"Wilkinson County\",\"545\":\"Worth County\",\"546\":\"Hawaii County\",\"547\":\"Honolulu County\",\"548\":\"Kalawao County\",\"549\":\"Kauai County\",\"550\":\"Maui County\",\"551\":\"Ada County\",\"552\":\"Adams County\",\"553\":\"Bannock County\",\"554\":\"Bear Lake County\",\"555\":\"Benewah County\",\"556\":\"Bingham County\",\"557\":\"Blaine County\",\"558\":\"Boise County\",\"559\":\"Bonner County\",\"560\":\"Bonneville County\",\"561\":\"Boundary County\",\"562\":\"Butte County\",\"563\":\"Camas County\",\"564\":\"Canyon County\",\"565\":\"Caribou County\",\"566\":\"Cassia County\",\"567\":\"Clark County\",\"568\":\"Clearwater County\",\"569\":\"Custer County\",\"570\":\"Elmore County\",\"571\":\"Franklin County\",\"572\":\"Fremont County\",\"573\":\"Gem County\",\"574\":\"Gooding County\",\"575\":\"Idaho County\",\"576\":\"Jefferson County\",\"577\":\"Jerome County\",\"578\":\"Kootenai County\",\"579\":\"Latah County\",\"580\":\"Lemhi County\",\"581\":\"Lewis County\",\"582\":\"Lincoln County\",\"583\":\"Madison County\",\"584\":\"Minidoka County\",\"585\":\"Nez Perce County\",\"586\":\"Oneida County\",\"587\":\"Owyhee County\",\"588\":\"Payette County\",\"589\":\"Power County\",\"590\":\"Shoshone County\",\"591\":\"Teton County\",\"592\":\"Twin Falls County\",\"593\":\"Valley County\",\"594\":\"Washington County\",\"595\":\"Adams County\",\"596\":\"Alexander County\",\"597\":\"Bond County\",\"598\":\"Boone County\",\"599\":\"Brown County\",\"600\":\"Bureau County\",\"601\":\"Calhoun County\",\"602\":\"Carroll County\",\"603\":\"Cass County\",\"604\":\"Champaign County\",\"605\":\"Christian County\",\"606\":\"Clark County\",\"607\":\"Clay County\",\"608\":\"Clinton County\",\"609\":\"Coles County\",\"610\":\"Cook County\",\"611\":\"Crawford County\",\"612\":\"Cumberland County\",\"613\":\"DeKalb County\",\"614\":\"De Witt County\",\"615\":\"Douglas County\",\"616\":\"DuPage County\",\"617\":\"Edgar County\",\"618\":\"Edwards County\",\"619\":\"Effingham County\",\"620\":\"Fayette County\",\"621\":\"Ford County\",\"622\":\"Franklin County\",\"623\":\"Fulton County\",\"624\":\"Gallatin County\",\"625\":\"Greene County\",\"626\":\"Grundy County\",\"627\":\"Hamilton County\",\"628\":\"Hancock County\",\"629\":\"Hardin County\",\"630\":\"Henderson County\",\"631\":\"Henry County\",\"632\":\"Iroquois County\",\"633\":\"Jackson County\",\"634\":\"Jasper County\",\"635\":\"Jefferson County\",\"636\":\"Jersey County\",\"637\":\"Jo Daviess County\",\"638\":\"Johnson County\",\"639\":\"Kane County\",\"640\":\"Kankakee County\",\"641\":\"Kendall County\",\"642\":\"Knox County\",\"643\":\"Lake County\",\"644\":\"LaSalle County\",\"645\":\"Lawrence County\",\"646\":\"Lee County\",\"647\":\"Livingston County\",\"648\":\"Logan County\",\"649\":\"McDonough County\",\"650\":\"McHenry County\",\"651\":\"McLean County\",\"652\":\"Macon County\",\"653\":\"Macoupin County\",\"654\":\"Madison County\",\"655\":\"Marion County\",\"656\":\"Marshall County\",\"657\":\"Mason County\",\"658\":\"Massac County\",\"659\":\"Menard County\",\"660\":\"Mercer County\",\"661\":\"Monroe County\",\"662\":\"Montgomery County\",\"663\":\"Morgan County\",\"664\":\"Moultrie County\",\"665\":\"Ogle County\",\"666\":\"Peoria County\",\"667\":\"Perry County\",\"668\":\"Piatt County\",\"669\":\"Pike County\",\"670\":\"Pope County\",\"671\":\"Pulaski County\",\"672\":\"Putnam County\",\"673\":\"Randolph County\",\"674\":\"Richland County\",\"675\":\"Rock Island County\",\"676\":\"St. Clair County\",\"677\":\"Saline County\",\"678\":\"Sangamon County\",\"679\":\"Schuyler County\",\"680\":\"Scott County\",\"681\":\"Shelby County\",\"682\":\"Stark County\",\"683\":\"Stephenson County\",\"684\":\"Tazewell County\",\"685\":\"Union County\",\"686\":\"Vermilion County\",\"687\":\"Wabash County\",\"688\":\"Warren County\",\"689\":\"Washington County\",\"690\":\"Wayne County\",\"691\":\"White County\",\"692\":\"Whiteside County\",\"693\":\"Will County\",\"694\":\"Williamson County\",\"695\":\"Winnebago County\",\"696\":\"Woodford County\",\"697\":\"Adams County\",\"698\":\"Allen County\",\"699\":\"Bartholomew County\",\"700\":\"Benton County\",\"701\":\"Blackford County\",\"702\":\"Boone County\",\"703\":\"Brown County\",\"704\":\"Carroll County\",\"705\":\"Cass County\",\"706\":\"Clark County\",\"707\":\"Clay County\",\"708\":\"Clinton County\",\"709\":\"Crawford County\",\"710\":\"Daviess County\",\"711\":\"Dearborn County\",\"712\":\"Decatur County\",\"713\":\"DeKalb County\",\"714\":\"Delaware County\",\"715\":\"Dubois County\",\"716\":\"Elkhart County\",\"717\":\"Fayette County\",\"718\":\"Floyd County\",\"719\":\"Fountain County\",\"720\":\"Franklin County\",\"721\":\"Fulton County\",\"722\":\"Gibson County\",\"723\":\"Grant County\",\"724\":\"Greene County\",\"725\":\"Hamilton County\",\"726\":\"Hancock County\",\"727\":\"Harrison County\",\"728\":\"Hendricks County\",\"729\":\"Henry County\",\"730\":\"Howard County\",\"731\":\"Huntington County\",\"732\":\"Jackson County\",\"733\":\"Jasper County\",\"734\":\"Jay County\",\"735\":\"Jefferson County\",\"736\":\"Jennings County\",\"737\":\"Johnson County\",\"738\":\"Knox County\",\"739\":\"Kosciusko County\",\"740\":\"LaGrange County\",\"741\":\"Lake County\",\"742\":\"LaPorte County\",\"743\":\"Lawrence County\",\"744\":\"Madison County\",\"745\":\"Marion County\",\"746\":\"Marshall County\",\"747\":\"Martin County\",\"748\":\"Miami County\",\"749\":\"Monroe County\",\"750\":\"Montgomery County\",\"751\":\"Morgan County\",\"752\":\"Newton County\",\"753\":\"Noble County\",\"754\":\"Ohio County\",\"755\":\"Orange County\",\"756\":\"Owen County\",\"757\":\"Parke County\",\"758\":\"Perry County\",\"759\":\"Pike County\",\"760\":\"Porter County\",\"761\":\"Posey County\",\"762\":\"Pulaski County\",\"763\":\"Putnam County\",\"764\":\"Randolph County\",\"765\":\"Ripley County\",\"766\":\"Rush County\",\"767\":\"St. Joseph County\",\"768\":\"Scott County\",\"769\":\"Shelby County\",\"770\":\"Spencer County\",\"771\":\"Starke County\",\"772\":\"Steuben County\",\"773\":\"Sullivan County\",\"774\":\"Switzerland County\",\"775\":\"Tippecanoe County\",\"776\":\"Tipton County\",\"777\":\"Union County\",\"778\":\"Vanderburgh County\",\"779\":\"Vermillion County\",\"780\":\"Vigo County\",\"781\":\"Wabash County\",\"782\":\"Warren County\",\"783\":\"Warrick County\",\"784\":\"Washington County\",\"785\":\"Wayne County\",\"786\":\"Wells County\",\"787\":\"White County\",\"788\":\"Whitley County\",\"789\":\"Adair County\",\"790\":\"Adams County\",\"791\":\"Allamakee County\",\"792\":\"Appanoose County\",\"793\":\"Audubon County\",\"794\":\"Benton County\",\"795\":\"Black Hawk County\",\"796\":\"Boone County\",\"797\":\"Bremer County\",\"798\":\"Buchanan County\",\"799\":\"Buena Vista County\",\"800\":\"Butler County\",\"801\":\"Calhoun County\",\"802\":\"Carroll County\",\"803\":\"Cass County\",\"804\":\"Cedar County\",\"805\":\"Cerro Gordo County\",\"806\":\"Cherokee County\",\"807\":\"Chickasaw County\",\"808\":\"Clarke County\",\"809\":\"Clay County\",\"810\":\"Clayton County\",\"811\":\"Clinton County\",\"812\":\"Crawford County\",\"813\":\"Dallas County\",\"814\":\"Davis County\",\"815\":\"Decatur County\",\"816\":\"Delaware County\",\"817\":\"Des Moines County\",\"818\":\"Dickinson County\",\"819\":\"Dubuque County\",\"820\":\"Emmet County\",\"821\":\"Fayette County\",\"822\":\"Floyd County\",\"823\":\"Franklin County\",\"824\":\"Fremont County\",\"825\":\"Greene County\",\"826\":\"Grundy County\",\"827\":\"Guthrie County\",\"828\":\"Hamilton County\",\"829\":\"Hancock County\",\"830\":\"Hardin County\",\"831\":\"Harrison County\",\"832\":\"Henry County\",\"833\":\"Howard County\",\"834\":\"Humboldt County\",\"835\":\"Ida County\",\"836\":\"Iowa County\",\"837\":\"Jackson County\",\"838\":\"Jasper County\",\"839\":\"Jefferson County\",\"840\":\"Johnson County\",\"841\":\"Jones County\",\"842\":\"Keokuk County\",\"843\":\"Kossuth County\",\"844\":\"Lee County\",\"845\":\"Linn County\",\"846\":\"Louisa County\",\"847\":\"Lucas County\",\"848\":\"Lyon County\",\"849\":\"Madison County\",\"850\":\"Mahaska County\",\"851\":\"Marion County\",\"852\":\"Marshall County\",\"853\":\"Mills County\",\"854\":\"Mitchell County\",\"855\":\"Monona County\",\"856\":\"Monroe County\",\"857\":\"Montgomery County\",\"858\":\"Muscatine County\",\"859\":\"O\\'Brien County\",\"860\":\"Osceola County\",\"861\":\"Page County\",\"862\":\"Palo Alto County\",\"863\":\"Plymouth County\",\"864\":\"Pocahontas County\",\"865\":\"Polk County\",\"866\":\"Pottawattamie County\",\"867\":\"Poweshiek County\",\"868\":\"Ringgold County\",\"869\":\"Sac County\",\"870\":\"Scott County\",\"871\":\"Shelby County\",\"872\":\"Sioux County\",\"873\":\"Story County\",\"874\":\"Tama County\",\"875\":\"Taylor County\",\"876\":\"Union County\",\"877\":\"Van Buren County\",\"878\":\"Wapello County\",\"879\":\"Warren County\",\"880\":\"Washington County\",\"881\":\"Wayne County\",\"882\":\"Webster County\",\"883\":\"Winnebago County\",\"884\":\"Winneshiek County\",\"885\":\"Woodbury County\",\"886\":\"Worth County\",\"887\":\"Wright County\",\"888\":\"Allen County\",\"889\":\"Anderson County\",\"890\":\"Atchison County\",\"891\":\"Barber County\",\"892\":\"Barton County\",\"893\":\"Bourbon County\",\"894\":\"Brown County\",\"895\":\"Butler County\",\"896\":\"Chase County\",\"897\":\"Chautauqua County\",\"898\":\"Cherokee County\",\"899\":\"Cheyenne County\",\"900\":\"Clark County\",\"901\":\"Clay County\",\"902\":\"Butt County\",\"903\":\"Coffey County\",\"904\":\"Comanche County\",\"905\":\"Cowley County\",\"906\":\"Crawford County\",\"907\":\"Decatur County\",\"908\":\"Dickinson County\",\"909\":\"Doniphan County\",\"910\":\"Douglas County\",\"911\":\"Edwards County\",\"912\":\"Elk County\",\"913\":\"Ellis County\",\"914\":\"Ellsworth County\",\"915\":\"Finney County\",\"916\":\"Ford County\",\"917\":\"Franklin County\",\"918\":\"Geary County\",\"919\":\"Gove County\",\"920\":\"Graham County\",\"921\":\"Grant County\",\"922\":\"Gray County\",\"923\":\"Greeley County\",\"924\":\"Greenwood County\",\"925\":\"Hamilton County\",\"926\":\"Harper County\",\"927\":\"Harvey County\",\"928\":\"Haskell County\",\"929\":\"Hodgeman County\",\"930\":\"Jackson County\",\"931\":\"Jefferson County\",\"932\":\"Jewell County\",\"933\":\"Johnson County\",\"934\":\"Kearny County\",\"935\":\"Kingman County\",\"936\":\"Kiowa County\",\"937\":\"Labette County\",\"938\":\"Lane County\",\"939\":\"Leavenworth County\",\"940\":\"Lincoln County\",\"941\":\"Linn County\",\"942\":\"Logan County\",\"943\":\"Lyon County\",\"944\":\"McPherson County\",\"945\":\"Marion County\",\"946\":\"Marshall County\",\"947\":\"Meade County\",\"948\":\"Miami County\",\"949\":\"Mitchell County\",\"950\":\"Montgomery County\",\"951\":\"Morris County\",\"952\":\"Morton County\",\"953\":\"Nemaha County\",\"954\":\"Neosho County\",\"955\":\"Ness County\",\"956\":\"Norton County\",\"957\":\"Osage County\",\"958\":\"Osborne County\",\"959\":\"Ottawa County\",\"960\":\"Pawnee County\",\"961\":\"Phillips County\",\"962\":\"Pottawatomie County\",\"963\":\"Pratt County\",\"964\":\"Rawlins County\",\"965\":\"Reno County\",\"966\":\"Republic County\",\"967\":\"Rice County\",\"968\":\"Riley County\",\"969\":\"Rooks County\",\"970\":\"Rush County\",\"971\":\"Russell County\",\"972\":\"Saline County\",\"973\":\"Scott County\",\"974\":\"Sedgwick County\",\"975\":\"Seward County\",\"976\":\"Shawnee County\",\"977\":\"Sheridan County\",\"978\":\"Sherman County\",\"979\":\"Smith County\",\"980\":\"Stafford County\",\"981\":\"Stanton County\",\"982\":\"Stevens County\",\"983\":\"Sumner County\",\"984\":\"Thomas County\",\"985\":\"Trego County\",\"986\":\"Wabaunsee County\",\"987\":\"Wallace County\",\"988\":\"Washington County\",\"989\":\"Wichita County\",\"990\":\"Wilson County\",\"991\":\"Woodson County\",\"992\":\"Wyandotte County\",\"993\":\"Adair County\",\"994\":\"Allen County\",\"995\":\"Anderson County\",\"996\":\"Ballard County\",\"997\":\"Barren County\",\"998\":\"Bath County\",\"999\":\"Bell County\",\"1000\":\"Boone County\",\"1001\":\"Bourbon County\",\"1002\":\"Boyd County\",\"1003\":\"Boyle County\",\"1004\":\"Bracken County\",\"1005\":\"Breathitt County\",\"1006\":\"Breckinridge County\",\"1007\":\"Bullitt County\",\"1008\":\"Butler County\",\"1009\":\"Caldwell County\",\"1010\":\"Calloway County\",\"1011\":\"Campbell County\",\"1012\":\"Carlisle County\",\"1013\":\"Carroll County\",\"1014\":\"Carter County\",\"1015\":\"Casey County\",\"1016\":\"Christian County\",\"1017\":\"Clark County\",\"1018\":\"Clay County\",\"1019\":\"Clinton County\",\"1020\":\"Crittenden County\",\"1021\":\"Cumberland County\",\"1022\":\"Daviess County\",\"1023\":\"Edmonson County\",\"1024\":\"Elliott County\",\"1025\":\"Estill County\",\"1026\":\"Fayette County\",\"1027\":\"Fleming County\",\"1028\":\"Floyd County\",\"1029\":\"Franklin County\",\"1030\":\"Fulton County\",\"1031\":\"Gallatin County\",\"1032\":\"Garrard County\",\"1033\":\"Grant County\",\"1034\":\"Graves County\",\"1035\":\"Grayson County\",\"1036\":\"Green County\",\"1037\":\"Greenup County\",\"1038\":\"Hancock County\",\"1039\":\"Hardin County\",\"1040\":\"Harlan County\",\"1041\":\"Harrison County\",\"1042\":\"Hart County\",\"1043\":\"Henderson County\",\"1044\":\"Henry County\",\"1045\":\"Hickman County\",\"1046\":\"Hopkins County\",\"1047\":\"Jackson County\",\"1048\":\"Jefferson County\",\"1049\":\"Jessamine County\",\"1050\":\"Johnson County\",\"1051\":\"Kenton County\",\"1052\":\"Knott County\",\"1053\":\"Knox County\",\"1054\":\"Larue County\",\"1055\":\"Laurel County\",\"1056\":\"Lawrence County\",\"1057\":\"Lee County\",\"1058\":\"Leslie County\",\"1059\":\"Letcher County\",\"1060\":\"Lewis County\",\"1061\":\"Lincoln County\",\"1062\":\"Livingston County\",\"1063\":\"Logan County\",\"1064\":\"Lyon County\",\"1065\":\"McCracken County\",\"1066\":\"McCreary County\",\"1067\":\"McLean County\",\"1068\":\"Madison County\",\"1069\":\"Magoffin County\",\"1070\":\"Marion County\",\"1071\":\"Marshall County\",\"1072\":\"Martin County\",\"1073\":\"Mason County\",\"1074\":\"Meade County\",\"1075\":\"Menifee County\",\"1076\":\"Mercer County\",\"1077\":\"Metcalfe County\",\"1078\":\"Monroe County\",\"1079\":\"Montgomery County\",\"1080\":\"Morgan County\",\"1081\":\"Muhlenberg County\",\"1082\":\"Nelson County\",\"1083\":\"Nicholas County\",\"1084\":\"Ohio County\",\"1085\":\"Oldham County\",\"1086\":\"Owen County\",\"1087\":\"Owsley County\",\"1088\":\"Pendleton County\",\"1089\":\"Perry County\",\"1090\":\"Pike County\",\"1091\":\"Powell County\",\"1092\":\"Pulaski County\",\"1093\":\"Robertson County\",\"1094\":\"Rockcastle County\",\"1095\":\"Rowan County\",\"1096\":\"Russell County\",\"1097\":\"Scott County\",\"1098\":\"Shelby County\",\"1099\":\"Simpson County\",\"1100\":\"Spencer County\",\"1101\":\"Taylor County\",\"1102\":\"Todd County\",\"1103\":\"Trigg County\",\"1104\":\"Trimble County\",\"1105\":\"Union County\",\"1106\":\"Warren County\",\"1107\":\"Washington County\",\"1108\":\"Wayne County\",\"1109\":\"Webster County\",\"1110\":\"Whitley County\",\"1111\":\"Wolfe County\",\"1112\":\"Woodford County\",\"1113\":\"Acadia Parish\",\"1114\":\"Allen Parish\",\"1115\":\"Ascension Parish\",\"1116\":\"Assumption Parish\",\"1117\":\"Avoyelles Parish\",\"1118\":\"Beauregard Parish\",\"1119\":\"Bienville Parish\",\"1120\":\"Bossier Parish\",\"1121\":\"Caddo Parish\",\"1122\":\"Calcasieu Parish\",\"1123\":\"Caldwell Parish\",\"1124\":\"Cameron Parish\",\"1125\":\"Catahoula Parish\",\"1126\":\"Claiborne Parish\",\"1127\":\"Concordia Parish\",\"1128\":\"De Soto Parish\",\"1129\":\"East Baton Rouge Parish\",\"1130\":\"East Carroll Parish\",\"1131\":\"East Feliciana Parish\",\"1132\":\"Evangeline Parish\",\"1133\":\"Franklin Parish\",\"1134\":\"Grant Parish\",\"1135\":\"Iberia Parish\",\"1136\":\"Iberville Parish\",\"1137\":\"Jackson Parish\",\"1138\":\"Jefferson Parish\",\"1139\":\"Jefferson Davis Parish\",\"1140\":\"Lafayette Parish\",\"1141\":\"Lafourche Parish\",\"1142\":\"La Salle Parish\",\"1143\":\"Lincoln Parish\",\"1144\":\"Livingston Parish\",\"1145\":\"Madison Parish\",\"1146\":\"Morehouse Parish\",\"1147\":\"Natchitoches Parish\",\"1148\":\"Orleans Parish\",\"1149\":\"Ouachita Parish\",\"1150\":\"Plaquemines Parish\",\"1151\":\"Pointe Coupee Parish\",\"1152\":\"Rapides Parish\",\"1153\":\"Red River Parish\",\"1154\":\"Richland Parish\",\"1155\":\"Sabine Parish\",\"1156\":\"St. Bernard Parish\",\"1157\":\"St. Charles Parish\",\"1158\":\"St. Helena Parish\",\"1159\":\"St. James Parish\",\"1160\":\"St. John the Baptist Parish\",\"1161\":\"St. Landry Parish\",\"1162\":\"St. Martin Parish\",\"1163\":\"St. Mary Parish\",\"1164\":\"St. Tammany Parish\",\"1165\":\"Tangipahoa Parish\",\"1166\":\"Tensas Parish\",\"1167\":\"Terrebonne Parish\",\"1168\":\"Union Parish\",\"1169\":\"Vermilion Parish\",\"1170\":\"Vernon Parish\",\"1171\":\"Washington Parish\",\"1172\":\"Webster Parish\",\"1173\":\"West Baton Rouge Parish\",\"1174\":\"West Carroll Parish\",\"1175\":\"West Feliciana Parish\",\"1176\":\"Winn Parish\",\"1177\":\"Androscoggin County\",\"1178\":\"Aroostook County\",\"1179\":\"Cumberland County\",\"1180\":\"Franklin County\",\"1181\":\"Hancock County\",\"1182\":\"Kennebec County\",\"1183\":\"Knox County\",\"1184\":\"Lincoln County\",\"1185\":\"Oxford County\",\"1186\":\"Penobscot County\",\"1187\":\"Piscataquis County\",\"1188\":\"Sagadahoc County\",\"1189\":\"Somerset County\",\"1190\":\"Waldo County\",\"1191\":\"Washington County\",\"1192\":\"York County\",\"1193\":\"Allegany County\",\"1194\":\"Anne Arundel County\",\"1195\":\"Baltimore County\",\"1196\":\"Calvert County\",\"1197\":\"Caroline County\",\"1198\":\"Carroll County\",\"1199\":\"Cecil County\",\"1200\":\"Charles County\",\"1201\":\"Dorchester County\",\"1202\":\"Frederick County\",\"1203\":\"Garrett County\",\"1204\":\"Harford County\",\"1205\":\"Howard County\",\"1206\":\"Kent County\",\"1207\":\"Montgomery County\",\"1208\":\"Prince George\\'s County\",\"1209\":\"Queen Anne\\'s County\",\"1210\":\"St. Mary\\'s County\",\"1211\":\"Somerset County\",\"1212\":\"Talbot County\",\"1213\":\"Washington County\",\"1214\":\"Wicomico County\",\"1215\":\"Worcester County\",\"1216\":\"Baltimore city\",\"1217\":\"Barnstable County\",\"1218\":\"Berkshire County\",\"1219\":\"Bristol County\",\"1220\":\"Dukes County\",\"1221\":\"Essex County\",\"1222\":\"Franklin County\",\"1223\":\"Hampden County\",\"1224\":\"Hampshire County\",\"1225\":\"Middlesex County\",\"1226\":\"Nantucket County\",\"1227\":\"Norfolk County\",\"1228\":\"Plymouth County\",\"1229\":\"Suffolk County\",\"1230\":\"Worcester County\",\"1231\":\"Alcona County\",\"1232\":\"Alger County\",\"1233\":\"Allegan County\",\"1234\":\"Alpena County\",\"1235\":\"Antrim County\",\"1236\":\"Arenac County\",\"1237\":\"Baraga County\",\"1238\":\"Barry County\",\"1239\":\"Bay County\",\"1240\":\"Benzie County\",\"1241\":\"Berrien County\",\"1242\":\"Branch County\",\"1243\":\"Calhoun County\",\"1244\":\"Cass County\",\"1245\":\"Charlevoix County\",\"1246\":\"Cheboygan County\",\"1247\":\"Chippewa County\",\"1248\":\"Clare County\",\"1249\":\"Clinton County\",\"1250\":\"Crawford County\",\"1251\":\"Delta County\",\"1252\":\"Dickinson County\",\"1253\":\"Eaton County\",\"1254\":\"Emmet County\",\"1255\":\"Genesee County\",\"1256\":\"Gladwin County\",\"1257\":\"Gogebic County\",\"1258\":\"Grand Traverse County\",\"1259\":\"Gratiot County\",\"1260\":\"Hillsdale County\",\"1261\":\"Houghton County\",\"1262\":\"Huron County\",\"1263\":\"Ingham County\",\"1264\":\"Ionia County\",\"1265\":\"Iosco County\",\"1266\":\"Iron County\",\"1267\":\"Isabella County\",\"1268\":\"Jackson County\",\"1269\":\"Kalamazoo County\",\"1270\":\"Kalkaska County\",\"1271\":\"Kent County\",\"1272\":\"Keweenaw County\",\"1273\":\"Lake County\",\"1274\":\"Lapeer County\",\"1275\":\"Leelanau County\",\"1276\":\"Lenawee County\",\"1277\":\"Livingston County\",\"1278\":\"Luce County\",\"1279\":\"Mackinac County\",\"1280\":\"Macomb County\",\"1281\":\"Manistee County\",\"1282\":\"Marquette County\",\"1283\":\"Mason County\",\"1284\":\"Mecosta County\",\"1285\":\"Menominee County\",\"1286\":\"Midland County\",\"1287\":\"Missaukee County\",\"1288\":\"Monroe County\",\"1289\":\"Montcalm County\",\"1290\":\"Montmorency County\",\"1291\":\"Muskegon County\",\"1292\":\"Newaygo County\",\"1293\":\"Oakland County\",\"1294\":\"Oceana County\",\"1295\":\"Ogemaw County\",\"1296\":\"Ontonagon County\",\"1297\":\"Osceola County\",\"1298\":\"Oscoda County\",\"1299\":\"Otsego County\",\"1300\":\"Ottawa County\",\"1301\":\"Presque Isle County\",\"1302\":\"Roscommon County\",\"1303\":\"Saginaw County\",\"1304\":\"St. Clair County\",\"1305\":\"St. Joseph County\",\"1306\":\"Sanilac County\",\"1307\":\"Schoolcraft County\",\"1308\":\"Shiawassee County\",\"1309\":\"Tuscola County\",\"1310\":\"Van Buren County\",\"1311\":\"Washtenaw County\",\"1312\":\"Wayne County\",\"1313\":\"Wexford County\",\"1314\":\"Aitkin County\",\"1315\":\"Anoka County\",\"1316\":\"Becker County\",\"1317\":\"Beltrami County\",\"1318\":\"Benton County\",\"1319\":\"Big Stone County\",\"1320\":\"Blue Earth County\",\"1321\":\"Brown County\",\"1322\":\"Carlton County\",\"1323\":\"Carver County\",\"1324\":\"Cass County\",\"1325\":\"Chippewa County\",\"1326\":\"Chisago County\",\"1327\":\"Clay County\",\"1328\":\"Clearwater County\",\"1329\":\"Cook County\",\"1330\":\"Cottonwood County\",\"1331\":\"Crow Wing County\",\"1332\":\"Dakota County\",\"1333\":\"Dodge County\",\"1334\":\"Douglas County\",\"1335\":\"Faribault County\",\"1336\":\"Fillmore County\",\"1337\":\"Freeborn County\",\"1338\":\"Goodhue County\",\"1339\":\"Grant County\",\"1340\":\"Hennepin County\",\"1341\":\"Houston County\",\"1342\":\"Hubbard County\",\"1343\":\"Isanti County\",\"1344\":\"Itasca County\",\"1345\":\"Jackson County\",\"1346\":\"Kanabec County\",\"1347\":\"Kandiyohi County\",\"1348\":\"Kittson County\",\"1349\":\"Koochiching County\",\"1350\":\"Lac qui Parle County\",\"1351\":\"Lake County\",\"1352\":\"Lake of the Woods County\",\"1353\":\"Le Sueur County\",\"1354\":\"Lincoln County\",\"1355\":\"Lyon County\",\"1356\":\"McLeod County\",\"1357\":\"Mahnomen County\",\"1358\":\"Marshall County\",\"1359\":\"Martin County\",\"1360\":\"Meeker County\",\"1361\":\"Mille Lacs County\",\"1362\":\"Morrison County\",\"1363\":\"Mower County\",\"1364\":\"Murray County\",\"1365\":\"Nicollet County\",\"1366\":\"Nobles County\",\"1367\":\"Norman County\",\"1368\":\"Olmsted County\",\"1369\":\"Otter Tail County\",\"1370\":\"Pennington County\",\"1371\":\"Pine County\",\"1372\":\"Pipestone County\",\"1373\":\"Polk County\",\"1374\":\"Pope County\",\"1375\":\"Ramsey County\",\"1376\":\"Red Lake County\",\"1377\":\"Redwood County\",\"1378\":\"Renville County\",\"1379\":\"Rice County\",\"1380\":\"Rock County\",\"1381\":\"Roseau County\",\"1382\":\"St. Louis County\",\"1383\":\"Scott County\",\"1384\":\"Sherburne County\",\"1385\":\"Sibley County\",\"1386\":\"Stearns County\",\"1387\":\"Steele County\",\"1388\":\"Stevens County\",\"1389\":\"Swift County\",\"1390\":\"Todd County\",\"1391\":\"Traverse County\",\"1392\":\"Wabasha County\",\"1393\":\"Wadena County\",\"1394\":\"Waseca County\",\"1395\":\"Washington County\",\"1396\":\"Watonwan County\",\"1397\":\"Wilkin County\",\"1398\":\"Winona County\",\"1399\":\"Wright County\",\"1400\":\"Yellow Medicine County\",\"1401\":\"Adams County\",\"1402\":\"Alcorn County\",\"1403\":\"Amite County\",\"1404\":\"Attala County\",\"1405\":\"Benton County\",\"1406\":\"Bolivar County\",\"1407\":\"Calhoun County\",\"1408\":\"Carroll County\",\"1409\":\"Chickasaw County\",\"1410\":\"Choctaw County\",\"1411\":\"Claiborne County\",\"1412\":\"Clarke County\",\"1413\":\"Clay County\",\"1414\":\"Coahoma County\",\"1415\":\"Copiah County\",\"1416\":\"Covington County\",\"1417\":\"DeSoto County\",\"1418\":\"Forrest County\",\"1419\":\"Franklin County\",\"1420\":\"George County\",\"1421\":\"Greene County\",\"1422\":\"Grenada County\",\"1423\":\"Hancock County\",\"1424\":\"Harrison County\",\"1425\":\"Hinds County\",\"1426\":\"Holmes County\",\"1427\":\"Humphreys County\",\"1428\":\"Issaquena County\",\"1429\":\"Itawamba County\",\"1430\":\"Jackson County\",\"1431\":\"Jasper County\",\"1432\":\"Jefferson County\",\"1433\":\"Jefferson Davis County\",\"1434\":\"Jones County\",\"1435\":\"Kemper County\",\"1436\":\"Lafayette County\",\"1437\":\"Lamar County\",\"1438\":\"Lauderdale County\",\"1439\":\"Lawrence County\",\"1440\":\"Leake County\",\"1441\":\"Lee County\",\"1442\":\"Leflore County\",\"1443\":\"Lincoln County\",\"1444\":\"Lowndes County\",\"1445\":\"Madison County\",\"1446\":\"Marion County\",\"1447\":\"Marshall County\",\"1448\":\"Monroe County\",\"1449\":\"Montgomery County\",\"1450\":\"Neshoba County\",\"1451\":\"Newton County\",\"1452\":\"Noxubee County\",\"1453\":\"Oktibbeha County\",\"1454\":\"Panola County\",\"1455\":\"Pearl River County\",\"1456\":\"Perry County\",\"1457\":\"Pike County\",\"1458\":\"Pontotoc County\",\"1459\":\"Prentiss County\",\"1460\":\"Quitman County\",\"1461\":\"Rankin County\",\"1462\":\"Scott County\",\"1463\":\"Sharkey County\",\"1464\":\"Simpson County\",\"1465\":\"Smith County\",\"1466\":\"Stone County\",\"1467\":\"Sunflower County\",\"1468\":\"Tallahatchie County\",\"1469\":\"Tate County\",\"1470\":\"Tippah County\",\"1471\":\"Tishomingo County\",\"1472\":\"Tunica County\",\"1473\":\"Union County\",\"1474\":\"Walthall County\",\"1475\":\"Warren County\",\"1476\":\"Washington County\",\"1477\":\"Wayne County\",\"1478\":\"Webster County\",\"1479\":\"Wilkinson County\",\"1480\":\"Winston County\",\"1481\":\"Yalobusha County\",\"1482\":\"Yazoo County\",\"1483\":\"Adair County\",\"1484\":\"Andrew County\",\"1485\":\"Atchison County\",\"1486\":\"Audrain County\",\"1487\":\"Barry County\",\"1488\":\"Barton County\",\"1489\":\"Bates County\",\"1490\":\"Benton County\",\"1491\":\"Bollinger County\",\"1492\":\"Boone County\",\"1493\":\"Buchanan County\",\"1494\":\"Butler County\",\"1495\":\"Caldwell County\",\"1496\":\"Callaway County\",\"1497\":\"Camden County\",\"1498\":\"Cape Girardeau County\",\"1499\":\"Carroll County\",\"1500\":\"Carter County\",\"1501\":\"Cass County\",\"1502\":\"Cedar County\",\"1503\":\"Chariton County\",\"1504\":\"Christian County\",\"1505\":\"Clark County\",\"1506\":\"Clay County\",\"1507\":\"Clinton County\",\"1508\":\"Cole County\",\"1509\":\"Cooper County\",\"1510\":\"Crawford County\",\"1511\":\"Dade County\",\"1512\":\"Dallas County\",\"1513\":\"Daviess County\",\"1514\":\"DeKalb County\",\"1515\":\"Dent County\",\"1516\":\"Douglas County\",\"1517\":\"Dunklin County\",\"1518\":\"Franklin County\",\"1519\":\"Gasconade County\",\"1520\":\"Gentry County\",\"1521\":\"Greene County\",\"1522\":\"Grundy County\",\"1523\":\"Harrison County\",\"1524\":\"Henry County\",\"1525\":\"Hickory County\",\"1526\":\"Holt County\",\"1527\":\"Howard County\",\"1528\":\"Howell County\",\"1529\":\"Iron County\",\"1530\":\"Jackson County\",\"1531\":\"Jasper County\",\"1532\":\"Jefferson County\",\"1533\":\"Johnson County\",\"1534\":\"Knox County\",\"1535\":\"Laclede County\",\"1536\":\"Lafayette County\",\"1537\":\"Lawrence County\",\"1538\":\"Lewis County\",\"1539\":\"Lincoln County\",\"1540\":\"Linn County\",\"1541\":\"Livingston County\",\"1542\":\"McDonald County\",\"1543\":\"Macon County\",\"1544\":\"Madison County\",\"1545\":\"Maries County\",\"1546\":\"Marion County\",\"1547\":\"Mercer County\",\"1548\":\"Miller County\",\"1549\":\"Mississippi County\",\"1550\":\"Moniteau County\",\"1551\":\"Monroe County\",\"1552\":\"Montgomery County\",\"1553\":\"Morgan County\",\"1554\":\"New Madrid County\",\"1555\":\"Newton County\",\"1556\":\"Nodaway County\",\"1557\":\"Oregon County\",\"1558\":\"Osage County\",\"1559\":\"Ozark County\",\"1560\":\"Pemiscot County\",\"1561\":\"Perry County\",\"1562\":\"Pettis County\",\"1563\":\"Phelps County\",\"1564\":\"Pike County\",\"1565\":\"Platte County\",\"1566\":\"Polk County\",\"1567\":\"Pulaski County\",\"1568\":\"Putnam County\",\"1569\":\"Ralls County\",\"1570\":\"Randolph County\",\"1571\":\"Ray County\",\"1572\":\"Reynolds County\",\"1573\":\"Ripley County\",\"1574\":\"St. Charles County\",\"1575\":\"St. Clair County\",\"1576\":\"Ste. Genevieve County\",\"1577\":\"St. Francois County\",\"1578\":\"St. Louis County\",\"1579\":\"Saline County\",\"1580\":\"Schuyler County\",\"1581\":\"Scotland County\",\"1582\":\"Scott County\",\"1583\":\"Shannon County\",\"1584\":\"Shelby County\",\"1585\":\"Stoddard County\",\"1586\":\"Stone County\",\"1587\":\"Sullivan County\",\"1588\":\"Taney County\",\"1589\":\"Texas County\",\"1590\":\"Vernon County\",\"1591\":\"Warren County\",\"1592\":\"Washington County\",\"1593\":\"Wayne County\",\"1594\":\"Webster County\",\"1595\":\"Worth County\",\"1596\":\"Wright County\",\"1597\":\"St. Louis city\",\"1598\":\"Beaverhead County\",\"1599\":\"Big Horn County\",\"1600\":\"Blaine County\",\"1601\":\"Broadwater County\",\"1602\":\"Carbon County\",\"1603\":\"Carter County\",\"1604\":\"Cascade County\",\"1605\":\"Chouteau County\",\"1606\":\"Custer County\",\"1607\":\"Daniels County\",\"1608\":\"Dawson County\",\"1609\":\"Deer Lodge County\",\"1610\":\"Fallon County\",\"1611\":\"Fergus County\",\"1612\":\"Flathead County\",\"1613\":\"Gallatin County\",\"1614\":\"Garfield County\",\"1615\":\"Glacier County\",\"1616\":\"Golden Valley County\",\"1617\":\"Granite County\",\"1618\":\"Hill County\",\"1619\":\"Jefferson County\",\"1620\":\"Judith Basin County\",\"1621\":\"Lake County\",\"1622\":\"Lewis and Clark County\",\"1623\":\"Liberty County\",\"1624\":\"Lincoln County\",\"1625\":\"McCone County\",\"1626\":\"Madison County\",\"1627\":\"Meagher County\",\"1628\":\"Mineral County\",\"1629\":\"Missoula County\",\"1630\":\"Musselshell County\",\"1631\":\"Park County\",\"1632\":\"Petroleum County\",\"1633\":\"Phillips County\",\"1634\":\"Pondera County\",\"1635\":\"Powder River County\",\"1636\":\"Powell County\",\"1637\":\"Prairie County\",\"1638\":\"Ravalli County\",\"1639\":\"Richland County\",\"1640\":\"Roosevelt County\",\"1641\":\"Rosebud County\",\"1642\":\"Sanders County\",\"1643\":\"Sheridan County\",\"1644\":\"Silver Bow County\",\"1645\":\"Stillwater County\",\"1646\":\"Sweet Grass County\",\"1647\":\"Teton County\",\"1648\":\"Toole County\",\"1649\":\"Treasure County\",\"1650\":\"Valley County\",\"1651\":\"Wheatland County\",\"1652\":\"Wibaux County\",\"1653\":\"Yellowstone County\",\"1654\":\"Adams County\",\"1655\":\"Antelope County\",\"1656\":\"Arthur County\",\"1657\":\"Banner County\",\"1658\":\"Blaine County\",\"1659\":\"Boone County\",\"1660\":\"Box Butte County\",\"1661\":\"Boyd County\",\"1662\":\"Brown County\",\"1663\":\"Buffalo County\",\"1664\":\"Burt County\",\"1665\":\"Butler County\",\"1666\":\"Cass County\",\"1667\":\"Cedar County\",\"1668\":\"Chase County\",\"1669\":\"Cherry County\",\"1670\":\"Cheyenne County\",\"1671\":\"Clay County\",\"1672\":\"Colfax County\",\"1673\":\"Cuming County\",\"1674\":\"Custer County\",\"1675\":\"Dakota County\",\"1676\":\"Dawes County\",\"1677\":\"Dawson County\",\"1678\":\"Deuel County\",\"1679\":\"Dixon County\",\"1680\":\"Dodge County\",\"1681\":\"Douglas County\",\"1682\":\"Dundy County\",\"1683\":\"Fillmore County\",\"1684\":\"Franklin County\",\"1685\":\"Frontier County\",\"1686\":\"Furnas County\",\"1687\":\"Gage County\",\"1688\":\"Garden County\",\"1689\":\"Garfield County\",\"1690\":\"Gosper County\",\"1691\":\"Grant County\",\"1692\":\"Greeley County\",\"1693\":\"Hall County\",\"1694\":\"Hamilton County\",\"1695\":\"Harlan County\",\"1696\":\"Hayes County\",\"1697\":\"Hitchcock County\",\"1698\":\"Holt County\",\"1699\":\"Hooker County\",\"1700\":\"Howard County\",\"1701\":\"Jefferson County\",\"1702\":\"Johnson County\",\"1703\":\"Kearney County\",\"1704\":\"Keith County\",\"1705\":\"Keya Paha County\",\"1706\":\"Kimball County\",\"1707\":\"Knox County\",\"1708\":\"Lancaster County\",\"1709\":\"Lincoln County\",\"1710\":\"Logan County\",\"1711\":\"Loup County\",\"1712\":\"McPherson County\",\"1713\":\"Madison County\",\"1714\":\"Merrick County\",\"1715\":\"Morrill County\",\"1716\":\"Nance County\",\"1717\":\"Nemaha County\",\"1718\":\"Nuckolls County\",\"1719\":\"Otoe County\",\"1720\":\"Pawnee County\",\"1721\":\"Perkins County\",\"1722\":\"Phelps County\",\"1723\":\"Pierce County\",\"1724\":\"Platte County\",\"1725\":\"Polk County\",\"1726\":\"Red Willow County\",\"1727\":\"Richardson County\",\"1728\":\"Rock County\",\"1729\":\"Saline County\",\"1730\":\"Sarpy County\",\"1731\":\"Saunders County\",\"1732\":\"Scotts Bluff County\",\"1733\":\"Seward County\",\"1734\":\"Sheridan County\",\"1735\":\"Sherman County\",\"1736\":\"Sioux County\",\"1737\":\"Stanton County\",\"1738\":\"Thayer County\",\"1739\":\"Thomas County\",\"1740\":\"Thurston County\",\"1741\":\"Valley County\",\"1742\":\"Washington County\",\"1743\":\"Wayne County\",\"1744\":\"Webster County\",\"1745\":\"Wheeler County\",\"1746\":\"York County\",\"1747\":\"Churchill County\",\"1748\":\"Clark County\",\"1749\":\"Douglas County\",\"1750\":\"Elko County\",\"1751\":\"Esmeralda County\",\"1752\":\"Eureka County\",\"1753\":\"Humboldt County\",\"1754\":\"Lander County\",\"1755\":\"Lincoln County\",\"1756\":\"Lyon County\",\"1757\":\"Mineral County\",\"1758\":\"Nye County\",\"1759\":\"Pershing County\",\"1760\":\"Storey County\",\"1761\":\"Washoe County\",\"1762\":\"White Pine County\",\"1763\":\"Carson City\",\"1764\":\"Belknap County\",\"1765\":\"Carroll County\",\"1766\":\"Cheshire County\",\"1767\":\"Coos County\",\"1768\":\"Grafton County\",\"1769\":\"Hillsborough County\",\"1770\":\"Merrimack County\",\"1771\":\"Rockingham County\",\"1772\":\"Strafford County\",\"1773\":\"Sullivan County\",\"1774\":\"Atlantic County\",\"1775\":\"Bergen County\",\"1776\":\"Burlington County\",\"1777\":\"Camden County\",\"1778\":\"Cape May County\",\"1779\":\"Cumberland County\",\"1780\":\"Essex County\",\"1781\":\"Gloucester County\",\"1782\":\"Hudson County\",\"1783\":\"Hunterdon County\",\"1784\":\"Mercer County\",\"1785\":\"Middlesex County\",\"1786\":\"Monmouth County\",\"1787\":\"Morris County\",\"1788\":\"Ocean County\",\"1789\":\"Passaic County\",\"1790\":\"Salem County\",\"1791\":\"Somerset County\",\"1792\":\"Sussex County\",\"1793\":\"Union County\",\"1794\":\"Warren County\",\"1795\":\"Bernalillo County\",\"1796\":\"Catron County\",\"1797\":\"Chaves County\",\"1798\":\"Cibola County\",\"1799\":\"Colfax County\",\"1800\":\"Curry County\",\"1801\":\"De Baca County\",\"1802\":\"Dona Ana County\",\"1803\":\"Eddy County\",\"1804\":\"Grant County\",\"1805\":\"Guadalupe County\",\"1806\":\"Harding County\",\"1807\":\"Hidalgo County\",\"1808\":\"Lea County\",\"1809\":\"Lincoln County\",\"1810\":\"Los Alamos County\",\"1811\":\"Luna County\",\"1812\":\"McKinley County\",\"1813\":\"Mora County\",\"1814\":\"Otero County\",\"1815\":\"Quay County\",\"1816\":\"Rio Arriba County\",\"1817\":\"Roosevelt County\",\"1818\":\"Sandoval County\",\"1819\":\"San Juan County\",\"1820\":\"San Miguel County\",\"1821\":\"Santa Fe County\",\"1822\":\"Sierra County\",\"1823\":\"Socorro County\",\"1824\":\"Taos County\",\"1825\":\"Torrance County\",\"1826\":\"Union County\",\"1827\":\"Valencia County\",\"1828\":\"Albany County\",\"1829\":\"Allegany County\",\"1830\":\"Bronx County\",\"1831\":\"Broome County\",\"1832\":\"Cattaraugus County\",\"1833\":\"Cayuga County\",\"1834\":\"Chautauqua County\",\"1835\":\"Chemung County\",\"1836\":\"Chenango County\",\"1837\":\"Clinton County\",\"1838\":\"Columbia County\",\"1839\":\"Cortland County\",\"1840\":\"Delaware County\",\"1841\":\"Dutchess County\",\"1842\":\"Erie County\",\"1843\":\"Essex County\",\"1844\":\"Franklin County\",\"1845\":\"Fulton County\",\"1846\":\"Genesee County\",\"1847\":\"Greene County\",\"1848\":\"Hamilton County\",\"1849\":\"Herkimer County\",\"1850\":\"Jefferson County\",\"1851\":\"Kings County\",\"1852\":\"Lewis County\",\"1853\":\"Livingston County\",\"1854\":\"Madison County\",\"1855\":\"Monroe County\",\"1856\":\"Montgomery County\",\"1857\":\"Nassau County\",\"1858\":\"New York County\",\"1859\":\"Niagara County\",\"1860\":\"Oneida County\",\"1861\":\"Onondaga County\",\"1862\":\"Ontario County\",\"1863\":\"Orange County\",\"1864\":\"Orleans County\",\"1865\":\"Oswego County\",\"1866\":\"Otsego County\",\"1867\":\"Putnam County\",\"1868\":\"Queens County\",\"1869\":\"Rensselaer County\",\"1870\":\"Richmond County\",\"1871\":\"Rockland County\",\"1872\":\"St. Lawrence County\",\"1873\":\"Saratoga County\",\"1874\":\"Schenectady County\",\"1875\":\"Schoharie County\",\"1876\":\"Schuyler County\",\"1877\":\"Seneca County\",\"1878\":\"Steuben County\",\"1879\":\"Suffolk County\",\"1880\":\"Sullivan County\",\"1881\":\"Tioga County\",\"1882\":\"Tompkins County\",\"1883\":\"Ulster County\",\"1884\":\"Warren County\",\"1885\":\"Washington County\",\"1886\":\"Wayne County\",\"1887\":\"Westchester County\",\"1888\":\"Wyoming County\",\"1889\":\"Yates County\",\"1890\":\"Alamance County\",\"1891\":\"Alexander County\",\"1892\":\"Alleghany County\",\"1893\":\"Anson County\",\"1894\":\"Ashe County\",\"1895\":\"Avery County\",\"1896\":\"Beaufort County\",\"1897\":\"Bertie County\",\"1898\":\"Bladen County\",\"1899\":\"Brunswick County\",\"1900\":\"Buncombe County\",\"1901\":\"Burke County\",\"1902\":\"Cabarrus County\",\"1903\":\"Caldwell County\",\"1904\":\"Camden County\",\"1905\":\"Carteret County\",\"1906\":\"Caswell County\",\"1907\":\"Catawba County\",\"1908\":\"Chatham County\",\"1909\":\"Cherokee County\",\"1910\":\"Chowan County\",\"1911\":\"Clay County\",\"1912\":\"Cleveland County\",\"1913\":\"Columbus County\",\"1914\":\"Craven County\",\"1915\":\"Cumberland County\",\"1916\":\"Currituck County\",\"1917\":\"Dare County\",\"1918\":\"Davidson County\",\"1919\":\"Davie County\",\"1920\":\"Duplin County\",\"1921\":\"Durham County\",\"1922\":\"Edgecombe County\",\"1923\":\"Forsyth County\",\"1924\":\"Franklin County\",\"1925\":\"Gaston County\",\"1926\":\"Gates County\",\"1927\":\"Graham County\",\"1928\":\"Granville County\",\"1929\":\"Greene County\",\"1930\":\"Guilford County\",\"1931\":\"Halifax County\",\"1932\":\"Harnett County\",\"1933\":\"Haywood County\",\"1934\":\"Henderson County\",\"1935\":\"Hertford County\",\"1936\":\"Hoke County\",\"1937\":\"Hyde County\",\"1938\":\"Iredell County\",\"1939\":\"Jackson County\",\"1940\":\"Johnston County\",\"1941\":\"Jones County\",\"1942\":\"Lee County\",\"1943\":\"Lenoir County\",\"1944\":\"Lincoln County\",\"1945\":\"McDowell County\",\"1946\":\"Macon County\",\"1947\":\"Madison County\",\"1948\":\"Martin County\",\"1949\":\"Mecklenburg County\",\"1950\":\"Mitchell County\",\"1951\":\"Montgomery County\",\"1952\":\"Moore County\",\"1953\":\"Nash County\",\"1954\":\"New Hanover County\",\"1955\":\"Northampton County\",\"1956\":\"Onslow County\",\"1957\":\"Orange County\",\"1958\":\"Pamlico County\",\"1959\":\"Pasquotank County\",\"1960\":\"Pender County\",\"1961\":\"Perquimans County\",\"1962\":\"Person County\",\"1963\":\"Pitt County\",\"1964\":\"Polk County\",\"1965\":\"Randolph County\",\"1966\":\"Richmond County\",\"1967\":\"Robeson County\",\"1968\":\"Rockingham County\",\"1969\":\"Rowan County\",\"1970\":\"Rutherford County\",\"1971\":\"Sampson County\",\"1972\":\"Scotland County\",\"1973\":\"Stanly County\",\"1974\":\"Stokes County\",\"1975\":\"Surry County\",\"1976\":\"Swain County\",\"1977\":\"Transylvania County\",\"1978\":\"Tyrrell County\",\"1979\":\"Union County\",\"1980\":\"Vance County\",\"1981\":\"Wake County\",\"1982\":\"Warren County\",\"1983\":\"Washington County\",\"1984\":\"Watauga County\",\"1985\":\"Wayne County\",\"1986\":\"Wilkes County\",\"1987\":\"Wilson County\",\"1988\":\"Yadkin County\",\"1989\":\"Yancey County\",\"1990\":\"Adams County\",\"1991\":\"Barnes County\",\"1992\":\"Benson County\",\"1993\":\"Billings County\",\"1994\":\"Bottineau County\",\"1995\":\"Bowman County\",\"1996\":\"Burke County\",\"1997\":\"Burleigh County\",\"1998\":\"Cass County\",\"1999\":\"Cavalier County\",\"2000\":\"Dickey County\",\"2001\":\"Divide County\",\"2002\":\"Dunn County\",\"2003\":\"Eddy County\",\"2004\":\"Emmons County\",\"2005\":\"Foster County\",\"2006\":\"Golden Valley County\",\"2007\":\"Grand Forks County\",\"2008\":\"Grant County\",\"2009\":\"Griggs County\",\"2010\":\"Hettinger County\",\"2011\":\"Kidder County\",\"2012\":\"LaMoure County\",\"2013\":\"Logan County\",\"2014\":\"McHenry County\",\"2015\":\"McIntosh County\",\"2016\":\"McKenzie County\",\"2017\":\"McLean County\",\"2018\":\"Mercer County\",\"2019\":\"Morton County\",\"2020\":\"Mountrail County\",\"2021\":\"Nelson County\",\"2022\":\"Oliver County\",\"2023\":\"Pembina County\",\"2024\":\"Pierce County\",\"2025\":\"Ramsey County\",\"2026\":\"Ransom County\",\"2027\":\"Renville County\",\"2028\":\"Richland County\",\"2029\":\"Rolette County\",\"2030\":\"Sargent County\",\"2031\":\"Sheridan County\",\"2032\":\"Sioux County\",\"2033\":\"Slope County\",\"2034\":\"Stark County\",\"2035\":\"Steele County\",\"2036\":\"Stutsman County\",\"2037\":\"Towner County\",\"2038\":\"Traill County\",\"2039\":\"Walsh County\",\"2040\":\"Ward County\",\"2041\":\"Wells County\",\"2042\":\"Williams County\",\"2043\":\"Adams County\",\"2044\":\"Allen County\",\"2045\":\"Ashland County\",\"2046\":\"Ashtabula County\",\"2047\":\"Athens County\",\"2048\":\"Auglaize County\",\"2049\":\"Belmont County\",\"2050\":\"Brown County\",\"2051\":\"Butler County\",\"2052\":\"Carroll County\",\"2053\":\"Champaign County\",\"2054\":\"Clark County\",\"2055\":\"Clermont County\",\"2056\":\"Clinton County\",\"2057\":\"Columbiana County\",\"2058\":\"Coshocton County\",\"2059\":\"Crawford County\",\"2060\":\"Cuyahoga County\",\"2061\":\"Darke County\",\"2062\":\"Defiance County\",\"2063\":\"Delaware County\",\"2064\":\"Erie County\",\"2065\":\"Fairfield County\",\"2066\":\"Fayette County\",\"2067\":\"Franklin County\",\"2068\":\"Fulton County\",\"2069\":\"Gallia County\",\"2070\":\"Geauga County\",\"2071\":\"Greene County\",\"2072\":\"Guernsey County\",\"2073\":\"Hamilton County\",\"2074\":\"Hancock County\",\"2075\":\"Hardin County\",\"2076\":\"Harrison County\",\"2077\":\"Henry County\",\"2078\":\"Highland County\",\"2079\":\"Hocking County\",\"2080\":\"Holmes County\",\"2081\":\"Huron County\",\"2082\":\"Jackson County\",\"2083\":\"Jefferson County\",\"2084\":\"Knox County\",\"2085\":\"Lake County\",\"2086\":\"Lawrence County\",\"2087\":\"Licking County\",\"2088\":\"Logan County\",\"2089\":\"Lorain County\",\"2090\":\"Lucas County\",\"2091\":\"Madison County\",\"2092\":\"Mahoning County\",\"2093\":\"Marion County\",\"2094\":\"Medina County\",\"2095\":\"Meigs County\",\"2096\":\"Mercer County\",\"2097\":\"Miami County\",\"2098\":\"Monroe County\",\"2099\":\"Montgomery County\",\"2100\":\"Morgan County\",\"2101\":\"Morrow County\",\"2102\":\"Muskingum County\",\"2103\":\"Noble County\",\"2104\":\"Ottawa County\",\"2105\":\"Paulding County\",\"2106\":\"Perry County\",\"2107\":\"Pickaway County\",\"2108\":\"Pike County\",\"2109\":\"Portage County\",\"2110\":\"Preble County\",\"2111\":\"Putnam County\",\"2112\":\"Richland County\",\"2113\":\"Ross County\",\"2114\":\"Sandusky County\",\"2115\":\"Scioto County\",\"2116\":\"Seneca County\",\"2117\":\"Shelby County\",\"2118\":\"Stark County\",\"2119\":\"Summit County\",\"2120\":\"Trumbull County\",\"2121\":\"Tuscarawas County\",\"2122\":\"Union County\",\"2123\":\"Van Wert County\",\"2124\":\"Vinton County\",\"2125\":\"Warren County\",\"2126\":\"Washington County\",\"2127\":\"Wayne County\",\"2128\":\"Williams County\",\"2129\":\"Wood County\",\"2130\":\"Wyandot County\",\"2131\":\"Adair County\",\"2132\":\"Alfalfa County\",\"2133\":\"Atoka County\",\"2134\":\"Beaver County\",\"2135\":\"Beckham County\",\"2136\":\"Blaine County\",\"2137\":\"Bryan County\",\"2138\":\"Caddo County\",\"2139\":\"Canadian County\",\"2140\":\"Carter County\",\"2141\":\"Cherokee County\",\"2142\":\"Choctaw County\",\"2143\":\"Cimarron County\",\"2144\":\"Cleveland County\",\"2145\":\"Coal County\",\"2146\":\"Comanche County\",\"2147\":\"Cotton County\",\"2148\":\"Craig County\",\"2149\":\"Creek County\",\"2150\":\"Custer County\",\"2151\":\"Delaware County\",\"2152\":\"Dewey County\",\"2153\":\"Ellis County\",\"2154\":\"Garfield County\",\"2155\":\"Garvin County\",\"2156\":\"Grady County\",\"2157\":\"Grant County\",\"2158\":\"Greer County\",\"2159\":\"Harmon County\",\"2160\":\"Harper County\",\"2161\":\"Haskell County\",\"2162\":\"Hughes County\",\"2163\":\"Jackson County\",\"2164\":\"Jefferson County\",\"2165\":\"Johnston County\",\"2166\":\"Kay County\",\"2167\":\"Kingfisher County\",\"2168\":\"Kiowa County\",\"2169\":\"Latimer County\",\"2170\":\"Le Flore County\",\"2171\":\"Lincoln County\",\"2172\":\"Logan County\",\"2173\":\"Love County\",\"2174\":\"McClain County\",\"2175\":\"McCurtain County\",\"2176\":\"McIntosh County\",\"2177\":\"Major County\",\"2178\":\"Marshall County\",\"2179\":\"Mayes County\",\"2180\":\"Murray County\",\"2181\":\"Muskogee County\",\"2182\":\"Noble County\",\"2183\":\"Nowata County\",\"2184\":\"Okfuskee County\",\"2185\":\"Oklahoma County\",\"2186\":\"Okmulgee County\",\"2187\":\"Osage County\",\"2188\":\"Ottawa County\",\"2189\":\"Pawnee County\",\"2190\":\"Payne County\",\"2191\":\"Pittsburg County\",\"2192\":\"Pontotoc County\",\"2193\":\"Pottawatomie County\",\"2194\":\"Pushmataha County\",\"2195\":\"Roger Mills County\",\"2196\":\"Rogers County\",\"2197\":\"Seminole County\",\"2198\":\"Sequoyah County\",\"2199\":\"Stephens County\",\"2200\":\"Texas County\",\"2201\":\"Tillman County\",\"2202\":\"Tulsa County\",\"2203\":\"Wagoner County\",\"2204\":\"Washington County\",\"2205\":\"Washita County\",\"2206\":\"Woods County\",\"2207\":\"Woodward County\",\"2208\":\"Baker County\",\"2209\":\"Benton County\",\"2210\":\"Clackamas County\",\"2211\":\"Clatsop County\",\"2212\":\"Columbia County\",\"2213\":\"Coos County\",\"2214\":\"Crook County\",\"2215\":\"Curry County\",\"2216\":\"Deschutes County\",\"2217\":\"Douglas County\",\"2218\":\"Gilliam County\",\"2219\":\"Grant County\",\"2220\":\"Harney County\",\"2221\":\"Hood River County\",\"2222\":\"Jackson County\",\"2223\":\"Jefferson County\",\"2224\":\"Josephine County\",\"2225\":\"Klamath County\",\"2226\":\"Lake County\",\"2227\":\"Lane County\",\"2228\":\"Lincoln County\",\"2229\":\"Linn County\",\"2230\":\"Malheur County\",\"2231\":\"Marion County\",\"2232\":\"Morrow County\",\"2233\":\"Multnomah County\",\"2234\":\"Polk County\",\"2235\":\"Sherman County\",\"2236\":\"Tillamook County\",\"2237\":\"Umatilla County\",\"2238\":\"Union County\",\"2239\":\"Wallowa County\",\"2240\":\"Wasco County\",\"2241\":\"Washington County\",\"2242\":\"Wheeler County\",\"2243\":\"Yamhill County\",\"2244\":\"Adams County\",\"2245\":\"Allegheny County\",\"2246\":\"Armstrong County\",\"2247\":\"Beaver County\",\"2248\":\"Bedford County\",\"2249\":\"Berks County\",\"2250\":\"Blair County\",\"2251\":\"Bradford County\",\"2252\":\"Bucks County\",\"2253\":\"Butler County\",\"2254\":\"Cambria County\",\"2255\":\"Cameron County\",\"2256\":\"Carbon County\",\"2257\":\"Centre County\",\"2258\":\"Chester County\",\"2259\":\"Clarion County\",\"2260\":\"Clearfield County\",\"2261\":\"Clinton County\",\"2262\":\"Columbia County\",\"2263\":\"Crawford County\",\"2264\":\"Cumberland County\",\"2265\":\"Dauphin County\",\"2266\":\"Delaware County\",\"2267\":\"Elk County\",\"2268\":\"Erie County\",\"2269\":\"Fayette County\",\"2270\":\"Forest County\",\"2271\":\"Franklin County\",\"2272\":\"Fulton County\",\"2273\":\"Greene County\",\"2274\":\"Huntingdon County\",\"2275\":\"Indiana County\",\"2276\":\"Jefferson County\",\"2277\":\"Juniata County\",\"2278\":\"Lackawanna County\",\"2279\":\"Lancaster County\",\"2280\":\"Lawrence County\",\"2281\":\"Lebanon County\",\"2282\":\"Lehigh County\",\"2283\":\"Luzerne County\",\"2284\":\"Lycoming County\",\"2285\":\"McKean County\",\"2286\":\"Mercer County\",\"2287\":\"Mifflin County\",\"2288\":\"Monroe County\",\"2289\":\"Montgomery County\",\"2290\":\"Montour County\",\"2291\":\"Northampton County\",\"2292\":\"Northumberland County\",\"2293\":\"Perry County\",\"2294\":\"Philadelphia County\",\"2295\":\"Pike County\",\"2296\":\"Potter County\",\"2297\":\"Schuylkill County\",\"2298\":\"Snyder County\",\"2299\":\"Somerset County\",\"2300\":\"Sullivan County\",\"2301\":\"Susquehanna County\",\"2302\":\"Tioga County\",\"2303\":\"Union County\",\"2304\":\"Venango County\",\"2305\":\"Warren County\",\"2306\":\"Washington County\",\"2307\":\"Wayne County\",\"2308\":\"Westmoreland County\",\"2309\":\"Wyoming County\",\"2310\":\"York County\",\"2311\":\"Bristol County\",\"2312\":\"Kent County\",\"2313\":\"Newport County\",\"2314\":\"Providence County\",\"2315\":\"Washington County\",\"2316\":\"Abbeville County\",\"2317\":\"Aiken County\",\"2318\":\"Allendale County\",\"2319\":\"Anderson County\",\"2320\":\"Bamberg County\",\"2321\":\"Barnwell County\",\"2322\":\"Beaufort County\",\"2323\":\"Berkeley County\",\"2324\":\"Calhoun County\",\"2325\":\"Charleston County\",\"2326\":\"Cherokee County\",\"2327\":\"Chester County\",\"2328\":\"Chesterfield County\",\"2329\":\"Clarendon County\",\"2330\":\"Colleton County\",\"2331\":\"Darlington County\",\"2332\":\"Dillon County\",\"2333\":\"Dorchester County\",\"2334\":\"Edgefield County\",\"2335\":\"Fairfield County\",\"2336\":\"Florence County\",\"2337\":\"Georgetown County\",\"2338\":\"Greenville County\",\"2339\":\"Greenwood County\",\"2340\":\"Hampton County\",\"2341\":\"Horry County\",\"2342\":\"Jasper County\",\"2343\":\"Kershaw County\",\"2344\":\"Lancaster County\",\"2345\":\"Laurens County\",\"2346\":\"Lee County\",\"2347\":\"Lexington County\",\"2348\":\"McCormick County\",\"2349\":\"Marion County\",\"2350\":\"Marlboro County\",\"2351\":\"Newberry County\",\"2352\":\"Oconee County\",\"2353\":\"Orangeburg County\",\"2354\":\"Pickens County\",\"2355\":\"Richland County\",\"2356\":\"Saluda County\",\"2357\":\"Spartanburg County\",\"2358\":\"Sumter County\",\"2359\":\"Union County\",\"2360\":\"Williamsburg County\",\"2361\":\"York County\",\"2362\":\"Aurora County\",\"2363\":\"Beadle County\",\"2364\":\"Bennett County\",\"2365\":\"Bon Homme County\",\"2366\":\"Brookings County\",\"2367\":\"Brown County\",\"2368\":\"Brule County\",\"2369\":\"Buffalo County\",\"2370\":\"Butte County\",\"2371\":\"Campbell County\",\"2372\":\"Charles Mix County\",\"2373\":\"Clark County\",\"2374\":\"Clay County\",\"2375\":\"Codington County\",\"2376\":\"Corson County\",\"2377\":\"Custer County\",\"2378\":\"Davison County\",\"2379\":\"Day County\",\"2380\":\"Deuel County\",\"2381\":\"Dewey County\",\"2382\":\"Douglas County\",\"2383\":\"Edmunds County\",\"2384\":\"Fall River County\",\"2385\":\"Faulk County\",\"2386\":\"Grant County\",\"2387\":\"Gregory County\",\"2388\":\"Haakon County\",\"2389\":\"Hamlin County\",\"2390\":\"Hand County\",\"2391\":\"Hanson County\",\"2392\":\"Harding County\",\"2393\":\"Hughes County\",\"2394\":\"Hutchinson County\",\"2395\":\"Hyde County\",\"2396\":\"Jackson County\",\"2397\":\"Jerauld County\",\"2398\":\"Jones County\",\"2399\":\"Kingsbury County\",\"2400\":\"Lake County\",\"2401\":\"Lawrence County\",\"2402\":\"Lincoln County\",\"2403\":\"Lyman County\",\"2404\":\"McCook County\",\"2405\":\"McPherson County\",\"2406\":\"Marshall County\",\"2407\":\"Meade County\",\"2408\":\"Mellette County\",\"2409\":\"Miner County\",\"2410\":\"Minnehaha County\",\"2411\":\"Moody County\",\"2412\":\"Pennington County\",\"2413\":\"Perkins County\",\"2414\":\"Potter County\",\"2415\":\"Roberts County\",\"2416\":\"Sanborn County\",\"2417\":\"Shannon County\",\"2418\":\"Spink County\",\"2419\":\"Stanley County\",\"2420\":\"Sully County\",\"2421\":\"Todd County\",\"2422\":\"Tripp County\",\"2423\":\"Turner County\",\"2424\":\"Union County\",\"2425\":\"Walworth County\",\"2426\":\"Yankton County\",\"2427\":\"Ziebach County\",\"2428\":\"Anderson County\",\"2429\":\"Bedford County\",\"2430\":\"Benton County\",\"2431\":\"Bledsoe County\",\"2432\":\"Blount County\",\"2433\":\"Bradley County\",\"2434\":\"Campbell County\",\"2435\":\"Cannon County\",\"2436\":\"Carroll County\",\"2437\":\"Carter County\",\"2438\":\"Cheatham County\",\"2439\":\"Chester County\",\"2440\":\"Claiborne County\",\"2441\":\"Clay County\",\"2442\":\"Cocke County\",\"2443\":\"Coffee County\",\"2444\":\"Crockett County\",\"2445\":\"Cumberland County\",\"2446\":\"Davidson County\",\"2447\":\"Decatur County\",\"2448\":\"DeKalb County\",\"2449\":\"Dickson County\",\"2450\":\"Dyer County\",\"2451\":\"Fayette County\",\"2452\":\"Fentress County\",\"2453\":\"Franklin County\",\"2454\":\"Gibson County\",\"2455\":\"Giles County\",\"2456\":\"Grainger County\",\"2457\":\"Greene County\",\"2458\":\"Grundy County\",\"2459\":\"Hamblen County\",\"2460\":\"Hamilton County\",\"2461\":\"Hancock County\",\"2462\":\"Hardeman County\",\"2463\":\"Hardin County\",\"2464\":\"Hawkins County\",\"2465\":\"Haywood County\",\"2466\":\"Henderson County\",\"2467\":\"Henry County\",\"2468\":\"Hickman County\",\"2469\":\"Houston County\",\"2470\":\"Humphreys County\",\"2471\":\"Jackson County\",\"2472\":\"Jefferson County\",\"2473\":\"Johnson County\",\"2474\":\"Knox County\",\"2475\":\"Lake County\",\"2476\":\"Lauderdale County\",\"2477\":\"Lawrence County\",\"2478\":\"Lewis County\",\"2479\":\"Lincoln County\",\"2480\":\"Loudon County\",\"2481\":\"McMinn County\",\"2482\":\"McNairy County\",\"2483\":\"Macon County\",\"2484\":\"Madison County\",\"2485\":\"Marion County\",\"2486\":\"Marshall County\",\"2487\":\"Maury County\",\"2488\":\"Meigs County\",\"2489\":\"Monroe County\",\"2490\":\"Montgomery County\",\"2491\":\"Moore County\",\"2492\":\"Morgan County\",\"2493\":\"Obion County\",\"2494\":\"Overton County\",\"2495\":\"Perry County\",\"2496\":\"Pickett County\",\"2497\":\"Polk County\",\"2498\":\"Putnam County\",\"2499\":\"Rhea County\",\"2500\":\"Roane County\",\"2501\":\"Robertson County\",\"2502\":\"Rutherford County\",\"2503\":\"Scott County\",\"2504\":\"Sequatchie County\",\"2505\":\"Sevier County\",\"2506\":\"Shelby County\",\"2507\":\"Smith County\",\"2508\":\"Stewart County\",\"2509\":\"Sullivan County\",\"2510\":\"Sumner County\",\"2511\":\"Tipton County\",\"2512\":\"Trousdale County\",\"2513\":\"Unicoi County\",\"2514\":\"Union County\",\"2515\":\"Van Buren County\",\"2516\":\"Warren County\",\"2517\":\"Washington County\",\"2518\":\"Wayne County\",\"2519\":\"Weakley County\",\"2520\":\"White County\",\"2521\":\"Williamson County\",\"2522\":\"Wilson County\",\"2523\":\"Anderson County\",\"2524\":\"Andrews County\",\"2525\":\"Angelina County\",\"2526\":\"Aransas County\",\"2527\":\"Archer County\",\"2528\":\"Armstrong County\",\"2529\":\"Atascosa County\",\"2530\":\"Austin County\",\"2531\":\"Bailey County\",\"2532\":\"Bandera County\",\"2533\":\"Bastrop County\",\"2534\":\"Baylor County\",\"2535\":\"Bee County\",\"2536\":\"Bell County\",\"2537\":\"Bexar County\",\"2538\":\"Blanco County\",\"2539\":\"Borden County\",\"2540\":\"Bosque County\",\"2541\":\"Bowie County\",\"2542\":\"Brazoria County\",\"2543\":\"Brazos County\",\"2544\":\"Brewster County\",\"2545\":\"Briscoe County\",\"2546\":\"Brooks County\",\"2547\":\"Brown County\",\"2548\":\"Burleson County\",\"2549\":\"Burnet County\",\"2550\":\"Caldwell County\",\"2551\":\"Calhoun County\",\"2552\":\"Callahan County\",\"2553\":\"Cameron County\",\"2554\":\"Camp County\",\"2555\":\"Carson County\",\"2556\":\"Cass County\",\"2557\":\"Castro County\",\"2558\":\"Chambers County\",\"2559\":\"Cherokee County\",\"2560\":\"Childress County\",\"2561\":\"Clay County\",\"2562\":\"Cochran County\",\"2563\":\"Coke County\",\"2564\":\"Coleman County\",\"2565\":\"Collin County\",\"2566\":\"Collingsworth County\",\"2567\":\"Colorado County\",\"2568\":\"Comal County\",\"2569\":\"Comanche County\",\"2570\":\"Concho County\",\"2571\":\"Cooke County\",\"2572\":\"Coryell County\",\"2573\":\"Cottle County\",\"2574\":\"Crane County\",\"2575\":\"Crockett County\",\"2576\":\"Crosby County\",\"2577\":\"Culberson County\",\"2578\":\"Dallam County\",\"2579\":\"Dallas County\",\"2580\":\"Dawson County\",\"2581\":\"Deaf Smith County\",\"2582\":\"Delta County\",\"2583\":\"Denton County\",\"2584\":\"DeWitt County\",\"2585\":\"Dickens County\",\"2586\":\"Dimmit County\",\"2587\":\"Donley County\",\"2588\":\"Duval County\",\"2589\":\"Eastland County\",\"2590\":\"Ector County\",\"2591\":\"Edwards County\",\"2592\":\"Ellis County\",\"2593\":\"El Paso County\",\"2594\":\"Erath County\",\"2595\":\"Falls County\",\"2596\":\"Fannin County\",\"2597\":\"Fayette County\",\"2598\":\"Fisher County\",\"2599\":\"Floyd County\",\"2600\":\"Foard County\",\"2601\":\"Fort Bend County\",\"2602\":\"Franklin County\",\"2603\":\"Freestone County\",\"2604\":\"Frio County\",\"2605\":\"Gaines County\",\"2606\":\"Galveston County\",\"2607\":\"Garza County\",\"2608\":\"Gillespie County\",\"2609\":\"Glasscock County\",\"2610\":\"Goliad County\",\"2611\":\"Gonzales County\",\"2612\":\"Gray County\",\"2613\":\"Grayson County\",\"2614\":\"Gregg County\",\"2615\":\"Grimes County\",\"2616\":\"Guadalupe County\",\"2617\":\"Hale County\",\"2618\":\"Hall County\",\"2619\":\"Hamilton County\",\"2620\":\"Hansford County\",\"2621\":\"Hardeman County\",\"2622\":\"Hardin County\",\"2623\":\"Harris County\",\"2624\":\"Harrison County\",\"2625\":\"Hartley County\",\"2626\":\"Haskell County\",\"2627\":\"Hays County\",\"2628\":\"Hemphill County\",\"2629\":\"Henderson County\",\"2630\":\"Hidalgo County\",\"2631\":\"Hill County\",\"2632\":\"Hockley County\",\"2633\":\"Hood County\",\"2634\":\"Hopkins County\",\"2635\":\"Houston County\",\"2636\":\"Howard County\",\"2637\":\"Hudspeth County\",\"2638\":\"Hunt County\",\"2639\":\"Hutchinson County\",\"2640\":\"Irion County\",\"2641\":\"Jack County\",\"2642\":\"Jackson County\",\"2643\":\"Jasper County\",\"2644\":\"Jeff Davis County\",\"2645\":\"Jefferson County\",\"2646\":\"Jim Hogg County\",\"2647\":\"Jim Wells County\",\"2648\":\"Johnson County\",\"2649\":\"Jones County\",\"2650\":\"Karnes County\",\"2651\":\"Kaufman County\",\"2652\":\"Kendall County\",\"2653\":\"Kenedy County\",\"2654\":\"Kent County\",\"2655\":\"Kerr County\",\"2656\":\"Kimble County\",\"2657\":\"King County\",\"2658\":\"Kinney County\",\"2659\":\"Kleberg County\",\"2660\":\"Knox County\",\"2661\":\"Lamar County\",\"2662\":\"Lamb County\",\"2663\":\"Lampasas County\",\"2664\":\"La Salle County\",\"2665\":\"Lavaca County\",\"2666\":\"Lee County\",\"2667\":\"Leon County\",\"2668\":\"Liberty County\",\"2669\":\"Limestone County\",\"2670\":\"Lipscomb County\",\"2671\":\"Live Oak County\",\"2672\":\"Llano County\",\"2673\":\"Loving County\",\"2674\":\"Lubbock County\",\"2675\":\"Lynn County\",\"2676\":\"McCulloch County\",\"2677\":\"McLennan County\",\"2678\":\"McMullen County\",\"2679\":\"Madison County\",\"2680\":\"Marion County\",\"2681\":\"Martin County\",\"2682\":\"Mason County\",\"2683\":\"Matagorda County\",\"2684\":\"Maverick County\",\"2685\":\"Medina County\",\"2686\":\"Menard County\",\"2687\":\"Midland County\",\"2688\":\"Milam County\",\"2689\":\"Mills County\",\"2690\":\"Mitchell County\",\"2691\":\"Montague County\",\"2692\":\"Montgomery County\",\"2693\":\"Moore County\",\"2694\":\"Morris County\",\"2695\":\"Motley County\",\"2696\":\"Nacogdoches County\",\"2697\":\"Navarro County\",\"2698\":\"Newton County\",\"2699\":\"Nolan County\",\"2700\":\"Nueces County\",\"2701\":\"Ochiltree County\",\"2702\":\"Oldham County\",\"2703\":\"Orange County\",\"2704\":\"Palo Pinto County\",\"2705\":\"Panola County\",\"2706\":\"Parker County\",\"2707\":\"Parmer County\",\"2708\":\"Pecos County\",\"2709\":\"Polk County\",\"2710\":\"Potter County\",\"2711\":\"Presidio County\",\"2712\":\"Rains County\",\"2713\":\"Randall County\",\"2714\":\"Reagan County\",\"2715\":\"Real County\",\"2716\":\"Red River County\",\"2717\":\"Reeves County\",\"2718\":\"Refugio County\",\"2719\":\"Roberts County\",\"2720\":\"Robertson County\",\"2721\":\"Rockwall County\",\"2722\":\"Runnels County\",\"2723\":\"Rusk County\",\"2724\":\"Sabine County\",\"2725\":\"San Augustine County\",\"2726\":\"San Jacinto County\",\"2727\":\"San Patricio County\",\"2728\":\"San Saba County\",\"2729\":\"Schleicher County\",\"2730\":\"Scurry County\",\"2731\":\"Shackelford County\",\"2732\":\"Shelby County\",\"2733\":\"Sherman County\",\"2734\":\"Smith County\",\"2735\":\"Somervell County\",\"2736\":\"Starr County\",\"2737\":\"Stephens County\",\"2738\":\"Sterling County\",\"2739\":\"Stonewall County\",\"2740\":\"Sutton County\",\"2741\":\"Swisher County\",\"2742\":\"Tarrant County\",\"2743\":\"Taylor County\",\"2744\":\"Terrell County\",\"2745\":\"Terry County\",\"2746\":\"Throckmorton County\",\"2747\":\"Titus County\",\"2748\":\"Tom Green County\",\"2749\":\"Travis County\",\"2750\":\"Trinity County\",\"2751\":\"Tyler County\",\"2752\":\"Upshur County\",\"2753\":\"Upton County\",\"2754\":\"Uvalde County\",\"2755\":\"Val Verde County\",\"2756\":\"Van Zandt County\",\"2757\":\"Victoria County\",\"2758\":\"Walker County\",\"2759\":\"Waller County\",\"2760\":\"Ward County\",\"2761\":\"Washington County\",\"2762\":\"Webb County\",\"2763\":\"Wharton County\",\"2764\":\"Wheeler County\",\"2765\":\"Wichita County\",\"2766\":\"Wilbarger County\",\"2767\":\"Willacy County\",\"2768\":\"Williamson County\",\"2769\":\"Wilson County\",\"2770\":\"Winkler County\",\"2771\":\"Wise County\",\"2772\":\"Wood County\",\"2773\":\"Yoakum County\",\"2774\":\"Young County\",\"2775\":\"Zapata County\",\"2776\":\"Zavala County\",\"2777\":\"Beaver County\",\"2778\":\"Box Elder County\",\"2779\":\"Cache County\",\"2780\":\"Carbon County\",\"2781\":\"Daggett County\",\"2782\":\"Davis County\",\"2783\":\"Duchesne County\",\"2784\":\"Emery County\",\"2785\":\"Garfield County\",\"2786\":\"Grand County\",\"2787\":\"Iron County\",\"2788\":\"Juab County\",\"2789\":\"Kane County\",\"2790\":\"Millard County\",\"2791\":\"Morgan County\",\"2792\":\"Piute County\",\"2793\":\"Rich County\",\"2794\":\"Salt Lake County\",\"2795\":\"San Juan County\",\"2796\":\"Sanpete County\",\"2797\":\"Sevier County\",\"2798\":\"Summit County\",\"2799\":\"Tooele County\",\"2800\":\"Uintah County\",\"2801\":\"Utah County\",\"2802\":\"Wasatch County\",\"2803\":\"Washington County\",\"2804\":\"Wayne County\",\"2805\":\"Weber County\",\"2806\":\"Addison County\",\"2807\":\"Bennington County\",\"2808\":\"Caledonia County\",\"2809\":\"Chittenden County\",\"2810\":\"Essex County\",\"2811\":\"Franklin County\",\"2812\":\"Grand Isle County\",\"2813\":\"Lamoille County\",\"2814\":\"Orange County\",\"2815\":\"Orleans County\",\"2816\":\"Rutland County\",\"2817\":\"Washington County\",\"2818\":\"Windham County\",\"2819\":\"Windsor County\",\"2820\":\"Accomack County\",\"2821\":\"Albemarle County\",\"2822\":\"Alleghany County\",\"2823\":\"Amelia County\",\"2824\":\"Amherst County\",\"2825\":\"Appomattox County\",\"2826\":\"Arlington County\",\"2827\":\"Augusta County\",\"2828\":\"Bath County\",\"2829\":\"Bedford County\",\"2830\":\"Bland County\",\"2831\":\"Botetourt County\",\"2832\":\"Brunswick County\",\"2833\":\"Buchanan County\",\"2834\":\"Buckingham County\",\"2835\":\"Campbell County\",\"2836\":\"Caroline County\",\"2837\":\"Carroll County\",\"2838\":\"Charles City County\",\"2839\":\"Charlotte County\",\"2840\":\"Chesterfield County\",\"2841\":\"Clarke County\",\"2842\":\"Craig County\",\"2843\":\"Culpeper County\",\"2844\":\"Cumberland County\",\"2845\":\"Dickenson County\",\"2846\":\"Dinwiddie County\",\"2847\":\"Essex County\",\"2848\":\"Fairfax County\",\"2849\":\"Fauquier County\",\"2850\":\"Floyd County\",\"2851\":\"Fluvanna County\",\"2852\":\"Franklin County\",\"2853\":\"Frederick County\",\"2854\":\"Giles County\",\"2855\":\"Gloucester County\",\"2856\":\"Goochland County\",\"2857\":\"Grayson County\",\"2858\":\"Greene County\",\"2859\":\"Greensville County\",\"2860\":\"Halifax County\",\"2861\":\"Hanover County\",\"2862\":\"Henrico County\",\"2863\":\"Henry County\",\"2864\":\"Highland County\",\"2865\":\"Isle of Wight County\",\"2866\":\"James City County\",\"2867\":\"King and Queen County\",\"2868\":\"King George County\",\"2869\":\"King William County\",\"2870\":\"Lancaster County\",\"2871\":\"Lee County\",\"2872\":\"Loudoun County\",\"2873\":\"Louisa County\",\"2874\":\"Lunenburg County\",\"2875\":\"Madison County\",\"2876\":\"Mathews County\",\"2877\":\"Mecklenburg County\",\"2878\":\"Middlesex County\",\"2879\":\"Montgomery County\",\"2880\":\"Nelson County\",\"2881\":\"New Kent County\",\"2882\":\"Northampton County\",\"2883\":\"Northumberland County\",\"2884\":\"Nottoway County\",\"2885\":\"Orange County\",\"2886\":\"Page County\",\"2887\":\"Patrick County\",\"2888\":\"Pittsylvania County\",\"2889\":\"Powhatan County\",\"2890\":\"Prince Edward County\",\"2891\":\"Prince George County\",\"2892\":\"Prince William County\",\"2893\":\"Pulaski County\",\"2894\":\"Rappahannock County\",\"2895\":\"Richmond County\",\"2896\":\"Roanoke County\",\"2897\":\"Rockbridge County\",\"2898\":\"Rockingham County\",\"2899\":\"Russell County\",\"2900\":\"Scott County\",\"2901\":\"Shenandoah County\",\"2902\":\"Smyth County\",\"2903\":\"Southampton County\",\"2904\":\"Spotsylvania County\",\"2905\":\"Stafford County\",\"2906\":\"Surry County\",\"2907\":\"Sussex County\",\"2908\":\"Tazewell County\",\"2909\":\"Warren County\",\"2910\":\"Washington County\",\"2911\":\"Westmoreland County\",\"2912\":\"Wise County\",\"2913\":\"Wythe County\",\"2914\":\"York County\",\"2915\":\"Alexandria city\",\"2916\":\"Bedford city\",\"2917\":\"Bristol city\",\"2918\":\"Buena Vista city\",\"2919\":\"Charlottesville city\",\"2920\":\"Chesapeake city\",\"2921\":\"Colonial Heights city\",\"2922\":\"Covington city\",\"2923\":\"Danville city\",\"2924\":\"Emporia city\",\"2925\":\"Fairfax city\",\"2926\":\"Falls Church city\",\"2927\":\"Franklin city\",\"2928\":\"Fredericksburg city\",\"2929\":\"Galax city\",\"2930\":\"Hampton city\",\"2931\":\"Harrisonburg city\",\"2932\":\"Hopewell city\",\"2933\":\"Lexington city\",\"2934\":\"Lynchburg city\",\"2935\":\"Manassas city\",\"2936\":\"Manassas Park city\",\"2937\":\"Martinsville city\",\"2938\":\"Newport News city\",\"2939\":\"Norfolk city\",\"2940\":\"Norton city\",\"2941\":\"Petersburg city\",\"2942\":\"Poquoson city\",\"2943\":\"Portsmouth city\",\"2944\":\"Radford city\",\"2945\":\"Richmond city\",\"2946\":\"Roanoke city\",\"2947\":\"Salem city\",\"2948\":\"Staunton city\",\"2949\":\"Suffolk city\",\"2950\":\"Virginia Beach city\",\"2951\":\"Waynesboro city\",\"2952\":\"Williamsburg city\",\"2953\":\"Winchester city\",\"2954\":\"Adams County\",\"2955\":\"Asotin County\",\"2956\":\"Benton County\",\"2957\":\"Chelan County\",\"2958\":\"Clallam County\",\"2959\":\"Clark County\",\"2960\":\"Columbia County\",\"2961\":\"Cowlitz County\",\"2962\":\"Douglas County\",\"2963\":\"Ferry County\",\"2964\":\"Franklin County\",\"2965\":\"Garfield County\",\"2966\":\"Grant County\",\"2967\":\"Grays Harbor County\",\"2968\":\"Island County\",\"2969\":\"Jefferson County\",\"2970\":\"King County\",\"2971\":\"Kitsap County\",\"2972\":\"Kittitas County\",\"2973\":\"Klickitat County\",\"2974\":\"Lewis County\",\"2975\":\"Lincoln County\",\"2976\":\"Mason County\",\"2977\":\"Okanogan County\",\"2978\":\"Pacific County\",\"2979\":\"Pend Oreille County\",\"2980\":\"Pierce County\",\"2981\":\"San Juan County\",\"2982\":\"Skagit County\",\"2983\":\"Skamania County\",\"2984\":\"Snohomish County\",\"2985\":\"Spokane County\",\"2986\":\"Stevens County\",\"2987\":\"Thurston County\",\"2988\":\"Wahkiakum County\",\"2989\":\"Walla Walla County\",\"2990\":\"Whatcom County\",\"2991\":\"Whitman County\",\"2992\":\"Yakima County\",\"2993\":\"Barbour County\",\"2994\":\"Berkeley County\",\"2995\":\"Boone County\",\"2996\":\"Braxton County\",\"2997\":\"Brooke County\",\"2998\":\"Cabell County\",\"2999\":\"Calhoun County\",\"3000\":\"Clay County\",\"3001\":\"Doddridge County\",\"3002\":\"Fayette County\",\"3003\":\"Gilmer County\",\"3004\":\"Grant County\",\"3005\":\"Greenbrier County\",\"3006\":\"Hampshire County\",\"3007\":\"Hancock County\",\"3008\":\"Hardy County\",\"3009\":\"Harrison County\",\"3010\":\"Jackson County\",\"3011\":\"Jefferson County\",\"3012\":\"Kanawha County\",\"3013\":\"Lewis County\",\"3014\":\"Lincoln County\",\"3015\":\"Logan County\",\"3016\":\"McDowell County\",\"3017\":\"Marion County\",\"3018\":\"Marshall County\",\"3019\":\"Mason County\",\"3020\":\"Mercer County\",\"3021\":\"Mineral County\",\"3022\":\"Mingo County\",\"3023\":\"Monongalia County\",\"3024\":\"Monroe County\",\"3025\":\"Morgan County\",\"3026\":\"Nicholas County\",\"3027\":\"Ohio County\",\"3028\":\"Pendleton County\",\"3029\":\"Pleasants County\",\"3030\":\"Pocahontas County\",\"3031\":\"Preston County\",\"3032\":\"Putnam County\",\"3033\":\"Raleigh County\",\"3034\":\"Randolph County\",\"3035\":\"Ritchie County\",\"3036\":\"Roane County\",\"3037\":\"Summers County\",\"3038\":\"Taylor County\",\"3039\":\"Tucker County\",\"3040\":\"Tyler County\",\"3041\":\"Upshur County\",\"3042\":\"Wayne County\",\"3043\":\"Webster County\",\"3044\":\"Wetzel County\",\"3045\":\"Wirt County\",\"3046\":\"Wood County\",\"3047\":\"Wyoming County\",\"3048\":\"Adams County\",\"3049\":\"Ashland County\",\"3050\":\"Barron County\",\"3051\":\"Bayfield County\",\"3052\":\"Brown County\",\"3053\":\"Buffalo County\",\"3054\":\"Burnett County\",\"3055\":\"Calumet County\",\"3056\":\"Chippewa County\",\"3057\":\"Clark County\",\"3058\":\"Columbia County\",\"3059\":\"Crawford County\",\"3060\":\"Dane County\",\"3061\":\"Dodge County\",\"3062\":\"Door County\",\"3063\":\"Douglas County\",\"3064\":\"Dunn County\",\"3065\":\"Eau Claire County\",\"3066\":\"Florence County\",\"3067\":\"Fond du Lac County\",\"3068\":\"Forest County\",\"3069\":\"Grant County\",\"3070\":\"Green County\",\"3071\":\"Green Lake County\",\"3072\":\"Iowa County\",\"3073\":\"Iron County\",\"3074\":\"Jackson County\",\"3075\":\"Jefferson County\",\"3076\":\"Juneau County\",\"3077\":\"Kenosha County\",\"3078\":\"Kewaunee County\",\"3079\":\"La Crosse County\",\"3080\":\"Lafayette County\",\"3081\":\"Langlade County\",\"3082\":\"Lincoln County\",\"3083\":\"Manitowoc County\",\"3084\":\"Marathon County\",\"3085\":\"Marinette County\",\"3086\":\"Marquette County\",\"3087\":\"Menominee County\",\"3088\":\"Milwaukee County\",\"3089\":\"Monroe County\",\"3090\":\"Oconto County\",\"3091\":\"Oneida County\",\"3092\":\"Outagamie County\",\"3093\":\"Ozaukee County\",\"3094\":\"Pepin County\",\"3095\":\"Pierce County\",\"3096\":\"Polk County\",\"3097\":\"Portage County\",\"3098\":\"Price County\",\"3099\":\"Racine County\",\"3100\":\"Richland County\",\"3101\":\"Rock County\",\"3102\":\"Rusk County\",\"3103\":\"St. Croix County\",\"3104\":\"Sauk County\",\"3105\":\"Sawyer County\",\"3106\":\"Shawano County\",\"3107\":\"Sheboygan County\",\"3108\":\"Taylor County\",\"3109\":\"Trempealeau County\",\"3110\":\"Vernon County\",\"3111\":\"Vilas County\",\"3112\":\"Walworth County\",\"3113\":\"Washburn County\",\"3114\":\"Washington County\",\"3115\":\"Waukesha County\",\"3116\":\"Waupaca County\",\"3117\":\"Waushara County\",\"3118\":\"Winnebago County\",\"3119\":\"Wood County\",\"3120\":\"Albany County\",\"3121\":\"Big Horn County\",\"3122\":\"Campbell County\",\"3123\":\"Carbon County\",\"3124\":\"Converse County\",\"3125\":\"Crook County\",\"3126\":\"Fremont County\",\"3127\":\"Goshen County\",\"3128\":\"Hot Springs County\",\"3129\":\"Johnson County\",\"3130\":\"Laramie County\",\"3131\":\"Lincoln County\",\"3132\":\"Natrona County\",\"3133\":\"Niobrara County\",\"3134\":\"Park County\",\"3135\":\"Platte County\",\"3136\":\"Sheridan County\",\"3137\":\"Sublette County\",\"3138\":\"Sweetwater County\",\"3139\":\"Teton County\",\"3140\":\"Uinta County\",\"3141\":\"Washakie County\",\"3142\":\"Weston County\",\"3143\":\"Eastern District\",\"3144\":\"Manu\\'a District\",\"3145\":\"Rose Island\",\"3146\":\"Swains Island\",\"3147\":\"Western District\",\"3148\":\"Guam\",\"3149\":\"Northern Islands Municipality\",\"3150\":\"Rota Municipality\",\"3151\":\"Saipan Municipality\",\"3152\":\"Tinian Municipality\",\"3153\":\"Adjuntas Municipio\",\"3154\":\"Aguada Municipio\",\"3155\":\"Aguadilla Municipio\",\"3156\":\"Aguas Buenas Municipio\",\"3157\":\"Aibonito Municipio\",\"3158\":\"Anasco Municipio\",\"3159\":\"Arecibo Municipio\",\"3160\":\"Arroyo Municipio\",\"3161\":\"Barceloneta Municipio\",\"3162\":\"Barranquitas Municipio\",\"3163\":\"Bayamon Municipio\",\"3164\":\"Cabo Rojo Municipio\",\"3165\":\"Caguas Municipio\",\"3166\":\"Camuy Municipio\",\"3167\":\"Canovanas Municipio\",\"3168\":\"Carolina Municipio\",\"3169\":\"Catano Municipio\",\"3170\":\"Cayey Municipio\",\"3171\":\"Ceiba Municipio\",\"3172\":\"Ciales Municipio\",\"3173\":\"Cidra Municipio\",\"3174\":\"Coamo Municipio\",\"3175\":\"Comerio Municipio\",\"3176\":\"Corozal Municipio\",\"3177\":\"Culebra Municipio\",\"3178\":\"Dorado Municipio\",\"3179\":\"Fajardo Municipio\",\"3180\":\"Florida Municipio\",\"3181\":\"Guanica Municipio\",\"3182\":\"Guayama Municipio\",\"3183\":\"Guayanilla Municipio\",\"3184\":\"Guaynabo Municipio\",\"3185\":\"Gurabo Municipio\",\"3186\":\"Hatillo Municipio\",\"3187\":\"Hormigueros Municipio\",\"3188\":\"Humacao Municipio\",\"3189\":\"Isabela Municipio\",\"3190\":\"Jayuya Municipio\",\"3191\":\"Juana Diaz Municipio\",\"3192\":\"Juncos Municipio\",\"3193\":\"Lajas Municipio\",\"3194\":\"Lares Municipio\",\"3195\":\"Las Marias Municipio\",\"3196\":\"Las Piedras Municipio\",\"3197\":\"Loiza Municipio\",\"3198\":\"Luquillo Municipio\",\"3199\":\"Manati Municipio\",\"3200\":\"Maricao Municipio\",\"3201\":\"Maunabo Municipio\",\"3202\":\"Mayaguez Municipio\",\"3203\":\"Moca Municipio\",\"3204\":\"Morovis Municipio\",\"3205\":\"Naguabo Municipio\",\"3206\":\"Naranjito Municipio\",\"3207\":\"Orocovis Municipio\",\"3208\":\"Patillas Municipio\",\"3209\":\"Penuelas Municipio\",\"3210\":\"Ponce Municipio\",\"3211\":\"Quebradillas Municipio\",\"3212\":\"Rincon Municipio\",\"3213\":\"Rio Grande Municipio\",\"3214\":\"Sabana Grande Municipio\",\"3215\":\"Salinas Municipio\",\"3216\":\"San German Municipio\",\"3217\":\"San Juan Municipio\",\"3218\":\"San Lorenzo Municipio\",\"3219\":\"San Sebastian Municipio\",\"3220\":\"Santa Isabel Municipio\",\"3221\":\"Toa Alta Municipio\",\"3222\":\"Toa Baja Municipio\",\"3223\":\"Trujillo Alto Municipio\",\"3224\":\"Utuado Municipio\",\"3225\":\"Vega Alta Municipio\",\"3226\":\"Vega Baja Municipio\",\"3227\":\"Vieques Municipio\",\"3228\":\"Villalba Municipio\",\"3229\":\"Yabucoa Municipio\",\"3230\":\"Yauco Municipio\",\"3231\":\"Midway Islands\",\"3232\":\"St. Croix Island\",\"3233\":\"St. John Island\",\"3234\":\"St. Thomas Island\"},\"class\":{\"0\":\"H1\",\"1\":\"H1\",\"2\":\"H1\",\"3\":\"H1\",\"4\":\"H1\",\"5\":\"H1\",\"6\":\"H1\",\"7\":\"H1\",\"8\":\"H1\",\"9\":\"H1\",\"10\":\"H1\",\"11\":\"H1\",\"12\":\"H1\",\"13\":\"H1\",\"14\":\"H1\",\"15\":\"H1\",\"16\":\"H1\",\"17\":\"H1\",\"18\":\"H1\",\"19\":\"H1\",\"20\":\"H1\",\"21\":\"H1\",\"22\":\"H1\",\"23\":\"H1\",\"24\":\"H1\",\"25\":\"H1\",\"26\":\"H1\",\"27\":\"H1\",\"28\":\"H1\",\"29\":\"H1\",\"30\":\"H1\",\"31\":\"H1\",\"32\":\"H1\",\"33\":\"H1\",\"34\":\"H1\",\"35\":\"H1\",\"36\":\"H1\",\"37\":\"H1\",\"38\":\"H1\",\"39\":\"H1\",\"40\":\"H1\",\"41\":\"H1\",\"42\":\"H1\",\"43\":\"H1\",\"44\":\"H1\",\"45\":\"H1\",\"46\":\"H1\",\"47\":\"H1\",\"48\":\"H1\",\"49\":\"H1\",\"50\":\"H1\",\"51\":\"H1\",\"52\":\"H1\",\"53\":\"H1\",\"54\":\"H1\",\"55\":\"H1\",\"56\":\"H1\",\"57\":\"H1\",\"58\":\"H1\",\"59\":\"H1\",\"60\":\"H1\",\"61\":\"H1\",\"62\":\"H1\",\"63\":\"H1\",\"64\":\"H1\",\"65\":\"H1\",\"66\":\"H1\",\"67\":\"H1\",\"68\":\"H5\",\"69\":\"H6\",\"70\":\"H5\",\"71\":\"H1\",\"72\":\"H1\",\"73\":\"H5\",\"74\":\"H1\",\"75\":\"H1\",\"76\":\"H5\",\"77\":\"H6\",\"78\":\"H1\",\"79\":\"H1\",\"80\":\"H1\",\"81\":\"H1\",\"82\":\"H1\",\"83\":\"H5\",\"84\":\"H1\",\"85\":\"H1\",\"86\":\"H5\",\"87\":\"H5\",\"88\":\"H6\",\"89\":\"H1\",\"90\":\"H5\",\"91\":\"H5\",\"92\":\"H5\",\"93\":\"H1\",\"94\":\"H1\",\"95\":\"H5\",\"96\":\"H1\",\"97\":\"H1\",\"98\":\"H1\",\"99\":\"H1\",\"100\":\"H1\",\"101\":\"H1\",\"102\":\"H1\",\"103\":\"H1\",\"104\":\"H1\",\"105\":\"H1\",\"106\":\"H1\",\"107\":\"H1\",\"108\":\"H1\",\"109\":\"H1\",\"110\":\"H1\",\"111\":\"H1\",\"112\":\"H1\",\"113\":\"H1\",\"114\":\"H1\",\"115\":\"H1\",\"116\":\"H1\",\"117\":\"H1\",\"118\":\"H1\",\"119\":\"H1\",\"120\":\"H1\",\"121\":\"H1\",\"122\":\"H1\",\"123\":\"H1\",\"124\":\"H1\",\"125\":\"H1\",\"126\":\"H1\",\"127\":\"H1\",\"128\":\"H1\",\"129\":\"H1\",\"130\":\"H1\",\"131\":\"H1\",\"132\":\"H1\",\"133\":\"H1\",\"134\":\"H1\",\"135\":\"H1\",\"136\":\"H1\",\"137\":\"H1\",\"138\":\"H1\",\"139\":\"H1\",\"140\":\"H1\",\"141\":\"H1\",\"142\":\"H1\",\"143\":\"H1\",\"144\":\"H1\",\"145\":\"H1\",\"146\":\"H1\",\"147\":\"H1\",\"148\":\"H1\",\"149\":\"H1\",\"150\":\"H1\",\"151\":\"H1\",\"152\":\"H1\",\"153\":\"H1\",\"154\":\"H1\",\"155\":\"H1\",\"156\":\"H1\",\"157\":\"H1\",\"158\":\"H1\",\"159\":\"H1\",\"160\":\"H1\",\"161\":\"H1\",\"162\":\"H1\",\"163\":\"H1\",\"164\":\"H1\",\"165\":\"H1\",\"166\":\"H1\",\"167\":\"H1\",\"168\":\"H1\",\"169\":\"H1\",\"170\":\"H1\",\"171\":\"H1\",\"172\":\"H1\",\"173\":\"H1\",\"174\":\"H1\",\"175\":\"H1\",\"176\":\"H1\",\"177\":\"H1\",\"178\":\"H1\",\"179\":\"H1\",\"180\":\"H1\",\"181\":\"H1\",\"182\":\"H1\",\"183\":\"H1\",\"184\":\"H1\",\"185\":\"H1\",\"186\":\"H1\",\"187\":\"H1\",\"188\":\"H1\",\"189\":\"H1\",\"190\":\"H1\",\"191\":\"H1\",\"192\":\"H1\",\"193\":\"H1\",\"194\":\"H1\",\"195\":\"H1\",\"196\":\"H1\",\"197\":\"H1\",\"198\":\"H1\",\"199\":\"H1\",\"200\":\"H1\",\"201\":\"H1\",\"202\":\"H1\",\"203\":\"H1\",\"204\":\"H1\",\"205\":\"H1\",\"206\":\"H1\",\"207\":\"H1\",\"208\":\"H1\",\"209\":\"H1\",\"210\":\"H1\",\"211\":\"H1\",\"212\":\"H1\",\"213\":\"H1\",\"214\":\"H1\",\"215\":\"H1\",\"216\":\"H1\",\"217\":\"H1\",\"218\":\"H1\",\"219\":\"H1\",\"220\":\"H1\",\"221\":\"H1\",\"222\":\"H1\",\"223\":\"H6\",\"224\":\"H1\",\"225\":\"H1\",\"226\":\"H1\",\"227\":\"H1\",\"228\":\"H1\",\"229\":\"H1\",\"230\":\"H1\",\"231\":\"H1\",\"232\":\"H1\",\"233\":\"H1\",\"234\":\"H1\",\"235\":\"H1\",\"236\":\"H1\",\"237\":\"H1\",\"238\":\"H1\",\"239\":\"H1\",\"240\":\"H1\",\"241\":\"H1\",\"242\":\"H1\",\"243\":\"H1\",\"244\":\"H1\",\"245\":\"H1\",\"246\":\"H1\",\"247\":\"H1\",\"248\":\"H1\",\"249\":\"H1\",\"250\":\"H1\",\"251\":\"H6\",\"252\":\"H1\",\"253\":\"H1\",\"254\":\"H1\",\"255\":\"H1\",\"256\":\"H1\",\"257\":\"H1\",\"258\":\"H1\",\"259\":\"H1\",\"260\":\"H6\",\"261\":\"H1\",\"262\":\"H1\",\"263\":\"H1\",\"264\":\"H1\",\"265\":\"H1\",\"266\":\"H1\",\"267\":\"H1\",\"268\":\"H1\",\"269\":\"H1\",\"270\":\"H1\",\"271\":\"H1\",\"272\":\"H1\",\"273\":\"H1\",\"274\":\"H1\",\"275\":\"H1\",\"276\":\"H1\",\"277\":\"H1\",\"278\":\"H1\",\"279\":\"H1\",\"280\":\"H1\",\"281\":\"H1\",\"282\":\"H1\",\"283\":\"H1\",\"284\":\"H1\",\"285\":\"H1\",\"286\":\"H1\",\"287\":\"H1\",\"288\":\"H1\",\"289\":\"H1\",\"290\":\"H1\",\"291\":\"H1\",\"292\":\"H1\",\"293\":\"H1\",\"294\":\"H1\",\"295\":\"H1\",\"296\":\"H1\",\"297\":\"H1\",\"298\":\"H1\",\"299\":\"H1\",\"300\":\"H1\",\"301\":\"H1\",\"302\":\"H1\",\"303\":\"H1\",\"304\":\"H1\",\"305\":\"H1\",\"306\":\"H1\",\"307\":\"H1\",\"308\":\"H4\",\"309\":\"H4\",\"310\":\"H4\",\"311\":\"H4\",\"312\":\"H4\",\"313\":\"H4\",\"314\":\"H4\",\"315\":\"H4\",\"316\":\"H1\",\"317\":\"H1\",\"318\":\"H1\",\"319\":\"H6\",\"320\":\"H1\",\"321\":\"H1\",\"322\":\"H1\",\"323\":\"H1\",\"324\":\"H1\",\"325\":\"H1\",\"326\":\"H1\",\"327\":\"H1\",\"328\":\"H1\",\"329\":\"H1\",\"330\":\"H1\",\"331\":\"H1\",\"332\":\"H1\",\"333\":\"H1\",\"334\":\"H6\",\"335\":\"H1\",\"336\":\"H1\",\"337\":\"H1\",\"338\":\"H1\",\"339\":\"H1\",\"340\":\"H1\",\"341\":\"H1\",\"342\":\"H1\",\"343\":\"H1\",\"344\":\"H1\",\"345\":\"H1\",\"346\":\"H1\",\"347\":\"H1\",\"348\":\"H1\",\"349\":\"H1\",\"350\":\"H1\",\"351\":\"H1\",\"352\":\"H1\",\"353\":\"H1\",\"354\":\"H1\",\"355\":\"H1\",\"356\":\"H1\",\"357\":\"H1\",\"358\":\"H1\",\"359\":\"H1\",\"360\":\"H1\",\"361\":\"H1\",\"362\":\"H1\",\"363\":\"H1\",\"364\":\"H1\",\"365\":\"H1\",\"366\":\"H1\",\"367\":\"H1\",\"368\":\"H1\",\"369\":\"H1\",\"370\":\"H1\",\"371\":\"H1\",\"372\":\"H1\",\"373\":\"H1\",\"374\":\"H1\",\"375\":\"H1\",\"376\":\"H1\",\"377\":\"H1\",\"378\":\"H1\",\"379\":\"H1\",\"380\":\"H1\",\"381\":\"H1\",\"382\":\"H1\",\"383\":\"H1\",\"384\":\"H1\",\"385\":\"H1\",\"386\":\"H1\",\"387\":\"H1\",\"388\":\"H1\",\"389\":\"H1\",\"390\":\"H1\",\"391\":\"H1\",\"392\":\"H1\",\"393\":\"H1\",\"394\":\"H1\",\"395\":\"H1\",\"396\":\"H1\",\"397\":\"H1\",\"398\":\"H1\",\"399\":\"H1\",\"400\":\"H1\",\"401\":\"H1\",\"402\":\"H1\",\"403\":\"H1\",\"404\":\"H1\",\"405\":\"H1\",\"406\":\"H1\",\"407\":\"H1\",\"408\":\"H1\",\"409\":\"H1\",\"410\":\"H1\",\"411\":\"H1\",\"412\":\"H1\",\"413\":\"H1\",\"414\":\"H1\",\"415\":\"H6\",\"416\":\"H1\",\"417\":\"H1\",\"418\":\"H1\",\"419\":\"H1\",\"420\":\"H1\",\"421\":\"H1\",\"422\":\"H1\",\"423\":\"H1\",\"424\":\"H1\",\"425\":\"H1\",\"426\":\"H1\",\"427\":\"H1\",\"428\":\"H1\",\"429\":\"H1\",\"430\":\"H1\",\"431\":\"H1\",\"432\":\"H1\",\"433\":\"H1\",\"434\":\"H1\",\"435\":\"H1\",\"436\":\"H1\",\"437\":\"H1\",\"438\":\"H1\",\"439\":\"H1\",\"440\":\"H1\",\"441\":\"H1\",\"442\":\"H1\",\"443\":\"H1\",\"444\":\"H1\",\"445\":\"H1\",\"446\":\"H1\",\"447\":\"H1\",\"448\":\"H1\",\"449\":\"H1\",\"450\":\"H1\",\"451\":\"H1\",\"452\":\"H1\",\"453\":\"H1\",\"454\":\"H1\",\"455\":\"H1\",\"456\":\"H1\",\"457\":\"H1\",\"458\":\"H1\",\"459\":\"H1\",\"460\":\"H1\",\"461\":\"H1\",\"462\":\"H1\",\"463\":\"H1\",\"464\":\"H1\",\"465\":\"H1\",\"466\":\"H1\",\"467\":\"H1\",\"468\":\"H1\",\"469\":\"H1\",\"470\":\"H1\",\"471\":\"H1\",\"472\":\"H1\",\"473\":\"H1\",\"474\":\"H1\",\"475\":\"H1\",\"476\":\"H1\",\"477\":\"H1\",\"478\":\"H1\",\"479\":\"H1\",\"480\":\"H1\",\"481\":\"H1\",\"482\":\"H1\",\"483\":\"H1\",\"484\":\"H1\",\"485\":\"H1\",\"486\":\"H1\",\"487\":\"H1\",\"488\":\"H1\",\"489\":\"H1\",\"490\":\"H1\",\"491\":\"H1\",\"492\":\"H6\",\"493\":\"H1\",\"494\":\"H1\",\"495\":\"H1\",\"496\":\"H1\",\"497\":\"H1\",\"498\":\"H1\",\"499\":\"H1\",\"500\":\"H1\",\"501\":\"H1\",\"502\":\"H1\",\"503\":\"H1\",\"504\":\"H1\",\"505\":\"H1\",\"506\":\"H1\",\"507\":\"H6\",\"508\":\"H1\",\"509\":\"H1\",\"510\":\"H1\",\"511\":\"H1\",\"512\":\"H1\",\"513\":\"H1\",\"514\":\"H1\",\"515\":\"H1\",\"516\":\"H1\",\"517\":\"H1\",\"518\":\"H1\",\"519\":\"H1\",\"520\":\"H1\",\"521\":\"H1\",\"522\":\"H1\",\"523\":\"H1\",\"524\":\"H1\",\"525\":\"H1\",\"526\":\"H1\",\"527\":\"H1\",\"528\":\"H1\",\"529\":\"H1\",\"530\":\"H1\",\"531\":\"H1\",\"532\":\"H1\",\"533\":\"H1\",\"534\":\"H1\",\"535\":\"H1\",\"536\":\"H1\",\"537\":\"H1\",\"538\":\"H1\",\"539\":\"H1\",\"540\":\"H1\",\"541\":\"H1\",\"542\":\"H1\",\"543\":\"H1\",\"544\":\"H1\",\"545\":\"H1\",\"546\":\"H1\",\"547\":\"H1\",\"548\":\"H4\",\"549\":\"H1\",\"550\":\"H1\",\"551\":\"H1\",\"552\":\"H1\",\"553\":\"H1\",\"554\":\"H1\",\"555\":\"H1\",\"556\":\"H1\",\"557\":\"H1\",\"558\":\"H1\",\"559\":\"H1\",\"560\":\"H1\",\"561\":\"H1\",\"562\":\"H1\",\"563\":\"H1\",\"564\":\"H1\",\"565\":\"H1\",\"566\":\"H1\",\"567\":\"H1\",\"568\":\"H1\",\"569\":\"H1\",\"570\":\"H1\",\"571\":\"H1\",\"572\":\"H1\",\"573\":\"H1\",\"574\":\"H1\",\"575\":\"H1\",\"576\":\"H1\",\"577\":\"H1\",\"578\":\"H1\",\"579\":\"H1\",\"580\":\"H1\",\"581\":\"H1\",\"582\":\"H1\",\"583\":\"H1\",\"584\":\"H1\",\"585\":\"H1\",\"586\":\"H1\",\"587\":\"H1\",\"588\":\"H1\",\"589\":\"H1\",\"590\":\"H1\",\"591\":\"H1\",\"592\":\"H1\",\"593\":\"H1\",\"594\":\"H1\",\"595\":\"H1\",\"596\":\"H1\",\"597\":\"H1\",\"598\":\"H1\",\"599\":\"H1\",\"600\":\"H1\",\"601\":\"H1\",\"602\":\"H1\",\"603\":\"H1\",\"604\":\"H1\",\"605\":\"H1\",\"606\":\"H1\",\"607\":\"H1\",\"608\":\"H1\",\"609\":\"H1\",\"610\":\"H1\",\"611\":\"H1\",\"612\":\"H1\",\"613\":\"H1\",\"614\":\"H1\",\"615\":\"H1\",\"616\":\"H1\",\"617\":\"H1\",\"618\":\"H1\",\"619\":\"H1\",\"620\":\"H1\",\"621\":\"H1\",\"622\":\"H1\",\"623\":\"H1\",\"624\":\"H1\",\"625\":\"H1\",\"626\":\"H1\",\"627\":\"H1\",\"628\":\"H1\",\"629\":\"H1\",\"630\":\"H1\",\"631\":\"H1\",\"632\":\"H1\",\"633\":\"H1\",\"634\":\"H1\",\"635\":\"H1\",\"636\":\"H1\",\"637\":\"H1\",\"638\":\"H1\",\"639\":\"H1\",\"640\":\"H1\",\"641\":\"H1\",\"642\":\"H1\",\"643\":\"H1\",\"644\":\"H1\",\"645\":\"H1\",\"646\":\"H1\",\"647\":\"H1\",\"648\":\"H1\",\"649\":\"H1\",\"650\":\"H1\",\"651\":\"H1\",\"652\":\"H1\",\"653\":\"H1\",\"654\":\"H1\",\"655\":\"H1\",\"656\":\"H1\",\"657\":\"H1\",\"658\":\"H1\",\"659\":\"H1\",\"660\":\"H1\",\"661\":\"H1\",\"662\":\"H1\",\"663\":\"H1\",\"664\":\"H1\",\"665\":\"H1\",\"666\":\"H1\",\"667\":\"H1\",\"668\":\"H1\",\"669\":\"H1\",\"670\":\"H1\",\"671\":\"H1\",\"672\":\"H1\",\"673\":\"H1\",\"674\":\"H1\",\"675\":\"H1\",\"676\":\"H1\",\"677\":\"H1\",\"678\":\"H1\",\"679\":\"H1\",\"680\":\"H1\",\"681\":\"H1\",\"682\":\"H1\",\"683\":\"H1\",\"684\":\"H1\",\"685\":\"H1\",\"686\":\"H1\",\"687\":\"H1\",\"688\":\"H1\",\"689\":\"H1\",\"690\":\"H1\",\"691\":\"H1\",\"692\":\"H1\",\"693\":\"H1\",\"694\":\"H1\",\"695\":\"H1\",\"696\":\"H1\",\"697\":\"H1\",\"698\":\"H1\",\"699\":\"H1\",\"700\":\"H1\",\"701\":\"H1\",\"702\":\"H1\",\"703\":\"H1\",\"704\":\"H1\",\"705\":\"H1\",\"706\":\"H1\",\"707\":\"H1\",\"708\":\"H1\",\"709\":\"H1\",\"710\":\"H1\",\"711\":\"H1\",\"712\":\"H1\",\"713\":\"H1\",\"714\":\"H1\",\"715\":\"H1\",\"716\":\"H1\",\"717\":\"H1\",\"718\":\"H1\",\"719\":\"H1\",\"720\":\"H1\",\"721\":\"H1\",\"722\":\"H1\",\"723\":\"H1\",\"724\":\"H1\",\"725\":\"H1\",\"726\":\"H1\",\"727\":\"H1\",\"728\":\"H1\",\"729\":\"H1\",\"730\":\"H1\",\"731\":\"H1\",\"732\":\"H1\",\"733\":\"H1\",\"734\":\"H1\",\"735\":\"H1\",\"736\":\"H1\",\"737\":\"H1\",\"738\":\"H1\",\"739\":\"H1\",\"740\":\"H1\",\"741\":\"H1\",\"742\":\"H1\",\"743\":\"H1\",\"744\":\"H1\",\"745\":\"H6\",\"746\":\"H1\",\"747\":\"H1\",\"748\":\"H1\",\"749\":\"H1\",\"750\":\"H1\",\"751\":\"H1\",\"752\":\"H1\",\"753\":\"H1\",\"754\":\"H1\",\"755\":\"H1\",\"756\":\"H1\",\"757\":\"H1\",\"758\":\"H1\",\"759\":\"H1\",\"760\":\"H1\",\"761\":\"H1\",\"762\":\"H1\",\"763\":\"H1\",\"764\":\"H1\",\"765\":\"H1\",\"766\":\"H1\",\"767\":\"H1\",\"768\":\"H1\",\"769\":\"H1\",\"770\":\"H1\",\"771\":\"H1\",\"772\":\"H1\",\"773\":\"H1\",\"774\":\"H1\",\"775\":\"H1\",\"776\":\"H1\",\"777\":\"H1\",\"778\":\"H1\",\"779\":\"H1\",\"780\":\"H1\",\"781\":\"H1\",\"782\":\"H1\",\"783\":\"H1\",\"784\":\"H1\",\"785\":\"H1\",\"786\":\"H1\",\"787\":\"H1\",\"788\":\"H1\",\"789\":\"H1\",\"790\":\"H1\",\"791\":\"H1\",\"792\":\"H1\",\"793\":\"H1\",\"794\":\"H1\",\"795\":\"H1\",\"796\":\"H1\",\"797\":\"H1\",\"798\":\"H1\",\"799\":\"H1\",\"800\":\"H1\",\"801\":\"H1\",\"802\":\"H1\",\"803\":\"H1\",\"804\":\"H1\",\"805\":\"H1\",\"806\":\"H1\",\"807\":\"H1\",\"808\":\"H1\",\"809\":\"H1\",\"810\":\"H1\",\"811\":\"H1\",\"812\":\"H1\",\"813\":\"H1\",\"814\":\"H1\",\"815\":\"H1\",\"816\":\"H1\",\"817\":\"H1\",\"818\":\"H1\",\"819\":\"H1\",\"820\":\"H1\",\"821\":\"H1\",\"822\":\"H1\",\"823\":\"H1\",\"824\":\"H1\",\"825\":\"H1\",\"826\":\"H1\",\"827\":\"H1\",\"828\":\"H1\",\"829\":\"H1\",\"830\":\"H1\",\"831\":\"H1\",\"832\":\"H1\",\"833\":\"H1\",\"834\":\"H1\",\"835\":\"H1\",\"836\":\"H1\",\"837\":\"H1\",\"838\":\"H1\",\"839\":\"H1\",\"840\":\"H1\",\"841\":\"H1\",\"842\":\"H1\",\"843\":\"H1\",\"844\":\"H1\",\"845\":\"H1\",\"846\":\"H1\",\"847\":\"H1\",\"848\":\"H1\",\"849\":\"H1\",\"850\":\"H1\",\"851\":\"H1\",\"852\":\"H1\",\"853\":\"H1\",\"854\":\"H1\",\"855\":\"H1\",\"856\":\"H1\",\"857\":\"H1\",\"858\":\"H1\",\"859\":\"H1\",\"860\":\"H1\",\"861\":\"H1\",\"862\":\"H1\",\"863\":\"H1\",\"864\":\"H1\",\"865\":\"H1\",\"866\":\"H1\",\"867\":\"H1\",\"868\":\"H1\",\"869\":\"H1\",\"870\":\"H1\",\"871\":\"H1\",\"872\":\"H1\",\"873\":\"H1\",\"874\":\"H1\",\"875\":\"H1\",\"876\":\"H1\",\"877\":\"H1\",\"878\":\"H1\",\"879\":\"H1\",\"880\":\"H1\",\"881\":\"H1\",\"882\":\"H1\",\"883\":\"H1\",\"884\":\"H1\",\"885\":\"H1\",\"886\":\"H1\",\"887\":\"H1\",\"888\":\"H1\",\"889\":\"H1\",\"890\":\"H1\",\"891\":\"H1\",\"892\":\"H1\",\"893\":\"H1\",\"894\":\"H1\",\"895\":\"H1\",\"896\":\"H1\",\"897\":\"H1\",\"898\":\"H1\",\"899\":\"H1\",\"900\":\"H1\",\"901\":\"H1\",\"902\":\"H1\",\"903\":\"H1\",\"904\":\"H1\",\"905\":\"H1\",\"906\":\"H1\",\"907\":\"H1\",\"908\":\"H1\",\"909\":\"H1\",\"910\":\"H1\",\"911\":\"H1\",\"912\":\"H1\",\"913\":\"H1\",\"914\":\"H1\",\"915\":\"H1\",\"916\":\"H1\",\"917\":\"H1\",\"918\":\"H1\",\"919\":\"H1\",\"920\":\"H1\",\"921\":\"H1\",\"922\":\"H1\",\"923\":\"H1\",\"924\":\"H1\",\"925\":\"H1\",\"926\":\"H1\",\"927\":\"H1\",\"928\":\"H1\",\"929\":\"H1\",\"930\":\"H1\",\"931\":\"H1\",\"932\":\"H1\",\"933\":\"H1\",\"934\":\"H1\",\"935\":\"H1\",\"936\":\"H1\",\"937\":\"H1\",\"938\":\"H1\",\"939\":\"H1\",\"940\":\"H1\",\"941\":\"H1\",\"942\":\"H1\",\"943\":\"H1\",\"944\":\"H1\",\"945\":\"H1\",\"946\":\"H1\",\"947\":\"H1\",\"948\":\"H1\",\"949\":\"H1\",\"950\":\"H1\",\"951\":\"H1\",\"952\":\"H1\",\"953\":\"H1\",\"954\":\"H1\",\"955\":\"H1\",\"956\":\"H1\",\"957\":\"H1\",\"958\":\"H1\",\"959\":\"H1\",\"960\":\"H1\",\"961\":\"H1\",\"962\":\"H1\",\"963\":\"H1\",\"964\":\"H1\",\"965\":\"H1\",\"966\":\"H1\",\"967\":\"H1\",\"968\":\"H1\",\"969\":\"H1\",\"970\":\"H1\",\"971\":\"H1\",\"972\":\"H1\",\"973\":\"H1\",\"974\":\"H1\",\"975\":\"H1\",\"976\":\"H1\",\"977\":\"H1\",\"978\":\"H1\",\"979\":\"H1\",\"980\":\"H1\",\"981\":\"H1\",\"982\":\"H1\",\"983\":\"H1\",\"984\":\"H1\",\"985\":\"H1\",\"986\":\"H1\",\"987\":\"H1\",\"988\":\"H1\",\"989\":\"H1\",\"990\":\"H1\",\"991\":\"H1\",\"992\":\"H6\",\"993\":\"H1\",\"994\":\"H1\",\"995\":\"H1\",\"996\":\"H1\",\"997\":\"H1\",\"998\":\"H1\",\"999\":\"H1\",\"1000\":\"H1\",\"1001\":\"H1\",\"1002\":\"H1\",\"1003\":\"H1\",\"1004\":\"H1\",\"1005\":\"H1\",\"1006\":\"H1\",\"1007\":\"H1\",\"1008\":\"H1\",\"1009\":\"H1\",\"1010\":\"H1\",\"1011\":\"H1\",\"1012\":\"H1\",\"1013\":\"H1\",\"1014\":\"H1\",\"1015\":\"H1\",\"1016\":\"H1\",\"1017\":\"H1\",\"1018\":\"H1\",\"1019\":\"H1\",\"1020\":\"H1\",\"1021\":\"H1\",\"1022\":\"H1\",\"1023\":\"H1\",\"1024\":\"H1\",\"1025\":\"H1\",\"1026\":\"H6\",\"1027\":\"H1\",\"1028\":\"H1\",\"1029\":\"H1\",\"1030\":\"H1\",\"1031\":\"H1\",\"1032\":\"H1\",\"1033\":\"H1\",\"1034\":\"H1\",\"1035\":\"H1\",\"1036\":\"H1\",\"1037\":\"H1\",\"1038\":\"H1\",\"1039\":\"H1\",\"1040\":\"H1\",\"1041\":\"H1\",\"1042\":\"H1\",\"1043\":\"H1\",\"1044\":\"H1\",\"1045\":\"H1\",\"1046\":\"H1\",\"1047\":\"H1\",\"1048\":\"H1\",\"1049\":\"H1\",\"1050\":\"H1\",\"1051\":\"H1\",\"1052\":\"H1\",\"1053\":\"H1\",\"1054\":\"H1\",\"1055\":\"H1\",\"1056\":\"H1\",\"1057\":\"H1\",\"1058\":\"H1\",\"1059\":\"H1\",\"1060\":\"H1\",\"1061\":\"H1\",\"1062\":\"H1\",\"1063\":\"H1\",\"1064\":\"H1\",\"1065\":\"H1\",\"1066\":\"H1\",\"1067\":\"H1\",\"1068\":\"H1\",\"1069\":\"H1\",\"1070\":\"H1\",\"1071\":\"H1\",\"1072\":\"H1\",\"1073\":\"H1\",\"1074\":\"H1\",\"1075\":\"H1\",\"1076\":\"H1\",\"1077\":\"H1\",\"1078\":\"H1\",\"1079\":\"H1\",\"1080\":\"H1\",\"1081\":\"H1\",\"1082\":\"H1\",\"1083\":\"H1\",\"1084\":\"H1\",\"1085\":\"H1\",\"1086\":\"H1\",\"1087\":\"H1\",\"1088\":\"H1\",\"1089\":\"H1\",\"1090\":\"H1\",\"1091\":\"H1\",\"1092\":\"H1\",\"1093\":\"H1\",\"1094\":\"H1\",\"1095\":\"H1\",\"1096\":\"H1\",\"1097\":\"H1\",\"1098\":\"H1\",\"1099\":\"H1\",\"1100\":\"H1\",\"1101\":\"H1\",\"1102\":\"H1\",\"1103\":\"H1\",\"1104\":\"H1\",\"1105\":\"H1\",\"1106\":\"H1\",\"1107\":\"H1\",\"1108\":\"H1\",\"1109\":\"H1\",\"1110\":\"H1\",\"1111\":\"H1\",\"1112\":\"H1\",\"1113\":\"H1\",\"1114\":\"H1\",\"1115\":\"H1\",\"1116\":\"H1\",\"1117\":\"H1\",\"1118\":\"H1\",\"1119\":\"H1\",\"1120\":\"H1\",\"1121\":\"H1\",\"1122\":\"H1\",\"1123\":\"H1\",\"1124\":\"H1\",\"1125\":\"H1\",\"1126\":\"H1\",\"1127\":\"H1\",\"1128\":\"H1\",\"1129\":\"H1\",\"1130\":\"H1\",\"1131\":\"H1\",\"1132\":\"H1\",\"1133\":\"H1\",\"1134\":\"H1\",\"1135\":\"H1\",\"1136\":\"H1\",\"1137\":\"H1\",\"1138\":\"H1\",\"1139\":\"H1\",\"1140\":\"H1\",\"1141\":\"H1\",\"1142\":\"H1\",\"1143\":\"H1\",\"1144\":\"H1\",\"1145\":\"H1\",\"1146\":\"H1\",\"1147\":\"H1\",\"1148\":\"H6\",\"1149\":\"H1\",\"1150\":\"H1\",\"1151\":\"H1\",\"1152\":\"H1\",\"1153\":\"H1\",\"1154\":\"H1\",\"1155\":\"H1\",\"1156\":\"H1\",\"1157\":\"H1\",\"1158\":\"H1\",\"1159\":\"H1\",\"1160\":\"H1\",\"1161\":\"H1\",\"1162\":\"H1\",\"1163\":\"H1\",\"1164\":\"H1\",\"1165\":\"H1\",\"1166\":\"H1\",\"1167\":\"H1\",\"1168\":\"H1\",\"1169\":\"H1\",\"1170\":\"H1\",\"1171\":\"H1\",\"1172\":\"H1\",\"1173\":\"H1\",\"1174\":\"H1\",\"1175\":\"H1\",\"1176\":\"H1\",\"1177\":\"H1\",\"1178\":\"H1\",\"1179\":\"H1\",\"1180\":\"H1\",\"1181\":\"H1\",\"1182\":\"H1\",\"1183\":\"H1\",\"1184\":\"H1\",\"1185\":\"H1\",\"1186\":\"H1\",\"1187\":\"H1\",\"1188\":\"H1\",\"1189\":\"H1\",\"1190\":\"H1\",\"1191\":\"H1\",\"1192\":\"H1\",\"1193\":\"H1\",\"1194\":\"H1\",\"1195\":\"H1\",\"1196\":\"H1\",\"1197\":\"H1\",\"1198\":\"H1\",\"1199\":\"H1\",\"1200\":\"H1\",\"1201\":\"H1\",\"1202\":\"H1\",\"1203\":\"H1\",\"1204\":\"H1\",\"1205\":\"H1\",\"1206\":\"H1\",\"1207\":\"H1\",\"1208\":\"H1\",\"1209\":\"H1\",\"1210\":\"H1\",\"1211\":\"H1\",\"1212\":\"H1\",\"1213\":\"H1\",\"1214\":\"H1\",\"1215\":\"H1\",\"1216\":\"C7\",\"1217\":\"H1\",\"1218\":\"H4\",\"1219\":\"H1\",\"1220\":\"H1\",\"1221\":\"H4\",\"1222\":\"H4\",\"1223\":\"H4\",\"1224\":\"H4\",\"1225\":\"H4\",\"1226\":\"H4\",\"1227\":\"H1\",\"1228\":\"H1\",\"1229\":\"H4\",\"1230\":\"H4\",\"1231\":\"H1\",\"1232\":\"H1\",\"1233\":\"H1\",\"1234\":\"H1\",\"1235\":\"H1\",\"1236\":\"H1\",\"1237\":\"H1\",\"1238\":\"H1\",\"1239\":\"H1\",\"1240\":\"H1\",\"1241\":\"H1\",\"1242\":\"H1\",\"1243\":\"H1\",\"1244\":\"H1\",\"1245\":\"H1\",\"1246\":\"H1\",\"1247\":\"H1\",\"1248\":\"H1\",\"1249\":\"H1\",\"1250\":\"H1\",\"1251\":\"H1\",\"1252\":\"H1\",\"1253\":\"H1\",\"1254\":\"H1\",\"1255\":\"H1\",\"1256\":\"H1\",\"1257\":\"H1\",\"1258\":\"H1\",\"1259\":\"H1\",\"1260\":\"H1\",\"1261\":\"H1\",\"1262\":\"H1\",\"1263\":\"H1\",\"1264\":\"H1\",\"1265\":\"H1\",\"1266\":\"H1\",\"1267\":\"H1\",\"1268\":\"H1\",\"1269\":\"H1\",\"1270\":\"H1\",\"1271\":\"H1\",\"1272\":\"H1\",\"1273\":\"H1\",\"1274\":\"H1\",\"1275\":\"H1\",\"1276\":\"H1\",\"1277\":\"H1\",\"1278\":\"H1\",\"1279\":\"H1\",\"1280\":\"H1\",\"1281\":\"H1\",\"1282\":\"H1\",\"1283\":\"H1\",\"1284\":\"H1\",\"1285\":\"H1\",\"1286\":\"H1\",\"1287\":\"H1\",\"1288\":\"H1\",\"1289\":\"H1\",\"1290\":\"H1\",\"1291\":\"H1\",\"1292\":\"H1\",\"1293\":\"H1\",\"1294\":\"H1\",\"1295\":\"H1\",\"1296\":\"H1\",\"1297\":\"H1\",\"1298\":\"H1\",\"1299\":\"H1\",\"1300\":\"H1\",\"1301\":\"H1\",\"1302\":\"H1\",\"1303\":\"H1\",\"1304\":\"H1\",\"1305\":\"H1\",\"1306\":\"H1\",\"1307\":\"H1\",\"1308\":\"H1\",\"1309\":\"H1\",\"1310\":\"H1\",\"1311\":\"H1\",\"1312\":\"H1\",\"1313\":\"H1\",\"1314\":\"H1\",\"1315\":\"H1\",\"1316\":\"H1\",\"1317\":\"H1\",\"1318\":\"H1\",\"1319\":\"H1\",\"1320\":\"H1\",\"1321\":\"H1\",\"1322\":\"H1\",\"1323\":\"H1\",\"1324\":\"H1\",\"1325\":\"H1\",\"1326\":\"H1\",\"1327\":\"H1\",\"1328\":\"H1\",\"1329\":\"H1\",\"1330\":\"H1\",\"1331\":\"H1\",\"1332\":\"H1\",\"1333\":\"H1\",\"1334\":\"H1\",\"1335\":\"H1\",\"1336\":\"H1\",\"1337\":\"H1\",\"1338\":\"H1\",\"1339\":\"H1\",\"1340\":\"H1\",\"1341\":\"H1\",\"1342\":\"H1\",\"1343\":\"H1\",\"1344\":\"H1\",\"1345\":\"H1\",\"1346\":\"H1\",\"1347\":\"H1\",\"1348\":\"H1\",\"1349\":\"H1\",\"1350\":\"H1\",\"1351\":\"H1\",\"1352\":\"H1\",\"1353\":\"H1\",\"1354\":\"H1\",\"1355\":\"H1\",\"1356\":\"H1\",\"1357\":\"H1\",\"1358\":\"H1\",\"1359\":\"H1\",\"1360\":\"H1\",\"1361\":\"H1\",\"1362\":\"H1\",\"1363\":\"H1\",\"1364\":\"H1\",\"1365\":\"H1\",\"1366\":\"H1\",\"1367\":\"H1\",\"1368\":\"H1\",\"1369\":\"H1\",\"1370\":\"H1\",\"1371\":\"H1\",\"1372\":\"H1\",\"1373\":\"H1\",\"1374\":\"H1\",\"1375\":\"H1\",\"1376\":\"H1\",\"1377\":\"H1\",\"1378\":\"H1\",\"1379\":\"H1\",\"1380\":\"H1\",\"1381\":\"H1\",\"1382\":\"H1\",\"1383\":\"H1\",\"1384\":\"H1\",\"1385\":\"H1\",\"1386\":\"H1\",\"1387\":\"H1\",\"1388\":\"H1\",\"1389\":\"H1\",\"1390\":\"H1\",\"1391\":\"H1\",\"1392\":\"H1\",\"1393\":\"H1\",\"1394\":\"H1\",\"1395\":\"H1\",\"1396\":\"H1\",\"1397\":\"H1\",\"1398\":\"H1\",\"1399\":\"H1\",\"1400\":\"H1\",\"1401\":\"H1\",\"1402\":\"H1\",\"1403\":\"H1\",\"1404\":\"H1\",\"1405\":\"H1\",\"1406\":\"H1\",\"1407\":\"H1\",\"1408\":\"H1\",\"1409\":\"H1\",\"1410\":\"H1\",\"1411\":\"H1\",\"1412\":\"H1\",\"1413\":\"H1\",\"1414\":\"H1\",\"1415\":\"H1\",\"1416\":\"H1\",\"1417\":\"H1\",\"1418\":\"H1\",\"1419\":\"H1\",\"1420\":\"H1\",\"1421\":\"H1\",\"1422\":\"H1\",\"1423\":\"H1\",\"1424\":\"H1\",\"1425\":\"H1\",\"1426\":\"H1\",\"1427\":\"H1\",\"1428\":\"H1\",\"1429\":\"H1\",\"1430\":\"H1\",\"1431\":\"H1\",\"1432\":\"H1\",\"1433\":\"H1\",\"1434\":\"H1\",\"1435\":\"H1\",\"1436\":\"H1\",\"1437\":\"H1\",\"1438\":\"H1\",\"1439\":\"H1\",\"1440\":\"H1\",\"1441\":\"H1\",\"1442\":\"H1\",\"1443\":\"H1\",\"1444\":\"H1\",\"1445\":\"H1\",\"1446\":\"H1\",\"1447\":\"H1\",\"1448\":\"H1\",\"1449\":\"H1\",\"1450\":\"H1\",\"1451\":\"H1\",\"1452\":\"H1\",\"1453\":\"H1\",\"1454\":\"H1\",\"1455\":\"H1\",\"1456\":\"H1\",\"1457\":\"H1\",\"1458\":\"H1\",\"1459\":\"H1\",\"1460\":\"H1\",\"1461\":\"H1\",\"1462\":\"H1\",\"1463\":\"H1\",\"1464\":\"H1\",\"1465\":\"H1\",\"1466\":\"H1\",\"1467\":\"H1\",\"1468\":\"H1\",\"1469\":\"H1\",\"1470\":\"H1\",\"1471\":\"H1\",\"1472\":\"H1\",\"1473\":\"H1\",\"1474\":\"H1\",\"1475\":\"H1\",\"1476\":\"H1\",\"1477\":\"H1\",\"1478\":\"H1\",\"1479\":\"H1\",\"1480\":\"H1\",\"1481\":\"H1\",\"1482\":\"H1\",\"1483\":\"H1\",\"1484\":\"H1\",\"1485\":\"H1\",\"1486\":\"H1\",\"1487\":\"H1\",\"1488\":\"H1\",\"1489\":\"H1\",\"1490\":\"H1\",\"1491\":\"H1\",\"1492\":\"H1\",\"1493\":\"H1\",\"1494\":\"H1\",\"1495\":\"H1\",\"1496\":\"H1\",\"1497\":\"H1\",\"1498\":\"H1\",\"1499\":\"H1\",\"1500\":\"H1\",\"1501\":\"H1\",\"1502\":\"H1\",\"1503\":\"H1\",\"1504\":\"H1\",\"1505\":\"H1\",\"1506\":\"H1\",\"1507\":\"H1\",\"1508\":\"H1\",\"1509\":\"H1\",\"1510\":\"H1\",\"1511\":\"H1\",\"1512\":\"H1\",\"1513\":\"H1\",\"1514\":\"H1\",\"1515\":\"H1\",\"1516\":\"H1\",\"1517\":\"H1\",\"1518\":\"H1\",\"1519\":\"H1\",\"1520\":\"H1\",\"1521\":\"H1\",\"1522\":\"H1\",\"1523\":\"H1\",\"1524\":\"H1\",\"1525\":\"H1\",\"1526\":\"H1\",\"1527\":\"H1\",\"1528\":\"H1\",\"1529\":\"H1\",\"1530\":\"H1\",\"1531\":\"H1\",\"1532\":\"H1\",\"1533\":\"H1\",\"1534\":\"H1\",\"1535\":\"H1\",\"1536\":\"H1\",\"1537\":\"H1\",\"1538\":\"H1\",\"1539\":\"H1\",\"1540\":\"H1\",\"1541\":\"H1\",\"1542\":\"H1\",\"1543\":\"H1\",\"1544\":\"H1\",\"1545\":\"H1\",\"1546\":\"H1\",\"1547\":\"H1\",\"1548\":\"H1\",\"1549\":\"H1\",\"1550\":\"H1\",\"1551\":\"H1\",\"1552\":\"H1\",\"1553\":\"H1\",\"1554\":\"H1\",\"1555\":\"H1\",\"1556\":\"H1\",\"1557\":\"H1\",\"1558\":\"H1\",\"1559\":\"H1\",\"1560\":\"H1\",\"1561\":\"H1\",\"1562\":\"H1\",\"1563\":\"H1\",\"1564\":\"H1\",\"1565\":\"H1\",\"1566\":\"H1\",\"1567\":\"H1\",\"1568\":\"H1\",\"1569\":\"H1\",\"1570\":\"H1\",\"1571\":\"H1\",\"1572\":\"H1\",\"1573\":\"H1\",\"1574\":\"H1\",\"1575\":\"H1\",\"1576\":\"H1\",\"1577\":\"H1\",\"1578\":\"H1\",\"1579\":\"H1\",\"1580\":\"H1\",\"1581\":\"H1\",\"1582\":\"H1\",\"1583\":\"H1\",\"1584\":\"H1\",\"1585\":\"H1\",\"1586\":\"H1\",\"1587\":\"H1\",\"1588\":\"H1\",\"1589\":\"H1\",\"1590\":\"H1\",\"1591\":\"H1\",\"1592\":\"H1\",\"1593\":\"H1\",\"1594\":\"H1\",\"1595\":\"H1\",\"1596\":\"H1\",\"1597\":\"C7\",\"1598\":\"H1\",\"1599\":\"H1\",\"1600\":\"H1\",\"1601\":\"H1\",\"1602\":\"H1\",\"1603\":\"H1\",\"1604\":\"H1\",\"1605\":\"H1\",\"1606\":\"H1\",\"1607\":\"H1\",\"1608\":\"H1\",\"1609\":\"H6\",\"1610\":\"H1\",\"1611\":\"H1\",\"1612\":\"H1\",\"1613\":\"H1\",\"1614\":\"H1\",\"1615\":\"H1\",\"1616\":\"H1\",\"1617\":\"H1\",\"1618\":\"H1\",\"1619\":\"H1\",\"1620\":\"H1\",\"1621\":\"H1\",\"1622\":\"H1\",\"1623\":\"H1\",\"1624\":\"H1\",\"1625\":\"H1\",\"1626\":\"H1\",\"1627\":\"H1\",\"1628\":\"H1\",\"1629\":\"H1\",\"1630\":\"H1\",\"1631\":\"H1\",\"1632\":\"H1\",\"1633\":\"H1\",\"1634\":\"H1\",\"1635\":\"H1\",\"1636\":\"H1\",\"1637\":\"H1\",\"1638\":\"H1\",\"1639\":\"H1\",\"1640\":\"H1\",\"1641\":\"H1\",\"1642\":\"H1\",\"1643\":\"H1\",\"1644\":\"H6\",\"1645\":\"H1\",\"1646\":\"H1\",\"1647\":\"H1\",\"1648\":\"H1\",\"1649\":\"H1\",\"1650\":\"H1\",\"1651\":\"H1\",\"1652\":\"H1\",\"1653\":\"H1\",\"1654\":\"H1\",\"1655\":\"H1\",\"1656\":\"H1\",\"1657\":\"H1\",\"1658\":\"H1\",\"1659\":\"H1\",\"1660\":\"H1\",\"1661\":\"H1\",\"1662\":\"H1\",\"1663\":\"H1\",\"1664\":\"H1\",\"1665\":\"H1\",\"1666\":\"H1\",\"1667\":\"H1\",\"1668\":\"H1\",\"1669\":\"H1\",\"1670\":\"H1\",\"1671\":\"H1\",\"1672\":\"H1\",\"1673\":\"H1\",\"1674\":\"H1\",\"1675\":\"H1\",\"1676\":\"H1\",\"1677\":\"H1\",\"1678\":\"H1\",\"1679\":\"H1\",\"1680\":\"H1\",\"1681\":\"H1\",\"1682\":\"H1\",\"1683\":\"H1\",\"1684\":\"H1\",\"1685\":\"H1\",\"1686\":\"H1\",\"1687\":\"H1\",\"1688\":\"H1\",\"1689\":\"H1\",\"1690\":\"H1\",\"1691\":\"H1\",\"1692\":\"H1\",\"1693\":\"H1\",\"1694\":\"H1\",\"1695\":\"H1\",\"1696\":\"H1\",\"1697\":\"H1\",\"1698\":\"H1\",\"1699\":\"H1\",\"1700\":\"H1\",\"1701\":\"H1\",\"1702\":\"H1\",\"1703\":\"H1\",\"1704\":\"H1\",\"1705\":\"H1\",\"1706\":\"H1\",\"1707\":\"H1\",\"1708\":\"H1\",\"1709\":\"H1\",\"1710\":\"H1\",\"1711\":\"H1\",\"1712\":\"H1\",\"1713\":\"H1\",\"1714\":\"H1\",\"1715\":\"H1\",\"1716\":\"H1\",\"1717\":\"H1\",\"1718\":\"H1\",\"1719\":\"H1\",\"1720\":\"H1\",\"1721\":\"H1\",\"1722\":\"H1\",\"1723\":\"H1\",\"1724\":\"H1\",\"1725\":\"H1\",\"1726\":\"H1\",\"1727\":\"H1\",\"1728\":\"H1\",\"1729\":\"H1\",\"1730\":\"H1\",\"1731\":\"H1\",\"1732\":\"H1\",\"1733\":\"H1\",\"1734\":\"H1\",\"1735\":\"H1\",\"1736\":\"H1\",\"1737\":\"H1\",\"1738\":\"H1\",\"1739\":\"H1\",\"1740\":\"H1\",\"1741\":\"H1\",\"1742\":\"H1\",\"1743\":\"H1\",\"1744\":\"H1\",\"1745\":\"H1\",\"1746\":\"H1\",\"1747\":\"H1\",\"1748\":\"H1\",\"1749\":\"H1\",\"1750\":\"H1\",\"1751\":\"H1\",\"1752\":\"H1\",\"1753\":\"H1\",\"1754\":\"H1\",\"1755\":\"H1\",\"1756\":\"H1\",\"1757\":\"H1\",\"1758\":\"H1\",\"1759\":\"H1\",\"1760\":\"H1\",\"1761\":\"H1\",\"1762\":\"H1\",\"1763\":\"C7\",\"1764\":\"H1\",\"1765\":\"H1\",\"1766\":\"H1\",\"1767\":\"H1\",\"1768\":\"H1\",\"1769\":\"H1\",\"1770\":\"H1\",\"1771\":\"H1\",\"1772\":\"H1\",\"1773\":\"H1\",\"1774\":\"H1\",\"1775\":\"H1\",\"1776\":\"H1\",\"1777\":\"H1\",\"1778\":\"H1\",\"1779\":\"H1\",\"1780\":\"H1\",\"1781\":\"H1\",\"1782\":\"H1\",\"1783\":\"H1\",\"1784\":\"H1\",\"1785\":\"H1\",\"1786\":\"H1\",\"1787\":\"H1\",\"1788\":\"H1\",\"1789\":\"H1\",\"1790\":\"H1\",\"1791\":\"H1\",\"1792\":\"H1\",\"1793\":\"H1\",\"1794\":\"H1\",\"1795\":\"H1\",\"1796\":\"H1\",\"1797\":\"H1\",\"1798\":\"H1\",\"1799\":\"H1\",\"1800\":\"H1\",\"1801\":\"H1\",\"1802\":\"H1\",\"1803\":\"H1\",\"1804\":\"H1\",\"1805\":\"H1\",\"1806\":\"H1\",\"1807\":\"H1\",\"1808\":\"H1\",\"1809\":\"H1\",\"1810\":\"H1\",\"1811\":\"H1\",\"1812\":\"H1\",\"1813\":\"H1\",\"1814\":\"H1\",\"1815\":\"H1\",\"1816\":\"H1\",\"1817\":\"H1\",\"1818\":\"H1\",\"1819\":\"H1\",\"1820\":\"H1\",\"1821\":\"H1\",\"1822\":\"H1\",\"1823\":\"H1\",\"1824\":\"H1\",\"1825\":\"H1\",\"1826\":\"H1\",\"1827\":\"H1\",\"1828\":\"H1\",\"1829\":\"H1\",\"1830\":\"H6\",\"1831\":\"H1\",\"1832\":\"H1\",\"1833\":\"H1\",\"1834\":\"H1\",\"1835\":\"H1\",\"1836\":\"H1\",\"1837\":\"H1\",\"1838\":\"H1\",\"1839\":\"H1\",\"1840\":\"H1\",\"1841\":\"H1\",\"1842\":\"H1\",\"1843\":\"H1\",\"1844\":\"H1\",\"1845\":\"H1\",\"1846\":\"H1\",\"1847\":\"H1\",\"1848\":\"H1\",\"1849\":\"H1\",\"1850\":\"H1\",\"1851\":\"H6\",\"1852\":\"H1\",\"1853\":\"H1\",\"1854\":\"H1\",\"1855\":\"H1\",\"1856\":\"H1\",\"1857\":\"H1\",\"1858\":\"H6\",\"1859\":\"H1\",\"1860\":\"H1\",\"1861\":\"H1\",\"1862\":\"H1\",\"1863\":\"H1\",\"1864\":\"H1\",\"1865\":\"H1\",\"1866\":\"H1\",\"1867\":\"H1\",\"1868\":\"H6\",\"1869\":\"H1\",\"1870\":\"H6\",\"1871\":\"H1\",\"1872\":\"H1\",\"1873\":\"H1\",\"1874\":\"H1\",\"1875\":\"H1\",\"1876\":\"H1\",\"1877\":\"H1\",\"1878\":\"H1\",\"1879\":\"H1\",\"1880\":\"H1\",\"1881\":\"H1\",\"1882\":\"H1\",\"1883\":\"H1\",\"1884\":\"H1\",\"1885\":\"H1\",\"1886\":\"H1\",\"1887\":\"H1\",\"1888\":\"H1\",\"1889\":\"H1\",\"1890\":\"H1\",\"1891\":\"H1\",\"1892\":\"H1\",\"1893\":\"H1\",\"1894\":\"H1\",\"1895\":\"H1\",\"1896\":\"H1\",\"1897\":\"H1\",\"1898\":\"H1\",\"1899\":\"H1\",\"1900\":\"H1\",\"1901\":\"H1\",\"1902\":\"H1\",\"1903\":\"H1\",\"1904\":\"H1\",\"1905\":\"H1\",\"1906\":\"H1\",\"1907\":\"H1\",\"1908\":\"H1\",\"1909\":\"H1\",\"1910\":\"H1\",\"1911\":\"H1\",\"1912\":\"H1\",\"1913\":\"H1\",\"1914\":\"H1\",\"1915\":\"H1\",\"1916\":\"H1\",\"1917\":\"H1\",\"1918\":\"H1\",\"1919\":\"H1\",\"1920\":\"H1\",\"1921\":\"H1\",\"1922\":\"H1\",\"1923\":\"H1\",\"1924\":\"H1\",\"1925\":\"H1\",\"1926\":\"H1\",\"1927\":\"H1\",\"1928\":\"H1\",\"1929\":\"H1\",\"1930\":\"H1\",\"1931\":\"H1\",\"1932\":\"H1\",\"1933\":\"H1\",\"1934\":\"H1\",\"1935\":\"H1\",\"1936\":\"H1\",\"1937\":\"H1\",\"1938\":\"H1\",\"1939\":\"H1\",\"1940\":\"H1\",\"1941\":\"H1\",\"1942\":\"H1\",\"1943\":\"H1\",\"1944\":\"H1\",\"1945\":\"H1\",\"1946\":\"H1\",\"1947\":\"H1\",\"1948\":\"H1\",\"1949\":\"H1\",\"1950\":\"H1\",\"1951\":\"H1\",\"1952\":\"H1\",\"1953\":\"H1\",\"1954\":\"H1\",\"1955\":\"H1\",\"1956\":\"H1\",\"1957\":\"H1\",\"1958\":\"H1\",\"1959\":\"H1\",\"1960\":\"H1\",\"1961\":\"H1\",\"1962\":\"H1\",\"1963\":\"H1\",\"1964\":\"H1\",\"1965\":\"H1\",\"1966\":\"H1\",\"1967\":\"H1\",\"1968\":\"H1\",\"1969\":\"H1\",\"1970\":\"H1\",\"1971\":\"H1\",\"1972\":\"H1\",\"1973\":\"H1\",\"1974\":\"H1\",\"1975\":\"H1\",\"1976\":\"H1\",\"1977\":\"H1\",\"1978\":\"H1\",\"1979\":\"H1\",\"1980\":\"H1\",\"1981\":\"H1\",\"1982\":\"H1\",\"1983\":\"H1\",\"1984\":\"H1\",\"1985\":\"H1\",\"1986\":\"H1\",\"1987\":\"H1\",\"1988\":\"H1\",\"1989\":\"H1\",\"1990\":\"H1\",\"1991\":\"H1\",\"1992\":\"H1\",\"1993\":\"H1\",\"1994\":\"H1\",\"1995\":\"H1\",\"1996\":\"H1\",\"1997\":\"H1\",\"1998\":\"H1\",\"1999\":\"H1\",\"2000\":\"H1\",\"2001\":\"H1\",\"2002\":\"H1\",\"2003\":\"H1\",\"2004\":\"H1\",\"2005\":\"H1\",\"2006\":\"H1\",\"2007\":\"H1\",\"2008\":\"H1\",\"2009\":\"H1\",\"2010\":\"H1\",\"2011\":\"H1\",\"2012\":\"H1\",\"2013\":\"H1\",\"2014\":\"H1\",\"2015\":\"H1\",\"2016\":\"H1\",\"2017\":\"H1\",\"2018\":\"H1\",\"2019\":\"H1\",\"2020\":\"H1\",\"2021\":\"H1\",\"2022\":\"H1\",\"2023\":\"H1\",\"2024\":\"H1\",\"2025\":\"H1\",\"2026\":\"H1\",\"2027\":\"H1\",\"2028\":\"H1\",\"2029\":\"H1\",\"2030\":\"H1\",\"2031\":\"H1\",\"2032\":\"H1\",\"2033\":\"H1\",\"2034\":\"H1\",\"2035\":\"H1\",\"2036\":\"H1\",\"2037\":\"H1\",\"2038\":\"H1\",\"2039\":\"H1\",\"2040\":\"H1\",\"2041\":\"H1\",\"2042\":\"H1\",\"2043\":\"H1\",\"2044\":\"H1\",\"2045\":\"H1\",\"2046\":\"H1\",\"2047\":\"H1\",\"2048\":\"H1\",\"2049\":\"H1\",\"2050\":\"H1\",\"2051\":\"H1\",\"2052\":\"H1\",\"2053\":\"H1\",\"2054\":\"H1\",\"2055\":\"H1\",\"2056\":\"H1\",\"2057\":\"H1\",\"2058\":\"H1\",\"2059\":\"H1\",\"2060\":\"H1\",\"2061\":\"H1\",\"2062\":\"H1\",\"2063\":\"H1\",\"2064\":\"H1\",\"2065\":\"H1\",\"2066\":\"H1\",\"2067\":\"H1\",\"2068\":\"H1\",\"2069\":\"H1\",\"2070\":\"H1\",\"2071\":\"H1\",\"2072\":\"H1\",\"2073\":\"H1\",\"2074\":\"H1\",\"2075\":\"H1\",\"2076\":\"H1\",\"2077\":\"H1\",\"2078\":\"H1\",\"2079\":\"H1\",\"2080\":\"H1\",\"2081\":\"H1\",\"2082\":\"H1\",\"2083\":\"H1\",\"2084\":\"H1\",\"2085\":\"H1\",\"2086\":\"H1\",\"2087\":\"H1\",\"2088\":\"H1\",\"2089\":\"H1\",\"2090\":\"H1\",\"2091\":\"H1\",\"2092\":\"H1\",\"2093\":\"H1\",\"2094\":\"H1\",\"2095\":\"H1\",\"2096\":\"H1\",\"2097\":\"H1\",\"2098\":\"H1\",\"2099\":\"H1\",\"2100\":\"H1\",\"2101\":\"H1\",\"2102\":\"H1\",\"2103\":\"H1\",\"2104\":\"H1\",\"2105\":\"H1\",\"2106\":\"H1\",\"2107\":\"H1\",\"2108\":\"H1\",\"2109\":\"H1\",\"2110\":\"H1\",\"2111\":\"H1\",\"2112\":\"H1\",\"2113\":\"H1\",\"2114\":\"H1\",\"2115\":\"H1\",\"2116\":\"H1\",\"2117\":\"H1\",\"2118\":\"H1\",\"2119\":\"H1\",\"2120\":\"H1\",\"2121\":\"H1\",\"2122\":\"H1\",\"2123\":\"H1\",\"2124\":\"H1\",\"2125\":\"H1\",\"2126\":\"H1\",\"2127\":\"H1\",\"2128\":\"H1\",\"2129\":\"H1\",\"2130\":\"H1\",\"2131\":\"H1\",\"2132\":\"H1\",\"2133\":\"H1\",\"2134\":\"H1\",\"2135\":\"H1\",\"2136\":\"H1\",\"2137\":\"H1\",\"2138\":\"H1\",\"2139\":\"H1\",\"2140\":\"H1\",\"2141\":\"H1\",\"2142\":\"H1\",\"2143\":\"H1\",\"2144\":\"H1\",\"2145\":\"H1\",\"2146\":\"H1\",\"2147\":\"H1\",\"2148\":\"H1\",\"2149\":\"H1\",\"2150\":\"H1\",\"2151\":\"H1\",\"2152\":\"H1\",\"2153\":\"H1\",\"2154\":\"H1\",\"2155\":\"H1\",\"2156\":\"H1\",\"2157\":\"H1\",\"2158\":\"H1\",\"2159\":\"H1\",\"2160\":\"H1\",\"2161\":\"H1\",\"2162\":\"H1\",\"2163\":\"H1\",\"2164\":\"H1\",\"2165\":\"H1\",\"2166\":\"H1\",\"2167\":\"H1\",\"2168\":\"H1\",\"2169\":\"H1\",\"2170\":\"H1\",\"2171\":\"H1\",\"2172\":\"H1\",\"2173\":\"H1\",\"2174\":\"H1\",\"2175\":\"H1\",\"2176\":\"H1\",\"2177\":\"H1\",\"2178\":\"H1\",\"2179\":\"H1\",\"2180\":\"H1\",\"2181\":\"H1\",\"2182\":\"H1\",\"2183\":\"H1\",\"2184\":\"H1\",\"2185\":\"H1\",\"2186\":\"H1\",\"2187\":\"H1\",\"2188\":\"H1\",\"2189\":\"H1\",\"2190\":\"H1\",\"2191\":\"H1\",\"2192\":\"H1\",\"2193\":\"H1\",\"2194\":\"H1\",\"2195\":\"H1\",\"2196\":\"H1\",\"2197\":\"H1\",\"2198\":\"H1\",\"2199\":\"H1\",\"2200\":\"H1\",\"2201\":\"H1\",\"2202\":\"H1\",\"2203\":\"H1\",\"2204\":\"H1\",\"2205\":\"H1\",\"2206\":\"H1\",\"2207\":\"H1\",\"2208\":\"H1\",\"2209\":\"H1\",\"2210\":\"H1\",\"2211\":\"H1\",\"2212\":\"H1\",\"2213\":\"H1\",\"2214\":\"H1\",\"2215\":\"H1\",\"2216\":\"H1\",\"2217\":\"H1\",\"2218\":\"H1\",\"2219\":\"H1\",\"2220\":\"H1\",\"2221\":\"H1\",\"2222\":\"H1\",\"2223\":\"H1\",\"2224\":\"H1\",\"2225\":\"H1\",\"2226\":\"H1\",\"2227\":\"H1\",\"2228\":\"H1\",\"2229\":\"H1\",\"2230\":\"H1\",\"2231\":\"H1\",\"2232\":\"H1\",\"2233\":\"H1\",\"2234\":\"H1\",\"2235\":\"H1\",\"2236\":\"H1\",\"2237\":\"H1\",\"2238\":\"H1\",\"2239\":\"H1\",\"2240\":\"H1\",\"2241\":\"H1\",\"2242\":\"H1\",\"2243\":\"H1\",\"2244\":\"H1\",\"2245\":\"H1\",\"2246\":\"H1\",\"2247\":\"H1\",\"2248\":\"H1\",\"2249\":\"H1\",\"2250\":\"H1\",\"2251\":\"H1\",\"2252\":\"H1\",\"2253\":\"H1\",\"2254\":\"H1\",\"2255\":\"H1\",\"2256\":\"H1\",\"2257\":\"H1\",\"2258\":\"H1\",\"2259\":\"H1\",\"2260\":\"H1\",\"2261\":\"H1\",\"2262\":\"H1\",\"2263\":\"H1\",\"2264\":\"H1\",\"2265\":\"H1\",\"2266\":\"H1\",\"2267\":\"H1\",\"2268\":\"H1\",\"2269\":\"H1\",\"2270\":\"H1\",\"2271\":\"H1\",\"2272\":\"H1\",\"2273\":\"H1\",\"2274\":\"H1\",\"2275\":\"H1\",\"2276\":\"H1\",\"2277\":\"H1\",\"2278\":\"H1\",\"2279\":\"H1\",\"2280\":\"H1\",\"2281\":\"H1\",\"2282\":\"H1\",\"2283\":\"H1\",\"2284\":\"H1\",\"2285\":\"H1\",\"2286\":\"H1\",\"2287\":\"H1\",\"2288\":\"H1\",\"2289\":\"H1\",\"2290\":\"H1\",\"2291\":\"H1\",\"2292\":\"H1\",\"2293\":\"H1\",\"2294\":\"H6\",\"2295\":\"H1\",\"2296\":\"H1\",\"2297\":\"H1\",\"2298\":\"H1\",\"2299\":\"H1\",\"2300\":\"H1\",\"2301\":\"H1\",\"2302\":\"H1\",\"2303\":\"H1\",\"2304\":\"H1\",\"2305\":\"H1\",\"2306\":\"H1\",\"2307\":\"H1\",\"2308\":\"H1\",\"2309\":\"H1\",\"2310\":\"H1\",\"2311\":\"H4\",\"2312\":\"H4\",\"2313\":\"H4\",\"2314\":\"H4\",\"2315\":\"H4\",\"2316\":\"H1\",\"2317\":\"H1\",\"2318\":\"H1\",\"2319\":\"H1\",\"2320\":\"H1\",\"2321\":\"H1\",\"2322\":\"H1\",\"2323\":\"H1\",\"2324\":\"H1\",\"2325\":\"H1\",\"2326\":\"H1\",\"2327\":\"H1\",\"2328\":\"H1\",\"2329\":\"H1\",\"2330\":\"H1\",\"2331\":\"H1\",\"2332\":\"H1\",\"2333\":\"H1\",\"2334\":\"H1\",\"2335\":\"H1\",\"2336\":\"H1\",\"2337\":\"H1\",\"2338\":\"H1\",\"2339\":\"H1\",\"2340\":\"H1\",\"2341\":\"H1\",\"2342\":\"H1\",\"2343\":\"H1\",\"2344\":\"H1\",\"2345\":\"H1\",\"2346\":\"H1\",\"2347\":\"H1\",\"2348\":\"H1\",\"2349\":\"H1\",\"2350\":\"H1\",\"2351\":\"H1\",\"2352\":\"H1\",\"2353\":\"H1\",\"2354\":\"H1\",\"2355\":\"H1\",\"2356\":\"H1\",\"2357\":\"H1\",\"2358\":\"H1\",\"2359\":\"H1\",\"2360\":\"H1\",\"2361\":\"H1\",\"2362\":\"H1\",\"2363\":\"H1\",\"2364\":\"H1\",\"2365\":\"H1\",\"2366\":\"H1\",\"2367\":\"H1\",\"2368\":\"H1\",\"2369\":\"H1\",\"2370\":\"H1\",\"2371\":\"H1\",\"2372\":\"H1\",\"2373\":\"H1\",\"2374\":\"H1\",\"2375\":\"H1\",\"2376\":\"H1\",\"2377\":\"H1\",\"2378\":\"H1\",\"2379\":\"H1\",\"2380\":\"H1\",\"2381\":\"H1\",\"2382\":\"H1\",\"2383\":\"H1\",\"2384\":\"H1\",\"2385\":\"H1\",\"2386\":\"H1\",\"2387\":\"H1\",\"2388\":\"H1\",\"2389\":\"H1\",\"2390\":\"H1\",\"2391\":\"H1\",\"2392\":\"H1\",\"2393\":\"H1\",\"2394\":\"H1\",\"2395\":\"H1\",\"2396\":\"H1\",\"2397\":\"H1\",\"2398\":\"H1\",\"2399\":\"H1\",\"2400\":\"H1\",\"2401\":\"H1\",\"2402\":\"H1\",\"2403\":\"H1\",\"2404\":\"H1\",\"2405\":\"H1\",\"2406\":\"H1\",\"2407\":\"H1\",\"2408\":\"H1\",\"2409\":\"H1\",\"2410\":\"H1\",\"2411\":\"H1\",\"2412\":\"H1\",\"2413\":\"H1\",\"2414\":\"H1\",\"2415\":\"H1\",\"2416\":\"H1\",\"2417\":\"H1\",\"2418\":\"H1\",\"2419\":\"H1\",\"2420\":\"H1\",\"2421\":\"H1\",\"2422\":\"H1\",\"2423\":\"H1\",\"2424\":\"H1\",\"2425\":\"H1\",\"2426\":\"H1\",\"2427\":\"H1\",\"2428\":\"H1\",\"2429\":\"H1\",\"2430\":\"H1\",\"2431\":\"H1\",\"2432\":\"H1\",\"2433\":\"H1\",\"2434\":\"H1\",\"2435\":\"H1\",\"2436\":\"H1\",\"2437\":\"H1\",\"2438\":\"H1\",\"2439\":\"H1\",\"2440\":\"H1\",\"2441\":\"H1\",\"2442\":\"H1\",\"2443\":\"H1\",\"2444\":\"H1\",\"2445\":\"H1\",\"2446\":\"H6\",\"2447\":\"H1\",\"2448\":\"H1\",\"2449\":\"H1\",\"2450\":\"H1\",\"2451\":\"H1\",\"2452\":\"H1\",\"2453\":\"H1\",\"2454\":\"H1\",\"2455\":\"H1\",\"2456\":\"H1\",\"2457\":\"H1\",\"2458\":\"H1\",\"2459\":\"H1\",\"2460\":\"H1\",\"2461\":\"H1\",\"2462\":\"H1\",\"2463\":\"H1\",\"2464\":\"H1\",\"2465\":\"H1\",\"2466\":\"H1\",\"2467\":\"H1\",\"2468\":\"H1\",\"2469\":\"H1\",\"2470\":\"H1\",\"2471\":\"H1\",\"2472\":\"H1\",\"2473\":\"H1\",\"2474\":\"H1\",\"2475\":\"H1\",\"2476\":\"H1\",\"2477\":\"H1\",\"2478\":\"H1\",\"2479\":\"H1\",\"2480\":\"H1\",\"2481\":\"H1\",\"2482\":\"H1\",\"2483\":\"H1\",\"2484\":\"H1\",\"2485\":\"H1\",\"2486\":\"H1\",\"2487\":\"H1\",\"2488\":\"H1\",\"2489\":\"H1\",\"2490\":\"H1\",\"2491\":\"H6\",\"2492\":\"H1\",\"2493\":\"H1\",\"2494\":\"H1\",\"2495\":\"H1\",\"2496\":\"H1\",\"2497\":\"H1\",\"2498\":\"H1\",\"2499\":\"H1\",\"2500\":\"H1\",\"2501\":\"H1\",\"2502\":\"H1\",\"2503\":\"H1\",\"2504\":\"H1\",\"2505\":\"H1\",\"2506\":\"H1\",\"2507\":\"H1\",\"2508\":\"H1\",\"2509\":\"H1\",\"2510\":\"H1\",\"2511\":\"H1\",\"2512\":\"H6\",\"2513\":\"H1\",\"2514\":\"H1\",\"2515\":\"H1\",\"2516\":\"H1\",\"2517\":\"H1\",\"2518\":\"H1\",\"2519\":\"H1\",\"2520\":\"H1\",\"2521\":\"H1\",\"2522\":\"H1\",\"2523\":\"H1\",\"2524\":\"H1\",\"2525\":\"H1\",\"2526\":\"H1\",\"2527\":\"H1\",\"2528\":\"H1\",\"2529\":\"H1\",\"2530\":\"H1\",\"2531\":\"H1\",\"2532\":\"H1\",\"2533\":\"H1\",\"2534\":\"H1\",\"2535\":\"H1\",\"2536\":\"H1\",\"2537\":\"H1\",\"2538\":\"H1\",\"2539\":\"H1\",\"2540\":\"H1\",\"2541\":\"H1\",\"2542\":\"H1\",\"2543\":\"H1\",\"2544\":\"H1\",\"2545\":\"H1\",\"2546\":\"H1\",\"2547\":\"H1\",\"2548\":\"H1\",\"2549\":\"H1\",\"2550\":\"H1\",\"2551\":\"H1\",\"2552\":\"H1\",\"2553\":\"H1\",\"2554\":\"H1\",\"2555\":\"H1\",\"2556\":\"H1\",\"2557\":\"H1\",\"2558\":\"H1\",\"2559\":\"H1\",\"2560\":\"H1\",\"2561\":\"H1\",\"2562\":\"H1\",\"2563\":\"H1\",\"2564\":\"H1\",\"2565\":\"H1\",\"2566\":\"H1\",\"2567\":\"H1\",\"2568\":\"H1\",\"2569\":\"H1\",\"2570\":\"H1\",\"2571\":\"H1\",\"2572\":\"H1\",\"2573\":\"H1\",\"2574\":\"H1\",\"2575\":\"H1\",\"2576\":\"H1\",\"2577\":\"H1\",\"2578\":\"H1\",\"2579\":\"H1\",\"2580\":\"H1\",\"2581\":\"H1\",\"2582\":\"H1\",\"2583\":\"H1\",\"2584\":\"H1\",\"2585\":\"H1\",\"2586\":\"H1\",\"2587\":\"H1\",\"2588\":\"H1\",\"2589\":\"H1\",\"2590\":\"H1\",\"2591\":\"H1\",\"2592\":\"H1\",\"2593\":\"H1\",\"2594\":\"H1\",\"2595\":\"H1\",\"2596\":\"H1\",\"2597\":\"H1\",\"2598\":\"H1\",\"2599\":\"H1\",\"2600\":\"H1\",\"2601\":\"H1\",\"2602\":\"H1\",\"2603\":\"H1\",\"2604\":\"H1\",\"2605\":\"H1\",\"2606\":\"H1\",\"2607\":\"H1\",\"2608\":\"H1\",\"2609\":\"H1\",\"2610\":\"H1\",\"2611\":\"H1\",\"2612\":\"H1\",\"2613\":\"H1\",\"2614\":\"H1\",\"2615\":\"H1\",\"2616\":\"H1\",\"2617\":\"H1\",\"2618\":\"H1\",\"2619\":\"H1\",\"2620\":\"H1\",\"2621\":\"H1\",\"2622\":\"H1\",\"2623\":\"H1\",\"2624\":\"H1\",\"2625\":\"H1\",\"2626\":\"H1\",\"2627\":\"H1\",\"2628\":\"H1\",\"2629\":\"H1\",\"2630\":\"H1\",\"2631\":\"H1\",\"2632\":\"H1\",\"2633\":\"H1\",\"2634\":\"H1\",\"2635\":\"H1\",\"2636\":\"H1\",\"2637\":\"H1\",\"2638\":\"H1\",\"2639\":\"H1\",\"2640\":\"H1\",\"2641\":\"H1\",\"2642\":\"H1\",\"2643\":\"H1\",\"2644\":\"H1\",\"2645\":\"H1\",\"2646\":\"H1\",\"2647\":\"H1\",\"2648\":\"H1\",\"2649\":\"H1\",\"2650\":\"H1\",\"2651\":\"H1\",\"2652\":\"H1\",\"2653\":\"H1\",\"2654\":\"H1\",\"2655\":\"H1\",\"2656\":\"H1\",\"2657\":\"H1\",\"2658\":\"H1\",\"2659\":\"H1\",\"2660\":\"H1\",\"2661\":\"H1\",\"2662\":\"H1\",\"2663\":\"H1\",\"2664\":\"H1\",\"2665\":\"H1\",\"2666\":\"H1\",\"2667\":\"H1\",\"2668\":\"H1\",\"2669\":\"H1\",\"2670\":\"H1\",\"2671\":\"H1\",\"2672\":\"H1\",\"2673\":\"H1\",\"2674\":\"H1\",\"2675\":\"H1\",\"2676\":\"H1\",\"2677\":\"H1\",\"2678\":\"H1\",\"2679\":\"H1\",\"2680\":\"H1\",\"2681\":\"H1\",\"2682\":\"H1\",\"2683\":\"H1\",\"2684\":\"H1\",\"2685\":\"H1\",\"2686\":\"H1\",\"2687\":\"H1\",\"2688\":\"H1\",\"2689\":\"H1\",\"2690\":\"H1\",\"2691\":\"H1\",\"2692\":\"H1\",\"2693\":\"H1\",\"2694\":\"H1\",\"2695\":\"H1\",\"2696\":\"H1\",\"2697\":\"H1\",\"2698\":\"H1\",\"2699\":\"H1\",\"2700\":\"H1\",\"2701\":\"H1\",\"2702\":\"H1\",\"2703\":\"H1\",\"2704\":\"H1\",\"2705\":\"H1\",\"2706\":\"H1\",\"2707\":\"H1\",\"2708\":\"H1\",\"2709\":\"H1\",\"2710\":\"H1\",\"2711\":\"H1\",\"2712\":\"H1\",\"2713\":\"H1\",\"2714\":\"H1\",\"2715\":\"H1\",\"2716\":\"H1\",\"2717\":\"H1\",\"2718\":\"H1\",\"2719\":\"H1\",\"2720\":\"H1\",\"2721\":\"H1\",\"2722\":\"H1\",\"2723\":\"H1\",\"2724\":\"H1\",\"2725\":\"H1\",\"2726\":\"H1\",\"2727\":\"H1\",\"2728\":\"H1\",\"2729\":\"H1\",\"2730\":\"H1\",\"2731\":\"H1\",\"2732\":\"H1\",\"2733\":\"H1\",\"2734\":\"H1\",\"2735\":\"H1\",\"2736\":\"H1\",\"2737\":\"H1\",\"2738\":\"H1\",\"2739\":\"H1\",\"2740\":\"H1\",\"2741\":\"H1\",\"2742\":\"H1\",\"2743\":\"H1\",\"2744\":\"H1\",\"2745\":\"H1\",\"2746\":\"H1\",\"2747\":\"H1\",\"2748\":\"H1\",\"2749\":\"H1\",\"2750\":\"H1\",\"2751\":\"H1\",\"2752\":\"H1\",\"2753\":\"H1\",\"2754\":\"H1\",\"2755\":\"H1\",\"2756\":\"H1\",\"2757\":\"H1\",\"2758\":\"H1\",\"2759\":\"H1\",\"2760\":\"H1\",\"2761\":\"H1\",\"2762\":\"H1\",\"2763\":\"H1\",\"2764\":\"H1\",\"2765\":\"H1\",\"2766\":\"H1\",\"2767\":\"H1\",\"2768\":\"H1\",\"2769\":\"H1\",\"2770\":\"H1\",\"2771\":\"H1\",\"2772\":\"H1\",\"2773\":\"H1\",\"2774\":\"H1\",\"2775\":\"H1\",\"2776\":\"H1\",\"2777\":\"H1\",\"2778\":\"H1\",\"2779\":\"H1\",\"2780\":\"H1\",\"2781\":\"H1\",\"2782\":\"H1\",\"2783\":\"H1\",\"2784\":\"H1\",\"2785\":\"H1\",\"2786\":\"H1\",\"2787\":\"H1\",\"2788\":\"H1\",\"2789\":\"H1\",\"2790\":\"H1\",\"2791\":\"H1\",\"2792\":\"H1\",\"2793\":\"H1\",\"2794\":\"H1\",\"2795\":\"H1\",\"2796\":\"H1\",\"2797\":\"H1\",\"2798\":\"H1\",\"2799\":\"H1\",\"2800\":\"H1\",\"2801\":\"H1\",\"2802\":\"H1\",\"2803\":\"H1\",\"2804\":\"H1\",\"2805\":\"H1\",\"2806\":\"H1\",\"2807\":\"H1\",\"2808\":\"H1\",\"2809\":\"H1\",\"2810\":\"H1\",\"2811\":\"H1\",\"2812\":\"H1\",\"2813\":\"H1\",\"2814\":\"H1\",\"2815\":\"H1\",\"2816\":\"H1\",\"2817\":\"H1\",\"2818\":\"H1\",\"2819\":\"H1\",\"2820\":\"H1\",\"2821\":\"H1\",\"2822\":\"H1\",\"2823\":\"H1\",\"2824\":\"H1\",\"2825\":\"H1\",\"2826\":\"H1\",\"2827\":\"H1\",\"2828\":\"H1\",\"2829\":\"H1\",\"2830\":\"H1\",\"2831\":\"H1\",\"2832\":\"H1\",\"2833\":\"H1\",\"2834\":\"H1\",\"2835\":\"H1\",\"2836\":\"H1\",\"2837\":\"H1\",\"2838\":\"H1\",\"2839\":\"H1\",\"2840\":\"H1\",\"2841\":\"H1\",\"2842\":\"H1\",\"2843\":\"H1\",\"2844\":\"H1\",\"2845\":\"H1\",\"2846\":\"H1\",\"2847\":\"H1\",\"2848\":\"H1\",\"2849\":\"H1\",\"2850\":\"H1\",\"2851\":\"H1\",\"2852\":\"H1\",\"2853\":\"H1\",\"2854\":\"H1\",\"2855\":\"H1\",\"2856\":\"H1\",\"2857\":\"H1\",\"2858\":\"H1\",\"2859\":\"H1\",\"2860\":\"H1\",\"2861\":\"H1\",\"2862\":\"H1\",\"2863\":\"H1\",\"2864\":\"H1\",\"2865\":\"H1\",\"2866\":\"H1\",\"2867\":\"H1\",\"2868\":\"H1\",\"2869\":\"H1\",\"2870\":\"H1\",\"2871\":\"H1\",\"2872\":\"H1\",\"2873\":\"H1\",\"2874\":\"H1\",\"2875\":\"H1\",\"2876\":\"H1\",\"2877\":\"H1\",\"2878\":\"H1\",\"2879\":\"H1\",\"2880\":\"H1\",\"2881\":\"H1\",\"2882\":\"H1\",\"2883\":\"H1\",\"2884\":\"H1\",\"2885\":\"H1\",\"2886\":\"H1\",\"2887\":\"H1\",\"2888\":\"H1\",\"2889\":\"H1\",\"2890\":\"H1\",\"2891\":\"H1\",\"2892\":\"H1\",\"2893\":\"H1\",\"2894\":\"H1\",\"2895\":\"H1\",\"2896\":\"H1\",\"2897\":\"H1\",\"2898\":\"H1\",\"2899\":\"H1\",\"2900\":\"H1\",\"2901\":\"H1\",\"2902\":\"H1\",\"2903\":\"H1\",\"2904\":\"H1\",\"2905\":\"H1\",\"2906\":\"H1\",\"2907\":\"H1\",\"2908\":\"H1\",\"2909\":\"H1\",\"2910\":\"H1\",\"2911\":\"H1\",\"2912\":\"H1\",\"2913\":\"H1\",\"2914\":\"H1\",\"2915\":\"C7\",\"2916\":\"C7\",\"2917\":\"C7\",\"2918\":\"C7\",\"2919\":\"C7\",\"2920\":\"C7\",\"2921\":\"C7\",\"2922\":\"C7\",\"2923\":\"C7\",\"2924\":\"C7\",\"2925\":\"C7\",\"2926\":\"C7\",\"2927\":\"C7\",\"2928\":\"C7\",\"2929\":\"C7\",\"2930\":\"C7\",\"2931\":\"C7\",\"2932\":\"C7\",\"2933\":\"C7\",\"2934\":\"C7\",\"2935\":\"C7\",\"2936\":\"C7\",\"2937\":\"C7\",\"2938\":\"C7\",\"2939\":\"C7\",\"2940\":\"C7\",\"2941\":\"C7\",\"2942\":\"C7\",\"2943\":\"C7\",\"2944\":\"C7\",\"2945\":\"C7\",\"2946\":\"C7\",\"2947\":\"C7\",\"2948\":\"C7\",\"2949\":\"C7\",\"2950\":\"C7\",\"2951\":\"C7\",\"2952\":\"C7\",\"2953\":\"C7\",\"2954\":\"H1\",\"2955\":\"H1\",\"2956\":\"H1\",\"2957\":\"H1\",\"2958\":\"H1\",\"2959\":\"H1\",\"2960\":\"H1\",\"2961\":\"H1\",\"2962\":\"H1\",\"2963\":\"H1\",\"2964\":\"H1\",\"2965\":\"H1\",\"2966\":\"H1\",\"2967\":\"H1\",\"2968\":\"H1\",\"2969\":\"H1\",\"2970\":\"H1\",\"2971\":\"H1\",\"2972\":\"H1\",\"2973\":\"H1\",\"2974\":\"H1\",\"2975\":\"H1\",\"2976\":\"H1\",\"2977\":\"H1\",\"2978\":\"H1\",\"2979\":\"H1\",\"2980\":\"H1\",\"2981\":\"H1\",\"2982\":\"H1\",\"2983\":\"H1\",\"2984\":\"H1\",\"2985\":\"H1\",\"2986\":\"H1\",\"2987\":\"H1\",\"2988\":\"H1\",\"2989\":\"H1\",\"2990\":\"H1\",\"2991\":\"H1\",\"2992\":\"H1\",\"2993\":\"H1\",\"2994\":\"H1\",\"2995\":\"H1\",\"2996\":\"H1\",\"2997\":\"H1\",\"2998\":\"H1\",\"2999\":\"H1\",\"3000\":\"H1\",\"3001\":\"H1\",\"3002\":\"H1\",\"3003\":\"H1\",\"3004\":\"H1\",\"3005\":\"H1\",\"3006\":\"H1\",\"3007\":\"H1\",\"3008\":\"H1\",\"3009\":\"H1\",\"3010\":\"H1\",\"3011\":\"H1\",\"3012\":\"H1\",\"3013\":\"H1\",\"3014\":\"H1\",\"3015\":\"H1\",\"3016\":\"H1\",\"3017\":\"H1\",\"3018\":\"H1\",\"3019\":\"H1\",\"3020\":\"H1\",\"3021\":\"H1\",\"3022\":\"H1\",\"3023\":\"H1\",\"3024\":\"H1\",\"3025\":\"H1\",\"3026\":\"H1\",\"3027\":\"H1\",\"3028\":\"H1\",\"3029\":\"H1\",\"3030\":\"H1\",\"3031\":\"H1\",\"3032\":\"H1\",\"3033\":\"H1\",\"3034\":\"H1\",\"3035\":\"H1\",\"3036\":\"H1\",\"3037\":\"H1\",\"3038\":\"H1\",\"3039\":\"H1\",\"3040\":\"H1\",\"3041\":\"H1\",\"3042\":\"H1\",\"3043\":\"H1\",\"3044\":\"H1\",\"3045\":\"H1\",\"3046\":\"H1\",\"3047\":\"H1\",\"3048\":\"H1\",\"3049\":\"H1\",\"3050\":\"H1\",\"3051\":\"H1\",\"3052\":\"H1\",\"3053\":\"H1\",\"3054\":\"H1\",\"3055\":\"H1\",\"3056\":\"H1\",\"3057\":\"H1\",\"3058\":\"H1\",\"3059\":\"H1\",\"3060\":\"H1\",\"3061\":\"H1\",\"3062\":\"H1\",\"3063\":\"H1\",\"3064\":\"H1\",\"3065\":\"H1\",\"3066\":\"H1\",\"3067\":\"H1\",\"3068\":\"H1\",\"3069\":\"H1\",\"3070\":\"H1\",\"3071\":\"H1\",\"3072\":\"H1\",\"3073\":\"H1\",\"3074\":\"H1\",\"3075\":\"H1\",\"3076\":\"H1\",\"3077\":\"H1\",\"3078\":\"H1\",\"3079\":\"H1\",\"3080\":\"H1\",\"3081\":\"H1\",\"3082\":\"H1\",\"3083\":\"H1\",\"3084\":\"H1\",\"3085\":\"H1\",\"3086\":\"H1\",\"3087\":\"H1\",\"3088\":\"H1\",\"3089\":\"H1\",\"3090\":\"H1\",\"3091\":\"H1\",\"3092\":\"H1\",\"3093\":\"H1\",\"3094\":\"H1\",\"3095\":\"H1\",\"3096\":\"H1\",\"3097\":\"H1\",\"3098\":\"H1\",\"3099\":\"H1\",\"3100\":\"H1\",\"3101\":\"H1\",\"3102\":\"H1\",\"3103\":\"H1\",\"3104\":\"H1\",\"3105\":\"H1\",\"3106\":\"H1\",\"3107\":\"H1\",\"3108\":\"H1\",\"3109\":\"H1\",\"3110\":\"H1\",\"3111\":\"H1\",\"3112\":\"H1\",\"3113\":\"H1\",\"3114\":\"H1\",\"3115\":\"H1\",\"3116\":\"H1\",\"3117\":\"H1\",\"3118\":\"H1\",\"3119\":\"H1\",\"3120\":\"H1\",\"3121\":\"H1\",\"3122\":\"H1\",\"3123\":\"H1\",\"3124\":\"H1\",\"3125\":\"H1\",\"3126\":\"H1\",\"3127\":\"H1\",\"3128\":\"H1\",\"3129\":\"H1\",\"3130\":\"H1\",\"3131\":\"H1\",\"3132\":\"H1\",\"3133\":\"H1\",\"3134\":\"H1\",\"3135\":\"H1\",\"3136\":\"H1\",\"3137\":\"H1\",\"3138\":\"H1\",\"3139\":\"H1\",\"3140\":\"H1\",\"3141\":\"H1\",\"3142\":\"H1\",\"3143\":\"H1\",\"3144\":\"H1\",\"3145\":\"H4\",\"3146\":\"H4\",\"3147\":\"H1\",\"3148\":\"H4\",\"3149\":\"H1\",\"3150\":\"H1\",\"3151\":\"H1\",\"3152\":\"H1\",\"3153\":\"H1\",\"3154\":\"H1\",\"3155\":\"H1\",\"3156\":\"H1\",\"3157\":\"H1\",\"3158\":\"H1\",\"3159\":\"H1\",\"3160\":\"H1\",\"3161\":\"H1\",\"3162\":\"H1\",\"3163\":\"H1\",\"3164\":\"H1\",\"3165\":\"H1\",\"3166\":\"H1\",\"3167\":\"H1\",\"3168\":\"H1\",\"3169\":\"H1\",\"3170\":\"H1\",\"3171\":\"H1\",\"3172\":\"H1\",\"3173\":\"H1\",\"3174\":\"H1\",\"3175\":\"H1\",\"3176\":\"H1\",\"3177\":\"H1\",\"3178\":\"H1\",\"3179\":\"H1\",\"3180\":\"H1\",\"3181\":\"H1\",\"3182\":\"H1\",\"3183\":\"H1\",\"3184\":\"H1\",\"3185\":\"H1\",\"3186\":\"H1\",\"3187\":\"H1\",\"3188\":\"H1\",\"3189\":\"H1\",\"3190\":\"H1\",\"3191\":\"H1\",\"3192\":\"H1\",\"3193\":\"H1\",\"3194\":\"H1\",\"3195\":\"H1\",\"3196\":\"H1\",\"3197\":\"H1\",\"3198\":\"H1\",\"3199\":\"H1\",\"3200\":\"H1\",\"3201\":\"H1\",\"3202\":\"H1\",\"3203\":\"H1\",\"3204\":\"H1\",\"3205\":\"H1\",\"3206\":\"H1\",\"3207\":\"H1\",\"3208\":\"H1\",\"3209\":\"H1\",\"3210\":\"H1\",\"3211\":\"H1\",\"3212\":\"H1\",\"3213\":\"H1\",\"3214\":\"H1\",\"3215\":\"H1\",\"3216\":\"H1\",\"3217\":\"H1\",\"3218\":\"H1\",\"3219\":\"H1\",\"3220\":\"H1\",\"3221\":\"H1\",\"3222\":\"H1\",\"3223\":\"H1\",\"3224\":\"H1\",\"3225\":\"H1\",\"3226\":\"H1\",\"3227\":\"H1\",\"3228\":\"H1\",\"3229\":\"H1\",\"3230\":\"H1\",\"3231\":\"H4\",\"3232\":\"H4\",\"3233\":\"H4\",\"3234\":\"H4\"},\"rv\":{\"0\":3.1039193194,\"1\":1.7529396811,\"2\":2.9932354319,\"3\":3.4299124265,\"4\":7.0872834987,\"5\":4.09295503,\"6\":1.9821582061,\"7\":4.4537575388,\"8\":3.8564416147,\"9\":0.9983972111,\"10\":4.3912760842,\"11\":1.6648780503,\"12\":2.9208411035,\"13\":2.7389675058,\"14\":3.2279524272,\"15\":4.7671736714,\"16\":7.0441180673,\"17\":1.6989286704,\"18\":6.9410649106,\"19\":4.5057578364,\"20\":5.6427149955,\"21\":7.2914960062,\"22\":3.8822752127,\"23\":6.8294207524,\"24\":5.0083124238,\"25\":9.9172826841,\"26\":0.9813207855,\"27\":5.5002028786,\"28\":8.6111167154,\"29\":4.0206577651,\"30\":3.1429362553,\"31\":3.8168145699,\"32\":2.2241824677,\"33\":3.4258894794,\"34\":7.5698975048,\"35\":7.7190979144,\"36\":3.4363822622,\"37\":3.1390340212,\"38\":1.500810128,\"39\":2.06184374,\"40\":1.3907087378,\"41\":8.6344832852,\"42\":0.5078255493,\"43\":3.293760515,\"44\":2.9576020937,\"45\":2.3459625414,\"46\":2.557419363,\"47\":0.7469179917,\"48\":6.908079146,\"49\":4.1590955765,\"50\":1.7112288068,\"51\":1.3160362157,\"52\":2.4373400905,\"53\":2.0368217302,\"54\":9.340804402,\"55\":2.4734561933,\"56\":4.0415648483,\"57\":5.1731143104,\"58\":3.6261671444,\"59\":6.4040088641,\"60\":4.7285631006,\"61\":7.5841573701,\"62\":2.7669852938,\"63\":1.2799529681,\"64\":2.6941729945,\"65\":2.8100530955,\"66\":1.1406027944,\"67\":3.9540536323,\"68\":4.2045698585,\"69\":5.3914315661,\"70\":0.8716771292,\"71\":2.4516124063,\"72\":7.7278477567,\"73\":1.0279333388,\"74\":1.156590385,\"75\":2.6152692926,\"76\":6.4825535966,\"77\":3.9016679904,\"78\":4.73691352,\"79\":2.6453095959,\"80\":3.3753460083,\"81\":2.1254464142,\"82\":1.6063335585,\"83\":6.1739076956,\"84\":6.0066126894,\"85\":3.158290249,\"86\":2.6360943841,\"87\":1.355186807,\"88\":4.7443703941,\"89\":2.2751460906,\"90\":3.7371063114,\"91\":0.2424914896,\"92\":0.9775269724,\"93\":2.1136451753,\"94\":2.0211571437,\"95\":1.6835030761,\"96\":3.1675162835,\"97\":2.8933594239,\"98\":2.479075242,\"99\":0.5378346503,\"100\":4.3064517411,\"101\":2.843758955,\"102\":2.2516462385,\"103\":0.5268540584,\"104\":4.8294099578,\"105\":10.0891685509,\"106\":1.2487333769,\"107\":2.6806254145,\"108\":1.9603492286,\"109\":2.1262307649,\"110\":6.8718165822,\"111\":8.5337474154,\"112\":4.797601733,\"113\":6.5449618008,\"114\":6.0800820688,\"115\":3.1106854296,\"116\":0.6031064079,\"117\":2.7030469988,\"118\":2.0970494618,\"119\":1.5000220867,\"120\":1.911719,\"121\":0.8483371425,\"122\":1.6669856082,\"123\":3.5106452621,\"124\":3.4488757167,\"125\":7.1952417894,\"126\":1.7577301741,\"127\":1.0762819398,\"128\":5.8627737397,\"129\":4.1426830852,\"130\":3.5073946335,\"131\":2.1019014019,\"132\":4.0642146736,\"133\":4.3647043231,\"134\":2.1347437968,\"135\":2.7776510746,\"136\":4.4166077641,\"137\":2.0782799875,\"138\":2.6163445999,\"139\":1.8257537142,\"140\":1.5452586324,\"141\":2.1647020908,\"142\":3.683210245,\"143\":4.0231315646,\"144\":3.7842838491,\"145\":2.5372091697,\"146\":3.4049169608,\"147\":7.7508174608,\"148\":5.5431308454,\"149\":7.6568439647,\"150\":1.8331142284,\"151\":3.0406840965,\"152\":3.2887756193,\"153\":0.8833072785,\"154\":3.5335575109,\"155\":7.5493028512,\"156\":1.6706642545,\"157\":1.9327324387,\"158\":5.7428464807,\"159\":5.1986158938,\"160\":1.487495434,\"161\":5.2466197698,\"162\":2.5052623994,\"163\":0.9735228101,\"164\":3.4396065003,\"165\":6.062940908,\"166\":8.6685502666,\"167\":3.2464798557,\"168\":2.6300656288,\"169\":4.2574572431,\"170\":5.680347466,\"171\":5.2354244945,\"172\":1.6606725297,\"173\":2.042296804,\"174\":0.9655217277,\"175\":5.9098254926,\"176\":3.4433470077,\"177\":2.8390500057,\"178\":4.0131643559,\"179\":7.1417174422,\"180\":1.6781628042,\"181\":3.7604569505,\"182\":1.204620575,\"183\":1.86446892,\"184\":2.1505821342,\"185\":4.436908764,\"186\":1.8892511594,\"187\":2.1366410846,\"188\":1.5454866339,\"189\":4.8695571489,\"190\":6.4877110802,\"191\":1.8482396216,\"192\":1.0625885755,\"193\":1.5489440962,\"194\":6.1829618743,\"195\":1.3042172064,\"196\":2.2528742605,\"197\":1.5740185845,\"198\":1.8481423578,\"199\":2.8879183353,\"200\":0.5185509498,\"201\":3.2797788524,\"202\":4.1713466996,\"203\":6.9618065313,\"204\":2.9047417007,\"205\":2.2929552838,\"206\":3.3011090706,\"207\":3.984357761,\"208\":1.8869292641,\"209\":8.4560986621,\"210\":2.1843836904,\"211\":2.7744588489,\"212\":1.0010798016,\"213\":2.8713783543,\"214\":7.6692484042,\"215\":4.1134267095,\"216\":2.7678453737,\"217\":0.2262354337,\"218\":2.1685189955,\"219\":1.0168662392,\"220\":1.5440517279,\"221\":6.5289107724,\"222\":6.0453486394,\"223\":6.2106446064,\"224\":2.7614021406,\"225\":2.9766896337,\"226\":3.7116682562,\"227\":2.9072619194,\"228\":1.9809340511,\"229\":4.7586454356,\"230\":1.0267496436,\"231\":3.3661619605,\"232\":2.397873961,\"233\":2.4053422186,\"234\":1.8936205006,\"235\":0.8637824091,\"236\":0.5174753003,\"237\":3.4469805481,\"238\":0.6238666296,\"239\":2.4876404959,\"240\":12.6673105712,\"241\":1.9520892829,\"242\":5.3145550732,\"243\":7.8826021228,\"244\":2.4052608655,\"245\":7.5737033329,\"246\":3.4976137698,\"247\":2.5170994742,\"248\":1.4537440602,\"249\":2.0687374497,\"250\":1.3058168703,\"251\":4.9433783146,\"252\":3.3664231122,\"253\":1.7396401585,\"254\":8.4484540456,\"255\":2.7585174279,\"256\":5.2667398245,\"257\":4.2389528189,\"258\":4.7321000028,\"259\":1.9375123307,\"260\":2.815390854,\"261\":1.505639472,\"262\":1.977829215,\"263\":3.0016895311,\"264\":2.4129319199,\"265\":3.8678749037,\"266\":1.6196064957,\"267\":5.9736614696,\"268\":7.0611982057,\"269\":3.5241069167,\"270\":3.4949101843,\"271\":9.5297978933,\"272\":3.3677438952,\"273\":1.5499145871,\"274\":3.9854050166,\"275\":3.1538319584,\"276\":2.193653415,\"277\":5.3712266402,\"278\":1.8327345323,\"279\":5.7242125116,\"280\":4.3554749801,\"281\":2.2713137775,\"282\":3.2270235709,\"283\":5.1057079712,\"284\":5.041942921,\"285\":1.0397659398,\"286\":6.9057974295,\"287\":3.3482695931,\"288\":1.0194509868,\"289\":5.2508649105,\"290\":2.2628600421,\"291\":9.7234320748,\"292\":3.825353273,\"293\":1.3787415576,\"294\":2.1905990376,\"295\":0.344021629,\"296\":2.547395452,\"297\":2.619238443,\"298\":1.5463662875,\"299\":2.0715862546,\"300\":3.2213333428,\"301\":2.843571484,\"302\":7.2532661512,\"303\":1.5473806557,\"304\":2.3465816325,\"305\":4.6448715188,\"306\":0.535362214,\"307\":3.6870126458,\"308\":5.2146897415,\"309\":2.0645353411,\"310\":3.8688704035,\"311\":3.8147025875,\"312\":1.678600058,\"313\":5.9798829112,\"314\":6.1465110867,\"315\":1.6464988517,\"316\":5.1936905495,\"317\":5.6350636478,\"318\":2.9602973309,\"319\":4.1259483509,\"320\":4.182588889,\"321\":2.4270429167,\"322\":5.7484982035,\"323\":2.9083228599,\"324\":0.9206448946,\"325\":5.4705093355,\"326\":6.0002695078,\"327\":4.3936435623,\"328\":2.5141900618,\"329\":4.0192163301,\"330\":2.2319585873,\"331\":4.8820832146,\"332\":11.7965560902,\"333\":2.3137550567,\"334\":2.7638951446,\"335\":2.8992077946,\"336\":2.9732002048,\"337\":3.9058686336,\"338\":11.5784523063,\"339\":2.8218918967,\"340\":2.2609515199,\"341\":1.4932437162,\"342\":3.3691565208,\"343\":1.3888585517,\"344\":4.7081012581,\"345\":5.0321405364,\"346\":3.4226055007,\"347\":1.6869405977,\"348\":6.9376956792,\"349\":4.801615955,\"350\":0.8320184091,\"351\":1.44502987,\"352\":1.620564677,\"353\":1.6716702861,\"354\":5.9892225753,\"355\":2.2084565505,\"356\":2.7010045558,\"357\":1.936405749,\"358\":4.3876861116,\"359\":3.7574324709,\"360\":7.4095569864,\"361\":4.8679506608,\"362\":3.3108837397,\"363\":2.4120656775,\"364\":0.8307169884,\"365\":5.6487394953,\"366\":4.8258572126,\"367\":5.6465413219,\"368\":3.5757168833,\"369\":0.8527310634,\"370\":3.9534311255,\"371\":2.8377071213,\"372\":5.8126021405,\"373\":2.4455684725,\"374\":5.072201548,\"375\":6.1167072572,\"376\":2.2693440787,\"377\":2.1410082146,\"378\":5.3007477953,\"379\":11.8589161348,\"380\":1.8484940804,\"381\":6.3947519757,\"382\":6.3299750674,\"383\":1.3456917532,\"384\":9.1308891816,\"385\":2.750086031,\"386\":5.0451019197,\"387\":2.6013649141,\"388\":2.5364508244,\"389\":2.3480020438,\"390\":0.2395992214,\"391\":2.6703466131,\"392\":4.1574742618,\"393\":3.3661598187,\"394\":7.5133951286,\"395\":0.688836148,\"396\":7.4491102563,\"397\":4.338148204,\"398\":2.2376127357,\"399\":5.2348979852,\"400\":3.0934069476,\"401\":4.4201779841,\"402\":2.9898519325,\"403\":3.5901224546,\"404\":0.7994431768,\"405\":3.0653987016,\"406\":3.2495645438,\"407\":3.5285330416,\"408\":2.5781886496,\"409\":4.9983520354,\"410\":4.3082468672,\"411\":1.8121962905,\"412\":5.1630388917,\"413\":2.8636555426,\"414\":5.6183698561,\"415\":2.3782527741,\"416\":2.2556068918,\"417\":1.5049589627,\"418\":4.4199246119,\"419\":6.5474810077,\"420\":2.6030986656,\"421\":7.4731985788,\"422\":2.0787387469,\"423\":2.5836986757,\"424\":7.1818352082,\"425\":1.9825982342,\"426\":2.8131147452,\"427\":2.4457573287,\"428\":3.9606074394,\"429\":1.1575007602,\"430\":2.363165677,\"431\":2.5180626619,\"432\":3.1617802304,\"433\":4.4456559267,\"434\":1.9615896108,\"435\":2.2462012002,\"436\":4.4137605931,\"437\":3.2390157981,\"438\":10.118608075,\"439\":3.6771048056,\"440\":6.5401727855,\"441\":2.5696846976,\"442\":2.2657588418,\"443\":3.7181834076,\"444\":11.3096224451,\"445\":10.3332813165,\"446\":3.9871171663,\"447\":2.4447413464,\"448\":3.5641294264,\"449\":1.7253566304,\"450\":5.4687101789,\"451\":2.5253298691,\"452\":2.2536145962,\"453\":2.2777323406,\"454\":3.2215959962,\"455\":1.8857158171,\"456\":2.8430734811,\"457\":1.8972391207,\"458\":2.9812934671,\"459\":4.9742102624,\"460\":3.4908936929,\"461\":2.2228507836,\"462\":4.7739172871,\"463\":2.5999833103,\"464\":3.9980796843,\"465\":4.4176313413,\"466\":2.269685994,\"467\":2.2804372172,\"468\":3.0290013085,\"469\":2.1329294727,\"470\":0.6994414601,\"471\":4.0150018251,\"472\":1.4887945729,\"473\":1.9112426814,\"474\":2.5994881954,\"475\":4.6308022865,\"476\":3.4786195028,\"477\":6.5359487001,\"478\":5.7658213142,\"479\":3.3654347074,\"480\":5.7355228928,\"481\":3.7683768304,\"482\":0.421870345,\"483\":6.9768643063,\"484\":5.3835260046,\"485\":6.4544111759,\"486\":1.330759728,\"487\":2.7399477243,\"488\":8.2752490228,\"489\":3.2022426085,\"490\":8.5765967645,\"491\":4.5048183896,\"492\":2.5425634842,\"493\":1.4167717452,\"494\":1.9575608287,\"495\":2.8517487778,\"496\":2.8570420772,\"497\":2.5703654335,\"498\":3.3663160686,\"499\":3.7653044906,\"500\":1.5193759271,\"501\":3.8495050725,\"502\":1.1093227768,\"503\":1.9204796608,\"504\":3.3275541105,\"505\":3.9895627373,\"506\":1.0049371861,\"507\":2.3491491426,\"508\":1.2479467387,\"509\":3.5258111181,\"510\":4.5580256705,\"511\":1.0010158174,\"512\":1.6334512616,\"513\":1.0954219803,\"514\":5.5365958996,\"515\":3.6578176708,\"516\":2.6277698271,\"517\":1.3225840943,\"518\":3.4854666909,\"519\":5.9482243664,\"520\":1.7320521368,\"521\":2.9271982013,\"522\":2.6697953335,\"523\":4.5517706048,\"524\":1.6563724847,\"525\":3.3260523393,\"526\":3.4177804897,\"527\":5.016370296,\"528\":5.1502732459,\"529\":1.5825414098,\"530\":4.3746552377,\"531\":3.1700789801,\"532\":1.7715357048,\"533\":4.8602499304,\"534\":1.2024317478,\"535\":1.8831671491,\"536\":3.5579629954,\"537\":5.9563455724,\"538\":4.2644456719,\"539\":1.8313199309,\"540\":5.066174744,\"541\":2.8016259963,\"542\":5.7354159774,\"543\":1.0471206448,\"544\":7.0734240098,\"545\":3.1751256755,\"546\":1.1126551956,\"547\":1.604508142,\"548\":1.3303515648,\"549\":0.8283651898,\"550\":5.7647187665,\"551\":2.3316424299,\"552\":6.533751981,\"553\":4.1406448434,\"554\":6.6133765882,\"555\":5.0070621839,\"556\":1.1600880129,\"557\":3.0037791864,\"558\":2.958311665,\"559\":1.4774007383,\"560\":3.4022469659,\"561\":1.934660057,\"562\":1.3207877971,\"563\":2.2417184469,\"564\":3.7387841148,\"565\":6.0700409401,\"566\":3.696416417,\"567\":2.0523009053,\"568\":5.3432613541,\"569\":2.7274582605,\"570\":1.9873564799,\"571\":2.9618676628,\"572\":1.3695792222,\"573\":3.2475908067,\"574\":3.1217450556,\"575\":1.8812126037,\"576\":4.2197741804,\"577\":3.0773964091,\"578\":4.8433767217,\"579\":5.0818028944,\"580\":3.8471915247,\"581\":4.4130676766,\"582\":3.9920780196,\"583\":7.2240207768,\"584\":3.8559390892,\"585\":2.7357927998,\"586\":1.758999367,\"587\":3.0385110489,\"588\":9.1897225021,\"589\":2.1855645614,\"590\":7.0325562761,\"591\":0.8238367022,\"592\":0.8429999214,\"593\":8.1117394634,\"594\":3.1475977626,\"595\":4.2239510779,\"596\":4.9744102213,\"597\":6.2973116049,\"598\":8.0174006471,\"599\":2.003928538,\"600\":3.6753237946,\"601\":3.3179179945,\"602\":6.2359297492,\"603\":4.6571994631,\"604\":2.9098182921,\"605\":3.6175319874,\"606\":1.7985471764,\"607\":3.7370573772,\"608\":1.6365601141,\"609\":1.2792269408,\"610\":4.2543273367,\"611\":1.9047320883,\"612\":4.2277416488,\"613\":2.6784710445,\"614\":3.5761678118,\"615\":0.7229285638,\"616\":4.0559319295,\"617\":3.8152565046,\"618\":6.3099417537,\"619\":7.4574966812,\"620\":3.464105545,\"621\":4.0700107103,\"622\":4.6118870713,\"623\":0.9640833742,\"624\":3.3201065465,\"625\":0.4216829877,\"626\":6.4796667336,\"627\":5.6483493301,\"628\":3.3649986622,\"629\":2.4969180287,\"630\":3.1520723812,\"631\":2.1779415045,\"632\":2.0528017482,\"633\":6.0734384098,\"634\":4.1531393078,\"635\":3.1071829924,\"636\":5.4470011387,\"637\":7.7327707539,\"638\":3.5841399267,\"639\":0.9921690429,\"640\":3.9728936535,\"641\":3.416895025,\"642\":3.1863898605,\"643\":3.4437509103,\"644\":5.3423561286,\"645\":1.9809883243,\"646\":2.5105958845,\"647\":3.0177513965,\"648\":0.5733434061,\"649\":1.5986697299,\"650\":3.2424167837,\"651\":4.3642072852,\"652\":2.9591147688,\"653\":3.0305132532,\"654\":3.3028618549,\"655\":2.3896235675,\"656\":2.8776363137,\"657\":7.2520643606,\"658\":1.0774924972,\"659\":4.6238620893,\"660\":6.6347713144,\"661\":0.8014119309,\"662\":1.2621140489,\"663\":4.8346524335,\"664\":6.8063134459,\"665\":4.0124350046,\"666\":6.1802352802,\"667\":2.4568135723,\"668\":1.5218118309,\"669\":3.9460490309,\"670\":6.3196879252,\"671\":2.3786999274,\"672\":2.148417642,\"673\":3.0221925902,\"674\":3.7981469229,\"675\":3.164234948,\"676\":1.7384574029,\"677\":3.7674178234,\"678\":2.9048368313,\"679\":4.1320649757,\"680\":2.7467948532,\"681\":1.9272444958,\"682\":4.5633957123,\"683\":2.1456520696,\"684\":3.6501454667,\"685\":1.9384536232,\"686\":2.7914174526,\"687\":4.5475062687,\"688\":3.0874171509,\"689\":2.294489143,\"690\":4.256180656,\"691\":3.904815989,\"692\":2.1099767767,\"693\":2.134841292,\"694\":1.8510376923,\"695\":3.0619855849,\"696\":4.6285996852,\"697\":2.2377924322,\"698\":1.6351532951,\"699\":2.6469335744,\"700\":6.2279098323,\"701\":9.0300063984,\"702\":6.5640850895,\"703\":4.1294455353,\"704\":5.985567854,\"705\":1.1532395698,\"706\":6.3396983947,\"707\":6.2097322535,\"708\":3.9701224352,\"709\":0.9334427341,\"710\":5.6278222454,\"711\":5.1747219346,\"712\":2.3057765856,\"713\":3.7730524917,\"714\":1.2145351646,\"715\":5.1166588547,\"716\":1.1394980839,\"717\":4.5783005777,\"718\":4.9694555023,\"719\":1.8527188918,\"720\":4.3372961573,\"721\":2.7653772523,\"722\":1.2249499164,\"723\":1.7758425464,\"724\":1.8450047774,\"725\":3.4355530953,\"726\":2.7096980731,\"727\":7.8470321131,\"728\":5.2625683329,\"729\":4.8482414313,\"730\":3.9023602563,\"731\":2.5316584329,\"732\":2.7526277538,\"733\":1.6933732261,\"734\":3.6869745476,\"735\":5.2600476852,\"736\":1.342342633,\"737\":3.6403746645,\"738\":5.1521294017,\"739\":3.13694653,\"740\":2.59019697,\"741\":4.5502132439,\"742\":8.8684584481,\"743\":0.8881282438,\"744\":2.518619815,\"745\":3.6553505474,\"746\":1.509654516,\"747\":1.1909319427,\"748\":5.1493994924,\"749\":3.964483474,\"750\":2.7344163683,\"751\":2.5785177793,\"752\":4.3870013429,\"753\":2.697797474,\"754\":0.2182072794,\"755\":4.3040416504,\"756\":2.6368998869,\"757\":1.6434441926,\"758\":5.1130274806,\"759\":3.4890511974,\"760\":1.3841260972,\"761\":1.486220688,\"762\":2.9435305316,\"763\":2.6459986321,\"764\":4.7006577735,\"765\":2.4767980191,\"766\":4.4762714487,\"767\":0.2742100809,\"768\":2.7110410594,\"769\":2.5065746481,\"770\":4.6546273733,\"771\":3.0119137918,\"772\":8.0883325007,\"773\":2.6238569417,\"774\":5.3649650211,\"775\":3.0850991137,\"776\":4.3863160672,\"777\":2.335096268,\"778\":1.0242205876,\"779\":2.9590077981,\"780\":1.7317981251,\"781\":5.1378209392,\"782\":4.4621732821,\"783\":4.7921422655,\"784\":6.8968262,\"785\":2.9837186369,\"786\":4.2191092862,\"787\":1.6285023173,\"788\":4.4626205757,\"789\":2.0791130322,\"790\":4.593622054,\"791\":1.7835539253,\"792\":0.8683909605,\"793\":2.059481023,\"794\":1.4019665766,\"795\":1.8077200179,\"796\":4.636356132,\"797\":7.4864511979,\"798\":1.3623413983,\"799\":4.1261111137,\"800\":9.2850994758,\"801\":1.504088542,\"802\":2.5684516259,\"803\":4.608771469,\"804\":1.9776594026,\"805\":4.8971095103,\"806\":2.3548097495,\"807\":8.7413950634,\"808\":3.2673792117,\"809\":4.4801737055,\"810\":0.5790476633,\"811\":4.8231498475,\"812\":2.0240347734,\"813\":3.6849334109,\"814\":0.5968968984,\"815\":12.602251187,\"816\":8.846204581,\"817\":2.6416703343,\"818\":4.2003485069,\"819\":3.5685266163,\"820\":3.3539319192,\"821\":4.7912197844,\"822\":2.4421645988,\"823\":4.0694979154,\"824\":4.3448964294,\"825\":5.4566109385,\"826\":3.5313633821,\"827\":1.3442115612,\"828\":4.5945328959,\"829\":1.6238995909,\"830\":1.5726615996,\"831\":3.9392580705,\"832\":4.476214762,\"833\":2.6009927448,\"834\":1.5241595245,\"835\":2.5219060709,\"836\":1.8730535721,\"837\":1.8579515503,\"838\":0.7335356607,\"839\":5.4353953485,\"840\":4.0891530078,\"841\":3.4649288425,\"842\":4.4270725865,\"843\":6.5434935586,\"844\":8.8346003295,\"845\":4.3348522468,\"846\":1.6863413146,\"847\":1.1278013971,\"848\":4.3275178126,\"849\":4.1188407328,\"850\":3.3730691268,\"851\":1.5366061507,\"852\":3.7717753553,\"853\":4.1152051169,\"854\":2.7323594513,\"855\":6.7911606063,\"856\":1.5289683374,\"857\":4.6086518455,\"858\":5.0819424989,\"859\":3.6776434661,\"860\":4.9417469378,\"861\":2.1589855601,\"862\":2.3417106688,\"863\":6.9238734716,\"864\":3.4470413343,\"865\":1.3842163912,\"866\":4.7668401982,\"867\":0.9477126885,\"868\":5.7444031247,\"869\":3.4695726372,\"870\":1.7561208898,\"871\":4.5969748053,\"872\":6.3737791701,\"873\":0.8743013151,\"874\":0.9557497358,\"875\":1.984059299,\"876\":4.0779864728,\"877\":9.0471449588,\"878\":4.1347946489,\"879\":2.0913382363,\"880\":5.2470277496,\"881\":6.8921112002,\"882\":1.6150410839,\"883\":2.4708252913,\"884\":3.7089079516,\"885\":0.9795601882,\"886\":4.4353292771,\"887\":3.1983749154,\"888\":5.1411197137,\"889\":2.8827929382,\"890\":7.1772312059,\"891\":1.2171575516,\"892\":4.6070060923,\"893\":3.9434591516,\"894\":1.3475523984,\"895\":3.9057383903,\"896\":7.3043478704,\"897\":5.3370416242,\"898\":4.5107874922,\"899\":4.3241845382,\"900\":2.5383652279,\"901\":10.1539843456,\"902\":4.8776043229,\"903\":1.4889973784,\"904\":4.8584273383,\"905\":4.330022696,\"906\":0.4122213731,\"907\":0.497762437,\"908\":4.1098481336,\"909\":4.1895159237,\"910\":5.2782027821,\"911\":3.4936535701,\"912\":4.2023446208,\"913\":5.2361944496,\"914\":4.524184195,\"915\":5.1715846547,\"916\":1.564140583,\"917\":2.1337035601,\"918\":1.9626863742,\"919\":1.6008484089,\"920\":3.5996657254,\"921\":6.2145185283,\"922\":4.6138722558,\"923\":10.9843920699,\"924\":2.1941311415,\"925\":3.6399398263,\"926\":2.9027241971,\"927\":5.2852765313,\"928\":2.9535153313,\"929\":2.5444395529,\"930\":2.9170409972,\"931\":2.5084832976,\"932\":2.4780272301,\"933\":3.8975750085,\"934\":7.2955544978,\"935\":7.1893645251,\"936\":4.5402620338,\"937\":7.9404692951,\"938\":6.9887641389,\"939\":4.0350784585,\"940\":3.8991164675,\"941\":3.1768228685,\"942\":1.6124990983,\"943\":2.6544035103,\"944\":3.9673265938,\"945\":2.7717921153,\"946\":3.2298029983,\"947\":2.3172686934,\"948\":2.153495273,\"949\":3.5241383731,\"950\":7.1483319335,\"951\":2.797715201,\"952\":1.913820929,\"953\":4.9688931214,\"954\":0.9366156706,\"955\":3.6378719818,\"956\":3.0712698489,\"957\":5.887844277,\"958\":1.0165554637,\"959\":3.4966906231,\"960\":1.9487622265,\"961\":2.2502347188,\"962\":1.6834965904,\"963\":5.5047946846,\"964\":0.779124794,\"965\":7.0019005047,\"966\":5.6986001807,\"967\":3.5388365945,\"968\":6.5302146966,\"969\":2.9994023491,\"970\":6.5363267601,\"971\":5.5542350586,\"972\":4.7036580659,\"973\":1.9128668139,\"974\":5.4573113428,\"975\":3.6886748339,\"976\":1.8386430064,\"977\":4.6836834372,\"978\":4.3368324857,\"979\":3.9406697282,\"980\":4.2025560658,\"981\":0.9685402343,\"982\":3.1670024847,\"983\":7.2663978092,\"984\":3.0690538827,\"985\":2.9519506548,\"986\":5.0168930618,\"987\":6.9747560363,\"988\":6.5633784225,\"989\":1.976574969,\"990\":3.6934824286,\"991\":2.8259349853,\"992\":2.2042629234,\"993\":0.8051650496,\"994\":3.7638500365,\"995\":5.107938018,\"996\":3.4587755685,\"997\":7.7276010107,\"998\":4.4889024683,\"999\":4.2024708287,\"1000\":4.4384759975,\"1001\":2.5287117104,\"1002\":2.4577764784,\"1003\":3.1371376181,\"1004\":3.5677294139,\"1005\":4.9038615898,\"1006\":3.6440171318,\"1007\":9.3818679371,\"1008\":4.1480378582,\"1009\":2.4803619529,\"1010\":1.9274325305,\"1011\":1.6819316697,\"1012\":1.686177208,\"1013\":1.8292563024,\"1014\":0.8534723899,\"1015\":3.4940336236,\"1016\":3.4284909662,\"1017\":4.8704092459,\"1018\":3.01733352,\"1019\":2.4368317475,\"1020\":3.3588308557,\"1021\":7.9799863545,\"1022\":6.6712128476,\"1023\":4.8449892069,\"1024\":4.2761811447,\"1025\":3.7762278369,\"1026\":2.8849585305,\"1027\":1.2883256896,\"1028\":3.4112612093,\"1029\":2.9491634294,\"1030\":1.6178430251,\"1031\":0.1724867367,\"1032\":3.9736526349,\"1033\":3.319777449,\"1034\":3.6486740159,\"1035\":1.025787123,\"1036\":3.9756974992,\"1037\":6.3436251299,\"1038\":4.3639398489,\"1039\":6.0471469341,\"1040\":6.2886634353,\"1041\":0.8463473707,\"1042\":2.0416457524,\"1043\":2.349325326,\"1044\":6.5357907045,\"1045\":4.241043514,\"1046\":9.2831510674,\"1047\":2.3032960348,\"1048\":2.4377282818,\"1049\":2.0676008476,\"1050\":8.6639234553,\"1051\":2.3507911522,\"1052\":1.4542940056,\"1053\":1.6391322995,\"1054\":0.7352840771,\"1055\":3.8014302334,\"1056\":3.6361750613,\"1057\":6.7250174296,\"1058\":4.6610332165,\"1059\":3.3473039446,\"1060\":3.4987352861,\"1061\":4.6101563058,\"1062\":2.102262203,\"1063\":9.0481899467,\"1064\":5.3262417648,\"1065\":4.6421686084,\"1066\":0.8434493162,\"1067\":2.5300183863,\"1068\":4.4801089733,\"1069\":1.4262841638,\"1070\":1.1278814747,\"1071\":3.9479660563,\"1072\":10.3067026979,\"1073\":0.8376910004,\"1074\":1.9745455881,\"1075\":2.7536145209,\"1076\":10.4556333547,\"1077\":2.9034322044,\"1078\":2.6887702218,\"1079\":2.2482743062,\"1080\":3.9546284954,\"1081\":6.897093273,\"1082\":2.238257171,\"1083\":4.7424228503,\"1084\":6.4638679397,\"1085\":4.2594236975,\"1086\":2.9294044151,\"1087\":3.246269205,\"1088\":2.9408609696,\"1089\":6.0314446017,\"1090\":3.3319569444,\"1091\":4.2782404052,\"1092\":5.3113806525,\"1093\":0.7481681006,\"1094\":5.6377457059,\"1095\":4.6163756861,\"1096\":4.1194591998,\"1097\":1.4856001784,\"1098\":1.6360631889,\"1099\":6.3682869819,\"1100\":2.3870761784,\"1101\":2.4910606253,\"1102\":0.8255146099,\"1103\":2.4638622637,\"1104\":3.380244736,\"1105\":2.7565170339,\"1106\":4.9651267425,\"1107\":2.0659823463,\"1108\":4.0531243493,\"1109\":1.3137008082,\"1110\":4.7753090664,\"1111\":3.0506103238,\"1112\":5.4091895481,\"1113\":4.5863461193,\"1114\":3.7756436613,\"1115\":2.1087816762,\"1116\":9.0660623956,\"1117\":4.0884686728,\"1118\":2.4175520528,\"1119\":4.6509029047,\"1120\":2.0494272778,\"1121\":4.8790212058,\"1122\":3.2306304717,\"1123\":1.8338483344,\"1124\":1.4025327036,\"1125\":1.4472805779,\"1126\":1.3470326031,\"1127\":6.4631143882,\"1128\":2.5390354654,\"1129\":0.5991994431,\"1130\":2.8485496421,\"1131\":3.7841540228,\"1132\":1.6490975158,\"1133\":4.8334258415,\"1134\":2.3530258547,\"1135\":4.2985075097,\"1136\":1.6444523598,\"1137\":6.853633537,\"1138\":4.0471954188,\"1139\":5.4609143308,\"1140\":3.1994967961,\"1141\":5.0729150696,\"1142\":2.5867809563,\"1143\":3.6304478226,\"1144\":2.6155140244,\"1145\":1.3910834796,\"1146\":4.1630571721,\"1147\":4.2387924092,\"1148\":0.9011944004,\"1149\":1.517454758,\"1150\":2.4433628581,\"1151\":7.0062525115,\"1152\":4.2118740138,\"1153\":2.3321385172,\"1154\":2.2978637618,\"1155\":4.2321443998,\"1156\":3.2979610503,\"1157\":8.1597850358,\"1158\":4.9990828222,\"1159\":3.657650538,\"1160\":2.453256273,\"1161\":1.9826487592,\"1162\":0.8647393552,\"1163\":1.2965120712,\"1164\":1.4826276657,\"1165\":3.8015952957,\"1166\":9.8391693006,\"1167\":2.0607039656,\"1168\":1.2149109213,\"1169\":2.6182274575,\"1170\":2.2985259995,\"1171\":6.1902167185,\"1172\":2.4911764512,\"1173\":2.0682358931,\"1174\":2.7098105917,\"1175\":0.57165816,\"1176\":0.4849511944,\"1177\":7.1540616551,\"1178\":2.9551372922,\"1179\":2.5545075063,\"1180\":2.6113031817,\"1181\":6.9900573356,\"1182\":4.8928238453,\"1183\":3.5320997051,\"1184\":4.1469752824,\"1185\":2.6977298177,\"1186\":1.6239887347,\"1187\":2.6788908607,\"1188\":7.0121854654,\"1189\":1.9227007167,\"1190\":4.2542907764,\"1191\":5.2709522697,\"1192\":0.9241165904,\"1193\":4.1568752778,\"1194\":0.4901302088,\"1195\":9.3459310223,\"1196\":2.5730833865,\"1197\":9.1400384506,\"1198\":5.1807291863,\"1199\":5.4099144161,\"1200\":3.8384335973,\"1201\":2.44830169,\"1202\":1.7175429413,\"1203\":6.4332372001,\"1204\":2.6779131901,\"1205\":1.1298642816,\"1206\":1.1622054081,\"1207\":3.4211410679,\"1208\":4.7471180138,\"1209\":2.5362621254,\"1210\":2.6544915883,\"1211\":5.0882564224,\"1212\":1.0036775455,\"1213\":4.5284826985,\"1214\":2.1542465018,\"1215\":4.664669406,\"1216\":0.870618826,\"1217\":1.4112044689,\"1218\":1.5720641465,\"1219\":4.0820918641,\"1220\":3.8130300667,\"1221\":14.1723619997,\"1222\":0.5972822104,\"1223\":3.6054854537,\"1224\":4.3758140462,\"1225\":0.6649837262,\"1226\":3.9914223734,\"1227\":1.5648982981,\"1228\":3.4015485612,\"1229\":3.1704732239,\"1230\":4.3015991474,\"1231\":1.1712359867,\"1232\":6.3003079051,\"1233\":10.3544119639,\"1234\":3.3216244948,\"1235\":4.8068962906,\"1236\":2.3586538969,\"1237\":3.6457742711,\"1238\":3.8707326081,\"1239\":1.3388368323,\"1240\":5.9834105046,\"1241\":8.2256862212,\"1242\":2.7352648497,\"1243\":4.8438546469,\"1244\":1.3233502161,\"1245\":5.8773090222,\"1246\":1.9165467278,\"1247\":3.6111626998,\"1248\":2.1850178522,\"1249\":3.5634791588,\"1250\":2.3653557102,\"1251\":3.1052710762,\"1252\":6.0159825628,\"1253\":2.3685786381,\"1254\":8.1244331981,\"1255\":3.7093171858,\"1256\":3.414781501,\"1257\":3.301354972,\"1258\":5.2771361656,\"1259\":2.8725363675,\"1260\":1.4525953861,\"1261\":5.9426187106,\"1262\":1.2209656166,\"1263\":2.140128509,\"1264\":1.6201226195,\"1265\":1.640015667,\"1266\":1.2819776569,\"1267\":2.4590376219,\"1268\":2.885532257,\"1269\":1.1092373204,\"1270\":1.3073794047,\"1271\":3.0732658387,\"1272\":4.358532396,\"1273\":3.1779795296,\"1274\":1.1364729233,\"1275\":2.3357788781,\"1276\":3.4206906304,\"1277\":2.8101372521,\"1278\":3.7374655901,\"1279\":1.8477132526,\"1280\":1.8923792697,\"1281\":3.1911922632,\"1282\":3.5015881746,\"1283\":3.6058310468,\"1284\":4.6747525663,\"1285\":6.7217952285,\"1286\":3.3375809417,\"1287\":2.0221077035,\"1288\":3.5193675964,\"1289\":3.3929127448,\"1290\":5.4621528457,\"1291\":1.1914991103,\"1292\":3.1716604269,\"1293\":0.6070811696,\"1294\":1.7661563217,\"1295\":9.1827556186,\"1296\":1.5392393908,\"1297\":4.9209953046,\"1298\":3.009670502,\"1299\":2.5881878251,\"1300\":0.8062295075,\"1301\":4.8076975974,\"1302\":3.0155242581,\"1303\":3.3265480704,\"1304\":4.4038858248,\"1305\":1.3775092714,\"1306\":1.2029921586,\"1307\":1.0922597182,\"1308\":3.0070393245,\"1309\":2.8818606175,\"1310\":2.0730244316,\"1311\":2.8758324899,\"1312\":6.8749857334,\"1313\":2.0855381928,\"1314\":5.0076708387,\"1315\":2.9455355696,\"1316\":4.3953528393,\"1317\":2.5829711062,\"1318\":3.916840047,\"1319\":7.2700667804,\"1320\":2.731515342,\"1321\":5.2301486613,\"1322\":4.5520798607,\"1323\":1.1710209535,\"1324\":4.9268563649,\"1325\":1.8080208982,\"1326\":2.6380237442,\"1327\":2.1649867593,\"1328\":3.0268111138,\"1329\":2.2023112742,\"1330\":5.07578904,\"1331\":0.9937386325,\"1332\":3.1530565262,\"1333\":5.613987205,\"1334\":1.6452201809,\"1335\":3.0148125646,\"1336\":1.8303060188,\"1337\":11.9720055576,\"1338\":3.7916572545,\"1339\":4.4599224314,\"1340\":5.1202654777,\"1341\":1.9573182503,\"1342\":1.5306982208,\"1343\":8.0923162967,\"1344\":6.6271107144,\"1345\":5.9917177417,\"1346\":1.9971262514,\"1347\":1.8435963633,\"1348\":5.8242977775,\"1349\":5.301375941,\"1350\":2.6155717311,\"1351\":0.4025573933,\"1352\":4.2909212511,\"1353\":1.872447303,\"1354\":2.3441148123,\"1355\":2.6498864786,\"1356\":3.5399802959,\"1357\":4.0308712239,\"1358\":3.2060560574,\"1359\":2.3449059816,\"1360\":2.6082957436,\"1361\":8.4336520146,\"1362\":1.9085243012,\"1363\":1.7947219578,\"1364\":0.7400325307,\"1365\":0.7768317917,\"1366\":2.5564053097,\"1367\":1.2779150159,\"1368\":3.5313660281,\"1369\":5.2843214708,\"1370\":3.5199150326,\"1371\":3.8519621337,\"1372\":9.6124496962,\"1373\":7.2766280537,\"1374\":1.9013029202,\"1375\":3.9643895468,\"1376\":5.6526153772,\"1377\":4.1760622532,\"1378\":4.642506814,\"1379\":1.774154714,\"1380\":0.9684125769,\"1381\":0.9729320668,\"1382\":1.9060600497,\"1383\":2.3527924623,\"1384\":1.7404694488,\"1385\":2.521138752,\"1386\":4.9942603284,\"1387\":0.4109556892,\"1388\":2.9762810387,\"1389\":3.9205068793,\"1390\":1.7310675236,\"1391\":1.8219343471,\"1392\":1.7795285804,\"1393\":3.8461228883,\"1394\":2.8445749122,\"1395\":8.329352255,\"1396\":3.4158464734,\"1397\":4.3190216727,\"1398\":4.8664463658,\"1399\":2.6758599293,\"1400\":2.0055306546,\"1401\":3.3410173332,\"1402\":7.9068423418,\"1403\":7.2450640969,\"1404\":4.2204250088,\"1405\":4.9604139863,\"1406\":6.7597082842,\"1407\":7.2554919112,\"1408\":6.532130823,\"1409\":4.6985387724,\"1410\":3.6841213874,\"1411\":3.575327315,\"1412\":2.1966201299,\"1413\":8.3184536679,\"1414\":5.6031148881,\"1415\":4.8470756909,\"1416\":1.7747045706,\"1417\":6.8213771567,\"1418\":4.7678643664,\"1419\":1.0993349374,\"1420\":1.2743516179,\"1421\":3.2146444311,\"1422\":3.7145523586,\"1423\":2.3136198654,\"1424\":5.9176537496,\"1425\":3.5441140471,\"1426\":8.6670159873,\"1427\":3.9085298983,\"1428\":1.1499023206,\"1429\":1.6219606624,\"1430\":0.8140485603,\"1431\":4.0393789514,\"1432\":6.0378680887,\"1433\":5.8284592425,\"1434\":5.7609199795,\"1435\":3.444196219,\"1436\":3.2990896001,\"1437\":2.0766441924,\"1438\":1.1100255784,\"1439\":1.693815521,\"1440\":4.2197596446,\"1441\":2.3100202404,\"1442\":3.22301041,\"1443\":2.7370903271,\"1444\":2.2004113494,\"1445\":1.6832148899,\"1446\":1.893482048,\"1447\":5.5847872406,\"1448\":7.4871076724,\"1449\":5.7253766384,\"1450\":4.2677804058,\"1451\":0.9564738199,\"1452\":3.251378274,\"1453\":1.4459555183,\"1454\":3.1632356386,\"1455\":2.5178844233,\"1456\":2.3913087776,\"1457\":0.9877389165,\"1458\":1.2156397584,\"1459\":6.7418264511,\"1460\":8.4028809092,\"1461\":2.3254809382,\"1462\":0.5696728575,\"1463\":3.7055963972,\"1464\":2.9091279631,\"1465\":2.9733492504,\"1466\":1.3218330792,\"1467\":5.3665693472,\"1468\":4.4289085774,\"1469\":4.0640403459,\"1470\":7.4499982982,\"1471\":4.2427378572,\"1472\":8.2761131772,\"1473\":5.5264878615,\"1474\":1.9367692752,\"1475\":2.070953586,\"1476\":1.5523293952,\"1477\":2.4062728758,\"1478\":3.1749451042,\"1479\":4.5011059499,\"1480\":2.1634683206,\"1481\":0.631623139,\"1482\":3.8926444793,\"1483\":2.0125016952,\"1484\":2.5822752121,\"1485\":2.5651292855,\"1486\":5.1628406596,\"1487\":4.5578714159,\"1488\":0.1997165713,\"1489\":4.4397888776,\"1490\":1.3140969013,\"1491\":4.3394544308,\"1492\":4.2244596194,\"1493\":2.9044817391,\"1494\":7.4701969759,\"1495\":0.6614402018,\"1496\":4.0661013384,\"1497\":3.6679476348,\"1498\":3.0030823556,\"1499\":3.1585272496,\"1500\":0.8063542755,\"1501\":1.4194874177,\"1502\":1.9895132136,\"1503\":1.1269238366,\"1504\":5.7213562549,\"1505\":5.5363866739,\"1506\":3.4449184971,\"1507\":0.73437972,\"1508\":3.7089407393,\"1509\":1.2094551241,\"1510\":4.2949666165,\"1511\":3.0418877884,\"1512\":2.8500424135,\"1513\":3.0528718954,\"1514\":2.1207062074,\"1515\":3.118410981,\"1516\":4.1833781375,\"1517\":5.2574996411,\"1518\":1.3081599922,\"1519\":2.0690547535,\"1520\":1.5948970599,\"1521\":4.8204101871,\"1522\":4.5702905654,\"1523\":5.3754898317,\"1524\":4.1890725403,\"1525\":1.842722311,\"1526\":1.0318760579,\"1527\":3.3892211389,\"1528\":4.7325544045,\"1529\":2.7275394692,\"1530\":2.776712037,\"1531\":5.5931809247,\"1532\":1.0751210277,\"1533\":5.9184523948,\"1534\":4.5490694651,\"1535\":1.4644115383,\"1536\":3.0484974134,\"1537\":2.1084504366,\"1538\":4.5119121979,\"1539\":3.4918626807,\"1540\":7.8490602704,\"1541\":0.7962664187,\"1542\":12.9976214377,\"1543\":5.8054393318,\"1544\":2.2218439011,\"1545\":2.2205708272,\"1546\":2.7394322806,\"1547\":2.5360827335,\"1548\":2.596052418,\"1549\":2.4863608269,\"1550\":0.9607702976,\"1551\":2.71616829,\"1552\":2.1506914989,\"1553\":8.7508288265,\"1554\":3.7254024412,\"1555\":9.674063495,\"1556\":3.7288716825,\"1557\":4.640408218,\"1558\":6.6368029057,\"1559\":2.9090159432,\"1560\":2.1037686446,\"1561\":1.6921013682,\"1562\":5.1331665002,\"1563\":2.6058497208,\"1564\":1.6300512249,\"1565\":3.2836881923,\"1566\":3.4191587499,\"1567\":2.3081032188,\"1568\":6.1546673754,\"1569\":4.7121249471,\"1570\":6.4130149867,\"1571\":6.6415287269,\"1572\":2.6326261075,\"1573\":8.1972490999,\"1574\":4.5105489501,\"1575\":3.2671403144,\"1576\":1.5449179703,\"1577\":4.719790916,\"1578\":2.8557961239,\"1579\":2.2929438363,\"1580\":1.2358183387,\"1581\":4.6740119273,\"1582\":0.9320423283,\"1583\":3.2541292816,\"1584\":3.1390534242,\"1585\":4.5816172272,\"1586\":3.6141956885,\"1587\":3.2209383497,\"1588\":4.5192306647,\"1589\":1.3295174989,\"1590\":2.8436445777,\"1591\":2.8959782018,\"1592\":3.4684611264,\"1593\":6.79960314,\"1594\":0.830884957,\"1595\":3.1198170163,\"1596\":8.1226012634,\"1597\":3.5873278953,\"1598\":4.3753281494,\"1599\":1.5114577538,\"1600\":1.2555355555,\"1601\":3.535393281,\"1602\":5.4646082412,\"1603\":5.7561724954,\"1604\":2.8135448932,\"1605\":5.994387211,\"1606\":3.7184957427,\"1607\":2.2412267535,\"1608\":4.036824116,\"1609\":8.7509053074,\"1610\":4.8545252219,\"1611\":1.7013388998,\"1612\":4.8096235809,\"1613\":1.1678607963,\"1614\":5.6212759097,\"1615\":5.5861756526,\"1616\":2.4844654591,\"1617\":3.3473940151,\"1618\":2.1111620142,\"1619\":2.7254521791,\"1620\":2.3823764992,\"1621\":4.5714241818,\"1622\":2.7357397558,\"1623\":3.564465183,\"1624\":1.4903732063,\"1625\":1.9271610615,\"1626\":5.2204788173,\"1627\":3.0640912612,\"1628\":5.165797291,\"1629\":3.0983556426,\"1630\":2.8253869531,\"1631\":0.851530625,\"1632\":4.9698123355,\"1633\":2.575494163,\"1634\":2.6773107696,\"1635\":2.571155564,\"1636\":6.502338547,\"1637\":1.8289344626,\"1638\":3.5737938343,\"1639\":5.290134446,\"1640\":1.2523758785,\"1641\":3.8876641529,\"1642\":4.2985152267,\"1643\":2.4456510498,\"1644\":0.6222713738,\"1645\":1.5826666935,\"1646\":1.2174234879,\"1647\":3.2959264836,\"1648\":3.1959662798,\"1649\":3.2323013872,\"1650\":2.8711670844,\"1651\":5.4247754622,\"1652\":1.4563264423,\"1653\":5.3144693051,\"1654\":4.1372754351,\"1655\":5.1311126482,\"1656\":1.8375710515,\"1657\":0.4533522873,\"1658\":1.842670934,\"1659\":5.1499684826,\"1660\":3.2388693195,\"1661\":1.6572096819,\"1662\":1.3101936883,\"1663\":3.2586587872,\"1664\":2.9564383174,\"1665\":4.1813061678,\"1666\":1.7130444414,\"1667\":3.0097935895,\"1668\":4.8737526352,\"1669\":3.7019388664,\"1670\":2.4126057252,\"1671\":3.4417070566,\"1672\":0.5306782227,\"1673\":2.5521612598,\"1674\":1.416237461,\"1675\":3.6452070017,\"1676\":2.1804582696,\"1677\":5.2898435368,\"1678\":3.6475721053,\"1679\":3.9801280301,\"1680\":2.4115804657,\"1681\":1.3336118428,\"1682\":2.2818297779,\"1683\":4.6437199911,\"1684\":2.6602103674,\"1685\":5.741616795,\"1686\":5.1515190306,\"1687\":2.6981463502,\"1688\":8.4662830717,\"1689\":2.4645889894,\"1690\":2.9797548273,\"1691\":1.388346237,\"1692\":2.2020639418,\"1693\":7.3059059826,\"1694\":1.853821501,\"1695\":4.0584490926,\"1696\":4.5516897707,\"1697\":5.4187449875,\"1698\":2.0428648137,\"1699\":5.7441299128,\"1700\":8.703881217,\"1701\":2.2781200503,\"1702\":3.2959548845,\"1703\":2.0178504929,\"1704\":3.1949504942,\"1705\":4.710894984,\"1706\":1.8963078304,\"1707\":3.6828411348,\"1708\":4.8033541732,\"1709\":1.8796634893,\"1710\":0.3106494236,\"1711\":3.6297587206,\"1712\":4.1476656093,\"1713\":2.6078200475,\"1714\":1.6656965416,\"1715\":3.7318233643,\"1716\":2.5336422136,\"1717\":4.8227417609,\"1718\":4.3872152045,\"1719\":3.4721755345,\"1720\":0.9931367195,\"1721\":2.6577831966,\"1722\":3.3995775758,\"1723\":3.2439688441,\"1724\":2.4239951152,\"1725\":4.921942852,\"1726\":2.8225349555,\"1727\":4.6528476875,\"1728\":3.1372549731,\"1729\":2.0631181069,\"1730\":1.9095283878,\"1731\":5.0106878402,\"1732\":3.9909366937,\"1733\":2.0605626199,\"1734\":5.8309519537,\"1735\":0.775436159,\"1736\":5.9330069792,\"1737\":2.6971588198,\"1738\":2.0698227914,\"1739\":2.6381463055,\"1740\":3.6438411244,\"1741\":5.8264590787,\"1742\":2.6239668986,\"1743\":1.9648752742,\"1744\":3.5268932822,\"1745\":2.7364053777,\"1746\":2.4595545009,\"1747\":2.3884692395,\"1748\":3.6477519112,\"1749\":5.3579096018,\"1750\":5.1337874947,\"1751\":4.7265873522,\"1752\":1.1408050794,\"1753\":2.5293868811,\"1754\":1.5148948757,\"1755\":2.3073906481,\"1756\":0.5917001281,\"1757\":6.6436692698,\"1758\":0.2248149745,\"1759\":2.0166144171,\"1760\":2.8105022984,\"1761\":0.9799955776,\"1762\":2.8796519912,\"1763\":3.1439311384,\"1764\":8.0476449722,\"1765\":5.7020739369,\"1766\":1.2444250435,\"1767\":1.3908421512,\"1768\":2.8225763579,\"1769\":8.7397078645,\"1770\":1.3104397199,\"1771\":4.263524999,\"1772\":2.2335865453,\"1773\":4.0747469769,\"1774\":4.6032152576,\"1775\":1.6030797833,\"1776\":3.6963291574,\"1777\":1.4380972371,\"1778\":1.4066655161,\"1779\":0.6091509003,\"1780\":2.7624578122,\"1781\":4.4152567445,\"1782\":2.0727936564,\"1783\":2.8335368111,\"1784\":3.0924771241,\"1785\":2.7381060272,\"1786\":2.605099381,\"1787\":3.9197831285,\"1788\":3.610540588,\"1789\":2.368713396,\"1790\":5.6982957109,\"1791\":1.2365679331,\"1792\":6.4271359836,\"1793\":3.6426523338,\"1794\":2.0819599342,\"1795\":1.8901513265,\"1796\":5.7234250886,\"1797\":4.0528684829,\"1798\":0.8449952305,\"1799\":2.3742571203,\"1800\":3.1987425762,\"1801\":3.6201926429,\"1802\":7.1178233998,\"1803\":4.6663193055,\"1804\":2.1896866481,\"1805\":1.9820760741,\"1806\":2.8062592555,\"1807\":5.9942060774,\"1808\":5.4229176245,\"1809\":3.5550713921,\"1810\":5.9227350327,\"1811\":3.7673703473,\"1812\":1.9536968767,\"1813\":6.661367312,\"1814\":3.50011213,\"1815\":3.4388283192,\"1816\":5.6355109067,\"1817\":4.9602445676,\"1818\":4.0308876998,\"1819\":2.4609146352,\"1820\":5.2012194288,\"1821\":6.638433359,\"1822\":8.7372677208,\"1823\":3.403952951,\"1824\":1.4835567118,\"1825\":5.2547638343,\"1826\":1.3136292268,\"1827\":5.4277287101,\"1828\":5.7119647804,\"1829\":4.5959840578,\"1830\":5.6180871177,\"1831\":2.7667796393,\"1832\":6.7161831159,\"1833\":1.5129339281,\"1834\":1.0641427063,\"1835\":1.3144695299,\"1836\":4.6576382758,\"1837\":1.0163779833,\"1838\":5.7038787986,\"1839\":2.6881480527,\"1840\":2.3798845896,\"1841\":6.1284708994,\"1842\":1.4031276801,\"1843\":6.2823323615,\"1844\":2.1922002362,\"1845\":2.0012837614,\"1846\":5.8799162908,\"1847\":1.4033258968,\"1848\":5.692207996,\"1849\":1.5158303491,\"1850\":2.3339732738,\"1851\":3.9887683299,\"1852\":0.1099788588,\"1853\":1.3329950794,\"1854\":4.3049538897,\"1855\":0.6750400147,\"1856\":1.9155246887,\"1857\":2.125809689,\"1858\":0.9040049237,\"1859\":11.7633146181,\"1860\":1.6048526528,\"1861\":2.6414415319,\"1862\":1.884737901,\"1863\":1.1040229064,\"1864\":1.5450030204,\"1865\":5.4810447987,\"1866\":5.631360205,\"1867\":6.0599284164,\"1868\":1.1058993518,\"1869\":3.3933321108,\"1870\":5.5361532576,\"1871\":3.3078647076,\"1872\":2.742310662,\"1873\":1.9870160354,\"1874\":6.4208042737,\"1875\":2.8575816919,\"1876\":5.5868999301,\"1877\":1.6062490221,\"1878\":2.2129640099,\"1879\":3.0663783872,\"1880\":3.5458106758,\"1881\":3.9029134004,\"1882\":5.9963952773,\"1883\":3.5647241892,\"1884\":4.2974130993,\"1885\":1.7150690378,\"1886\":3.760186804,\"1887\":2.5038403609,\"1888\":3.912295707,\"1889\":4.0090943462,\"1890\":1.4631168404,\"1891\":3.4678738335,\"1892\":0.9744718651,\"1893\":1.9964195911,\"1894\":5.0286954942,\"1895\":1.7691906438,\"1896\":1.9055287362,\"1897\":2.6184074442,\"1898\":8.9317732023,\"1899\":1.9135281952,\"1900\":2.7748955629,\"1901\":5.0193698031,\"1902\":2.080309265,\"1903\":2.3115031492,\"1904\":1.6997865969,\"1905\":3.0198486298,\"1906\":9.2437488969,\"1907\":4.7117344174,\"1908\":2.4781351991,\"1909\":1.881261955,\"1910\":6.1782848626,\"1911\":5.9813622148,\"1912\":4.291053506,\"1913\":1.6561802646,\"1914\":3.2055478183,\"1915\":9.1423806197,\"1916\":2.7400519559,\"1917\":0.8412199576,\"1918\":2.4049485023,\"1919\":6.2622940422,\"1920\":4.247221378,\"1921\":4.8594047583,\"1922\":6.2258960254,\"1923\":4.8149418464,\"1924\":4.9313140049,\"1925\":2.8806959675,\"1926\":3.3525189858,\"1927\":4.7048097047,\"1928\":2.8017850493,\"1929\":6.9546012634,\"1930\":4.5306069204,\"1931\":0.8717232572,\"1932\":0.9754281862,\"1933\":3.3121396001,\"1934\":6.3774039522,\"1935\":1.1884713883,\"1936\":7.0028620112,\"1937\":2.6980120385,\"1938\":5.3369815905,\"1939\":2.0917567196,\"1940\":2.8311975675,\"1941\":3.2278790793,\"1942\":3.2038015292,\"1943\":3.5277034908,\"1944\":1.6912979732,\"1945\":2.5055175637,\"1946\":3.5625594967,\"1947\":4.6537911516,\"1948\":2.4846349408,\"1949\":8.0216209871,\"1950\":2.6070764988,\"1951\":3.6771385808,\"1952\":2.4038887531,\"1953\":4.4844488079,\"1954\":3.1958185115,\"1955\":5.6090290971,\"1956\":1.0978811458,\"1957\":5.3186621661,\"1958\":1.7688743858,\"1959\":11.6812395859,\"1960\":2.0072599706,\"1961\":1.3475522648,\"1962\":2.1411179054,\"1963\":3.5810817415,\"1964\":3.0416782575,\"1965\":0.9190177573,\"1966\":2.1970467333,\"1967\":2.6500414414,\"1968\":2.298994276,\"1969\":5.152332415,\"1970\":3.0362305921,\"1971\":3.7916829388,\"1972\":7.3275777912,\"1973\":2.9827900106,\"1974\":1.1446638563,\"1975\":3.2025361176,\"1976\":3.9750799565,\"1977\":2.700531718,\"1978\":2.8296129957,\"1979\":3.1966958104,\"1980\":2.7149444959,\"1981\":1.9760355828,\"1982\":3.0027564287,\"1983\":2.1268742397,\"1984\":1.9503490067,\"1985\":4.7826336549,\"1986\":4.1651026634,\"1987\":2.6025158804,\"1988\":1.8984745575,\"1989\":1.4289416278,\"1990\":4.5790711764,\"1991\":8.6266601314,\"1992\":3.9301200116,\"1993\":1.671465197,\"1994\":0.9755833932,\"1995\":3.2933007811,\"1996\":3.7771356475,\"1997\":2.0104431325,\"1998\":3.1064651997,\"1999\":1.7554405456,\"2000\":2.1085070132,\"2001\":1.1284700022,\"2002\":5.6687423857,\"2003\":3.9149702976,\"2004\":2.6407102277,\"2005\":2.2235783801,\"2006\":2.7263565723,\"2007\":5.3333524005,\"2008\":5.4467942074,\"2009\":9.4834273502,\"2010\":3.6757526091,\"2011\":6.7422644225,\"2012\":7.5433216522,\"2013\":2.202323535,\"2014\":2.9002926216,\"2015\":3.8533967897,\"2016\":3.1104204161,\"2017\":4.154949302,\"2018\":1.1426480978,\"2019\":3.5646704162,\"2020\":3.4499431732,\"2021\":1.5906747816,\"2022\":5.0409132786,\"2023\":7.8181918832,\"2024\":3.748537604,\"2025\":1.409558027,\"2026\":7.9582822337,\"2027\":7.0724143303,\"2028\":5.9302939149,\"2029\":2.7302760917,\"2030\":2.9958215126,\"2031\":3.2488370927,\"2032\":1.0772320508,\"2033\":3.2332917799,\"2034\":5.5418676617,\"2035\":0.862743397,\"2036\":3.273916549,\"2037\":4.8435923108,\"2038\":2.8254996037,\"2039\":1.8888929269,\"2040\":3.4375018428,\"2041\":2.2629581742,\"2042\":6.0686437654,\"2043\":4.5408675009,\"2044\":1.5878494386,\"2045\":6.1507228167,\"2046\":4.8967193484,\"2047\":4.7617885217,\"2048\":4.3819086878,\"2049\":2.2805753425,\"2050\":2.5142956213,\"2051\":2.7017249145,\"2052\":2.2927527304,\"2053\":3.0754114895,\"2054\":5.871465226,\"2055\":2.6681023735,\"2056\":2.6722918813,\"2057\":2.5495361917,\"2058\":2.111543195,\"2059\":4.5345412754,\"2060\":2.2914817323,\"2061\":2.4704588786,\"2062\":3.6947148348,\"2063\":1.9080522046,\"2064\":4.5782647217,\"2065\":6.3343901433,\"2066\":1.3154966878,\"2067\":2.1161006599,\"2068\":2.9989861729,\"2069\":1.7305938904,\"2070\":0.436485614,\"2071\":2.1686570866,\"2072\":4.8911450453,\"2073\":2.6490293276,\"2074\":6.0180538539,\"2075\":9.2489163507,\"2076\":2.4175216294,\"2077\":1.9695111324,\"2078\":9.220390206,\"2079\":8.115552661,\"2080\":4.7305599538,\"2081\":1.806697808,\"2082\":4.8793470973,\"2083\":2.6421381665,\"2084\":7.7258426268,\"2085\":3.2684228213,\"2086\":1.7537410439,\"2087\":1.1356144638,\"2088\":3.2500231825,\"2089\":5.1023202024,\"2090\":3.707630071,\"2091\":4.1404573152,\"2092\":1.703733638,\"2093\":4.6725859345,\"2094\":1.6699618079,\"2095\":1.4361257304,\"2096\":3.887699337,\"2097\":6.1787730573,\"2098\":1.6043653533,\"2099\":1.0714332418,\"2100\":4.3087387618,\"2101\":3.1045250268,\"2102\":4.8762849169,\"2103\":2.0872503466,\"2104\":3.5747410223,\"2105\":3.1821639297,\"2106\":1.6395409343,\"2107\":1.1814370419,\"2108\":4.3959284165,\"2109\":4.4699626578,\"2110\":1.2395701629,\"2111\":1.1268283423,\"2112\":3.8714039123,\"2113\":1.3518323526,\"2114\":2.9337380048,\"2115\":1.5294567457,\"2116\":1.8520173508,\"2117\":3.9081397072,\"2118\":6.887380821,\"2119\":4.977733759,\"2120\":1.5084450958,\"2121\":4.8733279982,\"2122\":2.16989797,\"2123\":2.4773283162,\"2124\":5.851359444,\"2125\":3.1292908835,\"2126\":4.564830127,\"2127\":1.5919952102,\"2128\":3.9780451558,\"2129\":1.7013931009,\"2130\":4.6994308452,\"2131\":1.5125890745,\"2132\":4.52135313,\"2133\":2.5630303526,\"2134\":3.7378108915,\"2135\":3.5014378952,\"2136\":2.0766477471,\"2137\":3.2189096581,\"2138\":2.6503050935,\"2139\":2.9457373158,\"2140\":5.1270576204,\"2141\":2.299900368,\"2142\":2.9626725006,\"2143\":7.9106026245,\"2144\":2.1950179012,\"2145\":3.9486811346,\"2146\":6.9336606055,\"2147\":1.4007148638,\"2148\":6.3276132324,\"2149\":2.907907471,\"2150\":3.9736732678,\"2151\":0.5976683299,\"2152\":6.1154344259,\"2153\":1.6959877639,\"2154\":3.2745634951,\"2155\":6.4783777352,\"2156\":2.4923287464,\"2157\":1.8017755486,\"2158\":3.4970007988,\"2159\":9.0997710358,\"2160\":3.0347222694,\"2161\":1.9384781694,\"2162\":3.0209445227,\"2163\":3.3566978928,\"2164\":3.9115885548,\"2165\":1.7022153615,\"2166\":4.0595883049,\"2167\":1.9248166778,\"2168\":3.9988478038,\"2169\":5.5496347086,\"2170\":3.2219448859,\"2171\":3.0455097271,\"2172\":3.1672863161,\"2173\":3.0657371287,\"2174\":3.856087858,\"2175\":2.9478314151,\"2176\":4.2131472895,\"2177\":1.5463164637,\"2178\":1.0656896533,\"2179\":2.8705616705,\"2180\":8.5799057117,\"2181\":5.4747955152,\"2182\":1.7821656747,\"2183\":1.8035088904,\"2184\":3.8281390098,\"2185\":7.9960601325,\"2186\":1.0889913023,\"2187\":1.036282208,\"2188\":3.3483309982,\"2189\":2.2195253538,\"2190\":4.5205942755,\"2191\":3.6797386896,\"2192\":3.2250387913,\"2193\":2.6250254045,\"2194\":2.2284653643,\"2195\":4.2209347567,\"2196\":2.5999581398,\"2197\":5.1924279104,\"2198\":4.4809938588,\"2199\":3.705630167,\"2200\":2.19900416,\"2201\":1.9850991645,\"2202\":0.9612698097,\"2203\":1.5853245601,\"2204\":3.267305981,\"2205\":2.0678127709,\"2206\":7.0263063835,\"2207\":1.9776135057,\"2208\":1.3169910102,\"2209\":2.0162772824,\"2210\":2.392692343,\"2211\":6.0056758085,\"2212\":6.4781054957,\"2213\":8.1308535243,\"2214\":2.6026512637,\"2215\":7.3776535875,\"2216\":4.9408840791,\"2217\":3.5139440736,\"2218\":5.4923101432,\"2219\":3.5394926623,\"2220\":2.2194257645,\"2221\":1.9947294503,\"2222\":4.0340418366,\"2223\":5.8509225994,\"2224\":8.8950569414,\"2225\":2.2404421831,\"2226\":11.6492536104,\"2227\":3.5596742125,\"2228\":4.8216317973,\"2229\":4.1713575837,\"2230\":2.3099436123,\"2231\":6.6644786969,\"2232\":5.9763974604,\"2233\":2.0122204086,\"2234\":3.957154491,\"2235\":4.2630437788,\"2236\":4.1013559885,\"2237\":2.4094595144,\"2238\":3.8385050403,\"2239\":3.6153582608,\"2240\":4.3189244031,\"2241\":2.9149088339,\"2242\":4.5035364752,\"2243\":3.1914224666,\"2244\":3.078703113,\"2245\":4.1527112201,\"2246\":6.377361825,\"2247\":7.1724191684,\"2248\":2.798086376,\"2249\":5.7614461658,\"2250\":2.9094473183,\"2251\":3.4833238988,\"2252\":3.510387232,\"2253\":3.1414428707,\"2254\":3.723074849,\"2255\":5.2214558556,\"2256\":1.1478797884,\"2257\":2.2007634543,\"2258\":3.3790028923,\"2259\":5.9013162859,\"2260\":8.5417661373,\"2261\":2.1340155193,\"2262\":1.762132611,\"2263\":3.1096219418,\"2264\":3.9021070578,\"2265\":2.9518112205,\"2266\":2.2828624955,\"2267\":5.5236633719,\"2268\":1.2479444401,\"2269\":7.2813122886,\"2270\":4.411566921,\"2271\":6.1467507642,\"2272\":4.2429290568,\"2273\":1.4439845873,\"2274\":4.2694635358,\"2275\":1.456095017,\"2276\":6.6585867089,\"2277\":4.458893343,\"2278\":5.6994367198,\"2279\":1.3765228726,\"2280\":2.7230603293,\"2281\":3.6379761382,\"2282\":3.4223283149,\"2283\":1.6744993966,\"2284\":4.4203355386,\"2285\":8.4221516823,\"2286\":0.5460745576,\"2287\":2.49210399,\"2288\":1.7729783361,\"2289\":3.0170084926,\"2290\":6.3110424954,\"2291\":4.2767138976,\"2292\":5.5682214558,\"2293\":3.0841755638,\"2294\":5.9975193978,\"2295\":3.1370067084,\"2296\":2.1969748671,\"2297\":2.0417185047,\"2298\":2.6583650246,\"2299\":1.2508556301,\"2300\":2.3507613861,\"2301\":0.9626078129,\"2302\":2.4359386534,\"2303\":1.8282131492,\"2304\":5.9769009748,\"2305\":0.9657311856,\"2306\":2.1262214228,\"2307\":1.8959705063,\"2308\":5.876968796,\"2309\":5.9871790968,\"2310\":1.8943250866,\"2311\":4.4062024401,\"2312\":2.1148168991,\"2313\":6.6625409964,\"2314\":0.9194338577,\"2315\":2.9529361192,\"2316\":2.518780881,\"2317\":5.2487973243,\"2318\":3.7772534776,\"2319\":4.6917666336,\"2320\":3.8826269054,\"2321\":4.1414745641,\"2322\":1.0824036209,\"2323\":4.1568990075,\"2324\":3.9644093163,\"2325\":3.4440886176,\"2326\":4.2910815266,\"2327\":8.0649543071,\"2328\":3.2133614558,\"2329\":2.802626956,\"2330\":0.6416661598,\"2331\":5.1768107035,\"2332\":4.9722787346,\"2333\":9.0120337953,\"2334\":3.6342016618,\"2335\":3.8896956201,\"2336\":2.2377060458,\"2337\":1.4621463903,\"2338\":2.0115815015,\"2339\":2.2050716234,\"2340\":5.0212348367,\"2341\":0.8588463855,\"2342\":1.687841865,\"2343\":1.505383918,\"2344\":2.3876843977,\"2345\":3.3441516324,\"2346\":3.8551208006,\"2347\":1.15297943,\"2348\":3.8251352561,\"2349\":3.5380538855,\"2350\":2.9855965217,\"2351\":2.8353249357,\"2352\":4.7901245353,\"2353\":3.9798461288,\"2354\":7.7481684315,\"2355\":4.7336341702,\"2356\":2.5401005824,\"2357\":3.3735554332,\"2358\":1.9363149544,\"2359\":3.6986151755,\"2360\":3.8392649381,\"2361\":0.9847338419,\"2362\":1.7593026321,\"2363\":2.8101844251,\"2364\":2.5119326798,\"2365\":2.9055254777,\"2366\":4.4830314927,\"2367\":4.4937629001,\"2368\":3.5604129452,\"2369\":2.4578071435,\"2370\":4.9411984337,\"2371\":1.9391980415,\"2372\":5.449761536,\"2373\":4.5632700837,\"2374\":3.9046249502,\"2375\":4.7253783168,\"2376\":2.2360395646,\"2377\":5.5023937581,\"2378\":3.5474520562,\"2379\":1.3691643996,\"2380\":2.6648534208,\"2381\":1.3000828636,\"2382\":3.575244075,\"2383\":1.8649296929,\"2384\":2.044435181,\"2385\":5.9161457251,\"2386\":1.1726441083,\"2387\":2.4424963005,\"2388\":0.972713131,\"2389\":1.8342604173,\"2390\":4.9013523804,\"2391\":4.4196318108,\"2392\":3.2621367152,\"2393\":1.3298106236,\"2394\":3.1367613314,\"2395\":3.0655116644,\"2396\":2.2521910481,\"2397\":3.6168961027,\"2398\":0.864406322,\"2399\":4.7227254352,\"2400\":2.9108496888,\"2401\":6.5686697829,\"2402\":6.1715354979,\"2403\":1.9585136223,\"2404\":3.615325638,\"2405\":6.9255266548,\"2406\":0.7691701993,\"2407\":2.4182325455,\"2408\":7.1376513147,\"2409\":3.9800235463,\"2410\":2.4677921687,\"2411\":2.1131081386,\"2412\":3.2232579665,\"2413\":2.6641008946,\"2414\":5.6258186269,\"2415\":8.1823036123,\"2416\":7.2517589596,\"2417\":4.0502516149,\"2418\":2.6227982786,\"2419\":5.3959957893,\"2420\":5.1917091898,\"2421\":0.9129261118,\"2422\":4.5516565621,\"2423\":2.5038033126,\"2424\":5.5301402509,\"2425\":7.2923219569,\"2426\":4.9453072862,\"2427\":3.7061831462,\"2428\":3.0250170888,\"2429\":2.3151645124,\"2430\":3.0950960264,\"2431\":2.0344076161,\"2432\":4.2477463682,\"2433\":6.5680404461,\"2434\":4.536721285,\"2435\":2.4845213314,\"2436\":0.8875975642,\"2437\":3.6070121675,\"2438\":1.5740635549,\"2439\":3.3472707655,\"2440\":1.9074074465,\"2441\":6.8028833269,\"2442\":8.3808917266,\"2443\":1.2115373799,\"2444\":2.3244920365,\"2445\":2.9821207322,\"2446\":7.2930720332,\"2447\":2.6513080938,\"2448\":3.6756727675,\"2449\":2.3263367055,\"2450\":2.448295036,\"2451\":0.916128716,\"2452\":4.511822386,\"2453\":0.9987865096,\"2454\":8.1356391456,\"2455\":3.7262336444,\"2456\":0.8270304662,\"2457\":3.6331818273,\"2458\":1.1443910611,\"2459\":8.0681984571,\"2460\":7.260677378,\"2461\":3.4503565829,\"2462\":1.2958269967,\"2463\":1.54699739,\"2464\":4.6818128503,\"2465\":6.4252257997,\"2466\":1.3832576028,\"2467\":2.0116514783,\"2468\":4.197719209,\"2469\":2.9344601848,\"2470\":1.4495089734,\"2471\":7.0920980768,\"2472\":3.103041975,\"2473\":3.4992470194,\"2474\":11.3771899418,\"2475\":2.4843263127,\"2476\":1.6483784407,\"2477\":0.7478156576,\"2478\":5.7906180869,\"2479\":2.7091171219,\"2480\":1.8481757135,\"2481\":1.6513151614,\"2482\":4.7464640577,\"2483\":1.7388890085,\"2484\":6.539849288,\"2485\":2.5136813537,\"2486\":2.5573791044,\"2487\":2.900703228,\"2488\":3.0828797823,\"2489\":2.5237337943,\"2490\":3.4189404363,\"2491\":1.4860762087,\"2492\":3.6960823699,\"2493\":7.3067577748,\"2494\":1.9107786792,\"2495\":4.2302009323,\"2496\":1.4659201888,\"2497\":7.9416612472,\"2498\":2.8058015629,\"2499\":0.8409452198,\"2500\":2.4262820198,\"2501\":2.0895842148,\"2502\":4.1119782841,\"2503\":3.3386596533,\"2504\":3.3174992907,\"2505\":1.37720582,\"2506\":2.306827378,\"2507\":1.9450262953,\"2508\":1.490151508,\"2509\":3.1317832406,\"2510\":2.7230124621,\"2511\":3.2388608548,\"2512\":4.1591577776,\"2513\":2.0702214641,\"2514\":1.4615196354,\"2515\":2.1106319609,\"2516\":3.4900056858,\"2517\":5.1453227759,\"2518\":2.8948277311,\"2519\":1.0821742849,\"2520\":2.5480485242,\"2521\":7.3668841912,\"2522\":0.951238033,\"2523\":3.3955964471,\"2524\":5.7030463512,\"2525\":4.3848780516,\"2526\":6.2710418765,\"2527\":1.9081501659,\"2528\":0.9908765393,\"2529\":1.7516578373,\"2530\":2.7479662184,\"2531\":2.8716944761,\"2532\":4.448660177,\"2533\":1.3296409129,\"2534\":1.1049749792,\"2535\":7.2953445113,\"2536\":7.5841465272,\"2537\":1.226850062,\"2538\":2.9221429659,\"2539\":3.2021102814,\"2540\":3.4898967443,\"2541\":5.2423973268,\"2542\":5.0787083927,\"2543\":0.7157229031,\"2544\":5.1897582442,\"2545\":2.0754752093,\"2546\":1.3786911762,\"2547\":3.9906144282,\"2548\":4.9396547867,\"2549\":4.939433991,\"2550\":1.3548816562,\"2551\":1.0677942598,\"2552\":5.7542157051,\"2553\":5.9465960375,\"2554\":1.7949735391,\"2555\":3.8449619549,\"2556\":5.0978198734,\"2557\":0.8038781196,\"2558\":2.9692308174,\"2559\":4.6464203731,\"2560\":4.3153494499,\"2561\":2.8371096591,\"2562\":7.208855418,\"2563\":1.1236459011,\"2564\":6.9560766939,\"2565\":0.8763517322,\"2566\":4.074700176,\"2567\":6.102416478,\"2568\":0.6046166891,\"2569\":7.1019259367,\"2570\":4.1100727011,\"2571\":3.3030538479,\"2572\":5.3432742636,\"2573\":4.4186534156,\"2574\":2.093103179,\"2575\":1.6464528692,\"2576\":2.8369449125,\"2577\":0.9952439895,\"2578\":1.9782816081,\"2579\":2.4666183667,\"2580\":0.4450946052,\"2581\":4.4330103349,\"2582\":3.3218581071,\"2583\":12.9007049258,\"2584\":6.2776514767,\"2585\":4.1008079347,\"2586\":1.707167907,\"2587\":4.1987647663,\"2588\":2.5026413709,\"2589\":2.8410538451,\"2590\":4.5823533889,\"2591\":1.3013326174,\"2592\":3.9658496028,\"2593\":2.535718509,\"2594\":1.0359639035,\"2595\":1.1364024471,\"2596\":2.6617027335,\"2597\":3.3553080994,\"2598\":0.9421300473,\"2599\":5.6513673865,\"2600\":1.9173891185,\"2601\":2.408366546,\"2602\":3.3284962419,\"2603\":3.4727837942,\"2604\":3.6917222956,\"2605\":2.7791820507,\"2606\":0.9828063182,\"2607\":3.9859299854,\"2608\":3.0120778343,\"2609\":1.824880833,\"2610\":7.2548154805,\"2611\":4.519093717,\"2612\":1.4606861468,\"2613\":2.0197111357,\"2614\":2.5216580602,\"2615\":3.8062174661,\"2616\":1.8655536001,\"2617\":2.5926654346,\"2618\":5.5649702245,\"2619\":1.7294428088,\"2620\":2.7372608634,\"2621\":6.7792704412,\"2622\":0.529604577,\"2623\":1.6300670229,\"2624\":2.1427631591,\"2625\":1.532014094,\"2626\":6.8520450277,\"2627\":2.7069249928,\"2628\":4.3210408901,\"2629\":7.931406631,\"2630\":3.8220677506,\"2631\":2.8562205137,\"2632\":3.1561711634,\"2633\":1.4910608648,\"2634\":3.9675350642,\"2635\":3.2622447802,\"2636\":9.3061843556,\"2637\":6.5249227566,\"2638\":1.1679160699,\"2639\":3.4844418289,\"2640\":6.3324991349,\"2641\":3.8297692314,\"2642\":0.2762038122,\"2643\":0.1675522198,\"2644\":3.3699665582,\"2645\":4.4908610083,\"2646\":2.6713321663,\"2647\":6.3309298056,\"2648\":3.5236029107,\"2649\":5.5289926013,\"2650\":4.2316778077,\"2651\":1.9123635357,\"2652\":2.0158206728,\"2653\":3.6470808096,\"2654\":0.9850703299,\"2655\":3.0566299148,\"2656\":2.2628145075,\"2657\":0.3534190976,\"2658\":3.0797281891,\"2659\":3.7812536903,\"2660\":7.4740488624,\"2661\":3.3205020994,\"2662\":2.4220305438,\"2663\":1.8607448592,\"2664\":1.9398764327,\"2665\":2.0973745121,\"2666\":4.3717602009,\"2667\":1.4523802158,\"2668\":2.5415432395,\"2669\":7.5432142418,\"2670\":5.7925637774,\"2671\":5.5820014637,\"2672\":2.7232626215,\"2673\":3.8810383794,\"2674\":2.3286222267,\"2675\":8.5069822485,\"2676\":0.7837326094,\"2677\":2.7820632818,\"2678\":3.456682718,\"2679\":1.8733676215,\"2680\":2.6099098011,\"2681\":1.761747077,\"2682\":2.2744235024,\"2683\":3.6372821119,\"2684\":3.6493088693,\"2685\":3.3141710972,\"2686\":4.015071953,\"2687\":2.4676119717,\"2688\":2.5282687381,\"2689\":4.8839348603,\"2690\":1.6607597622,\"2691\":2.6337446613,\"2692\":1.6389712457,\"2693\":5.3402655973,\"2694\":2.1360667143,\"2695\":2.1961270282,\"2696\":3.4700242528,\"2697\":5.6735425191,\"2698\":1.5954697448,\"2699\":1.1463174873,\"2700\":3.7194020941,\"2701\":2.0371511681,\"2702\":1.8165800529,\"2703\":4.1756133788,\"2704\":2.479773525,\"2705\":5.56670788,\"2706\":3.1695890034,\"2707\":1.787194999,\"2708\":1.4241628664,\"2709\":2.1274268439,\"2710\":2.5271232924,\"2711\":1.4820744914,\"2712\":5.6944154944,\"2713\":5.0277593234,\"2714\":2.9422849719,\"2715\":1.7666969257,\"2716\":3.5050730339,\"2717\":3.4396357657,\"2718\":7.3320136232,\"2719\":0.9212897174,\"2720\":3.026973496,\"2721\":10.2833595966,\"2722\":4.6277785263,\"2723\":5.9305783784,\"2724\":5.6782279735,\"2725\":1.0639228912,\"2726\":7.2766919238,\"2727\":4.925608962,\"2728\":5.3307673735,\"2729\":0.9978288765,\"2730\":2.6081898711,\"2731\":5.8622639,\"2732\":2.4809767681,\"2733\":4.511910594,\"2734\":4.4402030904,\"2735\":8.3425563519,\"2736\":3.2142836517,\"2737\":3.3184176289,\"2738\":3.6586333977,\"2739\":3.9490154348,\"2740\":0.7221122468,\"2741\":2.1975589933,\"2742\":3.7631531841,\"2743\":4.4535734803,\"2744\":2.9491947318,\"2745\":3.7503109377,\"2746\":2.3186352607,\"2747\":1.3728224397,\"2748\":7.9191674919,\"2749\":1.6882991018,\"2750\":2.3614959713,\"2751\":2.2619541888,\"2752\":0.9190843984,\"2753\":5.2152593024,\"2754\":4.2135994251,\"2755\":4.0841041862,\"2756\":2.9622423381,\"2757\":6.8528805646,\"2758\":5.4511002531,\"2759\":5.8595697536,\"2760\":1.0984115143,\"2761\":5.7249939429,\"2762\":3.1748470105,\"2763\":6.5388017195,\"2764\":4.7385686056,\"2765\":3.4661002979,\"2766\":7.9853054084,\"2767\":3.7940791271,\"2768\":5.7247025283,\"2769\":3.2550618694,\"2770\":7.1916170404,\"2771\":2.0321178869,\"2772\":4.1835005062,\"2773\":3.5305299154,\"2774\":1.4583721014,\"2775\":5.984942699,\"2776\":1.2832263558,\"2777\":4.1793203355,\"2778\":2.8597568741,\"2779\":12.3174911125,\"2780\":0.791926666,\"2781\":0.5579278516,\"2782\":1.597193209,\"2783\":3.0899978411,\"2784\":1.5122614012,\"2785\":2.5878095414,\"2786\":3.222729819,\"2787\":4.1066560963,\"2788\":10.1927411413,\"2789\":5.1621623506,\"2790\":6.1332706676,\"2791\":4.2827421883,\"2792\":3.4830572502,\"2793\":2.4293534681,\"2794\":7.2278916631,\"2795\":3.8615035951,\"2796\":2.5293300703,\"2797\":4.267080379,\"2798\":5.8666927631,\"2799\":8.0956200344,\"2800\":2.1885054538,\"2801\":4.945956455,\"2802\":5.0315907998,\"2803\":9.0407292567,\"2804\":1.5457106944,\"2805\":5.9094758702,\"2806\":5.3065434713,\"2807\":0.5575033759,\"2808\":7.8507056265,\"2809\":4.3749393349,\"2810\":5.1814484003,\"2811\":3.1247251632,\"2812\":2.5731097068,\"2813\":1.8001543155,\"2814\":8.1324819715,\"2815\":2.772745239,\"2816\":2.4227590325,\"2817\":1.233308581,\"2818\":3.5619588812,\"2819\":4.0141109004,\"2820\":11.3115854615,\"2821\":5.8605089893,\"2822\":2.3275248435,\"2823\":9.1014614281,\"2824\":3.0695738824,\"2825\":4.8566928981,\"2826\":3.9099392827,\"2827\":3.5637261259,\"2828\":6.2167376043,\"2829\":4.6547935052,\"2830\":3.6173069871,\"2831\":1.7044453904,\"2832\":2.2664462759,\"2833\":1.879957721,\"2834\":3.0083734155,\"2835\":0.622876972,\"2836\":2.4414908133,\"2837\":2.6417323896,\"2838\":1.9421063703,\"2839\":3.6199210946,\"2840\":4.0953301587,\"2841\":6.9976985885,\"2842\":6.551976754,\"2843\":6.5379175505,\"2844\":4.0232433745,\"2845\":5.4482279341,\"2846\":3.5992349892,\"2847\":1.615052907,\"2848\":4.2837673625,\"2849\":6.0403102721,\"2850\":2.6979723428,\"2851\":0.9356739788,\"2852\":2.91988678,\"2853\":0.8069802645,\"2854\":3.6560191521,\"2855\":4.4093897171,\"2856\":1.0724568033,\"2857\":6.1884367852,\"2858\":7.7807896374,\"2859\":2.3171947471,\"2860\":4.1846830183,\"2861\":3.3310440011,\"2862\":1.9642525109,\"2863\":6.5896202915,\"2864\":5.5943255997,\"2865\":6.4970710279,\"2866\":1.8116968388,\"2867\":4.1431087313,\"2868\":3.6451225941,\"2869\":3.2178644478,\"2870\":3.7235003957,\"2871\":5.4308871924,\"2872\":3.0979985358,\"2873\":1.8520604234,\"2874\":2.1094437608,\"2875\":4.3627701967,\"2876\":2.1496937239,\"2877\":3.9318256483,\"2878\":1.6076805905,\"2879\":3.5567210775,\"2880\":0.6981181047,\"2881\":3.5655012403,\"2882\":3.6974150359,\"2883\":3.2516924579,\"2884\":1.3715566563,\"2885\":9.2607594112,\"2886\":2.8202010425,\"2887\":7.0802792104,\"2888\":1.36805564,\"2889\":4.1770252522,\"2890\":1.0439016501,\"2891\":5.4821795845,\"2892\":2.0408787796,\"2893\":6.0630559713,\"2894\":2.4335901065,\"2895\":3.6563548609,\"2896\":1.2609143959,\"2897\":2.3958237603,\"2898\":3.0742320062,\"2899\":3.0394991283,\"2900\":1.5867576223,\"2901\":5.6967878186,\"2902\":4.9212305148,\"2903\":3.1861420944,\"2904\":6.2240340919,\"2905\":1.4630408114,\"2906\":5.6356710954,\"2907\":7.5251201134,\"2908\":4.453242995,\"2909\":4.7521149498,\"2910\":2.5208679702,\"2911\":7.5535828332,\"2912\":0.4685746891,\"2913\":3.1528059109,\"2914\":3.5823747128,\"2915\":5.4207736069,\"2916\":1.5971065398,\"2917\":6.756955493,\"2918\":5.1385653297,\"2919\":2.9718919201,\"2920\":3.9307643875,\"2921\":6.3608222095,\"2922\":3.2666380457,\"2923\":6.1915817601,\"2924\":4.865988323,\"2925\":2.9395906826,\"2926\":2.2585883539,\"2927\":2.755176703,\"2928\":4.6274027182,\"2929\":6.4975658958,\"2930\":8.0329217222,\"2931\":6.2675695885,\"2932\":4.2067608481,\"2933\":2.1223042325,\"2934\":1.1540412223,\"2935\":1.4284735426,\"2936\":4.5556925611,\"2937\":2.9460558354,\"2938\":1.6804904541,\"2939\":2.5844531695,\"2940\":2.9518500761,\"2941\":5.2686368831,\"2942\":2.7448817347,\"2943\":4.1063358771,\"2944\":3.8038038365,\"2945\":2.7346650053,\"2946\":6.8492587286,\"2947\":3.092987764,\"2948\":5.2078959052,\"2949\":2.2230135826,\"2950\":4.1992454178,\"2951\":1.5662900313,\"2952\":1.2651413982,\"2953\":3.5642169023,\"2954\":4.0916256707,\"2955\":2.5163390051,\"2956\":2.4867721662,\"2957\":11.0020156225,\"2958\":5.9851013988,\"2959\":0.6398399303,\"2960\":3.1069647823,\"2961\":4.9726268951,\"2962\":4.2901938109,\"2963\":1.241989823,\"2964\":6.2750965864,\"2965\":3.7106026435,\"2966\":0.7064400844,\"2967\":2.4909132048,\"2968\":5.4814931606,\"2969\":2.4132834041,\"2970\":3.8958188161,\"2971\":5.924518815,\"2972\":9.0676247487,\"2973\":2.4332155014,\"2974\":2.29779188,\"2975\":5.6243476019,\"2976\":3.8669240755,\"2977\":2.3096041477,\"2978\":2.0789666124,\"2979\":1.9169032024,\"2980\":2.5635814319,\"2981\":3.1113825655,\"2982\":0.374753872,\"2983\":0.8953087056,\"2984\":2.3700174193,\"2985\":3.2681793506,\"2986\":1.2127536022,\"2987\":0.485997545,\"2988\":3.4962194243,\"2989\":1.9711012994,\"2990\":1.9179591362,\"2991\":1.7763327129,\"2992\":4.5262487584,\"2993\":4.7645119042,\"2994\":1.740618659,\"2995\":5.5912592702,\"2996\":2.2650579695,\"2997\":0.7765016709,\"2998\":2.2700965455,\"2999\":1.3252007494,\"3000\":4.1540897546,\"3001\":2.2300515077,\"3002\":6.454084877,\"3003\":3.2808290249,\"3004\":3.8439234957,\"3005\":3.9802090431,\"3006\":5.1806600627,\"3007\":2.1657266966,\"3008\":2.8404524192,\"3009\":3.0064736989,\"3010\":1.2239577813,\"3011\":6.3868964064,\"3012\":8.3859304304,\"3013\":5.9115626532,\"3014\":6.7829053712,\"3015\":7.5994879582,\"3016\":3.0259412998,\"3017\":4.8135127873,\"3018\":3.589502002,\"3019\":7.1698287481,\"3020\":2.5571193843,\"3021\":3.7212965783,\"3022\":1.692268452,\"3023\":10.1099918405,\"3024\":1.7469684494,\"3025\":5.165894012,\"3026\":4.7352683213,\"3027\":2.6228290197,\"3028\":2.4156492895,\"3029\":4.1534876641,\"3030\":2.3312119304,\"3031\":2.6996823079,\"3032\":10.8540319687,\"3033\":1.2253344046,\"3034\":3.4501997487,\"3035\":2.3709387277,\"3036\":7.3191561175,\"3037\":1.5956335193,\"3038\":4.78327206,\"3039\":5.4223369099,\"3040\":5.5310181316,\"3041\":4.0706649553,\"3042\":4.8090735614,\"3043\":2.611878378,\"3044\":10.4501389137,\"3045\":4.0407089297,\"3046\":5.7856964928,\"3047\":5.5752501105,\"3048\":0.9563388265,\"3049\":4.5804113907,\"3050\":3.0299127186,\"3051\":4.2700216798,\"3052\":6.7668994303,\"3053\":4.6924224063,\"3054\":4.7718957267,\"3055\":6.1265841749,\"3056\":7.616260386,\"3057\":1.5931317887,\"3058\":7.4159665384,\"3059\":1.3794642845,\"3060\":1.6303963639,\"3061\":5.9444924254,\"3062\":2.7399522203,\"3063\":4.4484329149,\"3064\":4.0493477889,\"3065\":3.1957763937,\"3066\":3.8897873782,\"3067\":1.7111518879,\"3068\":3.7253980041,\"3069\":2.7423954815,\"3070\":2.6186273181,\"3071\":2.8106033146,\"3072\":4.3110956016,\"3073\":4.3638639447,\"3074\":2.7150377302,\"3075\":5.0078687978,\"3076\":2.3388838951,\"3077\":6.1467340857,\"3078\":4.2820012553,\"3079\":2.6294378394,\"3080\":2.7338637558,\"3081\":2.8119380395,\"3082\":6.8755384635,\"3083\":1.3959559415,\"3084\":2.5702608343,\"3085\":1.9828707943,\"3086\":1.8625554376,\"3087\":2.2117085896,\"3088\":4.2993944411,\"3089\":2.705890216,\"3090\":7.7501027851,\"3091\":3.6203321936,\"3092\":1.7738550986,\"3093\":5.7293742837,\"3094\":2.3654631858,\"3095\":0.9308961857,\"3096\":1.7102022524,\"3097\":6.7376190557,\"3098\":0.6367044605,\"3099\":3.6374034122,\"3100\":4.9834543526,\"3101\":3.4461476026,\"3102\":1.3936785064,\"3103\":1.6221701742,\"3104\":1.2378500638,\"3105\":1.666344982,\"3106\":0.9133489544,\"3107\":2.043828151,\"3108\":7.7402552917,\"3109\":3.1053776896,\"3110\":3.5596757575,\"3111\":7.3629482062,\"3112\":5.8874177324,\"3113\":2.8633290128,\"3114\":6.9729594184,\"3115\":1.105424604,\"3116\":10.4726239604,\"3117\":8.8783357775,\"3118\":1.3554052234,\"3119\":4.1537385952,\"3120\":7.7471070241,\"3121\":1.6229396625,\"3122\":4.3831876899,\"3123\":2.8073569566,\"3124\":3.4335867593,\"3125\":9.736957845,\"3126\":2.1558452034,\"3127\":4.6807282114,\"3128\":4.5186631009,\"3129\":3.6504536917,\"3130\":4.0127777673,\"3131\":1.471085771,\"3132\":7.2577089436,\"3133\":6.142194875,\"3134\":3.3288095002,\"3135\":8.0198673729,\"3136\":2.5520249643,\"3137\":1.732252431,\"3138\":2.6885702415,\"3139\":3.2092603276,\"3140\":1.5291576989,\"3141\":3.0344918235,\"3142\":4.8160703311,\"3143\":2.8306223309,\"3144\":3.0333184636,\"3145\":4.6444702878,\"3146\":2.6167591545,\"3147\":2.4889202598,\"3148\":5.2909886068,\"3149\":4.1016950047,\"3150\":3.718957427,\"3151\":3.5262635247,\"3152\":2.7787054936,\"3153\":3.0124943244,\"3154\":1.9308932131,\"3155\":8.4194898686,\"3156\":3.0758146793,\"3157\":4.9431376914,\"3158\":3.0139576944,\"3159\":1.7006814542,\"3160\":0.6719937302,\"3161\":10.0496556159,\"3162\":5.6081232914,\"3163\":4.4531314594,\"3164\":1.3425428768,\"3165\":2.2851549411,\"3166\":5.365647432,\"3167\":3.2683070643,\"3168\":4.0538107476,\"3169\":3.1605478668,\"3170\":1.3413697721,\"3171\":2.0641840381,\"3172\":3.3337514943,\"3173\":6.2843427682,\"3174\":0.8795686321,\"3175\":3.774704538,\"3176\":4.1097926487,\"3177\":2.763380749,\"3178\":3.1992437449,\"3179\":5.026609611,\"3180\":2.7030605592,\"3181\":1.9253858663,\"3182\":3.286447545,\"3183\":2.0318803423,\"3184\":2.5087025205,\"3185\":0.7392541922,\"3186\":3.9581729587,\"3187\":2.424889773,\"3188\":1.0144014991,\"3189\":5.3171087024,\"3190\":4.5190084648,\"3191\":0.9393776384,\"3192\":3.1100260327,\"3193\":4.221443935,\"3194\":4.1149583056,\"3195\":2.9296091711,\"3196\":5.1368085077,\"3197\":0.7816849274,\"3198\":1.5388168693,\"3199\":5.4749306002,\"3200\":8.6137155585,\"3201\":3.1783961652,\"3202\":3.305048223,\"3203\":3.0009441625,\"3204\":4.3541667298,\"3205\":0.8990666429,\"3206\":3.2934619997,\"3207\":0.7913799068,\"3208\":1.8263686097,\"3209\":6.0386392201,\"3210\":2.0501423755,\"3211\":2.0941429107,\"3212\":5.8363932225,\"3213\":1.0226583367,\"3214\":6.7741423015,\"3215\":2.792410117,\"3216\":4.341595443,\"3217\":3.1485389852,\"3218\":1.0912290666,\"3219\":6.8692909824,\"3220\":7.3554555739,\"3221\":8.4015542945,\"3222\":1.1646160409,\"3223\":1.4952436858,\"3224\":5.815613259,\"3225\":2.2658765283,\"3226\":4.6034036225,\"3227\":5.7263093829,\"3228\":6.8691930009,\"3229\":2.6212304377,\"3230\":1.4385250959,\"3231\":4.8672703793,\"3232\":3.9323350514,\"3233\":3.8195844429,\"3234\":4.9115667665},\"fullfips\":{\"0\":1001,\"1\":1003,\"2\":1005,\"3\":1007,\"4\":1009,\"5\":1011,\"6\":1013,\"7\":1015,\"8\":1017,\"9\":1019,\"10\":1021,\"11\":1023,\"12\":1025,\"13\":1027,\"14\":1029,\"15\":1031,\"16\":1033,\"17\":1035,\"18\":1037,\"19\":1039,\"20\":1041,\"21\":1043,\"22\":1045,\"23\":1047,\"24\":1049,\"25\":1051,\"26\":1053,\"27\":1055,\"28\":1057,\"29\":1059,\"30\":1061,\"31\":1063,\"32\":1065,\"33\":1067,\"34\":1069,\"35\":1071,\"36\":1073,\"37\":1075,\"38\":1077,\"39\":1079,\"40\":1081,\"41\":1083,\"42\":1085,\"43\":1087,\"44\":1089,\"45\":1091,\"46\":1093,\"47\":1095,\"48\":1097,\"49\":1099,\"50\":1101,\"51\":1103,\"52\":1105,\"53\":1107,\"54\":1109,\"55\":1111,\"56\":1113,\"57\":1115,\"58\":1117,\"59\":1119,\"60\":1121,\"61\":1123,\"62\":1125,\"63\":1127,\"64\":1129,\"65\":1131,\"66\":1133,\"67\":2013,\"68\":2016,\"69\":2020,\"70\":2050,\"71\":2060,\"72\":2068,\"73\":2070,\"74\":2090,\"75\":2100,\"76\":2105,\"77\":2110,\"78\":2122,\"79\":2130,\"80\":2150,\"81\":2164,\"82\":2170,\"83\":2180,\"84\":2185,\"85\":2188,\"86\":2195,\"87\":2198,\"88\":2220,\"89\":2230,\"90\":2240,\"91\":2261,\"92\":2270,\"93\":2275,\"94\":2282,\"95\":2290,\"96\":4001,\"97\":4003,\"98\":4005,\"99\":4007,\"100\":4009,\"101\":4011,\"102\":4012,\"103\":4013,\"104\":4015,\"105\":4017,\"106\":4019,\"107\":4021,\"108\":4023,\"109\":4025,\"110\":4027,\"111\":5001,\"112\":5003,\"113\":5005,\"114\":5007,\"115\":5009,\"116\":5011,\"117\":5013,\"118\":5015,\"119\":5017,\"120\":5019,\"121\":5021,\"122\":5023,\"123\":5025,\"124\":5027,\"125\":5029,\"126\":5031,\"127\":5033,\"128\":5035,\"129\":5037,\"130\":5039,\"131\":5041,\"132\":5043,\"133\":5045,\"134\":5047,\"135\":5049,\"136\":5051,\"137\":5053,\"138\":5055,\"139\":5057,\"140\":5059,\"141\":5061,\"142\":5063,\"143\":5065,\"144\":5067,\"145\":5069,\"146\":5071,\"147\":5073,\"148\":5075,\"149\":5077,\"150\":5079,\"151\":5081,\"152\":5083,\"153\":5085,\"154\":5087,\"155\":5089,\"156\":5091,\"157\":5093,\"158\":5095,\"159\":5097,\"160\":5099,\"161\":5101,\"162\":5103,\"163\":5105,\"164\":5107,\"165\":5109,\"166\":5111,\"167\":5113,\"168\":5115,\"169\":5117,\"170\":5119,\"171\":5121,\"172\":5123,\"173\":5125,\"174\":5127,\"175\":5129,\"176\":5131,\"177\":5133,\"178\":5135,\"179\":5137,\"180\":5139,\"181\":5141,\"182\":5143,\"183\":5145,\"184\":5147,\"185\":5149,\"186\":6001,\"187\":6003,\"188\":6005,\"189\":6007,\"190\":6009,\"191\":6011,\"192\":6013,\"193\":6015,\"194\":6017,\"195\":6019,\"196\":6021,\"197\":6023,\"198\":6025,\"199\":6027,\"200\":6029,\"201\":6031,\"202\":6033,\"203\":6035,\"204\":6037,\"205\":6039,\"206\":6041,\"207\":6043,\"208\":6045,\"209\":6047,\"210\":6049,\"211\":6051,\"212\":6053,\"213\":6055,\"214\":6057,\"215\":6059,\"216\":6061,\"217\":6063,\"218\":6065,\"219\":6067,\"220\":6069,\"221\":6071,\"222\":6073,\"223\":6075,\"224\":6077,\"225\":6079,\"226\":6081,\"227\":6083,\"228\":6085,\"229\":6087,\"230\":6089,\"231\":6091,\"232\":6093,\"233\":6095,\"234\":6097,\"235\":6099,\"236\":6101,\"237\":6103,\"238\":6105,\"239\":6107,\"240\":6109,\"241\":6111,\"242\":6113,\"243\":6115,\"244\":8001,\"245\":8003,\"246\":8005,\"247\":8007,\"248\":8009,\"249\":8011,\"250\":8013,\"251\":8014,\"252\":8015,\"253\":8017,\"254\":8019,\"255\":8021,\"256\":8023,\"257\":8025,\"258\":8027,\"259\":8029,\"260\":8031,\"261\":8033,\"262\":8035,\"263\":8037,\"264\":8039,\"265\":8041,\"266\":8043,\"267\":8045,\"268\":8047,\"269\":8049,\"270\":8051,\"271\":8053,\"272\":8055,\"273\":8057,\"274\":8059,\"275\":8061,\"276\":8063,\"277\":8065,\"278\":8067,\"279\":8069,\"280\":8071,\"281\":8073,\"282\":8075,\"283\":8077,\"284\":8079,\"285\":8081,\"286\":8083,\"287\":8085,\"288\":8087,\"289\":8089,\"290\":8091,\"291\":8093,\"292\":8095,\"293\":8097,\"294\":8099,\"295\":8101,\"296\":8103,\"297\":8105,\"298\":8107,\"299\":8109,\"300\":8111,\"301\":8113,\"302\":8115,\"303\":8117,\"304\":8119,\"305\":8121,\"306\":8123,\"307\":8125,\"308\":9001,\"309\":9003,\"310\":9005,\"311\":9007,\"312\":9009,\"313\":9011,\"314\":9013,\"315\":9015,\"316\":10001,\"317\":10003,\"318\":10005,\"319\":11001,\"320\":12001,\"321\":12003,\"322\":12005,\"323\":12007,\"324\":12009,\"325\":12011,\"326\":12013,\"327\":12015,\"328\":12017,\"329\":12019,\"330\":12021,\"331\":12023,\"332\":12027,\"333\":12029,\"334\":12031,\"335\":12033,\"336\":12035,\"337\":12037,\"338\":12039,\"339\":12041,\"340\":12043,\"341\":12045,\"342\":12047,\"343\":12049,\"344\":12051,\"345\":12053,\"346\":12055,\"347\":12057,\"348\":12059,\"349\":12061,\"350\":12063,\"351\":12065,\"352\":12067,\"353\":12069,\"354\":12071,\"355\":12073,\"356\":12075,\"357\":12077,\"358\":12079,\"359\":12081,\"360\":12083,\"361\":12085,\"362\":12086,\"363\":12087,\"364\":12089,\"365\":12091,\"366\":12093,\"367\":12095,\"368\":12097,\"369\":12099,\"370\":12101,\"371\":12103,\"372\":12105,\"373\":12107,\"374\":12109,\"375\":12111,\"376\":12113,\"377\":12115,\"378\":12117,\"379\":12119,\"380\":12121,\"381\":12123,\"382\":12125,\"383\":12127,\"384\":12129,\"385\":12131,\"386\":12133,\"387\":13001,\"388\":13003,\"389\":13005,\"390\":13007,\"391\":13009,\"392\":13011,\"393\":13013,\"394\":13015,\"395\":13017,\"396\":13019,\"397\":13021,\"398\":13023,\"399\":13025,\"400\":13027,\"401\":13029,\"402\":13031,\"403\":13033,\"404\":13035,\"405\":13037,\"406\":13039,\"407\":13043,\"408\":13045,\"409\":13047,\"410\":13049,\"411\":13051,\"412\":13053,\"413\":13055,\"414\":13057,\"415\":13059,\"416\":13061,\"417\":13063,\"418\":13065,\"419\":13067,\"420\":13069,\"421\":13071,\"422\":13073,\"423\":13075,\"424\":13077,\"425\":13079,\"426\":13081,\"427\":13083,\"428\":13085,\"429\":13087,\"430\":13089,\"431\":13091,\"432\":13093,\"433\":13095,\"434\":13097,\"435\":13099,\"436\":13101,\"437\":13103,\"438\":13105,\"439\":13107,\"440\":13109,\"441\":13111,\"442\":13113,\"443\":13115,\"444\":13117,\"445\":13119,\"446\":13121,\"447\":13123,\"448\":13125,\"449\":13127,\"450\":13129,\"451\":13131,\"452\":13133,\"453\":13135,\"454\":13137,\"455\":13139,\"456\":13141,\"457\":13143,\"458\":13145,\"459\":13147,\"460\":13149,\"461\":13151,\"462\":13153,\"463\":13155,\"464\":13157,\"465\":13159,\"466\":13161,\"467\":13163,\"468\":13165,\"469\":13167,\"470\":13169,\"471\":13171,\"472\":13173,\"473\":13175,\"474\":13177,\"475\":13179,\"476\":13181,\"477\":13183,\"478\":13185,\"479\":13187,\"480\":13189,\"481\":13191,\"482\":13193,\"483\":13195,\"484\":13197,\"485\":13199,\"486\":13201,\"487\":13205,\"488\":13207,\"489\":13209,\"490\":13211,\"491\":13213,\"492\":13215,\"493\":13217,\"494\":13219,\"495\":13221,\"496\":13223,\"497\":13225,\"498\":13227,\"499\":13229,\"500\":13231,\"501\":13233,\"502\":13235,\"503\":13237,\"504\":13239,\"505\":13241,\"506\":13243,\"507\":13245,\"508\":13247,\"509\":13249,\"510\":13251,\"511\":13253,\"512\":13255,\"513\":13257,\"514\":13259,\"515\":13261,\"516\":13263,\"517\":13265,\"518\":13267,\"519\":13269,\"520\":13271,\"521\":13273,\"522\":13275,\"523\":13277,\"524\":13279,\"525\":13281,\"526\":13283,\"527\":13285,\"528\":13287,\"529\":13289,\"530\":13291,\"531\":13293,\"532\":13295,\"533\":13297,\"534\":13299,\"535\":13301,\"536\":13303,\"537\":13305,\"538\":13307,\"539\":13309,\"540\":13311,\"541\":13313,\"542\":13315,\"543\":13317,\"544\":13319,\"545\":13321,\"546\":15001,\"547\":15003,\"548\":15005,\"549\":15007,\"550\":15009,\"551\":16001,\"552\":16003,\"553\":16005,\"554\":16007,\"555\":16009,\"556\":16011,\"557\":16013,\"558\":16015,\"559\":16017,\"560\":16019,\"561\":16021,\"562\":16023,\"563\":16025,\"564\":16027,\"565\":16029,\"566\":16031,\"567\":16033,\"568\":16035,\"569\":16037,\"570\":16039,\"571\":16041,\"572\":16043,\"573\":16045,\"574\":16047,\"575\":16049,\"576\":16051,\"577\":16053,\"578\":16055,\"579\":16057,\"580\":16059,\"581\":16061,\"582\":16063,\"583\":16065,\"584\":16067,\"585\":16069,\"586\":16071,\"587\":16073,\"588\":16075,\"589\":16077,\"590\":16079,\"591\":16081,\"592\":16083,\"593\":16085,\"594\":16087,\"595\":17001,\"596\":17003,\"597\":17005,\"598\":17007,\"599\":17009,\"600\":17011,\"601\":17013,\"602\":17015,\"603\":17017,\"604\":17019,\"605\":17021,\"606\":17023,\"607\":17025,\"608\":17027,\"609\":17029,\"610\":17031,\"611\":17033,\"612\":17035,\"613\":17037,\"614\":17039,\"615\":17041,\"616\":17043,\"617\":17045,\"618\":17047,\"619\":17049,\"620\":17051,\"621\":17053,\"622\":17055,\"623\":17057,\"624\":17059,\"625\":17061,\"626\":17063,\"627\":17065,\"628\":17067,\"629\":17069,\"630\":17071,\"631\":17073,\"632\":17075,\"633\":17077,\"634\":17079,\"635\":17081,\"636\":17083,\"637\":17085,\"638\":17087,\"639\":17089,\"640\":17091,\"641\":17093,\"642\":17095,\"643\":17097,\"644\":17099,\"645\":17101,\"646\":17103,\"647\":17105,\"648\":17107,\"649\":17109,\"650\":17111,\"651\":17113,\"652\":17115,\"653\":17117,\"654\":17119,\"655\":17121,\"656\":17123,\"657\":17125,\"658\":17127,\"659\":17129,\"660\":17131,\"661\":17133,\"662\":17135,\"663\":17137,\"664\":17139,\"665\":17141,\"666\":17143,\"667\":17145,\"668\":17147,\"669\":17149,\"670\":17151,\"671\":17153,\"672\":17155,\"673\":17157,\"674\":17159,\"675\":17161,\"676\":17163,\"677\":17165,\"678\":17167,\"679\":17169,\"680\":17171,\"681\":17173,\"682\":17175,\"683\":17177,\"684\":17179,\"685\":17181,\"686\":17183,\"687\":17185,\"688\":17187,\"689\":17189,\"690\":17191,\"691\":17193,\"692\":17195,\"693\":17197,\"694\":17199,\"695\":17201,\"696\":17203,\"697\":18001,\"698\":18003,\"699\":18005,\"700\":18007,\"701\":18009,\"702\":18011,\"703\":18013,\"704\":18015,\"705\":18017,\"706\":18019,\"707\":18021,\"708\":18023,\"709\":18025,\"710\":18027,\"711\":18029,\"712\":18031,\"713\":18033,\"714\":18035,\"715\":18037,\"716\":18039,\"717\":18041,\"718\":18043,\"719\":18045,\"720\":18047,\"721\":18049,\"722\":18051,\"723\":18053,\"724\":18055,\"725\":18057,\"726\":18059,\"727\":18061,\"728\":18063,\"729\":18065,\"730\":18067,\"731\":18069,\"732\":18071,\"733\":18073,\"734\":18075,\"735\":18077,\"736\":18079,\"737\":18081,\"738\":18083,\"739\":18085,\"740\":18087,\"741\":18089,\"742\":18091,\"743\":18093,\"744\":18095,\"745\":18097,\"746\":18099,\"747\":18101,\"748\":18103,\"749\":18105,\"750\":18107,\"751\":18109,\"752\":18111,\"753\":18113,\"754\":18115,\"755\":18117,\"756\":18119,\"757\":18121,\"758\":18123,\"759\":18125,\"760\":18127,\"761\":18129,\"762\":18131,\"763\":18133,\"764\":18135,\"765\":18137,\"766\":18139,\"767\":18141,\"768\":18143,\"769\":18145,\"770\":18147,\"771\":18149,\"772\":18151,\"773\":18153,\"774\":18155,\"775\":18157,\"776\":18159,\"777\":18161,\"778\":18163,\"779\":18165,\"780\":18167,\"781\":18169,\"782\":18171,\"783\":18173,\"784\":18175,\"785\":18177,\"786\":18179,\"787\":18181,\"788\":18183,\"789\":19001,\"790\":19003,\"791\":19005,\"792\":19007,\"793\":19009,\"794\":19011,\"795\":19013,\"796\":19015,\"797\":19017,\"798\":19019,\"799\":19021,\"800\":19023,\"801\":19025,\"802\":19027,\"803\":19029,\"804\":19031,\"805\":19033,\"806\":19035,\"807\":19037,\"808\":19039,\"809\":19041,\"810\":19043,\"811\":19045,\"812\":19047,\"813\":19049,\"814\":19051,\"815\":19053,\"816\":19055,\"817\":19057,\"818\":19059,\"819\":19061,\"820\":19063,\"821\":19065,\"822\":19067,\"823\":19069,\"824\":19071,\"825\":19073,\"826\":19075,\"827\":19077,\"828\":19079,\"829\":19081,\"830\":19083,\"831\":19085,\"832\":19087,\"833\":19089,\"834\":19091,\"835\":19093,\"836\":19095,\"837\":19097,\"838\":19099,\"839\":19101,\"840\":19103,\"841\":19105,\"842\":19107,\"843\":19109,\"844\":19111,\"845\":19113,\"846\":19115,\"847\":19117,\"848\":19119,\"849\":19121,\"850\":19123,\"851\":19125,\"852\":19127,\"853\":19129,\"854\":19131,\"855\":19133,\"856\":19135,\"857\":19137,\"858\":19139,\"859\":19141,\"860\":19143,\"861\":19145,\"862\":19147,\"863\":19149,\"864\":19151,\"865\":19153,\"866\":19155,\"867\":19157,\"868\":19159,\"869\":19161,\"870\":19163,\"871\":19165,\"872\":19167,\"873\":19169,\"874\":19171,\"875\":19173,\"876\":19175,\"877\":19177,\"878\":19179,\"879\":19181,\"880\":19183,\"881\":19185,\"882\":19187,\"883\":19189,\"884\":19191,\"885\":19193,\"886\":19195,\"887\":19197,\"888\":20001,\"889\":20003,\"890\":20005,\"891\":20007,\"892\":20009,\"893\":20011,\"894\":20013,\"895\":20015,\"896\":20017,\"897\":20019,\"898\":20021,\"899\":20023,\"900\":20025,\"901\":20027,\"902\":20029,\"903\":20031,\"904\":20033,\"905\":20035,\"906\":20037,\"907\":20039,\"908\":20041,\"909\":20043,\"910\":20045,\"911\":20047,\"912\":20049,\"913\":20051,\"914\":20053,\"915\":20055,\"916\":20057,\"917\":20059,\"918\":20061,\"919\":20063,\"920\":20065,\"921\":20067,\"922\":20069,\"923\":20071,\"924\":20073,\"925\":20075,\"926\":20077,\"927\":20079,\"928\":20081,\"929\":20083,\"930\":20085,\"931\":20087,\"932\":20089,\"933\":20091,\"934\":20093,\"935\":20095,\"936\":20097,\"937\":20099,\"938\":20101,\"939\":20103,\"940\":20105,\"941\":20107,\"942\":20109,\"943\":20111,\"944\":20113,\"945\":20115,\"946\":20117,\"947\":20119,\"948\":20121,\"949\":20123,\"950\":20125,\"951\":20127,\"952\":20129,\"953\":20131,\"954\":20133,\"955\":20135,\"956\":20137,\"957\":20139,\"958\":20141,\"959\":20143,\"960\":20145,\"961\":20147,\"962\":20149,\"963\":20151,\"964\":20153,\"965\":20155,\"966\":20157,\"967\":20159,\"968\":20161,\"969\":20163,\"970\":20165,\"971\":20167,\"972\":20169,\"973\":20171,\"974\":20173,\"975\":20175,\"976\":20177,\"977\":20179,\"978\":20181,\"979\":20183,\"980\":20185,\"981\":20187,\"982\":20189,\"983\":20191,\"984\":20193,\"985\":20195,\"986\":20197,\"987\":20199,\"988\":20201,\"989\":20203,\"990\":20205,\"991\":20207,\"992\":20209,\"993\":21001,\"994\":21003,\"995\":21005,\"996\":21007,\"997\":21009,\"998\":21011,\"999\":21013,\"1000\":21015,\"1001\":21017,\"1002\":21019,\"1003\":21021,\"1004\":21023,\"1005\":21025,\"1006\":21027,\"1007\":21029,\"1008\":21031,\"1009\":21033,\"1010\":21035,\"1011\":21037,\"1012\":21039,\"1013\":21041,\"1014\":21043,\"1015\":21045,\"1016\":21047,\"1017\":21049,\"1018\":21051,\"1019\":21053,\"1020\":21055,\"1021\":21057,\"1022\":21059,\"1023\":21061,\"1024\":21063,\"1025\":21065,\"1026\":21067,\"1027\":21069,\"1028\":21071,\"1029\":21073,\"1030\":21075,\"1031\":21077,\"1032\":21079,\"1033\":21081,\"1034\":21083,\"1035\":21085,\"1036\":21087,\"1037\":21089,\"1038\":21091,\"1039\":21093,\"1040\":21095,\"1041\":21097,\"1042\":21099,\"1043\":21101,\"1044\":21103,\"1045\":21105,\"1046\":21107,\"1047\":21109,\"1048\":21111,\"1049\":21113,\"1050\":21115,\"1051\":21117,\"1052\":21119,\"1053\":21121,\"1054\":21123,\"1055\":21125,\"1056\":21127,\"1057\":21129,\"1058\":21131,\"1059\":21133,\"1060\":21135,\"1061\":21137,\"1062\":21139,\"1063\":21141,\"1064\":21143,\"1065\":21145,\"1066\":21147,\"1067\":21149,\"1068\":21151,\"1069\":21153,\"1070\":21155,\"1071\":21157,\"1072\":21159,\"1073\":21161,\"1074\":21163,\"1075\":21165,\"1076\":21167,\"1077\":21169,\"1078\":21171,\"1079\":21173,\"1080\":21175,\"1081\":21177,\"1082\":21179,\"1083\":21181,\"1084\":21183,\"1085\":21185,\"1086\":21187,\"1087\":21189,\"1088\":21191,\"1089\":21193,\"1090\":21195,\"1091\":21197,\"1092\":21199,\"1093\":21201,\"1094\":21203,\"1095\":21205,\"1096\":21207,\"1097\":21209,\"1098\":21211,\"1099\":21213,\"1100\":21215,\"1101\":21217,\"1102\":21219,\"1103\":21221,\"1104\":21223,\"1105\":21225,\"1106\":21227,\"1107\":21229,\"1108\":21231,\"1109\":21233,\"1110\":21235,\"1111\":21237,\"1112\":21239,\"1113\":22001,\"1114\":22003,\"1115\":22005,\"1116\":22007,\"1117\":22009,\"1118\":22011,\"1119\":22013,\"1120\":22015,\"1121\":22017,\"1122\":22019,\"1123\":22021,\"1124\":22023,\"1125\":22025,\"1126\":22027,\"1127\":22029,\"1128\":22031,\"1129\":22033,\"1130\":22035,\"1131\":22037,\"1132\":22039,\"1133\":22041,\"1134\":22043,\"1135\":22045,\"1136\":22047,\"1137\":22049,\"1138\":22051,\"1139\":22053,\"1140\":22055,\"1141\":22057,\"1142\":22059,\"1143\":22061,\"1144\":22063,\"1145\":22065,\"1146\":22067,\"1147\":22069,\"1148\":22071,\"1149\":22073,\"1150\":22075,\"1151\":22077,\"1152\":22079,\"1153\":22081,\"1154\":22083,\"1155\":22085,\"1156\":22087,\"1157\":22089,\"1158\":22091,\"1159\":22093,\"1160\":22095,\"1161\":22097,\"1162\":22099,\"1163\":22101,\"1164\":22103,\"1165\":22105,\"1166\":22107,\"1167\":22109,\"1168\":22111,\"1169\":22113,\"1170\":22115,\"1171\":22117,\"1172\":22119,\"1173\":22121,\"1174\":22123,\"1175\":22125,\"1176\":22127,\"1177\":23001,\"1178\":23003,\"1179\":23005,\"1180\":23007,\"1181\":23009,\"1182\":23011,\"1183\":23013,\"1184\":23015,\"1185\":23017,\"1186\":23019,\"1187\":23021,\"1188\":23023,\"1189\":23025,\"1190\":23027,\"1191\":23029,\"1192\":23031,\"1193\":24001,\"1194\":24003,\"1195\":24005,\"1196\":24009,\"1197\":24011,\"1198\":24013,\"1199\":24015,\"1200\":24017,\"1201\":24019,\"1202\":24021,\"1203\":24023,\"1204\":24025,\"1205\":24027,\"1206\":24029,\"1207\":24031,\"1208\":24033,\"1209\":24035,\"1210\":24037,\"1211\":24039,\"1212\":24041,\"1213\":24043,\"1214\":24045,\"1215\":24047,\"1216\":24510,\"1217\":25001,\"1218\":25003,\"1219\":25005,\"1220\":25007,\"1221\":25009,\"1222\":25011,\"1223\":25013,\"1224\":25015,\"1225\":25017,\"1226\":25019,\"1227\":25021,\"1228\":25023,\"1229\":25025,\"1230\":25027,\"1231\":26001,\"1232\":26003,\"1233\":26005,\"1234\":26007,\"1235\":26009,\"1236\":26011,\"1237\":26013,\"1238\":26015,\"1239\":26017,\"1240\":26019,\"1241\":26021,\"1242\":26023,\"1243\":26025,\"1244\":26027,\"1245\":26029,\"1246\":26031,\"1247\":26033,\"1248\":26035,\"1249\":26037,\"1250\":26039,\"1251\":26041,\"1252\":26043,\"1253\":26045,\"1254\":26047,\"1255\":26049,\"1256\":26051,\"1257\":26053,\"1258\":26055,\"1259\":26057,\"1260\":26059,\"1261\":26061,\"1262\":26063,\"1263\":26065,\"1264\":26067,\"1265\":26069,\"1266\":26071,\"1267\":26073,\"1268\":26075,\"1269\":26077,\"1270\":26079,\"1271\":26081,\"1272\":26083,\"1273\":26085,\"1274\":26087,\"1275\":26089,\"1276\":26091,\"1277\":26093,\"1278\":26095,\"1279\":26097,\"1280\":26099,\"1281\":26101,\"1282\":26103,\"1283\":26105,\"1284\":26107,\"1285\":26109,\"1286\":26111,\"1287\":26113,\"1288\":26115,\"1289\":26117,\"1290\":26119,\"1291\":26121,\"1292\":26123,\"1293\":26125,\"1294\":26127,\"1295\":26129,\"1296\":26131,\"1297\":26133,\"1298\":26135,\"1299\":26137,\"1300\":26139,\"1301\":26141,\"1302\":26143,\"1303\":26145,\"1304\":26147,\"1305\":26149,\"1306\":26151,\"1307\":26153,\"1308\":26155,\"1309\":26157,\"1310\":26159,\"1311\":26161,\"1312\":26163,\"1313\":26165,\"1314\":27001,\"1315\":27003,\"1316\":27005,\"1317\":27007,\"1318\":27009,\"1319\":27011,\"1320\":27013,\"1321\":27015,\"1322\":27017,\"1323\":27019,\"1324\":27021,\"1325\":27023,\"1326\":27025,\"1327\":27027,\"1328\":27029,\"1329\":27031,\"1330\":27033,\"1331\":27035,\"1332\":27037,\"1333\":27039,\"1334\":27041,\"1335\":27043,\"1336\":27045,\"1337\":27047,\"1338\":27049,\"1339\":27051,\"1340\":27053,\"1341\":27055,\"1342\":27057,\"1343\":27059,\"1344\":27061,\"1345\":27063,\"1346\":27065,\"1347\":27067,\"1348\":27069,\"1349\":27071,\"1350\":27073,\"1351\":27075,\"1352\":27077,\"1353\":27079,\"1354\":27081,\"1355\":27083,\"1356\":27085,\"1357\":27087,\"1358\":27089,\"1359\":27091,\"1360\":27093,\"1361\":27095,\"1362\":27097,\"1363\":27099,\"1364\":27101,\"1365\":27103,\"1366\":27105,\"1367\":27107,\"1368\":27109,\"1369\":27111,\"1370\":27113,\"1371\":27115,\"1372\":27117,\"1373\":27119,\"1374\":27121,\"1375\":27123,\"1376\":27125,\"1377\":27127,\"1378\":27129,\"1379\":27131,\"1380\":27133,\"1381\":27135,\"1382\":27137,\"1383\":27139,\"1384\":27141,\"1385\":27143,\"1386\":27145,\"1387\":27147,\"1388\":27149,\"1389\":27151,\"1390\":27153,\"1391\":27155,\"1392\":27157,\"1393\":27159,\"1394\":27161,\"1395\":27163,\"1396\":27165,\"1397\":27167,\"1398\":27169,\"1399\":27171,\"1400\":27173,\"1401\":28001,\"1402\":28003,\"1403\":28005,\"1404\":28007,\"1405\":28009,\"1406\":28011,\"1407\":28013,\"1408\":28015,\"1409\":28017,\"1410\":28019,\"1411\":28021,\"1412\":28023,\"1413\":28025,\"1414\":28027,\"1415\":28029,\"1416\":28031,\"1417\":28033,\"1418\":28035,\"1419\":28037,\"1420\":28039,\"1421\":28041,\"1422\":28043,\"1423\":28045,\"1424\":28047,\"1425\":28049,\"1426\":28051,\"1427\":28053,\"1428\":28055,\"1429\":28057,\"1430\":28059,\"1431\":28061,\"1432\":28063,\"1433\":28065,\"1434\":28067,\"1435\":28069,\"1436\":28071,\"1437\":28073,\"1438\":28075,\"1439\":28077,\"1440\":28079,\"1441\":28081,\"1442\":28083,\"1443\":28085,\"1444\":28087,\"1445\":28089,\"1446\":28091,\"1447\":28093,\"1448\":28095,\"1449\":28097,\"1450\":28099,\"1451\":28101,\"1452\":28103,\"1453\":28105,\"1454\":28107,\"1455\":28109,\"1456\":28111,\"1457\":28113,\"1458\":28115,\"1459\":28117,\"1460\":28119,\"1461\":28121,\"1462\":28123,\"1463\":28125,\"1464\":28127,\"1465\":28129,\"1466\":28131,\"1467\":28133,\"1468\":28135,\"1469\":28137,\"1470\":28139,\"1471\":28141,\"1472\":28143,\"1473\":28145,\"1474\":28147,\"1475\":28149,\"1476\":28151,\"1477\":28153,\"1478\":28155,\"1479\":28157,\"1480\":28159,\"1481\":28161,\"1482\":28163,\"1483\":29001,\"1484\":29003,\"1485\":29005,\"1486\":29007,\"1487\":29009,\"1488\":29011,\"1489\":29013,\"1490\":29015,\"1491\":29017,\"1492\":29019,\"1493\":29021,\"1494\":29023,\"1495\":29025,\"1496\":29027,\"1497\":29029,\"1498\":29031,\"1499\":29033,\"1500\":29035,\"1501\":29037,\"1502\":29039,\"1503\":29041,\"1504\":29043,\"1505\":29045,\"1506\":29047,\"1507\":29049,\"1508\":29051,\"1509\":29053,\"1510\":29055,\"1511\":29057,\"1512\":29059,\"1513\":29061,\"1514\":29063,\"1515\":29065,\"1516\":29067,\"1517\":29069,\"1518\":29071,\"1519\":29073,\"1520\":29075,\"1521\":29077,\"1522\":29079,\"1523\":29081,\"1524\":29083,\"1525\":29085,\"1526\":29087,\"1527\":29089,\"1528\":29091,\"1529\":29093,\"1530\":29095,\"1531\":29097,\"1532\":29099,\"1533\":29101,\"1534\":29103,\"1535\":29105,\"1536\":29107,\"1537\":29109,\"1538\":29111,\"1539\":29113,\"1540\":29115,\"1541\":29117,\"1542\":29119,\"1543\":29121,\"1544\":29123,\"1545\":29125,\"1546\":29127,\"1547\":29129,\"1548\":29131,\"1549\":29133,\"1550\":29135,\"1551\":29137,\"1552\":29139,\"1553\":29141,\"1554\":29143,\"1555\":29145,\"1556\":29147,\"1557\":29149,\"1558\":29151,\"1559\":29153,\"1560\":29155,\"1561\":29157,\"1562\":29159,\"1563\":29161,\"1564\":29163,\"1565\":29165,\"1566\":29167,\"1567\":29169,\"1568\":29171,\"1569\":29173,\"1570\":29175,\"1571\":29177,\"1572\":29179,\"1573\":29181,\"1574\":29183,\"1575\":29185,\"1576\":29186,\"1577\":29187,\"1578\":29189,\"1579\":29195,\"1580\":29197,\"1581\":29199,\"1582\":29201,\"1583\":29203,\"1584\":29205,\"1585\":29207,\"1586\":29209,\"1587\":29211,\"1588\":29213,\"1589\":29215,\"1590\":29217,\"1591\":29219,\"1592\":29221,\"1593\":29223,\"1594\":29225,\"1595\":29227,\"1596\":29229,\"1597\":29510,\"1598\":30001,\"1599\":30003,\"1600\":30005,\"1601\":30007,\"1602\":30009,\"1603\":30011,\"1604\":30013,\"1605\":30015,\"1606\":30017,\"1607\":30019,\"1608\":30021,\"1609\":30023,\"1610\":30025,\"1611\":30027,\"1612\":30029,\"1613\":30031,\"1614\":30033,\"1615\":30035,\"1616\":30037,\"1617\":30039,\"1618\":30041,\"1619\":30043,\"1620\":30045,\"1621\":30047,\"1622\":30049,\"1623\":30051,\"1624\":30053,\"1625\":30055,\"1626\":30057,\"1627\":30059,\"1628\":30061,\"1629\":30063,\"1630\":30065,\"1631\":30067,\"1632\":30069,\"1633\":30071,\"1634\":30073,\"1635\":30075,\"1636\":30077,\"1637\":30079,\"1638\":30081,\"1639\":30083,\"1640\":30085,\"1641\":30087,\"1642\":30089,\"1643\":30091,\"1644\":30093,\"1645\":30095,\"1646\":30097,\"1647\":30099,\"1648\":30101,\"1649\":30103,\"1650\":30105,\"1651\":30107,\"1652\":30109,\"1653\":30111,\"1654\":31001,\"1655\":31003,\"1656\":31005,\"1657\":31007,\"1658\":31009,\"1659\":31011,\"1660\":31013,\"1661\":31015,\"1662\":31017,\"1663\":31019,\"1664\":31021,\"1665\":31023,\"1666\":31025,\"1667\":31027,\"1668\":31029,\"1669\":31031,\"1670\":31033,\"1671\":31035,\"1672\":31037,\"1673\":31039,\"1674\":31041,\"1675\":31043,\"1676\":31045,\"1677\":31047,\"1678\":31049,\"1679\":31051,\"1680\":31053,\"1681\":31055,\"1682\":31057,\"1683\":31059,\"1684\":31061,\"1685\":31063,\"1686\":31065,\"1687\":31067,\"1688\":31069,\"1689\":31071,\"1690\":31073,\"1691\":31075,\"1692\":31077,\"1693\":31079,\"1694\":31081,\"1695\":31083,\"1696\":31085,\"1697\":31087,\"1698\":31089,\"1699\":31091,\"1700\":31093,\"1701\":31095,\"1702\":31097,\"1703\":31099,\"1704\":31101,\"1705\":31103,\"1706\":31105,\"1707\":31107,\"1708\":31109,\"1709\":31111,\"1710\":31113,\"1711\":31115,\"1712\":31117,\"1713\":31119,\"1714\":31121,\"1715\":31123,\"1716\":31125,\"1717\":31127,\"1718\":31129,\"1719\":31131,\"1720\":31133,\"1721\":31135,\"1722\":31137,\"1723\":31139,\"1724\":31141,\"1725\":31143,\"1726\":31145,\"1727\":31147,\"1728\":31149,\"1729\":31151,\"1730\":31153,\"1731\":31155,\"1732\":31157,\"1733\":31159,\"1734\":31161,\"1735\":31163,\"1736\":31165,\"1737\":31167,\"1738\":31169,\"1739\":31171,\"1740\":31173,\"1741\":31175,\"1742\":31177,\"1743\":31179,\"1744\":31181,\"1745\":31183,\"1746\":31185,\"1747\":32001,\"1748\":32003,\"1749\":32005,\"1750\":32007,\"1751\":32009,\"1752\":32011,\"1753\":32013,\"1754\":32015,\"1755\":32017,\"1756\":32019,\"1757\":32021,\"1758\":32023,\"1759\":32027,\"1760\":32029,\"1761\":32031,\"1762\":32033,\"1763\":32510,\"1764\":33001,\"1765\":33003,\"1766\":33005,\"1767\":33007,\"1768\":33009,\"1769\":33011,\"1770\":33013,\"1771\":33015,\"1772\":33017,\"1773\":33019,\"1774\":34001,\"1775\":34003,\"1776\":34005,\"1777\":34007,\"1778\":34009,\"1779\":34011,\"1780\":34013,\"1781\":34015,\"1782\":34017,\"1783\":34019,\"1784\":34021,\"1785\":34023,\"1786\":34025,\"1787\":34027,\"1788\":34029,\"1789\":34031,\"1790\":34033,\"1791\":34035,\"1792\":34037,\"1793\":34039,\"1794\":34041,\"1795\":35001,\"1796\":35003,\"1797\":35005,\"1798\":35006,\"1799\":35007,\"1800\":35009,\"1801\":35011,\"1802\":35013,\"1803\":35015,\"1804\":35017,\"1805\":35019,\"1806\":35021,\"1807\":35023,\"1808\":35025,\"1809\":35027,\"1810\":35028,\"1811\":35029,\"1812\":35031,\"1813\":35033,\"1814\":35035,\"1815\":35037,\"1816\":35039,\"1817\":35041,\"1818\":35043,\"1819\":35045,\"1820\":35047,\"1821\":35049,\"1822\":35051,\"1823\":35053,\"1824\":35055,\"1825\":35057,\"1826\":35059,\"1827\":35061,\"1828\":36001,\"1829\":36003,\"1830\":36005,\"1831\":36007,\"1832\":36009,\"1833\":36011,\"1834\":36013,\"1835\":36015,\"1836\":36017,\"1837\":36019,\"1838\":36021,\"1839\":36023,\"1840\":36025,\"1841\":36027,\"1842\":36029,\"1843\":36031,\"1844\":36033,\"1845\":36035,\"1846\":36037,\"1847\":36039,\"1848\":36041,\"1849\":36043,\"1850\":36045,\"1851\":36047,\"1852\":36049,\"1853\":36051,\"1854\":36053,\"1855\":36055,\"1856\":36057,\"1857\":36059,\"1858\":36061,\"1859\":36063,\"1860\":36065,\"1861\":36067,\"1862\":36069,\"1863\":36071,\"1864\":36073,\"1865\":36075,\"1866\":36077,\"1867\":36079,\"1868\":36081,\"1869\":36083,\"1870\":36085,\"1871\":36087,\"1872\":36089,\"1873\":36091,\"1874\":36093,\"1875\":36095,\"1876\":36097,\"1877\":36099,\"1878\":36101,\"1879\":36103,\"1880\":36105,\"1881\":36107,\"1882\":36109,\"1883\":36111,\"1884\":36113,\"1885\":36115,\"1886\":36117,\"1887\":36119,\"1888\":36121,\"1889\":36123,\"1890\":37001,\"1891\":37003,\"1892\":37005,\"1893\":37007,\"1894\":37009,\"1895\":37011,\"1896\":37013,\"1897\":37015,\"1898\":37017,\"1899\":37019,\"1900\":37021,\"1901\":37023,\"1902\":37025,\"1903\":37027,\"1904\":37029,\"1905\":37031,\"1906\":37033,\"1907\":37035,\"1908\":37037,\"1909\":37039,\"1910\":37041,\"1911\":37043,\"1912\":37045,\"1913\":37047,\"1914\":37049,\"1915\":37051,\"1916\":37053,\"1917\":37055,\"1918\":37057,\"1919\":37059,\"1920\":37061,\"1921\":37063,\"1922\":37065,\"1923\":37067,\"1924\":37069,\"1925\":37071,\"1926\":37073,\"1927\":37075,\"1928\":37077,\"1929\":37079,\"1930\":37081,\"1931\":37083,\"1932\":37085,\"1933\":37087,\"1934\":37089,\"1935\":37091,\"1936\":37093,\"1937\":37095,\"1938\":37097,\"1939\":37099,\"1940\":37101,\"1941\":37103,\"1942\":37105,\"1943\":37107,\"1944\":37109,\"1945\":37111,\"1946\":37113,\"1947\":37115,\"1948\":37117,\"1949\":37119,\"1950\":37121,\"1951\":37123,\"1952\":37125,\"1953\":37127,\"1954\":37129,\"1955\":37131,\"1956\":37133,\"1957\":37135,\"1958\":37137,\"1959\":37139,\"1960\":37141,\"1961\":37143,\"1962\":37145,\"1963\":37147,\"1964\":37149,\"1965\":37151,\"1966\":37153,\"1967\":37155,\"1968\":37157,\"1969\":37159,\"1970\":37161,\"1971\":37163,\"1972\":37165,\"1973\":37167,\"1974\":37169,\"1975\":37171,\"1976\":37173,\"1977\":37175,\"1978\":37177,\"1979\":37179,\"1980\":37181,\"1981\":37183,\"1982\":37185,\"1983\":37187,\"1984\":37189,\"1985\":37191,\"1986\":37193,\"1987\":37195,\"1988\":37197,\"1989\":37199,\"1990\":38001,\"1991\":38003,\"1992\":38005,\"1993\":38007,\"1994\":38009,\"1995\":38011,\"1996\":38013,\"1997\":38015,\"1998\":38017,\"1999\":38019,\"2000\":38021,\"2001\":38023,\"2002\":38025,\"2003\":38027,\"2004\":38029,\"2005\":38031,\"2006\":38033,\"2007\":38035,\"2008\":38037,\"2009\":38039,\"2010\":38041,\"2011\":38043,\"2012\":38045,\"2013\":38047,\"2014\":38049,\"2015\":38051,\"2016\":38053,\"2017\":38055,\"2018\":38057,\"2019\":38059,\"2020\":38061,\"2021\":38063,\"2022\":38065,\"2023\":38067,\"2024\":38069,\"2025\":38071,\"2026\":38073,\"2027\":38075,\"2028\":38077,\"2029\":38079,\"2030\":38081,\"2031\":38083,\"2032\":38085,\"2033\":38087,\"2034\":38089,\"2035\":38091,\"2036\":38093,\"2037\":38095,\"2038\":38097,\"2039\":38099,\"2040\":38101,\"2041\":38103,\"2042\":38105,\"2043\":39001,\"2044\":39003,\"2045\":39005,\"2046\":39007,\"2047\":39009,\"2048\":39011,\"2049\":39013,\"2050\":39015,\"2051\":39017,\"2052\":39019,\"2053\":39021,\"2054\":39023,\"2055\":39025,\"2056\":39027,\"2057\":39029,\"2058\":39031,\"2059\":39033,\"2060\":39035,\"2061\":39037,\"2062\":39039,\"2063\":39041,\"2064\":39043,\"2065\":39045,\"2066\":39047,\"2067\":39049,\"2068\":39051,\"2069\":39053,\"2070\":39055,\"2071\":39057,\"2072\":39059,\"2073\":39061,\"2074\":39063,\"2075\":39065,\"2076\":39067,\"2077\":39069,\"2078\":39071,\"2079\":39073,\"2080\":39075,\"2081\":39077,\"2082\":39079,\"2083\":39081,\"2084\":39083,\"2085\":39085,\"2086\":39087,\"2087\":39089,\"2088\":39091,\"2089\":39093,\"2090\":39095,\"2091\":39097,\"2092\":39099,\"2093\":39101,\"2094\":39103,\"2095\":39105,\"2096\":39107,\"2097\":39109,\"2098\":39111,\"2099\":39113,\"2100\":39115,\"2101\":39117,\"2102\":39119,\"2103\":39121,\"2104\":39123,\"2105\":39125,\"2106\":39127,\"2107\":39129,\"2108\":39131,\"2109\":39133,\"2110\":39135,\"2111\":39137,\"2112\":39139,\"2113\":39141,\"2114\":39143,\"2115\":39145,\"2116\":39147,\"2117\":39149,\"2118\":39151,\"2119\":39153,\"2120\":39155,\"2121\":39157,\"2122\":39159,\"2123\":39161,\"2124\":39163,\"2125\":39165,\"2126\":39167,\"2127\":39169,\"2128\":39171,\"2129\":39173,\"2130\":39175,\"2131\":40001,\"2132\":40003,\"2133\":40005,\"2134\":40007,\"2135\":40009,\"2136\":40011,\"2137\":40013,\"2138\":40015,\"2139\":40017,\"2140\":40019,\"2141\":40021,\"2142\":40023,\"2143\":40025,\"2144\":40027,\"2145\":40029,\"2146\":40031,\"2147\":40033,\"2148\":40035,\"2149\":40037,\"2150\":40039,\"2151\":40041,\"2152\":40043,\"2153\":40045,\"2154\":40047,\"2155\":40049,\"2156\":40051,\"2157\":40053,\"2158\":40055,\"2159\":40057,\"2160\":40059,\"2161\":40061,\"2162\":40063,\"2163\":40065,\"2164\":40067,\"2165\":40069,\"2166\":40071,\"2167\":40073,\"2168\":40075,\"2169\":40077,\"2170\":40079,\"2171\":40081,\"2172\":40083,\"2173\":40085,\"2174\":40087,\"2175\":40089,\"2176\":40091,\"2177\":40093,\"2178\":40095,\"2179\":40097,\"2180\":40099,\"2181\":40101,\"2182\":40103,\"2183\":40105,\"2184\":40107,\"2185\":40109,\"2186\":40111,\"2187\":40113,\"2188\":40115,\"2189\":40117,\"2190\":40119,\"2191\":40121,\"2192\":40123,\"2193\":40125,\"2194\":40127,\"2195\":40129,\"2196\":40131,\"2197\":40133,\"2198\":40135,\"2199\":40137,\"2200\":40139,\"2201\":40141,\"2202\":40143,\"2203\":40145,\"2204\":40147,\"2205\":40149,\"2206\":40151,\"2207\":40153,\"2208\":41001,\"2209\":41003,\"2210\":41005,\"2211\":41007,\"2212\":41009,\"2213\":41011,\"2214\":41013,\"2215\":41015,\"2216\":41017,\"2217\":41019,\"2218\":41021,\"2219\":41023,\"2220\":41025,\"2221\":41027,\"2222\":41029,\"2223\":41031,\"2224\":41033,\"2225\":41035,\"2226\":41037,\"2227\":41039,\"2228\":41041,\"2229\":41043,\"2230\":41045,\"2231\":41047,\"2232\":41049,\"2233\":41051,\"2234\":41053,\"2235\":41055,\"2236\":41057,\"2237\":41059,\"2238\":41061,\"2239\":41063,\"2240\":41065,\"2241\":41067,\"2242\":41069,\"2243\":41071,\"2244\":42001,\"2245\":42003,\"2246\":42005,\"2247\":42007,\"2248\":42009,\"2249\":42011,\"2250\":42013,\"2251\":42015,\"2252\":42017,\"2253\":42019,\"2254\":42021,\"2255\":42023,\"2256\":42025,\"2257\":42027,\"2258\":42029,\"2259\":42031,\"2260\":42033,\"2261\":42035,\"2262\":42037,\"2263\":42039,\"2264\":42041,\"2265\":42043,\"2266\":42045,\"2267\":42047,\"2268\":42049,\"2269\":42051,\"2270\":42053,\"2271\":42055,\"2272\":42057,\"2273\":42059,\"2274\":42061,\"2275\":42063,\"2276\":42065,\"2277\":42067,\"2278\":42069,\"2279\":42071,\"2280\":42073,\"2281\":42075,\"2282\":42077,\"2283\":42079,\"2284\":42081,\"2285\":42083,\"2286\":42085,\"2287\":42087,\"2288\":42089,\"2289\":42091,\"2290\":42093,\"2291\":42095,\"2292\":42097,\"2293\":42099,\"2294\":42101,\"2295\":42103,\"2296\":42105,\"2297\":42107,\"2298\":42109,\"2299\":42111,\"2300\":42113,\"2301\":42115,\"2302\":42117,\"2303\":42119,\"2304\":42121,\"2305\":42123,\"2306\":42125,\"2307\":42127,\"2308\":42129,\"2309\":42131,\"2310\":42133,\"2311\":44001,\"2312\":44003,\"2313\":44005,\"2314\":44007,\"2315\":44009,\"2316\":45001,\"2317\":45003,\"2318\":45005,\"2319\":45007,\"2320\":45009,\"2321\":45011,\"2322\":45013,\"2323\":45015,\"2324\":45017,\"2325\":45019,\"2326\":45021,\"2327\":45023,\"2328\":45025,\"2329\":45027,\"2330\":45029,\"2331\":45031,\"2332\":45033,\"2333\":45035,\"2334\":45037,\"2335\":45039,\"2336\":45041,\"2337\":45043,\"2338\":45045,\"2339\":45047,\"2340\":45049,\"2341\":45051,\"2342\":45053,\"2343\":45055,\"2344\":45057,\"2345\":45059,\"2346\":45061,\"2347\":45063,\"2348\":45065,\"2349\":45067,\"2350\":45069,\"2351\":45071,\"2352\":45073,\"2353\":45075,\"2354\":45077,\"2355\":45079,\"2356\":45081,\"2357\":45083,\"2358\":45085,\"2359\":45087,\"2360\":45089,\"2361\":45091,\"2362\":46003,\"2363\":46005,\"2364\":46007,\"2365\":46009,\"2366\":46011,\"2367\":46013,\"2368\":46015,\"2369\":46017,\"2370\":46019,\"2371\":46021,\"2372\":46023,\"2373\":46025,\"2374\":46027,\"2375\":46029,\"2376\":46031,\"2377\":46033,\"2378\":46035,\"2379\":46037,\"2380\":46039,\"2381\":46041,\"2382\":46043,\"2383\":46045,\"2384\":46047,\"2385\":46049,\"2386\":46051,\"2387\":46053,\"2388\":46055,\"2389\":46057,\"2390\":46059,\"2391\":46061,\"2392\":46063,\"2393\":46065,\"2394\":46067,\"2395\":46069,\"2396\":46071,\"2397\":46073,\"2398\":46075,\"2399\":46077,\"2400\":46079,\"2401\":46081,\"2402\":46083,\"2403\":46085,\"2404\":46087,\"2405\":46089,\"2406\":46091,\"2407\":46093,\"2408\":46095,\"2409\":46097,\"2410\":46099,\"2411\":46101,\"2412\":46103,\"2413\":46105,\"2414\":46107,\"2415\":46109,\"2416\":46111,\"2417\":46113,\"2418\":46115,\"2419\":46117,\"2420\":46119,\"2421\":46121,\"2422\":46123,\"2423\":46125,\"2424\":46127,\"2425\":46129,\"2426\":46135,\"2427\":46137,\"2428\":47001,\"2429\":47003,\"2430\":47005,\"2431\":47007,\"2432\":47009,\"2433\":47011,\"2434\":47013,\"2435\":47015,\"2436\":47017,\"2437\":47019,\"2438\":47021,\"2439\":47023,\"2440\":47025,\"2441\":47027,\"2442\":47029,\"2443\":47031,\"2444\":47033,\"2445\":47035,\"2446\":47037,\"2447\":47039,\"2448\":47041,\"2449\":47043,\"2450\":47045,\"2451\":47047,\"2452\":47049,\"2453\":47051,\"2454\":47053,\"2455\":47055,\"2456\":47057,\"2457\":47059,\"2458\":47061,\"2459\":47063,\"2460\":47065,\"2461\":47067,\"2462\":47069,\"2463\":47071,\"2464\":47073,\"2465\":47075,\"2466\":47077,\"2467\":47079,\"2468\":47081,\"2469\":47083,\"2470\":47085,\"2471\":47087,\"2472\":47089,\"2473\":47091,\"2474\":47093,\"2475\":47095,\"2476\":47097,\"2477\":47099,\"2478\":47101,\"2479\":47103,\"2480\":47105,\"2481\":47107,\"2482\":47109,\"2483\":47111,\"2484\":47113,\"2485\":47115,\"2486\":47117,\"2487\":47119,\"2488\":47121,\"2489\":47123,\"2490\":47125,\"2491\":47127,\"2492\":47129,\"2493\":47131,\"2494\":47133,\"2495\":47135,\"2496\":47137,\"2497\":47139,\"2498\":47141,\"2499\":47143,\"2500\":47145,\"2501\":47147,\"2502\":47149,\"2503\":47151,\"2504\":47153,\"2505\":47155,\"2506\":47157,\"2507\":47159,\"2508\":47161,\"2509\":47163,\"2510\":47165,\"2511\":47167,\"2512\":47169,\"2513\":47171,\"2514\":47173,\"2515\":47175,\"2516\":47177,\"2517\":47179,\"2518\":47181,\"2519\":47183,\"2520\":47185,\"2521\":47187,\"2522\":47189,\"2523\":48001,\"2524\":48003,\"2525\":48005,\"2526\":48007,\"2527\":48009,\"2528\":48011,\"2529\":48013,\"2530\":48015,\"2531\":48017,\"2532\":48019,\"2533\":48021,\"2534\":48023,\"2535\":48025,\"2536\":48027,\"2537\":48029,\"2538\":48031,\"2539\":48033,\"2540\":48035,\"2541\":48037,\"2542\":48039,\"2543\":48041,\"2544\":48043,\"2545\":48045,\"2546\":48047,\"2547\":48049,\"2548\":48051,\"2549\":48053,\"2550\":48055,\"2551\":48057,\"2552\":48059,\"2553\":48061,\"2554\":48063,\"2555\":48065,\"2556\":48067,\"2557\":48069,\"2558\":48071,\"2559\":48073,\"2560\":48075,\"2561\":48077,\"2562\":48079,\"2563\":48081,\"2564\":48083,\"2565\":48085,\"2566\":48087,\"2567\":48089,\"2568\":48091,\"2569\":48093,\"2570\":48095,\"2571\":48097,\"2572\":48099,\"2573\":48101,\"2574\":48103,\"2575\":48105,\"2576\":48107,\"2577\":48109,\"2578\":48111,\"2579\":48113,\"2580\":48115,\"2581\":48117,\"2582\":48119,\"2583\":48121,\"2584\":48123,\"2585\":48125,\"2586\":48127,\"2587\":48129,\"2588\":48131,\"2589\":48133,\"2590\":48135,\"2591\":48137,\"2592\":48139,\"2593\":48141,\"2594\":48143,\"2595\":48145,\"2596\":48147,\"2597\":48149,\"2598\":48151,\"2599\":48153,\"2600\":48155,\"2601\":48157,\"2602\":48159,\"2603\":48161,\"2604\":48163,\"2605\":48165,\"2606\":48167,\"2607\":48169,\"2608\":48171,\"2609\":48173,\"2610\":48175,\"2611\":48177,\"2612\":48179,\"2613\":48181,\"2614\":48183,\"2615\":48185,\"2616\":48187,\"2617\":48189,\"2618\":48191,\"2619\":48193,\"2620\":48195,\"2621\":48197,\"2622\":48199,\"2623\":48201,\"2624\":48203,\"2625\":48205,\"2626\":48207,\"2627\":48209,\"2628\":48211,\"2629\":48213,\"2630\":48215,\"2631\":48217,\"2632\":48219,\"2633\":48221,\"2634\":48223,\"2635\":48225,\"2636\":48227,\"2637\":48229,\"2638\":48231,\"2639\":48233,\"2640\":48235,\"2641\":48237,\"2642\":48239,\"2643\":48241,\"2644\":48243,\"2645\":48245,\"2646\":48247,\"2647\":48249,\"2648\":48251,\"2649\":48253,\"2650\":48255,\"2651\":48257,\"2652\":48259,\"2653\":48261,\"2654\":48263,\"2655\":48265,\"2656\":48267,\"2657\":48269,\"2658\":48271,\"2659\":48273,\"2660\":48275,\"2661\":48277,\"2662\":48279,\"2663\":48281,\"2664\":48283,\"2665\":48285,\"2666\":48287,\"2667\":48289,\"2668\":48291,\"2669\":48293,\"2670\":48295,\"2671\":48297,\"2672\":48299,\"2673\":48301,\"2674\":48303,\"2675\":48305,\"2676\":48307,\"2677\":48309,\"2678\":48311,\"2679\":48313,\"2680\":48315,\"2681\":48317,\"2682\":48319,\"2683\":48321,\"2684\":48323,\"2685\":48325,\"2686\":48327,\"2687\":48329,\"2688\":48331,\"2689\":48333,\"2690\":48335,\"2691\":48337,\"2692\":48339,\"2693\":48341,\"2694\":48343,\"2695\":48345,\"2696\":48347,\"2697\":48349,\"2698\":48351,\"2699\":48353,\"2700\":48355,\"2701\":48357,\"2702\":48359,\"2703\":48361,\"2704\":48363,\"2705\":48365,\"2706\":48367,\"2707\":48369,\"2708\":48371,\"2709\":48373,\"2710\":48375,\"2711\":48377,\"2712\":48379,\"2713\":48381,\"2714\":48383,\"2715\":48385,\"2716\":48387,\"2717\":48389,\"2718\":48391,\"2719\":48393,\"2720\":48395,\"2721\":48397,\"2722\":48399,\"2723\":48401,\"2724\":48403,\"2725\":48405,\"2726\":48407,\"2727\":48409,\"2728\":48411,\"2729\":48413,\"2730\":48415,\"2731\":48417,\"2732\":48419,\"2733\":48421,\"2734\":48423,\"2735\":48425,\"2736\":48427,\"2737\":48429,\"2738\":48431,\"2739\":48433,\"2740\":48435,\"2741\":48437,\"2742\":48439,\"2743\":48441,\"2744\":48443,\"2745\":48445,\"2746\":48447,\"2747\":48449,\"2748\":48451,\"2749\":48453,\"2750\":48455,\"2751\":48457,\"2752\":48459,\"2753\":48461,\"2754\":48463,\"2755\":48465,\"2756\":48467,\"2757\":48469,\"2758\":48471,\"2759\":48473,\"2760\":48475,\"2761\":48477,\"2762\":48479,\"2763\":48481,\"2764\":48483,\"2765\":48485,\"2766\":48487,\"2767\":48489,\"2768\":48491,\"2769\":48493,\"2770\":48495,\"2771\":48497,\"2772\":48499,\"2773\":48501,\"2774\":48503,\"2775\":48505,\"2776\":48507,\"2777\":49001,\"2778\":49003,\"2779\":49005,\"2780\":49007,\"2781\":49009,\"2782\":49011,\"2783\":49013,\"2784\":49015,\"2785\":49017,\"2786\":49019,\"2787\":49021,\"2788\":49023,\"2789\":49025,\"2790\":49027,\"2791\":49029,\"2792\":49031,\"2793\":49033,\"2794\":49035,\"2795\":49037,\"2796\":49039,\"2797\":49041,\"2798\":49043,\"2799\":49045,\"2800\":49047,\"2801\":49049,\"2802\":49051,\"2803\":49053,\"2804\":49055,\"2805\":49057,\"2806\":50001,\"2807\":50003,\"2808\":50005,\"2809\":50007,\"2810\":50009,\"2811\":50011,\"2812\":50013,\"2813\":50015,\"2814\":50017,\"2815\":50019,\"2816\":50021,\"2817\":50023,\"2818\":50025,\"2819\":50027,\"2820\":51001,\"2821\":51003,\"2822\":51005,\"2823\":51007,\"2824\":51009,\"2825\":51011,\"2826\":51013,\"2827\":51015,\"2828\":51017,\"2829\":51019,\"2830\":51021,\"2831\":51023,\"2832\":51025,\"2833\":51027,\"2834\":51029,\"2835\":51031,\"2836\":51033,\"2837\":51035,\"2838\":51036,\"2839\":51037,\"2840\":51041,\"2841\":51043,\"2842\":51045,\"2843\":51047,\"2844\":51049,\"2845\":51051,\"2846\":51053,\"2847\":51057,\"2848\":51059,\"2849\":51061,\"2850\":51063,\"2851\":51065,\"2852\":51067,\"2853\":51069,\"2854\":51071,\"2855\":51073,\"2856\":51075,\"2857\":51077,\"2858\":51079,\"2859\":51081,\"2860\":51083,\"2861\":51085,\"2862\":51087,\"2863\":51089,\"2864\":51091,\"2865\":51093,\"2866\":51095,\"2867\":51097,\"2868\":51099,\"2869\":51101,\"2870\":51103,\"2871\":51105,\"2872\":51107,\"2873\":51109,\"2874\":51111,\"2875\":51113,\"2876\":51115,\"2877\":51117,\"2878\":51119,\"2879\":51121,\"2880\":51125,\"2881\":51127,\"2882\":51131,\"2883\":51133,\"2884\":51135,\"2885\":51137,\"2886\":51139,\"2887\":51141,\"2888\":51143,\"2889\":51145,\"2890\":51147,\"2891\":51149,\"2892\":51153,\"2893\":51155,\"2894\":51157,\"2895\":51159,\"2896\":51161,\"2897\":51163,\"2898\":51165,\"2899\":51167,\"2900\":51169,\"2901\":51171,\"2902\":51173,\"2903\":51175,\"2904\":51177,\"2905\":51179,\"2906\":51181,\"2907\":51183,\"2908\":51185,\"2909\":51187,\"2910\":51191,\"2911\":51193,\"2912\":51195,\"2913\":51197,\"2914\":51199,\"2915\":51510,\"2916\":51515,\"2917\":51520,\"2918\":51530,\"2919\":51540,\"2920\":51550,\"2921\":51570,\"2922\":51580,\"2923\":51590,\"2924\":51595,\"2925\":51600,\"2926\":51610,\"2927\":51620,\"2928\":51630,\"2929\":51640,\"2930\":51650,\"2931\":51660,\"2932\":51670,\"2933\":51678,\"2934\":51680,\"2935\":51683,\"2936\":51685,\"2937\":51690,\"2938\":51700,\"2939\":51710,\"2940\":51720,\"2941\":51730,\"2942\":51735,\"2943\":51740,\"2944\":51750,\"2945\":51760,\"2946\":51770,\"2947\":51775,\"2948\":51790,\"2949\":51800,\"2950\":51810,\"2951\":51820,\"2952\":51830,\"2953\":51840,\"2954\":53001,\"2955\":53003,\"2956\":53005,\"2957\":53007,\"2958\":53009,\"2959\":53011,\"2960\":53013,\"2961\":53015,\"2962\":53017,\"2963\":53019,\"2964\":53021,\"2965\":53023,\"2966\":53025,\"2967\":53027,\"2968\":53029,\"2969\":53031,\"2970\":53033,\"2971\":53035,\"2972\":53037,\"2973\":53039,\"2974\":53041,\"2975\":53043,\"2976\":53045,\"2977\":53047,\"2978\":53049,\"2979\":53051,\"2980\":53053,\"2981\":53055,\"2982\":53057,\"2983\":53059,\"2984\":53061,\"2985\":53063,\"2986\":53065,\"2987\":53067,\"2988\":53069,\"2989\":53071,\"2990\":53073,\"2991\":53075,\"2992\":53077,\"2993\":54001,\"2994\":54003,\"2995\":54005,\"2996\":54007,\"2997\":54009,\"2998\":54011,\"2999\":54013,\"3000\":54015,\"3001\":54017,\"3002\":54019,\"3003\":54021,\"3004\":54023,\"3005\":54025,\"3006\":54027,\"3007\":54029,\"3008\":54031,\"3009\":54033,\"3010\":54035,\"3011\":54037,\"3012\":54039,\"3013\":54041,\"3014\":54043,\"3015\":54045,\"3016\":54047,\"3017\":54049,\"3018\":54051,\"3019\":54053,\"3020\":54055,\"3021\":54057,\"3022\":54059,\"3023\":54061,\"3024\":54063,\"3025\":54065,\"3026\":54067,\"3027\":54069,\"3028\":54071,\"3029\":54073,\"3030\":54075,\"3031\":54077,\"3032\":54079,\"3033\":54081,\"3034\":54083,\"3035\":54085,\"3036\":54087,\"3037\":54089,\"3038\":54091,\"3039\":54093,\"3040\":54095,\"3041\":54097,\"3042\":54099,\"3043\":54101,\"3044\":54103,\"3045\":54105,\"3046\":54107,\"3047\":54109,\"3048\":55001,\"3049\":55003,\"3050\":55005,\"3051\":55007,\"3052\":55009,\"3053\":55011,\"3054\":55013,\"3055\":55015,\"3056\":55017,\"3057\":55019,\"3058\":55021,\"3059\":55023,\"3060\":55025,\"3061\":55027,\"3062\":55029,\"3063\":55031,\"3064\":55033,\"3065\":55035,\"3066\":55037,\"3067\":55039,\"3068\":55041,\"3069\":55043,\"3070\":55045,\"3071\":55047,\"3072\":55049,\"3073\":55051,\"3074\":55053,\"3075\":55055,\"3076\":55057,\"3077\":55059,\"3078\":55061,\"3079\":55063,\"3080\":55065,\"3081\":55067,\"3082\":55069,\"3083\":55071,\"3084\":55073,\"3085\":55075,\"3086\":55077,\"3087\":55078,\"3088\":55079,\"3089\":55081,\"3090\":55083,\"3091\":55085,\"3092\":55087,\"3093\":55089,\"3094\":55091,\"3095\":55093,\"3096\":55095,\"3097\":55097,\"3098\":55099,\"3099\":55101,\"3100\":55103,\"3101\":55105,\"3102\":55107,\"3103\":55109,\"3104\":55111,\"3105\":55113,\"3106\":55115,\"3107\":55117,\"3108\":55119,\"3109\":55121,\"3110\":55123,\"3111\":55125,\"3112\":55127,\"3113\":55129,\"3114\":55131,\"3115\":55133,\"3116\":55135,\"3117\":55137,\"3118\":55139,\"3119\":55141,\"3120\":56001,\"3121\":56003,\"3122\":56005,\"3123\":56007,\"3124\":56009,\"3125\":56011,\"3126\":56013,\"3127\":56015,\"3128\":56017,\"3129\":56019,\"3130\":56021,\"3131\":56023,\"3132\":56025,\"3133\":56027,\"3134\":56029,\"3135\":56031,\"3136\":56033,\"3137\":56035,\"3138\":56037,\"3139\":56039,\"3140\":56041,\"3141\":56043,\"3142\":56045,\"3143\":60010,\"3144\":60020,\"3145\":60030,\"3146\":60040,\"3147\":60050,\"3148\":66010,\"3149\":69085,\"3150\":69100,\"3151\":69110,\"3152\":69120,\"3153\":72001,\"3154\":72003,\"3155\":72005,\"3156\":72007,\"3157\":72009,\"3158\":72011,\"3159\":72013,\"3160\":72015,\"3161\":72017,\"3162\":72019,\"3163\":72021,\"3164\":72023,\"3165\":72025,\"3166\":72027,\"3167\":72029,\"3168\":72031,\"3169\":72033,\"3170\":72035,\"3171\":72037,\"3172\":72039,\"3173\":72041,\"3174\":72043,\"3175\":72045,\"3176\":72047,\"3177\":72049,\"3178\":72051,\"3179\":72053,\"3180\":72054,\"3181\":72055,\"3182\":72057,\"3183\":72059,\"3184\":72061,\"3185\":72063,\"3186\":72065,\"3187\":72067,\"3188\":72069,\"3189\":72071,\"3190\":72073,\"3191\":72075,\"3192\":72077,\"3193\":72079,\"3194\":72081,\"3195\":72083,\"3196\":72085,\"3197\":72087,\"3198\":72089,\"3199\":72091,\"3200\":72093,\"3201\":72095,\"3202\":72097,\"3203\":72099,\"3204\":72101,\"3205\":72103,\"3206\":72105,\"3207\":72107,\"3208\":72109,\"3209\":72111,\"3210\":72113,\"3211\":72115,\"3212\":72117,\"3213\":72119,\"3214\":72121,\"3215\":72123,\"3216\":72125,\"3217\":72127,\"3218\":72129,\"3219\":72131,\"3220\":72133,\"3221\":72135,\"3222\":72137,\"3223\":72139,\"3224\":72141,\"3225\":72143,\"3226\":72145,\"3227\":72147,\"3228\":72149,\"3229\":72151,\"3230\":72153,\"3231\":74300,\"3232\":78010,\"3233\":78020,\"3234\":78030}}'"
      ]
     },
     "execution_count": 158,
     "metadata": {},
     "output_type": "execute_result"
    }
   ],
   "source": [
    "q.to_json()"
   ]
  },
  {
   "cell_type": "code",
   "execution_count": 180,
   "metadata": {
    "collapsed": false
   },
   "outputs": [],
   "source": [
    "q = open('example.txt')"
   ]
  },
  {
   "cell_type": "code",
   "execution_count": 181,
   "metadata": {
    "collapsed": false
   },
   "outputs": [],
   "source": [
    "data = q.readlines()"
   ]
  },
  {
   "cell_type": "code",
   "execution_count": 182,
   "metadata": {
    "collapsed": false
   },
   "outputs": [
    {
     "data": {
      "text/plain": [
       "['hello!\\n',\n",
       " 'I am in a text file\\n',\n",
       " 'plaintext writing\\n',\n",
       " '254\\n',\n",
       " 'this is the end of my file\\n']"
      ]
     },
     "execution_count": 182,
     "metadata": {},
     "output_type": "execute_result"
    }
   ],
   "source": [
    "data "
   ]
  },
  {
   "cell_type": "code",
   "execution_count": 183,
   "metadata": {
    "collapsed": true
   },
   "outputs": [],
   "source": [
    "data2 = [st.strip('\\n') for st in data]"
   ]
  },
  {
   "cell_type": "code",
   "execution_count": null,
   "metadata": {
    "collapsed": true
   },
   "outputs": [],
   "source": [
    "data3 = [st.strip()]"
   ]
  },
  {
   "cell_type": "code",
   "execution_count": 172,
   "metadata": {
    "collapsed": true
   },
   "outputs": [],
   "source": [
    "import csv "
   ]
  },
  {
   "cell_type": "code",
   "execution_count": 173,
   "metadata": {
    "collapsed": true
   },
   "outputs": [],
   "source": [
    "import random"
   ]
  },
  {
   "cell_type": "code",
   "execution_count": 176,
   "metadata": {
    "collapsed": false
   },
   "outputs": [
    {
     "data": {
      "text/plain": [
       "1"
      ]
     },
     "execution_count": 176,
     "metadata": {},
     "output_type": "execute_result"
    }
   ],
   "source": [
    "random.randint(0,1)"
   ]
  },
  {
   "cell_type": "code",
   "execution_count": null,
   "metadata": {
    "collapsed": true
   },
   "outputs": [],
   "source": []
  }
 ],
 "metadata": {
  "kernelspec": {
   "display_name": "Python 2",
   "language": "python",
   "name": "python2"
  },
  "language_info": {
   "codemirror_mode": {
    "name": "ipython",
    "version": 2
   },
   "file_extension": ".py",
   "mimetype": "text/x-python",
   "name": "python",
   "nbconvert_exporter": "python",
   "pygments_lexer": "ipython2",
   "version": "2.7.9"
  }
 },
 "nbformat": 4,
 "nbformat_minor": 0
}
