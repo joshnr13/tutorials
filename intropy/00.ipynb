{
 "cells": [
  {
   "cell_type": "markdown",
   "metadata": {},
   "source": [
    "# Review, Installation, and Hashables"
   ]
  },
  {
   "cell_type": "markdown",
   "metadata": {},
   "source": [
    "This notebook is for the Intro to Python for GIS workshop 1 at Arizona State, May 4-8."
   ]
  },
  {
   "cell_type": "markdown",
   "metadata": {},
   "source": [
    "## Review"
   ]
  },
  {
   "cell_type": "markdown",
   "metadata": {},
   "source": [
    "Type text that gets rendered into html"
   ]
  },
  {
   "cell_type": "markdown",
   "metadata": {},
   "source": [
    "The python interpreter is a *command line interface* to your computer. Python is a *programming language* that you can use to instruct your computer to do things. "
   ]
  },
  {
   "cell_type": "code",
   "execution_count": 2,
   "metadata": {
    "collapsed": false
   },
   "outputs": [
    {
     "data": {
      "text/plain": [
       "'workshop'"
      ]
     },
     "execution_count": 2,
     "metadata": {},
     "output_type": "execute_result"
    }
   ],
   "source": [
    "'work' + 'shop'"
   ]
  },
  {
   "cell_type": "markdown",
   "metadata": {},
   "source": [
    "When the interpreter doesn't understand your directions, it will tell you:"
   ]
  },
  {
   "cell_type": "code",
   "execution_count": 3,
   "metadata": {
    "collapsed": false
   },
   "outputs": [
    {
     "ename": "NameError",
     "evalue": "name 'apple' is not defined",
     "output_type": "error",
     "traceback": [
      "\u001b[1;31m---------------------------------------------------------------------------\u001b[0m",
      "\u001b[1;31mNameError\u001b[0m                                 Traceback (most recent call last)",
      "\u001b[1;32m<ipython-input-3-97527f7a564b>\u001b[0m in \u001b[0;36m<module>\u001b[1;34m()\u001b[0m\n\u001b[1;32m----> 1\u001b[1;33m \u001b[1;36m8\u001b[0m \u001b[1;33m+\u001b[0m \u001b[0mapple\u001b[0m\u001b[1;33m\u001b[0m\u001b[0m\n\u001b[0m",
      "\u001b[1;31mNameError\u001b[0m: name 'apple' is not defined"
     ]
    }
   ],
   "source": [
    "8 + apple"
   ]
  },
  {
   "cell_type": "code",
   "execution_count": 6,
   "metadata": {
    "collapsed": false
   },
   "outputs": [
    {
     "ename": "KeyboardInterrupt",
     "evalue": "",
     "output_type": "error",
     "traceback": [
      "\u001b[1;31m---------------------------------------------------------------------------\u001b[0m",
      "\u001b[1;31mKeyboardInterrupt\u001b[0m                         Traceback (most recent call last)",
      "\u001b[1;32m<ipython-input-6-414101c1d275>\u001b[0m in \u001b[0;36m<module>\u001b[1;34m()\u001b[0m\n\u001b[0;32m      1\u001b[0m \u001b[0ma\u001b[0m \u001b[1;33m=\u001b[0m \u001b[1;36m0\u001b[0m\u001b[1;33m\u001b[0m\u001b[0m\n\u001b[0;32m      2\u001b[0m \u001b[1;32mwhile\u001b[0m \u001b[0mTrue\u001b[0m\u001b[1;33m:\u001b[0m\u001b[1;33m\u001b[0m\u001b[0m\n\u001b[1;32m----> 3\u001b[1;33m     \u001b[0ma\u001b[0m \u001b[1;33m+=\u001b[0m \u001b[1;36m2\u001b[0m\u001b[1;33m\u001b[0m\u001b[0m\n\u001b[0m",
      "\u001b[1;31mKeyboardInterrupt\u001b[0m: "
     ]
    }
   ],
   "source": [
    "a = 0\n",
    "while True:\n",
    "    a += 2"
   ]
  },
  {
   "cell_type": "code",
   "execution_count": 7,
   "metadata": {
    "collapsed": false
   },
   "outputs": [
    {
     "data": {
      "text/plain": [
       "226212476"
      ]
     },
     "execution_count": 7,
     "metadata": {},
     "output_type": "execute_result"
    }
   ],
   "source": [
    "a"
   ]
  },
  {
   "cell_type": "markdown",
   "metadata": {},
   "source": [
    "Following these errors is critical. Your workflows as GIS professionals usually will involve tons of:\n",
    "\n",
    "1. interactive interpreter sessions\n",
    "2. troubleshooting\n",
    "\n",
    "It takes a long time using and understanding python to pop out multiple lines of code that does exactly what you want it to do without generating any errors along the way. Thus, don't look at the tracebacks as failures, look at them as ways to fix your ambiguities. "
   ]
  },
  {
   "cell_type": "markdown",
   "metadata": {},
   "source": [
    "###Problem : Following tracebacks"
   ]
  },
  {
   "cell_type": "markdown",
   "metadata": {},
   "source": [
    "This is some real code to read in some comma separated value data and look at its header. Why is it wrong, and can you fix it?"
   ]
  },
  {
   "cell_type": "code",
   "execution_count": 15,
   "metadata": {
    "collapsed": false
   },
   "outputs": [
    {
     "data": {
      "text/plain": [
       "['WKT',\n",
       " 'NAME',\n",
       " 'STATE_NAME',\n",
       " 'STATE_FIPS',\n",
       " 'CNTY_FIPS',\n",
       " 'FIPS',\n",
       " 'FIPSNO',\n",
       " 'HR7984',\n",
       " 'HR8488',\n",
       " 'HR8893',\n",
       " 'HC7984',\n",
       " 'HC8488',\n",
       " 'HC8893',\n",
       " 'PO7984',\n",
       " 'PO8488',\n",
       " 'PO8893',\n",
       " 'PE77',\n",
       " 'PE82',\n",
       " 'PE87',\n",
       " 'RDAC80',\n",
       " 'RDAC85',\n",
       " 'RDAC90']"
      ]
     },
     "execution_count": 15,
     "metadata": {},
     "output_type": "execute_result"
    }
   ],
   "source": [
    "import pysal as ps\n",
    "fp = ps.examples.get_path('stl_hom.csv')\n",
    "data = ps.open(fp)\n",
    "data.header"
   ]
  },
  {
   "cell_type": "code",
   "execution_count": 9,
   "metadata": {
    "collapsed": false,
    "scrolled": true
   },
   "outputs": [
    {
     "data": {
      "text/plain": [
       "['FORMATS',\n",
       " 'MODES',\n",
       " 'READ_MODES',\n",
       " '_By_Col',\n",
       " '_By_Row',\n",
       " '_FileIO__getIds',\n",
       " '_FileIO__ids',\n",
       " '_FileIO__rIds',\n",
       " '_FileIO__read',\n",
       " '_FileIO__registry',\n",
       " '_FileIO__setIds',\n",
       " '__class__',\n",
       " '__delattr__',\n",
       " '__dict__',\n",
       " '__doc__',\n",
       " '__format__',\n",
       " '__getattribute__',\n",
       " '__getitem__',\n",
       " '__hash__',\n",
       " '__init__',\n",
       " '__iter__',\n",
       " '__len__',\n",
       " '__metaclass__',\n",
       " '__module__',\n",
       " '__new__',\n",
       " '__reduce__',\n",
       " '__reduce_ex__',\n",
       " '__repr__',\n",
       " '__setattr__',\n",
       " '__sizeof__',\n",
       " '__str__',\n",
       " '__subclasshook__',\n",
       " '__weakref__',\n",
       " '_cast',\n",
       " '_complain_ifclosed',\n",
       " '_csvWrapper__idx',\n",
       " '_csvWrapper__len',\n",
       " '_determineHeader',\n",
       " '_determineSpec',\n",
       " '_get_col',\n",
       " '_open',\n",
       " '_read',\n",
       " '_register',\n",
       " '_spec',\n",
       " 'by_col',\n",
       " 'by_col_array',\n",
       " 'by_row',\n",
       " 'cast',\n",
       " 'check',\n",
       " 'close',\n",
       " 'closed',\n",
       " 'data',\n",
       " 'dataObj',\n",
       " 'dataPath',\n",
       " 'fileObj',\n",
       " 'flush',\n",
       " 'get',\n",
       " 'getType',\n",
       " 'header',\n",
       " 'ids',\n",
       " 'mode',\n",
       " 'next',\n",
       " 'open',\n",
       " 'pos',\n",
       " 'rIds',\n",
       " 'read',\n",
       " 'seek',\n",
       " 'tell',\n",
       " 'truncate',\n",
       " 'write']"
      ]
     },
     "execution_count": 9,
     "metadata": {},
     "output_type": "execute_result"
    }
   ],
   "source": [
    "data."
   ]
  },
  {
   "cell_type": "markdown",
   "metadata": {},
   "source": [
    "This function is a classic programming exercise. It should print 'fizz' when a number is divisible by 3, 'buzz' when a number is divisible by 5, and 'fizzbuzz' if the number is divisible by both 3 and 5, for some range of numbers in the input. \n",
    "\n",
    "1. Fix the function\n",
    "2. Can the function be modified so that it doesn't 'fizzbuzz' when i = 0?"
   ]
  },
  {
   "cell_type": "code",
   "execution_count": 25,
   "metadata": {
    "collapsed": false,
    "scrolled": true
   },
   "outputs": [
    {
     "name": "stdout",
     "output_type": "stream",
     "text": [
      "fizz 3\n",
      "buzz 5\n",
      "fizz 6\n",
      "fizz 9\n",
      "buzz 10\n",
      "fizz 12\n",
      "fizzbuzz 15\n",
      "fizz 18\n",
      "buzz 20\n",
      "fizz 21\n",
      "fizz 24\n",
      "buzz 25\n",
      "fizz 27\n",
      "fizzbuzz 30\n",
      "fizz 33\n",
      "buzz 35\n",
      "fizz 36\n",
      "fizz 39\n",
      "buzz 40\n",
      "fizz 42\n",
      "fizzbuzz 45\n",
      "fizz 48\n",
      "buzz 50\n",
      "fizz 51\n",
      "fizz 54\n",
      "buzz 55\n",
      "fizz 57\n",
      "fizzbuzz 60\n",
      "fizz 63\n",
      "buzz 65\n",
      "fizz 66\n",
      "fizz 69\n",
      "buzz 70\n",
      "fizz 72\n",
      "fizzbuzz 75\n",
      "fizz 78\n",
      "buzz 80\n",
      "fizz 81\n",
      "fizz 84\n",
      "buzz 85\n",
      "fizz 87\n",
      "fizzbuzz 90\n",
      "fizz 93\n",
      "buzz 95\n",
      "fizz 96\n",
      "fizz 99\n"
     ]
    }
   ],
   "source": [
    "for i in range(1,100):\n",
    "    if i == 0:\n",
    "        #print 'start'\n",
    "        pass\n",
    "    elif i % 15 == 0:\n",
    "        print 'fizzbuzz', i\n",
    "    elif i % 5 == 0:\n",
    "        print 'buzz', i\n",
    "    elif i % 3 == 0:\n",
    "        print 'fizz', i"
   ]
  },
  {
   "cell_type": "code",
   "execution_count": 21,
   "metadata": {
    "collapsed": false,
    "scrolled": true
   },
   "outputs": [
    {
     "data": {
      "text/plain": [
       "[0,\n",
       " 1,\n",
       " 2,\n",
       " 3,\n",
       " 4,\n",
       " 5,\n",
       " 6,\n",
       " 7,\n",
       " 8,\n",
       " 9,\n",
       " 10,\n",
       " 11,\n",
       " 12,\n",
       " 13,\n",
       " 14,\n",
       " 15,\n",
       " 16,\n",
       " 17,\n",
       " 18,\n",
       " 19,\n",
       " 20,\n",
       " 21,\n",
       " 22,\n",
       " 23,\n",
       " 24,\n",
       " 25,\n",
       " 26,\n",
       " 27,\n",
       " 28,\n",
       " 29,\n",
       " 30,\n",
       " 31,\n",
       " 32,\n",
       " 33,\n",
       " 34,\n",
       " 35,\n",
       " 36,\n",
       " 37,\n",
       " 38,\n",
       " 39,\n",
       " 40,\n",
       " 41,\n",
       " 42,\n",
       " 43,\n",
       " 44,\n",
       " 45,\n",
       " 46,\n",
       " 47,\n",
       " 48,\n",
       " 49,\n",
       " 50,\n",
       " 51,\n",
       " 52,\n",
       " 53,\n",
       " 54,\n",
       " 55,\n",
       " 56,\n",
       " 57,\n",
       " 58,\n",
       " 59,\n",
       " 60,\n",
       " 61,\n",
       " 62,\n",
       " 63,\n",
       " 64,\n",
       " 65,\n",
       " 66,\n",
       " 67,\n",
       " 68,\n",
       " 69,\n",
       " 70,\n",
       " 71,\n",
       " 72,\n",
       " 73,\n",
       " 74,\n",
       " 75,\n",
       " 76,\n",
       " 77,\n",
       " 78,\n",
       " 79,\n",
       " 80,\n",
       " 81,\n",
       " 82,\n",
       " 83,\n",
       " 84,\n",
       " 85,\n",
       " 86,\n",
       " 87,\n",
       " 88,\n",
       " 89,\n",
       " 90,\n",
       " 91,\n",
       " 92,\n",
       " 93,\n",
       " 94,\n",
       " 95,\n",
       " 96,\n",
       " 97,\n",
       " 98,\n",
       " 99]"
      ]
     },
     "execution_count": 21,
     "metadata": {},
     "output_type": "execute_result"
    }
   ],
   "source": [
    "range(100)"
   ]
  },
  {
   "cell_type": "markdown",
   "metadata": {},
   "source": [
    "### Installation"
   ]
  },
  {
   "cell_type": "markdown",
   "metadata": {},
   "source": [
    "Everything we do here will use [IPython](https://ipython.org). In the future, IPython may be called \"jupyter,\" because the project is broadening itself out from just python language interfaces, so keep that in mind. \n",
    "\n",
    "If you have a \"modern\" python installation (2.7.5+), you should have a program called `pip` installed as well. If you do (and you're on OSX or Linux), installing new python packages is a breeze:"
   ]
  },
  {
   "cell_type": "code",
   "execution_count": null,
   "metadata": {
    "collapsed": true
   },
   "outputs": [],
   "source": [
    "!pip install <PACKAGE>"
   ]
  },
  {
   "cell_type": "markdown",
   "metadata": {},
   "source": [
    "If you don't have pip, you'll need to install packages manually. Alternatively, you can use one of the major free distributions of python for scientific work, like Anaconda from Continuum.IO or Canopy from Enthought, and use their builtin frameworks to install new software:"
   ]
  },
  {
   "cell_type": "code",
   "execution_count": null,
   "metadata": {
    "collapsed": true
   },
   "outputs": [],
   "source": [
    "!conda install <PACKAGE>"
   ]
  },
  {
   "cell_type": "markdown",
   "metadata": {},
   "source": [
    "We'll be using numpy, shapely, and pysal, at minimum. Enterprising individuals are also encouraged to look at fiona and geopands. "
   ]
  },
  {
   "cell_type": "markdown",
   "metadata": {},
   "source": [
    "### Hashables"
   ]
  },
  {
   "cell_type": "markdown",
   "metadata": {},
   "source": [
    "Many times when we program, we're interested in using some kind of hierarchical data structure, where we can access some particular piece of data using its \"name.\" "
   ]
  },
  {
   "cell_type": "code",
   "execution_count": 33,
   "metadata": {
    "collapsed": true
   },
   "outputs": [],
   "source": [
    "zach_type = 'brother'"
   ]
  },
  {
   "cell_type": "code",
   "execution_count": 34,
   "metadata": {
    "collapsed": false
   },
   "outputs": [
    {
     "data": {
      "text/plain": [
       "'brother'"
      ]
     },
     "execution_count": 34,
     "metadata": {},
     "output_type": "execute_result"
    }
   ],
   "source": [
    "zach_type"
   ]
  },
  {
   "cell_type": "markdown",
   "metadata": {},
   "source": [
    "But, sometimes, we want to store a bunch of information about that person. We've taught you about tuples and lists, so you could imagine that a few lists or tuples could do this work for you, if you keep the indices together:"
   ]
  },
  {
   "cell_type": "code",
   "execution_count": 35,
   "metadata": {
    "collapsed": true
   },
   "outputs": [],
   "source": [
    "ages = [25, 23, 19]\n",
    "names = ('Zachary', 'Levi', 'Atticus')\n",
    "cities = ['Tucson', 'Phoenix', 'Flagstaff']"
   ]
  },
  {
   "cell_type": "code",
   "execution_count": 36,
   "metadata": {
    "collapsed": false
   },
   "outputs": [
    {
     "name": "stdout",
     "output_type": "stream",
     "text": [
      "Zachary : 25 , Tucson\n",
      "Levi : 23 , Phoenix\n",
      "Atticus : 19 , Flagstaff\n"
     ]
    }
   ],
   "source": [
    "for i in range(3):\n",
    "    print names[i], ':', ages[i] ,',', cities[i]"
   ]
  },
  {
   "cell_type": "markdown",
   "metadata": {},
   "source": [
    "But this is very cumbersome and, if a list gets modified, it wont be valid anymore!"
   ]
  },
  {
   "cell_type": "code",
   "execution_count": 37,
   "metadata": {
    "collapsed": false
   },
   "outputs": [],
   "source": [
    "ages.sort()"
   ]
  },
  {
   "cell_type": "code",
   "execution_count": 38,
   "metadata": {
    "collapsed": false
   },
   "outputs": [
    {
     "name": "stdout",
     "output_type": "stream",
     "text": [
      "Zachary : 19 , Tucson\n",
      "Levi : 23 , Phoenix\n",
      "Atticus : 25 , Flagstaff\n"
     ]
    }
   ],
   "source": [
    "for i in range(3):\n",
    "    print names[i], ':', ages[i] ,',', cities[i]"
   ]
  },
  {
   "cell_type": "markdown",
   "metadata": {},
   "source": [
    "You're probably used to thinking of data in *tabular* format, where all $n$ entries have $m$ columns. In python, these are usually implemented as *numpy arrays* or derivatives from there, and we'll talk about those later. For now, let's look at the information about my brothers listed above. \n",
    "\n",
    "Python uses the \"dictionary\" class to keep a \"key\" and a \"value\" together:"
   ]
  },
  {
   "cell_type": "code",
   "execution_count": 39,
   "metadata": {
    "collapsed": true
   },
   "outputs": [],
   "source": [
    "ages = {'Zachary':25, 'Levi': 23, 'Atticus':19}"
   ]
  },
  {
   "cell_type": "code",
   "execution_count": 40,
   "metadata": {
    "collapsed": false
   },
   "outputs": [
    {
     "data": {
      "text/plain": [
       "{'Atticus': 19, 'Levi': 23, 'Zachary': 25}"
      ]
     },
     "execution_count": 40,
     "metadata": {},
     "output_type": "execute_result"
    }
   ],
   "source": [
    "ages"
   ]
  },
  {
   "cell_type": "code",
   "execution_count": 48,
   "metadata": {
    "collapsed": false
   },
   "outputs": [],
   "source": [
    "ages['Levi'] = 45"
   ]
  },
  {
   "cell_type": "code",
   "execution_count": 49,
   "metadata": {
    "collapsed": false
   },
   "outputs": [
    {
     "data": {
      "text/plain": [
       "45"
      ]
     },
     "execution_count": 49,
     "metadata": {},
     "output_type": "execute_result"
    }
   ],
   "source": [
    "ages['Levi']"
   ]
  },
  {
   "cell_type": "code",
   "execution_count": 50,
   "metadata": {
    "collapsed": true
   },
   "outputs": [],
   "source": [
    "ages.update({'Eric':29})"
   ]
  },
  {
   "cell_type": "code",
   "execution_count": 51,
   "metadata": {
    "collapsed": false
   },
   "outputs": [
    {
     "data": {
      "text/plain": [
       "{'Atticus': 19, 'Eric': 29, 'Levi': 45, 'Zachary': 25}"
      ]
     },
     "execution_count": 51,
     "metadata": {},
     "output_type": "execute_result"
    }
   ],
   "source": [
    "ages"
   ]
  },
  {
   "cell_type": "markdown",
   "metadata": {},
   "source": [
    "You can nest dictoinaries within dictionaries:"
   ]
  },
  {
   "cell_type": "code",
   "execution_count": 52,
   "metadata": {
    "collapsed": true
   },
   "outputs": [],
   "source": [
    "people = {'Zachary':{}, 'Levi':{}, 'Atticus':{}}"
   ]
  },
  {
   "cell_type": "code",
   "execution_count": 53,
   "metadata": {
    "collapsed": false
   },
   "outputs": [
    {
     "data": {
      "text/plain": [
       "{}"
      ]
     },
     "execution_count": 53,
     "metadata": {},
     "output_type": "execute_result"
    }
   ],
   "source": [
    "people['Zachary']"
   ]
  },
  {
   "cell_type": "code",
   "execution_count": 54,
   "metadata": {
    "collapsed": true
   },
   "outputs": [],
   "source": [
    "people['Zachary'].update({'Age':25})\n",
    "people['Levi'].update({'Age':23})\n",
    "people['Atticus'].update({'Age':19})"
   ]
  },
  {
   "cell_type": "code",
   "execution_count": 55,
   "metadata": {
    "collapsed": false
   },
   "outputs": [
    {
     "data": {
      "text/plain": [
       "{'Atticus': {'Age': 19}, 'Levi': {'Age': 23}, 'Zachary': {'Age': 25}}"
      ]
     },
     "execution_count": 55,
     "metadata": {},
     "output_type": "execute_result"
    }
   ],
   "source": [
    "people"
   ]
  },
  {
   "cell_type": "markdown",
   "metadata": {},
   "source": [
    "And this nested approach allows us to store entire tables:"
   ]
  },
  {
   "cell_type": "code",
   "execution_count": 56,
   "metadata": {
    "collapsed": true
   },
   "outputs": [],
   "source": [
    "people['Zachary'].update({'City':'Tucson'})\n",
    "people['Levi'].update({'City':'Phoenix'})\n",
    "people['Atticus'].update({'City':'Flagstaff'})\n",
    "people['Zachary'].update({'Nickname':'Zach'})\n",
    "people['Atticus'].update({'Nickname':'Atti'})"
   ]
  },
  {
   "cell_type": "markdown",
   "metadata": {},
   "source": [
    "In addition, we can refer very concisely to the person using indexing:"
   ]
  },
  {
   "cell_type": "code",
   "execution_count": 62,
   "metadata": {
    "collapsed": false
   },
   "outputs": [
    {
     "data": {
      "text/plain": [
       "['Flagstaff', 19, 'Atti']"
      ]
     },
     "execution_count": 62,
     "metadata": {},
     "output_type": "execute_result"
    }
   ],
   "source": [
    "people['Atticus'].values()"
   ]
  },
  {
   "cell_type": "code",
   "execution_count": 58,
   "metadata": {
    "collapsed": false
   },
   "outputs": [
    {
     "data": {
      "text/plain": [
       "{'Atticus': {'Age': 19, 'City': 'Flagstaff', 'Nickname': 'Atti'},\n",
       " 'Levi': {'Age': 23, 'City': 'Phoenix'},\n",
       " 'Zachary': {'Age': 25, 'City': 'Tucson', 'Nickname': 'Zach'}}"
      ]
     },
     "execution_count": 58,
     "metadata": {},
     "output_type": "execute_result"
    }
   ],
   "source": [
    "people"
   ]
  },
  {
   "cell_type": "markdown",
   "metadata": {},
   "source": [
    "Remember, to see the methods of a class, use the `dir` function. "
   ]
  },
  {
   "cell_type": "code",
   "execution_count": 73,
   "metadata": {
    "collapsed": false
   },
   "outputs": [
    {
     "data": {
      "text/plain": [
       "['__class__',\n",
       " '__cmp__',\n",
       " '__contains__',\n",
       " '__delattr__',\n",
       " '__delitem__',\n",
       " '__doc__',\n",
       " '__eq__',\n",
       " '__format__',\n",
       " '__ge__',\n",
       " '__getattribute__',\n",
       " '__getitem__',\n",
       " '__gt__',\n",
       " '__hash__',\n",
       " '__init__',\n",
       " '__iter__',\n",
       " '__le__',\n",
       " '__len__',\n",
       " '__lt__',\n",
       " '__ne__',\n",
       " '__new__',\n",
       " '__reduce__',\n",
       " '__reduce_ex__',\n",
       " '__repr__',\n",
       " '__setattr__',\n",
       " '__setitem__',\n",
       " '__sizeof__',\n",
       " '__str__',\n",
       " '__subclasshook__',\n",
       " 'clear',\n",
       " 'copy',\n",
       " 'fromkeys',\n",
       " 'get',\n",
       " 'has_key',\n",
       " 'items',\n",
       " 'iteritems',\n",
       " 'iterkeys',\n",
       " 'itervalues',\n",
       " 'keys',\n",
       " 'pop',\n",
       " 'popitem',\n",
       " 'setdefault',\n",
       " 'update',\n",
       " 'values',\n",
       " 'viewitems',\n",
       " 'viewkeys',\n",
       " 'viewvalues']"
      ]
     },
     "execution_count": 73,
     "metadata": {},
     "output_type": "execute_result"
    }
   ],
   "source": [
    "dir(people)"
   ]
  },
  {
   "cell_type": "markdown",
   "metadata": {},
   "source": [
    "Iterating over dictionaries usually uses one of the arguments with `iter` in front. "
   ]
  },
  {
   "cell_type": "code",
   "execution_count": 66,
   "metadata": {
    "collapsed": false
   },
   "outputs": [
    {
     "name": "stdout",
     "output_type": "stream",
     "text": [
      "Levi {'City': 'Phoenix', 'Age': 23}\n",
      "Too old!\n",
      "Atticus {'City': 'Flagstaff', 'Age': 19, 'Nickname': 'Atti'}\n"
     ]
    }
   ],
   "source": [
    "for person,attrs in people.iteritems():\n",
    "    if people[person]['Age'] < 24:\n",
    "        print person, attrs\n",
    "    else:\n",
    "        print 'Too old!'"
   ]
  },
  {
   "cell_type": "markdown",
   "metadata": {},
   "source": [
    "### Problem: Reading Documentation"
   ]
  },
  {
   "cell_type": "markdown",
   "metadata": {},
   "source": [
    "Given the `people` dictionary constructed above and the python documentation [here](https://docs.python.org/2/library/stdtypes.html#mapping-types-dict), can you:\n",
    "\n",
    "1. drop Zachary from the dictionary?\n",
    "2. add yourself to the dictionary?\n",
    "3. Give Levi a nickname?\n",
    "3. check whether or not Zachary is still in the dictionary?\n",
    "4. change Levi's nickname to 'TA'?"
   ]
  },
  {
   "cell_type": "code",
   "execution_count": 67,
   "metadata": {
    "collapsed": true
   },
   "outputs": [],
   "source": [
    "del people['Zachary']"
   ]
  },
  {
   "cell_type": "code",
   "execution_count": 68,
   "metadata": {
    "collapsed": false
   },
   "outputs": [
    {
     "data": {
      "text/plain": [
       "{'Atticus': {'Age': 19, 'City': 'Flagstaff', 'Nickname': 'Atti'},\n",
       " 'Levi': {'Age': 23, 'City': 'Phoenix'}}"
      ]
     },
     "execution_count": 68,
     "metadata": {},
     "output_type": "execute_result"
    }
   ],
   "source": [
    "people"
   ]
  },
  {
   "cell_type": "code",
   "execution_count": 72,
   "metadata": {
    "collapsed": false
   },
   "outputs": [],
   "source": [
    "people.update({'Your Name': {'Nickname': None, 'City': 'Tempe'}})"
   ]
  },
  {
   "cell_type": "code",
   "execution_count": 73,
   "metadata": {
    "collapsed": false
   },
   "outputs": [
    {
     "data": {
      "text/plain": [
       "{'Atticus': {'Age': 19, 'City': 'Flagstaff', 'Nickname': 'Atti'},\n",
       " 'Levi': {'Age': 23, 'City': 'Phoenix'},\n",
       " 'Your Name': {'City': 'Tempe', 'Nickname': None}}"
      ]
     },
     "execution_count": 73,
     "metadata": {},
     "output_type": "execute_result"
    }
   ],
   "source": [
    "people"
   ]
  },
  {
   "cell_type": "code",
   "execution_count": 74,
   "metadata": {
    "collapsed": true
   },
   "outputs": [],
   "source": [
    "people['Levi'].update({'Nickname':'TA'})"
   ]
  },
  {
   "cell_type": "code",
   "execution_count": 75,
   "metadata": {
    "collapsed": false
   },
   "outputs": [
    {
     "data": {
      "text/plain": [
       "{'Atticus': {'Age': 19, 'City': 'Flagstaff', 'Nickname': 'Atti'},\n",
       " 'Levi': {'Age': 23, 'City': 'Phoenix', 'Nickname': 'TA'},\n",
       " 'Your Name': {'City': 'Tempe', 'Nickname': None}}"
      ]
     },
     "execution_count": 75,
     "metadata": {},
     "output_type": "execute_result"
    }
   ],
   "source": [
    "people"
   ]
  },
  {
   "cell_type": "code",
   "execution_count": 78,
   "metadata": {
    "collapsed": false
   },
   "outputs": [
    {
     "data": {
      "text/plain": [
       "['Levi', 'Atticus', 'Your Name']"
      ]
     },
     "execution_count": 78,
     "metadata": {},
     "output_type": "execute_result"
    }
   ],
   "source": [
    "people.has_key('Zachary')"
   ]
  },
  {
   "cell_type": "markdown",
   "metadata": {},
   "source": [
    "### Problem: Building Dictionaries from Data"
   ]
  },
  {
   "cell_type": "markdown",
   "metadata": {},
   "source": [
    "Given the code we fixed above, build a dictionary from the `calempdensity` table in `pysal`. Use a unique key for each entry. And, add the items using iteration, not manually!"
   ]
  },
  {
   "cell_type": "markdown",
   "metadata": {},
   "source": [
    "### Answer:"
   ]
  },
  {
   "cell_type": "code",
   "execution_count": 121,
   "metadata": {
    "collapsed": false
   },
   "outputs": [
    {
     "name": "stdout",
     "output_type": "stream",
     "text": [
      "import pysal as ps\r\n",
      "fp = pysal.open(pysal.examples.get_path('calempdensity.csv'))\r\n",
      "header = fp.header\r\n",
      "data = fp.read()\r\n",
      "\r\n",
      "d = {}\r\n",
      "\r\n",
      "for record in data:\r\n",
      "    d.update({record[0]:{}})\r\n",
      "    for idx, field in enumerate(header):\r\n",
      "        d[record[0]].update({field:record[idx]})\r\n"
     ]
    }
   ],
   "source": [
    "!cat 00_ex4.py"
   ]
  },
  {
   "cell_type": "markdown",
   "metadata": {},
   "source": [
    "### Ex: Dictionaries are flexible."
   ]
  },
  {
   "cell_type": "markdown",
   "metadata": {},
   "source": [
    "In python, you can define functions on the fly using a `lambda` method:"
   ]
  },
  {
   "cell_type": "code",
   "execution_count": 85,
   "metadata": {
    "collapsed": false
   },
   "outputs": [],
   "source": [
    "q = lambda x: x**2 + x"
   ]
  },
  {
   "cell_type": "code",
   "execution_count": 86,
   "metadata": {
    "collapsed": false
   },
   "outputs": [
    {
     "data": {
      "text/plain": [
       "30"
      ]
     },
     "execution_count": 86,
     "metadata": {},
     "output_type": "execute_result"
    }
   ],
   "source": [
    "q(5)"
   ]
  },
  {
   "cell_type": "markdown",
   "metadata": {},
   "source": [
    "Dictionaries can be packed with whatever you need them to be packed with:"
   ]
  },
  {
   "cell_type": "code",
   "execution_count": 121,
   "metadata": {
    "collapsed": false
   },
   "outputs": [],
   "source": [
    "d = {'show' : 'x**2 + x', 'tell' : lambda x: eval('x**2 + x', {'x':x})}"
   ]
  },
  {
   "cell_type": "code",
   "execution_count": 175,
   "metadata": {
    "collapsed": false
   },
   "outputs": [
    {
     "data": {
      "text/plain": [
       "{'show': 'x**2 + x', 'tell': <function __main__.<lambda>>}"
      ]
     },
     "execution_count": 175,
     "metadata": {},
     "output_type": "execute_result"
    }
   ],
   "source": [
    "d"
   ]
  },
  {
   "cell_type": "code",
   "execution_count": 122,
   "metadata": {
    "collapsed": false
   },
   "outputs": [
    {
     "data": {
      "text/plain": [
       "'x**2 + x'"
      ]
     },
     "execution_count": 122,
     "metadata": {},
     "output_type": "execute_result"
    }
   ],
   "source": [
    "d['show']"
   ]
  },
  {
   "cell_type": "code",
   "execution_count": 123,
   "metadata": {
    "collapsed": false
   },
   "outputs": [
    {
     "data": {
      "text/plain": [
       "42"
      ]
     },
     "execution_count": 123,
     "metadata": {},
     "output_type": "execute_result"
    }
   ],
   "source": [
    "d['tell'](6)"
   ]
  },
  {
   "cell_type": "markdown",
   "metadata": {},
   "source": [
    "The other big important kind of hashable in python is the set. It functions very similarly to sets in mathematics. "
   ]
  },
  {
   "cell_type": "code",
   "execution_count": 1,
   "metadata": {
    "collapsed": true
   },
   "outputs": [],
   "source": [
    "q = set()"
   ]
  },
  {
   "cell_type": "code",
   "execution_count": 2,
   "metadata": {
    "collapsed": true
   },
   "outputs": [],
   "source": [
    "q.update([1,2,3,4,5])"
   ]
  },
  {
   "cell_type": "code",
   "execution_count": 3,
   "metadata": {
    "collapsed": false
   },
   "outputs": [],
   "source": [
    "p = set([5,6,7,8,9,10])"
   ]
  },
  {
   "cell_type": "code",
   "execution_count": 4,
   "metadata": {
    "collapsed": false
   },
   "outputs": [
    {
     "data": {
      "text/plain": [
       "{1, 2, 3, 4, 5}"
      ]
     },
     "execution_count": 4,
     "metadata": {},
     "output_type": "execute_result"
    }
   ],
   "source": [
    "q"
   ]
  },
  {
   "cell_type": "code",
   "execution_count": 5,
   "metadata": {
    "collapsed": false
   },
   "outputs": [
    {
     "data": {
      "text/plain": [
       "{1, 2, 3, 4, 5, 6, 7, 8, 9, 10}"
      ]
     },
     "execution_count": 5,
     "metadata": {},
     "output_type": "execute_result"
    }
   ],
   "source": [
    "q.union(p)"
   ]
  },
  {
   "cell_type": "code",
   "execution_count": 6,
   "metadata": {
    "collapsed": false
   },
   "outputs": [
    {
     "data": {
      "text/plain": [
       "{5}"
      ]
     },
     "execution_count": 6,
     "metadata": {},
     "output_type": "execute_result"
    }
   ],
   "source": [
    "q.intersection(p)"
   ]
  },
  {
   "cell_type": "code",
   "execution_count": 7,
   "metadata": {
    "collapsed": false
   },
   "outputs": [
    {
     "data": {
      "text/plain": [
       "False"
      ]
     },
     "execution_count": 7,
     "metadata": {},
     "output_type": "execute_result"
    }
   ],
   "source": [
    "q.isdisjoint(p)"
   ]
  },
  {
   "cell_type": "code",
   "execution_count": 8,
   "metadata": {
    "collapsed": false
   },
   "outputs": [
    {
     "data": {
      "text/plain": [
       "{1, 2, 3, 4}"
      ]
     },
     "execution_count": 8,
     "metadata": {},
     "output_type": "execute_result"
    }
   ],
   "source": [
    "q.difference(p)"
   ]
  },
  {
   "cell_type": "code",
   "execution_count": 147,
   "metadata": {
    "collapsed": false
   },
   "outputs": [
    {
     "data": {
      "text/plain": [
       "{6, 7, 8, 9, 10}"
      ]
     },
     "execution_count": 147,
     "metadata": {},
     "output_type": "execute_result"
    }
   ],
   "source": [
    "p.difference(q)"
   ]
  },
  {
   "cell_type": "code",
   "execution_count": 9,
   "metadata": {
    "collapsed": false
   },
   "outputs": [
    {
     "data": {
      "text/plain": [
       "{1, 2, 3, 4, 6, 7, 8, 9, 10}"
      ]
     },
     "execution_count": 9,
     "metadata": {},
     "output_type": "execute_result"
    }
   ],
   "source": [
    "q.symmetric_difference(p)"
   ]
  },
  {
   "cell_type": "code",
   "execution_count": 10,
   "metadata": {
    "collapsed": true
   },
   "outputs": [],
   "source": [
    "q.discard(5)"
   ]
  },
  {
   "cell_type": "code",
   "execution_count": 11,
   "metadata": {
    "collapsed": false
   },
   "outputs": [
    {
     "data": {
      "text/plain": [
       "{1, 2, 3, 4}"
      ]
     },
     "execution_count": 11,
     "metadata": {},
     "output_type": "execute_result"
    }
   ],
   "source": [
    "q"
   ]
  },
  {
   "cell_type": "markdown",
   "metadata": {},
   "source": [
    "### Problem: Making Things Unique"
   ]
  },
  {
   "cell_type": "markdown",
   "metadata": {},
   "source": [
    "There are a few ways to make a list unique in python. But, python is a language where doing things the \"right\" way is usually also fastest, smallest, and simplest. Consider making a list of strings unique:"
   ]
  },
  {
   "cell_type": "code",
   "execution_count": 16,
   "metadata": {
    "collapsed": true
   },
   "outputs": [],
   "source": [
    "names = ['rob', 'tina', 'joe', 'sue', 'rob', 'joe']"
   ]
  },
  {
   "cell_type": "code",
   "execution_count": 17,
   "metadata": {
    "collapsed": true
   },
   "outputs": [],
   "source": [
    "results = []"
   ]
  },
  {
   "cell_type": "code",
   "execution_count": 19,
   "metadata": {
    "collapsed": false
   },
   "outputs": [],
   "source": [
    "for name in names:\n",
    "    if name not in results:\n",
    "        results.append(name)"
   ]
  },
  {
   "cell_type": "code",
   "execution_count": 20,
   "metadata": {
    "collapsed": false
   },
   "outputs": [
    {
     "data": {
      "text/plain": [
       "['rob', 'tina', 'joe', 'sue']"
      ]
     },
     "execution_count": 20,
     "metadata": {},
     "output_type": "execute_result"
    }
   ],
   "source": [
    "results"
   ]
  },
  {
   "cell_type": "code",
   "execution_count": 22,
   "metadata": {
    "collapsed": false
   },
   "outputs": [
    {
     "data": {
      "text/plain": [
       "['rob', 'joe', 'tina', 'sue']"
      ]
     },
     "execution_count": 22,
     "metadata": {},
     "output_type": "execute_result"
    }
   ],
   "source": [
    "list(set(names))"
   ]
  },
  {
   "cell_type": "markdown",
   "metadata": {},
   "source": [
    "1. Make this list of strings unique using only lists and string comparisons. \n",
    "2. Make this list of strings unique using sets."
   ]
  },
  {
   "cell_type": "markdown",
   "metadata": {},
   "source": [
    "Now, consider the list of all US counties:"
   ]
  },
  {
   "cell_type": "code",
   "execution_count": 23,
   "metadata": {
    "collapsed": false
   },
   "outputs": [],
   "source": [
    "f_counties = open('counties.txt')\n",
    "import csv\n",
    "cty = csv.reader(f_counties)\n",
    "cty.next()\n",
    "counties = []\n",
    "for line in cty:\n",
    "    counties.append(line[4])"
   ]
  },
  {
   "cell_type": "code",
   "execution_count": 24,
   "metadata": {
    "collapsed": false
   },
   "outputs": [
    {
     "data": {
      "text/plain": [
       "['Autauga County',\n",
       " 'Baldwin County',\n",
       " 'Barbour County',\n",
       " 'Bibb County',\n",
       " 'Blount County',\n",
       " 'Bullock County',\n",
       " 'Butler County',\n",
       " 'Calhoun County',\n",
       " 'Chambers County',\n",
       " 'Cherokee County',\n",
       " 'Chilton County',\n",
       " 'Choctaw County',\n",
       " 'Clarke County',\n",
       " 'Clay County',\n",
       " 'Cleburne County',\n",
       " 'Coffee County',\n",
       " 'Colbert County',\n",
       " 'Conecuh County',\n",
       " 'Coosa County',\n",
       " 'Covington County',\n",
       " 'Crenshaw County',\n",
       " 'Cullman County',\n",
       " 'Dale County',\n",
       " 'Dallas County',\n",
       " 'DeKalb County',\n",
       " 'Elmore County',\n",
       " 'Escambia County',\n",
       " 'Etowah County',\n",
       " 'Fayette County',\n",
       " 'Franklin County',\n",
       " 'Geneva County',\n",
       " 'Greene County',\n",
       " 'Hale County',\n",
       " 'Henry County',\n",
       " 'Houston County',\n",
       " 'Jackson County',\n",
       " 'Jefferson County',\n",
       " 'Lamar County',\n",
       " 'Lauderdale County',\n",
       " 'Lawrence County',\n",
       " 'Lee County',\n",
       " 'Limestone County',\n",
       " 'Lowndes County',\n",
       " 'Macon County',\n",
       " 'Madison County',\n",
       " 'Marengo County',\n",
       " 'Marion County',\n",
       " 'Marshall County',\n",
       " 'Mobile County',\n",
       " 'Monroe County',\n",
       " 'Montgomery County',\n",
       " 'Morgan County',\n",
       " 'Perry County',\n",
       " 'Pickens County',\n",
       " 'Pike County',\n",
       " 'Randolph County',\n",
       " 'Russell County',\n",
       " 'St. Clair County',\n",
       " 'Shelby County',\n",
       " 'Sumter County',\n",
       " 'Talladega County',\n",
       " 'Tallapoosa County',\n",
       " 'Tuscaloosa County',\n",
       " 'Walker County',\n",
       " 'Washington County',\n",
       " 'Wilcox County',\n",
       " 'Winston County',\n",
       " 'Aleutians East Borough',\n",
       " 'Aleutians West Census Area',\n",
       " 'Anchorage Municipality',\n",
       " 'Bethel Census Area',\n",
       " 'Bristol Bay Borough',\n",
       " 'Denali Borough',\n",
       " 'Dillingham Census Area',\n",
       " 'Fairbanks North Star Borough',\n",
       " 'Haines Borough',\n",
       " 'Hoonah-Angoon Census Area',\n",
       " 'Juneau City and Borough',\n",
       " 'Kenai Peninsula Borough',\n",
       " 'Ketchikan Gateway Borough',\n",
       " 'Kodiak Island Borough',\n",
       " 'Lake and Peninsula Borough',\n",
       " 'Matanuska-Susitna Borough',\n",
       " 'Nome Census Area',\n",
       " 'North Slope Borough',\n",
       " 'Northwest Arctic Borough',\n",
       " 'Petersburg Census Area',\n",
       " 'Prince of Wales-Hyder Census Area',\n",
       " 'Sitka City and Borough',\n",
       " 'Skagway Municipality',\n",
       " 'Southeast Fairbanks Census Area',\n",
       " 'Valdez-Cordova Census Area',\n",
       " 'Wade Hampton Census Area',\n",
       " 'Wrangell City and Borough',\n",
       " 'Yakutat City and Borough',\n",
       " 'Yukon-Koyukuk Census Area',\n",
       " 'Apache County',\n",
       " 'Cochise County',\n",
       " 'Coconino County',\n",
       " 'Gila County',\n",
       " 'Graham County',\n",
       " 'Greenlee County',\n",
       " 'La Paz County',\n",
       " 'Maricopa County',\n",
       " 'Mohave County',\n",
       " 'Navajo County',\n",
       " 'Pima County',\n",
       " 'Pinal County',\n",
       " 'Santa Cruz County',\n",
       " 'Yavapai County',\n",
       " 'Yuma County',\n",
       " 'Arkansas County',\n",
       " 'Ashley County',\n",
       " 'Baxter County',\n",
       " 'Benton County',\n",
       " 'Boone County',\n",
       " 'Bradley County',\n",
       " 'Calhoun County',\n",
       " 'Carroll County',\n",
       " 'Chicot County',\n",
       " 'Clark County',\n",
       " 'Clay County',\n",
       " 'Cleburne County',\n",
       " 'Cleveland County',\n",
       " 'Columbia County',\n",
       " 'Conway County',\n",
       " 'Craighead County',\n",
       " 'Crawford County',\n",
       " 'Crittenden County',\n",
       " 'Cross County',\n",
       " 'Dallas County',\n",
       " 'Desha County',\n",
       " 'Drew County',\n",
       " 'Faulkner County',\n",
       " 'Franklin County',\n",
       " 'Fulton County',\n",
       " 'Garland County',\n",
       " 'Grant County',\n",
       " 'Greene County',\n",
       " 'Hempstead County',\n",
       " 'Hot Spring County',\n",
       " 'Howard County',\n",
       " 'Independence County',\n",
       " 'Izard County',\n",
       " 'Jackson County',\n",
       " 'Jefferson County',\n",
       " 'Johnson County',\n",
       " 'Lafayette County',\n",
       " 'Lawrence County',\n",
       " 'Lee County',\n",
       " 'Lincoln County',\n",
       " 'Little River County',\n",
       " 'Logan County',\n",
       " 'Lonoke County',\n",
       " 'Madison County',\n",
       " 'Marion County',\n",
       " 'Miller County',\n",
       " 'Mississippi County',\n",
       " 'Monroe County',\n",
       " 'Montgomery County',\n",
       " 'Nevada County',\n",
       " 'Newton County',\n",
       " 'Ouachita County',\n",
       " 'Perry County',\n",
       " 'Phillips County',\n",
       " 'Pike County',\n",
       " 'Poinsett County',\n",
       " 'Polk County',\n",
       " 'Pope County',\n",
       " 'Prairie County',\n",
       " 'Pulaski County',\n",
       " 'Randolph County',\n",
       " 'St. Francis County',\n",
       " 'Saline County',\n",
       " 'Scott County',\n",
       " 'Searcy County',\n",
       " 'Sebastian County',\n",
       " 'Sevier County',\n",
       " 'Sharp County',\n",
       " 'Stone County',\n",
       " 'Union County',\n",
       " 'Van Buren County',\n",
       " 'Washington County',\n",
       " 'White County',\n",
       " 'Woodruff County',\n",
       " 'Yell County',\n",
       " 'Alameda County',\n",
       " 'Alpine County',\n",
       " 'Amador County',\n",
       " 'Butte County',\n",
       " 'Calaveras County',\n",
       " 'Colusa County',\n",
       " 'Contra Costa County',\n",
       " 'Del Norte County',\n",
       " 'El Dorado County',\n",
       " 'Fresno County',\n",
       " 'Glenn County',\n",
       " 'Humboldt County',\n",
       " 'Imperial County',\n",
       " 'Inyo County',\n",
       " 'Kern County',\n",
       " 'Kings County',\n",
       " 'Lake County',\n",
       " 'Lassen County',\n",
       " 'Los Angeles County',\n",
       " 'Madera County',\n",
       " 'Marin County',\n",
       " 'Mariposa County',\n",
       " 'Mendocino County',\n",
       " 'Merced County',\n",
       " 'Modoc County',\n",
       " 'Mono County',\n",
       " 'Monterey County',\n",
       " 'Napa County',\n",
       " 'Nevada County',\n",
       " 'Orange County',\n",
       " 'Placer County',\n",
       " 'Plumas County',\n",
       " 'Riverside County',\n",
       " 'Sacramento County',\n",
       " 'San Benito County',\n",
       " 'San Bernardino County',\n",
       " 'San Diego County',\n",
       " 'San Francisco County',\n",
       " 'San Joaquin County',\n",
       " 'San Luis Obispo County',\n",
       " 'San Mateo County',\n",
       " 'Santa Barbara County',\n",
       " 'Santa Clara County',\n",
       " 'Santa Cruz County',\n",
       " 'Shasta County',\n",
       " 'Sierra County',\n",
       " 'Siskiyou County',\n",
       " 'Solano County',\n",
       " 'Sonoma County',\n",
       " 'Stanislaus County',\n",
       " 'Sutter County',\n",
       " 'Tehama County',\n",
       " 'Trinity County',\n",
       " 'Tulare County',\n",
       " 'Tuolumne County',\n",
       " 'Ventura County',\n",
       " 'Yolo County',\n",
       " 'Yuba County',\n",
       " 'Adams County',\n",
       " 'Alamosa County',\n",
       " 'Arapahoe County',\n",
       " 'Archuleta County',\n",
       " 'Baca County',\n",
       " 'Bent County',\n",
       " 'Boulder County',\n",
       " 'Broomfield County',\n",
       " 'Chaffee County',\n",
       " 'Cheyenne County',\n",
       " 'Clear Creek County',\n",
       " 'Conejos County',\n",
       " 'Costilla County',\n",
       " 'Crowley County',\n",
       " 'Custer County',\n",
       " 'Delta County',\n",
       " 'Denver County',\n",
       " 'Dolores County',\n",
       " 'Douglas County',\n",
       " 'Eagle County',\n",
       " 'Elbert County',\n",
       " 'El Paso County',\n",
       " 'Fremont County',\n",
       " 'Garfield County',\n",
       " 'Gilpin County',\n",
       " 'Grand County',\n",
       " 'Gunnison County',\n",
       " 'Hinsdale County',\n",
       " 'Huerfano County',\n",
       " 'Jackson County',\n",
       " 'Jefferson County',\n",
       " 'Kiowa County',\n",
       " 'Kit Carson County',\n",
       " 'Lake County',\n",
       " 'La Plata County',\n",
       " 'Larimer County',\n",
       " 'Las Animas County',\n",
       " 'Lincoln County',\n",
       " 'Logan County',\n",
       " 'Mesa County',\n",
       " 'Mineral County',\n",
       " 'Moffat County',\n",
       " 'Montezuma County',\n",
       " 'Montrose County',\n",
       " 'Morgan County',\n",
       " 'Otero County',\n",
       " 'Ouray County',\n",
       " 'Park County',\n",
       " 'Phillips County',\n",
       " 'Pitkin County',\n",
       " 'Prowers County',\n",
       " 'Pueblo County',\n",
       " 'Rio Blanco County',\n",
       " 'Rio Grande County',\n",
       " 'Routt County',\n",
       " 'Saguache County',\n",
       " 'San Juan County',\n",
       " 'San Miguel County',\n",
       " 'Sedgwick County',\n",
       " 'Summit County',\n",
       " 'Teller County',\n",
       " 'Washington County',\n",
       " 'Weld County',\n",
       " 'Yuma County',\n",
       " 'Fairfield County',\n",
       " 'Hartford County',\n",
       " 'Litchfield County',\n",
       " 'Middlesex County',\n",
       " 'New Haven County',\n",
       " 'New London County',\n",
       " 'Tolland County',\n",
       " 'Windham County',\n",
       " 'Kent County',\n",
       " 'New Castle County',\n",
       " 'Sussex County',\n",
       " 'District of Columbia',\n",
       " 'Alachua County',\n",
       " 'Baker County',\n",
       " 'Bay County',\n",
       " 'Bradford County',\n",
       " 'Brevard County',\n",
       " 'Broward County',\n",
       " 'Calhoun County',\n",
       " 'Charlotte County',\n",
       " 'Citrus County',\n",
       " 'Clay County',\n",
       " 'Collier County',\n",
       " 'Columbia County',\n",
       " 'DeSoto County',\n",
       " 'Dixie County',\n",
       " 'Duval County',\n",
       " 'Escambia County',\n",
       " 'Flagler County',\n",
       " 'Franklin County',\n",
       " 'Gadsden County',\n",
       " 'Gilchrist County',\n",
       " 'Glades County',\n",
       " 'Gulf County',\n",
       " 'Hamilton County',\n",
       " 'Hardee County',\n",
       " 'Hendry County',\n",
       " 'Hernando County',\n",
       " 'Highlands County',\n",
       " 'Hillsborough County',\n",
       " 'Holmes County',\n",
       " 'Indian River County',\n",
       " 'Jackson County',\n",
       " 'Jefferson County',\n",
       " 'Lafayette County',\n",
       " 'Lake County',\n",
       " 'Lee County',\n",
       " 'Leon County',\n",
       " 'Levy County',\n",
       " 'Liberty County',\n",
       " 'Madison County',\n",
       " 'Manatee County',\n",
       " 'Marion County',\n",
       " 'Martin County',\n",
       " 'Miami-Dade County',\n",
       " 'Monroe County',\n",
       " 'Nassau County',\n",
       " 'Okaloosa County',\n",
       " 'Okeechobee County',\n",
       " 'Orange County',\n",
       " 'Osceola County',\n",
       " 'Palm Beach County',\n",
       " 'Pasco County',\n",
       " 'Pinellas County',\n",
       " 'Polk County',\n",
       " 'Putnam County',\n",
       " 'St. Johns County',\n",
       " 'St. Lucie County',\n",
       " 'Santa Rosa County',\n",
       " 'Sarasota County',\n",
       " 'Seminole County',\n",
       " 'Sumter County',\n",
       " 'Suwannee County',\n",
       " 'Taylor County',\n",
       " 'Union County',\n",
       " 'Volusia County',\n",
       " 'Wakulla County',\n",
       " 'Walton County',\n",
       " 'Washington County',\n",
       " 'Appling County',\n",
       " 'Atkinson County',\n",
       " 'Bacon County',\n",
       " 'Baker County',\n",
       " 'Baldwin County',\n",
       " 'Banks County',\n",
       " 'Barrow County',\n",
       " 'Bartow County',\n",
       " 'Ben Hill County',\n",
       " 'Berrien County',\n",
       " 'Bibb County',\n",
       " 'Bleckley County',\n",
       " 'Brantley County',\n",
       " 'Brooks County',\n",
       " 'Bryan County',\n",
       " 'Bulloch County',\n",
       " 'Burke County',\n",
       " 'Butts County',\n",
       " 'Calhoun County',\n",
       " 'Camden County',\n",
       " 'Candler County',\n",
       " 'Carroll County',\n",
       " 'Catoosa County',\n",
       " 'Charlton County',\n",
       " 'Chatham County',\n",
       " 'Chattahoochee County',\n",
       " 'Chattooga County',\n",
       " 'Cherokee County',\n",
       " 'Clarke County',\n",
       " 'Clay County',\n",
       " 'Clayton County',\n",
       " 'Clinch County',\n",
       " 'Cobb County',\n",
       " 'Coffee County',\n",
       " 'Colquitt County',\n",
       " 'Columbia County',\n",
       " 'Cook County',\n",
       " 'Coweta County',\n",
       " 'Crawford County',\n",
       " 'Crisp County',\n",
       " 'Dade County',\n",
       " 'Dawson County',\n",
       " 'Decatur County',\n",
       " 'DeKalb County',\n",
       " 'Dodge County',\n",
       " 'Dooly County',\n",
       " 'Dougherty County',\n",
       " 'Douglas County',\n",
       " 'Early County',\n",
       " 'Echols County',\n",
       " 'Effingham County',\n",
       " 'Elbert County',\n",
       " 'Emanuel County',\n",
       " 'Evans County',\n",
       " 'Fannin County',\n",
       " 'Fayette County',\n",
       " 'Floyd County',\n",
       " 'Forsyth County',\n",
       " 'Franklin County',\n",
       " 'Fulton County',\n",
       " 'Gilmer County',\n",
       " 'Glascock County',\n",
       " 'Glynn County',\n",
       " 'Gordon County',\n",
       " 'Grady County',\n",
       " 'Greene County',\n",
       " 'Gwinnett County',\n",
       " 'Habersham County',\n",
       " 'Hall County',\n",
       " 'Hancock County',\n",
       " 'Haralson County',\n",
       " 'Harris County',\n",
       " 'Hart County',\n",
       " 'Heard County',\n",
       " 'Henry County',\n",
       " 'Houston County',\n",
       " 'Irwin County',\n",
       " 'Jackson County',\n",
       " 'Jasper County',\n",
       " 'Jeff Davis County',\n",
       " 'Jefferson County',\n",
       " 'Jenkins County',\n",
       " 'Johnson County',\n",
       " 'Jones County',\n",
       " 'Lamar County',\n",
       " 'Lanier County',\n",
       " 'Laurens County',\n",
       " 'Lee County',\n",
       " 'Liberty County',\n",
       " 'Lincoln County',\n",
       " 'Long County',\n",
       " 'Lowndes County',\n",
       " 'Lumpkin County',\n",
       " 'McDuffie County',\n",
       " 'McIntosh County',\n",
       " 'Macon County',\n",
       " 'Madison County',\n",
       " 'Marion County',\n",
       " 'Meriwether County',\n",
       " 'Miller County',\n",
       " 'Mitchell County',\n",
       " 'Monroe County',\n",
       " 'Montgomery County',\n",
       " 'Morgan County',\n",
       " 'Murray County',\n",
       " 'Muscogee County',\n",
       " 'Newton County',\n",
       " 'Oconee County',\n",
       " 'Oglethorpe County',\n",
       " 'Paulding County',\n",
       " 'Peach County',\n",
       " 'Pickens County',\n",
       " 'Pierce County',\n",
       " 'Pike County',\n",
       " 'Polk County',\n",
       " 'Pulaski County',\n",
       " 'Putnam County',\n",
       " 'Quitman County',\n",
       " 'Rabun County',\n",
       " 'Randolph County',\n",
       " 'Richmond County',\n",
       " 'Rockdale County',\n",
       " 'Schley County',\n",
       " 'Screven County',\n",
       " 'Seminole County',\n",
       " 'Spalding County',\n",
       " 'Stephens County',\n",
       " 'Stewart County',\n",
       " 'Sumter County',\n",
       " 'Talbot County',\n",
       " 'Taliaferro County',\n",
       " 'Tattnall County',\n",
       " 'Taylor County',\n",
       " 'Telfair County',\n",
       " 'Terrell County',\n",
       " 'Thomas County',\n",
       " 'Tift County',\n",
       " 'Toombs County',\n",
       " 'Towns County',\n",
       " 'Treutlen County',\n",
       " 'Troup County',\n",
       " 'Turner County',\n",
       " 'Twiggs County',\n",
       " 'Union County',\n",
       " 'Upson County',\n",
       " 'Walker County',\n",
       " 'Walton County',\n",
       " 'Ware County',\n",
       " 'Warren County',\n",
       " 'Washington County',\n",
       " 'Wayne County',\n",
       " 'Webster County',\n",
       " 'Wheeler County',\n",
       " 'White County',\n",
       " 'Whitfield County',\n",
       " 'Wilcox County',\n",
       " 'Wilkes County',\n",
       " 'Wilkinson County',\n",
       " 'Worth County',\n",
       " 'Hawaii County',\n",
       " 'Honolulu County',\n",
       " 'Kalawao County',\n",
       " 'Kauai County',\n",
       " 'Maui County',\n",
       " 'Ada County',\n",
       " 'Adams County',\n",
       " 'Bannock County',\n",
       " 'Bear Lake County',\n",
       " 'Benewah County',\n",
       " 'Bingham County',\n",
       " 'Blaine County',\n",
       " 'Boise County',\n",
       " 'Bonner County',\n",
       " 'Bonneville County',\n",
       " 'Boundary County',\n",
       " 'Butte County',\n",
       " 'Camas County',\n",
       " 'Canyon County',\n",
       " 'Caribou County',\n",
       " 'Cassia County',\n",
       " 'Clark County',\n",
       " 'Clearwater County',\n",
       " 'Custer County',\n",
       " 'Elmore County',\n",
       " 'Franklin County',\n",
       " 'Fremont County',\n",
       " 'Gem County',\n",
       " 'Gooding County',\n",
       " 'Idaho County',\n",
       " 'Jefferson County',\n",
       " 'Jerome County',\n",
       " 'Kootenai County',\n",
       " 'Latah County',\n",
       " 'Lemhi County',\n",
       " 'Lewis County',\n",
       " 'Lincoln County',\n",
       " 'Madison County',\n",
       " 'Minidoka County',\n",
       " 'Nez Perce County',\n",
       " 'Oneida County',\n",
       " 'Owyhee County',\n",
       " 'Payette County',\n",
       " 'Power County',\n",
       " 'Shoshone County',\n",
       " 'Teton County',\n",
       " 'Twin Falls County',\n",
       " 'Valley County',\n",
       " 'Washington County',\n",
       " 'Adams County',\n",
       " 'Alexander County',\n",
       " 'Bond County',\n",
       " 'Boone County',\n",
       " 'Brown County',\n",
       " 'Bureau County',\n",
       " 'Calhoun County',\n",
       " 'Carroll County',\n",
       " 'Cass County',\n",
       " 'Champaign County',\n",
       " 'Christian County',\n",
       " 'Clark County',\n",
       " 'Clay County',\n",
       " 'Clinton County',\n",
       " 'Coles County',\n",
       " 'Cook County',\n",
       " 'Crawford County',\n",
       " 'Cumberland County',\n",
       " 'DeKalb County',\n",
       " 'De Witt County',\n",
       " 'Douglas County',\n",
       " 'DuPage County',\n",
       " 'Edgar County',\n",
       " 'Edwards County',\n",
       " 'Effingham County',\n",
       " 'Fayette County',\n",
       " 'Ford County',\n",
       " 'Franklin County',\n",
       " 'Fulton County',\n",
       " 'Gallatin County',\n",
       " 'Greene County',\n",
       " 'Grundy County',\n",
       " 'Hamilton County',\n",
       " 'Hancock County',\n",
       " 'Hardin County',\n",
       " 'Henderson County',\n",
       " 'Henry County',\n",
       " 'Iroquois County',\n",
       " 'Jackson County',\n",
       " 'Jasper County',\n",
       " 'Jefferson County',\n",
       " 'Jersey County',\n",
       " 'Jo Daviess County',\n",
       " 'Johnson County',\n",
       " 'Kane County',\n",
       " 'Kankakee County',\n",
       " 'Kendall County',\n",
       " 'Knox County',\n",
       " 'Lake County',\n",
       " 'LaSalle County',\n",
       " 'Lawrence County',\n",
       " 'Lee County',\n",
       " 'Livingston County',\n",
       " 'Logan County',\n",
       " 'McDonough County',\n",
       " 'McHenry County',\n",
       " 'McLean County',\n",
       " 'Macon County',\n",
       " 'Macoupin County',\n",
       " 'Madison County',\n",
       " 'Marion County',\n",
       " 'Marshall County',\n",
       " 'Mason County',\n",
       " 'Massac County',\n",
       " 'Menard County',\n",
       " 'Mercer County',\n",
       " 'Monroe County',\n",
       " 'Montgomery County',\n",
       " 'Morgan County',\n",
       " 'Moultrie County',\n",
       " 'Ogle County',\n",
       " 'Peoria County',\n",
       " 'Perry County',\n",
       " 'Piatt County',\n",
       " 'Pike County',\n",
       " 'Pope County',\n",
       " 'Pulaski County',\n",
       " 'Putnam County',\n",
       " 'Randolph County',\n",
       " 'Richland County',\n",
       " 'Rock Island County',\n",
       " 'St. Clair County',\n",
       " 'Saline County',\n",
       " 'Sangamon County',\n",
       " 'Schuyler County',\n",
       " 'Scott County',\n",
       " 'Shelby County',\n",
       " 'Stark County',\n",
       " 'Stephenson County',\n",
       " 'Tazewell County',\n",
       " 'Union County',\n",
       " 'Vermilion County',\n",
       " 'Wabash County',\n",
       " 'Warren County',\n",
       " 'Washington County',\n",
       " 'Wayne County',\n",
       " 'White County',\n",
       " 'Whiteside County',\n",
       " 'Will County',\n",
       " 'Williamson County',\n",
       " 'Winnebago County',\n",
       " 'Woodford County',\n",
       " 'Adams County',\n",
       " 'Allen County',\n",
       " 'Bartholomew County',\n",
       " 'Benton County',\n",
       " 'Blackford County',\n",
       " 'Boone County',\n",
       " 'Brown County',\n",
       " 'Carroll County',\n",
       " 'Cass County',\n",
       " 'Clark County',\n",
       " 'Clay County',\n",
       " 'Clinton County',\n",
       " 'Crawford County',\n",
       " 'Daviess County',\n",
       " 'Dearborn County',\n",
       " 'Decatur County',\n",
       " 'DeKalb County',\n",
       " 'Delaware County',\n",
       " 'Dubois County',\n",
       " 'Elkhart County',\n",
       " 'Fayette County',\n",
       " 'Floyd County',\n",
       " 'Fountain County',\n",
       " 'Franklin County',\n",
       " 'Fulton County',\n",
       " 'Gibson County',\n",
       " 'Grant County',\n",
       " 'Greene County',\n",
       " 'Hamilton County',\n",
       " 'Hancock County',\n",
       " 'Harrison County',\n",
       " 'Hendricks County',\n",
       " 'Henry County',\n",
       " 'Howard County',\n",
       " 'Huntington County',\n",
       " 'Jackson County',\n",
       " 'Jasper County',\n",
       " 'Jay County',\n",
       " 'Jefferson County',\n",
       " 'Jennings County',\n",
       " 'Johnson County',\n",
       " 'Knox County',\n",
       " 'Kosciusko County',\n",
       " 'LaGrange County',\n",
       " 'Lake County',\n",
       " 'LaPorte County',\n",
       " 'Lawrence County',\n",
       " 'Madison County',\n",
       " 'Marion County',\n",
       " 'Marshall County',\n",
       " 'Martin County',\n",
       " 'Miami County',\n",
       " 'Monroe County',\n",
       " 'Montgomery County',\n",
       " 'Morgan County',\n",
       " 'Newton County',\n",
       " 'Noble County',\n",
       " 'Ohio County',\n",
       " 'Orange County',\n",
       " 'Owen County',\n",
       " 'Parke County',\n",
       " 'Perry County',\n",
       " 'Pike County',\n",
       " 'Porter County',\n",
       " 'Posey County',\n",
       " 'Pulaski County',\n",
       " 'Putnam County',\n",
       " 'Randolph County',\n",
       " 'Ripley County',\n",
       " 'Rush County',\n",
       " 'St. Joseph County',\n",
       " 'Scott County',\n",
       " 'Shelby County',\n",
       " 'Spencer County',\n",
       " 'Starke County',\n",
       " 'Steuben County',\n",
       " 'Sullivan County',\n",
       " 'Switzerland County',\n",
       " 'Tippecanoe County',\n",
       " 'Tipton County',\n",
       " 'Union County',\n",
       " 'Vanderburgh County',\n",
       " 'Vermillion County',\n",
       " 'Vigo County',\n",
       " 'Wabash County',\n",
       " 'Warren County',\n",
       " 'Warrick County',\n",
       " 'Washington County',\n",
       " 'Wayne County',\n",
       " 'Wells County',\n",
       " 'White County',\n",
       " 'Whitley County',\n",
       " 'Adair County',\n",
       " 'Adams County',\n",
       " 'Allamakee County',\n",
       " 'Appanoose County',\n",
       " 'Audubon County',\n",
       " 'Benton County',\n",
       " 'Black Hawk County',\n",
       " 'Boone County',\n",
       " 'Bremer County',\n",
       " 'Buchanan County',\n",
       " 'Buena Vista County',\n",
       " 'Butler County',\n",
       " 'Calhoun County',\n",
       " 'Carroll County',\n",
       " 'Cass County',\n",
       " 'Cedar County',\n",
       " 'Cerro Gordo County',\n",
       " 'Cherokee County',\n",
       " 'Chickasaw County',\n",
       " 'Clarke County',\n",
       " 'Clay County',\n",
       " 'Clayton County',\n",
       " 'Clinton County',\n",
       " 'Crawford County',\n",
       " 'Dallas County',\n",
       " 'Davis County',\n",
       " 'Decatur County',\n",
       " 'Delaware County',\n",
       " 'Des Moines County',\n",
       " 'Dickinson County',\n",
       " 'Dubuque County',\n",
       " 'Emmet County',\n",
       " 'Fayette County',\n",
       " 'Floyd County',\n",
       " 'Franklin County',\n",
       " 'Fremont County',\n",
       " 'Greene County',\n",
       " 'Grundy County',\n",
       " 'Guthrie County',\n",
       " 'Hamilton County',\n",
       " 'Hancock County',\n",
       " 'Hardin County',\n",
       " 'Harrison County',\n",
       " 'Henry County',\n",
       " 'Howard County',\n",
       " 'Humboldt County',\n",
       " 'Ida County',\n",
       " 'Iowa County',\n",
       " 'Jackson County',\n",
       " 'Jasper County',\n",
       " 'Jefferson County',\n",
       " 'Johnson County',\n",
       " 'Jones County',\n",
       " 'Keokuk County',\n",
       " 'Kossuth County',\n",
       " 'Lee County',\n",
       " 'Linn County',\n",
       " 'Louisa County',\n",
       " 'Lucas County',\n",
       " 'Lyon County',\n",
       " 'Madison County',\n",
       " 'Mahaska County',\n",
       " 'Marion County',\n",
       " 'Marshall County',\n",
       " 'Mills County',\n",
       " 'Mitchell County',\n",
       " 'Monona County',\n",
       " 'Monroe County',\n",
       " 'Montgomery County',\n",
       " 'Muscatine County',\n",
       " \"O'Brien County\",\n",
       " 'Osceola County',\n",
       " 'Page County',\n",
       " 'Palo Alto County',\n",
       " 'Plymouth County',\n",
       " 'Pocahontas County',\n",
       " 'Polk County',\n",
       " 'Pottawattamie County',\n",
       " 'Poweshiek County',\n",
       " 'Ringgold County',\n",
       " 'Sac County',\n",
       " 'Scott County',\n",
       " 'Shelby County',\n",
       " 'Sioux County',\n",
       " 'Story County',\n",
       " 'Tama County',\n",
       " 'Taylor County',\n",
       " 'Union County',\n",
       " 'Van Buren County',\n",
       " 'Wapello County',\n",
       " 'Warren County',\n",
       " 'Washington County',\n",
       " 'Wayne County',\n",
       " 'Webster County',\n",
       " 'Winnebago County',\n",
       " 'Winneshiek County',\n",
       " 'Woodbury County',\n",
       " 'Worth County',\n",
       " 'Wright County',\n",
       " 'Allen County',\n",
       " 'Anderson County',\n",
       " 'Atchison County',\n",
       " 'Barber County',\n",
       " 'Barton County',\n",
       " 'Bourbon County',\n",
       " 'Brown County',\n",
       " 'Butler County',\n",
       " 'Chase County',\n",
       " 'Chautauqua County',\n",
       " 'Cherokee County',\n",
       " 'Cheyenne County',\n",
       " 'Clark County',\n",
       " 'Clay County',\n",
       " 'Butt County',\n",
       " 'Coffey County',\n",
       " 'Comanche County',\n",
       " 'Cowley County',\n",
       " 'Crawford County',\n",
       " 'Decatur County',\n",
       " 'Dickinson County',\n",
       " 'Doniphan County',\n",
       " 'Douglas County',\n",
       " 'Edwards County',\n",
       " 'Elk County',\n",
       " 'Ellis County',\n",
       " 'Ellsworth County',\n",
       " 'Finney County',\n",
       " 'Ford County',\n",
       " 'Franklin County',\n",
       " 'Geary County',\n",
       " 'Gove County',\n",
       " 'Graham County',\n",
       " 'Grant County',\n",
       " 'Gray County',\n",
       " 'Greeley County',\n",
       " 'Greenwood County',\n",
       " 'Hamilton County',\n",
       " 'Harper County',\n",
       " 'Harvey County',\n",
       " 'Haskell County',\n",
       " 'Hodgeman County',\n",
       " 'Jackson County',\n",
       " 'Jefferson County',\n",
       " 'Jewell County',\n",
       " 'Johnson County',\n",
       " 'Kearny County',\n",
       " 'Kingman County',\n",
       " 'Kiowa County',\n",
       " 'Labette County',\n",
       " 'Lane County',\n",
       " 'Leavenworth County',\n",
       " 'Lincoln County',\n",
       " 'Linn County',\n",
       " 'Logan County',\n",
       " 'Lyon County',\n",
       " 'McPherson County',\n",
       " 'Marion County',\n",
       " 'Marshall County',\n",
       " 'Meade County',\n",
       " 'Miami County',\n",
       " 'Mitchell County',\n",
       " 'Montgomery County',\n",
       " 'Morris County',\n",
       " 'Morton County',\n",
       " 'Nemaha County',\n",
       " 'Neosho County',\n",
       " 'Ness County',\n",
       " 'Norton County',\n",
       " 'Osage County',\n",
       " 'Osborne County',\n",
       " 'Ottawa County',\n",
       " 'Pawnee County',\n",
       " 'Phillips County',\n",
       " 'Pottawatomie County',\n",
       " 'Pratt County',\n",
       " 'Rawlins County',\n",
       " 'Reno County',\n",
       " 'Republic County',\n",
       " 'Rice County',\n",
       " 'Riley County',\n",
       " 'Rooks County',\n",
       " 'Rush County',\n",
       " 'Russell County',\n",
       " 'Saline County',\n",
       " 'Scott County',\n",
       " 'Sedgwick County',\n",
       " 'Seward County',\n",
       " 'Shawnee County',\n",
       " 'Sheridan County',\n",
       " 'Sherman County',\n",
       " 'Smith County',\n",
       " 'Stafford County',\n",
       " 'Stanton County',\n",
       " 'Stevens County',\n",
       " 'Sumner County',\n",
       " 'Thomas County',\n",
       " 'Trego County',\n",
       " 'Wabaunsee County',\n",
       " 'Wallace County',\n",
       " 'Washington County',\n",
       " 'Wichita County',\n",
       " 'Wilson County',\n",
       " 'Woodson County',\n",
       " 'Wyandotte County',\n",
       " 'Adair County',\n",
       " 'Allen County',\n",
       " 'Anderson County',\n",
       " 'Ballard County',\n",
       " 'Barren County',\n",
       " 'Bath County',\n",
       " 'Bell County',\n",
       " ...]"
      ]
     },
     "execution_count": 24,
     "metadata": {},
     "output_type": "execute_result"
    }
   ],
   "source": [
    "counties"
   ]
  },
  {
   "cell_type": "code",
   "execution_count": 27,
   "metadata": {
    "collapsed": true
   },
   "outputs": [],
   "source": [
    "uniques = list(set(counties))"
   ]
  },
  {
   "cell_type": "code",
   "execution_count": 29,
   "metadata": {
    "collapsed": false
   },
   "outputs": [],
   "source": [
    "d = dict()\n",
    "for county in uniques:\n",
    "    d.update({county:0})"
   ]
  },
  {
   "cell_type": "code",
   "execution_count": null,
   "metadata": {
    "collapsed": true
   },
   "outputs": [],
   "source": [
    "for county in counties:\n",
    "    d[county] = d[county] + 1"
   ]
  },
  {
   "cell_type": "code",
   "execution_count": 32,
   "metadata": {
    "collapsed": true
   },
   "outputs": [],
   "source": [
    "d2 = dict()"
   ]
  },
  {
   "cell_type": "code",
   "execution_count": 34,
   "metadata": {
    "collapsed": false
   },
   "outputs": [],
   "source": [
    "for county in counties:\n",
    "    #if we've havent seen it before:\n",
    "    if county not in d2:\n",
    "        d2.update({county: 1})\n",
    "    #if we HAVE seen it before:\n",
    "    else:\n",
    "        d2[county] += 1"
   ]
  },
  {
   "cell_type": "code",
   "execution_count": 35,
   "metadata": {
    "collapsed": false
   },
   "outputs": [
    {
     "data": {
      "text/plain": [
       "{'Yancey County': 1,\n",
       " 'Carson County': 1,\n",
       " 'Monroe County': 17,\n",
       " 'Sheboygan County': 1,\n",
       " 'Iosco County': 1,\n",
       " 'Stephens County': 3,\n",
       " 'Doniphan County': 1,\n",
       " 'Minidoka County': 1,\n",
       " 'Pasquotank County': 1,\n",
       " 'Bolivar County': 1,\n",
       " 'Sweet Grass County': 1,\n",
       " 'Pittsburg County': 1,\n",
       " 'Arkansas County': 1,\n",
       " 'Dukes County': 1,\n",
       " 'Blue Earth County': 1,\n",
       " 'Macoupin County': 1,\n",
       " 'Bosque County': 1,\n",
       " 'Ralls County': 1,\n",
       " 'Skamania County': 1,\n",
       " 'Kingsbury County': 1,\n",
       " 'Chemung County': 1,\n",
       " 'Alpena County': 1,\n",
       " 'Stearns County': 1,\n",
       " 'Barber County': 1,\n",
       " 'Orleans County': 2,\n",
       " 'Herkimer County': 1,\n",
       " 'Erath County': 1,\n",
       " 'Chicot County': 1,\n",
       " 'New Haven County': 1,\n",
       " 'Brevard County': 1,\n",
       " 'San Saba County': 1,\n",
       " 'Faulk County': 1,\n",
       " 'Wyandotte County': 1,\n",
       " 'Kalkaska County': 1,\n",
       " 'Defiance County': 1,\n",
       " 'Eureka County': 1,\n",
       " 'Richland Parish': 1,\n",
       " 'Clinton County': 9,\n",
       " 'Charles Mix County': 1,\n",
       " 'Evans County': 1,\n",
       " 'Ross County': 1,\n",
       " 'Holmes County': 3,\n",
       " 'Macon County': 6,\n",
       " 'Van Buren County': 4,\n",
       " 'Rapides Parish': 1,\n",
       " 'Dakota County': 2,\n",
       " 'Nemaha County': 2,\n",
       " 'Delta County': 3,\n",
       " 'Christian County': 3,\n",
       " 'Heard County': 1,\n",
       " 'Alfalfa County': 1,\n",
       " 'Grafton County': 1,\n",
       " 'Piatt County': 1,\n",
       " 'Duval County': 2,\n",
       " 'Pecos County': 1,\n",
       " 'Keith County': 1,\n",
       " 'Manitowoc County': 1,\n",
       " 'Howard County': 7,\n",
       " 'Deuel County': 2,\n",
       " 'Moultrie County': 1,\n",
       " 'Rutland County': 1,\n",
       " 'Adjuntas Municipio': 1,\n",
       " 'Yolo County': 1,\n",
       " 'Cecil County': 1,\n",
       " 'Davidson County': 2,\n",
       " 'Broomfield County': 1,\n",
       " 'Milwaukee County': 1,\n",
       " 'Sedgwick County': 2,\n",
       " 'Rabun County': 1,\n",
       " 'Grayson County': 3,\n",
       " 'Pope County': 3,\n",
       " 'Marengo County': 1,\n",
       " 'Power County': 1,\n",
       " 'Twiggs County': 1,\n",
       " 'La Salle Parish': 1,\n",
       " 'Hopkins County': 2,\n",
       " 'Kenedy County': 1,\n",
       " 'Ritchie County': 1,\n",
       " 'Travis County': 1,\n",
       " 'Edgefield County': 1,\n",
       " 'Steele County': 2,\n",
       " 'Roanoke city': 1,\n",
       " 'Wythe County': 1,\n",
       " 'Edgecombe County': 1,\n",
       " 'Rusk County': 2,\n",
       " 'Overton County': 1,\n",
       " 'McCurtain County': 1,\n",
       " 'Kaufman County': 1,\n",
       " 'Dodge County': 4,\n",
       " 'Brantley County': 1,\n",
       " 'Hutchinson County': 2,\n",
       " 'Inyo County': 1,\n",
       " 'Bailey County': 1,\n",
       " 'Arecibo Municipio': 1,\n",
       " 'Vieques Municipio': 1,\n",
       " 'Swift County': 1,\n",
       " 'Concordia Parish': 1,\n",
       " 'Trigg County': 1,\n",
       " 'Dundy County': 1,\n",
       " 'Beltrami County': 1,\n",
       " 'Whitley County': 2,\n",
       " 'Nuckolls County': 1,\n",
       " 'Oceana County': 1,\n",
       " 'Gregg County': 1,\n",
       " 'Noble County': 3,\n",
       " 'Iberia Parish': 1,\n",
       " 'Baxter County': 1,\n",
       " 'Gasconade County': 1,\n",
       " 'Bayfield County': 1,\n",
       " 'Lenawee County': 1,\n",
       " 'Powell County': 2,\n",
       " 'District of Columbia': 1,\n",
       " 'Waseca County': 1,\n",
       " 'Terry County': 1,\n",
       " 'Keokuk County': 1,\n",
       " 'Ceiba Municipio': 1,\n",
       " 'Briscoe County': 1,\n",
       " 'Kemper County': 1,\n",
       " 'Broadwater County': 1,\n",
       " 'Toa Baja Municipio': 1,\n",
       " 'DeKalb County': 6,\n",
       " 'Pontotoc County': 2,\n",
       " 'Dare County': 1,\n",
       " 'Banner County': 1,\n",
       " 'George County': 1,\n",
       " 'Pinellas County': 1,\n",
       " 'Autauga County': 1,\n",
       " 'Vega Alta Municipio': 1,\n",
       " 'Vance County': 1,\n",
       " 'Edwards County': 3,\n",
       " 'Jeff Davis County': 2,\n",
       " 'Upshur County': 2,\n",
       " 'Dorado Municipio': 1,\n",
       " 'San Juan County': 4,\n",
       " 'Zapata County': 1,\n",
       " 'Marquette County': 2,\n",
       " 'Eau Claire County': 1,\n",
       " 'Candler County': 1,\n",
       " 'Waukesha County': 1,\n",
       " 'Hughes County': 2,\n",
       " 'Petersburg city': 1,\n",
       " 'Freeborn County': 1,\n",
       " 'Garza County': 1,\n",
       " 'Ringgold County': 1,\n",
       " 'Rutherford County': 2,\n",
       " 'Santa Cruz County': 2,\n",
       " 'McDonough County': 1,\n",
       " 'Muscatine County': 1,\n",
       " 'Ray County': 1,\n",
       " 'Shawano County': 1,\n",
       " 'Beauregard Parish': 1,\n",
       " 'Chattooga County': 1,\n",
       " 'Marlboro County': 1,\n",
       " 'Sabana Grande Municipio': 1,\n",
       " 'Queens County': 1,\n",
       " 'Bartow County': 1,\n",
       " 'Dutchess County': 1,\n",
       " 'Little River County': 1,\n",
       " 'Coahoma County': 1,\n",
       " 'Berkshire County': 1,\n",
       " 'Benzie County': 1,\n",
       " 'Crockett County': 2,\n",
       " 'Lyon County': 5,\n",
       " 'Appomattox County': 1,\n",
       " 'Carter County': 5,\n",
       " 'Cabell County': 1,\n",
       " 'Poquoson city': 1,\n",
       " 'Monmouth County': 1,\n",
       " 'Kimball County': 1,\n",
       " 'Pennington County': 2,\n",
       " 'Ziebach County': 1,\n",
       " 'Garland County': 1,\n",
       " 'Southampton County': 1,\n",
       " 'Amite County': 1,\n",
       " 'Charlton County': 1,\n",
       " 'Stanly County': 1,\n",
       " 'Uinta County': 1,\n",
       " 'Andrew County': 1,\n",
       " 'Val Verde County': 1,\n",
       " 'Delaware County': 6,\n",
       " 'Ingham County': 1,\n",
       " 'Philadelphia County': 1,\n",
       " 'Vega Baja Municipio': 1,\n",
       " 'Rota Municipality': 1,\n",
       " 'Nez Perce County': 1,\n",
       " 'Keweenaw County': 1,\n",
       " 'Clallam County': 1,\n",
       " 'Santa Clara County': 1,\n",
       " 'Swisher County': 1,\n",
       " 'Barren County': 1,\n",
       " 'Cape May County': 1,\n",
       " 'Caroline County': 2,\n",
       " 'Shackelford County': 1,\n",
       " 'Tolland County': 1,\n",
       " 'Boundary County': 1,\n",
       " 'Stutsman County': 1,\n",
       " 'Sumter County': 4,\n",
       " 'Bowie County': 1,\n",
       " 'West Carroll Parish': 1,\n",
       " 'Cidra Municipio': 1,\n",
       " 'Harrisonburg city': 1,\n",
       " 'Buchanan County': 3,\n",
       " 'Sargent County': 1,\n",
       " 'Bland County': 1,\n",
       " 'Addison County': 1,\n",
       " 'Tazewell County': 2,\n",
       " 'Ocean County': 1,\n",
       " 'Day County': 1,\n",
       " 'San Lorenzo Municipio': 1,\n",
       " 'Adair County': 4,\n",
       " 'Jersey County': 1,\n",
       " 'Fentress County': 1,\n",
       " 'Mono County': 1,\n",
       " 'Oswego County': 1,\n",
       " 'Jones County': 6,\n",
       " 'Buckingham County': 1,\n",
       " 'Macomb County': 1,\n",
       " 'Saginaw County': 1,\n",
       " 'Berks County': 1,\n",
       " \"St. Mary's County\": 1,\n",
       " 'Frederick County': 2,\n",
       " 'Iredell County': 1,\n",
       " 'Passaic County': 1,\n",
       " 'Fond du Lac County': 1,\n",
       " 'Glascock County': 1,\n",
       " 'Loiza Municipio': 1,\n",
       " 'Atchison County': 2,\n",
       " 'Hartford County': 1,\n",
       " 'Dent County': 1,\n",
       " 'Greene County': 14,\n",
       " 'Franklin Parish': 1,\n",
       " 'Bell County': 2,\n",
       " 'Hockley County': 1,\n",
       " 'Valdez-Cordova Census Area': 1,\n",
       " 'Taos County': 1,\n",
       " 'Ste. Genevieve County': 1,\n",
       " 'Rincon Municipio': 1,\n",
       " 'Geary County': 1,\n",
       " 'Metcalfe County': 1,\n",
       " 'Sanilac County': 1,\n",
       " 'Harvey County': 1,\n",
       " 'Sabine County': 1,\n",
       " 'Andrews County': 1,\n",
       " 'Gilliam County': 1,\n",
       " 'St. John Island': 1,\n",
       " 'Juab County': 1,\n",
       " 'St. Lucie County': 1,\n",
       " 'Walton County': 2,\n",
       " 'New York County': 1,\n",
       " 'Magoffin County': 1,\n",
       " 'Yoakum County': 1,\n",
       " 'St. Tammany Parish': 1,\n",
       " 'Pickett County': 1,\n",
       " 'St. Croix County': 1,\n",
       " 'Somerset County': 4,\n",
       " 'Pueblo County': 1,\n",
       " 'Colbert County': 1,\n",
       " 'Preston County': 1,\n",
       " 'Josephine County': 1,\n",
       " 'Cole County': 1,\n",
       " 'Tuscarawas County': 1,\n",
       " 'Sarpy County': 1,\n",
       " 'Bond County': 1,\n",
       " 'Anne Arundel County': 1,\n",
       " 'Warrick County': 1,\n",
       " 'Colquitt County': 1,\n",
       " 'Hunt County': 1,\n",
       " 'Linn County': 4,\n",
       " 'Talbot County': 2,\n",
       " 'Bennett County': 1,\n",
       " 'Dearborn County': 1,\n",
       " 'Poweshiek County': 1,\n",
       " 'Mobile County': 1,\n",
       " 'Gila County': 1,\n",
       " 'Fairfield County': 3,\n",
       " 'Tipton County': 2,\n",
       " 'Pasco County': 1,\n",
       " 'Muskogee County': 1,\n",
       " 'Augusta County': 1,\n",
       " 'Bates County': 1,\n",
       " 'Vigo County': 1,\n",
       " 'Berrien County': 2,\n",
       " 'Foster County': 1,\n",
       " 'Wilkin County': 1,\n",
       " 'Attala County': 1,\n",
       " 'Benson County': 1,\n",
       " 'Graham County': 3,\n",
       " 'McMullen County': 1,\n",
       " 'Wolfe County': 1,\n",
       " 'Baca County': 1,\n",
       " 'Yuma County': 2,\n",
       " 'Tishomingo County': 1,\n",
       " 'El Dorado County': 1,\n",
       " 'Labette County': 1,\n",
       " 'Major County': 1,\n",
       " 'Dauphin County': 1,\n",
       " 'Hertford County': 1,\n",
       " 'Oldham County': 2,\n",
       " 'Amador County': 1,\n",
       " 'Ouachita County': 1,\n",
       " 'Luquillo Municipio': 1,\n",
       " 'Gloucester County': 2,\n",
       " 'Caddo Parish': 1,\n",
       " 'Portsmouth city': 1,\n",
       " 'Newport County': 1,\n",
       " 'Leelanau County': 1,\n",
       " 'Wasatch County': 1,\n",
       " 'Antrim County': 1,\n",
       " 'Multnomah County': 1,\n",
       " 'Elko County': 1,\n",
       " 'Kenai Peninsula Borough': 1,\n",
       " 'Beadle County': 1,\n",
       " 'Kanabec County': 1,\n",
       " 'White County': 5,\n",
       " 'Wyoming County': 3,\n",
       " 'Athens County': 1,\n",
       " 'Hillsborough County': 2,\n",
       " 'Des Moines County': 1,\n",
       " 'Alger County': 1,\n",
       " 'Aibonito Municipio': 1,\n",
       " 'Crow Wing County': 1,\n",
       " 'Fairfax County': 1,\n",
       " 'Norton County': 1,\n",
       " 'Susquehanna County': 1,\n",
       " 'Daggett County': 1,\n",
       " 'Posey County': 1,\n",
       " 'Leon County': 2,\n",
       " 'Arapahoe County': 1,\n",
       " 'Appanoose County': 1,\n",
       " 'Ashland County': 2,\n",
       " 'Roscommon County': 1,\n",
       " 'Catron County': 1,\n",
       " 'Aleutians East Borough': 1,\n",
       " 'Gray County': 2,\n",
       " 'Leavenworth County': 1,\n",
       " 'Tattnall County': 1,\n",
       " 'Laclede County': 1,\n",
       " 'Phelps County': 2,\n",
       " 'Barrow County': 1,\n",
       " 'La Salle County': 1,\n",
       " 'Venango County': 1,\n",
       " 'Izard County': 1,\n",
       " 'Alpine County': 1,\n",
       " 'Hayes County': 1,\n",
       " 'Petersburg Census Area': 1,\n",
       " 'Real County': 1,\n",
       " 'Lake County': 12,\n",
       " 'Covington County': 2,\n",
       " 'Glasscock County': 1,\n",
       " 'Lancaster County': 4,\n",
       " 'Dunn County': 2,\n",
       " 'Bear Lake County': 1,\n",
       " 'Lexington city': 1,\n",
       " 'Staunton city': 1,\n",
       " 'Arroyo Municipio': 1,\n",
       " 'Osage County': 3,\n",
       " 'Desha County': 1,\n",
       " 'Payette County': 1,\n",
       " 'Baraga County': 1,\n",
       " 'Kankakee County': 1,\n",
       " 'Box Elder County': 1,\n",
       " 'Monterey County': 1,\n",
       " 'Pacific County': 1,\n",
       " 'Valley County': 3,\n",
       " 'Skagit County': 1,\n",
       " 'Bedford County': 3,\n",
       " 'Hettinger County': 1,\n",
       " 'San Patricio County': 1,\n",
       " 'Fauquier County': 1,\n",
       " 'Kalawao County': 1,\n",
       " 'Letcher County': 1,\n",
       " 'Faulkner County': 1,\n",
       " 'Menifee County': 1,\n",
       " 'Waller County': 1,\n",
       " 'Swains Island': 1,\n",
       " 'Eddy County': 2,\n",
       " 'Twin Falls County': 1,\n",
       " 'Lonoke County': 1,\n",
       " 'North Slope Borough': 1,\n",
       " 'Republic County': 1,\n",
       " 'Lee County': 12,\n",
       " 'Currituck County': 1,\n",
       " 'Camp County': 1,\n",
       " 'Merrick County': 1,\n",
       " 'Wexford County': 1,\n",
       " \"O'Brien County\": 1,\n",
       " 'Victoria County': 1,\n",
       " 'Archuleta County': 1,\n",
       " 'Comal County': 1,\n",
       " 'Gentry County': 1,\n",
       " 'Ozark County': 1,\n",
       " 'Burnett County': 1,\n",
       " 'Carteret County': 1,\n",
       " 'Big Horn County': 2,\n",
       " 'Wirt County': 1,\n",
       " 'McLean County': 3,\n",
       " 'Kingfisher County': 1,\n",
       " 'Mercer County': 8,\n",
       " 'Nome Census Area': 1,\n",
       " 'Washington Parish': 1,\n",
       " 'Sierra County': 2,\n",
       " 'Otsego County': 2,\n",
       " 'Bibb County': 2,\n",
       " 'Glades County': 1,\n",
       " 'St. Charles County': 1,\n",
       " 'DeWitt County': 1,\n",
       " 'Walworth County': 2,\n",
       " 'Rowan County': 2,\n",
       " 'Strafford County': 1,\n",
       " 'Patillas Municipio': 1,\n",
       " 'Hanson County': 1,\n",
       " 'Vinton County': 1,\n",
       " 'Manistee County': 1,\n",
       " 'Oscoda County': 1,\n",
       " 'Hubbard County': 1,\n",
       " 'Mitchell County': 5,\n",
       " 'Idaho County': 1,\n",
       " 'Tehama County': 1,\n",
       " 'Cambria County': 1,\n",
       " 'Rio Arriba County': 1,\n",
       " 'Floyd County': 6,\n",
       " 'Winona County': 1,\n",
       " 'Brazos County': 1,\n",
       " 'Prince William County': 1,\n",
       " 'Upton County': 1,\n",
       " 'Kandiyohi County': 1,\n",
       " 'Stillwater County': 1,\n",
       " 'Norfolk city': 1,\n",
       " 'Sterling County': 1,\n",
       " 'Bennington County': 1,\n",
       " 'Tangipahoa Parish': 1,\n",
       " 'Kossuth County': 1,\n",
       " 'Stevens County': 3,\n",
       " 'Deer Lodge County': 1,\n",
       " 'Aiken County': 1,\n",
       " 'Burleson County': 1,\n",
       " 'Garvin County': 1,\n",
       " 'Yavapai County': 1,\n",
       " 'Panola County': 2,\n",
       " 'Moniteau County': 1,\n",
       " 'Jerome County': 1,\n",
       " 'Zavala County': 1,\n",
       " 'Cooke County': 1,\n",
       " 'Calhoun County': 11,\n",
       " 'Lavaca County': 1,\n",
       " 'Kanawha County': 1,\n",
       " 'Schuyler County': 3,\n",
       " 'Tuscola County': 1,\n",
       " 'Hopewell city': 1,\n",
       " 'New London County': 1,\n",
       " 'Humacao Municipio': 1,\n",
       " 'Ogle County': 1,\n",
       " 'Santa Barbara County': 1,\n",
       " 'Bastrop County': 1,\n",
       " 'Dixie County': 1,\n",
       " 'Woodward County': 1,\n",
       " 'Frio County': 1,\n",
       " 'Lucas County': 2,\n",
       " 'Oklahoma County': 1,\n",
       " 'Niagara County': 1,\n",
       " 'Lajas Municipio': 1,\n",
       " 'Transylvania County': 1,\n",
       " 'Mifflin County': 1,\n",
       " 'Cook County': 3,\n",
       " 'Ellsworth County': 1,\n",
       " 'Tuscaloosa County': 1,\n",
       " 'Jackson County': 23,\n",
       " 'Dubuque County': 1,\n",
       " 'Fleming County': 1,\n",
       " 'Comanche County': 3,\n",
       " 'Ascension Parish': 1,\n",
       " 'Kings County': 2,\n",
       " 'Hoonah-Angoon Census Area': 1,\n",
       " 'Ada County': 1,\n",
       " 'Kay County': 1,\n",
       " 'Alcorn County': 1,\n",
       " 'Iowa County': 2,\n",
       " 'Nelson County': 3,\n",
       " 'Cascade County': 1,\n",
       " 'Kitsap County': 1,\n",
       " 'Wade Hampton Census Area': 1,\n",
       " 'Cayuga County': 1,\n",
       " 'Cuming County': 1,\n",
       " 'Jack County': 1,\n",
       " 'Divide County': 1,\n",
       " 'Los Angeles County': 1,\n",
       " 'Navajo County': 1,\n",
       " 'Mineral County': 4,\n",
       " 'Lauderdale County': 3,\n",
       " 'Riley County': 1,\n",
       " 'McCormick County': 1,\n",
       " 'Belmont County': 1,\n",
       " 'Caldwell Parish': 1,\n",
       " 'Porter County': 1,\n",
       " 'Winnebago County': 3,\n",
       " 'Toa Alta Municipio': 1,\n",
       " 'Fairfax city': 1,\n",
       " 'Lake and Peninsula Borough': 1,\n",
       " 'Norfolk County': 1,\n",
       " 'Hawkins County': 1,\n",
       " 'Reeves County': 1,\n",
       " 'Ashtabula County': 1,\n",
       " 'Routt County': 1,\n",
       " 'Plaquemines Parish': 1,\n",
       " 'Pembina County': 1,\n",
       " 'Shannon County': 2,\n",
       " 'Hanover County': 1,\n",
       " 'LaMoure County': 1,\n",
       " 'St. Clair County': 4,\n",
       " 'Sequoyah County': 1,\n",
       " 'Plymouth County': 2,\n",
       " 'Sawyer County': 1,\n",
       " 'Chariton County': 1,\n",
       " 'McDuffie County': 1,\n",
       " 'Lafayette Parish': 1,\n",
       " 'Wilbarger County': 1,\n",
       " 'Terrebonne Parish': 1,\n",
       " 'Hansford County': 1,\n",
       " 'Taliaferro County': 1,\n",
       " 'Contra Costa County': 1,\n",
       " 'Camden County': 4,\n",
       " 'Tillamook County': 1,\n",
       " 'Knox County': 9,\n",
       " 'Stewart County': 2,\n",
       " 'Williamson County': 3,\n",
       " 'Moffat County': 1,\n",
       " 'Merced County': 1,\n",
       " 'Cayey Municipio': 1,\n",
       " 'Jefferson Davis County': 1,\n",
       " 'Norton city': 1,\n",
       " 'Lincoln County': 23,\n",
       " 'Whiteside County': 1,\n",
       " 'Ransom County': 1,\n",
       " 'Bradford County': 2,\n",
       " 'Chase County': 2,\n",
       " 'Weakley County': 1,\n",
       " 'Windsor County': 1,\n",
       " 'Motley County': 1,\n",
       " 'Emporia city': 1,\n",
       " 'Wakulla County': 1,\n",
       " 'Rockingham County': 3,\n",
       " 'Gwinnett County': 1,\n",
       " 'Isanti County': 1,\n",
       " 'Isabella County': 1,\n",
       " 'Edgar County': 1,\n",
       " 'Berkeley County': 2,\n",
       " 'Catawba County': 1,\n",
       " 'Coweta County': 1,\n",
       " 'McLennan County': 1,\n",
       " 'Matagorda County': 1,\n",
       " 'Black Hawk County': 1,\n",
       " 'Rooks County': 1,\n",
       " 'Sauk County': 1,\n",
       " 'Costilla County': 1,\n",
       " 'Umatilla County': 1,\n",
       " 'Colonial Heights city': 1,\n",
       " 'Tulsa County': 1,\n",
       " 'Milam County': 1,\n",
       " 'Chesterfield County': 2,\n",
       " 'St. Martin Parish': 1,\n",
       " 'Chambers County': 2,\n",
       " 'Las Piedras Municipio': 1,\n",
       " 'Gulf County': 1,\n",
       " 'Estill County': 1,\n",
       " 'Maverick County': 1,\n",
       " 'Cache County': 1,\n",
       " 'St. John the Baptist Parish': 1,\n",
       " 'Prowers County': 1,\n",
       " 'McDonald County': 1,\n",
       " 'Wharton County': 1,\n",
       " 'Robeson County': 1,\n",
       " 'Olmsted County': 1,\n",
       " 'Dougherty County': 1,\n",
       " 'Burnet County': 1,\n",
       " 'Beaver County': 3,\n",
       " 'Greenbrier County': 1,\n",
       " 'Towner County': 1,\n",
       " 'Pulaski County': 7,\n",
       " 'Hamlin County': 1,\n",
       " 'Slope County': 1,\n",
       " 'Levy County': 1,\n",
       " 'New Madrid County': 1,\n",
       " 'Casey County': 1,\n",
       " 'Prentiss County': 1,\n",
       " 'Powhatan County': 1,\n",
       " 'Vernon County': 2,\n",
       " 'Sac County': 1,\n",
       " 'Tillman County': 1,\n",
       " 'Reagan County': 1,\n",
       " 'Ozaukee County': 1,\n",
       " 'Antelope County': 1,\n",
       " 'Cameron County': 2,\n",
       " 'Langlade County': 1,\n",
       " 'Morgan County': 11,\n",
       " 'Clermont County': 1,\n",
       " 'Perry County': 10,\n",
       " 'Union Parish': 1,\n",
       " 'Sampson County': 1,\n",
       " 'Vanderburgh County': 1,\n",
       " 'Geneva County': 1,\n",
       " 'Allegan County': 1,\n",
       " 'Pottawattamie County': 1,\n",
       " 'Wichita County': 2,\n",
       " 'Martinsville city': 1,\n",
       " 'Citrus County': 1,\n",
       " 'Yukon-Koyukuk Census Area': 1,\n",
       " 'Montour County': 1,\n",
       " 'Woodruff County': 1,\n",
       " 'Walthall County': 1,\n",
       " 'La Paz County': 1,\n",
       " 'Shenandoah County': 1,\n",
       " 'Alameda County': 1,\n",
       " 'Barnes County': 1,\n",
       " 'Callahan County': 1,\n",
       " 'Reynolds County': 1,\n",
       " 'Crittenden County': 2,\n",
       " 'Richmond County': 4,\n",
       " 'Deschutes County': 1,\n",
       " 'Walsh County': 1,\n",
       " 'Columbus County': 1,\n",
       " 'Morovis Municipio': 1,\n",
       " 'Bertie County': 1,\n",
       " 'Coleman County': 1,\n",
       " 'Dewey County': 2,\n",
       " 'Atlantic County': 1,\n",
       " 'Decatur County': 5,\n",
       " 'Alleghany County': 2,\n",
       " 'McMinn County': 1,\n",
       " 'Newaygo County': 1,\n",
       " 'Talladega County': 1,\n",
       " 'Mendocino County': 1,\n",
       " 'Guadalupe County': 2,\n",
       " 'Arthur County': 1,\n",
       " 'Hampton city': 1,\n",
       " 'Pine County': 1,\n",
       " 'Issaquena County': 1,\n",
       " 'Hot Spring County': 1,\n",
       " 'Atascosa County': 1,\n",
       " 'Santa Rosa County': 1,\n",
       " 'Glenn County': 1,\n",
       " 'Gaston County': 1,\n",
       " 'Goodhue County': 1,\n",
       " 'Bent County': 1,\n",
       " 'Nicollet County': 1,\n",
       " 'Meeker County': 1,\n",
       " 'Juneau County': 1,\n",
       " 'Bowman County': 1,\n",
       " 'Crosby County': 1,\n",
       " 'Ward County': 2,\n",
       " 'Sebastian County': 1,\n",
       " 'Gallia County': 1,\n",
       " 'San Jacinto County': 1,\n",
       " 'Johnston County': 2,\n",
       " 'Okeechobee County': 1,\n",
       " 'Patrick County': 1,\n",
       " 'Orocovis Municipio': 1,\n",
       " 'Somervell County': 1,\n",
       " 'McCone County': 1,\n",
       " 'Franklin County': 24,\n",
       " 'Placer County': 1,\n",
       " 'Sharp County': 1,\n",
       " 'Stanislaus County': 1,\n",
       " 'Roane County': 2,\n",
       " 'Henry County': 10,\n",
       " 'Cassia County': 1,\n",
       " 'Loup County': 1,\n",
       " 'Cleveland County': 3,\n",
       " 'Yakutat City and Borough': 1,\n",
       " 'Harnett County': 1,\n",
       " 'Willacy County': 1,\n",
       " 'Cuyahoga County': 1,\n",
       " 'Orangeburg County': 1,\n",
       " 'Emanuel County': 1,\n",
       " 'Millard County': 1,\n",
       " 'Loudon County': 1,\n",
       " 'Becker County': 1,\n",
       " 'Cherry County': 1,\n",
       " 'Harrison County': 8,\n",
       " 'Tama County': 1,\n",
       " 'Barbour County': 2,\n",
       " 'Merrimack County': 1,\n",
       " 'Snyder County': 1,\n",
       " 'Franklin city': 1,\n",
       " 'Wheeler County': 4,\n",
       " 'Bonneville County': 1,\n",
       " 'Yuba County': 1,\n",
       " 'Thayer County': 1,\n",
       " 'Mecosta County': 1,\n",
       " 'Tensas Parish': 1,\n",
       " 'Sandusky County': 1,\n",
       " 'Barnwell County': 1,\n",
       " 'Dickenson County': 1,\n",
       " 'Oconee County': 2,\n",
       " 'Montgomery County': 18,\n",
       " 'Humphreys County': 2,\n",
       " 'Nacogdoches County': 1,\n",
       " 'Alexander County': 2,\n",
       " 'Yell County': 1,\n",
       " 'Polk County': 12,\n",
       " 'Dade County': 2,\n",
       " 'Owsley County': 1,\n",
       " 'Northwest Arctic Borough': 1,\n",
       " 'Vermilion Parish': 1,\n",
       " 'Lebanon County': 1,\n",
       " 'Tripp County': 1,\n",
       " 'Mayaguez Municipio': 1,\n",
       " 'East Baton Rouge Parish': 1,\n",
       " 'Lorain County': 1,\n",
       " 'Miami County': 3,\n",
       " 'Morrill County': 1,\n",
       " 'McCulloch County': 1,\n",
       " 'Tom Green County': 1,\n",
       " 'Rappahannock County': 1,\n",
       " 'Treasure County': 1,\n",
       " 'Whitman County': 1,\n",
       " 'Perkins County': 2,\n",
       " 'Elliott County': 1,\n",
       " 'Barnstable County': 1,\n",
       " 'Fisher County': 1,\n",
       " 'Chickasaw County': 2,\n",
       " 'Hartley County': 1,\n",
       " 'Caledonia County': 1,\n",
       " 'Schoharie County': 1,\n",
       " 'Radford city': 1,\n",
       " 'Gonzales County': 1,\n",
       " 'Tooele County': 1,\n",
       " 'Saguache County': 1,\n",
       " 'Hormigueros Municipio': 1,\n",
       " 'Lincoln Parish': 1,\n",
       " 'Coke County': 1,\n",
       " 'Pearl River County': 1,\n",
       " 'Yellowstone County': 1,\n",
       " 'Rockdale County': 1,\n",
       " 'Door County': 1,\n",
       " 'Carlton County': 1,\n",
       " 'Ionia County': 1,\n",
       " 'Potter County': 3,\n",
       " 'Lunenburg County': 1,\n",
       " 'Sherman County': 4,\n",
       " 'Upson County': 1,\n",
       " 'San Bernardino County': 1,\n",
       " 'Oliver County': 1,\n",
       " 'Maricopa County': 1,\n",
       " 'Mora County': 1,\n",
       " 'Penobscot County': 1,\n",
       " 'Cheyenne County': 3,\n",
       " 'Chatham County': 2,\n",
       " 'Falls Church city': 1,\n",
       " 'Ripley County': 2,\n",
       " 'Piute County': 1,\n",
       " 'Rock Island County': 1,\n",
       " 'Rich County': 1,\n",
       " 'Southeast Fairbanks Census Area': 1,\n",
       " 'Las Animas County': 1,\n",
       " 'Tippah County': 1,\n",
       " 'McClain County': 1,\n",
       " 'Trimble County': 1,\n",
       " 'Gratiot County': 1,\n",
       " 'White Pine County': 1,\n",
       " 'Androscoggin County': 1,\n",
       " 'Boulder County': 1,\n",
       " 'Kodiak Island Borough': 1,\n",
       " 'Craig County': 2,\n",
       " 'Copiah County': 1,\n",
       " 'Coles County': 1,\n",
       " 'Bethel Census Area': 1,\n",
       " 'Meriwether County': 1,\n",
       " 'Gosper County': 1,\n",
       " 'Furnas County': 1,\n",
       " 'Cowley County': 1,\n",
       " 'Faribault County': 1,\n",
       " 'Churchill County': 1,\n",
       " 'Winn Parish': 1,\n",
       " 'Skagway Municipality': 1,\n",
       " 'Yabucoa Municipio': 1,\n",
       " 'Benton County': 9,\n",
       " 'Rains County': 1,\n",
       " 'Dickens County': 1,\n",
       " 'Prince of Wales-Hyder Census Area': 1,\n",
       " 'Accomack County': 1,\n",
       " 'Smith County': 4,\n",
       " 'Ulster County': 1,\n",
       " \"Queen Anne's County\": 1,\n",
       " 'Maui County': 1,\n",
       " 'Mississippi County': 2,\n",
       " 'Gibson County': 2,\n",
       " 'Geauga County': 1,\n",
       " 'Cherokee County': 8,\n",
       " 'Collier County': 1,\n",
       " 'Lampasas County': 1,\n",
       " 'Lipscomb County': 1,\n",
       " 'Dyer County': 1,\n",
       " 'Juniata County': 1,\n",
       " 'Cullman County': 1,\n",
       " 'Huntingdon County': 1,\n",
       " 'Lumpkin County': 1,\n",
       " 'Gunnison County': 1,\n",
       " 'Utuado Municipio': 1,\n",
       " 'Grant County': 14,\n",
       " 'Surry County': 2,\n",
       " 'Coshocton County': 1,\n",
       " 'Quay County': 1,\n",
       " 'Stafford County': 2,\n",
       " 'Galveston County': 1,\n",
       " 'Halifax County': 2,\n",
       " 'Petroleum County': 1,\n",
       " 'Vernon Parish': 1,\n",
       " 'DeSoto County': 2,\n",
       " 'Grenada County': 1,\n",
       " 'Breathitt County': 1,\n",
       " 'McDowell County': 2,\n",
       " 'Culpeper County': 1,\n",
       " 'Livingston County': 5,\n",
       " 'Jefferson County': 25,\n",
       " 'Fajardo Municipio': 1,\n",
       " 'McKean County': 1,\n",
       " 'Rhea County': 1,\n",
       " 'Pipestone County': 1,\n",
       " 'Dickey County': 1,\n",
       " 'Penuelas Municipio': 1,\n",
       " 'Juneau City and Borough': 1,\n",
       " 'Pend Oreille County': 1,\n",
       " 'Jasper County': 8,\n",
       " 'Switzerland County': 1,\n",
       " 'Rogers County': 1,\n",
       " 'Fredericksburg city': 1,\n",
       " 'Nowata County': 1,\n",
       " 'Cameron Parish': 1,\n",
       " 'Mountrail County': 1,\n",
       " 'Bryan County': 2,\n",
       " 'Litchfield County': 1,\n",
       " 'Watauga County': 1,\n",
       " 'Bourbon County': 2,\n",
       " 'Quitman County': 2,\n",
       " 'Neshoba County': 1,\n",
       " 'Coos County': 2,\n",
       " 'Dunklin County': 1,\n",
       " 'East Carroll Parish': 1,\n",
       " 'Ben Hill County': 1,\n",
       " 'St. Helena Parish': 1,\n",
       " 'Baldwin County': 2,\n",
       " 'Colfax County': 2,\n",
       " 'Hocking County': 1,\n",
       " 'Fergus County': 1,\n",
       " 'Green Lake County': 1,\n",
       " 'Mariposa County': 1,\n",
       " 'Muskegon County': 1,\n",
       " 'Nassau County': 2,\n",
       " 'Aransas County': 1,\n",
       " 'Solano County': 1,\n",
       " 'Roberts County': 2,\n",
       " 'Pickens County': 3,\n",
       " 'Williamsburg County': 1,\n",
       " 'Frontier County': 1,\n",
       " 'Terrell County': 2,\n",
       " 'Foard County': 1,\n",
       " 'Elmore County': 2,\n",
       " 'Nolan County': 1,\n",
       " 'Meigs County': 2,\n",
       " 'Roseau County': 1,\n",
       " 'Racine County': 1,\n",
       " 'Angelina County': 1,\n",
       " 'Owen County': 2,\n",
       " 'Minnehaha County': 1,\n",
       " 'Alexandria city': 1,\n",
       " 'Bexar County': 1,\n",
       " 'Parke County': 1,\n",
       " 'Sequatchie County': 1,\n",
       " 'Bedford city': 1,\n",
       " 'Sullivan County': 6,\n",
       " 'St. Thomas Island': 1,\n",
       " 'Prince Edward County': 1,\n",
       " 'Tate County': 1,\n",
       " 'Perquimans County': 1,\n",
       " 'Stone County': 3,\n",
       " 'Mower County': 1,\n",
       " 'Tyrrell County': 1,\n",
       " 'Dolores County': 1,\n",
       " 'McKinley County': 1,\n",
       " 'Ballard County': 1,\n",
       " 'Norman County': 1,\n",
       " 'Santa Fe County': 1,\n",
       " 'Outagamie County': 1,\n",
       " 'Randall County': 1,\n",
       " 'Honolulu County': 1,\n",
       " 'Dawes County': 1,\n",
       " 'Midway Islands': 1,\n",
       " 'Audrain County': 1,\n",
       " 'Yates County': 1,\n",
       " 'Oktibbeha County': 1,\n",
       " 'Morehouse Parish': 1,\n",
       " 'Crane County': 1,\n",
       " 'Hardy County': 1,\n",
       " 'Clay County': 18,\n",
       " 'St. Mary Parish': 1,\n",
       " 'Camuy Municipio': 1,\n",
       " 'Morrow County': 2,\n",
       " 'Barton County': 2,\n",
       " 'Valencia County': 1,\n",
       " 'Tucker County': 1,\n",
       " 'Woodson County': 1,\n",
       " 'James City County': 1,\n",
       " 'Grays Harbor County': 1,\n",
       " 'Clarendon County': 1,\n",
       " 'Canyon County': 1,\n",
       " 'Richmond city': 1,\n",
       " 'Butts County': 1,\n",
       " 'Sabine Parish': 1,\n",
       " 'Chaves County': 1,\n",
       " 'Dallam County': 1,\n",
       " 'Nantucket County': 1,\n",
       " 'St. Bernard Parish': 1,\n",
       " 'Brooks County': 2,\n",
       " 'Fairbanks North Star Borough': 1,\n",
       " 'Searcy County': 1,\n",
       " 'Webster County': 7,\n",
       " 'Ventura County': 1,\n",
       " 'Taney County': 1,\n",
       " 'Western District': 1,\n",
       " 'Greenwood County': 2,\n",
       " 'Daniels County': 1,\n",
       " 'Sonoma County': 1,\n",
       " 'Emmons County': 1,\n",
       " 'Malheur County': 1,\n",
       " 'Gates County': 1,\n",
       " 'Clear Creek County': 1,\n",
       " 'Coffey County': 1,\n",
       " 'Noxubee County': 1,\n",
       " 'Canadian County': 1,\n",
       " 'Brooke County': 1,\n",
       " 'Titus County': 1,\n",
       " 'Schuylkill County': 1,\n",
       " 'Bullitt County': 1,\n",
       " 'Hancock County': 10,\n",
       " 'Charles County': 1,\n",
       " 'Rosebud County': 1,\n",
       " 'Pawnee County': 3,\n",
       " 'Lewis and Clark County': 1,\n",
       " 'Moca Municipio': 1,\n",
       " 'Los Alamos County': 1,\n",
       " 'Bullock County': 1,\n",
       " 'Throckmorton County': 1,\n",
       " 'Hickory County': 1,\n",
       " 'McHenry County': 2,\n",
       " 'Cass County': 9,\n",
       " 'Gordon County': 1,\n",
       " 'Utah County': 1,\n",
       " 'Carson City': 1,\n",
       " 'Montague County': 1,\n",
       " 'La Plata County': 1,\n",
       " 'Grand Traverse County': 1,\n",
       " 'Hudspeth County': 1,\n",
       " 'Baltimore city': 1,\n",
       " 'Coffee County': 3,\n",
       " 'Lafourche Parish': 1,\n",
       " 'Le Sueur County': 1,\n",
       " 'Weber County': 1,\n",
       " 'Schenectady County': 1,\n",
       " 'Phillips County': 4,\n",
       " 'Ida County': 1,\n",
       " 'Volusia County': 1,\n",
       " 'Rankin County': 1,\n",
       " 'Peoria County': 1,\n",
       " 'Rice County': 2,\n",
       " 'Wallowa County': 1,\n",
       " 'Love County': 1,\n",
       " 'Audubon County': 1,\n",
       " 'Butte County': 3,\n",
       " 'Wallace County': 1,\n",
       " 'Cleburne County': 2,\n",
       " 'Nicholas County': 2,\n",
       " 'Pickaway County': 1,\n",
       " 'Asotin County': 1,\n",
       " 'Mohave County': 1,\n",
       " 'Edmunds County': 1,\n",
       " 'Onslow County': 1,\n",
       " 'San Luis Obispo County': 1,\n",
       " 'Knott County': 1,\n",
       " 'Stanton County': 2,\n",
       " 'Kennebec County': 1,\n",
       " 'Presidio County': 1,\n",
       " 'Williams County': 2,\n",
       " 'Weld County': 1,\n",
       " 'Salem County': 1,\n",
       " 'Oconto County': 1,\n",
       " 'Kootenai County': 1,\n",
       " 'Giles County': 2,\n",
       " 'Chenango County': 1,\n",
       " 'Hendry County': 1,\n",
       " 'Shoshone County': 1,\n",
       " 'Allamakee County': 1,\n",
       " 'Silver Bow County': 1,\n",
       " 'Gregory County': 1,\n",
       " 'Limestone County': 2,\n",
       " 'New Castle County': 1,\n",
       " 'Westchester County': 1,\n",
       " 'Chesapeake city': 1,\n",
       " 'Boone County': 8,\n",
       " 'Scotts Bluff County': 1,\n",
       " 'Kidder County': 1,\n",
       " ...}"
      ]
     },
     "execution_count": 35,
     "metadata": {},
     "output_type": "execute_result"
    }
   ],
   "source": [
    "d2"
   ]
  },
  {
   "cell_type": "markdown",
   "metadata": {},
   "source": [
    "1. How many unique county names are there?\n",
    "2. What are the 5 most common county names? *hint: there are many ways to do this. try a dictionary.*\n",
    "3. You can time functions in python: \n",
    "\n",
    "        import time\n",
    "        start = time.time()\n",
    "        function(data)\n",
    "        stop = time.time()\n",
    "        stop - start\n",
    "How fast was your uniquifier? Can you make it faster?"
   ]
  },
  {
   "cell_type": "code",
   "execution_count": 30,
   "metadata": {
    "collapsed": false
   },
   "outputs": [
    {
     "name": "stdout",
     "output_type": "stream",
     "text": [
      "f_counties = open('counties.txt')\r\n",
      "\r\n",
      "counties = [] #you'll learn list comprehensions soon\r\n",
      "for x in f_counties.readlines():\r\n",
      "    counties.append(x.strip('\\n').split(','))\r\n",
      "\r\n",
      "#1\r\n",
      "cnames = []\r\n",
      "for l in counties:\r\n",
      "    cnames.append(l[3])\r\n",
      "\r\n",
      "cset = set(cnames)\r\n",
      "\r\n",
      "len(cset)\r\n",
      "\r\n",
      "#2\r\n",
      "a1 = time.time()\r\n",
      "cdict = dict()\r\n",
      "for county in cset:\r\n",
      "    cdict.update({county:0})\r\n",
      "for county in cnames:\r\n",
      "    cdict[county] += 1\r\n",
      "a2 = time.time()\r\n",
      "\r\n",
      "#OR\r\n",
      "\r\n",
      "b1= time.time()\r\n",
      "cdict = dict()\r\n",
      "for county in cnames:\r\n",
      "    if county in cdict.keys():\r\n",
      "        cdict[county] +=1\r\n",
      "    else:\r\n",
      "        cdict.update({county:1})\r\n",
      "b2 = time.time()\r\n",
      "\r\n",
      "#3 time.time()\r\n",
      "a2 - a1 #faster\r\n",
      "b1 - b2\r\n"
     ]
    }
   ],
   "source": [
    "!cat 00_ex6.py"
   ]
  },
  {
   "cell_type": "code",
   "execution_count": null,
   "metadata": {
    "collapsed": true
   },
   "outputs": [],
   "source": []
  }
 ],
 "metadata": {
  "kernelspec": {
   "display_name": "Python 2",
   "language": "python",
   "name": "python2"
  },
  "language_info": {
   "codemirror_mode": {
    "name": "ipython",
    "version": 2
   },
   "file_extension": ".py",
   "mimetype": "text/x-python",
   "name": "python",
   "nbconvert_exporter": "python",
   "pygments_lexer": "ipython2",
   "version": "2.7.9"
  }
 },
 "nbformat": 4,
 "nbformat_minor": 0
}
